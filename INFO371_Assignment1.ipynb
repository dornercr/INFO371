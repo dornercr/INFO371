{
  "nbformat": 4,
  "nbformat_minor": 0,
  "metadata": {
    "kernelspec": {
      "display_name": "Python 3",
      "language": "python",
      "name": "python3"
    },
    "language_info": {
      "codemirror_mode": {
        "name": "ipython",
        "version": 3
      },
      "file_extension": ".py",
      "mimetype": "text/x-python",
      "name": "python",
      "nbconvert_exporter": "python",
      "pygments_lexer": "ipython3",
      "version": "3.7.6"
    },
    "colab": {
      "provenance": [],
      "include_colab_link": true
    }
  },
  "cells": [
    {
      "cell_type": "markdown",
      "metadata": {
        "id": "view-in-github",
        "colab_type": "text"
      },
      "source": [
        "<a href=\"https://colab.research.google.com/github/dornercr/INFO371/blob/main/INFO371_Assignment1.ipynb\" target=\"_parent\"><img src=\"https://colab.research.google.com/assets/colab-badge.svg\" alt=\"Open In Colab\"/></a>"
      ]
    },
    {
      "cell_type": "markdown",
      "metadata": {
        "id": "85Z_qr_HpWBn"
      },
      "source": [
        "# Drexel University\n",
        "## College of Computing and Informatics\n",
        "## INFO 371: Data Mining Applications\n",
        "## Assignment 1\n",
        "\n",
        "## Due Date: Sunday, April. 11, 2025\n",
        "### This assignment counts for 15% of the final grade\n",
        "\n",
        "\n",
        "## **DON'T FORGET TO PUT YOUR NAME BELOW**\n",
        "\n",
        "## **NAME:**\n",
        "\n",
        "\n",
        "### A. What to Hand In\n",
        "\n",
        "1. A completed this Jupyter notebook.\n",
        "2. Any data sets used in the assignment.\n",
        "3. Any multimedia and images used in the assignment.\n",
        "\n",
        "### B. How to Hand In\n",
        "\n",
        "Submit your files through the course website in the Blackboard Learn system.\n",
        "\n",
        "### C. When to Hand In\n",
        "\n",
        "1. Submit your assignment no later than 11:59pm in the due date.\n",
        "2. There will be a 10% (absolute value) deduction for each day of lateness, to a maximum of 3 days; assignments will not be accepted beyond that point. Missing work will earn a zero grade.\n",
        "\n",
        "### D. Answer the following questions"
      ]
    },
    {
      "cell_type": "markdown",
      "metadata": {
        "id": "z5Fc-AXLpWBu"
      },
      "source": [
        "## Question 1 [20 marks]:\n",
        "Download the CSV file `stackoverflow_survey_results.csv` which contains the survey results of StackOverflow developers in 2017. Save the file to your drive.\n",
        "1. Load the CSV as a Pandas DataFrame named as `stackoverflow_surveys`.\n",
        "2. How many rows and columns in the DataFrame?\n",
        "3. Use code to list the column names of the DataFrame.\n",
        "4. Explore the data to understand the column meaning and relevance using a tool, for example, Excel. Complete the following steps to formulate a prediction problem:  \n",
        " - Select a target column (dependent variable) to predict based on your exploration.\n",
        " - Explain why you chose this column as target.\n",
        " - Identify the columns you will use as predictors (independent variables).\n",
        " - Define the Prediction Objective.\n",
        " - Discuss any potential challenges, such as missing data, imbalanced classes, or the need for feature engineering.\n"
      ]
    },
    {
      "cell_type": "code",
      "metadata": {
        "id": "Yk7oMQL1pWB0"
      },
      "source": [],
      "execution_count": null,
      "outputs": []
    },
    {
      "cell_type": "markdown",
      "metadata": {
        "id": "jBsbkcbYOzCB"
      },
      "source": [
        "## Question 2 [20 marks]:\n",
        "1. Prepare a small data set in CSV format. While you can create any data of your own interest, here are some requirements on what you should have in the data:\n",
        " * The data should have three (and only three) attributes: two numeric (numbers) attributes and one nominal (categorical) with 2 different values (2 classes);\n",
        " * The data set should have at least 40 instances.\n",
        "2. Save the data as a CSV file and Load the data as a Pandas DataFrame.\n",
        "3. Show the descriptive statistics of the data.\n",
        "4. Use matplotlib to visualize your data: x-axis and y-axis corresponding to the two numeric attribues; coloring the points with the nominal attribute.\n"
      ]
    },
    {
      "cell_type": "code",
      "metadata": {
        "id": "bdx-gEf7RdTs"
      },
      "source": [],
      "execution_count": null,
      "outputs": []
    },
    {
      "cell_type": "markdown",
      "metadata": {
        "id": "dlTtYdM1SRew"
      },
      "source": [
        "## Question 3 [60 marks] Use the data set you created in Question 2:\n",
        "1. Import KNeighborsClassifier from Scikit-Learn\n",
        "2. Import accuracy_score from Scikit-Learn\n",
        "3. Extract the two numerical attributes as training data X and the categorical attribute as target y\n",
        "4. Fit a K Nearest Neighbor classifier on X and y\n",
        "5. Predict the target labels of the training data X\n",
        "6. Compute and show the accurcy score of the KNN classifier on the training data X\n",
        "7. By default, how many nearest neighbors are used in the model?\n",
        "8. Use different number of nearest neighbors; test K = 1, 2, 3 and show the accuracy results.\n",
        "9. Does the value of K affect the performance? Why or Why not?"
      ]
    },
    {
      "cell_type": "code",
      "metadata": {
        "id": "PaJZd7leUqzW"
      },
      "source": [],
      "execution_count": null,
      "outputs": []
    }
  ]
}