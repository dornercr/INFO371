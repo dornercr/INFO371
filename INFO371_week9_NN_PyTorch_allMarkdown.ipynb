{
  "nbformat": 4,
  "nbformat_minor": 0,
  "metadata": {
    "colab": {
      "provenance": [],
      "gpuType": "T4",
      "include_colab_link": true
    },
    "kernelspec": {
      "name": "python3",
      "display_name": "Python 3"
    },
    "language_info": {
      "name": "python"
    },
    "accelerator": "GPU"
  },
  "cells": [
    {
      "cell_type": "markdown",
      "metadata": {
        "id": "view-in-github",
        "colab_type": "text"
      },
      "source": [
        "<a href=\"https://colab.research.google.com/github/dornercr/INFO371/blob/main/INFO371_week9_NN_PyTorch_allMarkdown.ipynb\" target=\"_parent\"><img src=\"https://colab.research.google.com/assets/colab-badge.svg\" alt=\"Open In Colab\"/></a>"
      ]
    },
    {
      "cell_type": "markdown",
      "metadata": {
        "id": "ADxFD_qNz_6L"
      },
      "source": [
        "# INFO 371: Data Mining Applications\n",
        "\n",
        "## Week 9: Deep Neural Networks with Pytorch\n",
        "### Prof. Charles Dorner, EdD (Candidate)\n",
        "### College of Computing and Informatics, Drexel University"
      ]
    },
    {
      "cell_type": "markdown",
      "source": [
        "## Data representations for neural networks\n",
        "\n",
        "In general, all current neural network systems use tensors as their basic data structure.\n",
        "\n",
        "### What’s a tensor?\n",
        "\n",
        "- A tensor is a container for data.\n",
        "- For example, matrices are 2D tensors.\n",
        "- Tensors are a generalization of matrices to an arbitrary number of dimensions (note that in the context of tensors, a dimension is often called an axis).\n",
        "- In deep learning, we generally manipulate tensors that are 0D to 4D, with the possibilit of going up to 5D for video data.\n",
        "\n",
        "\n",
        "\n",
        "> Here's a figure visualizing tensors:\n",
        "![tensors](https://res.cloudinary.com/practicaldev/image/fetch/s--VaxrSdrA--/c_limit%2Cf_auto%2Cfl_progressive%2Cq_auto%2Cw_880/https://thepracticaldev.s3.amazonaws.com/i/bp6ux6ppf5t5amwkxklq.jpg)\n",
        "\n"
      ],
      "metadata": {
        "id": "_xgnKRjOVDS7"
      }
    },
    {
      "cell_type": "markdown",
      "source": [
        "### Key Attributes of Tensors:\n",
        "\n",
        "A tensor is defined by three key attributes:\n",
        "\n",
        "- Number of axes (rank)—For instance, a 3D tensor has three axes, and a matrix has two axes. This is also called the tensor’s ndim in Python libraries such as Numpy.\n",
        "\n",
        "- Shape—This is a tuple of integers that describes how many dimensions the tensor has along each axis. For instance, the previous matrix example has shape  (3,5) , and the 3D tensor example has shape  (3,3,5) . A vector has a shape with a single element, such as  (5,) , whereas a scalar has an empty shape,  () .\n",
        "\n",
        "- Data type (usually called dtype in Python libraries)—This is the type of the data contained in the tensor; for instance, a tensor’s type could be float32, uint8, float64, and so on. On rare occasions, you may see a char tensor. Note that string tensors don’t exist in Numpy (or in most other libraries), because tensors live in preallocated, contiguous memory segments: and strings, being variable length, would preclude the use of this implementation."
      ],
      "metadata": {
        "id": "_RM19VyFWN7M"
      }
    },
    {
      "cell_type": "markdown",
      "metadata": {
        "tags": [],
        "id": "Jxntpn_RC3qO"
      },
      "source": [
        "# Deep Neural Networks with PyTorch"
      ]
    },
    {
      "cell_type": "markdown",
      "source": [
        "```\n",
        "import numpy as np\n",
        "import pandas as pd\n",
        "import matplotlib\n",
        "import torch\n",
        "```"
      ],
      "metadata": {
        "id": "ez72s61N9YVE"
      }
    },
    {
      "cell_type": "code",
      "source": [
        "import numpy as np\n",
        "import pandas as pd\n",
        "import matplotlib\n",
        "import torch"
      ],
      "metadata": {
        "id": "dxngyuEXqS48"
      },
      "execution_count": 1,
      "outputs": []
    },
    {
      "cell_type": "markdown",
      "metadata": {
        "id": "DmDiz5lmC3qT"
      },
      "source": [
        "## What is PyTorch?\n",
        "- PyTorch is a scalable and multiplatform programming interface for implementing and running machine learning algorithms, including convenience wrappers for deep learning.\n",
        "- PyTorch was primarily developed by the researchers and engineers from the Facebook AI Research (FAIR) lab.\n",
        "- PyTorch was initially released in September\n",
        "2016 and is free and open source under the modified BSD license. - PyTorch has been adopted to develop deep learning\n",
        "solutions, such as Tesla Autopilot, Uber’s Pyro, and Hugging Face’s Transformers (https://pytorch.org/ecosystem/)."
      ]
    },
    {
      "cell_type": "markdown",
      "metadata": {
        "id": "aGtRpcjEC3qT"
      },
      "source": [
        "### Creating tensors in PyTorch"
      ]
    },
    {
      "cell_type": "markdown",
      "metadata": {
        "id": "chrgUTY_C3qT",
        "outputId": "cd8e3b7b-26a2-46ba-975a-d2a9a6ce59b1"
      },
      "source": [
        "```\n",
        "a = [1, 2, 3]\n",
        "b = np.array([4, 5, 6], dtype=np.int32)\n",
        "\n",
        "t_a = torch.tensor(a)\n",
        "t_b = torch.from_numpy(b)\n",
        "\n",
        "print(t_a)\n",
        "print(t_b)\n",
        "```"
      ]
    },
    {
      "cell_type": "code",
      "source": [
        "\n",
        "\n",
        "a = [1, 2, 3]\n",
        "b = np.array([4, 5, 6], dtype=np.int32)\n",
        "\n",
        "t_a = torch.tensor(a)\n",
        "t_b = torch.from_numpy(b)\n",
        "\n",
        "print(t_a)\n",
        "print(t_b)\n",
        "\n"
      ],
      "metadata": {
        "id": "TVUYe3k1qgz8",
        "outputId": "a3648a58-fe7a-4d34-fa45-c7bad3a5f305",
        "colab": {
          "base_uri": "https://localhost:8080/",
          "height": 0
        }
      },
      "execution_count": 2,
      "outputs": [
        {
          "output_type": "stream",
          "name": "stdout",
          "text": [
            "tensor([1, 2, 3])\n",
            "tensor([4, 5, 6], dtype=torch.int32)\n"
          ]
        }
      ]
    },
    {
      "cell_type": "markdown",
      "metadata": {
        "id": "4mILGYQeC3qU",
        "outputId": "214a36ee-e99f-4c47-bb06-275df02454e0"
      },
      "source": [
        "```\n",
        "rand_tensor = torch.rand(2,3)\n",
        "\n",
        "print(rand_tensor)\n",
        "```"
      ]
    },
    {
      "cell_type": "code",
      "source": [
        "\n",
        "\n",
        "rand_tensor = torch.rand(2,3)\n",
        "\n",
        "print(rand_tensor)\n",
        "\n"
      ],
      "metadata": {
        "id": "RWAqj4lkqiB-",
        "outputId": "719fd68b-190f-4b64-ff7f-c62111ffe3d9",
        "colab": {
          "base_uri": "https://localhost:8080/",
          "height": 0
        }
      },
      "execution_count": 3,
      "outputs": [
        {
          "output_type": "stream",
          "name": "stdout",
          "text": [
            "tensor([[0.4760, 0.9393, 0.3624],\n",
            "        [0.3755, 0.1906, 0.6702]])\n"
          ]
        }
      ]
    },
    {
      "cell_type": "markdown",
      "metadata": {
        "id": "3jCzW-BAC3qa"
      },
      "source": [
        "### Creating a PyTorch DataLoader from existing tensors"
      ]
    },
    {
      "cell_type": "markdown",
      "metadata": {
        "id": "iVF1ivUHC3qa"
      },
      "source": [
        "```\n",
        "from torch.utils.data import DataLoader\n",
        "```"
      ]
    },
    {
      "cell_type": "code",
      "source": [
        "from torch.utils.data import DataLoader\n"
      ],
      "metadata": {
        "id": "7WEVGKHeqjIk"
      },
      "execution_count": 4,
      "outputs": []
    },
    {
      "cell_type": "markdown",
      "metadata": {
        "id": "Gn3rf183C3qa",
        "outputId": "761a0109-ec08-4390-be8c-ea45a4e9d99f"
      },
      "source": [
        "```\n",
        "t = torch.arange(6, dtype=torch.float32)\n",
        "\n",
        "data_loader = DataLoader(t, batch_size=3, drop_last=False)\n",
        "\n",
        "for i, batch in enumerate(data_loader, 1):\n",
        "    print(f'batch {i}:', batch)\n",
        "```"
      ]
    },
    {
      "cell_type": "code",
      "source": [
        "\n",
        "\n",
        "t = torch.arange(6, dtype=torch.float32)\n",
        "\n",
        "data_loader = DataLoader(t, batch_size=3, drop_last=False)\n",
        "\n",
        "for i, batch in enumerate(data_loader, 1):\n",
        "    print(f'batch {i}:', batch)\n",
        "\n"
      ],
      "metadata": {
        "id": "hMYSZr_Rqlv4",
        "outputId": "8426cfd4-1626-4f0d-b837-93e4143b94b2",
        "colab": {
          "base_uri": "https://localhost:8080/",
          "height": 0
        }
      },
      "execution_count": 5,
      "outputs": [
        {
          "output_type": "stream",
          "name": "stdout",
          "text": [
            "batch 1: tensor([0., 1., 2.])\n",
            "batch 2: tensor([3., 4., 5.])\n"
          ]
        }
      ]
    },
    {
      "cell_type": "markdown",
      "source": [
        "## Build a NN for Image Classification with PyTorch"
      ],
      "metadata": {
        "id": "UpsJIMvSmvzA"
      }
    },
    {
      "cell_type": "markdown",
      "metadata": {
        "id": "hkiM2EVEC3qb"
      },
      "source": [
        "### Fetching available datasets from the torchvision.datasets library"
      ]
    },
    {
      "cell_type": "markdown",
      "metadata": {
        "id": "Els0wJ_yC3qc"
      },
      "source": [
        "```\n",
        "import torch\n",
        "from torch import nn\n",
        "from torch.utils.data import DataLoader\n",
        "from torchvision import datasets\n",
        "from torchvision.transforms import ToTensor\n",
        "```"
      ]
    },
    {
      "cell_type": "code",
      "source": [
        "\n",
        "\n",
        "import torch\n",
        "from torch import nn\n",
        "from torch.utils.data import DataLoader\n",
        "from torchvision import datasets\n",
        "from torchvision.transforms import ToTensor\n",
        "\n"
      ],
      "metadata": {
        "id": "tvldEbdfqnM6"
      },
      "execution_count": 6,
      "outputs": []
    },
    {
      "cell_type": "markdown",
      "source": [
        "```\n",
        "# Download training data from open datasets.\n",
        "training_data = datasets.FashionMNIST(\n",
        "    root=\"data\",\n",
        "    train=True,\n",
        "    download=True,\n",
        "    transform=ToTensor(),\n",
        ")\n",
        "```"
      ],
      "metadata": {
        "id": "Zt_ChKi9jjSE",
        "outputId": "a567f05b-f275-4dd7-981c-59e8ce3ed523"
      }
    },
    {
      "cell_type": "code",
      "source": [
        "\n",
        "\n",
        "# Download training data from open datasets.\n",
        "training_data = datasets.FashionMNIST(\n",
        "    root=\"data\",\n",
        "    train=True,\n",
        "    download=True,\n",
        "    transform=ToTensor(),\n",
        ")\n",
        "\n"
      ],
      "metadata": {
        "id": "tYfFkzRvqo4h",
        "outputId": "43a1c9ca-04ea-4a0a-a3cb-facca725bf4c",
        "colab": {
          "base_uri": "https://localhost:8080/",
          "height": 0
        }
      },
      "execution_count": 7,
      "outputs": [
        {
          "output_type": "stream",
          "name": "stderr",
          "text": [
            "100%|██████████| 26.4M/26.4M [00:02<00:00, 12.7MB/s]\n",
            "100%|██████████| 29.5k/29.5k [00:00<00:00, 203kB/s]\n",
            "100%|██████████| 4.42M/4.42M [00:01<00:00, 3.31MB/s]\n",
            "100%|██████████| 5.15k/5.15k [00:00<00:00, 11.2MB/s]\n"
          ]
        }
      ]
    },
    {
      "cell_type": "markdown",
      "source": [
        "```\n",
        "# Download test data from open datasets.\n",
        "test_data = datasets.FashionMNIST(\n",
        "    root=\"data\",\n",
        "    train=False,\n",
        "    download=True,\n",
        "    transform=ToTensor(),\n",
        ")\n",
        "```"
      ],
      "metadata": {
        "id": "MvIUF60NjruU"
      }
    },
    {
      "cell_type": "code",
      "source": [
        "\n",
        "\n",
        "# Download test data from open datasets.\n",
        "test_data = datasets.FashionMNIST(\n",
        "    root=\"data\",\n",
        "    train=False,\n",
        "    download=True,\n",
        "    transform=ToTensor(),\n",
        ")\n",
        "\n"
      ],
      "metadata": {
        "id": "C80EFmqVqrtl"
      },
      "execution_count": 8,
      "outputs": []
    },
    {
      "cell_type": "markdown",
      "source": [
        "```\n",
        "training_data.classes\n",
        "```"
      ],
      "metadata": {
        "id": "abzsvOVfkHV6",
        "outputId": "3e001ead-bf94-4020-be7b-9aae2b6d5621"
      }
    },
    {
      "cell_type": "code",
      "source": [
        "training_data.classes"
      ],
      "metadata": {
        "id": "b0sKYviWqsxR",
        "outputId": "0dedfb63-dfc5-454b-bc71-bd805f13a094",
        "colab": {
          "base_uri": "https://localhost:8080/",
          "height": 0
        }
      },
      "execution_count": 9,
      "outputs": [
        {
          "output_type": "execute_result",
          "data": {
            "text/plain": [
              "['T-shirt/top',\n",
              " 'Trouser',\n",
              " 'Pullover',\n",
              " 'Dress',\n",
              " 'Coat',\n",
              " 'Sandal',\n",
              " 'Shirt',\n",
              " 'Sneaker',\n",
              " 'Bag',\n",
              " 'Ankle boot']"
            ]
          },
          "metadata": {},
          "execution_count": 9
        }
      ]
    },
    {
      "cell_type": "markdown",
      "source": [
        "```\n",
        "# Get the training dataset size\n",
        "print(f\"Number of training images in training_data: {len(training_data)}\")\n",
        "\n",
        "# Get shape of one image\n",
        "image, label = training_data[0]  # Get the first image\n",
        "print(f\"Shape of one training image: {image.shape}\")  # (C, H, W) format in PyTorch\n",
        "```"
      ],
      "metadata": {
        "id": "00mgzcUUlbFy",
        "outputId": "596f13ec-9aea-4010-f3e0-d12d0a2dfe19"
      }
    },
    {
      "cell_type": "code",
      "source": [
        "\n",
        "\n",
        "# Get the training dataset size\n",
        "print(f\"Number of training images in training_data: {len(training_data)}\")\n",
        "\n",
        "# Get shape of one image\n",
        "image, label = training_data[0]  # Get the first image\n",
        "print(f\"Shape of one training image: {image.shape}\")  # (C, H, W) format in PyTorch\n",
        "\n"
      ],
      "metadata": {
        "id": "mbMAf2DFqt7x",
        "outputId": "5ea21b13-8d3e-4a6c-a98d-dfbb4c5df552",
        "colab": {
          "base_uri": "https://localhost:8080/",
          "height": 0
        }
      },
      "execution_count": 10,
      "outputs": [
        {
          "output_type": "stream",
          "name": "stdout",
          "text": [
            "Number of training images in training_data: 60000\n",
            "Shape of one training image: torch.Size([1, 28, 28])\n"
          ]
        }
      ]
    },
    {
      "cell_type": "markdown",
      "source": [
        "```\n",
        "# Get test dataset size\n",
        "print(f\"Number of test images in test_data: {len(test_data)}\")\n",
        "\n",
        "# Get shape of one image\n",
        "image, label = test_data[0]  # Get the first image\n",
        "print(f\"Shape of one test image: {image.shape}\")  # (C, H, W) format in PyTorch\n",
        "```"
      ],
      "metadata": {
        "id": "WGagO1vgluYL",
        "outputId": "c6d17262-f986-4f30-fd1c-263eb8a45af3"
      }
    },
    {
      "cell_type": "code",
      "source": [
        "\n",
        "\n",
        "# Get test dataset size\n",
        "print(f\"Number of test images in test_data: {len(test_data)}\")\n",
        "\n",
        "# Get shape of one image\n",
        "image, label = test_data[0]  # Get the first image\n",
        "print(f\"Shape of one test image: {image.shape}\")  # (C, H, W) format in PyTorch\n",
        "\n"
      ],
      "metadata": {
        "id": "vX1aVsaKqvJr",
        "outputId": "d5ee7474-abd0-4f64-8e84-d072e4420766",
        "colab": {
          "base_uri": "https://localhost:8080/",
          "height": 0
        }
      },
      "execution_count": 11,
      "outputs": [
        {
          "output_type": "stream",
          "name": "stdout",
          "text": [
            "Number of test images in test_data: 10000\n",
            "Shape of one test image: torch.Size([1, 28, 28])\n"
          ]
        }
      ]
    },
    {
      "cell_type": "markdown",
      "source": [
        "```\n",
        "from matplotlib import pyplot as plt\n",
        "\n",
        "# Class labels for FashionMNIST\n",
        "class_names = training_data.classes  # List of class names\n",
        "\n",
        "# Plot the first 10 images\n",
        "fig, axes = plt.subplots(2, 5, figsize=(10, 5))\n",
        "\n",
        "for i, ax in enumerate(axes.flat):\n",
        "    image, label = training_data[i]  # Get image and label\n",
        "    #ax.imshow(image.squeeze(), cmap='gray')  # Remove channel dimension & plot\n",
        "    ax.imshow(image.squeeze())\n",
        "    ax.set_title(class_names[label])  # Set title to class name\n",
        "    ax.axis(\"off\")  # Hide axes\n",
        "\n",
        "plt.tight_layout()\n",
        "plt.show()\n",
        "```"
      ],
      "metadata": {
        "id": "FMwzZ3jej7OX",
        "outputId": "7978de38-5af2-460c-85b8-f6195c67a0ac"
      }
    },
    {
      "cell_type": "code",
      "source": [
        "\n",
        "\n",
        "from matplotlib import pyplot as plt\n",
        "\n",
        "# Class labels for FashionMNIST\n",
        "class_names = training_data.classes  # List of class names\n",
        "\n",
        "# Plot the first 10 images\n",
        "fig, axes = plt.subplots(2, 5, figsize=(10, 5))\n",
        "\n",
        "for i, ax in enumerate(axes.flat):\n",
        "    image, label = training_data[i]  # Get image and label\n",
        "    #ax.imshow(image.squeeze(), cmap='gray')  # Remove channel dimension & plot\n",
        "    ax.imshow(image.squeeze())\n",
        "    ax.set_title(class_names[label])  # Set title to class name\n",
        "    ax.axis(\"off\")  # Hide axes\n",
        "\n",
        "plt.tight_layout()\n",
        "plt.show()\n",
        "\n"
      ],
      "metadata": {
        "id": "eiyLGCzGqwgJ",
        "outputId": "bb6fa018-44a4-4fbb-9769-1ebd6f75c63c",
        "colab": {
          "base_uri": "https://localhost:8080/",
          "height": 473
        }
      },
      "execution_count": 12,
      "outputs": [
        {
          "output_type": "display_data",
          "data": {
            "text/plain": [
              "<Figure size 1000x500 with 10 Axes>"
            ],
            "image/png": "[encoded data removed]"
          },
          "metadata": {}
        }
      ]
    },
    {
      "cell_type": "markdown",
      "source": [
        "### Create DataLoader for Pytorch model\n",
        "- We pass the Dataset as an argument to DataLoader.\n",
        "- This wraps an iterable over our dataset, and supports automatic batching, sampling, shuffling and multiprocess data loading."
      ],
      "metadata": {
        "id": "VUYzN6wEmFAW"
      }
    },
    {
      "cell_type": "markdown",
      "source": [
        "```\n",
        "batch_size = 64\n",
        "\n",
        "# Create data loaders.\n",
        "train_dataloader = DataLoader(training_data, batch_size=batch_size)\n",
        "test_dataloader = DataLoader(test_data, batch_size=batch_size)\n",
        "\n",
        "for X, y in test_dataloader:\n",
        "    print(f\"Shape of one batch X [N, C, H, W]: {X.shape}\")\n",
        "    print(f\"Shape of one batch y: {y.shape} {y.dtype}\")\n",
        "    break\n",
        "```"
      ],
      "metadata": {
        "id": "8G6FVNhI-hnH",
        "outputId": "fbb9901e-e21d-41e2-c051-2e0521223ba1"
      }
    },
    {
      "cell_type": "code",
      "source": [
        "\n",
        "\n",
        "batch_size = 64\n",
        "\n",
        "# Create data loaders.\n",
        "train_dataloader = DataLoader(training_data, batch_size=batch_size)\n",
        "test_dataloader = DataLoader(test_data, batch_size=batch_size)\n",
        "\n",
        "for X, y in test_dataloader:\n",
        "    print(f\"Shape of one batch X [N, C, H, W]: {X.shape}\")\n",
        "    print(f\"Shape of one batch y: {y.shape} {y.dtype}\")\n",
        "    break\n",
        "\n"
      ],
      "metadata": {
        "id": "Q_qwJtOKqy5r",
        "outputId": "2497a221-eb47-41cc-a464-838cec6e7811",
        "colab": {
          "base_uri": "https://localhost:8080/",
          "height": 0
        }
      },
      "execution_count": 13,
      "outputs": [
        {
          "output_type": "stream",
          "name": "stdout",
          "text": [
            "Shape of one batch X [N, C, H, W]: torch.Size([64, 1, 28, 28])\n",
            "Shape of one batch y: torch.Size([64]) torch.int64\n"
          ]
        }
      ]
    },
    {
      "cell_type": "markdown",
      "source": [
        "## Retrieval Practice"
      ],
      "metadata": {
        "id": "wM3cHBE83KR3"
      }
    },
    {
      "cell_type": "markdown",
      "source": [
        "### Creating Models\n",
        "- To define a neural network in PyTorch, we create a class that inherits from nn.Module.\n",
        "- We define the layers of the network in the __init__ function and specify how data will pass through the network in the forward function.\n",
        "- To accelerate operations in the neural network, we move it to the accelerator such as CUDA, MPS, MTIA, or XPU. If the current accelerator is available, we will use it. Otherwise, we use the CPU."
      ],
      "metadata": {
        "id": "cXj9SD2tmmMA"
      }
    },
    {
      "cell_type": "markdown",
      "source": [
        "```\n",
        "# If you have a compatible version, use 'device' instead of 'accelerator'\n",
        "device = torch.device(\"cuda\" if torch.cuda.is_available() else \"cpu\")\n",
        "print(f\"Using {device} device\")\n",
        "```"
      ],
      "metadata": {
        "id": "MahpRU_Pn0vX",
        "outputId": "724461e8-c6b9-4f0d-dbd4-e9df2fc8e778"
      }
    },
    {
      "cell_type": "code",
      "source": [
        "\n",
        "\n",
        "# If you have a compatible version, use 'device' instead of 'accelerator'\n",
        "device = torch.device(\"cuda\" if torch.cuda.is_available() else \"cpu\")\n",
        "print(f\"Using {device} device\")\n",
        "\n"
      ],
      "metadata": {
        "id": "TSC8SYq5q0XI",
        "outputId": "f51c95e4-9003-4dae-962a-1095b67f2864",
        "colab": {
          "base_uri": "https://localhost:8080/",
          "height": 0
        }
      },
      "execution_count": 14,
      "outputs": [
        {
          "output_type": "stream",
          "name": "stdout",
          "text": [
            "Using cuda device\n"
          ]
        }
      ]
    },
    {
      "cell_type": "markdown",
      "source": [
        "```\n",
        "# Define model\n",
        "class NeuralNetwork(nn.Module):\n",
        "    def __init__(self):\n",
        "        super().__init__()\n",
        "        self.flatten = nn.Flatten()\n",
        "        self.linear_relu_stack = nn.Sequential(\n",
        "            nn.Linear(28*28, 512),\n",
        "            nn.ReLU(),\n",
        "            nn.Linear(512, 512),\n",
        "            nn.ReLU(),\n",
        "            nn.Linear(512, 10)\n",
        "        )\n",
        "\n",
        "    def forward(self, x):\n",
        "        x = self.flatten(x)\n",
        "        logits = self.linear_relu_stack(x)\n",
        "        return logits\n",
        "\n",
        "model = NeuralNetwork().to(device)\n",
        "print(model)\n",
        "```"
      ],
      "metadata": {
        "id": "Pqp_gjDUmf8J",
        "outputId": "aa8234dc-55b6-43a0-e817-fc104e6bfb8c"
      }
    },
    {
      "cell_type": "code",
      "source": [
        "\n",
        "\n",
        "# Define model\n",
        "class NeuralNetwork(nn.Module):\n",
        "    def __init__(self):\n",
        "        super().__init__()\n",
        "        self.flatten = nn.Flatten()\n",
        "        self.linear_relu_stack = nn.Sequential(\n",
        "            nn.Linear(28*28, 512),\n",
        "            nn.ReLU(),\n",
        "            nn.Linear(512, 512),\n",
        "            nn.ReLU(),\n",
        "            nn.Linear(512, 10)\n",
        "        )\n",
        "\n",
        "    def forward(self, x):\n",
        "        x = self.flatten(x)\n",
        "        logits = self.linear_relu_stack(x)\n",
        "        return logits\n",
        "\n",
        "model = NeuralNetwork().to(device)\n",
        "print(model)\n",
        "\n"
      ],
      "metadata": {
        "id": "g6XCyIE5q1yA",
        "outputId": "9abec483-cdbb-4f71-8f1b-3d32f2180a34",
        "colab": {
          "base_uri": "https://localhost:8080/",
          "height": 0
        }
      },
      "execution_count": 15,
      "outputs": [
        {
          "output_type": "stream",
          "name": "stdout",
          "text": [
            "NeuralNetwork(\n",
            "  (flatten): Flatten(start_dim=1, end_dim=-1)\n",
            "  (linear_relu_stack): Sequential(\n",
            "    (0): Linear(in_features=784, out_features=512, bias=True)\n",
            "    (1): ReLU()\n",
            "    (2): Linear(in_features=512, out_features=512, bias=True)\n",
            "    (3): ReLU()\n",
            "    (4): Linear(in_features=512, out_features=10, bias=True)\n",
            "  )\n",
            ")\n"
          ]
        }
      ]
    },
    {
      "cell_type": "markdown",
      "source": [
        "### Optimizing the Model Parameters\n",
        "- To train a model, we need a loss function and an optimizer."
      ],
      "metadata": {
        "id": "WRAKn6iBoOvq"
      }
    },
    {
      "cell_type": "markdown",
      "source": [
        "```\n",
        "loss_fn = nn.CrossEntropyLoss()\n",
        "optimizer = torch.optim.SGD(model.parameters(), lr=1e-3)\n",
        "```"
      ],
      "metadata": {
        "id": "niJqjOpboNjk"
      }
    },
    {
      "cell_type": "code",
      "source": [
        "\n",
        "\n",
        "loss_fn = nn.CrossEntropyLoss()\n",
        "optimizer = torch.optim.SGD(model.parameters(), lr=1e-3)\n",
        "\n"
      ],
      "metadata": {
        "id": "lS8Q8M8tq3Sx"
      },
      "execution_count": 16,
      "outputs": []
    },
    {
      "cell_type": "markdown",
      "source": [
        "### Define the Training and Test Routines\n",
        "- In a single training loop, the model makes predictions on the training dataset (fed to it in batches), and backpropagates the prediction error to adjust the model’s parameters."
      ],
      "metadata": {
        "id": "7h_VfCljofpb"
      }
    },
    {
      "cell_type": "markdown",
      "source": [
        "```\n",
        "def train(dataloader, model, loss_fn, optimizer):\n",
        "    size = len(dataloader.dataset)\n",
        "    # set on training mode\n",
        "    model.train()\n",
        "    for batch, (X, y) in enumerate(dataloader):\n",
        "        X, y = X.to(device), y.to(device)\n",
        "\n",
        "        # Compute prediction error\n",
        "        pred = model(X)\n",
        "        loss = loss_fn(pred, y)\n",
        "\n",
        "        # Backpropagation\n",
        "        loss.backward()\n",
        "        optimizer.step()\n",
        "        optimizer.zero_grad()\n",
        "\n",
        "        if batch % 100 == 0:\n",
        "            loss, current = loss.item(), (batch + 1) * len(X)\n",
        "            print(f\"loss: {loss:>7f}  [{current:>5d}/{size:>5d}]\")\n",
        "```"
      ],
      "metadata": {
        "id": "oJnRUyuSoli5"
      }
    },
    {
      "cell_type": "code",
      "source": [
        "\n",
        "\n",
        "def train(dataloader, model, loss_fn, optimizer):\n",
        "    size = len(dataloader.dataset)\n",
        "    # set on training mode\n",
        "    model.train()\n",
        "    for batch, (X, y) in enumerate(dataloader):\n",
        "        X, y = X.to(device), y.to(device)\n",
        "\n",
        "        # Compute prediction error\n",
        "        pred = model(X)\n",
        "        loss = loss_fn(pred, y)\n",
        "\n",
        "        # Backpropagation\n",
        "        loss.backward()\n",
        "        optimizer.step()\n",
        "        optimizer.zero_grad()\n",
        "\n",
        "        if batch % 100 == 0:\n",
        "            loss, current = loss.item(), (batch + 1) * len(X)\n",
        "            print(f\"loss: {loss:>7f}  [{current:>5d}/{size:>5d}]\")\n",
        "\n"
      ],
      "metadata": {
        "id": "CEbI3C3Vq4u9"
      },
      "execution_count": 17,
      "outputs": []
    },
    {
      "cell_type": "markdown",
      "source": [
        "- We also check the model’s performance against the test dataset to ensure it is learning."
      ],
      "metadata": {
        "id": "yHKw0Jamo2nX"
      }
    },
    {
      "cell_type": "markdown",
      "source": [
        "```\n",
        "def test(dataloader, model, loss_fn):\n",
        "    size = len(dataloader.dataset)\n",
        "    num_batches = len(dataloader)\n",
        "    # set on evaluation mode\n",
        "    model.eval()\n",
        "    test_loss, correct = 0, 0\n",
        "    with torch.no_grad():\n",
        "        for X, y in dataloader:\n",
        "            X, y = X.to(device), y.to(device)\n",
        "            pred = model(X)\n",
        "            test_loss += loss_fn(pred, y).item()\n",
        "            correct += (pred.argmax(1) == y).type(torch.float).sum().item()\n",
        "    test_loss /= num_batches\n",
        "    correct /= size\n",
        "    print(f\"Test Error: \\n Accuracy: {(100*correct):>0.1f}%, Avg loss: {test_loss:>8f} \\n\")\n",
        "```"
      ],
      "metadata": {
        "id": "U_W7-a35o1qc"
      }
    },
    {
      "cell_type": "code",
      "source": [
        "\n",
        "\n",
        "def test(dataloader, model, loss_fn):\n",
        "    size = len(dataloader.dataset)\n",
        "    num_batches = len(dataloader)\n",
        "    # set on evaluation mode\n",
        "    model.eval()\n",
        "    test_loss, correct = 0, 0\n",
        "    with torch.no_grad():\n",
        "        for X, y in dataloader:\n",
        "            X, y = X.to(device), y.to(device)\n",
        "            pred = model(X)\n",
        "            test_loss += loss_fn(pred, y).item()\n",
        "            correct += (pred.argmax(1) == y).type(torch.float).sum().item()\n",
        "    test_loss /= num_batches\n",
        "    correct /= size\n",
        "    print(f\"Test Error: \\n Accuracy: {(100*correct):>0.1f}%, Avg loss: {test_loss:>8f} \\n\")\n",
        "\n"
      ],
      "metadata": {
        "id": "STi_1eCRq6cQ"
      },
      "execution_count": 18,
      "outputs": []
    },
    {
      "cell_type": "markdown",
      "source": [
        "### Start to Train and Test"
      ],
      "metadata": {
        "id": "UZ0uXkUNpGs2"
      }
    },
    {
      "cell_type": "markdown",
      "source": [
        "```\n",
        "epochs = 5\n",
        "for t in range(epochs):\n",
        "    print(f\"Epoch {t+1}\\n-------------------------------\")\n",
        "    train(train_dataloader, model, loss_fn, optimizer)\n",
        "    test(test_dataloader, model, loss_fn)\n",
        "print(\"Done!\")\n",
        "```"
      ],
      "metadata": {
        "id": "ZRKqx0HPpHi8",
        "outputId": "a1636559-beda-4c89-e95a-98f84fa935ba"
      }
    },
    {
      "cell_type": "code",
      "source": [
        "\n",
        "\n",
        "epochs = 5\n",
        "for t in range(epochs):\n",
        "    print(f\"Epoch {t+1}\\n-------------------------------\")\n",
        "    train(train_dataloader, model, loss_fn, optimizer)\n",
        "    test(test_dataloader, model, loss_fn)\n",
        "print(\"Done!\")\n",
        "\n"
      ],
      "metadata": {
        "id": "JzLE1bGdq7eo",
        "outputId": "5b37ac5c-2f6c-4f97-8114-64df0012a44c",
        "colab": {
          "base_uri": "https://localhost:8080/",
          "height": 0
        }
      },
      "execution_count": 19,
      "outputs": [
        {
          "output_type": "stream",
          "name": "stdout",
          "text": [
            "Epoch 1\n",
            "-------------------------------\n",
            "loss: 2.296378  [   64/60000]\n",
            "loss: 2.296646  [ 6464/60000]\n",
            "loss: 2.272938  [12864/60000]\n",
            "loss: 2.264373  [19264/60000]\n",
            "loss: 2.255218  [25664/60000]\n",
            "loss: 2.212987  [32064/60000]\n",
            "loss: 2.227054  [38464/60000]\n",
            "loss: 2.186961  [44864/60000]\n",
            "loss: 2.191264  [51264/60000]\n",
            "loss: 2.154482  [57664/60000]\n",
            "Test Error: \n",
            " Accuracy: 41.0%, Avg loss: 2.150254 \n",
            "\n",
            "Epoch 2\n",
            "-------------------------------\n",
            "loss: 2.162153  [   64/60000]\n",
            "loss: 2.158315  [ 6464/60000]\n",
            "loss: 2.093404  [12864/60000]\n",
            "loss: 2.109377  [19264/60000]\n",
            "loss: 2.064711  [25664/60000]\n",
            "loss: 1.993534  [32064/60000]\n",
            "loss: 2.031686  [38464/60000]\n",
            "loss: 1.945985  [44864/60000]\n",
            "loss: 1.962792  [51264/60000]\n",
            "loss: 1.884828  [57664/60000]\n",
            "Test Error: \n",
            " Accuracy: 58.5%, Avg loss: 1.879992 \n",
            "\n",
            "Epoch 3\n",
            "-------------------------------\n",
            "loss: 1.914995  [   64/60000]\n",
            "loss: 1.890745  [ 6464/60000]\n",
            "loss: 1.762603  [12864/60000]\n",
            "loss: 1.808974  [19264/60000]\n",
            "loss: 1.704699  [25664/60000]\n",
            "loss: 1.646247  [32064/60000]\n",
            "loss: 1.682576  [38464/60000]\n",
            "loss: 1.574267  [44864/60000]\n",
            "loss: 1.607318  [51264/60000]\n",
            "loss: 1.502006  [57664/60000]\n",
            "Test Error: \n",
            " Accuracy: 61.4%, Avg loss: 1.513184 \n",
            "\n",
            "Epoch 4\n",
            "-------------------------------\n",
            "loss: 1.580045  [   64/60000]\n",
            "loss: 1.551780  [ 6464/60000]\n",
            "loss: 1.391889  [12864/60000]\n",
            "loss: 1.466194  [19264/60000]\n",
            "loss: 1.353860  [25664/60000]\n",
            "loss: 1.339170  [32064/60000]\n",
            "loss: 1.365658  [38464/60000]\n",
            "loss: 1.281397  [44864/60000]\n",
            "loss: 1.318220  [51264/60000]\n",
            "loss: 1.223690  [57664/60000]\n",
            "Test Error: \n",
            " Accuracy: 63.5%, Avg loss: 1.243023 \n",
            "\n",
            "Epoch 5\n",
            "-------------------------------\n",
            "loss: 1.317508  [   64/60000]\n",
            "loss: 1.309375  [ 6464/60000]\n",
            "loss: 1.134562  [12864/60000]\n",
            "loss: 1.241996  [19264/60000]\n",
            "loss: 1.123456  [25664/60000]\n",
            "loss: 1.136891  [32064/60000]\n",
            "loss: 1.171318  [38464/60000]\n",
            "loss: 1.098695  [44864/60000]\n",
            "loss: 1.139272  [51264/60000]\n",
            "loss: 1.062303  [57664/60000]\n",
            "Test Error: \n",
            " Accuracy: 64.7%, Avg loss: 1.076758 \n",
            "\n",
            "Done!\n"
          ]
        }
      ]
    },
    {
      "cell_type": "markdown",
      "source": [
        "### Save the Model"
      ],
      "metadata": {
        "id": "ZtWOiihXpigD"
      }
    },
    {
      "cell_type": "markdown",
      "source": [
        "```\n",
        "torch.save(model.state_dict(), \"./model\")\n",
        "print(\"Saved PyTorch Model State to ./model\")\n",
        "```"
      ],
      "metadata": {
        "id": "tDqY58repgic",
        "outputId": "fbc25ce8-a576-4625-e970-4959c335eaa3"
      }
    },
    {
      "cell_type": "code",
      "source": [
        "\n",
        "\n",
        "torch.save(model.state_dict(), \"./model\")\n",
        "print(\"Saved PyTorch Model State to ./model\")\n",
        "\n"
      ],
      "metadata": {
        "id": "Ql4HAf19q9wQ",
        "outputId": "fa6a8606-6f7b-4161-e942-b434b8375f50",
        "colab": {
          "base_uri": "https://localhost:8080/",
          "height": 0
        }
      },
      "execution_count": 20,
      "outputs": [
        {
          "output_type": "stream",
          "name": "stdout",
          "text": [
            "Saved PyTorch Model State to ./model\n"
          ]
        }
      ]
    },
    {
      "cell_type": "markdown",
      "source": [
        "### Load the Saved Model"
      ],
      "metadata": {
        "id": "hgtLxZDIp3KG"
      }
    },
    {
      "cell_type": "markdown",
      "source": [
        "```\n",
        "model_loaded = NeuralNetwork().to(device)\n",
        "model_loaded.load_state_dict(torch.load(\"./model\", weights_only=True))\n",
        "```"
      ],
      "metadata": {
        "id": "bHPLaq8npoKq",
        "outputId": "c0b5cb8f-1b51-41b8-ab4b-aaabe3474361"
      }
    },
    {
      "cell_type": "code",
      "source": [
        "\n",
        "\n",
        "model_loaded = NeuralNetwork().to(device)\n",
        "model_loaded.load_state_dict(torch.load(\"./model\", weights_only=True))\n",
        "\n"
      ],
      "metadata": {
        "id": "NR1z4H_2rHUC",
        "outputId": "19c4624d-35e9-4e42-a624-3efbb542e1e7",
        "colab": {
          "base_uri": "https://localhost:8080/",
          "height": 0
        }
      },
      "execution_count": 21,
      "outputs": [
        {
          "output_type": "execute_result",
          "data": {
            "text/plain": [
              "<All keys matched successfully>"
            ]
          },
          "metadata": {},
          "execution_count": 21
        }
      ]
    },
    {
      "cell_type": "markdown",
      "source": [
        "### Make Predictions"
      ],
      "metadata": {
        "id": "xwdIjLMSqCke"
      }
    },
    {
      "cell_type": "markdown",
      "source": [
        "```\n",
        "# define the classes\n",
        "classes = [\n",
        "    \"T-shirt/top\",\n",
        "    \"Trouser\",\n",
        "    \"Pullover\",\n",
        "    \"Dress\",\n",
        "    \"Coat\",\n",
        "    \"Sandal\",\n",
        "    \"Shirt\",\n",
        "    \"Sneaker\",\n",
        "    \"Bag\",\n",
        "    \"Ankle boot\",\n",
        "]\n",
        "```"
      ],
      "metadata": {
        "id": "cUajUbZxqFqN"
      }
    },
    {
      "cell_type": "code",
      "source": [
        "\n",
        "\n",
        "# define the classes\n",
        "classes = [\n",
        "    \"T-shirt/top\",\n",
        "    \"Trouser\",\n",
        "    \"Pullover\",\n",
        "    \"Dress\",\n",
        "    \"Coat\",\n",
        "    \"Sandal\",\n",
        "    \"Shirt\",\n",
        "    \"Sneaker\",\n",
        "    \"Bag\",\n",
        "    \"Ankle boot\",\n",
        "]\n",
        "\n"
      ],
      "metadata": {
        "id": "pWI_S9gZrIf4"
      },
      "execution_count": 22,
      "outputs": []
    },
    {
      "cell_type": "markdown",
      "source": [
        "```\n",
        "# set the evaluation mode\n",
        "model_loaded.eval()\n",
        "```"
      ],
      "metadata": {
        "id": "jby9RK4nqnJN",
        "outputId": "c0e625b4-6ddc-4bcb-8854-4f6640077713"
      }
    },
    {
      "cell_type": "code",
      "source": [
        "\n",
        "\n",
        "# set the evaluation mode\n",
        "model_loaded.eval()\n",
        "\n"
      ],
      "metadata": {
        "id": "t9U4-xK0rJd8",
        "outputId": "120a549e-e8d2-4859-f1b5-b7b8d84766f4",
        "colab": {
          "base_uri": "https://localhost:8080/",
          "height": 0
        }
      },
      "execution_count": 23,
      "outputs": [
        {
          "output_type": "execute_result",
          "data": {
            "text/plain": [
              "NeuralNetwork(\n",
              "  (flatten): Flatten(start_dim=1, end_dim=-1)\n",
              "  (linear_relu_stack): Sequential(\n",
              "    (0): Linear(in_features=784, out_features=512, bias=True)\n",
              "    (1): ReLU()\n",
              "    (2): Linear(in_features=512, out_features=512, bias=True)\n",
              "    (3): ReLU()\n",
              "    (4): Linear(in_features=512, out_features=10, bias=True)\n",
              "  )\n",
              ")"
            ]
          },
          "metadata": {},
          "execution_count": 23
        }
      ]
    },
    {
      "cell_type": "markdown",
      "source": [
        "```\n",
        "# test on a single image\n",
        "x, y = test_data[5][0], test_data[5][1]\n",
        "plt.imshow(x.squeeze())\n",
        "plt.show()\n",
        "print(f\"Label: {classes[y]}\")\n",
        "```"
      ],
      "metadata": {
        "id": "px1-YOJAqpeU",
        "outputId": "9ab745bb-f19f-4bc9-8136-a4e88259827a"
      }
    },
    {
      "cell_type": "code",
      "source": [
        "\n",
        "\n",
        "# test on a single image\n",
        "x, y = test_data[5][0], test_data[5][1]\n",
        "plt.imshow(x.squeeze())\n",
        "plt.show()\n",
        "print(f\"Label: {classes[y]}\")\n",
        "\n"
      ],
      "metadata": {
        "id": "gn4Giu5srKe6",
        "outputId": "317ff827-2963-4fc4-b23e-9a5b1f7c2f28",
        "colab": {
          "base_uri": "https://localhost:8080/",
          "height": 447
        }
      },
      "execution_count": 24,
      "outputs": [
        {
          "output_type": "display_data",
          "data": {
            "text/plain": [
              "<Figure size 640x480 with 1 Axes>"
            ],
            "image/png": "[encoded data removed]"
          },
          "metadata": {}
        },
        {
          "output_type": "stream",
          "name": "stdout",
          "text": [
            "Label: Trouser\n"
          ]
        }
      ]
    },
    {
      "cell_type": "markdown",
      "source": [
        "```\n",
        "with torch.no_grad():\n",
        "    x = x.to(device)\n",
        "    pred = model_loaded(x)\n",
        "    predicted, actual = classes[pred[0].argmax(0)], classes[y]\n",
        "    print(f'Predicted: \"{predicted}\", Actual: \"{actual}\"')\n",
        "```"
      ],
      "metadata": {
        "id": "Eitt4uHKqtUZ",
        "outputId": "40cc7cdc-26a2-4612-9f11-708a7ba5339b"
      }
    },
    {
      "cell_type": "code",
      "source": [
        "\n",
        "\n",
        "with torch.no_grad():\n",
        "    x = x.to(device)\n",
        "    pred = model_loaded(x)\n",
        "    predicted, actual = classes[pred[0].argmax(0)], classes[y]\n",
        "    print(f'Predicted: \"{predicted}\", Actual: \"{actual}\"')\n",
        "\n"
      ],
      "metadata": {
        "id": "X9ToQmBwrLog",
        "outputId": "685ae2fb-9ea4-4f8f-90fc-0575624124c9",
        "colab": {
          "base_uri": "https://localhost:8080/",
          "height": 0
        }
      },
      "execution_count": 25,
      "outputs": [
        {
          "output_type": "stream",
          "name": "stdout",
          "text": [
            "Predicted: \"Trouser\", Actual: \"Trouser\"\n"
          ]
        }
      ]
    }
  ]
}