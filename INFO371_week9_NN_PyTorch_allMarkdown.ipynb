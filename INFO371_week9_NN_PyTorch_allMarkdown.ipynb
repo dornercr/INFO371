{
  "nbformat": 4,
  "nbformat_minor": 0,
  "metadata": {
    "colab": {
      "provenance": [],
      "gpuType": "T4",
      "include_colab_link": true
    },
    "kernelspec": {
      "name": "python3",
      "display_name": "Python 3"
    },
    "language_info": {
      "name": "python"
    },
    "accelerator": "GPU"
  },
  "cells": [
    {
      "cell_type": "markdown",
      "metadata": {
        "id": "view-in-github",
        "colab_type": "text"
      },
      "source": [
        "<a href=\"https://colab.research.google.com/github/dornercr/INFO371/blob/main/INFO371_week9_NN_PyTorch_allMarkdown.ipynb\" target=\"_parent\"><img src=\"https://colab.research.google.com/assets/colab-badge.svg\" alt=\"Open In Colab\"/></a>"
      ]
    },
    {
      "cell_type": "markdown",
      "metadata": {
        "id": "ADxFD_qNz_6L"
      },
      "source": [
        "# INFO 371: Data Mining Applications\n",
        "\n",
        "## Week 9: Deep Neural Networks with Pytorch\n",
        "### Prof. Charles Dorner, EdD (Candidate)\n",
        "### College of Computing and Informatics, Drexel University"
      ]
    },
    {
      "cell_type": "markdown",
      "source": [
        "## Data representations for neural networks\n",
        "\n",
        "In general, all current neural network systems use tensors as their basic data structure.\n",
        "\n",
        "### What’s a tensor?\n",
        "\n",
        "- A tensor is a container for data.\n",
        "- For example, matrices are 2D tensors.\n",
        "- Tensors are a generalization of matrices to an arbitrary number of dimensions (note that in the context of tensors, a dimension is often called an axis).\n",
        "- In deep learning, we generally manipulate tensors that are 0D to 4D, with the possibilit of going up to 5D for video data.\n",
        "\n",
        "\n",
        "\n",
        "> Here's a figure visualizing tensors:\n",
        "![tensors](https://res.cloudinary.com/practicaldev/image/fetch/s--VaxrSdrA--/c_limit%2Cf_auto%2Cfl_progressive%2Cq_auto%2Cw_880/https://thepracticaldev.s3.amazonaws.com/i/bp6ux6ppf5t5amwkxklq.jpg)\n",
        "\n"
      ],
      "metadata": {
        "id": "_xgnKRjOVDS7"
      }
    },
    {
      "cell_type": "markdown",
      "source": [
        "### Key Attributes of Tensors:\n",
        "\n",
        "A tensor is defined by three key attributes:\n",
        "\n",
        "- Number of axes (rank)—For instance, a 3D tensor has three axes, and a matrix has two axes. This is also called the tensor’s ndim in Python libraries such as Numpy.\n",
        "\n",
        "- Shape—This is a tuple of integers that describes how many dimensions the tensor has along each axis. For instance, the previous matrix example has shape  (3,5) , and the 3D tensor example has shape  (3,3,5) . A vector has a shape with a single element, such as  (5,) , whereas a scalar has an empty shape,  () .\n",
        "\n",
        "- Data type (usually called dtype in Python libraries)—This is the type of the data contained in the tensor; for instance, a tensor’s type could be float32, uint8, float64, and so on. On rare occasions, you may see a char tensor. Note that string tensors don’t exist in Numpy (or in most other libraries), because tensors live in preallocated, contiguous memory segments: and strings, being variable length, would preclude the use of this implementation."
      ],
      "metadata": {
        "id": "_RM19VyFWN7M"
      }
    },
    {
      "cell_type": "markdown",
      "metadata": {
        "tags": [],
        "id": "Jxntpn_RC3qO"
      },
      "source": [
        "# Deep Neural Networks with PyTorch"
      ]
    },
    {
      "cell_type": "markdown",
      "source": [
        "```\n",
        "import numpy as np\n",
        "import pandas as pd\n",
        "import matplotlib\n",
        "import torch\n",
        "```"
      ],
      "metadata": {
        "id": "ez72s61N9YVE"
      }
    },
    {
      "cell_type": "markdown",
      "metadata": {
        "id": "DmDiz5lmC3qT"
      },
      "source": [
        "## What is PyTorch?\n",
        "- PyTorch is a scalable and multiplatform programming interface for implementing and running machine learning algorithms, including convenience wrappers for deep learning.\n",
        "- PyTorch was primarily developed by the researchers and engineers from the Facebook AI Research (FAIR) lab.\n",
        "- PyTorch was initially released in September\n",
        "2016 and is free and open source under the modified BSD license. - PyTorch has been adopted to develop deep learning\n",
        "solutions, such as Tesla Autopilot, Uber’s Pyro, and Hugging Face’s Transformers (https://pytorch.org/ecosystem/)."
      ]
    },
    {
      "cell_type": "markdown",
      "metadata": {
        "id": "aGtRpcjEC3qT"
      },
      "source": [
        "### Creating tensors in PyTorch"
      ]
    },
    {
      "cell_type": "markdown",
      "metadata": {
        "id": "chrgUTY_C3qT",
        "outputId": "cd8e3b7b-26a2-46ba-975a-d2a9a6ce59b1"
      },
      "source": [
        "```\n",
        "a = [1, 2, 3]\n",
        "b = np.array([4, 5, 6], dtype=np.int32)\n",
        "\n",
        "t_a = torch.tensor(a)\n",
        "t_b = torch.from_numpy(b)\n",
        "\n",
        "print(t_a)\n",
        "print(t_b)\n",
        "```"
      ]
    },
    {
      "cell_type": "markdown",
      "metadata": {
        "id": "4mILGYQeC3qU",
        "outputId": "214a36ee-e99f-4c47-bb06-275df02454e0"
      },
      "source": [
        "```\n",
        "rand_tensor = torch.rand(2,3)\n",
        "\n",
        "print(rand_tensor)\n",
        "```"
      ]
    },
    {
      "cell_type": "markdown",
      "metadata": {
        "id": "3jCzW-BAC3qa"
      },
      "source": [
        "### Creating a PyTorch DataLoader from existing tensors"
      ]
    },
    {
      "cell_type": "markdown",
      "metadata": {
        "id": "iVF1ivUHC3qa"
      },
      "source": [
        "```\n",
        "from torch.utils.data import DataLoader\n",
        "```"
      ]
    },
    {
      "cell_type": "markdown",
      "metadata": {
        "id": "Gn3rf183C3qa",
        "outputId": "761a0109-ec08-4390-be8c-ea45a4e9d99f"
      },
      "source": [
        "```\n",
        "t = torch.arange(6, dtype=torch.float32)\n",
        "\n",
        "data_loader = DataLoader(t, batch_size=3, drop_last=False)\n",
        "\n",
        "for i, batch in enumerate(data_loader, 1):\n",
        "    print(f'batch {i}:', batch)\n",
        "```"
      ]
    },
    {
      "cell_type": "markdown",
      "source": [
        "## Build a NN for Image Classification with PyTorch"
      ],
      "metadata": {
        "id": "UpsJIMvSmvzA"
      }
    },
    {
      "cell_type": "markdown",
      "metadata": {
        "id": "hkiM2EVEC3qb"
      },
      "source": [
        "### Fetching available datasets from the torchvision.datasets library"
      ]
    },
    {
      "cell_type": "markdown",
      "metadata": {
        "id": "Els0wJ_yC3qc"
      },
      "source": [
        "```\n",
        "import torch\n",
        "from torch import nn\n",
        "from torch.utils.data import DataLoader\n",
        "from torchvision import datasets\n",
        "from torchvision.transforms import ToTensor\n",
        "```"
      ]
    },
    {
      "cell_type": "markdown",
      "source": [
        "```\n",
        "# Download training data from open datasets.\n",
        "training_data = datasets.FashionMNIST(\n",
        "    root=\"data\",\n",
        "    train=True,\n",
        "    download=True,\n",
        "    transform=ToTensor(),\n",
        ")\n",
        "```"
      ],
      "metadata": {
        "id": "Zt_ChKi9jjSE",
        "outputId": "a567f05b-f275-4dd7-981c-59e8ce3ed523"
      }
    },
    {
      "cell_type": "markdown",
      "source": [
        "```\n",
        "# Download test data from open datasets.\n",
        "test_data = datasets.FashionMNIST(\n",
        "    root=\"data\",\n",
        "    train=False,\n",
        "    download=True,\n",
        "    transform=ToTensor(),\n",
        ")\n",
        "```"
      ],
      "metadata": {
        "id": "MvIUF60NjruU"
      }
    },
    {
      "cell_type": "markdown",
      "source": [
        "```\n",
        "training_data.classes\n",
        "```"
      ],
      "metadata": {
        "id": "abzsvOVfkHV6",
        "outputId": "3e001ead-bf94-4020-be7b-9aae2b6d5621"
      }
    },
    {
      "cell_type": "markdown",
      "source": [
        "```\n",
        "# Get the training dataset size\n",
        "print(f\"Number of training images in training_data: {len(training_data)}\")\n",
        "\n",
        "# Get shape of one image\n",
        "image, label = training_data[0]  # Get the first image\n",
        "print(f\"Shape of one training image: {image.shape}\")  # (C, H, W) format in PyTorch\n",
        "```"
      ],
      "metadata": {
        "id": "00mgzcUUlbFy",
        "outputId": "596f13ec-9aea-4010-f3e0-d12d0a2dfe19"
      }
    },
    {
      "cell_type": "markdown",
      "source": [
        "```\n",
        "# Get test dataset size\n",
        "print(f\"Number of test images in test_data: {len(test_data)}\")\n",
        "\n",
        "# Get shape of one image\n",
        "image, label = test_data[0]  # Get the first image\n",
        "print(f\"Shape of one test image: {image.shape}\")  # (C, H, W) format in PyTorch\n",
        "```"
      ],
      "metadata": {
        "id": "WGagO1vgluYL",
        "outputId": "c6d17262-f986-4f30-fd1c-263eb8a45af3"
      }
    },
    {
      "cell_type": "markdown",
      "source": [
        "```\n",
        "from matplotlib import pyplot as plt\n",
        "\n",
        "# Class labels for FashionMNIST\n",
        "class_names = training_data.classes  # List of class names\n",
        "\n",
        "# Plot the first 10 images\n",
        "fig, axes = plt.subplots(2, 5, figsize=(10, 5))\n",
        "\n",
        "for i, ax in enumerate(axes.flat):\n",
        "    image, label = training_data[i]  # Get image and label\n",
        "    #ax.imshow(image.squeeze(), cmap='gray')  # Remove channel dimension & plot\n",
        "    ax.imshow(image.squeeze())\n",
        "    ax.set_title(class_names[label])  # Set title to class name\n",
        "    ax.axis(\"off\")  # Hide axes\n",
        "\n",
        "plt.tight_layout()\n",
        "plt.show()\n",
        "```"
      ],
      "metadata": {
        "id": "FMwzZ3jej7OX",
        "outputId": "7978de38-5af2-460c-85b8-f6195c67a0ac"
      }
    },
    {
      "cell_type": "markdown",
      "source": [
        "### Create DataLoader for Pytorch model\n",
        "- We pass the Dataset as an argument to DataLoader.\n",
        "- This wraps an iterable over our dataset, and supports automatic batching, sampling, shuffling and multiprocess data loading."
      ],
      "metadata": {
        "id": "VUYzN6wEmFAW"
      }
    },
    {
      "cell_type": "markdown",
      "source": [
        "```\n",
        "batch_size = 64\n",
        "\n",
        "# Create data loaders.\n",
        "train_dataloader = DataLoader(training_data, batch_size=batch_size)\n",
        "test_dataloader = DataLoader(test_data, batch_size=batch_size)\n",
        "\n",
        "for X, y in test_dataloader:\n",
        "    print(f\"Shape of one batch X [N, C, H, W]: {X.shape}\")\n",
        "    print(f\"Shape of one batch y: {y.shape} {y.dtype}\")\n",
        "    break\n",
        "```"
      ],
      "metadata": {
        "id": "8G6FVNhI-hnH",
        "outputId": "fbb9901e-e21d-41e2-c051-2e0521223ba1"
      }
    },
    {
      "cell_type": "markdown",
      "source": [
        "## Retrieval Practice"
      ],
      "metadata": {
        "id": "wM3cHBE83KR3"
      }
    },
    {
      "cell_type": "markdown",
      "source": [
        "### Creating Models\n",
        "- To define a neural network in PyTorch, we create a class that inherits from nn.Module.\n",
        "- We define the layers of the network in the __init__ function and specify how data will pass through the network in the forward function.\n",
        "- To accelerate operations in the neural network, we move it to the accelerator such as CUDA, MPS, MTIA, or XPU. If the current accelerator is available, we will use it. Otherwise, we use the CPU."
      ],
      "metadata": {
        "id": "cXj9SD2tmmMA"
      }
    },
    {
      "cell_type": "markdown",
      "source": [
        "```\n",
        "# If you have a compatible version, use 'device' instead of 'accelerator'\n",
        "device = torch.device(\"cuda\" if torch.cuda.is_available() else \"cpu\")\n",
        "print(f\"Using {device} device\")\n",
        "```"
      ],
      "metadata": {
        "id": "MahpRU_Pn0vX",
        "outputId": "724461e8-c6b9-4f0d-dbd4-e9df2fc8e778"
      }
    },
    {
      "cell_type": "markdown",
      "source": [
        "```\n",
        "# Define model\n",
        "class NeuralNetwork(nn.Module):\n",
        "    def __init__(self):\n",
        "        super().__init__()\n",
        "        self.flatten = nn.Flatten()\n",
        "        self.linear_relu_stack = nn.Sequential(\n",
        "            nn.Linear(28*28, 512),\n",
        "            nn.ReLU(),\n",
        "            nn.Linear(512, 512),\n",
        "            nn.ReLU(),\n",
        "            nn.Linear(512, 10)\n",
        "        )\n",
        "\n",
        "    def forward(self, x):\n",
        "        x = self.flatten(x)\n",
        "        logits = self.linear_relu_stack(x)\n",
        "        return logits\n",
        "\n",
        "model = NeuralNetwork().to(device)\n",
        "print(model)\n",
        "```"
      ],
      "metadata": {
        "id": "Pqp_gjDUmf8J",
        "outputId": "aa8234dc-55b6-43a0-e817-fc104e6bfb8c"
      }
    },
    {
      "cell_type": "markdown",
      "source": [
        "### Optimizing the Model Parameters\n",
        "- To train a model, we need a loss function and an optimizer."
      ],
      "metadata": {
        "id": "WRAKn6iBoOvq"
      }
    },
    {
      "cell_type": "markdown",
      "source": [
        "```\n",
        "loss_fn = nn.CrossEntropyLoss()\n",
        "optimizer = torch.optim.SGD(model.parameters(), lr=1e-3)\n",
        "```"
      ],
      "metadata": {
        "id": "niJqjOpboNjk"
      }
    },
    {
      "cell_type": "markdown",
      "source": [
        "### Define the Training and Test Routines\n",
        "- In a single training loop, the model makes predictions on the training dataset (fed to it in batches), and backpropagates the prediction error to adjust the model’s parameters."
      ],
      "metadata": {
        "id": "7h_VfCljofpb"
      }
    },
    {
      "cell_type": "markdown",
      "source": [
        "```\n",
        "def train(dataloader, model, loss_fn, optimizer):\n",
        "    size = len(dataloader.dataset)\n",
        "    # set on training mode\n",
        "    model.train()\n",
        "    for batch, (X, y) in enumerate(dataloader):\n",
        "        X, y = X.to(device), y.to(device)\n",
        "\n",
        "        # Compute prediction error\n",
        "        pred = model(X)\n",
        "        loss = loss_fn(pred, y)\n",
        "\n",
        "        # Backpropagation\n",
        "        loss.backward()\n",
        "        optimizer.step()\n",
        "        optimizer.zero_grad()\n",
        "\n",
        "        if batch % 100 == 0:\n",
        "            loss, current = loss.item(), (batch + 1) * len(X)\n",
        "            print(f\"loss: {loss:>7f}  [{current:>5d}/{size:>5d}]\")\n",
        "```"
      ],
      "metadata": {
        "id": "oJnRUyuSoli5"
      }
    },
    {
      "cell_type": "markdown",
      "source": [
        "- We also check the model’s performance against the test dataset to ensure it is learning."
      ],
      "metadata": {
        "id": "yHKw0Jamo2nX"
      }
    },
    {
      "cell_type": "markdown",
      "source": [
        "```\n",
        "def test(dataloader, model, loss_fn):\n",
        "    size = len(dataloader.dataset)\n",
        "    num_batches = len(dataloader)\n",
        "    # set on evaluation mode\n",
        "    model.eval()\n",
        "    test_loss, correct = 0, 0\n",
        "    with torch.no_grad():\n",
        "        for X, y in dataloader:\n",
        "            X, y = X.to(device), y.to(device)\n",
        "            pred = model(X)\n",
        "            test_loss += loss_fn(pred, y).item()\n",
        "            correct += (pred.argmax(1) == y).type(torch.float).sum().item()\n",
        "    test_loss /= num_batches\n",
        "    correct /= size\n",
        "    print(f\"Test Error: \\n Accuracy: {(100*correct):>0.1f}%, Avg loss: {test_loss:>8f} \\n\")\n",
        "```"
      ],
      "metadata": {
        "id": "U_W7-a35o1qc"
      }
    },
    {
      "cell_type": "markdown",
      "source": [
        "### Start to Train and Test"
      ],
      "metadata": {
        "id": "UZ0uXkUNpGs2"
      }
    },
    {
      "cell_type": "markdown",
      "source": [
        "```\n",
        "epochs = 5\n",
        "for t in range(epochs):\n",
        "    print(f\"Epoch {t+1}\\n-------------------------------\")\n",
        "    train(train_dataloader, model, loss_fn, optimizer)\n",
        "    test(test_dataloader, model, loss_fn)\n",
        "print(\"Done!\")\n",
        "```"
      ],
      "metadata": {
        "id": "ZRKqx0HPpHi8",
        "outputId": "a1636559-beda-4c89-e95a-98f84fa935ba"
      }
    },
    {
      "cell_type": "markdown",
      "source": [
        "### Save the Model"
      ],
      "metadata": {
        "id": "ZtWOiihXpigD"
      }
    },
    {
      "cell_type": "markdown",
      "source": [
        "```\n",
        "torch.save(model.state_dict(), \"./model\")\n",
        "print(\"Saved PyTorch Model State to ./model\")\n",
        "```"
      ],
      "metadata": {
        "id": "tDqY58repgic",
        "outputId": "fbc25ce8-a576-4625-e970-4959c335eaa3"
      }
    },
    {
      "cell_type": "markdown",
      "source": [
        "### Load the Saved Model"
      ],
      "metadata": {
        "id": "hgtLxZDIp3KG"
      }
    },
    {
      "cell_type": "markdown",
      "source": [
        "```\n",
        "model_loaded = NeuralNetwork().to(device)\n",
        "model_loaded.load_state_dict(torch.load(\"./model\", weights_only=True))\n",
        "```"
      ],
      "metadata": {
        "id": "bHPLaq8npoKq",
        "outputId": "c0b5cb8f-1b51-41b8-ab4b-aaabe3474361"
      }
    },
    {
      "cell_type": "markdown",
      "source": [
        "### Make Predictions"
      ],
      "metadata": {
        "id": "xwdIjLMSqCke"
      }
    },
    {
      "cell_type": "markdown",
      "source": [
        "```\n",
        "# define the classes\n",
        "classes = [\n",
        "    \"T-shirt/top\",\n",
        "    \"Trouser\",\n",
        "    \"Pullover\",\n",
        "    \"Dress\",\n",
        "    \"Coat\",\n",
        "    \"Sandal\",\n",
        "    \"Shirt\",\n",
        "    \"Sneaker\",\n",
        "    \"Bag\",\n",
        "    \"Ankle boot\",\n",
        "]\n",
        "```"
      ],
      "metadata": {
        "id": "cUajUbZxqFqN"
      }
    },
    {
      "cell_type": "markdown",
      "source": [
        "```\n",
        "# set the evaluation mode\n",
        "model_loaded.eval()\n",
        "```"
      ],
      "metadata": {
        "id": "jby9RK4nqnJN",
        "outputId": "c0e625b4-6ddc-4bcb-8854-4f6640077713"
      }
    },
    {
      "cell_type": "markdown",
      "source": [
        "```\n",
        "# test on a single image\n",
        "x, y = test_data[5][0], test_data[5][1]\n",
        "plt.imshow(x.squeeze())\n",
        "plt.show()\n",
        "print(f\"Label: {classes[y]}\")\n",
        "```"
      ],
      "metadata": {
        "id": "px1-YOJAqpeU",
        "outputId": "9ab745bb-f19f-4bc9-8136-a4e88259827a"
      }
    },
    {
      "cell_type": "markdown",
      "source": [
        "```\n",
        "with torch.no_grad():\n",
        "    x = x.to(device)\n",
        "    pred = model_loaded(x)\n",
        "    predicted, actual = classes[pred[0].argmax(0)], classes[y]\n",
        "    print(f'Predicted: \"{predicted}\", Actual: \"{actual}\"')\n",
        "```"
      ],
      "metadata": {
        "id": "Eitt4uHKqtUZ",
        "outputId": "40cc7cdc-26a2-4612-9f11-708a7ba5339b"
      }
    },
    {
      "cell_type": "markdown",
      "source": [
        "## Retrieval Practice"
      ],
      "metadata": {
        "id": "v5ZNIOl33OvL"
      }
    }
  ]
}