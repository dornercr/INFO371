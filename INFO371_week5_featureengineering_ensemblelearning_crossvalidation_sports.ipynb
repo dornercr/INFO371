{
  "nbformat": 4,
  "nbformat_minor": 0,
  "metadata": {
    "colab": {
      "provenance": [],
      "authorship_tag": "ABX9TyNs6e3lM3QYmslsgJIHB9lH",
      "include_colab_link": true
    },
    "kernelspec": {
      "name": "python3",
      "display_name": "Python 3"
    },
    "language_info": {
      "name": "python"
    }
  },
  "cells": [
    {
      "cell_type": "markdown",
      "metadata": {
        "id": "view-in-github",
        "colab_type": "text"
      },
      "source": [
        "<a href=\"https://colab.research.google.com/github/dornercr/INFO371/blob/main/INFO371_week5_featureengineering_ensemblelearning_crossvalidation_sports.ipynb\" target=\"_parent\"><img src=\"https://colab.research.google.com/assets/colab-badge.svg\" alt=\"Open In Colab\"/></a>"
      ]
    },
    {
      "cell_type": "code",
      "execution_count": 30,
      "metadata": {
        "id": "_8OltFZjyQPP"
      },
      "outputs": [],
      "source": [
        "# INFO 371: Week 5 Topics - Feature Engineering, Ensemble Learning, Cross Validation (Fixed)\n",
        "\n",
        "# 0. Import Libraries\n",
        "import numpy as np\n",
        "import pandas as pd\n",
        "from sklearn.model_selection import train_test_split, cross_val_score, KFold, StratifiedKFold, GridSearchCV, LeaveOneOut\n",
        "from sklearn.ensemble import RandomForestClassifier\n",
        "from sklearn.neighbors import KNeighborsClassifier\n",
        "from sklearn.metrics import accuracy_score, confusion_matrix\n",
        "from sklearn.utils.class_weight import compute_class_weight\n",
        "import matplotlib.pyplot as plt\n",
        "import seaborn as sns\n",
        "\n"
      ]
    },
    {
      "cell_type": "code",
      "source": [
        "# 1. Generate a Realistic Dataset\n",
        "np.random.seed(42)\n",
        "teams = ['Lions', 'Tigers', 'Bears', 'Wolves', 'Eagles', 'Sharks']\n",
        "data = []\n",
        "\n",
        "for date in pd.date_range(start='2023-01-01', periods=300):\n",
        "    home_team = np.random.choice(teams)\n",
        "    visitor_team = np.random.choice([t for t in teams if t != home_team])\n",
        "    home_score = np.random.poisson(80)\n",
        "    visitor_score = np.random.poisson(78)\n",
        "    data.append([date, home_team, visitor_team, home_score, visitor_score])\n",
        "\n",
        "games = pd.DataFrame(data, columns=['Date', 'HomeTeam', 'VisitorTeam', 'HomeScore', 'VisitorScore'])\n",
        "games.sort_values('Date', inplace=True)\n"
      ],
      "metadata": {
        "id": "GbTdUH5O73LD"
      },
      "execution_count": 31,
      "outputs": []
    },
    {
      "cell_type": "code",
      "source": [
        "# 2. Create Target Label: Home Win or Not\n",
        "games['HomeWin'] = (games['HomeScore'] > games['VisitorScore']).astype(int)"
      ],
      "metadata": {
        "id": "ids9Z89W7_iO"
      },
      "execution_count": 32,
      "outputs": []
    },
    {
      "cell_type": "code",
      "source": [
        "# 3. Feature Engineering\n",
        "won_last = {team: 0 for team in teams}\n",
        "home_last_won = []\n",
        "visitor_last_won = []\n",
        "\n",
        "for _, row in games.iterrows():\n",
        "    home_last_won.append(won_last[row['HomeTeam']])\n",
        "    visitor_last_won.append(won_last[row['VisitorTeam']])\n",
        "\n",
        "    if row['HomeScore'] > row['VisitorScore']:\n",
        "        won_last[row['HomeTeam']] = 1\n",
        "        won_last[row['VisitorTeam']] = 0\n",
        "    else:\n",
        "        won_last[row['HomeTeam']] = 0\n",
        "        won_last[row['VisitorTeam']] = 1\n",
        "\n",
        "games['HomeLastWon'] = home_last_won\n",
        "games['VisitorLastWon'] = visitor_last_won"
      ],
      "metadata": {
        "id": "hHCHbMnC8CDA"
      },
      "execution_count": 33,
      "outputs": []
    },
    {
      "cell_type": "code",
      "source": [
        "# 4. Add Features\n",
        "games['HomeAvgScore'] = games.groupby('HomeTeam')['HomeScore'].transform(lambda x: x.rolling(5, min_periods=1).mean())\n",
        "games['VisitorAvgScore'] = games.groupby('VisitorTeam')['VisitorScore'].transform(lambda x: x.rolling(5, min_periods=1).mean())\n",
        "games['ScoreDiff'] = games['HomeAvgScore'] - games['VisitorAvgScore']"
      ],
      "metadata": {
        "id": "RlqrHjHr8FF7"
      },
      "execution_count": 34,
      "outputs": []
    },
    {
      "cell_type": "code",
      "source": [
        "# 5. Feature and Label Selection\n",
        "features = games[['HomeLastWon', 'VisitorLastWon', 'ScoreDiff']]\n",
        "labels = games['HomeWin']\n"
      ],
      "metadata": {
        "id": "m5Z-g9xi8IoP"
      },
      "execution_count": 35,
      "outputs": []
    },
    {
      "cell_type": "code",
      "source": [
        "# 6. Class Weights to Balance\n",
        "class_weights = dict(zip(np.unique(labels), compute_class_weight(class_weight='balanced', classes=np.unique(labels), y=labels)))\n"
      ],
      "metadata": {
        "id": "kbNAj3-T8KfJ"
      },
      "execution_count": 37,
      "outputs": []
    },
    {
      "cell_type": "code",
      "source": [
        "# 7. Train/Test Split\n",
        "X_train, X_test, y_train, y_test = train_test_split(features, labels, test_size=0.2, random_state=42)"
      ],
      "metadata": {
        "id": "KCZSmByd8NOx"
      },
      "execution_count": 39,
      "outputs": []
    },
    {
      "cell_type": "code",
      "source": [
        "# 8. Models\n",
        "# KNN\n",
        "knn = KNeighborsClassifier(n_neighbors=3)\n",
        "knn.fit(X_train, y_train)\n",
        "knn_preds = knn.predict(X_test)\n",
        "print(\"KNN Accuracy:\", accuracy_score(y_test, knn_preds))\n",
        "\n",
        "# Random Forest (Improved with class_weight)\n",
        "rf = RandomForestClassifier(n_estimators=100, max_features=2, random_state=42, class_weight=class_weights)\n",
        "rf.fit(X_train, y_train)\n",
        "rf_preds = rf.predict(X_test)\n",
        "print(\"Random Forest Accuracy:\", accuracy_score(y_test, rf_preds))"
      ],
      "metadata": {
        "colab": {
          "base_uri": "https://localhost:8080/"
        },
        "id": "KgYd24N78PUX",
        "outputId": "6198a757-90b8-464a-924a-5a0a7337b63c"
      },
      "execution_count": 40,
      "outputs": [
        {
          "output_type": "stream",
          "name": "stdout",
          "text": [
            "KNN Accuracy: 0.6666666666666666\n",
            "Random Forest Accuracy: 0.6166666666666667\n"
          ]
        }
      ]
    },
    {
      "cell_type": "code",
      "source": [
        "# 9. Bias-Variance Tradeoff Comment\n",
        "print(\"\"\"\n",
        "- KNN with small k may have high variance (overfitting).\n",
        "- Random Forest reduces variance with many trees (averaging effect).\n",
        "- Goal: minimize both bias (wrong assumptions) and variance (too sensitive).\n",
        "\"\"\")"
      ],
      "metadata": {
        "colab": {
          "base_uri": "https://localhost:8080/"
        },
        "id": "pbc-K3hZ8SmP",
        "outputId": "05810464-7c4e-4f71-a4d3-fc78e0abdcf4"
      },
      "execution_count": 41,
      "outputs": [
        {
          "output_type": "stream",
          "name": "stdout",
          "text": [
            "\n",
            "- KNN with small k may have high variance (overfitting).\n",
            "- Random Forest reduces variance with many trees (averaging effect).\n",
            "- Goal: minimize both bias (wrong assumptions) and variance (too sensitive).\n",
            "\n"
          ]
        }
      ]
    },
    {
      "cell_type": "code",
      "source": [
        "# 10. Cross-Validation\n",
        "kfold = KFold(n_splits=5, shuffle=True, random_state=42)\n",
        "rf_cv_scores = cross_val_score(rf, features, labels, cv=kfold)\n",
        "print(\"Random Forest KFold CV Accuracy:\", np.mean(rf_cv_scores))\n",
        "\n",
        "loo = LeaveOneOut()\n",
        "small_features = features.sample(50, random_state=42)\n",
        "small_labels = labels.loc[small_features.index]\n",
        "loo_scores = cross_val_score(knn, small_features, small_labels, cv=loo)\n",
        "print(\"KNN LOO CV Accuracy (subset):\", np.mean(loo_scores))\n",
        "\n",
        "skfold = StratifiedKFold(n_splits=5, shuffle=True, random_state=42)\n",
        "stratified_scores = cross_val_score(rf, features, labels, cv=skfold)\n",
        "print(\"Random Forest StratifiedKFold CV Accuracy:\", np.mean(stratified_scores))"
      ],
      "metadata": {
        "colab": {
          "base_uri": "https://localhost:8080/"
        },
        "id": "s8PvH2iz8XXw",
        "outputId": "e6d27112-17e7-420d-f518-7b36a62a6fed"
      },
      "execution_count": 42,
      "outputs": [
        {
          "output_type": "stream",
          "name": "stdout",
          "text": [
            "Random Forest KFold CV Accuracy: 0.5733333333333334\n",
            "KNN LOO CV Accuracy (subset): 0.52\n",
            "Random Forest StratifiedKFold CV Accuracy: 0.6133333333333334\n"
          ]
        }
      ]
    },
    {
      "cell_type": "code",
      "source": [
        "# 11. Grid Search for Random Forest\n",
        "param_grid = {\n",
        "    'n_estimators': [50, 100, 150],\n",
        "    'max_features': [1, 2]\n",
        "}\n",
        "\n",
        "grid_search = GridSearchCV(RandomForestClassifier(random_state=42, class_weight=class_weights), param_grid, cv=5, scoring='accuracy')\n",
        "grid_search.fit(X_train, y_train)\n",
        "\n",
        "print(\"Best Parameters from Grid Search:\", grid_search.best_params_)\n",
        "final_model = grid_search.best_estimator_\n",
        "final_preds = final_model.predict(X_test)\n",
        "print(\"Final Model Accuracy after Grid Search:\", accuracy_score(y_test, final_preds))"
      ],
      "metadata": {
        "colab": {
          "base_uri": "https://localhost:8080/"
        },
        "id": "yc8ar9bX-LOS",
        "outputId": "32296b26-b95f-4b12-9d64-851ec598c7ae"
      },
      "execution_count": 43,
      "outputs": [
        {
          "output_type": "stream",
          "name": "stdout",
          "text": [
            "Best Parameters from Grid Search: {'max_features': 2, 'n_estimators': 50}\n",
            "Final Model Accuracy after Grid Search: 0.6333333333333333\n"
          ]
        }
      ]
    },
    {
      "cell_type": "code",
      "source": [
        "# 12. Confusion Matrix\n",
        "cm = confusion_matrix(y_test, final_preds)\n",
        "sns.heatmap(cm, annot=True, fmt='d')\n",
        "plt.title('Confusion Matrix (Improved)')\n",
        "plt.xlabel('Predicted')\n",
        "plt.ylabel('Actual')\n",
        "plt.show()\n",
        "\n",
        "# 13. Completion Message\n",
        "print(\"\\nFinished: Feature Engineering, Model Selection, Bias-Variance, Cross Validation, Grid Search \")"
      ],
      "metadata": {
        "colab": {
          "base_uri": "https://localhost:8080/",
          "height": 507
        },
        "id": "NKdkNT4a-Qoq",
        "outputId": "c821aaa1-e4d2-4ad8-fe67-9d1811652702"
      },
      "execution_count": 45,
      "outputs": [
        {
          "output_type": "display_data",
          "data": {
            "text/plain": [
              "<Figure size 640x480 with 2 Axes>"
            ],
            "image/png": "[encoded data removed]"
          },
          "metadata": {}
        },
        {
          "output_type": "stream",
          "name": "stdout",
          "text": [
            "\n",
            "Finished: Feature Engineering, Model Selection, Bias-Variance, Cross Validation, Grid Search \n"
          ]
        }
      ]
    }
  ]
}