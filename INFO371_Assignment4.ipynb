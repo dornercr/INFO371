{
  "nbformat": 4,
  "nbformat_minor": 0,
  "metadata": {
    "kernelspec": {
      "display_name": "Python 3",
      "name": "python3"
    },
    "language_info": {
      "codemirror_mode": {
        "name": "ipython",
        "version": 3
      },
      "file_extension": ".py",
      "mimetype": "text/x-python",
      "name": "python",
      "nbconvert_exporter": "python",
      "pygments_lexer": "ipython3",
      "version": "3.7.6"
    },
    "colab": {
      "provenance": [],
      "gpuType": "T4",
      "include_colab_link": true
    },
    "accelerator": "GPU"
  },
  "cells": [
    {
      "cell_type": "markdown",
      "metadata": {
        "id": "view-in-github",
        "colab_type": "text"
      },
      "source": [
        "<a href=\"https://colab.research.google.com/github/dornercr/INFO371/blob/main/INFO371_Assignment4.ipynb\" target=\"_parent\"><img src=\"https://colab.research.google.com/assets/colab-badge.svg\" alt=\"Open In Colab\"/></a>"
      ]
    },
    {
      "cell_type": "markdown",
      "metadata": {
        "id": "85Z_qr_HpWBn"
      },
      "source": [
        "# Drexel University\n",
        "## College of Computing and Informatics\n",
        "## INFO 371: Data Mining Applications\n",
        "## Assignment 4\n",
        "\n",
        "## Due Date: Sunday, May 25, 2025\n",
        "### This assignment counts for 15% of the final grade\n",
        "\n",
        "\n",
        "## **DON'T FORGET TO PUT YOUR NAME BELOW**\n",
        "\n",
        "## **NAME:**\n",
        "\n",
        "\n",
        "### A. What to Hand In\n",
        "\n",
        "1. A completed this Jupyter notebook.\n",
        "2. Any data sets used in the assignment.\n",
        "3. Any multimedia and images used in the assignment.\n",
        "\n",
        "### B. How to Hand In\n",
        "\n",
        "Submit your files through the course website in the Blackboard Learn system.\n",
        "\n",
        "### C. When to Hand In\n",
        "\n",
        "1. Submit your assignment no later than 11:59pm in the due date.\n",
        "2. There will be a 10% (absolute value) deduction for each day of lateness, to a maximum of 3 days; assignments will not be accepted beyond that point. Missing work will earn a zero grade.\n",
        "\n",
        "### D. Answer the questions."
      ]
    },
    {
      "cell_type": "markdown",
      "source": [
        "## Import Libraries"
      ],
      "metadata": {
        "id": "dth01dEsCA3U"
      }
    },
    {
      "cell_type": "code",
      "metadata": {
        "id": "Yk7oMQL1pWB0"
      },
      "source": [
        "import pandas as pd\n",
        "import numpy as np\n",
        "import matplotlib.pyplot as plt\n",
        "from PIL import Image\n",
        "import h5py\n",
        "\n",
        "import keras"
      ],
      "execution_count": null,
      "outputs": []
    },
    {
      "cell_type": "markdown",
      "metadata": {
        "id": "ej1_RVHovBUF"
      },
      "source": [
        "## Description\n",
        "- In this assignment you are asked to build neural networks to classify butterflies.\n",
        "- The dataset and problem are from Kaggle's Butterfly Image Classification: https://www.kaggle.com/datasets/phucthaiv02/butterfly-image-classification"
      ]
    },
    {
      "cell_type": "markdown",
      "source": [
        "## Use GPU in the Runtime type.\n",
        "- Change the runtime type to the available GPU.\n",
        "- Run the following code to check the availability of GPU."
      ],
      "metadata": {
        "id": "t3dIADC67J2X"
      }
    },
    {
      "cell_type": "code",
      "source": [
        "import tensorflow as tf\n",
        "\n",
        "# Check for GPU availability\n",
        "print(\"Num GPUs Available: \", len(tf.config.experimental.list_physical_devices('GPU')))\n",
        "\n",
        "# Set TensorFlow to use GPU if available\n",
        "gpus = tf.config.experimental.list_physical_devices('GPU')\n",
        "if gpus:\n",
        "    try:\n",
        "        for gpu in gpus:\n",
        "            tf.config.experimental.set_memory_growth(gpu, True)  # Avoids memory allocation issues\n",
        "        tf.config.experimental.set_visible_devices(gpus[0], 'GPU')  # Use only the first GPU\n",
        "        print(\"Using GPU:\", gpus[0])\n",
        "    except RuntimeError as e:\n",
        "        print(e)"
      ],
      "metadata": {
        "colab": {
          "base_uri": "https://localhost:8080/"
        },
        "id": "CXJirl9A-oeY",
        "outputId": "0a924cad-ae0d-4e38-b49a-ede1921d6529"
      },
      "execution_count": null,
      "outputs": [
        {
          "output_type": "stream",
          "name": "stdout",
          "text": [
            "Num GPUs Available:  1\n",
            "Using GPU: PhysicalDevice(name='/physical_device:GPU:0', device_type='GPU')\n"
          ]
        }
      ]
    },
    {
      "cell_type": "markdown",
      "source": [
        "## The Dataset\n",
        "- The dataset contains 75 different classes of Butterflies.\n",
        "- The dataset contains 6499 butterfly images with labels.\n",
        "- The dataset is stored in the file `butterfly_labels.h5`.\n",
        "- The following code loads the images as a $6499\\times 64\\times 64\\times 3$ numpy array and the corresponding $6499$ labels."
      ],
      "metadata": {
        "id": "95U6hdw0o7Kf"
      }
    },
    {
      "cell_type": "code",
      "source": [
        "# copy the path of the file butterfly_labels.h5\n",
        "input_h5_file= \"YOUR PATH TO THE H5 FILE\"\n",
        "\n",
        "# load the saved HDF5 file\n",
        "with h5py.File(input_h5_file, \"r\") as f:\n",
        "    images = f[\"images\"][:]  # Load images\n",
        "    labels = f[\"labels\"][:]  # Load labels (stored as bytes)\n",
        "\n",
        "    # Convert bytes to strings\n",
        "    labels = [label.decode(\"utf-8\") for label in labels]"
      ],
      "metadata": {
        "id": "PQIp4ukzqaZX"
      },
      "execution_count": null,
      "outputs": []
    },
    {
      "cell_type": "markdown",
      "metadata": {
        "id": "qoy9KlGivyUh"
      },
      "source": [
        "## Question 1 [5 points]: Show the labels of the first 10 images."
      ]
    },
    {
      "cell_type": "markdown",
      "source": [
        "### Answer:"
      ],
      "metadata": {
        "id": "MYRdOHCZmBUh"
      }
    },
    {
      "cell_type": "code",
      "source": [],
      "metadata": {
        "id": "obzZirbpmDrm"
      },
      "execution_count": null,
      "outputs": []
    },
    {
      "cell_type": "code",
      "source": [],
      "metadata": {
        "id": "mZHNxnEXmDXj"
      },
      "execution_count": null,
      "outputs": []
    },
    {
      "cell_type": "markdown",
      "metadata": {
        "id": "4AxWOIf4wE7H"
      },
      "source": [
        "## Question 2 [5 points]: Show the shape of the `images` array."
      ]
    },
    {
      "cell_type": "markdown",
      "source": [
        "### Answer:"
      ],
      "metadata": {
        "id": "TwuSuUWPmFz4"
      }
    },
    {
      "cell_type": "code",
      "source": [],
      "metadata": {
        "id": "hA_HllpBmHF6"
      },
      "execution_count": null,
      "outputs": []
    },
    {
      "cell_type": "code",
      "source": [],
      "metadata": {
        "id": "awq1u6BBmIWp"
      },
      "execution_count": null,
      "outputs": []
    },
    {
      "cell_type": "markdown",
      "metadata": {
        "id": "v2RE5P3Pwkz6"
      },
      "source": [
        "## Question 3 [5 points]: Verify that there are 75 uniques labels and list the labels."
      ]
    },
    {
      "cell_type": "markdown",
      "source": [
        "### Answer:"
      ],
      "metadata": {
        "id": "b0M0JJ67mJF7"
      }
    },
    {
      "cell_type": "code",
      "source": [],
      "metadata": {
        "id": "rn9WnYu5mLaP"
      },
      "execution_count": null,
      "outputs": []
    },
    {
      "cell_type": "code",
      "source": [],
      "metadata": {
        "id": "toRo71ygmLMn"
      },
      "execution_count": null,
      "outputs": []
    },
    {
      "cell_type": "markdown",
      "metadata": {
        "id": "ajjgDjHSxbYJ"
      },
      "source": [
        "## Question 4 [5 points]: Display the first 10 images in a $2\\times 5$ grid. Label each image with its correponding label."
      ]
    },
    {
      "cell_type": "markdown",
      "source": [
        "### Answer:"
      ],
      "metadata": {
        "id": "1M0t3c2UmM8T"
      }
    },
    {
      "cell_type": "code",
      "source": [],
      "metadata": {
        "id": "UU_d-ZDQmN3R"
      },
      "execution_count": null,
      "outputs": []
    },
    {
      "cell_type": "code",
      "source": [],
      "metadata": {
        "id": "4FOMXYygmOTg"
      },
      "execution_count": null,
      "outputs": []
    },
    {
      "cell_type": "markdown",
      "metadata": {
        "id": "dhDO6qF1yJRE"
      },
      "source": [
        "## Question 5 [5 points]: Show the range of pixel values in the `images` array as `[min, max]`.\n"
      ]
    },
    {
      "cell_type": "markdown",
      "source": [
        "### Answer:"
      ],
      "metadata": {
        "id": "xC6e91nQmPYm"
      }
    },
    {
      "cell_type": "code",
      "source": [],
      "metadata": {
        "id": "Z46ofQXkmS0l"
      },
      "execution_count": null,
      "outputs": []
    },
    {
      "cell_type": "code",
      "source": [],
      "metadata": {
        "id": "Vl0W3mRSmSsE"
      },
      "execution_count": null,
      "outputs": []
    },
    {
      "cell_type": "markdown",
      "source": [
        "## Question 6 [5 points]: Normalize the pixel values to the range of `[0, 1]`."
      ],
      "metadata": {
        "id": "e7CZxGs2tttz"
      }
    },
    {
      "cell_type": "markdown",
      "source": [
        "### Answer:"
      ],
      "metadata": {
        "id": "NdXz5BLLmTX_"
      }
    },
    {
      "cell_type": "code",
      "source": [],
      "metadata": {
        "id": "ic7HHX-EmUOO"
      },
      "execution_count": null,
      "outputs": []
    },
    {
      "cell_type": "code",
      "source": [],
      "metadata": {
        "id": "nP2N1rWRmUo0"
      },
      "execution_count": null,
      "outputs": []
    },
    {
      "cell_type": "markdown",
      "source": [
        "## Question 7 [10 points]: Convert the string labels to integer labels. Store the resultant integer labels in a numpy array `y`."
      ],
      "metadata": {
        "id": "qLDj77FiwveS"
      }
    },
    {
      "cell_type": "markdown",
      "source": [
        "### Answer:"
      ],
      "metadata": {
        "id": "4xJjahGtmVyi"
      }
    },
    {
      "cell_type": "code",
      "source": [],
      "metadata": {
        "id": "j8w4h2eNmW3d"
      },
      "execution_count": null,
      "outputs": []
    },
    {
      "cell_type": "code",
      "source": [],
      "metadata": {
        "id": "sRAyib5fmXJ9"
      },
      "execution_count": null,
      "outputs": []
    },
    {
      "cell_type": "markdown",
      "source": [
        "## Quesetion 8 [10 points]: Split the normalized data and labels into training and test sets with the ratio 80:20. Ensure the label distribution is reflected in both training and test sets."
      ],
      "metadata": {
        "id": "I2MimiDKxiHM"
      }
    },
    {
      "cell_type": "markdown",
      "source": [
        "### Answer:"
      ],
      "metadata": {
        "id": "8THJPWpcmYFw"
      }
    },
    {
      "cell_type": "code",
      "source": [],
      "metadata": {
        "id": "UqDFHwdgmb5d"
      },
      "execution_count": null,
      "outputs": []
    },
    {
      "cell_type": "code",
      "source": [],
      "metadata": {
        "id": "UF7WIc1fmbv1"
      },
      "execution_count": null,
      "outputs": []
    },
    {
      "cell_type": "markdown",
      "source": [
        "## Question 9 [10 points]: Write a Keras program to define a 2-layer neural network model.\n",
        "\n",
        "The model should take images of shape (64, 64, 3) as input and classify them into 75 categories. It should consist of the following layers:\n",
        "\n",
        "- An input layer matching the given image shape.\n",
        "- A dense hidden layer with 512 neurons and ReLU activation.\n",
        "- An output layer with 75 neurons and softmax activation for multi-class classification.\n",
        "Print the model summary after defining the architecture."
      ],
      "metadata": {
        "id": "mMizYHy51ZTr"
      }
    },
    {
      "cell_type": "markdown",
      "source": [
        "### Answer:"
      ],
      "metadata": {
        "id": "AXk3OFwnmdnT"
      }
    },
    {
      "cell_type": "code",
      "source": [],
      "metadata": {
        "id": "vH2Ctkvjme3p"
      },
      "execution_count": null,
      "outputs": []
    },
    {
      "cell_type": "code",
      "source": [],
      "metadata": {
        "id": "Qt5aaWximfRr"
      },
      "execution_count": null,
      "outputs": []
    },
    {
      "cell_type": "markdown",
      "source": [
        "## Question 10 [10 points]: Compile, Train, and Test the Model:\n",
        "- Compile the model using the Adam optimizer and sparse categorical cross-entropy as the loss function.\n",
        "- Use `learning_rate=1e-3`.\n",
        "- Use accuracy as the evaluation metric.\n",
        "- Train the model on the provided training dataset (X_train, y_train) for 20 epochs with a batch size of 32.\n",
        "- Use the test dataset (X_test, y_test) for validation.\n",
        "- Store the training history in a variable.\n",
        "- Plot the training and validation accuracy and loss over epochs after training."
      ],
      "metadata": {
        "id": "0lIGZij_2clF"
      }
    },
    {
      "cell_type": "markdown",
      "source": [
        "### Answer:"
      ],
      "metadata": {
        "id": "gGhIv3wJmgmx"
      }
    },
    {
      "cell_type": "code",
      "source": [],
      "metadata": {
        "id": "jdZD3_tPmhv9"
      },
      "execution_count": null,
      "outputs": []
    },
    {
      "cell_type": "code",
      "source": [],
      "metadata": {
        "id": "g4PyFV4LmiCH"
      },
      "execution_count": null,
      "outputs": []
    },
    {
      "cell_type": "markdown",
      "source": [
        "## Question 11 [10 points]:  Do you find the performance of the 2-layer neural network satisfactory? In this question, design a neural network that outperforms the 2-layer NN."
      ],
      "metadata": {
        "id": "duYV1Xgb59Pw"
      }
    },
    {
      "cell_type": "markdown",
      "source": [
        "### Answer:"
      ],
      "metadata": {
        "id": "VkHjHGFsmkK7"
      }
    },
    {
      "cell_type": "code",
      "source": [],
      "metadata": {
        "id": "w3YF4Dq-mlMw"
      },
      "execution_count": null,
      "outputs": []
    },
    {
      "cell_type": "code",
      "source": [],
      "metadata": {
        "id": "CVXoKlsKmlfZ"
      },
      "execution_count": null,
      "outputs": []
    },
    {
      "cell_type": "markdown",
      "source": [
        "## Question 12 [20 points]: Compare and analyze the performance of the 2 neural networks you have developed and evaluated.\n",
        "\n",
        "- Compare the accuracy trends of both models. Which model achieves higher accuracy, and how quickly does it converge?\n",
        "- Compare the training and validation loss curves. Does either model show signs of overfitting or underfitting?\n",
        "- Explain how each model processes image data. Why does one model perform better than other for the butterfly classification?\n"
      ],
      "metadata": {
        "id": "roZWrPjK9EF0"
      }
    },
    {
      "cell_type": "markdown",
      "source": [
        "### Answer:"
      ],
      "metadata": {
        "id": "ITU2cqbLmoNu"
      }
    },
    {
      "cell_type": "markdown",
      "source": [],
      "metadata": {
        "id": "tRCf1Qo8mqcV"
      }
    },
    {
      "cell_type": "markdown",
      "source": [],
      "metadata": {
        "id": "zb92fXYhmqTV"
      }
    }
  ]
}