{
  "nbformat": 4,
  "nbformat_minor": 0,
  "metadata": {
    "colab": {
      "name": "beginnersPythonCheatSheet.ipynb",
      "provenance": [],
      "include_colab_link": true
    },
    "kernelspec": {
      "name": "python3",
      "display_name": "Python 3"
    }
  },
  "cells": [
    {
      "cell_type": "markdown",
      "metadata": {
        "id": "view-in-github",
        "colab_type": "text"
      },
      "source": [
        "<a href=\"https://colab.research.google.com/github/dornercr/INFO371/blob/main/INFO371_beginners_Python_Cheat_Sheet.ipynb\" target=\"_parent\"><img src=\"https://colab.research.google.com/assets/colab-badge.svg\" alt=\"Open In Colab\"/></a>"
      ]
    },
    {
      "cell_type": "markdown",
      "metadata": {
        "id": "gLNrmNiKvQ-s"
      },
      "source": [
        "# Beginner's Python Cheat Sheet\n",
        "\n",
        "Here is a python cheat sheet I have been working on to help students with learning"
      ]
    },
    {
      "cell_type": "markdown",
      "metadata": {
        "id": "JbuMvi3gvoZx"
      },
      "source": [
        "#Variables and Strings\n",
        "\n",
        "Variables are used to store values. A string is a series of\n",
        "characters, surrounded by single or double quotes"
      ]
    },
    {
      "cell_type": "markdown",
      "metadata": {
        "id": "54GPsnNsvtGx"
      },
      "source": [
        "#Hello World"
      ]
    },
    {
      "cell_type": "code",
      "metadata": {
        "id": "s6I9CyHRvnth",
        "colab": {
          "base_uri": "https://localhost:8080/"
        },
        "outputId": "6ce3e100-62db-4bce-ffd2-af523158c770"
      },
      "source": [
        "print('Hello World!')\n",
        "print(\"Hello World!\") # both are correct"
      ],
      "execution_count": null,
      "outputs": [
        {
          "output_type": "stream",
          "name": "stdout",
          "text": [
            "Hello World!\n",
            "Hello World!\n"
          ]
        }
      ]
    },
    {
      "cell_type": "markdown",
      "metadata": {
        "id": "M7M8-tVTv5zR"
      },
      "source": [
        "#Hello world with a variable"
      ]
    },
    {
      "cell_type": "code",
      "metadata": {
        "id": "3S7FJ_MIvNH-",
        "outputId": "5da720a6-32aa-4b36-ed7f-c8c51f3bb570",
        "colab": {
          "base_uri": "https://localhost:8080/"
        }
      },
      "source": [
        "msg = \"Hello world!\"\n",
        "print(msg)"
      ],
      "execution_count": null,
      "outputs": [
        {
          "output_type": "stream",
          "name": "stdout",
          "text": [
            "Hello world!\n"
          ]
        }
      ]
    },
    {
      "cell_type": "markdown",
      "metadata": {
        "id": "T2r6BVrl8AOp"
      },
      "source": [
        "#Concatenation (combining strings)"
      ]
    },
    {
      "cell_type": "code",
      "metadata": {
        "id": "gnPMeEir8Bma",
        "outputId": "22959118-db11-4653-8a1a-7821bba216ef",
        "colab": {
          "base_uri": "https://localhost:8080/"
        }
      },
      "source": [
        "first_name = 'albert'\n",
        "last_name = 'einstein'\n",
        "full_name = first_name + ' ' + last_name\n",
        "print(full_name)"
      ],
      "execution_count": null,
      "outputs": [
        {
          "output_type": "stream",
          "name": "stdout",
          "text": [
            "albert einstein\n"
          ]
        }
      ]
    },
    {
      "cell_type": "markdown",
      "metadata": {
        "id": "2bSvHrSq8Gwu"
      },
      "source": [
        "# Lists\n",
        "A list stores a series of items in a particular order. You\n",
        "access items using an index, or within a loop."
      ]
    },
    {
      "cell_type": "code",
      "metadata": {
        "id": "2dRoQeDE8IQp",
        "outputId": "bbaa4ed1-e5b4-4f77-d241-b43d64d5b1df",
        "colab": {
          "base_uri": "https://localhost:8080/"
        }
      },
      "source": [
        "# Make a list\n",
        "bikes = ['trek', 'redline', 'giant']\n",
        "\n",
        "# Get the first item in a list\n",
        "first_bike = bikes[0]\n",
        "\n",
        "# Get the last item in a list\n",
        "last_bike = bikes[-1]\n",
        "\n",
        "# Looping through a list\n",
        "for bike in bikes:\n",
        "    print(bike)\n",
        "\n",
        "# Adding items to a list\n",
        "bikes = []\n",
        "bikes.append('trek')\n",
        "bikes.append('redline')\n",
        "bikes.append('giant')\n",
        "\n",
        "# Making numerical lists\n",
        "squares = []\n",
        "for x in range(1,11):\n",
        "    squares.append(x**2)\n",
        "squares\n",
        "\n",
        "# List cont.\n",
        "#  List comprehensions\n",
        "squares = [x**2 for x in range(1,11)]\n",
        "\n",
        "#slicing a list\n",
        "finishers = ['sam', 'bob', 'ada', 'bea']\n",
        "first_two = finishers[0:2] #or first_two = finishers[:2]\n",
        "\n",
        "#  Copying a list\n",
        "copy_of_bikes = bikes.copy() #or copy_of_bikes = bikes[:]\n",
        "\n",
        "# Wanna learn more about *args and **kwargs see this below:\n",
        "# https://www.geeksforgeeks.org/args-kwargs-python/"
      ],
      "execution_count": null,
      "outputs": [
        {
          "output_type": "stream",
          "name": "stdout",
          "text": [
            "trek\n",
            "redline\n",
            "giant\n"
          ]
        }
      ]
    },
    {
      "cell_type": "markdown",
      "metadata": {
        "id": "oT_88LyP9lKS"
      },
      "source": [
        "# Tuples\n",
        "Tuples are similar to lists, but the items in a tuple cannot be modified"
      ]
    },
    {
      "cell_type": "code",
      "metadata": {
        "id": "wd_2lvhE9j8M",
        "outputId": "2391f792-df2e-4cdf-aaaf-cf7d92861467",
        "colab": {
          "base_uri": "https://localhost:8080/"
        }
      },
      "source": [
        "# making a tuple\n",
        "dimensions = (1920, 1080)\n",
        "squares = [x**2 for x in range(10)]\n",
        "squares\n"
      ],
      "execution_count": null,
      "outputs": [
        {
          "output_type": "execute_result",
          "data": {
            "text/plain": [
              "[0, 1, 4, 9, 16, 25, 36, 49, 64, 81]"
            ]
          },
          "metadata": {},
          "execution_count": 14
        }
      ]
    },
    {
      "cell_type": "markdown",
      "metadata": {
        "id": "LqnxaWc69ziH"
      },
      "source": [
        "# If statements\n",
        "If statements are used to test for particular conditions and\n",
        "respond appropriately.\n"
      ]
    },
    {
      "cell_type": "code",
      "metadata": {
        "id": "r2LTAlVX9cTe",
        "outputId": "276bdb0e-6f41-4fc0-8d33-773f07d1129e",
        "colab": {
          "base_uri": "https://localhost:8080/"
        }
      },
      "source": [
        "# Conditional tests\n",
        "x == 42 # equals\n",
        "x != 42 #not equal\n",
        "x > 42 #greater than\n",
        "x >= 42 #or equal to\n",
        "x < 42 #less than\n",
        "x <= 42 #or equal to\n",
        "x\n",
        "# Conditional test with lists\n",
        "'trek' in bikes\n",
        "'surly' not in bikes\n",
        "\n",
        "# Assigning boolean values\n",
        "game_active = True\n",
        "can_edit = False\n",
        "\n",
        "# A simple if test\n",
        "age=24\n",
        "if age>=18:\n",
        "    print('You can vote')\n",
        "\n",
        "#     If-elif-else statements\n",
        "ticket_price = 20\n",
        "if age < 4:\n",
        " ticket_price = 0\n",
        "elif age < 18:\n",
        " ticket_price = 10\n",
        "else:\n",
        " ticket_price = 15\n"
      ],
      "execution_count": null,
      "outputs": [
        {
          "output_type": "stream",
          "name": "stdout",
          "text": [
            "You can vote\n"
          ]
        }
      ]
    },
    {
      "cell_type": "markdown",
      "metadata": {
        "id": "hN0qKSjkBYeb"
      },
      "source": [
        "# Dictionaries\n",
        "\n",
        "Dictionaries store connections between pieces of\n",
        "information. Each item in a dictionary is a key-value pair.\n",
        "\n",
        "<!--  -->\n",
        "<!--  -->"
      ]
    },
    {
      "cell_type": "code",
      "metadata": {
        "id": "1rtUg1GL-QL5",
        "outputId": "0bda60de-07db-40af-fd38-66cbe49d7f0d",
        "colab": {
          "base_uri": "https://localhost:8080/"
        }
      },
      "source": [
        "# A Simple dictionary (key, value paires) or items={key: value, ...}\n",
        "alien = {'color': 'green', 'points': 5}\n",
        "\n",
        "# Access a value\n",
        "print(\"The alien's color is\" + alien['color'])\n",
        "\n",
        "# Addeing a new key-vale pair\n",
        "\n",
        "alien['x_positon'] = 0\n",
        "alien\n",
        "# Loopoing through all key-value pairs\n",
        "\n",
        "for key in alien:\n",
        "    print(key)\n",
        "\n",
        "fav_numbers = {'eric': 17, 'ever': 4}\n",
        "for name, number in fav_numbers.items():\n",
        "    print(name + ' loves ' + str(number))\n",
        "\n",
        "#   Looping through all keys\n",
        "for name in fav_numbers.keys():\n",
        "    print(name + ' loves a number')\n",
        "\n",
        "#   Looping through all values\n",
        "for number in fav_numbers.values():\n",
        "    print(str(number) + ' is a favorite')\n",
        "\n"
      ],
      "execution_count": null,
      "outputs": [
        {
          "output_type": "stream",
          "name": "stdout",
          "text": [
            "The alien's color isgreen\n",
            "color\n",
            "points\n",
            "x_positon\n",
            "eric loves 17\n",
            "ever loves 4\n",
            "eric loves a number\n",
            "ever loves a number\n",
            "17 is a favorite\n",
            "4 is a favorite\n"
          ]
        }
      ]
    },
    {
      "cell_type": "markdown",
      "metadata": {
        "id": "oPI9urJBDtAX"
      },
      "source": [
        "# User input\n",
        "Your programs can prompt the user for input. All input is\n",
        "stored as a string."
      ]
    },
    {
      "cell_type": "code",
      "metadata": {
        "id": "Ug_50AdxDw1O",
        "outputId": "df409e8d-383b-47d7-987b-2b4ab8441bcb",
        "colab": {
          "base_uri": "https://localhost:8080/"
        }
      },
      "source": [
        "# Prompting for value\n",
        "name = input('what is your name? ')\n",
        "print('Hello, ' + name + '!')\n",
        "\n",
        "# Prompting for for numerical input\n",
        "age = input('How old are you? ')\n",
        "age = int(age)\n",
        "\n",
        "pi = input('what is  the value of pi? ')\n",
        "pi = float(pi)\n",
        "print(pi)"
      ],
      "execution_count": null,
      "outputs": [
        {
          "output_type": "stream",
          "name": "stdout",
          "text": [
            "what is your name? Charles\n",
            "Hello, Charles!\n",
            "How old are you? 38\n",
            "what is  the value of pi? 3.14\n",
            "3.14\n"
          ]
        }
      ]
    },
    {
      "cell_type": "markdown",
      "metadata": {
        "id": "kS07gVA_EkNM"
      },
      "source": [
        "# While loops\n",
        "A while loop repeats a block of code as long as a certain\n",
        "condition is true.\n"
      ]
    },
    {
      "cell_type": "code",
      "metadata": {
        "id": "ugoi2KVqEu4E",
        "colab": {
          "base_uri": "https://localhost:8080/"
        },
        "outputId": "92ca1e69-c68a-4382-8270-3c3685682f16"
      },
      "source": [
        "# A simple while loop\n",
        "current_value = 1\n",
        "while current_value <= 5:\n",
        "    print(current_value)\n",
        "    current_value +=1\n",
        "\n",
        "  # Letting the user choose when to quit\n",
        "msg = ''\n",
        "while msg !='quit':\n",
        "    msg = input('what is your message? ')\n",
        "    print(msg)\n",
        "\n"
      ],
      "execution_count": null,
      "outputs": [
        {
          "output_type": "stream",
          "name": "stdout",
          "text": [
            "1\n",
            "2\n",
            "3\n",
            "4\n",
            "5\n",
            "what is your message?blue\n",
            "blue\n",
            "what is your message?quit\n",
            "quit\n"
          ]
        }
      ]
    },
    {
      "cell_type": "markdown",
      "metadata": {
        "id": "fOR4wxx_FP2j"
      },
      "source": [
        "# Functions\n",
        "Functions are named blocks of code, designed to do one\n",
        "specific job. Information passed to a function is called an\n",
        "argument, and information received by a function is called a\n",
        "parameter"
      ]
    },
    {
      "cell_type": "code",
      "metadata": {
        "id": "QQobuOA4FTXc",
        "outputId": "fbacff90-6c50-4a9d-f7c1-f8da6ceca7a1",
        "colab": {
          "base_uri": "https://localhost:8080/"
        }
      },
      "source": [
        "#  A simplefunction\n",
        "def greet_user():\n",
        "    \"\"\"Display a simple greeting\"\"\"\n",
        "    print('Hello!')\n",
        "\n",
        "greet_user()\n",
        "greet_user.__doc__ # the comment above between \"\"\"doc\"\"\"\n",
        "\n",
        "\n",
        "# passing an argument\n",
        "def greet_user(username):\n",
        "    \"\"\"Display a personlized greeting greeting\"\"\"\n",
        "    print(\"Hello, \" + username + \"!\")\n",
        "\n",
        "greet_user('Jesse')\n",
        "\n",
        "# Default values for parameters\n",
        "def make_pizza(topping='bacon'):\n",
        "    \"\"\"Make a single-topping pizza.\"\"\"\n",
        "    print(\"Have a \" + topping + \" pizza!\")\n",
        "\n",
        "make_pizza()\n",
        "make_pizza('pepperroni')\n",
        "\n",
        "# Returning a value\n",
        "def add_numbers(x,y):\n",
        "    \"\"\"Add two numbers and return the sum\"\"\"\n",
        "    return x + y\n",
        "\n",
        "sum = add_numbers(3,4)\n",
        "print(sum)\n",
        "\n"
      ],
      "execution_count": null,
      "outputs": [
        {
          "output_type": "stream",
          "name": "stdout",
          "text": [
            "Hello!\n",
            "Hello, Jesse!\n",
            "Have a bacon pizza!\n",
            "Have a pepperroni pizza!\n",
            "7\n"
          ]
        }
      ]
    },
    {
      "cell_type": "markdown",
      "metadata": {
        "id": "O1oPM0K6G3F9"
      },
      "source": [
        "# Classes\n",
        "A class defines the behavior of an object and the kind of\n",
        "information an object can store. The information in a class\n",
        "is stored in attributes, and functions that belong to a class\n",
        "are called methods. A child class inherits the attributes and\n",
        "methods from its parent class."
      ]
    },
    {
      "cell_type": "code",
      "metadata": {
        "id": "Pl1J0_FRG9PS",
        "outputId": "a8bc1d96-af1a-443a-c913-1a25f4a6100c",
        "colab": {
          "base_uri": "https://localhost:8080/"
        }
      },
      "source": [
        "# Creating a dog class\n",
        "class Dog():\n",
        "  \"\"\"Represent a dog\"\"\"\n",
        "\n",
        "  def __init__(self, name):\n",
        "      \"\"\"Initialize dog object\"\"\"\n",
        "      self.name = name\n",
        "\n",
        "  def sit(self):\n",
        "      \"\"\"Simulate sitting\"\"\"\n",
        "      print(self.name + \" is sitting.\")\n",
        "\n",
        "#how to use Dog(name) e.g. Dog('Peso')\n",
        "my_dog = Dog('Peso')\n",
        "\n",
        "print(my_dog.name + \" is a great dog!\")\n",
        "my_dog.sit()\n",
        "\n",
        "# Inheritance\n",
        "\n",
        "class SARDog(Dog):\n",
        "    \"\"\"represent a search dog.\"\"\"\n",
        "\n",
        "    def __init__(self, name):\n",
        "        \"\"\"Initialize the sardog\"\"\"\n",
        "        super().__init__(name)\n",
        "\n",
        "    def search(self):\n",
        "        \"\"\"Simulate searching.\"\"\"\n",
        "        print(self.name + \" is searching\")\n",
        "\n",
        "my_dog = SARDog('Willie')\n",
        "\n",
        "print(my_dog.name + \"is a search dog.\")\n",
        "my_dog.sit()\n",
        "my_dog.search()"
      ],
      "execution_count": null,
      "outputs": [
        {
          "output_type": "stream",
          "name": "stdout",
          "text": [
            "Peso is a great dog!\n",
            "Peso is sitting.\n",
            "Willieis a search dog.\n",
            "Willie is sitting.\n",
            "Willie is searching\n"
          ]
        }
      ]
    },
    {
      "cell_type": "markdown",
      "metadata": {
        "id": "T25kIrPDKUQN"
      },
      "source": [
        "# Infinite Skills\n",
        "\n",
        "If you had inifite programing skills, what would you build?\n",
        "\n",
        "As you're learning to program, it's helpful to think\n",
        "about the real-world projects you'd like to create. It's\n",
        "a good habit to keep an \"ideas\" notebook that you\n",
        "can refer to whenever you want to start a new project.\n",
        "If you haven't done so already, take a few minutes\n",
        "and describe three projects you'd like to create.\n"
      ]
    },
    {
      "cell_type": "markdown",
      "metadata": {
        "id": "7EesJJKDLTxN"
      },
      "source": [
        "# Working with files\n",
        "Your programs can read from files and write to files. Files\n",
        "are opened in read mode ('r') by default, but can also be\n",
        "opened in write mode ('w') and append mode ('a')."
      ]
    },
    {
      "cell_type": "code",
      "metadata": {
        "id": "gueQCJxNHnbm",
        "colab": {
          "base_uri": "https://localhost:8080/"
        },
        "outputId": "972c2eda-c5ba-4d50-e9b0-8f56f8ac3e62"
      },
      "source": [
        "# Create a file txt file\n",
        "fh = open('demo.txt','w')\n",
        "for i in range(10):\n",
        "    fh.write(\"this is the line no %d\\n\" % i)\n",
        "\n",
        "fh.close()\n",
        "\n",
        "# Reading a file and storing its lines\n",
        "\n",
        "filename = 'demo.txt' #'sidedhartha.txt'\n",
        "\n",
        "with open(filename) as file_object:\n",
        "    lines = file_object.readlines()\n",
        "\n",
        "for line in lines:\n",
        "   print(line)\n",
        "\n",
        "\n",
        "# Writing to a file\n",
        "filename = 'journal.txt'\n",
        "with open(filename, 'w') as file_object:\n",
        "    file_object.write(\"I love programing.\")\n",
        "\n",
        "#Appending to a file\n",
        "filename = 'journal.txt'\n",
        "with open(filename, 'a') as file_object:\n",
        "    file_object.write(\"\\nI love making games\")\n"
      ],
      "execution_count": null,
      "outputs": [
        {
          "output_type": "stream",
          "name": "stdout",
          "text": [
            "this is the line no 0\n",
            "\n",
            "this is the line no 1\n",
            "\n",
            "this is the line no 2\n",
            "\n",
            "this is the line no 3\n",
            "\n",
            "this is the line no 4\n",
            "\n",
            "this is the line no 5\n",
            "\n",
            "this is the line no 6\n",
            "\n",
            "this is the line no 7\n",
            "\n",
            "this is the line no 8\n",
            "\n",
            "this is the line no 9\n",
            "\n"
          ]
        }
      ]
    },
    {
      "cell_type": "markdown",
      "metadata": {
        "id": "PijT-u_BPKM9"
      },
      "source": [
        "# Exceptions\n",
        "Exceptions help you respond appropriately to errors that\n",
        "are likely to occur. You place code that might cause an\n",
        "error in the try block. Code that should run in response to\n",
        "an error goes in the except block. Code that should run only\n",
        "if the try block was successful goes in the else block."
      ]
    },
    {
      "cell_type": "code",
      "metadata": {
        "id": "uePsk4piPR9k",
        "outputId": "17da45e8-3c22-4e9f-e7d6-25a863f2a5bf",
        "colab": {
          "base_uri": "https://localhost:8080/"
        }
      },
      "source": [
        "#Catching an exception\n",
        "prompt = \"How many tickets do you need? \"\n",
        "num_tickets = input(prompt)\n",
        "\n",
        "try:\n",
        "    num_tickets = int(num_tickets)\n",
        "except ValueError:\n",
        "    print(\"Please try again.\")\n",
        "else:\n",
        "    print(\"Your tickers are printing.\")"
      ],
      "execution_count": null,
      "outputs": [
        {
          "output_type": "stream",
          "name": "stdout",
          "text": [
            "How many tickets do you need? ticket\n",
            "Please try again.\n"
          ]
        }
      ]
    },
    {
      "cell_type": "markdown",
      "metadata": {
        "id": "QGnDYloxPz4x"
      },
      "source": [
        "# Zen of Python\n",
        "Simple is better than complex\n",
        "\n",
        "If you have a choice between a simple and a complex\n",
        "solution, and both work, use the simple solution. Your\n",
        "code will be easier to maintain, and it will be easier\n",
        "for you and others to build on that code later on."
      ]
    },
    {
      "cell_type": "markdown",
      "metadata": {
        "id": "kpy2heyVijhb"
      },
      "source": [
        "# what are lists?\n",
        "\n",
        "A list stores a series of items in a particular order.\n",
        "Lists allow you to store sets of information in one\n",
        "place, whether you have just a few items or millions\n",
        "of items. Lists are one of Python's most powerful\n",
        "features readily accessible to new programmers, and\n",
        "they tie together many important concepts in\n",
        "programming.\n",
        "\n",
        "Defining a list\n",
        "\n",
        "Use square brackets to define a list, and use commas to\n",
        "separate individual items in the list. Use plural names for\n",
        "lists, to make your code easier to read."
      ]
    },
    {
      "cell_type": "code",
      "metadata": {
        "id": "WJcxaLTuP4Q7"
      },
      "source": [
        "#making a list\n",
        "users = ['val','bob','mia','ron','ned']\n"
      ],
      "execution_count": null,
      "outputs": []
    },
    {
      "cell_type": "markdown",
      "metadata": {
        "id": "mJeqcteEi5Y7"
      },
      "source": [
        "# Accessing elements\n",
        "Individual elements in a list are accessed according to their\n",
        "position, called the index. The index of the first element is\n",
        "0, the index of the second element is 1, and so forth.\n",
        "Negative indices refer to items at the end of the list. To get\n",
        "a particular element, write the name of the list and then the\n",
        "index of the element in square brackets."
      ]
    },
    {
      "cell_type": "code",
      "metadata": {
        "id": "AH_brKpVi_rB",
        "colab": {
          "base_uri": "https://localhost:8080/"
        },
        "outputId": "96df9b42-014b-4d0e-c8ee-1505fcdc8ae5"
      },
      "source": [
        "#Getting the first element\n",
        "first_element = users[0]\n",
        "#Getting the second element\n",
        "second_element = users[1]\n",
        "#Getting the last element\n",
        "last_element = users[-1]\n",
        "\n",
        "print(first_element)\n",
        "print(second_element)\n",
        "print(last_element)"
      ],
      "execution_count": null,
      "outputs": [
        {
          "output_type": "stream",
          "name": "stdout",
          "text": [
            "val\n",
            "bob\n",
            "ned\n"
          ]
        }
      ]
    },
    {
      "cell_type": "markdown",
      "metadata": {
        "id": "iAaOhhYsjJGp"
      },
      "source": [
        "# Modifying individual items\n",
        "Once you have defined a list, you can change individual elements in the list (but not in tuple). you do this by referring to the index of the item you want to modify.\n"
      ]
    },
    {
      "cell_type": "code",
      "metadata": {
        "id": "99ZlhREGjU12"
      },
      "source": [
        "# Changing an element\n",
        "users[0] = 'valerie'\n",
        "users[-2] = 'ronald'"
      ],
      "execution_count": null,
      "outputs": []
    },
    {
      "cell_type": "markdown",
      "metadata": {
        "id": "IWE37lqzjiEq"
      },
      "source": [
        "#Adding elements\n",
        "You can add elements to the endof a list, or you can insert them wherever you like in a list."
      ]
    },
    {
      "cell_type": "code",
      "metadata": {
        "id": "hKuyHLskjqbt",
        "colab": {
          "base_uri": "https://localhost:8080/"
        },
        "outputId": "189902a5-dc76-4a38-8536-9e332ab6d565"
      },
      "source": [
        "# Adding an element to the end of the list\n",
        "users.append('Amy')\n",
        "\n",
        "# Starting with an empty list (rememebr ctrl+? will do # haha good shortcut)\n",
        "\n",
        "users = []\n",
        "users.append('val')\n",
        "users.append('bob')\n",
        "users.append('mia')\n",
        "users\n",
        "# Inserting elements at a particualr position\n",
        "users.insert(0, 'joe')\n",
        "users.insert(3, 'bea')\n",
        "\n",
        "print(users)"
      ],
      "execution_count": null,
      "outputs": [
        {
          "output_type": "stream",
          "name": "stdout",
          "text": [
            "['joe', 'val', 'bob', 'bea', 'mia']\n"
          ]
        }
      ]
    },
    {
      "cell_type": "markdown",
      "metadata": {
        "id": "d7V5svTekWEa"
      },
      "source": [
        "# Removing elements\n",
        "You can remove elements by their position in a list. or by the value of the item. If you remove an item by its value, Python removes only the first item that has that value."
      ]
    },
    {
      "cell_type": "code",
      "metadata": {
        "id": "ObwrhwuWkkhh",
        "colab": {
          "base_uri": "https://localhost:8080/"
        },
        "outputId": "48f6a09f-df13-4eec-c3df-30c23e417bae"
      },
      "source": [
        "# Deleting an element by its position\n",
        "del users[-1]\n",
        "users.remove('bea') #users.remove('mia') will show ValueError\n",
        "\n",
        "print(users)"
      ],
      "execution_count": null,
      "outputs": [
        {
          "output_type": "stream",
          "name": "stdout",
          "text": [
            "['joe', 'val', 'bob']\n"
          ]
        }
      ]
    },
    {
      "cell_type": "markdown",
      "metadata": {
        "id": "pjFbXj3rlBDu"
      },
      "source": [
        "# Poping elements\n",
        "If you want towork with an element that you are removing from the list, you can 'pop' the elemetn. If you think of the list as a stack of items, pop() takes an item off the top of the stack. by default pop() returns the last element in the list, but you can also pop elements from any position in the list."
      ]
    },
    {
      "cell_type": "code",
      "metadata": {
        "id": "8xx5f1b-lef5",
        "colab": {
          "base_uri": "https://localhost:8080/"
        },
        "outputId": "283b07c6-6736-4e6d-d047-379bf878b891"
      },
      "source": [
        "#pop the last item from a list\n",
        "\n",
        "most_recent_user = users.pop()\n",
        "print(most_recent_user)\n",
        "\n",
        "# pop the first item in a list\n",
        "first_user = users.pop(0)\n",
        "print(first_user)\n"
      ],
      "execution_count": null,
      "outputs": [
        {
          "output_type": "stream",
          "name": "stdout",
          "text": [
            "bob\n",
            "joe\n"
          ]
        }
      ]
    },
    {
      "cell_type": "markdown",
      "metadata": {
        "id": "RrJcVUB3lX8J"
      },
      "source": [
        "#List Length\n",
        "The len() function returns the number of iterms in a list"
      ]
    },
    {
      "cell_type": "code",
      "metadata": {
        "id": "cD-lZ4Xfl9ea",
        "colab": {
          "base_uri": "https://localhost:8080/"
        },
        "outputId": "2d4adc9d-a2b4-4cc8-ee99-f162764e84d6"
      },
      "source": [
        "# Find the length of a list\n",
        "users = ['val','bob','mia','ron','ned']\n",
        "num_users = len(users)\n",
        "print(\"We have \" + str(num_users) + \" users.\" )"
      ],
      "execution_count": null,
      "outputs": [
        {
          "output_type": "stream",
          "name": "stdout",
          "text": [
            "We have 5 users.\n"
          ]
        }
      ]
    },
    {
      "cell_type": "markdown",
      "metadata": {
        "id": "_79RJhvTmkMU"
      },
      "source": [
        "# Sorting a list\n",
        "\n",
        "The sort() method changes the order of a list permanently.\n",
        "The sorted() function returns a copy of the list, leaving the\n",
        "original list unchanged. You can sort the items in a list in\n",
        "alphabetical order, or reverse alphabetical order. You can\n",
        "also reverse the original order of the list. Keep in mind that\n",
        "lowercase and uppercase letters may affect the sort order.\n"
      ]
    },
    {
      "cell_type": "code",
      "metadata": {
        "id": "3vH8REeRmsS6",
        "colab": {
          "base_uri": "https://localhost:8080/"
        },
        "outputId": "9cb82509-7421-47a9-9375-3c44103342ea"
      },
      "source": [
        "#  Sorting a list permanetly\n",
        "users.sort()\n",
        "users.append('AHA')\n",
        "\n",
        "# Sorting a list permanetly in reverse alphabetical order\n",
        "users.sort(reverse=True)\n",
        "\n",
        "# Sorting a list tempporarily\n",
        "\n",
        "print(sorted(users))\n",
        "print(sorted(users, reverse=True))\n",
        "\n",
        "# Reversing the order of a list\n",
        "users.reverse()"
      ],
      "execution_count": null,
      "outputs": [
        {
          "output_type": "stream",
          "name": "stdout",
          "text": [
            "['AHA', 'bob', 'mia', 'ned', 'ron', 'val']\n",
            "['val', 'ron', 'ned', 'mia', 'bob', 'AHA']\n"
          ]
        }
      ]
    },
    {
      "cell_type": "markdown",
      "metadata": {
        "id": "VPyMnoMenbHf"
      },
      "source": [
        "# Looping through a list\n",
        "Lists can contain millions of items, so Python provides an\n",
        "efficient way to loop through all the items in a list. When\n",
        "you set up a loop, Python pulls each item from the list one\n",
        "at a time and stores it in a temporary variable, which you\n",
        "provide a name for. This name should be the singular\n",
        "version of the list name.\n",
        " The indented block of code makes up the body of the\n",
        "loop, where you can work with each individual item. Any\n",
        "lines that are not indented run after the loop is completed"
      ]
    },
    {
      "cell_type": "code",
      "metadata": {
        "id": "OoN8M3rVnol4",
        "colab": {
          "base_uri": "https://localhost:8080/"
        },
        "outputId": "5ce1d1fc-7c99-42c6-ea7b-f97a1bcc2bda"
      },
      "source": [
        "#  Printing all items in a list\n",
        "\n",
        "for user in users:\n",
        "    print(user)\n",
        "\n",
        "# Printing a message for each item, and a seprate message afterwards\n",
        "\n",
        "for user in users:\n",
        "    print(\"Welcome, \" + user + \"!\")\n",
        "\n",
        "print(\"Welcome, we are glad to see you all\")\n"
      ],
      "execution_count": null,
      "outputs": [
        {
          "output_type": "stream",
          "name": "stdout",
          "text": [
            "AHA\n",
            "bob\n",
            "mia\n",
            "ned\n",
            "ron\n",
            "val\n",
            "Welcome, AHA!\n",
            "Welcome, bob!\n",
            "Welcome, mia!\n",
            "Welcome, ned!\n",
            "Welcome, ron!\n",
            "Welcome, val!\n",
            "Welcome, we are glad to see you all\n"
          ]
        }
      ]
    },
    {
      "cell_type": "markdown",
      "metadata": {
        "id": "dIUvYAkhzR4M"
      },
      "source": [
        "# The range() function\n",
        "\n",
        "You can use the range() function to work with a set of numbers efficiently. The range() function starts at 0 by default, and stops one number below the number passed to it. You can use the list() function to efficiently generate a large list of numbers\n"
      ]
    },
    {
      "cell_type": "code",
      "metadata": {
        "id": "WKn_kDwP0VFb"
      },
      "source": [
        "#  Printing the numbers 0 to 1000\n",
        "for number in range(1001):\n",
        "    print(number)\n",
        "\n",
        "# Printing the number 1 to 1000\n",
        "for number in range(1,1001):\n",
        "    print(number)\n",
        "\n",
        "# Making a list of numebrs from 1 to a millon\n",
        "numbers = list(range(1,10000001))\n",
        "len(numbers)\n"
      ],
      "execution_count": null,
      "outputs": []
    },
    {
      "cell_type": "markdown",
      "metadata": {
        "id": "XHVzzTJg1RdE"
      },
      "source": [
        "# Simple Statistics\n",
        "\n",
        "There are a number of simple statistics you can run on a list containing numerical data."
      ]
    },
    {
      "cell_type": "code",
      "metadata": {
        "id": "ZkGKpeaT1Y6f",
        "colab": {
          "base_uri": "https://localhost:8080/"
        },
        "outputId": "d170377c-d5a2-400e-8025-db8aee70888c"
      },
      "source": [
        "import builtins  # Importing the builtins module\n",
        "\n",
        "#  finding the minimum value in a list\n",
        "\n",
        "ages = [93, 99, 66, 17, 85, 1, 35, 82, 2, 77]\n",
        "youngest  = min(ages)\n",
        "\n",
        "# Finding the maximum value\n",
        "oldest = max(ages)\n",
        "\n",
        "# Finding the sum of all value\n",
        "# Renaming the variable to 'total_years' to avoid the conflict.\n",
        "total_years = builtins.sum(ages) # Using builtins.sum to access the original function\n",
        "print(youngest)\n",
        "print(oldest)\n",
        "print(total_years)"
      ],
      "execution_count": null,
      "outputs": [
        {
          "output_type": "stream",
          "name": "stdout",
          "text": [
            "1\n",
            "99\n",
            "557\n"
          ]
        }
      ]
    },
    {
      "cell_type": "markdown",
      "metadata": {
        "id": "oOS4A1u81zvC"
      },
      "source": [
        "# Slicing a list\n",
        "You can work with any set of elements from a list. A portion of a list is called a slice. To slice a list start with the index of the first item you want, then add a colon and the index after the last item you want. Leave off the first index to start at the beginning of the list, and leave off the last index to slice through the end of the list.\n"
      ]
    },
    {
      "cell_type": "code",
      "metadata": {
        "id": "VTMqiQdz18Oi",
        "colab": {
          "base_uri": "https://localhost:8080/"
        },
        "outputId": "c1277755-dd03-4fbe-d3a7-aabba9318a3a"
      },
      "source": [
        "#  Getting the first three items\n",
        "finishers = ['kai','abe','ada','gus','zoe']\n",
        "first_three = finishers[:3]\n",
        "\n",
        "#  Getting the middle three items\n",
        "middle_three = finishers[1:4]\n",
        "\n",
        "# Getting the last three items\n",
        "last_three = finishers[-3:]\n",
        "\n",
        "print(first_three)\n",
        "print(middle_three)\n",
        "print(last_three)"
      ],
      "execution_count": null,
      "outputs": [
        {
          "output_type": "stream",
          "name": "stdout",
          "text": [
            "['kai', 'abe', 'ada']\n",
            "['abe', 'ada', 'gus']\n",
            "['ada', 'gus', 'zoe']\n"
          ]
        }
      ]
    },
    {
      "cell_type": "markdown",
      "metadata": {
        "id": "w9Wlg6Tf2dXU"
      },
      "source": [
        "#Copying a list\n",
        "To copy a list make a slice that starts at the first item and ends at the last item. If you try to copy a list without using this approach, whatever you do to the copied list will affect the original list as well"
      ]
    },
    {
      "cell_type": "code",
      "metadata": {
        "id": "v4kWhSaR2heD",
        "colab": {
          "base_uri": "https://localhost:8080/"
        },
        "outputId": "fd46fa13-5df9-4235-f0f5-32263f241263"
      },
      "source": [
        "# Making a copy of a list\n",
        "finishers = ['kai','abe','ada','gus','zoe']\n",
        "copy_of_finishers = finishers.copy() #or copy_of_finishers = finishers[:]\n",
        "print(copy_of_finishers)\n"
      ],
      "execution_count": null,
      "outputs": [
        {
          "output_type": "stream",
          "name": "stdout",
          "text": [
            "['kai', 'abe', 'ada', 'gus', 'zoe']\n"
          ]
        }
      ]
    },
    {
      "cell_type": "markdown",
      "metadata": {
        "id": "0fuJwxvU22dU"
      },
      "source": [
        "# List comprehenstions\n",
        "You can use a loop to generate a list based on a range of numbers or on another list. This is a common operation, so Python offers a more efficient way to do it. List comprehensions may look complicated at first; if so, use the for loop approach until you're ready to start using comprehensions.     To write a comprehension, define an expression for the values you want to store in the list. Then write a for loop to generate input values needed to make the list.\n"
      ]
    },
    {
      "cell_type": "code",
      "metadata": {
        "id": "_p69iuI82_Gw",
        "colab": {
          "base_uri": "https://localhost:8080/"
        },
        "outputId": "602555b2-edfa-4898-8c69-d17c964fb9d5"
      },
      "source": [
        "#  Using a loop to generate a list of square numbers\n",
        "squares = []\n",
        "for x in range(1,11):\n",
        "    square = x**2\n",
        "    squares.append(square)\n",
        "\n",
        "squares"
      ],
      "execution_count": null,
      "outputs": [
        {
          "output_type": "execute_result",
          "data": {
            "text/plain": [
              "[1, 4, 9, 16, 25, 36, 49, 64, 81, 100]"
            ]
          },
          "metadata": {},
          "execution_count": 76
        }
      ]
    },
    {
      "cell_type": "code",
      "metadata": {
        "id": "j20-_KGKf4o0",
        "outputId": "f2bff056-63ff-46fb-af90-b9baf2651e4a",
        "colab": {
          "base_uri": "https://localhost:8080/"
        }
      },
      "source": [
        "class Car():\n",
        "    \"\"\"A simple attempt to model a car\"\"\"\n",
        "\n",
        "    def __init__(self, make, model, year):\n",
        "        \"\"\"Initialize car attributes.\"\"\"\n",
        "        self.make = make\n",
        "        self.model = model\n",
        "        self.year = year\n",
        "\n",
        " # Fuel capacity and level in gallons.\n",
        "        self.fuel_capacity = 15\n",
        "        self.fuel_level = 0\n",
        "\n",
        "    def fill_tank(self):\n",
        "      \"\"\"Fill gas tank to capacity.\"\"\"\n",
        "      self.fuel_level = self.fuel_capacity\n",
        "      print(\"Fuel tank is full.\")\n",
        "\n",
        "    def drive(self):\n",
        "        \"\"\"Simulate driving\"\"\"\n",
        "        print(\"The car is moving\")\n",
        "\n",
        "    # Writing a method to update an attribute's value\n",
        "    def update_fuel_level(self, new_level):\n",
        "      \"\"\"Update the fuel level.\"\"\"\n",
        "      if new_level <= self.fuel_capacity:\n",
        "        self.fuel_level = new_level\n",
        "      else:\n",
        "        print(\"The tank can't hold that much!\")\n",
        "\n",
        "#       Writing a method to increment an attribute's value\n",
        "      def add_fuel(self, amount):\n",
        "          \"\"\"Add fuel to the tank.\"\"\"\n",
        "          if (self.fuel_level + amount <= self.fuel_capacity):\n",
        "            self.fuel_level += amount\n",
        "            print(\"Added fuel.\")\n",
        "          else:\n",
        "            print(\"The tank won't hold that much.\")\n",
        "\n",
        "\n",
        "my_car = Car('mazda', 'toyo', 2019)\n",
        "my_car.fuel_capacity = 20\n",
        "\n",
        "my_car.fuel_capacity\n",
        "\n",
        "\n",
        "# Creating an object from a class\n",
        "\n",
        "my_car = Car('audi','a4', 2016)\n",
        "\n",
        "# Accessing attribute values\n",
        "print(my_car.make)\n",
        "print(my_car.model)\n",
        "print(my_car.year)\n",
        "\n",
        "# Calling Methods\n",
        "my_car.fill_tank()\n",
        "my_car.drive()\n",
        "\n",
        "# Creating multiple objects\n",
        "my_car = Car('audi', 'a4', 2016)\n",
        "my_old_car = Car('subaru', 'outback', 2013)\n",
        "my_truck = Car('toyota', 'tacoma', 2010)\n",
        "\n"
      ],
      "execution_count": null,
      "outputs": [
        {
          "output_type": "stream",
          "name": "stdout",
          "text": [
            "audi\n",
            "a4\n",
            "2016\n",
            "Fuel tank is full.\n",
            "The car is moving\n"
          ]
        }
      ]
    },
    {
      "cell_type": "markdown",
      "metadata": {
        "id": "ugYdIpDDLw-6"
      },
      "source": [
        "# Modifying attributes\n",
        "You can modify an attribute's value directly, or you can write methods that manage updating values more carefully"
      ]
    },
    {
      "cell_type": "code",
      "metadata": {
        "id": "JzOw-jBQL15t",
        "colab": {
          "base_uri": "https://localhost:8080/"
        },
        "outputId": "a85df4e8-f8f9-495f-8338-745d12f7297a"
      },
      "source": [
        "#  Modifying an attribute directly\n",
        "\n",
        "my_new_car = Car('audi', 'a4', 2016)\n",
        "my_new_car.fuel_level = 5\n",
        "\n",
        "\n",
        "\n",
        "my_new_car.update_fuel_level(new_level=10)\n",
        "my_new_car.fuel_level"
      ],
      "execution_count": null,
      "outputs": [
        {
          "output_type": "execute_result",
          "data": {
            "text/plain": [
              "10"
            ]
          },
          "metadata": {},
          "execution_count": 78
        }
      ]
    },
    {
      "cell_type": "code",
      "metadata": {
        "id": "w6F-ZO-JeJaC",
        "colab": {
          "base_uri": "https://localhost:8080/"
        },
        "outputId": "7bfe6d4f-647b-40e7-f1a7-4c456625b723"
      },
      "source": [
        "def greet_users(names):\n",
        "    \"\"\"Print a simple greeting to everyone.\"\"\"\n",
        "    for name in names:\n",
        "      msg = \"Hello, \" + name + \"!\"\n",
        "      print(msg)\n",
        "\n",
        "usernames = ['hannah', 'ty', 'margot']\n",
        "greet_users(usernames)"
      ],
      "execution_count": null,
      "outputs": [
        {
          "output_type": "stream",
          "name": "stdout",
          "text": [
            "Hello, hannah!\n",
            "Hello, ty!\n",
            "Hello, margot!\n"
          ]
        }
      ]
    },
    {
      "cell_type": "markdown",
      "metadata": {
        "id": "Ji30eFl_PKg_"
      },
      "source": [
        "# Namaing Conventions\n",
        "In Python class names are written in CamelCase and object names are written in lowercase with underscores. Modules that contain classes should still be named in lowercase with underscores."
      ]
    },
    {
      "cell_type": "markdown",
      "metadata": {
        "id": "BuyW3ZPAPXEQ"
      },
      "source": [
        "# Class inhertitance\n",
        "\n",
        "If the class you're writing is a specialized version of another class, you can use inheritance. When one class inherits from another, it automatically takes on all the attributes and methods of the parent class. The child class is free to introduce new attributes and methods, and override attributes and methods of the parent class.     To inherit from another class include the name of the parent class in parentheses when defining the new class."
      ]
    },
    {
      "cell_type": "code",
      "metadata": {
        "id": "xYgr59gnPf_g"
      },
      "source": [
        "# The __init__() method for a child class\n"
      ],
      "execution_count": null,
      "outputs": []
    },
    {
      "cell_type": "code",
      "metadata": {
        "id": "PdByUlovPRss",
        "colab": {
          "base_uri": "https://localhost:8080/"
        },
        "outputId": "ca48fdcf-cc50-47cf-8a97-7c0398911274"
      },
      "source": [
        "class ElectricCar(Car):\n",
        "  \"\"\"A simple model of an electric car.\"\"\"\n",
        "  def __init__(self, make, model, year):\n",
        "    \"\"\"Initialize an electric car.\"\"\"\n",
        "    super().__init__(make, model, year)\n",
        "    # Attributes specific to electric cars.\n",
        "      # Battery capacity in kWh.\n",
        "    self.battery_size = 70\n",
        "      # Charge level in %.\n",
        "\n",
        "    self.charge_level = 0\n",
        "\n",
        "\n",
        "ElectricCar.drive('ooo')\n",
        "\n",
        "# Adding new methods to the child class\n",
        "class ElectricCar(Car):\n",
        "    \"\"\"--snip---\"\"\"\n",
        "    def charge(self):\n",
        "      \"\"\"Fully charge the vehicle\"\"\"\n",
        "      self.charge_level = 100\n",
        "      print(\"The vehicle is fully charged\")\n",
        "\n",
        "#       Using child methods and parent method\n",
        "\n",
        "my_ecar = ElectricCar('tesla', 'model s', 2016)\n",
        "my_ecar.charge()\n",
        "my_ecar.drive()"
      ],
      "execution_count": null,
      "outputs": [
        {
          "output_type": "stream",
          "name": "stdout",
          "text": [
            "The car is moving\n",
            "The vehicle is fully charged\n",
            "The car is moving\n"
          ]
        }
      ]
    },
    {
      "cell_type": "markdown",
      "metadata": {
        "id": "nNMhrCLmsK8O"
      },
      "source": [
        "# Finding your workflow\n",
        "\n",
        "There are many ways to model real world objects and situations in code, and sometimes that variety can feel overwhelming. Pick an approach and try it – if your first attempt doesn't work, try a different approach.\n"
      ]
    },
    {
      "cell_type": "markdown",
      "metadata": {
        "id": "5wxw4aKfsXRx"
      },
      "source": [
        "# Class inheritance (cont.)\n"
      ]
    },
    {
      "cell_type": "code",
      "metadata": {
        "id": "ThKo1WaqsaJG",
        "colab": {
          "base_uri": "https://localhost:8080/"
        },
        "outputId": "5d7f9a01-c55c-4bf3-d1d9-db1baff2eb33"
      },
      "source": [
        "# Overriding parent methods\n",
        "class ElectricCar(Car):\n",
        "    \"\"\"snip\"\"\"\n",
        "    def fill_tank(self):\n",
        "      \"\"\"Display an error message.\"\"\"\n",
        "      print(\"This car has no fuel tank!\")\n",
        "\n",
        "my_ecar = ElectricCar('tesla', 'model s', 2016)\n",
        "my_ecar.fill_tank()\n"
      ],
      "execution_count": null,
      "outputs": [
        {
          "output_type": "stream",
          "name": "stdout",
          "text": [
            "This car has no fuel tank!\n"
          ]
        }
      ]
    },
    {
      "cell_type": "markdown",
      "metadata": {
        "id": "Dm9ErwfNtQzJ"
      },
      "source": [
        "# Instances as attributes\n",
        "\n",
        "A class can have objects as attributes. This allows classes to work together to model complex situations.\n"
      ]
    },
    {
      "cell_type": "code",
      "metadata": {
        "id": "wKBH9kiPtaCz",
        "colab": {
          "base_uri": "https://localhost:8080/"
        },
        "outputId": "d6eec7e8-e5a0-433d-9e76-629a1696a2fa"
      },
      "source": [
        "# A Battery class\n",
        "\n",
        "class Battery():\n",
        "  \"\"\" A battery for an electric car.\"\"\"\n",
        "\n",
        "  def __init__(self, size=70):\n",
        "      \"\"\"Initialize battery atributes.\"\"\"\n",
        "      #Capacity in kwh, charge level in %.\n",
        "      self.size = size\n",
        "      self.charge_level = 0\n",
        "\n",
        "\n",
        "  def get_range(self):\n",
        "      \"\"\"Return the battery's range.\"\"\"\n",
        "      if self.size == 70:\n",
        "        return 240\n",
        "      elif self.size == 85:\n",
        "        return 270\n",
        "\n",
        "#       Using an instance as an attribute\n",
        "class ElectricCar(Car):\n",
        "  \"\"\"snip\"\"\"\n",
        "\n",
        "  def __init__(self, make, model, year):\n",
        "    \"\"\"Initialize an electric car.\"\"\"\n",
        "    super().__init__(make, model, year)\n",
        "\n",
        "#     Atribute specific to electric cars.\n",
        "    self.battery = Battery()\n",
        "\n",
        "  def charge(self):\n",
        "    \"\"\"Fully charge the vehicle.\"\"\"\n",
        "    self.battery.charge_level = 100\n",
        "    print(\"the vehicle is fully charged.\")\n",
        "\n",
        "\n",
        "my_ecar = ElectricCar('tesla', 'model x', 2016)\n",
        "my_ecar.charge()\n",
        "print(my_ecar.battery.get_range())\n",
        "my_ecar.drive()\n",
        "\n",
        "\n",
        "\n"
      ],
      "execution_count": null,
      "outputs": [
        {
          "output_type": "stream",
          "name": "stdout",
          "text": [
            "the vehicle is fully charged.\n",
            "240\n",
            "The car is moving\n"
          ]
        }
      ]
    },
    {
      "cell_type": "markdown",
      "metadata": {
        "id": "QNEaJG2mKW8z"
      },
      "source": [
        "# Passing informaton to a function\n",
        "\n",
        "Information that's passed to a function is called an argument; information that's received by a function is called a parameter. Arguments are included in parentheses after the function's name, and parameters are listed in parentheses in the function's definition."
      ]
    },
    {
      "cell_type": "code",
      "metadata": {
        "id": "BTiq-lKuKjWH",
        "outputId": "015890df-2044-4840-9d93-7f483c2db8e9",
        "colab": {
          "base_uri": "https://localhost:8080/"
        }
      },
      "source": [
        "#  Passing a single argument\n",
        "def greet_user(username):\n",
        " \"\"\"Display a simple greeting.\"\"\"\n",
        " print(\"Hello, \" + username + \"!\")\n",
        "\n",
        "greet_user('jesse')\n",
        "greet_user('diana')\n",
        "greet_user('brandon')"
      ],
      "execution_count": null,
      "outputs": [
        {
          "output_type": "stream",
          "name": "stdout",
          "text": [
            "Hello, jesse!\n",
            "Hello, diana!\n",
            "Hello, brandon!\n"
          ]
        }
      ]
    },
    {
      "cell_type": "markdown",
      "metadata": {
        "id": "erSnh_G9dbGC"
      },
      "source": [
        "# Positional and Keyword arguments\n",
        "\n",
        "The two main kinds of arguments are positional and\n",
        "keyword arguments. When you use positional arguments\n",
        "Python matches the first argument in the function call with\n",
        "the first parameter in the function definition, and so forth.\n",
        " With keyword arguments, you specify which parameter\n",
        "each argument should be assigned to in the function call.\n",
        "When you use keyword arguments, the order of the\n",
        "arguments doesn't matter."
      ]
    },
    {
      "cell_type": "code",
      "metadata": {
        "id": "8F-AZVGPdiWg",
        "outputId": "210a439f-85fb-4c70-f62b-0f37b1ecbf26",
        "colab": {
          "base_uri": "https://localhost:8080/"
        }
      },
      "source": [
        "# Using positional arguments\n",
        "def describe_pet(animal, name):\n",
        " \"\"\"Display information about a pet.\"\"\"\n",
        " print(\"\\nI have a \" + animal + \".\")\n",
        " print(\"Its name is \" + name + \".\")\n",
        "describe_pet('hamster', 'harry')\n",
        "describe_pet('dog', 'willie')\n"
      ],
      "execution_count": null,
      "outputs": [
        {
          "output_type": "stream",
          "name": "stdout",
          "text": [
            "\n",
            "I have a hamster.\n",
            "Its name is harry.\n",
            "\n",
            "I have a dog.\n",
            "Its name is willie.\n"
          ]
        }
      ]
    },
    {
      "cell_type": "code",
      "metadata": {
        "id": "nxzv8Rkkdrpb",
        "outputId": "739c415f-0e7e-45fe-a1d6-c5824d3208b5",
        "colab": {
          "base_uri": "https://localhost:8080/"
        }
      },
      "source": [
        "# Using keyword arguments\n",
        "def describe_pet(animal, name):\n",
        " \"\"\"Display information about a pet.\"\"\"\n",
        " print(\"\\nI have a \" + animal + \".\")\n",
        " print(\"Its name is \" + name + \".\")\n",
        "describe_pet(animal='hamster', name='harry')\n",
        "describe_pet(name='willie', animal='dog')\n"
      ],
      "execution_count": null,
      "outputs": [
        {
          "output_type": "stream",
          "name": "stdout",
          "text": [
            "\n",
            "I have a hamster.\n",
            "Its name is harry.\n",
            "\n",
            "I have a dog.\n",
            "Its name is willie.\n"
          ]
        }
      ]
    },
    {
      "cell_type": "markdown",
      "metadata": {
        "id": "BTjoc_UCeLbx"
      },
      "source": [
        "#Default Values\n",
        "\n",
        "You can provide a default value for a parameter. When\n",
        "function calls omit this argument the default value will be\n",
        "used. Parameters with default values must be listed after\n",
        "parameters without default values in the function's definition\n",
        "so positional arguments can still work correctly"
      ]
    },
    {
      "cell_type": "code",
      "metadata": {
        "id": "Ni6WTnO0ePvI",
        "outputId": "e30b09d5-07e4-44cd-e0c7-8f52d41252ce",
        "colab": {
          "base_uri": "https://localhost:8080/"
        }
      },
      "source": [
        "# Using a default value\n",
        "def describe_pet(name, animal='dog'):\n",
        " \"\"\"Display information about a pet.\"\"\"\n",
        " print(\"\\nI have a \" + animal + \".\")\n",
        " print(\"Its name is \" + name + \".\")\n",
        "describe_pet('harry', 'hamster')\n",
        "describe_pet('willie')\n",
        "\n",
        "# Using None to make an argument optional\n",
        "def describe_pet(animal, name=None):\n",
        "  \"\"\"Display information about a pet.\"\"\"\n",
        "  print(\"\\nI have a \" + animal + \".\")\n",
        "  if name:\n",
        "    print(\"Its name is \" + name + \".\")\n",
        "\n",
        "describe_pet('hamster', 'harry')\n",
        "describe_pet('snake')"
      ],
      "execution_count": null,
      "outputs": [
        {
          "output_type": "stream",
          "name": "stdout",
          "text": [
            "\n",
            "I have a hamster.\n",
            "Its name is harry.\n",
            "\n",
            "I have a dog.\n",
            "Its name is willie.\n",
            "\n",
            "I have a hamster.\n",
            "Its name is harry.\n",
            "\n",
            "I have a snake.\n"
          ]
        }
      ]
    },
    {
      "cell_type": "markdown",
      "metadata": {
        "id": "D3T69XuUjFUJ"
      },
      "source": [
        "# Return Values\n",
        "A function can return a value or a set of values. When a\n",
        "function returns a value, the calling line must provide a\n",
        "variable in which to store the return value. A function stops\n",
        "running when it reaches a return statement.\n"
      ]
    },
    {
      "cell_type": "code",
      "metadata": {
        "id": "IF0R6q9NjIw9",
        "outputId": "52842ca8-ed17-44fe-e283-cb70a122a8ee",
        "colab": {
          "base_uri": "https://localhost:8080/"
        }
      },
      "source": [
        "# Returning a single value\n",
        "def get_full_name(first, last):\n",
        " \"\"\"Return a neatly formatted full name.\"\"\"\n",
        " full_name = first + ' ' + last\n",
        " return full_name.title(), full_name # str.title() make the first letter Capital\n",
        "\n",
        "musician = get_full_name('jimi', 'hendrix')\n",
        "print(musician)\n",
        "\n",
        "# Returning a dictionary\n",
        "def build_person(first, last):\n",
        " \"\"\"Return a dictionary of information\n",
        " about a person.\n",
        " \"\"\"\n",
        " person = {'first': first.title(), 'last': last}\n",
        " return person\n",
        "\n",
        "# usage Example\n",
        "musician = build_person('jimi', 'hendrix')\n",
        "print(musician)\n",
        "\n",
        "\n",
        "# Returning a dictionary with optional values\n",
        "def build_person(first, last, age=None):\n",
        "  \"\"\"Return a dictionary of information about a person.\"\"\"\n",
        "  person = {'first': first, 'last': last}\n",
        "  if age:\n",
        "    person['age'] = age\n",
        "\n",
        "  return person\n",
        "\n",
        "musician = build_person('jimi', 'hendrix', 27)\n",
        "print(musician)\n",
        "musician = build_person('janis', 'joplin')\n",
        "print(musician)\n",
        "# musician[]\n"
      ],
      "execution_count": null,
      "outputs": [
        {
          "output_type": "stream",
          "name": "stdout",
          "text": [
            "('Jimi Hendrix', 'jimi hendrix')\n",
            "{'first': 'Jimi', 'last': 'hendrix'}\n",
            "{'first': 'jimi', 'last': 'hendrix', 'age': 27}\n",
            "{'first': 'janis', 'last': 'joplin'}\n"
          ]
        }
      ]
    },
    {
      "cell_type": "markdown",
      "metadata": {
        "id": "EQBC91u5mFCU"
      },
      "source": [
        "# Visualization Functions\n",
        "Try running some of these examples on [PythonTutor](http://pythontutor.com/)\n",
        "\n",
        "This is  cool website to learn and visualize your code and get or give help. Let's try it..."
      ]
    },
    {
      "cell_type": "markdown",
      "metadata": {
        "id": "FiJ5UPx1nonL"
      },
      "source": [
        "# Passing a list to a function\n",
        "You can pass a list as an argument to a function, and the\n",
        "function can work with the values in the list. Any changes\n",
        "the function makes to the list will affect the original list. You\n",
        "can prevent a function from modifying a list by passing a\n",
        "copy of the list as an argument."
      ]
    },
    {
      "cell_type": "code",
      "metadata": {
        "id": "92ceGh3vnta2",
        "outputId": "63bfbdf1-97fe-4598-8101-df83f925fbe3",
        "colab": {
          "base_uri": "https://localhost:8080/"
        }
      },
      "source": [
        "# Passing a list as an argument\n",
        "def greet_users(names):\n",
        "  \"\"\"Print a simple greeting to everyone.\"\"\"\n",
        "  for name in names:\n",
        "    msg = \"Hello, \" + name + \"!\"\n",
        "    print(msg)\n",
        "\n",
        "usernames = ['hannah', 'ty', 'margot']\n",
        "greet_users(usernames)\n",
        "\n",
        "def greet_users(names):\n",
        "  \"\"\"pring a simpel greeting to all\"\"\"\n",
        "  for name in names:\n",
        "    print('Hello ' + name + \"!\")\n",
        "\n",
        "usernames = ['hannah', 'ty', 'margot']\n",
        "greet_users(usernames)\n"
      ],
      "execution_count": null,
      "outputs": [
        {
          "output_type": "stream",
          "name": "stdout",
          "text": [
            "Hello, hannah!\n",
            "Hello, ty!\n",
            "Hello, margot!\n",
            "Hello hannah!\n",
            "Hello ty!\n",
            "Hello margot!\n"
          ]
        }
      ]
    },
    {
      "cell_type": "markdown",
      "metadata": {
        "id": "hQKuRg577aIR"
      },
      "source": [
        "# Allowing a function to modify a list\n",
        "The following example sends a list of models to a function for\n",
        "printing. The original list is emptied, and the second list is filled."
      ]
    },
    {
      "cell_type": "code",
      "metadata": {
        "id": "KWnzeIv27ddz",
        "outputId": "337f1e32-4759-40fe-a0cb-1e4201a68bc4",
        "colab": {
          "base_uri": "https://localhost:8080/"
        }
      },
      "source": [
        "def print_models(unprinted, printed):\n",
        "  \"\"\"3d print a set of models.\"\"\"\n",
        "  while unprinted:\n",
        "    current_model = unprinted.pop()\n",
        "    print(\"Printing \" + current_model)\n",
        "    printed.append(current_model)\n",
        "\n",
        "# Store some unprinted designs,\n",
        "# and print each of them.\n",
        "unprinted = ['phone case', 'pendant', 'ring']\n",
        "printed = []\n",
        "print_models(unprinted, printed)\n",
        "print(\"\\nUnprinted:\", unprinted)\n",
        "print(\"Printed:\", printed)\n"
      ],
      "execution_count": null,
      "outputs": [
        {
          "output_type": "stream",
          "name": "stdout",
          "text": [
            "Printing ring\n",
            "Printing pendant\n",
            "Printing phone case\n",
            "\n",
            "Unprinted: []\n",
            "Printed: ['ring', 'pendant', 'phone case']\n"
          ]
        }
      ]
    },
    {
      "cell_type": "markdown",
      "metadata": {
        "id": "5QqeOI4S8155"
      },
      "source": [
        "# Preventing a function from modifying a list\n",
        "The following example is the same as the previous one, except the\n",
        "original list is unchanged after calling print_models()."
      ]
    },
    {
      "cell_type": "code",
      "metadata": {
        "id": "a0mDtUvtmO5Z",
        "outputId": "4da69301-0acc-44f5-9f6c-0b027e6587a3",
        "colab": {
          "base_uri": "https://localhost:8080/"
        }
      },
      "source": [
        "def print_models(unprinted, printed):\n",
        "  \"\"\"3d print a set of models.\"\"\"\n",
        "  while unprinted:\n",
        "    current_model = unprinted.pop()\n",
        "    print(\"Printing \" + current_model)\n",
        "    printed.append(current_model)\n",
        "\n",
        "# Store some unprinted designs,\n",
        "# and print each of them.\n",
        "original = ['phone case', 'pendant', 'ring']\n",
        "printed = []\n",
        "print_models(original[:], printed)\n",
        "print(\"\\nOriginal:\", original)\n",
        "print(\"Printed:\", printed)\n"
      ],
      "execution_count": null,
      "outputs": [
        {
          "output_type": "stream",
          "name": "stdout",
          "text": [
            "Printing ring\n",
            "Printing pendant\n",
            "Printing phone case\n",
            "\n",
            "Original: ['phone case', 'pendant', 'ring']\n",
            "Printed: ['ring', 'pendant', 'phone case']\n"
          ]
        }
      ]
    },
    {
      "cell_type": "markdown",
      "metadata": {
        "id": "ZBv5WFaHAGL0"
      },
      "source": [
        "#Passing a number of arguments\n",
        "\n",
        "Sometimes you won't know how many arguments a\n",
        "function will need to accept. Python allows you to collect an\n",
        "arbitrary number of arguments into one parameter using\n",
        "\n",
        "The ''*'' operator. A parameter that accepts an arbitrary number of\n",
        "arguments must come last in the function definition.\n",
        "\n",
        " The ** operator allows a parameter to collect an arbitrary\n",
        "number of keyword arguments"
      ]
    },
    {
      "cell_type": "code",
      "metadata": {
        "id": "WeIl7JKzAJFC",
        "outputId": "6ee31566-5866-48bd-ec3d-0fbdc99988b0",
        "colab": {
          "base_uri": "https://localhost:8080/"
        }
      },
      "source": [
        "# Collecting an arbitrary number of arguments\n",
        "def make_pizza(size, *toppings):\n",
        "  \"\"\"Make a pizza.\"\"\"\n",
        "  print(\"\\nMaking a \" + size + \" pizza.\")\n",
        "  print(\"Toppings:\")\n",
        "  for topping in toppings:\n",
        "    print(\"- \" + topping)\n",
        "\n",
        "# Make three pizzas with different toppings.\n",
        "make_pizza('small', 'pepperoni')\n",
        "make_pizza('large', 'bacon bits', 'pineapple')\n",
        "make_pizza('medium', 'mushrooms', 'peppers',\n",
        " 'onions', 'extra cheese')"
      ],
      "execution_count": null,
      "outputs": [
        {
          "output_type": "stream",
          "name": "stdout",
          "text": [
            "\n",
            "Making a small pizza.\n",
            "Toppings:\n",
            "- pepperoni\n",
            "\n",
            "Making a large pizza.\n",
            "Toppings:\n",
            "- bacon bits\n",
            "- pineapple\n",
            "\n",
            "Making a medium pizza.\n",
            "Toppings:\n",
            "- mushrooms\n",
            "- peppers\n",
            "- onions\n",
            "- extra cheese\n"
          ]
        }
      ]
    },
    {
      "cell_type": "code",
      "metadata": {
        "id": "kqZ_SHllBG80",
        "outputId": "c0027fe6-0cb4-4248-ea1d-b39f36352aed",
        "colab": {
          "base_uri": "https://localhost:8080/"
        }
      },
      "source": [
        "# Collecting an arbitrary number of keyword arguments\n",
        "def build_profile(first, last, **user_info):\n",
        "  \"\"\"Build a user's profile dictionary.\"\"\"\n",
        "  # Build a dict with the required keys.\n",
        "  profile = {'first': first, 'last': last}\n",
        "  # Add any other keys and values.\n",
        "  for key, value in user_info.items():\n",
        "    profile[key] = value\n",
        "    return profile\n",
        "\n",
        "# Create two users with different kinds\n",
        "# of information.\n",
        "user_0 = build_profile('albert', 'einstein',\n",
        " location='princeton')\n",
        "user_1 = build_profile('marie', 'curie',\n",
        " location='paris', field='chemistry')\n",
        "print(user_0)\n",
        "print(user_1)"
      ],
      "execution_count": null,
      "outputs": [
        {
          "output_type": "stream",
          "name": "stdout",
          "text": [
            "{'first': 'albert', 'last': 'einstein', 'location': 'princeton'}\n",
            "{'first': 'marie', 'last': 'curie', 'location': 'paris'}\n"
          ]
        }
      ]
    },
    {
      "cell_type": "markdown",
      "metadata": {
        "id": "Sg1y-V_lBGNE"
      },
      "source": [
        "# What is the best way to structur a function\n",
        "As you can see there are many ways to write and call a\n",
        "function. When you're starting out, aim for something that\n",
        "simply works. As you gain experience you'll develop an\n",
        "understanding of the more subtle advantages of different\n",
        "structures such as positional and keyword arguments, and\n",
        "the various approaches to importing functions. For now if\n",
        "your functions do what you need them to, you're doing well."
      ]
    },
    {
      "cell_type": "markdown",
      "metadata": {
        "id": "wKKhHzYBCfNP"
      },
      "source": [
        "# Module\n",
        "You can store your functions in a separate file called a\n",
        "module, and then import the functions you need into the file\n",
        "containing your main program. This allows for cleaner\n",
        "program files. (Make sure your module is stored in the\n",
        "same directory as your main program.)"
      ]
    },
    {
      "cell_type": "code",
      "metadata": {
        "id": "gx3JIrJmCErI",
        "outputId": "25d07e3e-2999-4fe3-de15-7b8209be7c82",
        "colab": {
          "base_uri": "https://localhost:8080/"
        }
      },
      "source": [
        "# Storing a function in a module\n",
        "#  File: pizza.py, one needs to create pizza.py from the following otherwise this piece would not work.\n",
        "#  Simply open a blank txt editor like Notepad++ and copy the function below and save it as pizza.py\n",
        "# then upload it here if you use google colab.\n",
        "\n",
        "# Also, the pizza.py needs to be in the same directory this code is being run.\n",
        "\n",
        "# Storing a function in a module\n",
        "# File: pizza.py\n",
        "def make_pizza(size, *toppings):\n",
        "  \"\"\"Make a pizza.\"\"\"\n",
        "  print(\"\\nMaking a \" + size + \" pizza.\")\n",
        "  print(\"Toppings:\")\n",
        "  for topping in toppings:\n",
        "    print(\"- \" + topping)\n",
        "\n",
        "# Importing an entire module\n",
        "# File: making_pizzas.py\n",
        "# Every function in the module is available in the program file.\n",
        "import pizza # this maynot work if we dont ahve this file pizza.py\n",
        "pizza.make_pizza('medium', 'pepperoni')\n",
        "pizza.make_pizza('small', 'bacon', 'pineapple')\n",
        "\n",
        "# Importing a specific function\n",
        "# Only the imported functions are available in the program file.\n",
        "from pizza import make_pizza\n",
        "make_pizza('medium', 'pepperoni')\n",
        "make_pizza('small', 'bacon', 'pineapple')\n",
        "\n",
        "# Giving a module an alias\n",
        "import pizza as p\n",
        "p.make_pizza('medium', 'pepperoni')\n",
        "p.make_pizza('small', 'bacon', 'pineapple')\n",
        "\n",
        "# Giving a function an alias\n",
        "from pizza import make_pizza as mp\n",
        "mp('medium', 'pepperoni')\n",
        "mp('small', 'bacon', 'pineapple')\n",
        "\n",
        "\n",
        "# Importing all functions from a module\n",
        "\n",
        "# Don't do this, but recognize it when you see it in others' code. It\n",
        "# can result in naming conflicts, which can cause errors.\n",
        "from pizza import *\n",
        "make_pizza('medium', 'pepperoni')\n",
        "make_pizza('small', 'bacon', 'pineapple')\n"
      ],
      "execution_count": null,
      "outputs": [
        {
          "output_type": "stream",
          "name": "stdout",
          "text": [
            "\n",
            "Making a medium pizza.\n",
            "Toppings:\n",
            "- pepperoni\n",
            "\n",
            "Making a small pizza.\n",
            "Toppings:\n",
            "- bacon\n",
            "- pineapple\n",
            "\n",
            "Making a medium pizza.\n",
            "Toppings:\n",
            "- pepperoni\n",
            "\n",
            "Making a small pizza.\n",
            "Toppings:\n",
            "- bacon\n",
            "- pineapple\n",
            "\n",
            "Making a medium pizza.\n",
            "Toppings:\n",
            "- pepperoni\n",
            "\n",
            "Making a small pizza.\n",
            "Toppings:\n",
            "- bacon\n",
            "- pineapple\n",
            "\n",
            "Making a medium pizza.\n",
            "Toppings:\n",
            "- pepperoni\n",
            "\n",
            "Making a small pizza.\n",
            "Toppings:\n",
            "- bacon\n",
            "- pineapple\n",
            "\n",
            "Making a medium pizza.\n",
            "Toppings:\n",
            "- pepperoni\n",
            "\n",
            "Making a small pizza.\n",
            "Toppings:\n",
            "- bacon\n",
            "- pineapple\n"
          ]
        }
      ]
    },
    {
      "cell_type": "markdown",
      "metadata": {
        "id": "QQ8gkihjQZHt"
      },
      "source": [
        "# Cheat Sheet - Classes\n",
        "\n",
        "What are classes?\n",
        "\n",
        "Classes are the foundation of object-oriented\n",
        "programming. Classes represent real-world things\n",
        "you want to model in your programs: for example\n",
        "dogs, cars, and robots. You use a class to make\n",
        "objects, which are specific instances of dogs, cars,\n",
        "and robots. A class defines the general behavior that\n",
        "a whole category of objects can have, and the\n",
        "information that can be associated with those objects.\n",
        " Classes can inherit from each other – you can\n",
        "write a class that extends the functionality of an\n",
        "existing class. This allows you to code efficiently for a\n",
        "wide variety of situations."
      ]
    },
    {
      "cell_type": "markdown",
      "metadata": {
        "id": "b2297Zl0RCQp"
      },
      "source": [
        "#Creating and using classes\n",
        "\n",
        "Consider how we might model a car. What information\n",
        "would we associate with a car, and what behavior would it\n",
        "have? The information is stored in variables called\n",
        "attributes, and the behavior is represented by functions.\n",
        "Functions that are part of a class are called methods."
      ]
    },
    {
      "cell_type": "code",
      "metadata": {
        "id": "B9Jg6CVFRH56",
        "outputId": "9a122b78-faf6-46e1-b116-4bc179f99fc9",
        "colab": {
          "base_uri": "https://localhost:8080/"
        }
      },
      "source": [
        "# The Car class\n",
        "class Car():\n",
        "  \"\"\"A simple attempt to model a car.\"\"\"\n",
        "  def __init__(self, make, model, year):\n",
        "    \"\"\"Initialize car attributes.\"\"\"\n",
        "    self.make = make\n",
        "    self.model = model\n",
        "    self.year = year\n",
        "\n",
        " # Fuel capacity and level in gallons.\n",
        "    self.fuel_capacity = 15\n",
        "    self.fuel_level = 0\n",
        "\n",
        "  def fill_tank(self):\n",
        "    \"\"\"Fill gas tank to capacity.\"\"\"\n",
        "    self.fuel_level = self.fuel_capacity\n",
        "    print(\"Fuel tank is full.\")\n",
        "\n",
        "  def drive(self):\n",
        "    \"\"\"Simulate driving.\"\"\"\n",
        "    print(\"The car is moving.\")\n",
        "\n",
        "\n",
        "# Creating an object from a class\n",
        "my_car = Car('audi', 'a4', 2016)\n",
        "# Accessing attribute values\n",
        "print(my_car.make)\n",
        "print(my_car.model)\n",
        "print(my_car.year)\n",
        "\n",
        "# Calling methods\n",
        "\n",
        "my_car.fill_tank()\n",
        "my_car.drive()\n",
        "\n",
        "# Creating multiple objects\n",
        "my_car = Car('audi', 'a4', 2016)\n",
        "my_old_car = Car('subaru', 'outback', 2013)\n",
        "my_truck = Car('toyota', 'tacoma', 2010)"
      ],
      "execution_count": null,
      "outputs": [
        {
          "output_type": "stream",
          "name": "stdout",
          "text": [
            "audi\n",
            "a4\n",
            "2016\n",
            "Fuel tank is full.\n",
            "The car is moving.\n"
          ]
        }
      ]
    },
    {
      "cell_type": "markdown",
      "metadata": {
        "id": "_jRXUTKcSolQ"
      },
      "source": [
        "# Modifying attributes\n",
        "\n",
        "You can modify an attribute's value directly, or you can\n",
        "write methods that manage updating values more carefully."
      ]
    },
    {
      "cell_type": "code",
      "metadata": {
        "id": "k14Uif9kSq8S"
      },
      "source": [
        "# Modifying an attribute directly\n",
        "\n",
        "my_new_car = Car('audi', 'a4', 2016)\n",
        "my_new_car.fuel_level = 5\n",
        "\n",
        "# Writing a method to update an attribute's value\n",
        "def update_fuel_level(self, new_level):\n",
        "  \"\"\"Update the fuel level.\"\"\"\n",
        "  if new_level <= self.fuel_capacity:\n",
        "    self.fuel_level = new_level\n",
        "  else:\n",
        "      print(\"The tank can't hold that much!\")\n",
        "\n",
        "# Writing a method to increment an attribute's value\n",
        "def add_fuel(self, amount):\n",
        "  \"\"\"Add fuel to the tank.\"\"\"\n",
        "  if (self.fuel_level + amount <= self.fuel_capacity):\n",
        "    self.fuel_level += amount\n",
        "    print(\"Added fuel.\")\n",
        "  else:\n",
        "      print(\"The tank won't hold that much.\")\n"
      ],
      "execution_count": null,
      "outputs": []
    },
    {
      "cell_type": "markdown",
      "metadata": {
        "id": "p2G1g1iQTNnh"
      },
      "source": [
        "#Naming Convention\n",
        "In Python class names are written in CamelCase and object\n",
        "names are written in lowercase with underscores. Modules\n",
        "that contain classes should still be named in lowercase with\n",
        "underscores."
      ]
    },
    {
      "cell_type": "markdown",
      "metadata": {
        "id": "hgJsGyJqTZWB"
      },
      "source": [
        "# Class Inheritance\n",
        "\n",
        "If the class you're writing is a specialized version of another\n",
        "class, you can use inheritance. When one class inherits\n",
        "from another, it automatically takes on all the attributes and\n",
        "methods of the parent class. The child class is free to\n",
        "introduce new attributes and methods, and override\n",
        "attributes and methods of the parent class.\n",
        " To inherit from another class include the name of the\n",
        "parent class in parentheses when defining the new class.\n"
      ]
    },
    {
      "cell_type": "code",
      "metadata": {
        "id": "dtw51gnsTg2E",
        "colab": {
          "base_uri": "https://localhost:8080/"
        },
        "outputId": "7a2a0302-d078-4c05-a9cc-c4d1a8290f0b"
      },
      "source": [
        "# Assuming this is your parent class\n",
        "class Car:\n",
        "    def __init__(self, make, model, year):\n",
        "        self.make = make\n",
        "        self.model = model\n",
        "        self.year = year\n",
        "\n",
        "    def drive(self):\n",
        "        print(f\"{self.year} {self.make} {self.model} is now driving.\")\n",
        "\n",
        "# Correctly defined ElectricCar\n",
        "class ElectricCar(Car):\n",
        "    \"\"\"A simple model of an electric car.\"\"\"\n",
        "    def __init__(self, make, model, year):\n",
        "        super().__init__(make, model, year)\n",
        "        self.battery_size = 70\n",
        "        self.charge_level = 0\n",
        "\n",
        "    def charge(self):\n",
        "        self.charge_level = 100\n",
        "        print(\"The vehicle is fully charged.\")\n",
        "\n",
        "    def __str__(self):\n",
        "        return f\"{self.year} {self.make} {self.model} (Battery: {self.battery_size} kWh)\"\n",
        "\n",
        "# Using child methods and parent methods\n",
        "my_ecar = ElectricCar('tesla', 'model s', 2016)\n",
        "\n",
        "print(my_ecar)        # Calls __str__()\n",
        "my_ecar.charge()      # Custom method\n",
        "my_ecar.drive()       # Inherited from Car\n"
      ],
      "execution_count": null,
      "outputs": [
        {
          "output_type": "stream",
          "name": "stdout",
          "text": [
            "2016 tesla model s (Battery: 70 kWh)\n",
            "The vehicle is fully charged.\n",
            "2016 tesla model s is now driving.\n"
          ]
        }
      ]
    },
    {
      "cell_type": "markdown",
      "metadata": {
        "id": "1HlqvX2jVfBC"
      },
      "source": [
        "# Finding your workflow\n",
        "\n",
        "There are many ways to model real world objects and\n",
        "situations in code, and sometimes that variety can feel\n",
        "overwhelming. Pick an approach and try it – if your first\n",
        "attempt doesn't work, try a different approach."
      ]
    },
    {
      "cell_type": "code",
      "metadata": {
        "id": "FRtXpqDeVrY3",
        "outputId": "6d1523ae-3970-4c5a-893a-ad1d192a676f",
        "colab": {
          "base_uri": "https://localhost:8080/"
        }
      },
      "source": [
        "# Overriding parent methods\n",
        "class ElectricCar(Car):\n",
        "  '''--snip--'''\n",
        "  def fill_tank(self):\n",
        "    \"\"\"Display an error message.\"\"\"\n",
        "    print(\"This car has no fuel tank!\")\n",
        "\n",
        "\n",
        "my_car = ElectricCar('asd','Tesla', 2099)\n",
        "my_car.fill_tank()\n"
      ],
      "execution_count": null,
      "outputs": [
        {
          "output_type": "stream",
          "name": "stdout",
          "text": [
            "This car has no fuel tank!\n"
          ]
        }
      ]
    },
    {
      "cell_type": "markdown",
      "metadata": {
        "id": "0LiU2q6rWSPC"
      },
      "source": [
        "# instances as inheritance\n",
        "\n",
        "A class can have objects as attributes. This allows classes\n",
        "to work together to model complex situations."
      ]
    },
    {
      "cell_type": "code",
      "metadata": {
        "id": "R9e1lmxGWUhY",
        "outputId": "15a70939-fae5-4273-fdf3-ae81151f0ace",
        "colab": {
          "base_uri": "https://localhost:8080/"
        }
      },
      "source": [
        "# A Battery class\n",
        "class Battery():\n",
        "  \"\"\"A battery for an electric car.\"\"\"\n",
        "  def __init__(self, size=70):\n",
        "    \"\"\"Initialize battery attributes.\"\"\"\n",
        "    # Capacity in kWh, charge level in %.\n",
        "    self.size = size\n",
        "    self.charge_level = 0\n",
        "\n",
        "  def get_range(self):\n",
        "    \"\"\"Return the battery's range.\"\"\"\n",
        "    if self.size == 70:\n",
        "      return 240\n",
        "    elif self.size == 85:\n",
        "      return 270\n",
        "\n",
        "# Using an instance as an attribute\n",
        "class ElectricCar(Car):\n",
        "#  --snip--\n",
        "    def __init__(self, make, model, year):\n",
        "      \"\"\"Initialize an electric car.\"\"\"\n",
        "      super().__init__(make, model, year)\n",
        "      # Attribute specific to electric cars.\n",
        "      self.battery = Battery()\n",
        "    def charge(self):\n",
        "      \"\"\"Fully charge the vehicle.\"\"\"\n",
        "      self.battery.charge_level = 100\n",
        "      print(\"The vehicle is fully charged.\")\n",
        "\n",
        "x =ElectricCar('324','234',40)\n",
        "x.charge()\n",
        "\n",
        "# Using the instance\n",
        "my_ecar = ElectricCar('tesla', 'model x', 2016)\n",
        "my_ecar.charge()\n",
        "print(my_ecar.battery.get_range())\n",
        "my_ecar.drive()"
      ],
      "execution_count": null,
      "outputs": [
        {
          "output_type": "stream",
          "name": "stdout",
          "text": [
            "The vehicle is fully charged.\n",
            "The vehicle is fully charged.\n",
            "240\n",
            "2016 tesla model x is now driving.\n"
          ]
        }
      ]
    },
    {
      "cell_type": "markdown",
      "metadata": {
        "id": "hSCDEs_MrHwq"
      },
      "source": [
        "# Importing classes\n",
        "Class files can get long as you add detailed information and functionality. To help keep your program files uncluttered, you can store your classes in modules and import the classes you need into your main program"
      ]
    },
    {
      "cell_type": "markdown",
      "metadata": {
        "id": "mjotEcxhrQzJ"
      },
      "source": [
        "#Storing classes\n",
        "in a file car.py"
      ]
    },
    {
      "cell_type": "code",
      "metadata": {
        "id": "G7ftV0NJrLuq",
        "outputId": "69f71cbf-bef3-4ed5-d26c-036517b972d6",
        "colab": {
          "base_uri": "https://localhost:8080/"
        }
      },
      "source": [
        "\"\"\"Represent gas and electric cars with reusable classes.\"\"\"\n",
        "\n",
        "# --- Class Definitions ---\n",
        "\n",
        "class Car:\n",
        "    \"\"\"A simple attempt to model a gas-powered car.\"\"\"\n",
        "    def __init__(self, make, model, year):\n",
        "        self.make = make\n",
        "        self.model = model\n",
        "        self.year = year\n",
        "\n",
        "    def fill_tank(self):\n",
        "        print(f\"{self.year} {self.make} {self.model} tank is now full.\")\n",
        "\n",
        "    def drive(self):\n",
        "        print(f\"{self.year} {self.make} {self.model} is now driving.\")\n",
        "\n",
        "\n",
        "class Battery:\n",
        "    \"\"\"A battery for an electric car.\"\"\"\n",
        "    def __init__(self, size=70):\n",
        "        self.size = size\n",
        "        self.charge_level = 0\n",
        "\n",
        "    def get_range(self):\n",
        "        if self.size == 70:\n",
        "            return 240\n",
        "        elif self.size == 85:\n",
        "            return 270\n",
        "\n",
        "    def charge(self):\n",
        "        self.charge_level = 100\n",
        "        print(\"Battery is now fully charged.\")\n",
        "\n",
        "\n",
        "class ElectricCar(Car):\n",
        "    \"\"\"A simple model of an electric car.\"\"\"\n",
        "    def __init__(self, make, model, year):\n",
        "        super().__init__(make, model, year)\n",
        "        self.battery = Battery()\n",
        "\n",
        "    def charge(self):\n",
        "        self.battery.charge()\n",
        "        print(f\"{self.year} {self.make} {self.model} is now fully charged.\")\n",
        "\n",
        "    def drive(self):\n",
        "        print(f\"{self.year} {self.make} {self.model} is now silently driving on electricity.\")\n",
        "\n",
        "\n",
        "# --- Program Logic Using the Classes ---\n",
        "\n",
        "print(\"\\n--- Gas Car Example ---\")\n",
        "my_beetle = Car('volkswagen', 'beetle', 2016)\n",
        "my_beetle.fill_tank()\n",
        "my_beetle.drive()\n",
        "\n",
        "print(\"\\n--- Electric Car Example ---\")\n",
        "my_tesla = ElectricCar('tesla', 'model s', 2016)\n",
        "my_tesla.charge()\n",
        "my_tesla.drive()\n"
      ],
      "execution_count": null,
      "outputs": [
        {
          "output_type": "stream",
          "name": "stdout",
          "text": [
            "\n",
            "--- Gas Car Example ---\n",
            "2016 volkswagen beetle tank is now full.\n",
            "2016 volkswagen beetle is now driving.\n",
            "\n",
            "--- Electric Car Example ---\n",
            "Battery is now fully charged.\n",
            "2016 tesla model s is now fully charged.\n",
            "2016 tesla model s is now silently driving on electricity.\n"
          ]
        }
      ]
    },
    {
      "cell_type": "markdown",
      "metadata": {
        "id": "Qxt_j2WXr6VC"
      },
      "source": [
        "# Storing objects in a list\n",
        "A list can hold as many items as you want, so you can make a large number of objects from a class and store them in a list.     Here's an example showing how to make a fleet of rental cars, and make sure all the cars are ready to drive."
      ]
    },
    {
      "cell_type": "code",
      "metadata": {
        "id": "z9XbaFEbso4Z",
        "outputId": "f1c791e5-e4e1-4f0c-d915-5e3f335a7baf",
        "colab": {
          "base_uri": "https://localhost:8080/"
        }
      },
      "source": [
        "# Create separate lists for gas and electric cars\n",
        "gas_fleet = []\n",
        "electric_fleet = []\n",
        "\n",
        "# Create 500 gas cars\n",
        "for _ in range(500):\n",
        "    car = Car('ford', 'focus', 2016)\n",
        "    gas_fleet.append(car)\n",
        "\n",
        "# Create 250 electric cars\n",
        "for _ in range(250):\n",
        "    ecar = ElectricCar('nissan', 'leaf', 2016)\n",
        "    electric_fleet.append(ecar)\n",
        "\n",
        "# Prepare the gas cars\n",
        "for car in gas_fleet:\n",
        "    car.fill_tank()\n",
        "\n",
        "# Prepare the electric cars\n",
        "for ecar in electric_fleet:\n",
        "    ecar.charge()\n",
        "\n",
        "# Output the size of each fleet\n",
        "print(\"Gas cars in fleet:\", len(gas_fleet))\n",
        "print(\"Electric cars in fleet:\", len(electric_fleet))\n"
      ],
      "execution_count": null,
      "outputs": [
        {
          "output_type": "stream",
          "name": "stdout",
          "text": [
            "2016 ford focus tank is now full.\n",
            "2016 ford focus tank is now full.\n",
            "2016 ford focus tank is now full.\n",
            "2016 ford focus tank is now full.\n",
            "2016 ford focus tank is now full.\n",
            "2016 ford focus tank is now full.\n",
            "2016 ford focus tank is now full.\n",
            "2016 ford focus tank is now full.\n",
            "2016 ford focus tank is now full.\n",
            "2016 ford focus tank is now full.\n",
            "2016 ford focus tank is now full.\n",
            "2016 ford focus tank is now full.\n",
            "2016 ford focus tank is now full.\n",
            "2016 ford focus tank is now full.\n",
            "2016 ford focus tank is now full.\n",
            "2016 ford focus tank is now full.\n",
            "2016 ford focus tank is now full.\n",
            "2016 ford focus tank is now full.\n",
            "2016 ford focus tank is now full.\n",
            "2016 ford focus tank is now full.\n",
            "2016 ford focus tank is now full.\n",
            "2016 ford focus tank is now full.\n",
            "2016 ford focus tank is now full.\n",
            "2016 ford focus tank is now full.\n",
            "2016 ford focus tank is now full.\n",
            "2016 ford focus tank is now full.\n",
            "2016 ford focus tank is now full.\n",
            "2016 ford focus tank is now full.\n",
            "2016 ford focus tank is now full.\n",
            "2016 ford focus tank is now full.\n",
            "2016 ford focus tank is now full.\n",
            "2016 ford focus tank is now full.\n",
            "2016 ford focus tank is now full.\n",
            "2016 ford focus tank is now full.\n",
            "2016 ford focus tank is now full.\n",
            "2016 ford focus tank is now full.\n",
            "2016 ford focus tank is now full.\n",
            "2016 ford focus tank is now full.\n",
            "2016 ford focus tank is now full.\n",
            "2016 ford focus tank is now full.\n",
            "2016 ford focus tank is now full.\n",
            "2016 ford focus tank is now full.\n",
            "2016 ford focus tank is now full.\n",
            "2016 ford focus tank is now full.\n",
            "2016 ford focus tank is now full.\n",
            "2016 ford focus tank is now full.\n",
            "2016 ford focus tank is now full.\n",
            "2016 ford focus tank is now full.\n",
            "2016 ford focus tank is now full.\n",
            "2016 ford focus tank is now full.\n",
            "2016 ford focus tank is now full.\n",
            "2016 ford focus tank is now full.\n",
            "2016 ford focus tank is now full.\n",
            "2016 ford focus tank is now full.\n",
            "2016 ford focus tank is now full.\n",
            "2016 ford focus tank is now full.\n",
            "2016 ford focus tank is now full.\n",
            "2016 ford focus tank is now full.\n",
            "2016 ford focus tank is now full.\n",
            "2016 ford focus tank is now full.\n",
            "2016 ford focus tank is now full.\n",
            "2016 ford focus tank is now full.\n",
            "2016 ford focus tank is now full.\n",
            "2016 ford focus tank is now full.\n",
            "2016 ford focus tank is now full.\n",
            "2016 ford focus tank is now full.\n",
            "2016 ford focus tank is now full.\n",
            "2016 ford focus tank is now full.\n",
            "2016 ford focus tank is now full.\n",
            "2016 ford focus tank is now full.\n",
            "2016 ford focus tank is now full.\n",
            "2016 ford focus tank is now full.\n",
            "2016 ford focus tank is now full.\n",
            "2016 ford focus tank is now full.\n",
            "2016 ford focus tank is now full.\n",
            "2016 ford focus tank is now full.\n",
            "2016 ford focus tank is now full.\n",
            "2016 ford focus tank is now full.\n",
            "2016 ford focus tank is now full.\n",
            "2016 ford focus tank is now full.\n",
            "2016 ford focus tank is now full.\n",
            "2016 ford focus tank is now full.\n",
            "2016 ford focus tank is now full.\n",
            "2016 ford focus tank is now full.\n",
            "2016 ford focus tank is now full.\n",
            "2016 ford focus tank is now full.\n",
            "2016 ford focus tank is now full.\n",
            "2016 ford focus tank is now full.\n",
            "2016 ford focus tank is now full.\n",
            "2016 ford focus tank is now full.\n",
            "2016 ford focus tank is now full.\n",
            "2016 ford focus tank is now full.\n",
            "2016 ford focus tank is now full.\n",
            "2016 ford focus tank is now full.\n",
            "2016 ford focus tank is now full.\n",
            "2016 ford focus tank is now full.\n",
            "2016 ford focus tank is now full.\n",
            "2016 ford focus tank is now full.\n",
            "2016 ford focus tank is now full.\n",
            "2016 ford focus tank is now full.\n",
            "2016 ford focus tank is now full.\n",
            "2016 ford focus tank is now full.\n",
            "2016 ford focus tank is now full.\n",
            "2016 ford focus tank is now full.\n",
            "2016 ford focus tank is now full.\n",
            "2016 ford focus tank is now full.\n",
            "2016 ford focus tank is now full.\n",
            "2016 ford focus tank is now full.\n",
            "2016 ford focus tank is now full.\n",
            "2016 ford focus tank is now full.\n",
            "2016 ford focus tank is now full.\n",
            "2016 ford focus tank is now full.\n",
            "2016 ford focus tank is now full.\n",
            "2016 ford focus tank is now full.\n",
            "2016 ford focus tank is now full.\n",
            "2016 ford focus tank is now full.\n",
            "2016 ford focus tank is now full.\n",
            "2016 ford focus tank is now full.\n",
            "2016 ford focus tank is now full.\n",
            "2016 ford focus tank is now full.\n",
            "2016 ford focus tank is now full.\n",
            "2016 ford focus tank is now full.\n",
            "2016 ford focus tank is now full.\n",
            "2016 ford focus tank is now full.\n",
            "2016 ford focus tank is now full.\n",
            "2016 ford focus tank is now full.\n",
            "2016 ford focus tank is now full.\n",
            "2016 ford focus tank is now full.\n",
            "2016 ford focus tank is now full.\n",
            "2016 ford focus tank is now full.\n",
            "2016 ford focus tank is now full.\n",
            "2016 ford focus tank is now full.\n",
            "2016 ford focus tank is now full.\n",
            "2016 ford focus tank is now full.\n",
            "2016 ford focus tank is now full.\n",
            "2016 ford focus tank is now full.\n",
            "2016 ford focus tank is now full.\n",
            "2016 ford focus tank is now full.\n",
            "2016 ford focus tank is now full.\n",
            "2016 ford focus tank is now full.\n",
            "2016 ford focus tank is now full.\n",
            "2016 ford focus tank is now full.\n",
            "2016 ford focus tank is now full.\n",
            "2016 ford focus tank is now full.\n",
            "2016 ford focus tank is now full.\n",
            "2016 ford focus tank is now full.\n",
            "2016 ford focus tank is now full.\n",
            "2016 ford focus tank is now full.\n",
            "2016 ford focus tank is now full.\n",
            "2016 ford focus tank is now full.\n",
            "2016 ford focus tank is now full.\n",
            "2016 ford focus tank is now full.\n",
            "2016 ford focus tank is now full.\n",
            "2016 ford focus tank is now full.\n",
            "2016 ford focus tank is now full.\n",
            "2016 ford focus tank is now full.\n",
            "2016 ford focus tank is now full.\n",
            "2016 ford focus tank is now full.\n",
            "2016 ford focus tank is now full.\n",
            "2016 ford focus tank is now full.\n",
            "2016 ford focus tank is now full.\n",
            "2016 ford focus tank is now full.\n",
            "2016 ford focus tank is now full.\n",
            "2016 ford focus tank is now full.\n",
            "2016 ford focus tank is now full.\n",
            "2016 ford focus tank is now full.\n",
            "2016 ford focus tank is now full.\n",
            "2016 ford focus tank is now full.\n",
            "2016 ford focus tank is now full.\n",
            "2016 ford focus tank is now full.\n",
            "2016 ford focus tank is now full.\n",
            "2016 ford focus tank is now full.\n",
            "2016 ford focus tank is now full.\n",
            "2016 ford focus tank is now full.\n",
            "2016 ford focus tank is now full.\n",
            "2016 ford focus tank is now full.\n",
            "2016 ford focus tank is now full.\n",
            "2016 ford focus tank is now full.\n",
            "2016 ford focus tank is now full.\n",
            "2016 ford focus tank is now full.\n",
            "2016 ford focus tank is now full.\n",
            "2016 ford focus tank is now full.\n",
            "2016 ford focus tank is now full.\n",
            "2016 ford focus tank is now full.\n",
            "2016 ford focus tank is now full.\n",
            "2016 ford focus tank is now full.\n",
            "2016 ford focus tank is now full.\n",
            "2016 ford focus tank is now full.\n",
            "2016 ford focus tank is now full.\n",
            "2016 ford focus tank is now full.\n",
            "2016 ford focus tank is now full.\n",
            "2016 ford focus tank is now full.\n",
            "2016 ford focus tank is now full.\n",
            "2016 ford focus tank is now full.\n",
            "2016 ford focus tank is now full.\n",
            "2016 ford focus tank is now full.\n",
            "2016 ford focus tank is now full.\n",
            "2016 ford focus tank is now full.\n",
            "2016 ford focus tank is now full.\n",
            "2016 ford focus tank is now full.\n",
            "2016 ford focus tank is now full.\n",
            "2016 ford focus tank is now full.\n",
            "2016 ford focus tank is now full.\n",
            "2016 ford focus tank is now full.\n",
            "2016 ford focus tank is now full.\n",
            "2016 ford focus tank is now full.\n",
            "2016 ford focus tank is now full.\n",
            "2016 ford focus tank is now full.\n",
            "2016 ford focus tank is now full.\n",
            "2016 ford focus tank is now full.\n",
            "2016 ford focus tank is now full.\n",
            "2016 ford focus tank is now full.\n",
            "2016 ford focus tank is now full.\n",
            "2016 ford focus tank is now full.\n",
            "2016 ford focus tank is now full.\n",
            "2016 ford focus tank is now full.\n",
            "2016 ford focus tank is now full.\n",
            "2016 ford focus tank is now full.\n",
            "2016 ford focus tank is now full.\n",
            "2016 ford focus tank is now full.\n",
            "2016 ford focus tank is now full.\n",
            "2016 ford focus tank is now full.\n",
            "2016 ford focus tank is now full.\n",
            "2016 ford focus tank is now full.\n",
            "2016 ford focus tank is now full.\n",
            "2016 ford focus tank is now full.\n",
            "2016 ford focus tank is now full.\n",
            "2016 ford focus tank is now full.\n",
            "2016 ford focus tank is now full.\n",
            "2016 ford focus tank is now full.\n",
            "2016 ford focus tank is now full.\n",
            "2016 ford focus tank is now full.\n",
            "2016 ford focus tank is now full.\n",
            "2016 ford focus tank is now full.\n",
            "2016 ford focus tank is now full.\n",
            "2016 ford focus tank is now full.\n",
            "2016 ford focus tank is now full.\n",
            "2016 ford focus tank is now full.\n",
            "2016 ford focus tank is now full.\n",
            "2016 ford focus tank is now full.\n",
            "2016 ford focus tank is now full.\n",
            "2016 ford focus tank is now full.\n",
            "2016 ford focus tank is now full.\n",
            "2016 ford focus tank is now full.\n",
            "2016 ford focus tank is now full.\n",
            "2016 ford focus tank is now full.\n",
            "2016 ford focus tank is now full.\n",
            "2016 ford focus tank is now full.\n",
            "2016 ford focus tank is now full.\n",
            "2016 ford focus tank is now full.\n",
            "2016 ford focus tank is now full.\n",
            "2016 ford focus tank is now full.\n",
            "2016 ford focus tank is now full.\n",
            "2016 ford focus tank is now full.\n",
            "2016 ford focus tank is now full.\n",
            "2016 ford focus tank is now full.\n",
            "2016 ford focus tank is now full.\n",
            "2016 ford focus tank is now full.\n",
            "2016 ford focus tank is now full.\n",
            "2016 ford focus tank is now full.\n",
            "2016 ford focus tank is now full.\n",
            "2016 ford focus tank is now full.\n",
            "2016 ford focus tank is now full.\n",
            "2016 ford focus tank is now full.\n",
            "2016 ford focus tank is now full.\n",
            "2016 ford focus tank is now full.\n",
            "2016 ford focus tank is now full.\n",
            "2016 ford focus tank is now full.\n",
            "2016 ford focus tank is now full.\n",
            "2016 ford focus tank is now full.\n",
            "2016 ford focus tank is now full.\n",
            "2016 ford focus tank is now full.\n",
            "2016 ford focus tank is now full.\n",
            "2016 ford focus tank is now full.\n",
            "2016 ford focus tank is now full.\n",
            "2016 ford focus tank is now full.\n",
            "2016 ford focus tank is now full.\n",
            "2016 ford focus tank is now full.\n",
            "2016 ford focus tank is now full.\n",
            "2016 ford focus tank is now full.\n",
            "2016 ford focus tank is now full.\n",
            "2016 ford focus tank is now full.\n",
            "2016 ford focus tank is now full.\n",
            "2016 ford focus tank is now full.\n",
            "2016 ford focus tank is now full.\n",
            "2016 ford focus tank is now full.\n",
            "2016 ford focus tank is now full.\n",
            "2016 ford focus tank is now full.\n",
            "2016 ford focus tank is now full.\n",
            "2016 ford focus tank is now full.\n",
            "2016 ford focus tank is now full.\n",
            "2016 ford focus tank is now full.\n",
            "2016 ford focus tank is now full.\n",
            "2016 ford focus tank is now full.\n",
            "2016 ford focus tank is now full.\n",
            "2016 ford focus tank is now full.\n",
            "2016 ford focus tank is now full.\n",
            "2016 ford focus tank is now full.\n",
            "2016 ford focus tank is now full.\n",
            "2016 ford focus tank is now full.\n",
            "2016 ford focus tank is now full.\n",
            "2016 ford focus tank is now full.\n",
            "2016 ford focus tank is now full.\n",
            "2016 ford focus tank is now full.\n",
            "2016 ford focus tank is now full.\n",
            "2016 ford focus tank is now full.\n",
            "2016 ford focus tank is now full.\n",
            "2016 ford focus tank is now full.\n",
            "2016 ford focus tank is now full.\n",
            "2016 ford focus tank is now full.\n",
            "2016 ford focus tank is now full.\n",
            "2016 ford focus tank is now full.\n",
            "2016 ford focus tank is now full.\n",
            "2016 ford focus tank is now full.\n",
            "2016 ford focus tank is now full.\n",
            "2016 ford focus tank is now full.\n",
            "2016 ford focus tank is now full.\n",
            "2016 ford focus tank is now full.\n",
            "2016 ford focus tank is now full.\n",
            "2016 ford focus tank is now full.\n",
            "2016 ford focus tank is now full.\n",
            "2016 ford focus tank is now full.\n",
            "2016 ford focus tank is now full.\n",
            "2016 ford focus tank is now full.\n",
            "2016 ford focus tank is now full.\n",
            "2016 ford focus tank is now full.\n",
            "2016 ford focus tank is now full.\n",
            "2016 ford focus tank is now full.\n",
            "2016 ford focus tank is now full.\n",
            "2016 ford focus tank is now full.\n",
            "2016 ford focus tank is now full.\n",
            "2016 ford focus tank is now full.\n",
            "2016 ford focus tank is now full.\n",
            "2016 ford focus tank is now full.\n",
            "2016 ford focus tank is now full.\n",
            "2016 ford focus tank is now full.\n",
            "2016 ford focus tank is now full.\n",
            "2016 ford focus tank is now full.\n",
            "2016 ford focus tank is now full.\n",
            "2016 ford focus tank is now full.\n",
            "2016 ford focus tank is now full.\n",
            "2016 ford focus tank is now full.\n",
            "2016 ford focus tank is now full.\n",
            "2016 ford focus tank is now full.\n",
            "2016 ford focus tank is now full.\n",
            "2016 ford focus tank is now full.\n",
            "2016 ford focus tank is now full.\n",
            "2016 ford focus tank is now full.\n",
            "2016 ford focus tank is now full.\n",
            "2016 ford focus tank is now full.\n",
            "2016 ford focus tank is now full.\n",
            "2016 ford focus tank is now full.\n",
            "2016 ford focus tank is now full.\n",
            "2016 ford focus tank is now full.\n",
            "2016 ford focus tank is now full.\n",
            "2016 ford focus tank is now full.\n",
            "2016 ford focus tank is now full.\n",
            "2016 ford focus tank is now full.\n",
            "2016 ford focus tank is now full.\n",
            "2016 ford focus tank is now full.\n",
            "2016 ford focus tank is now full.\n",
            "2016 ford focus tank is now full.\n",
            "2016 ford focus tank is now full.\n",
            "2016 ford focus tank is now full.\n",
            "2016 ford focus tank is now full.\n",
            "2016 ford focus tank is now full.\n",
            "2016 ford focus tank is now full.\n",
            "2016 ford focus tank is now full.\n",
            "2016 ford focus tank is now full.\n",
            "2016 ford focus tank is now full.\n",
            "2016 ford focus tank is now full.\n",
            "2016 ford focus tank is now full.\n",
            "2016 ford focus tank is now full.\n",
            "2016 ford focus tank is now full.\n",
            "2016 ford focus tank is now full.\n",
            "2016 ford focus tank is now full.\n",
            "2016 ford focus tank is now full.\n",
            "2016 ford focus tank is now full.\n",
            "2016 ford focus tank is now full.\n",
            "2016 ford focus tank is now full.\n",
            "2016 ford focus tank is now full.\n",
            "2016 ford focus tank is now full.\n",
            "2016 ford focus tank is now full.\n",
            "2016 ford focus tank is now full.\n",
            "2016 ford focus tank is now full.\n",
            "2016 ford focus tank is now full.\n",
            "2016 ford focus tank is now full.\n",
            "2016 ford focus tank is now full.\n",
            "2016 ford focus tank is now full.\n",
            "2016 ford focus tank is now full.\n",
            "2016 ford focus tank is now full.\n",
            "2016 ford focus tank is now full.\n",
            "2016 ford focus tank is now full.\n",
            "2016 ford focus tank is now full.\n",
            "2016 ford focus tank is now full.\n",
            "2016 ford focus tank is now full.\n",
            "2016 ford focus tank is now full.\n",
            "2016 ford focus tank is now full.\n",
            "2016 ford focus tank is now full.\n",
            "2016 ford focus tank is now full.\n",
            "2016 ford focus tank is now full.\n",
            "2016 ford focus tank is now full.\n",
            "2016 ford focus tank is now full.\n",
            "2016 ford focus tank is now full.\n",
            "2016 ford focus tank is now full.\n",
            "2016 ford focus tank is now full.\n",
            "2016 ford focus tank is now full.\n",
            "2016 ford focus tank is now full.\n",
            "2016 ford focus tank is now full.\n",
            "2016 ford focus tank is now full.\n",
            "2016 ford focus tank is now full.\n",
            "2016 ford focus tank is now full.\n",
            "2016 ford focus tank is now full.\n",
            "2016 ford focus tank is now full.\n",
            "2016 ford focus tank is now full.\n",
            "2016 ford focus tank is now full.\n",
            "2016 ford focus tank is now full.\n",
            "2016 ford focus tank is now full.\n",
            "2016 ford focus tank is now full.\n",
            "2016 ford focus tank is now full.\n",
            "2016 ford focus tank is now full.\n",
            "2016 ford focus tank is now full.\n",
            "2016 ford focus tank is now full.\n",
            "2016 ford focus tank is now full.\n",
            "2016 ford focus tank is now full.\n",
            "2016 ford focus tank is now full.\n",
            "2016 ford focus tank is now full.\n",
            "2016 ford focus tank is now full.\n",
            "2016 ford focus tank is now full.\n",
            "2016 ford focus tank is now full.\n",
            "2016 ford focus tank is now full.\n",
            "2016 ford focus tank is now full.\n",
            "2016 ford focus tank is now full.\n",
            "2016 ford focus tank is now full.\n",
            "2016 ford focus tank is now full.\n",
            "2016 ford focus tank is now full.\n",
            "2016 ford focus tank is now full.\n",
            "2016 ford focus tank is now full.\n",
            "2016 ford focus tank is now full.\n",
            "2016 ford focus tank is now full.\n",
            "2016 ford focus tank is now full.\n",
            "2016 ford focus tank is now full.\n",
            "2016 ford focus tank is now full.\n",
            "2016 ford focus tank is now full.\n",
            "2016 ford focus tank is now full.\n",
            "2016 ford focus tank is now full.\n",
            "2016 ford focus tank is now full.\n",
            "2016 ford focus tank is now full.\n",
            "2016 ford focus tank is now full.\n",
            "2016 ford focus tank is now full.\n",
            "2016 ford focus tank is now full.\n",
            "2016 ford focus tank is now full.\n",
            "2016 ford focus tank is now full.\n",
            "2016 ford focus tank is now full.\n",
            "2016 ford focus tank is now full.\n",
            "2016 ford focus tank is now full.\n",
            "2016 ford focus tank is now full.\n",
            "2016 ford focus tank is now full.\n",
            "2016 ford focus tank is now full.\n",
            "2016 ford focus tank is now full.\n",
            "2016 ford focus tank is now full.\n",
            "2016 ford focus tank is now full.\n",
            "2016 ford focus tank is now full.\n",
            "2016 ford focus tank is now full.\n",
            "2016 ford focus tank is now full.\n",
            "2016 ford focus tank is now full.\n",
            "2016 ford focus tank is now full.\n",
            "2016 ford focus tank is now full.\n",
            "2016 ford focus tank is now full.\n",
            "2016 ford focus tank is now full.\n",
            "2016 ford focus tank is now full.\n",
            "2016 ford focus tank is now full.\n",
            "2016 ford focus tank is now full.\n",
            "2016 ford focus tank is now full.\n",
            "2016 ford focus tank is now full.\n",
            "2016 ford focus tank is now full.\n",
            "2016 ford focus tank is now full.\n",
            "2016 ford focus tank is now full.\n",
            "2016 ford focus tank is now full.\n",
            "2016 ford focus tank is now full.\n",
            "2016 ford focus tank is now full.\n",
            "2016 ford focus tank is now full.\n",
            "2016 ford focus tank is now full.\n",
            "2016 ford focus tank is now full.\n",
            "2016 ford focus tank is now full.\n",
            "2016 ford focus tank is now full.\n",
            "2016 ford focus tank is now full.\n",
            "2016 ford focus tank is now full.\n",
            "2016 ford focus tank is now full.\n",
            "2016 ford focus tank is now full.\n",
            "2016 ford focus tank is now full.\n",
            "2016 ford focus tank is now full.\n",
            "2016 ford focus tank is now full.\n",
            "2016 ford focus tank is now full.\n",
            "2016 ford focus tank is now full.\n",
            "2016 ford focus tank is now full.\n",
            "2016 ford focus tank is now full.\n",
            "2016 ford focus tank is now full.\n",
            "2016 ford focus tank is now full.\n",
            "2016 ford focus tank is now full.\n",
            "Battery is now fully charged.\n",
            "2016 nissan leaf is now fully charged.\n",
            "Battery is now fully charged.\n",
            "2016 nissan leaf is now fully charged.\n",
            "Battery is now fully charged.\n",
            "2016 nissan leaf is now fully charged.\n",
            "Battery is now fully charged.\n",
            "2016 nissan leaf is now fully charged.\n",
            "Battery is now fully charged.\n",
            "2016 nissan leaf is now fully charged.\n",
            "Battery is now fully charged.\n",
            "2016 nissan leaf is now fully charged.\n",
            "Battery is now fully charged.\n",
            "2016 nissan leaf is now fully charged.\n",
            "Battery is now fully charged.\n",
            "2016 nissan leaf is now fully charged.\n",
            "Battery is now fully charged.\n",
            "2016 nissan leaf is now fully charged.\n",
            "Battery is now fully charged.\n",
            "2016 nissan leaf is now fully charged.\n",
            "Battery is now fully charged.\n",
            "2016 nissan leaf is now fully charged.\n",
            "Battery is now fully charged.\n",
            "2016 nissan leaf is now fully charged.\n",
            "Battery is now fully charged.\n",
            "2016 nissan leaf is now fully charged.\n",
            "Battery is now fully charged.\n",
            "2016 nissan leaf is now fully charged.\n",
            "Battery is now fully charged.\n",
            "2016 nissan leaf is now fully charged.\n",
            "Battery is now fully charged.\n",
            "2016 nissan leaf is now fully charged.\n",
            "Battery is now fully charged.\n",
            "2016 nissan leaf is now fully charged.\n",
            "Battery is now fully charged.\n",
            "2016 nissan leaf is now fully charged.\n",
            "Battery is now fully charged.\n",
            "2016 nissan leaf is now fully charged.\n",
            "Battery is now fully charged.\n",
            "2016 nissan leaf is now fully charged.\n",
            "Battery is now fully charged.\n",
            "2016 nissan leaf is now fully charged.\n",
            "Battery is now fully charged.\n",
            "2016 nissan leaf is now fully charged.\n",
            "Battery is now fully charged.\n",
            "2016 nissan leaf is now fully charged.\n",
            "Battery is now fully charged.\n",
            "2016 nissan leaf is now fully charged.\n",
            "Battery is now fully charged.\n",
            "2016 nissan leaf is now fully charged.\n",
            "Battery is now fully charged.\n",
            "2016 nissan leaf is now fully charged.\n",
            "Battery is now fully charged.\n",
            "2016 nissan leaf is now fully charged.\n",
            "Battery is now fully charged.\n",
            "2016 nissan leaf is now fully charged.\n",
            "Battery is now fully charged.\n",
            "2016 nissan leaf is now fully charged.\n",
            "Battery is now fully charged.\n",
            "2016 nissan leaf is now fully charged.\n",
            "Battery is now fully charged.\n",
            "2016 nissan leaf is now fully charged.\n",
            "Battery is now fully charged.\n",
            "2016 nissan leaf is now fully charged.\n",
            "Battery is now fully charged.\n",
            "2016 nissan leaf is now fully charged.\n",
            "Battery is now fully charged.\n",
            "2016 nissan leaf is now fully charged.\n",
            "Battery is now fully charged.\n",
            "2016 nissan leaf is now fully charged.\n",
            "Battery is now fully charged.\n",
            "2016 nissan leaf is now fully charged.\n",
            "Battery is now fully charged.\n",
            "2016 nissan leaf is now fully charged.\n",
            "Battery is now fully charged.\n",
            "2016 nissan leaf is now fully charged.\n",
            "Battery is now fully charged.\n",
            "2016 nissan leaf is now fully charged.\n",
            "Battery is now fully charged.\n",
            "2016 nissan leaf is now fully charged.\n",
            "Battery is now fully charged.\n",
            "2016 nissan leaf is now fully charged.\n",
            "Battery is now fully charged.\n",
            "2016 nissan leaf is now fully charged.\n",
            "Battery is now fully charged.\n",
            "2016 nissan leaf is now fully charged.\n",
            "Battery is now fully charged.\n",
            "2016 nissan leaf is now fully charged.\n",
            "Battery is now fully charged.\n",
            "2016 nissan leaf is now fully charged.\n",
            "Battery is now fully charged.\n",
            "2016 nissan leaf is now fully charged.\n",
            "Battery is now fully charged.\n",
            "2016 nissan leaf is now fully charged.\n",
            "Battery is now fully charged.\n",
            "2016 nissan leaf is now fully charged.\n",
            "Battery is now fully charged.\n",
            "2016 nissan leaf is now fully charged.\n",
            "Battery is now fully charged.\n",
            "2016 nissan leaf is now fully charged.\n",
            "Battery is now fully charged.\n",
            "2016 nissan leaf is now fully charged.\n",
            "Battery is now fully charged.\n",
            "2016 nissan leaf is now fully charged.\n",
            "Battery is now fully charged.\n",
            "2016 nissan leaf is now fully charged.\n",
            "Battery is now fully charged.\n",
            "2016 nissan leaf is now fully charged.\n",
            "Battery is now fully charged.\n",
            "2016 nissan leaf is now fully charged.\n",
            "Battery is now fully charged.\n",
            "2016 nissan leaf is now fully charged.\n",
            "Battery is now fully charged.\n",
            "2016 nissan leaf is now fully charged.\n",
            "Battery is now fully charged.\n",
            "2016 nissan leaf is now fully charged.\n",
            "Battery is now fully charged.\n",
            "2016 nissan leaf is now fully charged.\n",
            "Battery is now fully charged.\n",
            "2016 nissan leaf is now fully charged.\n",
            "Battery is now fully charged.\n",
            "2016 nissan leaf is now fully charged.\n",
            "Battery is now fully charged.\n",
            "2016 nissan leaf is now fully charged.\n",
            "Battery is now fully charged.\n",
            "2016 nissan leaf is now fully charged.\n",
            "Battery is now fully charged.\n",
            "2016 nissan leaf is now fully charged.\n",
            "Battery is now fully charged.\n",
            "2016 nissan leaf is now fully charged.\n",
            "Battery is now fully charged.\n",
            "2016 nissan leaf is now fully charged.\n",
            "Battery is now fully charged.\n",
            "2016 nissan leaf is now fully charged.\n",
            "Battery is now fully charged.\n",
            "2016 nissan leaf is now fully charged.\n",
            "Battery is now fully charged.\n",
            "2016 nissan leaf is now fully charged.\n",
            "Battery is now fully charged.\n",
            "2016 nissan leaf is now fully charged.\n",
            "Battery is now fully charged.\n",
            "2016 nissan leaf is now fully charged.\n",
            "Battery is now fully charged.\n",
            "2016 nissan leaf is now fully charged.\n",
            "Battery is now fully charged.\n",
            "2016 nissan leaf is now fully charged.\n",
            "Battery is now fully charged.\n",
            "2016 nissan leaf is now fully charged.\n",
            "Battery is now fully charged.\n",
            "2016 nissan leaf is now fully charged.\n",
            "Battery is now fully charged.\n",
            "2016 nissan leaf is now fully charged.\n",
            "Battery is now fully charged.\n",
            "2016 nissan leaf is now fully charged.\n",
            "Battery is now fully charged.\n",
            "2016 nissan leaf is now fully charged.\n",
            "Battery is now fully charged.\n",
            "2016 nissan leaf is now fully charged.\n",
            "Battery is now fully charged.\n",
            "2016 nissan leaf is now fully charged.\n",
            "Battery is now fully charged.\n",
            "2016 nissan leaf is now fully charged.\n",
            "Battery is now fully charged.\n",
            "2016 nissan leaf is now fully charged.\n",
            "Battery is now fully charged.\n",
            "2016 nissan leaf is now fully charged.\n",
            "Battery is now fully charged.\n",
            "2016 nissan leaf is now fully charged.\n",
            "Battery is now fully charged.\n",
            "2016 nissan leaf is now fully charged.\n",
            "Battery is now fully charged.\n",
            "2016 nissan leaf is now fully charged.\n",
            "Battery is now fully charged.\n",
            "2016 nissan leaf is now fully charged.\n",
            "Battery is now fully charged.\n",
            "2016 nissan leaf is now fully charged.\n",
            "Battery is now fully charged.\n",
            "2016 nissan leaf is now fully charged.\n",
            "Battery is now fully charged.\n",
            "2016 nissan leaf is now fully charged.\n",
            "Battery is now fully charged.\n",
            "2016 nissan leaf is now fully charged.\n",
            "Battery is now fully charged.\n",
            "2016 nissan leaf is now fully charged.\n",
            "Battery is now fully charged.\n",
            "2016 nissan leaf is now fully charged.\n",
            "Battery is now fully charged.\n",
            "2016 nissan leaf is now fully charged.\n",
            "Battery is now fully charged.\n",
            "2016 nissan leaf is now fully charged.\n",
            "Battery is now fully charged.\n",
            "2016 nissan leaf is now fully charged.\n",
            "Battery is now fully charged.\n",
            "2016 nissan leaf is now fully charged.\n",
            "Battery is now fully charged.\n",
            "2016 nissan leaf is now fully charged.\n",
            "Battery is now fully charged.\n",
            "2016 nissan leaf is now fully charged.\n",
            "Battery is now fully charged.\n",
            "2016 nissan leaf is now fully charged.\n",
            "Battery is now fully charged.\n",
            "2016 nissan leaf is now fully charged.\n",
            "Battery is now fully charged.\n",
            "2016 nissan leaf is now fully charged.\n",
            "Battery is now fully charged.\n",
            "2016 nissan leaf is now fully charged.\n",
            "Battery is now fully charged.\n",
            "2016 nissan leaf is now fully charged.\n",
            "Battery is now fully charged.\n",
            "2016 nissan leaf is now fully charged.\n",
            "Battery is now fully charged.\n",
            "2016 nissan leaf is now fully charged.\n",
            "Battery is now fully charged.\n",
            "2016 nissan leaf is now fully charged.\n",
            "Battery is now fully charged.\n",
            "2016 nissan leaf is now fully charged.\n",
            "Battery is now fully charged.\n",
            "2016 nissan leaf is now fully charged.\n",
            "Battery is now fully charged.\n",
            "2016 nissan leaf is now fully charged.\n",
            "Battery is now fully charged.\n",
            "2016 nissan leaf is now fully charged.\n",
            "Battery is now fully charged.\n",
            "2016 nissan leaf is now fully charged.\n",
            "Battery is now fully charged.\n",
            "2016 nissan leaf is now fully charged.\n",
            "Battery is now fully charged.\n",
            "2016 nissan leaf is now fully charged.\n",
            "Battery is now fully charged.\n",
            "2016 nissan leaf is now fully charged.\n",
            "Battery is now fully charged.\n",
            "2016 nissan leaf is now fully charged.\n",
            "Battery is now fully charged.\n",
            "2016 nissan leaf is now fully charged.\n",
            "Battery is now fully charged.\n",
            "2016 nissan leaf is now fully charged.\n",
            "Battery is now fully charged.\n",
            "2016 nissan leaf is now fully charged.\n",
            "Battery is now fully charged.\n",
            "2016 nissan leaf is now fully charged.\n",
            "Battery is now fully charged.\n",
            "2016 nissan leaf is now fully charged.\n",
            "Battery is now fully charged.\n",
            "2016 nissan leaf is now fully charged.\n",
            "Battery is now fully charged.\n",
            "2016 nissan leaf is now fully charged.\n",
            "Battery is now fully charged.\n",
            "2016 nissan leaf is now fully charged.\n",
            "Battery is now fully charged.\n",
            "2016 nissan leaf is now fully charged.\n",
            "Battery is now fully charged.\n",
            "2016 nissan leaf is now fully charged.\n",
            "Battery is now fully charged.\n",
            "2016 nissan leaf is now fully charged.\n",
            "Battery is now fully charged.\n",
            "2016 nissan leaf is now fully charged.\n",
            "Battery is now fully charged.\n",
            "2016 nissan leaf is now fully charged.\n",
            "Battery is now fully charged.\n",
            "2016 nissan leaf is now fully charged.\n",
            "Battery is now fully charged.\n",
            "2016 nissan leaf is now fully charged.\n",
            "Battery is now fully charged.\n",
            "2016 nissan leaf is now fully charged.\n",
            "Battery is now fully charged.\n",
            "2016 nissan leaf is now fully charged.\n",
            "Battery is now fully charged.\n",
            "2016 nissan leaf is now fully charged.\n",
            "Battery is now fully charged.\n",
            "2016 nissan leaf is now fully charged.\n",
            "Battery is now fully charged.\n",
            "2016 nissan leaf is now fully charged.\n",
            "Battery is now fully charged.\n",
            "2016 nissan leaf is now fully charged.\n",
            "Battery is now fully charged.\n",
            "2016 nissan leaf is now fully charged.\n",
            "Battery is now fully charged.\n",
            "2016 nissan leaf is now fully charged.\n",
            "Battery is now fully charged.\n",
            "2016 nissan leaf is now fully charged.\n",
            "Battery is now fully charged.\n",
            "2016 nissan leaf is now fully charged.\n",
            "Battery is now fully charged.\n",
            "2016 nissan leaf is now fully charged.\n",
            "Battery is now fully charged.\n",
            "2016 nissan leaf is now fully charged.\n",
            "Battery is now fully charged.\n",
            "2016 nissan leaf is now fully charged.\n",
            "Battery is now fully charged.\n",
            "2016 nissan leaf is now fully charged.\n",
            "Battery is now fully charged.\n",
            "2016 nissan leaf is now fully charged.\n",
            "Battery is now fully charged.\n",
            "2016 nissan leaf is now fully charged.\n",
            "Battery is now fully charged.\n",
            "2016 nissan leaf is now fully charged.\n",
            "Battery is now fully charged.\n",
            "2016 nissan leaf is now fully charged.\n",
            "Battery is now fully charged.\n",
            "2016 nissan leaf is now fully charged.\n",
            "Battery is now fully charged.\n",
            "2016 nissan leaf is now fully charged.\n",
            "Battery is now fully charged.\n",
            "2016 nissan leaf is now fully charged.\n",
            "Battery is now fully charged.\n",
            "2016 nissan leaf is now fully charged.\n",
            "Battery is now fully charged.\n",
            "2016 nissan leaf is now fully charged.\n",
            "Battery is now fully charged.\n",
            "2016 nissan leaf is now fully charged.\n",
            "Battery is now fully charged.\n",
            "2016 nissan leaf is now fully charged.\n",
            "Battery is now fully charged.\n",
            "2016 nissan leaf is now fully charged.\n",
            "Battery is now fully charged.\n",
            "2016 nissan leaf is now fully charged.\n",
            "Battery is now fully charged.\n",
            "2016 nissan leaf is now fully charged.\n",
            "Battery is now fully charged.\n",
            "2016 nissan leaf is now fully charged.\n",
            "Battery is now fully charged.\n",
            "2016 nissan leaf is now fully charged.\n",
            "Battery is now fully charged.\n",
            "2016 nissan leaf is now fully charged.\n",
            "Battery is now fully charged.\n",
            "2016 nissan leaf is now fully charged.\n",
            "Battery is now fully charged.\n",
            "2016 nissan leaf is now fully charged.\n",
            "Battery is now fully charged.\n",
            "2016 nissan leaf is now fully charged.\n",
            "Battery is now fully charged.\n",
            "2016 nissan leaf is now fully charged.\n",
            "Battery is now fully charged.\n",
            "2016 nissan leaf is now fully charged.\n",
            "Battery is now fully charged.\n",
            "2016 nissan leaf is now fully charged.\n",
            "Battery is now fully charged.\n",
            "2016 nissan leaf is now fully charged.\n",
            "Battery is now fully charged.\n",
            "2016 nissan leaf is now fully charged.\n",
            "Battery is now fully charged.\n",
            "2016 nissan leaf is now fully charged.\n",
            "Battery is now fully charged.\n",
            "2016 nissan leaf is now fully charged.\n",
            "Battery is now fully charged.\n",
            "2016 nissan leaf is now fully charged.\n",
            "Battery is now fully charged.\n",
            "2016 nissan leaf is now fully charged.\n",
            "Battery is now fully charged.\n",
            "2016 nissan leaf is now fully charged.\n",
            "Battery is now fully charged.\n",
            "2016 nissan leaf is now fully charged.\n",
            "Battery is now fully charged.\n",
            "2016 nissan leaf is now fully charged.\n",
            "Battery is now fully charged.\n",
            "2016 nissan leaf is now fully charged.\n",
            "Battery is now fully charged.\n",
            "2016 nissan leaf is now fully charged.\n",
            "Battery is now fully charged.\n",
            "2016 nissan leaf is now fully charged.\n",
            "Battery is now fully charged.\n",
            "2016 nissan leaf is now fully charged.\n",
            "Battery is now fully charged.\n",
            "2016 nissan leaf is now fully charged.\n",
            "Battery is now fully charged.\n",
            "2016 nissan leaf is now fully charged.\n",
            "Battery is now fully charged.\n",
            "2016 nissan leaf is now fully charged.\n",
            "Battery is now fully charged.\n",
            "2016 nissan leaf is now fully charged.\n",
            "Battery is now fully charged.\n",
            "2016 nissan leaf is now fully charged.\n",
            "Battery is now fully charged.\n",
            "2016 nissan leaf is now fully charged.\n",
            "Battery is now fully charged.\n",
            "2016 nissan leaf is now fully charged.\n",
            "Battery is now fully charged.\n",
            "2016 nissan leaf is now fully charged.\n",
            "Battery is now fully charged.\n",
            "2016 nissan leaf is now fully charged.\n",
            "Battery is now fully charged.\n",
            "2016 nissan leaf is now fully charged.\n",
            "Battery is now fully charged.\n",
            "2016 nissan leaf is now fully charged.\n",
            "Battery is now fully charged.\n",
            "2016 nissan leaf is now fully charged.\n",
            "Battery is now fully charged.\n",
            "2016 nissan leaf is now fully charged.\n",
            "Battery is now fully charged.\n",
            "2016 nissan leaf is now fully charged.\n",
            "Battery is now fully charged.\n",
            "2016 nissan leaf is now fully charged.\n",
            "Battery is now fully charged.\n",
            "2016 nissan leaf is now fully charged.\n",
            "Battery is now fully charged.\n",
            "2016 nissan leaf is now fully charged.\n",
            "Battery is now fully charged.\n",
            "2016 nissan leaf is now fully charged.\n",
            "Battery is now fully charged.\n",
            "2016 nissan leaf is now fully charged.\n",
            "Battery is now fully charged.\n",
            "2016 nissan leaf is now fully charged.\n",
            "Battery is now fully charged.\n",
            "2016 nissan leaf is now fully charged.\n",
            "Battery is now fully charged.\n",
            "2016 nissan leaf is now fully charged.\n",
            "Battery is now fully charged.\n",
            "2016 nissan leaf is now fully charged.\n",
            "Battery is now fully charged.\n",
            "2016 nissan leaf is now fully charged.\n",
            "Battery is now fully charged.\n",
            "2016 nissan leaf is now fully charged.\n",
            "Battery is now fully charged.\n",
            "2016 nissan leaf is now fully charged.\n",
            "Battery is now fully charged.\n",
            "2016 nissan leaf is now fully charged.\n",
            "Battery is now fully charged.\n",
            "2016 nissan leaf is now fully charged.\n",
            "Battery is now fully charged.\n",
            "2016 nissan leaf is now fully charged.\n",
            "Battery is now fully charged.\n",
            "2016 nissan leaf is now fully charged.\n",
            "Battery is now fully charged.\n",
            "2016 nissan leaf is now fully charged.\n",
            "Battery is now fully charged.\n",
            "2016 nissan leaf is now fully charged.\n",
            "Battery is now fully charged.\n",
            "2016 nissan leaf is now fully charged.\n",
            "Battery is now fully charged.\n",
            "2016 nissan leaf is now fully charged.\n",
            "Battery is now fully charged.\n",
            "2016 nissan leaf is now fully charged.\n",
            "Battery is now fully charged.\n",
            "2016 nissan leaf is now fully charged.\n",
            "Battery is now fully charged.\n",
            "2016 nissan leaf is now fully charged.\n",
            "Battery is now fully charged.\n",
            "2016 nissan leaf is now fully charged.\n",
            "Battery is now fully charged.\n",
            "2016 nissan leaf is now fully charged.\n",
            "Battery is now fully charged.\n",
            "2016 nissan leaf is now fully charged.\n",
            "Battery is now fully charged.\n",
            "2016 nissan leaf is now fully charged.\n",
            "Battery is now fully charged.\n",
            "2016 nissan leaf is now fully charged.\n",
            "Battery is now fully charged.\n",
            "2016 nissan leaf is now fully charged.\n",
            "Battery is now fully charged.\n",
            "2016 nissan leaf is now fully charged.\n",
            "Battery is now fully charged.\n",
            "2016 nissan leaf is now fully charged.\n",
            "Battery is now fully charged.\n",
            "2016 nissan leaf is now fully charged.\n",
            "Battery is now fully charged.\n",
            "2016 nissan leaf is now fully charged.\n",
            "Battery is now fully charged.\n",
            "2016 nissan leaf is now fully charged.\n",
            "Battery is now fully charged.\n",
            "2016 nissan leaf is now fully charged.\n",
            "Battery is now fully charged.\n",
            "2016 nissan leaf is now fully charged.\n",
            "Battery is now fully charged.\n",
            "2016 nissan leaf is now fully charged.\n",
            "Battery is now fully charged.\n",
            "2016 nissan leaf is now fully charged.\n",
            "Battery is now fully charged.\n",
            "2016 nissan leaf is now fully charged.\n",
            "Battery is now fully charged.\n",
            "2016 nissan leaf is now fully charged.\n",
            "Battery is now fully charged.\n",
            "2016 nissan leaf is now fully charged.\n",
            "Battery is now fully charged.\n",
            "2016 nissan leaf is now fully charged.\n",
            "Battery is now fully charged.\n",
            "2016 nissan leaf is now fully charged.\n",
            "Battery is now fully charged.\n",
            "2016 nissan leaf is now fully charged.\n",
            "Battery is now fully charged.\n",
            "2016 nissan leaf is now fully charged.\n",
            "Battery is now fully charged.\n",
            "2016 nissan leaf is now fully charged.\n",
            "Battery is now fully charged.\n",
            "2016 nissan leaf is now fully charged.\n",
            "Battery is now fully charged.\n",
            "2016 nissan leaf is now fully charged.\n",
            "Battery is now fully charged.\n",
            "2016 nissan leaf is now fully charged.\n",
            "Battery is now fully charged.\n",
            "2016 nissan leaf is now fully charged.\n",
            "Battery is now fully charged.\n",
            "2016 nissan leaf is now fully charged.\n",
            "Battery is now fully charged.\n",
            "2016 nissan leaf is now fully charged.\n",
            "Battery is now fully charged.\n",
            "2016 nissan leaf is now fully charged.\n",
            "Battery is now fully charged.\n",
            "2016 nissan leaf is now fully charged.\n",
            "Battery is now fully charged.\n",
            "2016 nissan leaf is now fully charged.\n",
            "Gas cars in fleet: 500\n",
            "Electric cars in fleet: 250\n"
          ]
        }
      ]
    },
    {
      "cell_type": "markdown",
      "metadata": {
        "id": "PK6nok4ttRe1"
      },
      "source": [
        "# Beginner's Python Cheat Sheet -\n",
        "Files and Exceptions\n",
        "What are files? What are exceptions?\n",
        "Your programs can read information in from files, and they can write data to files. Reading from files allows you to work with a wide variety of information; writing to files allows users to pick up where they left off the next time they run your program. You can write text to files, and you can store Python structures such as lists in data files.\n",
        "\n",
        "Exceptions are special objects that help your programs respond to errors in appropriate ways. For example if your program tries to open a file that doesn’t exist, you can use exceptions to display an informative error message instead of having the program crash.\n",
        "\n"
      ]
    },
    {
      "cell_type": "markdown",
      "metadata": {
        "id": "dbpBYYxitmRF"
      },
      "source": [
        "# Reading from a file\n",
        "To read from a file your program needs to open the file and then read the contents of the file. You can read the entire contents of the file at once, or read the file line by line. The with statement makes sure the file is closed properly when the program has finished accessing the file."
      ]
    },
    {
      "cell_type": "code",
      "metadata": {
        "id": "jGiOfFfhtjt_",
        "outputId": "f4e84a12-5735-40c5-835d-f9d9c484ff96",
        "colab": {
          "base_uri": "https://localhost:8080/"
        }
      },
      "source": [
        "# Download and read a public domain text from Project Gutenberg\n",
        "\n",
        "import urllib.request\n",
        "\n",
        "# Direct link to raw .txt file (not HTML)\n",
        "url = \"https://www.gutenberg.org/files/1661/1661-0.txt\"\n",
        "filename = \"sherlock_holmes.txt\"\n",
        "\n",
        "print(\"Downloading 'The Adventures of Sherlock Holmes'...\")\n",
        "urllib.request.urlretrieve(url, filename)\n",
        "\n",
        "# Read and display the first 50 lines\n",
        "with open(filename, encoding=\"utf-8\") as f:\n",
        "    for i in range(50):\n",
        "        print(f.readline().strip())\n",
        "\n",
        "\n"
      ],
      "execution_count": null,
      "outputs": [
        {
          "output_type": "stream",
          "name": "stdout",
          "text": [
            "Downloading 'The Adventures of Sherlock Holmes'...\n",
            "﻿The Project Gutenberg eBook of The Adventures of Sherlock Holmes,\n",
            "by Arthur Conan Doyle\n",
            "\n",
            "This eBook is for the use of anyone anywhere in the United States and\n",
            "most other parts of the world at no cost and with almost no restrictions\n",
            "whatsoever. You may copy it, give it away or re-use it under the terms\n",
            "of the Project Gutenberg License included with this eBook or online at\n",
            "www.gutenberg.org. If you are not located in the United States, you\n",
            "will have to check the laws of the country where you are located before\n",
            "using this eBook.\n",
            "\n",
            "Title: The Adventures of Sherlock Holmes\n",
            "\n",
            "Author: Arthur Conan Doyle\n",
            "\n",
            "Release Date: November 29, 2002 [eBook #1661]\n",
            "[Most recently updated: October 10, 2023]\n",
            "\n",
            "Language: English\n",
            "\n",
            "Character set encoding: UTF-8\n",
            "\n",
            "Produced by: an anonymous Project Gutenberg volunteer and Jose Menendez\n",
            "\n",
            "*** START OF THE PROJECT GUTENBERG EBOOK THE ADVENTURES OF SHERLOCK\n",
            "HOLMES ***\n",
            "\n",
            "\n",
            "\n",
            "\n",
            "The Adventures of Sherlock Holmes\n",
            "\n",
            "by Arthur Conan Doyle\n",
            "\n",
            "\n",
            "Contents\n",
            "\n",
            "I.     A Scandal in Bohemia\n",
            "II.    The Red-Headed League\n",
            "III.   A Case of Identity\n",
            "IV.    The Boscombe Valley Mystery\n",
            "V.     The Five Orange Pips\n",
            "VI.    The Man with the Twisted Lip\n",
            "VII.   The Adventure of the Blue Carbuncle\n",
            "VIII.  The Adventure of the Speckled Band\n",
            "IX.    The Adventure of the Engineer’s Thumb\n",
            "X.     The Adventure of the Noble Bachelor\n",
            "XI.    The Adventure of the Beryl Coronet\n",
            "XII.   The Adventure of the Copper Beeches\n",
            "\n"
          ]
        }
      ]
    },
    {
      "cell_type": "markdown",
      "metadata": {
        "id": "uA4mEizMTNdP"
      },
      "source": [
        "# Reading line by line\n",
        "Each line that's read from the file has a newline character at the end of the line, and the print function adds its own newline character.\n",
        "The rstrip() method gets rid of the the extra blank lines this would result in when\n",
        "printing to the terminal."
      ]
    },
    {
      "cell_type": "code",
      "metadata": {
        "id": "cvPgcoSq3R5s",
        "colab": {
          "base_uri": "https://localhost:8080/"
        },
        "outputId": "42813252-f4ac-4033-cf68-07f885a17b87"
      },
      "source": [
        "import urllib.request\n",
        "\n",
        "# Download a known text file\n",
        "url = \"https://www.gutenberg.org/files/1661/1661-0.txt\"\n",
        "filename = \"sherlock_holmes.txt\"\n",
        "urllib.request.urlretrieve(url, filename)\n",
        "\n",
        "# ✅ Reading line by line directly\n",
        "print(\"🔹 Reading line-by-line with rstrip():\\n\")\n",
        "with open(filename, encoding='utf-8') as f_obj:\n",
        "    for i, line in enumerate(f_obj):\n",
        "        if i >= 15: break  # Limit output\n",
        "        print(line.rstrip())\n",
        "\n",
        "# ✅ Reading all lines into a list\n",
        "print(\"\\n🔹 Reading from list of lines (readlines()):\\n\")\n",
        "with open(filename, encoding='utf-8') as f_obj:\n",
        "    lines = f_obj.readlines()\n",
        "    for line in lines[:15]:  # Limit output\n",
        "        print(line.rstrip())\n"
      ],
      "execution_count": null,
      "outputs": [
        {
          "output_type": "stream",
          "name": "stdout",
          "text": [
            "🔹 Reading line-by-line with rstrip():\n",
            "\n",
            "﻿The Project Gutenberg eBook of The Adventures of Sherlock Holmes,\n",
            "by Arthur Conan Doyle\n",
            "\n",
            "This eBook is for the use of anyone anywhere in the United States and\n",
            "most other parts of the world at no cost and with almost no restrictions\n",
            "whatsoever. You may copy it, give it away or re-use it under the terms\n",
            "of the Project Gutenberg License included with this eBook or online at\n",
            "www.gutenberg.org. If you are not located in the United States, you\n",
            "will have to check the laws of the country where you are located before\n",
            "using this eBook.\n",
            "\n",
            "Title: The Adventures of Sherlock Holmes\n",
            "\n",
            "Author: Arthur Conan Doyle\n",
            "\n",
            "\n",
            "🔹 Reading from list of lines (readlines()):\n",
            "\n",
            "﻿The Project Gutenberg eBook of The Adventures of Sherlock Holmes,\n",
            "by Arthur Conan Doyle\n",
            "\n",
            "This eBook is for the use of anyone anywhere in the United States and\n",
            "most other parts of the world at no cost and with almost no restrictions\n",
            "whatsoever. You may copy it, give it away or re-use it under the terms\n",
            "of the Project Gutenberg License included with this eBook or online at\n",
            "www.gutenberg.org. If you are not located in the United States, you\n",
            "will have to check the laws of the country where you are located before\n",
            "using this eBook.\n",
            "\n",
            "Title: The Adventures of Sherlock Holmes\n",
            "\n",
            "Author: Arthur Conan Doyle\n",
            "\n"
          ]
        }
      ]
    },
    {
      "cell_type": "markdown",
      "metadata": {
        "id": "4nYhOmKx3OTX"
      },
      "source": [
        "# Writing to a file\n",
        "\n",
        "Passing the 'w' argument to open() tells Python you want to write to the file. Be careful; this will erase the contents of the file if it already exists. Passing the 'a' argument tells Python you want to append to the end of an existing file."
      ]
    },
    {
      "cell_type": "code",
      "metadata": {
        "id": "JJR4lfg13ltw"
      },
      "source": [
        "# Writing to an empty file\n",
        "filename = 'programming.txt'\n",
        "\n",
        "with open(filename, 'w') as f:\n",
        "  f.write(\"I love programming!\")\n",
        "\n",
        "#   Writing multiple lines to an empty file\n",
        "filename = 'programming.txt'\n",
        "\n",
        "with open(filename, 'w') as f:\n",
        "  f.write(\"I love programming!\\n\")\n",
        "  f.write(\"I love creating new games.\\n\")\n",
        "\n",
        "#   Appending to a file\n",
        "filename = 'programming.txt'\n",
        "\n",
        "with open(filename, 'a') as f:\n",
        "  f.write(\"I also love working with data.\\n\")\n",
        "  f.write(\"I love making apps as well.\\n\")"
      ],
      "execution_count": null,
      "outputs": []
    },
    {
      "cell_type": "markdown",
      "metadata": {
        "id": "bneV7QOa38Rp"
      },
      "source": [
        "# File Paths\n",
        "When Python runs the open() function, it looks for the file in the same directory where the program that's being excuted is stored. You can open a file from a subfolder using a relative path. You can also use an absolute path to open any file on your system."
      ]
    },
    {
      "cell_type": "code",
      "metadata": {
        "id": "lyMYy11N4CmZ",
        "colab": {
          "base_uri": "https://localhost:8080/"
        },
        "outputId": "d507d049-f144-42ba-ed67-3d53334cc070"
      },
      "source": [
        "import os\n",
        "\n",
        "# Create subfolder if it doesn't exist\n",
        "os.makedirs(\"text_files\", exist_ok=True)\n",
        "\n",
        "# Create a sample file inside the subfolder\n",
        "demo_path = \"text_files/alice.txt\"\n",
        "with open(demo_path, \"w\", encoding=\"utf-8\") as f:\n",
        "    f.write(\"Alice was beginning to get very tired of sitting by her sister on the bank.\\n\")\n",
        "    f.write(\"So she was considering in her own mind...\\n\")\n",
        "\n",
        "# ✅ Reading from the file (relative path)\n",
        "print(\"Reading from a file in a subfolder using a relative path:\\n\")\n",
        "with open(demo_path, \"r\", encoding=\"utf-8\") as f:\n",
        "    for line in f:\n",
        "        print(line.rstrip())\n",
        "\n",
        "# ✅ Absolute path example\n",
        "abs_path = os.path.abspath(demo_path)\n",
        "print(\"\\nReading from an absolute path:\\n\")\n",
        "with open(abs_path, \"r\", encoding=\"utf-8\") as f:\n",
        "    print(f.read())\n"
      ],
      "execution_count": null,
      "outputs": [
        {
          "output_type": "stream",
          "name": "stdout",
          "text": [
            "Reading from a file in a subfolder using a relative path:\n",
            "\n",
            "Alice was beginning to get very tired of sitting by her sister on the bank.\n",
            "So she was considering in her own mind...\n",
            "\n",
            "Reading from an absolute path:\n",
            "\n",
            "Alice was beginning to get very tired of sitting by her sister on the bank.\n",
            "So she was considering in her own mind...\n",
            "\n"
          ]
        }
      ]
    },
    {
      "cell_type": "markdown",
      "metadata": {
        "id": "O24Ojhu64_--"
      },
      "source": [
        "# The try-except block\n",
        "When you think an error may occur, you can write a tryexcept block to handle the exception that might be raised. The try block tells Python to try running some code, and the except block tells Python what to do if the code results in a particular kind of error."
      ]
    },
    {
      "cell_type": "code",
      "metadata": {
        "id": "WSwJIiD35DAm",
        "colab": {
          "base_uri": "https://localhost:8080/"
        },
        "outputId": "d3db3de6-dcb5-413b-cafd-881ef1cebf12"
      },
      "source": [
        "try:\n",
        "    number = int(input(\"Enter a number: \"))\n",
        "    result = 10 / number\n",
        "    print(f\"Result: {result}\")\n",
        "except ZeroDivisionError:\n",
        "    print(\"You can't divide by zero!\")\n",
        "except ValueError:\n",
        "    print(\"That's not a valid number.\")\n"
      ],
      "execution_count": null,
      "outputs": [
        {
          "output_type": "stream",
          "name": "stdout",
          "text": [
            "Enter a number: ten\n",
            "That's not a valid number.\n"
          ]
        }
      ]
    },
    {
      "cell_type": "markdown",
      "metadata": {
        "id": "Dq1DRL3O5Lva"
      },
      "source": [
        "# Knowing which exception to handle\n",
        "It can be hard to know what kind of exception to handle when writing code. Try writing your code without a try block, and make it generate an error. The traceback will tell you what kind of exception your program needs to handle.\n",
        "\n",
        ">\n",
        "\n"
      ]
    },
    {
      "cell_type": "markdown",
      "metadata": {
        "id": "F9-E-bvf5144"
      },
      "source": [
        "#The else block\n",
        "The try block should only contain code that may cause an error. Any code that depends on the try block running successfully should be placed in the else block.\n"
      ]
    },
    {
      "cell_type": "code",
      "metadata": {
        "id": "FLy_mxsO59UY",
        "colab": {
          "base_uri": "https://localhost:8080/"
        },
        "outputId": "937e621a-e9d6-4f3a-94fa-1f94dc61877e"
      },
      "source": [
        "try:\n",
        "    number = int(input(\"Enter a number: \"))\n",
        "except ValueError:\n",
        "    print(\"That's not a valid number.\")\n",
        "else:\n",
        "    print(f\"Great! You entered {number}.\")\n"
      ],
      "execution_count": null,
      "outputs": [
        {
          "output_type": "stream",
          "name": "stdout",
          "text": [
            "Enter a number: hi\n",
            "That's not a valid number.\n"
          ]
        }
      ]
    },
    {
      "cell_type": "markdown",
      "source": [
        "## 🔄 Flexible Function Arguments: `*args` and `**kwargs`\n",
        "\n",
        "Python provides two special syntaxes for writing flexible functions: `*args` and `**kwargs`. These allow you to accept any number of positional or keyword arguments, which is especially useful when working with dynamic inputs or building general-purpose utilities.\n"
      ],
      "metadata": {
        "id": "PMRLWpYAnEfa"
      }
    },
    {
      "cell_type": "markdown",
      "source": [
        "### 🔄 What are `*args`?\n",
        "\n",
        "`*args` allows a function to accept any number of **positional arguments**. These arguments are captured as a tuple inside the function. This is useful when the exact number of inputs is not known in advance.\n",
        "\n",
        "Common use cases include logging, feature engineering, and passing a dynamic number of values to a function in a data processing pipeline.\n"
      ],
      "metadata": {
        "id": "rfRm3TD6nZXU"
      }
    },
    {
      "cell_type": "code",
      "source": [
        "def summarize_features(*args):\n",
        "    for i, feature in enumerate(args):\n",
        "        print(f\"Feature {i+1}: {feature}\")\n",
        "\n",
        "summarize_features(\"age\", \"income\", \"location\")"
      ],
      "metadata": {
        "id": "E2M6PaUbnYms",
        "outputId": "5cf02fe1-b2f1-4491-c099-d50dba85b47f",
        "colab": {
          "base_uri": "https://localhost:8080/"
        }
      },
      "execution_count": 3,
      "outputs": [
        {
          "output_type": "stream",
          "name": "stdout",
          "text": [
            "Feature 1: age\n",
            "Feature 2: income\n",
            "Feature 3: location\n"
          ]
        }
      ]
    },
    {
      "cell_type": "markdown",
      "source": [
        "### 🔄 What are `**kwargs`?\n",
        "\n",
        "`**kwargs` allows a function to accept any number of **keyword arguments**. These are collected into a dictionary where the keys are argument names and the values are the argument values.\n",
        "\n",
        "This is commonly used in machine learning and API design to pass flexible sets of named parameters without hardcoding each one.\n"
      ],
      "metadata": {
        "id": "ITDe1vh7nmUT"
      }
    },
    {
      "cell_type": "code",
      "source": [
        "def configure_model(**kwargs):\n",
        "    for param, value in kwargs.items():\n",
        "        print(f\"{param} = {value}\")\n",
        "\n",
        "configure_model(learning_rate=0.01, max_depth=5, regularization='L2')\n"
      ],
      "metadata": {
        "id": "vxeWK-WVnqWP",
        "outputId": "22e006b5-7ef6-4eec-d1ad-a83166f5f4e0",
        "colab": {
          "base_uri": "https://localhost:8080/"
        }
      },
      "execution_count": 4,
      "outputs": [
        {
          "output_type": "stream",
          "name": "stdout",
          "text": [
            "learning_rate = 0.01\n",
            "max_depth = 5\n",
            "regularization = L2\n"
          ]
        }
      ]
    },
    {
      "cell_type": "markdown",
      "source": [
        "### ✅ Best Practice for `*args` and `**kwargs`\n",
        "\n",
        "Use `*args` when your function can take an arbitrary number of positional inputs.\n",
        "\n",
        "Use `**kwargs` when your function may receive configuration-style options that are better passed as named parameters.\n",
        "\n",
        "They can also be combined with standard arguments to allow both fixed and flexible behavior, which is especially valuable in advanced data mining applications where extensibility is key.\n"
      ],
      "metadata": {
        "id": "SnLsFQ8Zns0j"
      }
    },
    {
      "cell_type": "code",
      "source": [
        "def train_model(model_type, *features, **hyperparams):\n",
        "    print(f\"Training model: {model_type}\")\n",
        "    print(\"Features provided:\")\n",
        "    for f in features:\n",
        "        print(f\"  - {f}\")\n",
        "    print(\"Hyperparameters:\")\n",
        "    for param, value in hyperparams.items():\n",
        "        print(f\"  {param} = {value}\")\n",
        "\n",
        "# Example usage\n",
        "train_model(\n",
        "    \"RandomForest\",\n",
        "    \"age\", \"income\", \"education_level\",\n",
        "    n_estimators=100,\n",
        "    max_depth=10,\n",
        "    random_state=42\n",
        ")"
      ],
      "metadata": {
        "id": "vnUarE9znvgv",
        "outputId": "99426ee0-1ce6-42ab-9ff0-f7e045e44da3",
        "colab": {
          "base_uri": "https://localhost:8080/"
        }
      },
      "execution_count": 5,
      "outputs": [
        {
          "output_type": "stream",
          "name": "stdout",
          "text": [
            "Training model: RandomForest\n",
            "Features provided:\n",
            "  - age\n",
            "  - income\n",
            "  - education_level\n",
            "Hyperparameters:\n",
            "  n_estimators = 100\n",
            "  max_depth = 10\n",
            "  random_state = 42\n"
          ]
        }
      ]
    },
    {
      "cell_type": "markdown",
      "source": [
        "#📊 Plotting a Simple Line Graph in Python\n",
        "##This example demonstrates how to use the matplotlib library to create a basic line graph that visualizes the relationship between numbers and their squares.\n",
        "###Import the matplot lib library\n",
        "\n",
        "## Step 1: Define the x-axis values\n",
        "###x_values = [0, 1, 2, 3, 4, 5]\n",
        "\n",
        "## Step 2: Define the y-axis values (squares of x)\n",
        "###squares = [0, 1, 4, 9, 16, 25]\n",
        "\n",
        "## Step 3: Plot the x and y values as a line graph\n",
        "###plt.plot(x_values, squares)\n",
        "\n",
        "## Step 4: Display the plot in a separate window\n",
        "###plt.show()\n"
      ],
      "metadata": {
        "id": "WgqY9_zAFBD1"
      }
    },
    {
      "cell_type": "code",
      "metadata": {
        "id": "n9ShaamEh4sE",
        "outputId": "52b860b0-0609-40cf-da11-a4bed133187e",
        "colab": {
          "base_uri": "https://localhost:8080/",
          "height": 430
        }
      },
      "source": [
        "import matplotlib.pyplot as plt\n",
        "x_values = [0, 1, 2, 3, 4, 5]\n",
        "squares = [0, 1, 4, 9, 16, 25]\n",
        "plt.plot(x_values, squares)\n",
        "plt.show()"
      ],
      "execution_count": null,
      "outputs": [
        {
          "output_type": "display_data",
          "data": {
            "text/plain": [
              "<Figure size 640x480 with 1 Axes>"
            ],
            "image/png": "[encoded data removed]"
          },
          "metadata": {}
        }
      ]
    },
    {
      "cell_type": "markdown",
      "source": [
        "# 📊 Plotting a Scatter Graph in Python\n",
        "## This example demonstrates how to use the matplotlib library to create a scatter plot that visualizes the relationship between numbers and their squares."
      ],
      "metadata": {
        "id": "5dAH8PiwGjNi"
      }
    },
    {
      "cell_type": "code",
      "metadata": {
        "id": "xm4jPmAGhs3V",
        "outputId": "437f92ae-3e10-4572-b3fb-15d0b1075a4f",
        "colab": {
          "base_uri": "https://localhost:8080/",
          "height": 499
        }
      },
      "source": [
        "import matplotlib.pyplot as plt\n",
        "x_values = list(range(1000))\n",
        "squares = [x**2 for x in x_values]\n",
        "plt.scatter(x_values, squares, s=10)\n",
        "plt.title(\"Square Numbers\", fontsize=24)\n",
        "plt.xlabel(\"Value\", fontsize=18)\n",
        "plt.ylabel(\"Square of Value\", fontsize=18)\n",
        "plt.tick_params(axis='both', which='major',\n",
        " labelsize=14)\n",
        "plt.axis([0, 1100, 0, 1100000])\n",
        "plt.show()"
      ],
      "execution_count": null,
      "outputs": [
        {
          "output_type": "display_data",
          "data": {
            "text/plain": [
              "<Figure size 640x480 with 1 Axes>"
            ],
            "image/png": "[encoded data removed]"
          },
          "metadata": {}
        }
      ]
    },
    {
      "cell_type": "markdown",
      "source": [
        "# 📈 Visualizing Square Numbers with Color Mapping and Custom Styling\n",
        "\n",
        "This example demonstrates how to use `matplotlib` to create a colorful scatter plot of square numbers, highlight specific points, remove axes, and save the plot as an image.\n"
      ],
      "metadata": {
        "id": "TNnYEVSxGiLg"
      }
    },
    {
      "cell_type": "code",
      "metadata": {
        "id": "WInOF1s4QgxE",
        "outputId": "b339c575-5259-487e-86d4-a7e1cc436fc8",
        "colab": {
          "base_uri": "https://localhost:8080/",
          "height": 677
        }
      },
      "source": [
        "import matplotlib.pyplot as plt\n",
        "\n",
        "# Prepare data\n",
        "x_values = list(range(1000))\n",
        "squares = [x**2 for x in x_values]\n",
        "\n",
        "# Set custom figure size before plotting\n",
        "plt.figure(dpi=128, figsize=(10, 6))\n",
        "\n",
        "# Plot main scatter with a colormap\n",
        "plt.scatter(x_values, squares, c=squares, cmap=plt.cm.Blues, edgecolor='none', s=10)\n",
        "\n",
        "# Highlight the first point in green\n",
        "plt.scatter(x_values[0], squares[0], c='green', edgecolor='none', s=100)\n",
        "\n",
        "# Highlight the last point in red\n",
        "plt.scatter(x_values[-1], squares[-1], c='red', edgecolor='none', s=100)\n",
        "\n",
        "# Add title\n",
        "plt.title(\"Square Numbers\", fontsize=24)\n",
        "\n",
        "# Remove axes\n",
        "ax = plt.gca()\n",
        "ax.get_xaxis().set_visible(False)\n",
        "ax.get_yaxis().set_visible(False)\n",
        "\n",
        "# Save the plot to a file\n",
        "plt.savefig('squares.png', bbox_inches='tight')\n"
      ],
      "execution_count": null,
      "outputs": [
        {
          "output_type": "display_data",
          "data": {
            "text/plain": [
              "<Figure size 1280x768 with 1 Axes>"
            ],
            "image/png": "[encoded data removed]"
          },
          "metadata": {}
        }
      ]
    }
  ]
}