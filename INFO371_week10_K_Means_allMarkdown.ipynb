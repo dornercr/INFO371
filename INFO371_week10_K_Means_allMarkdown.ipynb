{
  "nbformat": 4,
  "nbformat_minor": 0,
  "metadata": {
    "anaconda-cloud": {},
    "kernelspec": {
      "display_name": "Python 3",
      "language": "python",
      "name": "python3"
    },
    "language_info": {
      "codemirror_mode": {
        "name": "ipython",
        "version": 3
      },
      "file_extension": ".py",
      "mimetype": "text/x-python",
      "name": "python",
      "nbconvert_exporter": "python",
      "pygments_lexer": "ipython3",
      "version": "3.5.1"
    },
    "colab": {
      "provenance": [],
      "include_colab_link": true
    }
  },
  "cells": [
    {
      "cell_type": "markdown",
      "metadata": {
        "id": "view-in-github",
        "colab_type": "text"
      },
      "source": [
        "<a href=\"https://colab.research.google.com/github/dornercr/INFO371/blob/main/INFO371_week10_K_Means_allMarkdown.ipynb\" target=\"_parent\"><img src=\"https://colab.research.google.com/assets/colab-badge.svg\" alt=\"Open In Colab\"/></a>"
      ]
    },
    {
      "cell_type": "markdown",
      "metadata": {
        "id": "cFLTZAiTBv6V"
      },
      "source": [
        "# INFO 371: Data Mining Applications\n",
        "\n",
        "## Week 10: Unsupervised Learning: K-Means Clustering\n",
        "### Prof. Charles Dorner, EdD (Candidate)\n",
        "### College of Computing and Informatics, Drexel University"
      ]
    },
    {
      "cell_type": "code",
      "source": [],
      "metadata": {
        "id": "CNj3xEmKhX9O"
      },
      "execution_count": null,
      "outputs": []
    },
    {
      "cell_type": "markdown",
      "metadata": {
        "id": "GWwDdmA2Bv6X"
      },
      "source": [
        "# In Depth: k-Means Clustering"
      ]
    },
    {
      "cell_type": "markdown",
      "metadata": {
        "id": "4Zg2y0uoBv6X"
      },
      "source": [
        "- Here we will examine a class of unsupervised machine learning models: clustering algorithms.\n",
        "\n",
        "- Clustering algorithms seek to learn, from the properties of the data, an optimal division or discrete labeling of groups of points.\n",
        "\n",
        "- Many clustering algorithms are available in Scikit-Learn and elsewhere, but perhaps the simplest to understand is an algorithm known as *k-means clustering*, which is implemented in ``sklearn.cluster.KMeans``."
      ]
    },
    {
      "cell_type": "markdown",
      "source": [
        "## Import Libraries"
      ],
      "metadata": {
        "id": "6fIXfY8pxGP5"
      }
    },
    {
      "cell_type": "markdown",
      "metadata": {
        "id": "rCr-h2N7Bv6Z"
      },
      "source": [
        "```\n",
        "%matplotlib inline\n",
        "import matplotlib.pyplot as plt\n",
        "import seaborn as sns; sns.set()  # for plot styling\n",
        "import numpy as np\n",
        "```"
      ]
    },
    {
      "cell_type": "markdown",
      "metadata": {
        "id": "oqIEuFX_Bv6a"
      },
      "source": [
        "## Introducing k-Means"
      ]
    },
    {
      "cell_type": "markdown",
      "metadata": {
        "id": "1iJBBxKbBv6a"
      },
      "source": [
        "- The *k*-means algorithm searches for a pre-determined number of clusters within an unlabeled multidimensional dataset.\n",
        "It accomplishes this using a simple conception of what the optimal clustering looks like:\n",
        "\n",
        "- The \"cluster center\" is the arithmetic mean of all the points belonging to the cluster.\n",
        "- Each point is closer to its own cluster center than to other cluster centers."
      ]
    },
    {
      "cell_type": "markdown",
      "source": [
        "## Two-Dimensional Dataset Containing Four Clusters"
      ],
      "metadata": {
        "id": "1HRu43RnxXC6"
      }
    },
    {
      "cell_type": "markdown",
      "metadata": {
        "id": "5fAsF2O4Bv6c",
        "outputId": "b59a7e4d-5b19-4dca-b233-7426fd4317eb"
      },
      "source": [
        "```\n",
        "from sklearn.datasets import make_blobs\n",
        "X, y_true = make_blobs(n_samples=300, centers=4,\n",
        "                       cluster_std=0.60, random_state=0)\n",
        "plt.scatter(X[:, 0], X[:, 1], c = y_true, s=50, cmap='Blues');\n",
        "```"
      ]
    },
    {
      "cell_type": "markdown",
      "source": [
        "## Use Scikit-Learn to Cluster"
      ],
      "metadata": {
        "id": "IcBmOqkGyDJh"
      }
    },
    {
      "cell_type": "markdown",
      "metadata": {
        "id": "A2YHvnwCBv6f"
      },
      "source": [
        "By eye, it is relatively easy to pick out the four clusters.\n",
        "The *k*-means algorithm does this automatically, and in Scikit-Learn uses the typical estimator API:"
      ]
    },
    {
      "cell_type": "markdown",
      "metadata": {
        "collapsed": true,
        "id": "ZMHHiAjiBv6g"
      },
      "source": [
        "```\n",
        "from sklearn.cluster import KMeans\n",
        "kmeans = KMeans(n_clusters=4)\n",
        "kmeans.fit(X)\n",
        "y_kmeans = kmeans.predict(X)\n",
        "```"
      ]
    },
    {
      "cell_type": "markdown",
      "metadata": {
        "id": "EZr5vHIoBv6h"
      },
      "source": [
        "Let's visualize the results by plotting the data colored by these labels.\n",
        "We will also plot the cluster centers as determined by the *k*-means estimator:"
      ]
    },
    {
      "cell_type": "markdown",
      "metadata": {
        "id": "-WnFLO1tBv6h",
        "outputId": "eeffed94-2e4b-4d3f-c669-2af3b95c2b39"
      },
      "source": [
        "```\n",
        "plt.scatter(X[:, 0], X[:, 1], c=y_kmeans, s=50, cmap='viridis')\n",
        "\n",
        "centers = kmeans.cluster_centers_\n",
        "plt.scatter(centers[:, 0], centers[:, 1], c='black', s=200, alpha=0.5);\n",
        "```"
      ]
    },
    {
      "cell_type": "markdown",
      "metadata": {
        "id": "Nk_dSIoZBv6i"
      },
      "source": [
        "The good news is that the *k*-means algorithm (at least in this simple case) assigns the points to clusters very similarly to how we might assign them by eye.\n",
        "But you might wonder how this algorithm finds these clusters so quickly! After all, the number of possible combinations of cluster assignments is exponential in the number of data points—an exhaustive search would be very, very costly.\n",
        "Fortunately for us, such an exhaustive search is not necessary: instead, the typical approach to *k*-means involves an intuitive iterative approach known as *expectation–maximization*."
      ]
    },
    {
      "cell_type": "markdown",
      "metadata": {
        "id": "7L84xRvdBv6i"
      },
      "source": [
        "## k-Means Algorithm: Expectation–Maximization"
      ]
    },
    {
      "cell_type": "markdown",
      "metadata": {
        "id": "fh7gcqjGBv6j"
      },
      "source": [
        "Expectation–maximization (E–M) is a powerful algorithm that comes up in a variety of contexts within data science.\n",
        "*k*-means is a particularly simple and easy-to-understand application of the algorithm, and we will walk through it briefly here.\n",
        "In short, the expectation–maximization approach here consists of the following procedure:\n",
        "\n",
        "1. Guess some cluster centers\n",
        "2. Repeat until converged\n",
        "   1. *E-Step*: assign points to the nearest cluster center\n",
        "   2. *M-Step*: set the cluster centers to the mean\n",
        "\n",
        "Here the \"E-step\" or \"Expectation step\" is so-named because it involves updating our expectation of which cluster each point belongs to.\n",
        "The \"M-step\" or \"Maximization step\" is so-named because it involves maximizing some fitness function that defines the location of the cluster centers—in this case, that maximization is accomplished by taking a simple mean of the data in each cluster.\n",
        "\n",
        "The literature about this algorithm is vast, but can be summarized as follows: under typical circumstances, each repetition of the E-step and M-step will always result in a better estimate of the cluster characteristics."
      ]
    },
    {
      "cell_type": "markdown",
      "metadata": {
        "id": "xSv1DzJeBv6m"
      },
      "source": [
        "### The number of clusters must be selected beforehand\n",
        "A common challenge with *k*-means is that you must tell it how many clusters you expect: it cannot learn the number of clusters from the data.\n",
        "For example, if we ask the algorithm to identify six clusters, it will happily proceed and find the best six clusters:"
      ]
    },
    {
      "cell_type": "markdown",
      "metadata": {
        "id": "F4voO3HHBv6n",
        "outputId": "86df2844-1be8-438a-b065-2837ecc857d2"
      },
      "source": [
        "```\n",
        "labels = KMeans(6, random_state=0).fit_predict(X)\n",
        "plt.scatter(X[:, 0], X[:, 1], c=labels,\n",
        "            s=50, cmap='viridis');\n",
        "```"
      ]
    },
    {
      "cell_type": "markdown",
      "metadata": {
        "id": "uYCV_fmBBv6n"
      },
      "source": [
        "Whether the result is meaningful is a question that is difficult to answer definitively; one approach that is rather intuitive, but that we won't discuss further here, is called [silhouette analysis](http://scikit-learn.org/stable/auto_examples/cluster/plot_kmeans_silhouette_analysis.html).\n",
        "\n",
        "Alternatively, you might use a more complicated clustering algorithm which has a better quantitative measure of the fitness per number of clusters (e.g., Gaussian mixture models); or which *can* choose a suitable number of clusters (e.g., DBSCAN, mean-shift, or affinity propagation, all available in the ``sklearn.cluster`` submodule)"
      ]
    },
    {
      "cell_type": "markdown",
      "metadata": {
        "id": "eVnEXWIhBv6n"
      },
      "source": [
        "### k-means is limited to linear cluster boundaries\n",
        "The fundamental model assumptions of *k*-means (points will be closer to their own cluster center than to others) means that the algorithm will often be ineffective if the clusters have complicated geometries.\n",
        "\n",
        "In particular, the boundaries between *k*-means clusters will always be linear, which means that it will fail for more complicated boundaries.\n",
        "Consider the following data, along with the cluster labels found by the typical *k*-means approach:"
      ]
    },
    {
      "cell_type": "markdown",
      "metadata": {
        "collapsed": true,
        "id": "Vga57zQHBv6o"
      },
      "source": [
        "```\n",
        "from sklearn.datasets import make_moons\n",
        "X, y = make_moons(200, noise=.05, random_state=0)\n",
        "```"
      ]
    },
    {
      "cell_type": "markdown",
      "metadata": {
        "id": "hlJ9ua8pBv6o",
        "outputId": "059a2b3b-864e-41cd-bdf4-154e797a699b"
      },
      "source": [
        "```\n",
        "labels = KMeans(2, random_state=0).fit_predict(X)\n",
        "plt.scatter(X[:, 0], X[:, 1], c=labels,\n",
        "            s=50, cmap='viridis');\n",
        "```"
      ]
    },
    {
      "cell_type": "markdown",
      "metadata": {
        "id": "rubwEVHuBv6o"
      },
      "source": [
        "We can use a kernel transformation to project the data into a higher dimension where a linear separation is possible.\n",
        "\n",
        "One version of this kernelized *k*-means is implemented in Scikit-Learn within the ``SpectralClustering`` estimator.\n",
        "It uses the graph of nearest neighbors to compute a higher-dimensional representation of the data, and then assigns labels using a *k*-means algorithm:"
      ]
    },
    {
      "cell_type": "markdown",
      "metadata": {
        "id": "Ck4ja8egBv6p",
        "outputId": "ea085582-1997-402b-af5e-d8c49d931513"
      },
      "source": [
        "```\n",
        "from sklearn.cluster import SpectralClustering\n",
        "model = SpectralClustering(n_clusters=2, affinity='nearest_neighbors',\n",
        "                           assign_labels='kmeans')\n",
        "labels = model.fit_predict(X)\n",
        "plt.scatter(X[:, 0], X[:, 1], c=labels,\n",
        "            s=50, cmap='viridis');\n",
        "```"
      ]
    },
    {
      "cell_type": "markdown",
      "metadata": {
        "id": "E88VDnAZBv6p"
      },
      "source": [
        "We see that with this kernel transform approach, the kernelized *k*-means is able to find the more complicated nonlinear boundaries between clusters."
      ]
    },
    {
      "cell_type": "markdown",
      "metadata": {
        "id": "YMgu4hxYBv6p"
      },
      "source": [
        "### k-means can be slow for large numbers of samples\n",
        "- Because each iteration of *k*-means must access every point in the dataset, the algorithm can be relatively slow as the number of samples grows.\n",
        "- You might wonder if this requirement to use all data at each iteration can be relaxed; for example, you might just use a subset of the data to update the cluster centers at each step.\n",
        "This is the idea behind batch-based *k*-means algorithms, one form of which is implemented in ``sklearn.cluster.MiniBatchKMeans``.\n",
        "- The interface for this is the same as for standard ``KMeans``; we will see an example of its use as we continue our discussion."
      ]
    },
    {
      "cell_type": "markdown",
      "source": [
        "## Retrieval Practice"
      ],
      "metadata": {
        "id": "6HIfwsk--N9a"
      }
    },
    {
      "cell_type": "markdown",
      "metadata": {
        "id": "tSCIgP2hBv6q"
      },
      "source": [
        "## Examples\n",
        "\n",
        "Being careful about these limitations of the algorithm, we can use *k*-means to our advantage in a wide variety of situations.\n",
        "We'll now take a look at a couple examples."
      ]
    },
    {
      "cell_type": "markdown",
      "metadata": {
        "id": "HGbyFNPYBv6q"
      },
      "source": [
        "### Example 1: k-means on digits\n",
        "\n",
        "- Here we will attempt to use *k*-means to try to identify similar digits *without using the original label information*; this might be similar to a first step in extracting meaning from a new dataset about which you don't have any *a priori* label information.\n",
        "\n",
        "- We will start by loading the digits and then finding the ``KMeans`` clusters.\n",
        "The digits consist of 1,797 samples with 64 features, where each of the 64 features is the brightness of one pixel in an 8×8 image:"
      ]
    },
    {
      "cell_type": "markdown",
      "metadata": {
        "id": "R21m4SzhBv6q",
        "outputId": "01c06f93-8200-4123-80cd-56538f3ee8ce"
      },
      "source": [
        "```\n",
        "from sklearn.datasets import load_digits\n",
        "digits = load_digits()\n",
        "digits.data.shape\n",
        "```"
      ]
    },
    {
      "cell_type": "markdown",
      "source": [
        "```\n",
        "# plot random 10 digits\n",
        "fig, ax = plt.subplots(2, 5, figsize=(8, 3))\n",
        "\n",
        "indices = np.random.choice(len(digits.data), 10, replace=False)  # Randomly select 10 indices\n",
        "data_10 = digits.data[indices]\n",
        "\n",
        "for i, axi in enumerate(ax.flat):\n",
        "    axi.imshow(data_10[i].reshape(8, 8), cmap='binary')\n",
        "    axi.set(xticks=[], yticks=[])\n",
        "```"
      ],
      "metadata": {
        "id": "rcRgfJvzzRRA",
        "outputId": "4ae4bbcd-24ea-4cb2-a890-71b2d1ccf6c0"
      }
    },
    {
      "cell_type": "markdown",
      "metadata": {
        "id": "E4rXoaJOBv6q"
      },
      "source": [
        "The clustering can be performed as we did before:"
      ]
    },
    {
      "cell_type": "markdown",
      "metadata": {
        "id": "twUNK681Bv6r",
        "outputId": "39f27d90-ce3a-42b6-b340-0107787ff982"
      },
      "source": [
        "```\n",
        "kmeans = KMeans(n_clusters=10, random_state=0)\n",
        "clusters = kmeans.fit_predict(digits.data)\n",
        "kmeans.cluster_centers_.shape\n",
        "```"
      ]
    },
    {
      "cell_type": "markdown",
      "metadata": {
        "id": "GwhLmvdQBv6r"
      },
      "source": [
        "The result is 10 clusters in 64 dimensions.\n",
        "Notice that the cluster centers themselves are 64-dimensional points, and can themselves be interpreted as the \"typical\" digit within the cluster.\n",
        "Let's see what these cluster centers look like:"
      ]
    },
    {
      "cell_type": "markdown",
      "metadata": {
        "id": "w4jYS4MoBv6s",
        "outputId": "7a66cee8-236d-43cd-b76c-9ed87935d917"
      },
      "source": [
        "```\n",
        "fig, ax = plt.subplots(2, 5, figsize=(8, 3))\n",
        "centers = kmeans.cluster_centers_.reshape(10, 8, 8)\n",
        "for axi, center in zip(ax.flat, centers):\n",
        "    axi.set(xticks=[], yticks=[])\n",
        "    axi.imshow(center, interpolation='nearest', cmap=plt.cm.binary)\n",
        "```"
      ]
    },
    {
      "cell_type": "markdown",
      "metadata": {
        "id": "mkm80pheBv6s"
      },
      "source": [
        "We see that *even without the labels*, ``KMeans`` is able to find clusters whose centers are recognizable digits.\n",
        "\n",
        "Because *k*-means knows nothing about the identity of the cluster, the 0–9 labels may be permuted.\n",
        "We can fix this by matching each learned cluster label with the true labels found in them:"
      ]
    },
    {
      "cell_type": "markdown",
      "metadata": {
        "id": "hc0jWBCgBv6s"
      },
      "source": [
        "```\n",
        "# import mode to finds the most frequently occurring label within a cluster.\n",
        "from scipy.stats import mode\n",
        "\n",
        "labels = np.zeros_like(clusters)  # Create an array of zeros with the same shape as 'clusters'\n",
        "for i in range(10):  # Loop over 10 clusters (assuming 10-digit classification)\n",
        "    mask = (clusters == i)  # Create a boolean mask for data points belonging to cluster 'i'\n",
        "    labels[mask] = mode(digits.target[mask])[0]  # Assign the most common target label in the cluster\n",
        "```"
      ]
    },
    {
      "cell_type": "markdown",
      "metadata": {
        "id": "rrWj7-_zBv6s"
      },
      "source": [
        "Now we can check how accurate our unsupervised clustering was in finding similar digits within the data:"
      ]
    },
    {
      "cell_type": "markdown",
      "metadata": {
        "id": "1d6YN4elBv6t",
        "outputId": "300c0194-3694-4de8-96b1-010fc047938f"
      },
      "source": [
        "```\n",
        "from sklearn.metrics import accuracy_score\n",
        "accuracy_score(digits.target, labels)\n",
        "```"
      ]
    },
    {
      "cell_type": "markdown",
      "metadata": {
        "id": "TVEYiEpGBv6t"
      },
      "source": [
        "With just a simple *k*-means algorithm, we discovered the correct grouping for 74% of the input digits!\n",
        "Let's check the confusion matrix for this:"
      ]
    },
    {
      "cell_type": "markdown",
      "metadata": {
        "id": "Nv0QfvHcBv6t",
        "outputId": "eef86446-9ad6-4160-b109-fe2e1ac5b6ca"
      },
      "source": [
        "```\n",
        "from sklearn.metrics import confusion_matrix\n",
        "mat = confusion_matrix(digits.target, labels)\n",
        "sns.heatmap(mat.T, square=True, annot=True, fmt='d', cbar=False,\n",
        "            xticklabels=digits.target_names,\n",
        "            yticklabels=digits.target_names)\n",
        "plt.xlabel('true label')\n",
        "plt.ylabel('predicted label');\n",
        "```"
      ]
    },
    {
      "cell_type": "markdown",
      "metadata": {
        "id": "DFXPB2cxBv6t"
      },
      "source": [
        "As we might expect from the cluster centers we visualized before, the main point of confusion is between the eights, ones, twos, and threes.\n",
        "But this still shows that using *k*-means, we can essentially build a digit classifier *without reference to any known labels*!\n",
        "\n",
        "Just for fun, let's try to push this even farther.\n",
        "We can use the t-distributed stochastic neighbor embedding (t-SNE) algorithm to pre-process the data before performing *k*-means.\n",
        "t-SNE is a nonlinear embedding algorithm that is particularly adept at preserving points within clusters.\n",
        "Let's see how it does:"
      ]
    },
    {
      "cell_type": "markdown",
      "metadata": {
        "id": "Ri8LW-t6Bv6t",
        "outputId": "8cdf86f2-bfe6-40e3-d4da-6fb6b8e5ac41"
      },
      "source": [
        "```\n",
        "from sklearn.manifold import TSNE\n",
        "\n",
        "# Project the data: this step will take several seconds\n",
        "tsne = TSNE(n_components=2, init='random', random_state=0)\n",
        "digits_proj = tsne.fit_transform(digits.data)\n",
        "\n",
        "# Compute the clusters\n",
        "kmeans = KMeans(n_clusters=10, random_state=0)\n",
        "clusters = kmeans.fit_predict(digits_proj)\n",
        "\n",
        "# Assign the labels\n",
        "labels = np.zeros_like(clusters)\n",
        "for i in range(10):\n",
        "    mask = (clusters == i)\n",
        "    labels[mask] = mode(digits.target[mask])[0]\n",
        "\n",
        "# Compute the accuracy\n",
        "accuracy_score(digits.target, labels)\n",
        "```"
      ]
    },
    {
      "cell_type": "markdown",
      "metadata": {
        "id": "eQ7Pm1QGBv6u"
      },
      "source": [
        "This is the power of unsupervised learning when used carefully: it can extract information from the dataset that it might be difficult to do by hand or by eye."
      ]
    },
    {
      "cell_type": "markdown",
      "source": [
        "```\n",
        "# scatterplot the digits after the tSNE transformation\n",
        "plt.scatter(digits_proj[:, 0], digits_proj[:, 1], c=digits.target)\n",
        "plt.colorbar();\n",
        "```"
      ],
      "metadata": {
        "id": "imuui1aJ4zOD",
        "outputId": "33291192-8f69-4212-8567-1cbaa7c88be5"
      }
    },
    {
      "cell_type": "markdown",
      "metadata": {
        "id": "q6VcjRiOBv6u"
      },
      "source": [
        "### Example 2: *k*-means for color compression\n",
        "\n",
        "One interesting application of clustering is in color compression within images.\n",
        "For example, imagine you have an image with millions of colors.\n",
        "In most images, a large number of the colors will be unused, and many of the pixels in the image will have similar or even identical colors.\n",
        "\n",
        "For example, consider the image shown in the following figure, which is from the Scikit-Learn ``datasets`` module (for this to work, you'll have to have the ``pillow`` Python package installed)."
      ]
    },
    {
      "cell_type": "markdown",
      "metadata": {
        "id": "TBDuvZIwBv6u",
        "outputId": "7857d888-8844-4efc-c5ab-e24decf63756"
      },
      "source": [
        "```\n",
        "# Note: this requires the ``pillow`` package to be installed\n",
        "from sklearn.datasets import load_sample_image\n",
        "flower = load_sample_image(\"flower.jpg\")\n",
        "ax = plt.axes(xticks=[], yticks=[])\n",
        "ax.imshow(flower);\n",
        "```"
      ]
    },
    {
      "cell_type": "markdown",
      "metadata": {
        "id": "pNJdzRIvBv6u"
      },
      "source": [
        "The image itself is stored in a three-dimensional array of size ``(height, width, RGB)``, containing red/blue/green contributions as integers from 0 to 255:"
      ]
    },
    {
      "cell_type": "markdown",
      "metadata": {
        "id": "2bt8wAydBv6u",
        "outputId": "5e6018ce-6abd-4bf3-b610-623c35f12973"
      },
      "source": [
        "```\n",
        "flower.shape\n",
        "```"
      ]
    },
    {
      "cell_type": "markdown",
      "metadata": {
        "id": "ucbJGU0xBv6u"
      },
      "source": [
        "One way we can view this set of pixels is as a cloud of points in a three-dimensional color space.\n",
        "We will reshape the data to ``[n_samples x n_features]``, and rescale the colors so that they lie between 0 and 1:"
      ]
    },
    {
      "cell_type": "markdown",
      "metadata": {
        "id": "ucJk5pRWBv6v",
        "outputId": "e054f19a-9df4-41dc-cb29-652dee2a3cac"
      },
      "source": [
        "```\n",
        "data = flower / 255.0 # use 0...1 scale\n",
        "data = data.reshape(427 * 640, 3)\n",
        "data.shape\n",
        "```"
      ]
    },
    {
      "cell_type": "markdown",
      "source": [
        "```\n",
        "rng = np.random.RandomState(0)\n",
        "i = rng.permutation(data.shape[0])[:10]\n",
        "i\n",
        "```"
      ],
      "metadata": {
        "id": "tqZUrcUj6xvN",
        "outputId": "e347db4a-a219-424d-9ddc-a4aff1c366e9"
      }
    },
    {
      "cell_type": "markdown",
      "source": [
        "```\n",
        "data[i]\n",
        "```"
      ],
      "metadata": {
        "id": "ebMguN3F7Hcf",
        "outputId": "73521b69-c65a-4ed8-af3d-d9a13ec9b279"
      }
    },
    {
      "cell_type": "markdown",
      "source": [
        "```\n",
        "R, G, B = data[i].T\n",
        "```"
      ],
      "metadata": {
        "id": "VY8Cc3q868L0"
      }
    },
    {
      "cell_type": "markdown",
      "source": [
        "```\n",
        "R\n",
        "```"
      ],
      "metadata": {
        "id": "JwPskyND7Axb",
        "outputId": "e0b5f927-54ab-436b-bd17-1a2a6645a188"
      }
    },
    {
      "cell_type": "markdown",
      "metadata": {
        "id": "SVBBwQ9ABv6v"
      },
      "source": [
        "We can visualize these pixels in this color space, using a subset of 10,000 pixels for efficiency:"
      ]
    },
    {
      "cell_type": "markdown",
      "metadata": {
        "id": "3Idmi2gUBv6v"
      },
      "source": [
        "```\n",
        "def plot_pixels(data, title, colors=None, N=10000):\n",
        "    if colors is None:\n",
        "        colors = data\n",
        "\n",
        "    # choose a random subset\n",
        "    rng = np.random.RandomState(0)\n",
        "    i = rng.permutation(data.shape[0])[:N]\n",
        "    colors = colors[i]\n",
        "    R, G, B = data[i].T\n",
        "\n",
        "    fig, ax = plt.subplots(1, 2, figsize=(16, 6))\n",
        "    ax[0].scatter(R, G, color=colors, marker='.')\n",
        "    ax[0].set(xlabel='Red', ylabel='Green', xlim=(0, 1), ylim=(0, 1))\n",
        "\n",
        "    ax[1].scatter(R, B, color=colors, marker='.')\n",
        "    ax[1].set(xlabel='Red', ylabel='Blue', xlim=(0, 1), ylim=(0, 1))\n",
        "\n",
        "    fig.suptitle(title, size=20);\n",
        "```"
      ]
    },
    {
      "cell_type": "markdown",
      "metadata": {
        "id": "qrVTBn5YBv6v",
        "outputId": "61484a54-25be-4871-a634-9e8bdde2627d"
      },
      "source": [
        "```\n",
        "plot_pixels(data, title='Input color space: 16 million possible colors')\n",
        "```"
      ]
    },
    {
      "cell_type": "markdown",
      "metadata": {
        "id": "s2FUWjxDBv6v"
      },
      "source": [
        "Now let's reduce these 16 million colors to just 16 colors, using a *k*-means clustering across the pixel space.\n",
        "Because we are dealing with a very large dataset, we will use the mini batch *k*-means, which operates on subsets of the data to compute the result much more quickly than the standard *k*-means algorithm:"
      ]
    },
    {
      "cell_type": "markdown",
      "source": [
        "```\n",
        "# 16 million colors?\n",
        "256*256*256\n",
        "```"
      ],
      "metadata": {
        "id": "oDv8Zzvq74l_",
        "outputId": "a3863665-1787-4b05-b3c9-365349f56fa8"
      }
    },
    {
      "cell_type": "markdown",
      "metadata": {
        "id": "0d-EAvzBBv6v",
        "outputId": "af9a3a57-94ee-4dd1-813a-3197a009f0ac"
      },
      "source": [
        "```\n",
        "import warnings; warnings.simplefilter('ignore')  # Fix NumPy issues.\n",
        "\n",
        "from sklearn.cluster import MiniBatchKMeans\n",
        "kmeans = MiniBatchKMeans(16)\n",
        "kmeans.fit(data)\n",
        "new_colors = kmeans.cluster_centers_[kmeans.predict(data)]\n",
        "\n",
        "plot_pixels(data, colors=new_colors,\n",
        "            title=\"Reduced color space: 16 colors\")\n",
        "```"
      ]
    },
    {
      "cell_type": "markdown",
      "source": [
        "```\n",
        "new_colors.shape, np.unique(new_colors, axis=0).shape\n",
        "```"
      ],
      "metadata": {
        "id": "bp4ezb368Tby",
        "outputId": "4b7b1347-596d-4edc-b191-1fc7d0acde51"
      }
    },
    {
      "cell_type": "markdown",
      "metadata": {
        "id": "Dylf0i5vBv6w"
      },
      "source": [
        "The result is a re-coloring of the original pixels, where each pixel is assigned the color of its closest cluster center.\n",
        "Plotting these new colors in the image space rather than the pixel space shows us the effect of this:"
      ]
    },
    {
      "cell_type": "markdown",
      "metadata": {
        "id": "Gps-ovDSBv6w",
        "outputId": "cddb63a5-480f-4bc8-9591-2fa4dc0522fd"
      },
      "source": [
        "```\n",
        "flower_recolored = new_colors.reshape(flower.shape)\n",
        "\n",
        "fig, ax = plt.subplots(1, 2, figsize=(16, 6),\n",
        "                       subplot_kw=dict(xticks=[], yticks=[]))\n",
        "fig.subplots_adjust(wspace=0.05)\n",
        "ax[0].imshow(flower)\n",
        "ax[0].set_title('Original Image', size=16)\n",
        "ax[1].imshow(flower_recolored)\n",
        "ax[1].set_title('16-color Image', size=16);\n",
        "```"
      ]
    },
    {
      "cell_type": "markdown",
      "metadata": {
        "id": "6Ggg_znbBv6w"
      },
      "source": [
        "Some detail is certainly lost in the rightmost panel, but the overall image is still easily recognizable.\n",
        "This image on the right achieves a compression factor of around 1 million!\n",
        "While this is an interesting application of *k*-means, there are certainly better way to compress information in images.\n",
        "But the example shows the power of thinking outside of the box with unsupervised methods like *k*-means."
      ]
    },
    {
      "cell_type": "markdown",
      "source": [
        "## Retrieval Practice"
      ],
      "metadata": {
        "id": "xLLZYEFD-RxZ"
      }
    },
    {
      "cell_type": "markdown",
      "source": [
        "```\n",
        "\n",
        "```"
      ],
      "metadata": {
        "id": "Xe68AlVQ-TPz"
      }
    }
  ]
}