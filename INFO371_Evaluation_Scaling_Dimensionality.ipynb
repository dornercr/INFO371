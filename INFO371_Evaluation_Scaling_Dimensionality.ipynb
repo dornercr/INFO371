{
  "nbformat": 4,
  "nbformat_minor": 0,
  "metadata": {
    "colab": {
      "provenance": [],
      "authorship_tag": "ABX9TyMC/3G/90Vob4gb//jsdYbw",
      "include_colab_link": true
    },
    "kernelspec": {
      "name": "python3",
      "display_name": "Python 3"
    },
    "language_info": {
      "name": "python"
    }
  },
  "cells": [
    {
      "cell_type": "markdown",
      "metadata": {
        "id": "view-in-github",
        "colab_type": "text"
      },
      "source": [
        "<a href=\"https://colab.research.google.com/github/dornercr/INFO371/blob/main/INFO371_Evaluation_Scaling_Dimensionality.ipynb\" target=\"_parent\"><img src=\"https://colab.research.google.com/assets/colab-badge.svg\" alt=\"Open In Colab\"/></a>"
      ]
    },
    {
      "cell_type": "markdown",
      "source": [
        "# INFO 371: Data Mining Applications\n",
        "___\n",
        "\n",
        "### Week 3: Evaluation, Scaling, and Dimensionality\n",
        "\n",
        "### Charles Dorner, EdD (Candidate)\n",
        "### College of Computing and Informatics, Drexel University"
      ],
      "metadata": {
        "id": "vcCIe1B2jmmK"
      }
    },
    {
      "cell_type": "code",
      "source": [
        "# === 1. Import Libraries ===\n",
        "import numpy as np\n",
        "import pandas as pd\n",
        "import matplotlib.pyplot as plt\n",
        "from google.colab import files"
      ],
      "metadata": {
        "id": "bd4eYbjPj6FA"
      },
      "execution_count": 1,
      "outputs": []
    },
    {
      "cell_type": "code",
      "source": [
        "# === 2. Load Synthetic Iris-Like Dataset ===\n",
        "from sklearn.datasets import make_classification\n",
        "X, y = make_classification(n_samples=150,\n",
        "                           n_features=4,\n",
        "                           n_informative=3,\n",
        "                           n_redundant=0,\n",
        "                           n_classes=3,\n",
        "                           n_clusters_per_class=1,\n",
        "                           class_sep=1.5,\n",
        "                           random_state=42)\n",
        "df = pd.DataFrame(X, columns=['feature1', 'feature2', 'feature3', 'feature4'])\n",
        "df['label'] = y"
      ],
      "metadata": {
        "id": "FAg6QDKJkIZy"
      },
      "execution_count": 2,
      "outputs": []
    },
    {
      "cell_type": "code",
      "source": [
        "# === 3. Explore Dataset ===\n",
        "df.shape\n",
        "label = df.label.unique()"
      ],
      "metadata": {
        "id": "aHLWu8YCkNA0"
      },
      "execution_count": 3,
      "outputs": []
    },
    {
      "cell_type": "code",
      "source": [
        "# === 4. Prepare Training Data ===\n",
        "X_train = df.iloc[:, 0:-1]\n",
        "y_train = df['label']\n",
        "X_train.head()"
      ],
      "metadata": {
        "id": "O_Lx8b1dkQOW",
        "outputId": "eeb9f545-1fb7-4943-b32e-96afd98819b8",
        "colab": {
          "base_uri": "https://localhost:8080/",
          "height": 206
        }
      },
      "execution_count": 4,
      "outputs": [
        {
          "output_type": "execute_result",
          "data": {
            "text/plain": [
              "   feature1  feature2  feature3  feature4\n",
              "0  1.532742 -0.148551 -1.625090  0.923572\n",
              "1  0.809509 -0.319057 -0.805641  1.259390\n",
              "2 -2.363105 -1.091390 -1.561756 -0.791124\n",
              "3  1.919816 -0.532580 -1.719590  1.928345\n",
              "4 -1.754383  1.051593 -1.604250 -1.278823"
            ],
            "text/html": [
              "\n",
              "  <div id=\"df-a703b69b-b09d-4e6c-a15f-4e296665f39b\" class=\"colab-df-container\">\n",
              "    <div>\n",
              "<style scoped>\n",
              "    .dataframe tbody tr th:only-of-type {\n",
              "        vertical-align: middle;\n",
              "    }\n",
              "\n",
              "    .dataframe tbody tr th {\n",
              "        vertical-align: top;\n",
              "    }\n",
              "\n",
              "    .dataframe thead th {\n",
              "        text-align: right;\n",
              "    }\n",
              "</style>\n",
              "<table border=\"1\" class=\"dataframe\">\n",
              "  <thead>\n",
              "    <tr style=\"text-align: right;\">\n",
              "      <th></th>\n",
              "      <th>feature1</th>\n",
              "      <th>feature2</th>\n",
              "      <th>feature3</th>\n",
              "      <th>feature4</th>\n",
              "    </tr>\n",
              "  </thead>\n",
              "  <tbody>\n",
              "    <tr>\n",
              "      <th>0</th>\n",
              "      <td>1.532742</td>\n",
              "      <td>-0.148551</td>\n",
              "      <td>-1.625090</td>\n",
              "      <td>0.923572</td>\n",
              "    </tr>\n",
              "    <tr>\n",
              "      <th>1</th>\n",
              "      <td>0.809509</td>\n",
              "      <td>-0.319057</td>\n",
              "      <td>-0.805641</td>\n",
              "      <td>1.259390</td>\n",
              "    </tr>\n",
              "    <tr>\n",
              "      <th>2</th>\n",
              "      <td>-2.363105</td>\n",
              "      <td>-1.091390</td>\n",
              "      <td>-1.561756</td>\n",
              "      <td>-0.791124</td>\n",
              "    </tr>\n",
              "    <tr>\n",
              "      <th>3</th>\n",
              "      <td>1.919816</td>\n",
              "      <td>-0.532580</td>\n",
              "      <td>-1.719590</td>\n",
              "      <td>1.928345</td>\n",
              "    </tr>\n",
              "    <tr>\n",
              "      <th>4</th>\n",
              "      <td>-1.754383</td>\n",
              "      <td>1.051593</td>\n",
              "      <td>-1.604250</td>\n",
              "      <td>-1.278823</td>\n",
              "    </tr>\n",
              "  </tbody>\n",
              "</table>\n",
              "</div>\n",
              "    <div class=\"colab-df-buttons\">\n",
              "\n",
              "  <div class=\"colab-df-container\">\n",
              "    <button class=\"colab-df-convert\" onclick=\"convertToInteractive('df-a703b69b-b09d-4e6c-a15f-4e296665f39b')\"\n",
              "            title=\"Convert this dataframe to an interactive table.\"\n",
              "            style=\"display:none;\">\n",
              "\n",
              "  <svg xmlns=\"http://www.w3.org/2000/svg\" height=\"24px\" viewBox=\"0 -960 960 960\">\n",
              "    <path d=\"M120-120v-720h720v720H120Zm60-500h600v-160H180v160Zm220 220h160v-160H400v160Zm0 220h160v-160H400v160ZM180-400h160v-160H180v160Zm440 0h160v-160H620v160ZM180-180h160v-160H180v160Zm440 0h160v-160H620v160Z\"/>\n",
              "  </svg>\n",
              "    </button>\n",
              "\n",
              "  <style>\n",
              "    .colab-df-container {\n",
              "      display:flex;\n",
              "      gap: 12px;\n",
              "    }\n",
              "\n",
              "    .colab-df-convert {\n",
              "      background-color: #E8F0FE;\n",
              "      border: none;\n",
              "      border-radius: 50%;\n",
              "      cursor: pointer;\n",
              "      display: none;\n",
              "      fill: #1967D2;\n",
              "      height: 32px;\n",
              "      padding: 0 0 0 0;\n",
              "      width: 32px;\n",
              "    }\n",
              "\n",
              "    .colab-df-convert:hover {\n",
              "      background-color: #E2EBFA;\n",
              "      box-shadow: 0px 1px 2px rgba(60, 64, 67, 0.3), 0px 1px 3px 1px rgba(60, 64, 67, 0.15);\n",
              "      fill: #174EA6;\n",
              "    }\n",
              "\n",
              "    .colab-df-buttons div {\n",
              "      margin-bottom: 4px;\n",
              "    }\n",
              "\n",
              "    [theme=dark] .colab-df-convert {\n",
              "      background-color: #3B4455;\n",
              "      fill: #D2E3FC;\n",
              "    }\n",
              "\n",
              "    [theme=dark] .colab-df-convert:hover {\n",
              "      background-color: #434B5C;\n",
              "      box-shadow: 0px 1px 3px 1px rgba(0, 0, 0, 0.15);\n",
              "      filter: drop-shadow(0px 1px 2px rgba(0, 0, 0, 0.3));\n",
              "      fill: #FFFFFF;\n",
              "    }\n",
              "  </style>\n",
              "\n",
              "    <script>\n",
              "      const buttonEl =\n",
              "        document.querySelector('#df-a703b69b-b09d-4e6c-a15f-4e296665f39b button.colab-df-convert');\n",
              "      buttonEl.style.display =\n",
              "        google.colab.kernel.accessAllowed ? 'block' : 'none';\n",
              "\n",
              "      async function convertToInteractive(key) {\n",
              "        const element = document.querySelector('#df-a703b69b-b09d-4e6c-a15f-4e296665f39b');\n",
              "        const dataTable =\n",
              "          await google.colab.kernel.invokeFunction('convertToInteractive',\n",
              "                                                    [key], {});\n",
              "        if (!dataTable) return;\n",
              "\n",
              "        const docLinkHtml = 'Like what you see? Visit the ' +\n",
              "          '<a target=\"_blank\" href=https://colab.research.google.com/notebooks/data_table.ipynb>data table notebook</a>'\n",
              "          + ' to learn more about interactive tables.';\n",
              "        element.innerHTML = '';\n",
              "        dataTable['output_type'] = 'display_data';\n",
              "        await google.colab.output.renderOutput(dataTable, element);\n",
              "        const docLink = document.createElement('div');\n",
              "        docLink.innerHTML = docLinkHtml;\n",
              "        element.appendChild(docLink);\n",
              "      }\n",
              "    </script>\n",
              "  </div>\n",
              "\n",
              "\n",
              "<div id=\"df-d53bd586-a74e-4efc-899f-e71aff962d16\">\n",
              "  <button class=\"colab-df-quickchart\" onclick=\"quickchart('df-d53bd586-a74e-4efc-899f-e71aff962d16')\"\n",
              "            title=\"Suggest charts\"\n",
              "            style=\"display:none;\">\n",
              "\n",
              "<svg xmlns=\"http://www.w3.org/2000/svg\" height=\"24px\"viewBox=\"0 0 24 24\"\n",
              "     width=\"24px\">\n",
              "    <g>\n",
              "        <path d=\"M19 3H5c-1.1 0-2 .9-2 2v14c0 1.1.9 2 2 2h14c1.1 0 2-.9 2-2V5c0-1.1-.9-2-2-2zM9 17H7v-7h2v7zm4 0h-2V7h2v10zm4 0h-2v-4h2v4z\"/>\n",
              "    </g>\n",
              "</svg>\n",
              "  </button>\n",
              "\n",
              "<style>\n",
              "  .colab-df-quickchart {\n",
              "      --bg-color: #E8F0FE;\n",
              "      --fill-color: #1967D2;\n",
              "      --hover-bg-color: #E2EBFA;\n",
              "      --hover-fill-color: #174EA6;\n",
              "      --disabled-fill-color: #AAA;\n",
              "      --disabled-bg-color: #DDD;\n",
              "  }\n",
              "\n",
              "  [theme=dark] .colab-df-quickchart {\n",
              "      --bg-color: #3B4455;\n",
              "      --fill-color: #D2E3FC;\n",
              "      --hover-bg-color: #434B5C;\n",
              "      --hover-fill-color: #FFFFFF;\n",
              "      --disabled-bg-color: #3B4455;\n",
              "      --disabled-fill-color: #666;\n",
              "  }\n",
              "\n",
              "  .colab-df-quickchart {\n",
              "    background-color: var(--bg-color);\n",
              "    border: none;\n",
              "    border-radius: 50%;\n",
              "    cursor: pointer;\n",
              "    display: none;\n",
              "    fill: var(--fill-color);\n",
              "    height: 32px;\n",
              "    padding: 0;\n",
              "    width: 32px;\n",
              "  }\n",
              "\n",
              "  .colab-df-quickchart:hover {\n",
              "    background-color: var(--hover-bg-color);\n",
              "    box-shadow: 0 1px 2px rgba(60, 64, 67, 0.3), 0 1px 3px 1px rgba(60, 64, 67, 0.15);\n",
              "    fill: var(--button-hover-fill-color);\n",
              "  }\n",
              "\n",
              "  .colab-df-quickchart-complete:disabled,\n",
              "  .colab-df-quickchart-complete:disabled:hover {\n",
              "    background-color: var(--disabled-bg-color);\n",
              "    fill: var(--disabled-fill-color);\n",
              "    box-shadow: none;\n",
              "  }\n",
              "\n",
              "  .colab-df-spinner {\n",
              "    border: 2px solid var(--fill-color);\n",
              "    border-color: transparent;\n",
              "    border-bottom-color: var(--fill-color);\n",
              "    animation:\n",
              "      spin 1s steps(1) infinite;\n",
              "  }\n",
              "\n",
              "  @keyframes spin {\n",
              "    0% {\n",
              "      border-color: transparent;\n",
              "      border-bottom-color: var(--fill-color);\n",
              "      border-left-color: var(--fill-color);\n",
              "    }\n",
              "    20% {\n",
              "      border-color: transparent;\n",
              "      border-left-color: var(--fill-color);\n",
              "      border-top-color: var(--fill-color);\n",
              "    }\n",
              "    30% {\n",
              "      border-color: transparent;\n",
              "      border-left-color: var(--fill-color);\n",
              "      border-top-color: var(--fill-color);\n",
              "      border-right-color: var(--fill-color);\n",
              "    }\n",
              "    40% {\n",
              "      border-color: transparent;\n",
              "      border-right-color: var(--fill-color);\n",
              "      border-top-color: var(--fill-color);\n",
              "    }\n",
              "    60% {\n",
              "      border-color: transparent;\n",
              "      border-right-color: var(--fill-color);\n",
              "    }\n",
              "    80% {\n",
              "      border-color: transparent;\n",
              "      border-right-color: var(--fill-color);\n",
              "      border-bottom-color: var(--fill-color);\n",
              "    }\n",
              "    90% {\n",
              "      border-color: transparent;\n",
              "      border-bottom-color: var(--fill-color);\n",
              "    }\n",
              "  }\n",
              "</style>\n",
              "\n",
              "  <script>\n",
              "    async function quickchart(key) {\n",
              "      const quickchartButtonEl =\n",
              "        document.querySelector('#' + key + ' button');\n",
              "      quickchartButtonEl.disabled = true;  // To prevent multiple clicks.\n",
              "      quickchartButtonEl.classList.add('colab-df-spinner');\n",
              "      try {\n",
              "        const charts = await google.colab.kernel.invokeFunction(\n",
              "            'suggestCharts', [key], {});\n",
              "      } catch (error) {\n",
              "        console.error('Error during call to suggestCharts:', error);\n",
              "      }\n",
              "      quickchartButtonEl.classList.remove('colab-df-spinner');\n",
              "      quickchartButtonEl.classList.add('colab-df-quickchart-complete');\n",
              "    }\n",
              "    (() => {\n",
              "      let quickchartButtonEl =\n",
              "        document.querySelector('#df-d53bd586-a74e-4efc-899f-e71aff962d16 button');\n",
              "      quickchartButtonEl.style.display =\n",
              "        google.colab.kernel.accessAllowed ? 'block' : 'none';\n",
              "    })();\n",
              "  </script>\n",
              "</div>\n",
              "\n",
              "    </div>\n",
              "  </div>\n"
            ],
            "application/vnd.google.colaboratory.intrinsic+json": {
              "type": "dataframe",
              "variable_name": "X_train",
              "summary": "{\n  \"name\": \"X_train\",\n  \"rows\": 150,\n  \"fields\": [\n    {\n      \"column\": \"feature1\",\n      \"properties\": {\n        \"dtype\": \"number\",\n        \"std\": 1.6104375094756318,\n        \"min\": -3.416222176798789,\n        \"max\": 3.5671276682194977,\n        \"num_unique_values\": 150,\n        \"samples\": [\n          0.5785493716620177,\n          -0.6566689271218132,\n          0.01176088263203523\n        ],\n        \"semantic_type\": \"\",\n        \"description\": \"\"\n      }\n    },\n    {\n      \"column\": \"feature2\",\n      \"properties\": {\n        \"dtype\": \"number\",\n        \"std\": 1.0419371981929988,\n        \"min\": -2.7409548444597016,\n        \"max\": 2.783777423489051,\n        \"num_unique_values\": 150,\n        \"samples\": [\n          -0.2501226010745113,\n          -0.8435449622454707,\n          0.9105641223710805\n        ],\n        \"semantic_type\": \"\",\n        \"description\": \"\"\n      }\n    },\n    {\n      \"column\": \"feature3\",\n      \"properties\": {\n        \"dtype\": \"number\",\n        \"std\": 0.9488084361747627,\n        \"min\": -3.3761773126880588,\n        \"max\": 1.4152619824043966,\n        \"num_unique_values\": 150,\n        \"samples\": [\n          -0.7285219243842527,\n          -1.5749511717649152,\n          -0.5210136843520583\n        ],\n        \"semantic_type\": \"\",\n        \"description\": \"\"\n      }\n    },\n    {\n      \"column\": \"feature4\",\n      \"properties\": {\n        \"dtype\": \"number\",\n        \"std\": 1.786020185718006,\n        \"min\": -3.455320706967265,\n        \"max\": 4.5159984508235596,\n        \"num_unique_values\": 150,\n        \"samples\": [\n          1.7934208036556833,\n          -2.2281287726138994,\n          3.2355670006721136\n        ],\n        \"semantic_type\": \"\",\n        \"description\": \"\"\n      }\n    }\n  ]\n}"
            }
          },
          "metadata": {},
          "execution_count": 4
        }
      ]
    },
    {
      "cell_type": "code",
      "source": [
        "# === 5. KNN Model Fitting and Prediction ===\n",
        "from sklearn.neighbors import KNeighborsClassifier\n",
        "knn = KNeighborsClassifier()\n",
        "knn.fit(X_train, y_train)\n",
        "knn.predict(X_train)\n",
        "\n",
        "from sklearn.metrics import accuracy_score\n",
        "accuracy_score(y_train, knn.predict(X_train))"
      ],
      "metadata": {
        "id": "IPpGiJVlkSQF",
        "outputId": "d5a74b54-79e1-4b7b-ea6b-a492cf0c7c54",
        "colab": {
          "base_uri": "https://localhost:8080/"
        }
      },
      "execution_count": 6,
      "outputs": [
        {
          "output_type": "execute_result",
          "data": {
            "text/plain": [
              "0.9466666666666667"
            ]
          },
          "metadata": {},
          "execution_count": 6
        }
      ]
    },
    {
      "cell_type": "code",
      "source": [
        "# === 6. Evaluate Model Metrics ===\n",
        "from sklearn.metrics import accuracy_score, precision_recall_fscore_support\n",
        "y_pred = knn.predict(X_train)\n",
        "accuracy_score(y_train, y_pred)\n",
        "precision_recall_fscore_support(y_train, y_pred)"
      ],
      "metadata": {
        "id": "PxdCWnM2kT-2",
        "outputId": "3bfbae85-570a-4290-a806-f775ecf15845",
        "colab": {
          "base_uri": "https://localhost:8080/"
        }
      },
      "execution_count": 7,
      "outputs": [
        {
          "output_type": "execute_result",
          "data": {
            "text/plain": [
              "(array([0.90384615, 0.95744681, 0.98039216]),\n",
              " array([0.94, 0.9 , 1.  ]),\n",
              " array([0.92156863, 0.92783505, 0.99009901]),\n",
              " array([50, 50, 50]))"
            ]
          },
          "metadata": {},
          "execution_count": 7
        }
      ]
    },
    {
      "cell_type": "code",
      "source": [
        "# === 7. Rescaling Motivation Example ===\n",
        "df = pd.DataFrame({\n",
        "    \"Person\": ['A', 'B', 'C'],\n",
        "    \"height (cm)\": [160, 170.2, 177.8],\n",
        "    \"weight (pounds)\": [150, 160, 171],\n",
        "    \"height (inches)\": [63, 67, 70]\n",
        "})"
      ],
      "metadata": {
        "id": "c4IX7SzNkaYY"
      },
      "execution_count": 8,
      "outputs": []
    },
    {
      "cell_type": "code",
      "source": [
        "from scipy.spatial import distance\n",
        "print(\"A to B: \" + str(distance.euclidean(df.iloc[0, 2:], df.iloc[1, 2:])))\n",
        "print(\"A to C: \" + str(distance.euclidean(df.iloc[0, 2:], df.iloc[2, 2:])))\n",
        "print(\"B to C: \" + str(distance.euclidean(df.iloc[1, 2:], df.iloc[2, 2:])))\n",
        "\n",
        "print(\"A to B: \" + str(distance.euclidean(df.iloc[0, 1:3], df.iloc[1, 1:3])))\n",
        "print(\"A to C: \" + str(distance.euclidean(df.iloc[0, 1:3], df.iloc[2, 1:3])))\n",
        "print(\"B to C: \" + str(distance.euclidean(df.iloc[1, 1:3], df.iloc[2, 1:3])))"
      ],
      "metadata": {
        "id": "WNN9pJGKkdQO",
        "outputId": "ac1c95e5-21aa-4ef8-e67a-3c36b6d78d69",
        "colab": {
          "base_uri": "https://localhost:8080/"
        }
      },
      "execution_count": 9,
      "outputs": [
        {
          "output_type": "stream",
          "name": "stdout",
          "text": [
            "A to B: 10.770329614269007\n",
            "A to C: 22.135943621178654\n",
            "B to C: 11.40175425099138\n",
            "A to B: 14.284257068535268\n",
            "A to C: 27.52889391167034\n",
            "B to C: 13.370115930686627\n"
          ]
        }
      ]
    },
    {
      "cell_type": "code",
      "source": [
        "# === 8. Manual Standardization ===\n",
        "df_data = df.set_index('Person')\n",
        "df_scaled = (df_data - df_data.mean(axis=0)) / df_data.std(axis=0)\n",
        "df_scaled\n",
        "df_scaled.mean(axis=0)\n",
        "df_scaled.std(axis=0)"
      ],
      "metadata": {
        "id": "rgTdxlhUkez6",
        "outputId": "f67fd6cd-e208-4cfc-b956-e800fdb30534",
        "colab": {
          "base_uri": "https://localhost:8080/",
          "height": 178
        }
      },
      "execution_count": 10,
      "outputs": [
        {
          "output_type": "execute_result",
          "data": {
            "text/plain": [
              "height (cm)        1.0\n",
              "weight (pounds)    1.0\n",
              "height (inches)    1.0\n",
              "dtype: float64"
            ],
            "text/html": [
              "<div>\n",
              "<style scoped>\n",
              "    .dataframe tbody tr th:only-of-type {\n",
              "        vertical-align: middle;\n",
              "    }\n",
              "\n",
              "    .dataframe tbody tr th {\n",
              "        vertical-align: top;\n",
              "    }\n",
              "\n",
              "    .dataframe thead th {\n",
              "        text-align: right;\n",
              "    }\n",
              "</style>\n",
              "<table border=\"1\" class=\"dataframe\">\n",
              "  <thead>\n",
              "    <tr style=\"text-align: right;\">\n",
              "      <th></th>\n",
              "      <th>0</th>\n",
              "    </tr>\n",
              "  </thead>\n",
              "  <tbody>\n",
              "    <tr>\n",
              "      <th>height (cm)</th>\n",
              "      <td>1.0</td>\n",
              "    </tr>\n",
              "    <tr>\n",
              "      <th>weight (pounds)</th>\n",
              "      <td>1.0</td>\n",
              "    </tr>\n",
              "    <tr>\n",
              "      <th>height (inches)</th>\n",
              "      <td>1.0</td>\n",
              "    </tr>\n",
              "  </tbody>\n",
              "</table>\n",
              "</div><br><label><b>dtype:</b> float64</label>"
            ]
          },
          "metadata": {},
          "execution_count": 10
        }
      ]
    },
    {
      "cell_type": "code",
      "source": [
        "print(\"A to B: \" + str(distance.euclidean(df_scaled.iloc[0, 1:], df_scaled.iloc[1, 1:])))\n",
        "print(\"A to C: \" + str(distance.euclidean(df_scaled.iloc[0, 1:], df_scaled.iloc[2, 1:])))\n",
        "print(\"B to C: \" + str(distance.euclidean(df_scaled.iloc[1, 1:], df_scaled.iloc[2, 1:])))\n",
        "\n",
        "print(\"A to B: \" + str(distance.euclidean(df_scaled.iloc[0, 0:2], df_scaled.iloc[1, 0:2])))\n",
        "print(\"A to C: \" + str(distance.euclidean(df_scaled.iloc[0, 0:2], df_scaled.iloc[2, 0:2])))\n",
        "print(\"B to C: \" + str(distance.euclidean(df_scaled.iloc[1, 0:2], df_scaled.iloc[2, 0:2])))"
      ],
      "metadata": {
        "id": "-GE7zPfzkgnU",
        "outputId": "97abd078-88b9-475f-f9e8-bead9df77f2f",
        "colab": {
          "base_uri": "https://localhost:8080/"
        }
      },
      "execution_count": 11,
      "outputs": [
        {
          "output_type": "stream",
          "name": "stdout",
          "text": [
            "A to B: 1.4844668093876097\n",
            "A to C: 2.8231103104442656\n",
            "B to C: 1.3514460651057632\n",
            "A to B: 1.4867883610875932\n",
            "A to C: 2.8228942865405533\n",
            "B to C: 1.3493436242674308\n"
          ]
        }
      ]
    },
    {
      "cell_type": "code",
      "source": [
        "# === 9. Scaling with Scikit-Learn ===\n",
        "from sklearn.preprocessing import StandardScaler\n",
        "df_data\n",
        "scaler = StandardScaler()\n",
        "scaler.fit(df_data)\n",
        "scaled = scaler.transform(df_data)\n",
        "scaled\n",
        "scaled.mean(axis=0)\n",
        "scaled.std(axis=0)\n",
        "df_data.mean(axis=0)\n",
        "scaler.mean_\n",
        "df_data.var(axis=0)\n",
        "scaler.var_\n",
        "((160.0 - 169.3333)**2 + (170.2 - 169.3333)**2 + (177.8 - 169.3333)**2) / 3"
      ],
      "metadata": {
        "id": "BXP93rJIkjNx",
        "outputId": "bfbeb25f-ebad-4cfa-d3d8-58150d64a30f",
        "colab": {
          "base_uri": "https://localhost:8080/"
        }
      },
      "execution_count": 12,
      "outputs": [
        {
          "output_type": "execute_result",
          "data": {
            "text/plain": [
              "53.18222222333338"
            ]
          },
          "metadata": {},
          "execution_count": 12
        }
      ]
    },
    {
      "cell_type": "code",
      "source": [
        "# === 10. Curse of Dimensionality ===\n",
        "from scipy.spatial import distance\n",
        "import numpy as np\n",
        "import random\n",
        "\n",
        "def random_distances(dim, num_pairs):\n",
        "    return [distance.euclidean(np.random.rand(dim), np.random.rand(dim))\n",
        "            for _ in range(num_pairs)]\n",
        "\n",
        "dimensions = range(1, 101, 5)\n",
        "avg_distances = []\n",
        "min_distances = []\n",
        "\n",
        "for dim in dimensions:\n",
        "     distances = random_distances(dim, 10000)\n",
        "     avg_distances.append(np.mean(distances))\n",
        "     min_distances.append(min(distances))\n",
        "\n",
        "plt.plot(list(dimensions), list(np.array(min_distances) / np.array(avg_distances)))\n"
      ],
      "metadata": {
        "id": "dAvfhmHJkpit",
        "outputId": "b949dd2e-bb5c-4f65-81ff-5212156d1b95",
        "colab": {
          "base_uri": "https://localhost:8080/",
          "height": 447
        }
      },
      "execution_count": 15,
      "outputs": [
        {
          "output_type": "execute_result",
          "data": {
            "text/plain": [
              "[<matplotlib.lines.Line2D at 0x7a8ad7660ad0>]"
            ]
          },
          "metadata": {},
          "execution_count": 15
        },
        {
          "output_type": "display_data",
          "data": {
            "text/plain": [
              "<Figure size 640x480 with 1 Axes>"
            ],
            "image/png": "[encoded data removed]"
          },
          "metadata": {}
        }
      ]
    },
    {
      "cell_type": "code",
      "source": [
        "# Additional: Extended dimensionality test\n",
        "dimensions = range(1, 501, 5)\n",
        "avg_distances = []\n",
        "min_distances = []\n",
        "\n",
        "for dim in dimensions:\n",
        "     distances = random_distances(dim, 10000)\n",
        "     avg_distances.append(np.mean(distances))\n",
        "     min_distances.append(min(distances))\n",
        "\n",
        "plt.plot(list(dimensions), list(np.array(min_distances) / np.array(avg_distances)))"
      ],
      "metadata": {
        "id": "sPqdCsRVk8b3",
        "outputId": "0d99a408-b9c3-4d06-d8b5-119a9a5108ab",
        "colab": {
          "base_uri": "https://localhost:8080/",
          "height": 447
        }
      },
      "execution_count": 16,
      "outputs": [
        {
          "output_type": "execute_result",
          "data": {
            "text/plain": [
              "[<matplotlib.lines.Line2D at 0x7a8ad752c810>]"
            ]
          },
          "metadata": {},
          "execution_count": 16
        },
        {
          "output_type": "display_data",
          "data": {
            "text/plain": [
              "<Figure size 640x480 with 1 Axes>"
            ],
            "image/png": "[encoded data removed]"
          },
          "metadata": {}
        }
      ]
    }
  ]
}