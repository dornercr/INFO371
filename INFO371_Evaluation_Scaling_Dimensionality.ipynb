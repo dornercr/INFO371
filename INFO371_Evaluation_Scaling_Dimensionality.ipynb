{
  "nbformat": 4,
  "nbformat_minor": 0,
  "metadata": {
    "colab": {
      "provenance": [],
      "authorship_tag": "ABX9TyNpMEQLn/k15XzLoyBKmhre",
      "include_colab_link": true
    },
    "kernelspec": {
      "name": "python3",
      "display_name": "Python 3"
    },
    "language_info": {
      "name": "python"
    }
  },
  "cells": [
    {
      "cell_type": "markdown",
      "metadata": {
        "id": "view-in-github",
        "colab_type": "text"
      },
      "source": [
        "<a href=\"https://colab.research.google.com/github/dornercr/INFO371/blob/main/INFO371_Evaluation_Scaling_Dimensionality.ipynb\" target=\"_parent\"><img src=\"https://colab.research.google.com/assets/colab-badge.svg\" alt=\"Open In Colab\"/></a>"
      ]
    },
    {
      "cell_type": "markdown",
      "source": [
        "# INFO 371: Data Mining Applications\n",
        "___\n",
        "\n",
        "### Week 3: Evaluation, Scaling, and Dimensionality\n",
        "\n",
        "### Charles Dorner, EdD (Candidate)\n",
        "### College of Computing and Informatics, Drexel University"
      ],
      "metadata": {
        "id": "vcCIe1B2jmmK"
      }
    },
    {
      "cell_type": "code",
      "source": [
        "# === 1. Import Libraries ===\n",
        "import numpy as np\n",
        "import pandas as pd\n",
        "import matplotlib.pyplot as plt\n",
        "from google.colab import files"
      ],
      "metadata": {
        "id": "bd4eYbjPj6FA"
      },
      "execution_count": 1,
      "outputs": []
    }
  ]
}