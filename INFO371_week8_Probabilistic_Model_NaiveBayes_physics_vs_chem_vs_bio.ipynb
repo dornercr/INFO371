{
  "nbformat": 4,
  "nbformat_minor": 0,
  "metadata": {
    "colab": {
      "provenance": [],
      "include_colab_link": true
    },
    "kernelspec": {
      "name": "python3",
      "display_name": "Python 3"
    },
    "language_info": {
      "name": "python"
    }
  },
  "cells": [
    {
      "cell_type": "markdown",
      "metadata": {
        "id": "view-in-github",
        "colab_type": "text"
      },
      "source": [
        "<a href=\"https://colab.research.google.com/github/dornercr/INFO371/blob/main/INFO371_week8_Probabilistic_Model_NaiveBayes_physics_vs_chem_vs_bio.ipynb\" target=\"_parent\"><img src=\"https://colab.research.google.com/assets/colab-badge.svg\" alt=\"Open In Colab\"/></a>"
      ]
    },
    {
      "cell_type": "markdown",
      "metadata": {
        "id": "KpAkZ28jzc9L"
      },
      "source": [
        "# INFO 371: Data Mining Applications\n",
        "\n",
        "## Week 8: Probabilitic Model and Naive Bayes\n",
        "### Prof. Charles Dorner, EdD (Candidate)\n",
        "### College of Computing and Informatics, Drexel University"
      ]
    },
    {
      "cell_type": "markdown",
      "source": [
        "# A probabilistic classifier:\n",
        "- Given an observation of an input\n",
        "- Predict a probability distribution over a set of classes\n",
        "- rather than only outputting the most likely class that the observation should belong to.\n",
        "\n",
        "## For example,\n",
        "- Given an Email as a text document:\n",
        " - $Pr(Spam|Email)$ = 0.7\n",
        " - $Pr(Not\\_Spam|Email)$| = 0.3\n"
      ],
      "metadata": {
        "id": "xvgOwOSMto9O"
      }
    },
    {
      "cell_type": "markdown",
      "source": [
        "# Bayes' Theorem in the Context of Data Mining\n",
        "\n",
        "\\begin{equation}\n",
        "P(H \\mid D) = \\frac{P(D \\mid H) P(H)}{P(D)}\n",
        "\\end{equation}\n",
        "\n",
        "- $P(H∣D)$: Posterior Probability: The probability of hypothesis\n",
        "$𝐻$ (e.g., a model or pattern being true) given the observed data $𝐷$.\n",
        "\n",
        "- $P(D∣H)$: Likelihood: The probability of the data occurring given that hypothesis $𝐻$. In data mining, this represents how well the data supports a specific model.\n",
        "\n",
        "- $P(H)$: Prior Probability: The initial belief about hypothesis\n",
        "$𝐻$ before observing the data. In data mining, this may come from domain knowledge or historical patterns.\n",
        "\n",
        "- $P(D)$: Evidence (Marginal Probability of Data): The overall probability of observing the data, regardless of which hypothesis is true. This acts as a normalizing factor.\n"
      ],
      "metadata": {
        "id": "UmAajeF7u150"
      }
    },
    {
      "cell_type": "markdown",
      "source": [
        "# Probability Rules for Two Events \\( A \\) and \\( B \\)\n",
        "\n",
        "## 1. Mutually Exclusive Events\n",
        "Two events \\( A \\) and \\( B \\) are **mutually exclusive** if they cannot occur together. That is:\n",
        "\n",
        "$$\n",
        "P(A \\cap B) = 0\n",
        "$$\n",
        "\n",
        "Using the addition rule:\n",
        "\n",
        "$$\n",
        "P(A \\cup B) = P(A) + P(B)\n",
        "$$\n",
        "\n",
        "## 2. Not Mutually Exclusive Events\n",
        "If \\( A \\) and \\( B \\) are **not mutually exclusive**, they can occur together. The general addition rule applies:\n",
        "\n",
        "$$\n",
        "P(A \\cup B) = P(A) + P(B) - P(A \\cap B)\n",
        "$$\n",
        "\n",
        "## 3. Independent Events\n",
        "Two events \\( A \\) and \\( B \\) are **independent** if the occurrence of one does not affect the probability of the other. This means:\n",
        "\n",
        "$$\n",
        "P(A \\cap B) = P(A) P(B)\n",
        "$$\n",
        "\n",
        "## 4. Dependent Events\n",
        "If \\( A \\) and \\( B \\) are **dependent**, the probability of one event depends on the occurrence of the other. The conditional probability rule applies:\n",
        "\n",
        "$$\n",
        "P(A \\cap B) = P(A \\mid B) P(B) = P(B \\mid A) P(A)\n",
        "$$\n"
      ],
      "metadata": {
        "id": "pIxEHfWbxV9G"
      }
    },
    {
      "cell_type": "markdown",
      "source": [
        "# An Example\n",
        "- Sentimental analysis: classify whether a review is positive or negative\n",
        " - “The author is making big money” (positive)\n",
        " - “Irony but fascinating” (positive)\n",
        " - “don’t waste money on it” (negative)\n",
        "\n",
        "- Is “money wasted, fascinated” positive or negative?"
      ],
      "metadata": {
        "id": "LYIijUbrw_80"
      }
    },
    {
      "cell_type": "markdown",
      "source": [
        "```\n",
        "s = {\"The author is making big money\":1, \"Irony but fascinating\":1,\n",
        "\"don’t waste money on it\":0}\n",
        "s\n",
        "```"
      ],
      "metadata": {
        "id": "7RJtLegAxchu",
        "outputId": "ef1b0c9f-81ef-4c3a-e077-8b23f0fbcf03"
      }
    },
    {
      "cell_type": "code",
      "source": [
        "s = {\"The author is making big money\":1, \"Irony but fascinating\":1,\n",
        "\"don’t waste money on it\":0}\n",
        "s"
      ],
      "metadata": {
        "id": "I99tfcH2WsS9",
        "outputId": "f31531f0-7142-4783-de76-1b700e5796e0",
        "colab": {
          "base_uri": "https://localhost:8080/"
        }
      },
      "execution_count": 1,
      "outputs": [
        {
          "output_type": "execute_result",
          "data": {
            "text/plain": [
              "{'The author is making big money': 1,\n",
              " 'Irony but fascinating': 1,\n",
              " 'don’t waste money on it': 0}"
            ]
          },
          "metadata": {},
          "execution_count": 1
        }
      ]
    },
    {
      "cell_type": "markdown",
      "source": [
        "## Import the libraries for tokenization and normalization"
      ],
      "metadata": {
        "id": "BhObUfvQYgch"
      }
    },
    {
      "cell_type": "markdown",
      "source": [
        "```\n",
        "import spacy\n",
        "from collections import Counter\n",
        "from nltk.stem import PorterStemmer\n",
        "\n",
        "# Load spaCy's English tokenizer, tagger, parser, and NER\n",
        "nlp = spacy.load(\"en_core_web_sm\")\n",
        "```"
      ],
      "metadata": {
        "id": "qMrhJc7WyquV"
      }
    },
    {
      "cell_type": "code",
      "source": [
        "import spacy\n",
        "from collections import Counter\n",
        "from nltk.stem import PorterStemmer\n",
        "\n",
        "# Load spaCy's English tokenizer, tagger, parser, and NER\n",
        "nlp = spacy.load(\"en_core_web_sm\")"
      ],
      "metadata": {
        "id": "gskpiD1UWxtl"
      },
      "execution_count": 2,
      "outputs": []
    },
    {
      "cell_type": "markdown",
      "source": [
        "## Tokenize, normalize, and count word frequencies"
      ],
      "metadata": {
        "id": "svhl0Tt31GnS"
      }
    },
    {
      "cell_type": "markdown",
      "source": [
        "```\n",
        "stemmer = PorterStemmer()\n",
        "\n",
        "word_freq_pos = Counter()\n",
        "word_freq_neg = Counter()\n",
        "\n",
        "for sentence in s:\n",
        "    doc = nlp(sentence.lower())  # Convert to lowercase for uniformity\n",
        "    if s[sentence] == 1:\n",
        "        words = [stemmer.stem(token.lemma_.lower()) for token in doc if token.is_alpha]  # Keep only words\n",
        "        word_freq_pos.update(words)\n",
        "    else:\n",
        "        words = [stemmer.stem(token.lemma_ .lower()) for token in doc if token.is_alpha]  # Keep only words\n",
        "        word_freq_neg.update(words)\n",
        "```"
      ],
      "metadata": {
        "id": "2ShfZPTCyv0R"
      }
    },
    {
      "cell_type": "code",
      "source": [
        "stemmer = PorterStemmer()\n",
        "\n",
        "word_freq_pos = Counter()\n",
        "word_freq_neg = Counter()\n",
        "\n",
        "for sentence in s:\n",
        "    doc = nlp(sentence.lower())  # Convert to lowercase for uniformity\n",
        "    if s[sentence] == 1:\n",
        "        words = [stemmer.stem(token.lemma_.lower()) for token in doc if token.is_alpha]  # Keep only words\n",
        "        word_freq_pos.update(words)\n",
        "    else:\n",
        "        words = [stemmer.stem(token.lemma_ .lower()) for token in doc if token.is_alpha]  # Keep only words\n",
        "        word_freq_neg.update(words)"
      ],
      "metadata": {
        "id": "v3Ho96CQW3l3"
      },
      "execution_count": 3,
      "outputs": []
    },
    {
      "cell_type": "markdown",
      "source": [
        "```\n",
        "word_freq_pos, word_freq_neg\n",
        "```"
      ],
      "metadata": {
        "id": "ezTVH5cizsWM",
        "outputId": "fbca37c7-786f-4d16-aebe-8e084e165aef"
      }
    },
    {
      "cell_type": "code",
      "source": [
        "word_freq_pos, word_freq_neg"
      ],
      "metadata": {
        "id": "Pm484JYTW51E",
        "outputId": "48605349-1823-482f-dedd-27de8942bd8a",
        "colab": {
          "base_uri": "https://localhost:8080/"
        }
      },
      "execution_count": 4,
      "outputs": [
        {
          "output_type": "execute_result",
          "data": {
            "text/plain": [
              "(Counter({'the': 1,\n",
              "          'author': 1,\n",
              "          'be': 1,\n",
              "          'make': 1,\n",
              "          'big': 1,\n",
              "          'money': 1,\n",
              "          'ironi': 1,\n",
              "          'but': 1,\n",
              "          'fascin': 1}),\n",
              " Counter({'do': 1, 'wast': 1, 'money': 1, 'on': 1, 'it': 1}))"
            ]
          },
          "metadata": {},
          "execution_count": 4
        }
      ]
    },
    {
      "cell_type": "markdown",
      "source": [
        "## Conditional Word Probabiliies\n",
        "- Compute the conditional probabily of each word given a class\n",
        "- Given a word $w$,\n",
        " \\begin{equation}\n",
        " Pr(w| pos) = \\frac{frequency\\ of\\ w\\ in\\ all\\ positive\\ cases}{total\\ number\\ of\\ positive\\ cases}\n",
        " \\end{equation}\n",
        "\n",
        " \\begin{equation}\n",
        " Pr(w| neg) = \\frac{frequency\\ of\\ w\\ in\\ all\\ negative\\ cases}{total\\ number\\ of\\ negative\\ cases}\n",
        " \\end{equation}."
      ],
      "metadata": {
        "id": "b7sTrn6G1Ji2"
      }
    },
    {
      "cell_type": "markdown",
      "source": [
        "```\n",
        "word_prob_pos = {}\n",
        "word_prob_neg = {}\n",
        "```"
      ],
      "metadata": {
        "id": "H-7GeOag1SAU"
      }
    },
    {
      "cell_type": "code",
      "source": [
        "\n",
        "\n",
        "word_prob_pos = {}\n",
        "word_prob_neg = {}\n",
        "\n"
      ],
      "metadata": {
        "id": "4tRYmipqW7iS"
      },
      "execution_count": 5,
      "outputs": []
    },
    {
      "cell_type": "markdown",
      "source": [
        "```\n",
        "for word, count in word_freq_pos.items():\n",
        "    word_prob_pos[word] = count / sum(word_freq_pos.values())\n",
        "for word, count in word_freq_neg.items():\n",
        "    word_prob_neg[word] = count / sum(word_freq_neg.values())\n",
        "```"
      ],
      "metadata": {
        "id": "Q0cqls0v1W04"
      }
    },
    {
      "cell_type": "code",
      "source": [
        "\n",
        "\n",
        "for word, count in word_freq_pos.items():\n",
        "    word_prob_pos[word] = count / sum(word_freq_pos.values())\n",
        "for word, count in word_freq_neg.items():\n",
        "    word_prob_neg[word] = count / sum(word_freq_neg.values())\n",
        "\n"
      ],
      "metadata": {
        "id": "xJnfazYwW9FO"
      },
      "execution_count": 6,
      "outputs": []
    },
    {
      "cell_type": "markdown",
      "source": [
        "```\n",
        "word_prob_pos, word_prob_neg\n",
        "```"
      ],
      "metadata": {
        "id": "fR71tVa01egi",
        "outputId": "ebcdc496-5393-40de-adbc-368fafaa07a1"
      }
    },
    {
      "cell_type": "code",
      "source": [
        "word_prob_pos, word_prob_neg"
      ],
      "metadata": {
        "id": "DeAyhntRW-YA",
        "outputId": "ffb3b2ff-7883-4450-b720-008655d76dfc",
        "colab": {
          "base_uri": "https://localhost:8080/"
        }
      },
      "execution_count": 7,
      "outputs": [
        {
          "output_type": "execute_result",
          "data": {
            "text/plain": [
              "({'the': 0.1111111111111111,\n",
              "  'author': 0.1111111111111111,\n",
              "  'be': 0.1111111111111111,\n",
              "  'make': 0.1111111111111111,\n",
              "  'big': 0.1111111111111111,\n",
              "  'money': 0.1111111111111111,\n",
              "  'ironi': 0.1111111111111111,\n",
              "  'but': 0.1111111111111111,\n",
              "  'fascin': 0.1111111111111111},\n",
              " {'do': 0.2, 'wast': 0.2, 'money': 0.2, 'on': 0.2, 'it': 0.2})"
            ]
          },
          "metadata": {},
          "execution_count": 7
        }
      ]
    },
    {
      "cell_type": "markdown",
      "source": [
        "## Naive Bayes Classification\n",
        "- Tokenize and normalize the given sentence instance $s$.\n",
        "- Compute the conditional probabilies, $Pr(pos|s)$ and $Pr(neg|s)$.\n",
        "- Apply Bayes' Theorem:\n",
        "\\begin{equation}\n",
        "    Pr(pos|s) = \\frac{Pr(s|pos)\\times Pr(pos)}{Pr(s)}\n",
        "\\end{equation}\n",
        "\\begin{equation}\n",
        "    Pr(pos|s) = \\frac{Pr(s|pos)\\times Pr(pos)}{Pr(s)}\n",
        "\\end{equation}\n",
        "- Apply word independency assumption:\n",
        "\\begin{equation}\n",
        "    Pr(s|pos) = Pr(w1|pos)\\times Pr(w2|pos)\\times...\\times Pr(w_{m}|pos)\n",
        "\\end{equation}\n",
        "\\begin{equation}\n",
        "    Pr(s|neg) = Pr(w1|neg)\\times Pr(w2|neg)\\times...\\times Pr(w_{m}|neg)\n",
        "\\end{equation}\n",
        "\n",
        "- Make comparison:\n",
        "\\begin{equation}\n",
        "    Pr(pos|s) \\sim Pr(s|pos)\n",
        "\\end{equation}\n",
        "\\begin{equation}\n",
        "    Pr(neg|s) \\sim Pr(s|neg)\n",
        "\\end{equation}"
      ],
      "metadata": {
        "id": "a92_izzR1jWn"
      }
    },
    {
      "cell_type": "markdown",
      "source": [
        "```\n",
        "ss = \"money wasted, fascinated\"\n",
        "doc = nlp(ss.lower())\n",
        "words = [stemmer.stem(token.lemma_.lower()) for token in doc if token.is_alpha]\n",
        "words\n",
        "```"
      ],
      "metadata": {
        "id": "lZhJjotX1nYU",
        "outputId": "e105d24a-7d39-4781-fcbe-2f569045e0d3"
      }
    },
    {
      "cell_type": "code",
      "source": [
        "word_prob_pos, word_prob_neg"
      ],
      "metadata": {
        "id": "5EbeOiieW__U",
        "outputId": "bebbd50e-cf5f-4845-f47a-0a19b3472131",
        "colab": {
          "base_uri": "https://localhost:8080/"
        }
      },
      "execution_count": 8,
      "outputs": [
        {
          "output_type": "execute_result",
          "data": {
            "text/plain": [
              "({'the': 0.1111111111111111,\n",
              "  'author': 0.1111111111111111,\n",
              "  'be': 0.1111111111111111,\n",
              "  'make': 0.1111111111111111,\n",
              "  'big': 0.1111111111111111,\n",
              "  'money': 0.1111111111111111,\n",
              "  'ironi': 0.1111111111111111,\n",
              "  'but': 0.1111111111111111,\n",
              "  'fascin': 0.1111111111111111},\n",
              " {'do': 0.2, 'wast': 0.2, 'money': 0.2, 'on': 0.2, 'it': 0.2})"
            ]
          },
          "metadata": {},
          "execution_count": 8
        }
      ]
    },
    {
      "cell_type": "markdown",
      "source": [
        "```\n",
        "Pr_1 = 1\n",
        "for word in words:\n",
        "    if word in word_prob_pos:\n",
        "        Pr_1 *= word_prob_pos[word]\n",
        "Pr_1\n",
        "```"
      ],
      "metadata": {
        "id": "qCY7q_HxFu29",
        "outputId": "61005814-6eaa-4648-be37-da0ceee5efda"
      }
    },
    {
      "cell_type": "code",
      "source": [
        "\n",
        "\n",
        "Pr_1 = 1\n",
        "for word in words:\n",
        "    if word in word_prob_pos:\n",
        "        Pr_1 *= word_prob_pos[word]\n",
        "Pr_1\n",
        "\n"
      ],
      "metadata": {
        "id": "JsR-oKhAXBY4",
        "outputId": "50d3d595-ad04-4396-8d09-98e331a81ad9",
        "colab": {
          "base_uri": "https://localhost:8080/"
        }
      },
      "execution_count": 9,
      "outputs": [
        {
          "output_type": "execute_result",
          "data": {
            "text/plain": [
              "0.1111111111111111"
            ]
          },
          "metadata": {},
          "execution_count": 9
        }
      ]
    },
    {
      "cell_type": "markdown",
      "source": [
        "```\n",
        "Pr_0 = 1\n",
        "for word in words:\n",
        "    if word in word_prob_neg:\n",
        "        Pr_0 *= word_prob_neg[word]\n",
        "Pr_0\n",
        "```"
      ],
      "metadata": {
        "id": "hB6XelsnGHox",
        "outputId": "b4f531fb-f49e-4601-e5f1-07c871e7f04d"
      }
    },
    {
      "cell_type": "code",
      "source": [
        "\n",
        "\n",
        "Pr_0 = 1\n",
        "for word in words:\n",
        "    if word in word_prob_neg:\n",
        "        Pr_0 *= word_prob_neg[word]\n",
        "Pr_0\n",
        "\n"
      ],
      "metadata": {
        "id": "F2wvj4xoXDFr",
        "outputId": "81b9251a-28e1-4ac2-e99a-0c69f126cd7c",
        "colab": {
          "base_uri": "https://localhost:8080/"
        }
      },
      "execution_count": 10,
      "outputs": [
        {
          "output_type": "execute_result",
          "data": {
            "text/plain": [
              "0.00032000000000000013"
            ]
          },
          "metadata": {},
          "execution_count": 10
        }
      ]
    },
    {
      "cell_type": "markdown",
      "source": [
        "```\n",
        "# normalize the probabilities\n",
        "Pr_1_norm = Pr_1 / (Pr_1 + Pr_0)\n",
        "Pr_0_norm = Pr_0 / (Pr_1 + Pr_0)\n",
        "Pr_1_norm, Pr_0_norm\n",
        "```"
      ],
      "metadata": {
        "id": "9gXfDzuIGJoE",
        "outputId": "c52d37fd-eb60-432e-eea1-5206c3bf9540"
      }
    },
    {
      "cell_type": "code",
      "source": [
        "Pr_1_norm = Pr_1 / (Pr_1 + Pr_0)\n",
        "Pr_0_norm = Pr_0 / (Pr_1 + Pr_0)\n",
        "Pr_1_norm, Pr_0_norm"
      ],
      "metadata": {
        "id": "PCwgIyU4XEcq",
        "outputId": "8739b086-e4df-4491-bc03-faa4fa8cb69d",
        "colab": {
          "base_uri": "https://localhost:8080/"
        }
      },
      "execution_count": 11,
      "outputs": [
        {
          "output_type": "execute_result",
          "data": {
            "text/plain": [
              "(0.9971282705807275, 0.0028717294192724964)"
            ]
          },
          "metadata": {},
          "execution_count": 11
        }
      ]
    },
    {
      "cell_type": "markdown",
      "source": [
        "## Retrieval Practice"
      ],
      "metadata": {
        "id": "gzux_RJSgsFR"
      }
    },
    {
      "cell_type": "markdown",
      "source": [
        "# Use Scikit Learn Naive Bayes Classifier"
      ],
      "metadata": {
        "id": "xKm8BCxqg1R2"
      }
    },
    {
      "cell_type": "markdown",
      "metadata": {
        "id": "ByytxxwpzlOW"
      },
      "source": [
        "```\n",
        "import pandas as pd\n",
        "import numpy as np\n",
        "from google.colab import files\n",
        "import matplotlib.pyplot as plt\n",
        "```"
      ]
    },
    {
      "cell_type": "code",
      "source": [
        "\n",
        "\n",
        "import pandas as pd\n",
        "import numpy as np\n",
        "from google.colab import files\n",
        "import matplotlib.pyplot as plt\n",
        "\n"
      ],
      "metadata": {
        "id": "9RSsuqLfXFwP"
      },
      "execution_count": 12,
      "outputs": []
    },
    {
      "cell_type": "markdown",
      "metadata": {
        "id": "Wmdoa81CO4QO"
      },
      "source": [
        "## Upload and read the text data"
      ]
    },
    {
      "cell_type": "markdown",
      "metadata": {
        "id": "c03EQRtICcNy",
        "outputId": "b13bfa6c-9f1b-42ba-cbcf-63641e02e36f",
        "collapsed": true
      },
      "source": [
        "```\n",
        "files.upload()\n",
        "```"
      ]
    },
    {
      "cell_type": "markdown",
      "metadata": {
        "id": "lWJH5h-5CXRj",
        "outputId": "10ffc905-0ab6-42ec-b94f-80667e3514ab"
      },
      "source": [
        "```\n",
        "sms = pd.read_csv(\"spam.csv\", encoding='latin-1')\n",
        "sms.head()\n",
        "```"
      ]
    },
    {
      "cell_type": "code",
      "source": [
        "\n",
        "\n",
        "sms = pd.read_csv(\"spam.csv\", encoding='latin-1')\n",
        "sms.head()\n",
        "\n"
      ],
      "metadata": {
        "id": "WR-x0hdeXKIt",
        "outputId": "db4e1aec-b4cd-4bb1-aebb-9d71b5114a3c",
        "colab": {
          "base_uri": "https://localhost:8080/",
          "height": 206
        }
      },
      "execution_count": 14,
      "outputs": [
        {
          "output_type": "execute_result",
          "data": {
            "text/plain": [
              "     v1                                                 v2 Unnamed: 2  \\\n",
              "0   ham  Go until jurong point, crazy.. Available only ...        NaN   \n",
              "1   ham                      Ok lar... Joking wif u oni...        NaN   \n",
              "2  spam  Free entry in 2 a wkly comp to win FA Cup fina...        NaN   \n",
              "3   ham  U dun say so early hor... U c already then say...        NaN   \n",
              "4   ham  Nah I don't think he goes to usf, he lives aro...        NaN   \n",
              "\n",
              "  Unnamed: 3 Unnamed: 4  \n",
              "0        NaN        NaN  \n",
              "1        NaN        NaN  \n",
              "2        NaN        NaN  \n",
              "3        NaN        NaN  \n",
              "4        NaN        NaN  "
            ],
            "text/html": [
              "\n",
              "  <div id=\"df-365f8a75-7499-464e-8db1-a6f14412f97c\" class=\"colab-df-container\">\n",
              "    <div>\n",
              "<style scoped>\n",
              "    .dataframe tbody tr th:only-of-type {\n",
              "        vertical-align: middle;\n",
              "    }\n",
              "\n",
              "    .dataframe tbody tr th {\n",
              "        vertical-align: top;\n",
              "    }\n",
              "\n",
              "    .dataframe thead th {\n",
              "        text-align: right;\n",
              "    }\n",
              "</style>\n",
              "<table border=\"1\" class=\"dataframe\">\n",
              "  <thead>\n",
              "    <tr style=\"text-align: right;\">\n",
              "      <th></th>\n",
              "      <th>v1</th>\n",
              "      <th>v2</th>\n",
              "      <th>Unnamed: 2</th>\n",
              "      <th>Unnamed: 3</th>\n",
              "      <th>Unnamed: 4</th>\n",
              "    </tr>\n",
              "  </thead>\n",
              "  <tbody>\n",
              "    <tr>\n",
              "      <th>0</th>\n",
              "      <td>ham</td>\n",
              "      <td>Go until jurong point, crazy.. Available only ...</td>\n",
              "      <td>NaN</td>\n",
              "      <td>NaN</td>\n",
              "      <td>NaN</td>\n",
              "    </tr>\n",
              "    <tr>\n",
              "      <th>1</th>\n",
              "      <td>ham</td>\n",
              "      <td>Ok lar... Joking wif u oni...</td>\n",
              "      <td>NaN</td>\n",
              "      <td>NaN</td>\n",
              "      <td>NaN</td>\n",
              "    </tr>\n",
              "    <tr>\n",
              "      <th>2</th>\n",
              "      <td>spam</td>\n",
              "      <td>Free entry in 2 a wkly comp to win FA Cup fina...</td>\n",
              "      <td>NaN</td>\n",
              "      <td>NaN</td>\n",
              "      <td>NaN</td>\n",
              "    </tr>\n",
              "    <tr>\n",
              "      <th>3</th>\n",
              "      <td>ham</td>\n",
              "      <td>U dun say so early hor... U c already then say...</td>\n",
              "      <td>NaN</td>\n",
              "      <td>NaN</td>\n",
              "      <td>NaN</td>\n",
              "    </tr>\n",
              "    <tr>\n",
              "      <th>4</th>\n",
              "      <td>ham</td>\n",
              "      <td>Nah I don't think he goes to usf, he lives aro...</td>\n",
              "      <td>NaN</td>\n",
              "      <td>NaN</td>\n",
              "      <td>NaN</td>\n",
              "    </tr>\n",
              "  </tbody>\n",
              "</table>\n",
              "</div>\n",
              "    <div class=\"colab-df-buttons\">\n",
              "\n",
              "  <div class=\"colab-df-container\">\n",
              "    <button class=\"colab-df-convert\" onclick=\"convertToInteractive('df-365f8a75-7499-464e-8db1-a6f14412f97c')\"\n",
              "            title=\"Convert this dataframe to an interactive table.\"\n",
              "            style=\"display:none;\">\n",
              "\n",
              "  <svg xmlns=\"http://www.w3.org/2000/svg\" height=\"24px\" viewBox=\"0 -960 960 960\">\n",
              "    <path d=\"M120-120v-720h720v720H120Zm60-500h600v-160H180v160Zm220 220h160v-160H400v160Zm0 220h160v-160H400v160ZM180-400h160v-160H180v160Zm440 0h160v-160H620v160ZM180-180h160v-160H180v160Zm440 0h160v-160H620v160Z\"/>\n",
              "  </svg>\n",
              "    </button>\n",
              "\n",
              "  <style>\n",
              "    .colab-df-container {\n",
              "      display:flex;\n",
              "      gap: 12px;\n",
              "    }\n",
              "\n",
              "    .colab-df-convert {\n",
              "      background-color: #E8F0FE;\n",
              "      border: none;\n",
              "      border-radius: 50%;\n",
              "      cursor: pointer;\n",
              "      display: none;\n",
              "      fill: #1967D2;\n",
              "      height: 32px;\n",
              "      padding: 0 0 0 0;\n",
              "      width: 32px;\n",
              "    }\n",
              "\n",
              "    .colab-df-convert:hover {\n",
              "      background-color: #E2EBFA;\n",
              "      box-shadow: 0px 1px 2px rgba(60, 64, 67, 0.3), 0px 1px 3px 1px rgba(60, 64, 67, 0.15);\n",
              "      fill: #174EA6;\n",
              "    }\n",
              "\n",
              "    .colab-df-buttons div {\n",
              "      margin-bottom: 4px;\n",
              "    }\n",
              "\n",
              "    [theme=dark] .colab-df-convert {\n",
              "      background-color: #3B4455;\n",
              "      fill: #D2E3FC;\n",
              "    }\n",
              "\n",
              "    [theme=dark] .colab-df-convert:hover {\n",
              "      background-color: #434B5C;\n",
              "      box-shadow: 0px 1px 3px 1px rgba(0, 0, 0, 0.15);\n",
              "      filter: drop-shadow(0px 1px 2px rgba(0, 0, 0, 0.3));\n",
              "      fill: #FFFFFF;\n",
              "    }\n",
              "  </style>\n",
              "\n",
              "    <script>\n",
              "      const buttonEl =\n",
              "        document.querySelector('#df-365f8a75-7499-464e-8db1-a6f14412f97c button.colab-df-convert');\n",
              "      buttonEl.style.display =\n",
              "        google.colab.kernel.accessAllowed ? 'block' : 'none';\n",
              "\n",
              "      async function convertToInteractive(key) {\n",
              "        const element = document.querySelector('#df-365f8a75-7499-464e-8db1-a6f14412f97c');\n",
              "        const dataTable =\n",
              "          await google.colab.kernel.invokeFunction('convertToInteractive',\n",
              "                                                    [key], {});\n",
              "        if (!dataTable) return;\n",
              "\n",
              "        const docLinkHtml = 'Like what you see? Visit the ' +\n",
              "          '<a target=\"_blank\" href=https://colab.research.google.com/notebooks/data_table.ipynb>data table notebook</a>'\n",
              "          + ' to learn more about interactive tables.';\n",
              "        element.innerHTML = '';\n",
              "        dataTable['output_type'] = 'display_data';\n",
              "        await google.colab.output.renderOutput(dataTable, element);\n",
              "        const docLink = document.createElement('div');\n",
              "        docLink.innerHTML = docLinkHtml;\n",
              "        element.appendChild(docLink);\n",
              "      }\n",
              "    </script>\n",
              "  </div>\n",
              "\n",
              "\n",
              "    <div id=\"df-ecfff7a2-442f-4097-a77a-5ae3f548ead1\">\n",
              "      <button class=\"colab-df-quickchart\" onclick=\"quickchart('df-ecfff7a2-442f-4097-a77a-5ae3f548ead1')\"\n",
              "                title=\"Suggest charts\"\n",
              "                style=\"display:none;\">\n",
              "\n",
              "<svg xmlns=\"http://www.w3.org/2000/svg\" height=\"24px\"viewBox=\"0 0 24 24\"\n",
              "     width=\"24px\">\n",
              "    <g>\n",
              "        <path d=\"M19 3H5c-1.1 0-2 .9-2 2v14c0 1.1.9 2 2 2h14c1.1 0 2-.9 2-2V5c0-1.1-.9-2-2-2zM9 17H7v-7h2v7zm4 0h-2V7h2v10zm4 0h-2v-4h2v4z\"/>\n",
              "    </g>\n",
              "</svg>\n",
              "      </button>\n",
              "\n",
              "<style>\n",
              "  .colab-df-quickchart {\n",
              "      --bg-color: #E8F0FE;\n",
              "      --fill-color: #1967D2;\n",
              "      --hover-bg-color: #E2EBFA;\n",
              "      --hover-fill-color: #174EA6;\n",
              "      --disabled-fill-color: #AAA;\n",
              "      --disabled-bg-color: #DDD;\n",
              "  }\n",
              "\n",
              "  [theme=dark] .colab-df-quickchart {\n",
              "      --bg-color: #3B4455;\n",
              "      --fill-color: #D2E3FC;\n",
              "      --hover-bg-color: #434B5C;\n",
              "      --hover-fill-color: #FFFFFF;\n",
              "      --disabled-bg-color: #3B4455;\n",
              "      --disabled-fill-color: #666;\n",
              "  }\n",
              "\n",
              "  .colab-df-quickchart {\n",
              "    background-color: var(--bg-color);\n",
              "    border: none;\n",
              "    border-radius: 50%;\n",
              "    cursor: pointer;\n",
              "    display: none;\n",
              "    fill: var(--fill-color);\n",
              "    height: 32px;\n",
              "    padding: 0;\n",
              "    width: 32px;\n",
              "  }\n",
              "\n",
              "  .colab-df-quickchart:hover {\n",
              "    background-color: var(--hover-bg-color);\n",
              "    box-shadow: 0 1px 2px rgba(60, 64, 67, 0.3), 0 1px 3px 1px rgba(60, 64, 67, 0.15);\n",
              "    fill: var(--button-hover-fill-color);\n",
              "  }\n",
              "\n",
              "  .colab-df-quickchart-complete:disabled,\n",
              "  .colab-df-quickchart-complete:disabled:hover {\n",
              "    background-color: var(--disabled-bg-color);\n",
              "    fill: var(--disabled-fill-color);\n",
              "    box-shadow: none;\n",
              "  }\n",
              "\n",
              "  .colab-df-spinner {\n",
              "    border: 2px solid var(--fill-color);\n",
              "    border-color: transparent;\n",
              "    border-bottom-color: var(--fill-color);\n",
              "    animation:\n",
              "      spin 1s steps(1) infinite;\n",
              "  }\n",
              "\n",
              "  @keyframes spin {\n",
              "    0% {\n",
              "      border-color: transparent;\n",
              "      border-bottom-color: var(--fill-color);\n",
              "      border-left-color: var(--fill-color);\n",
              "    }\n",
              "    20% {\n",
              "      border-color: transparent;\n",
              "      border-left-color: var(--fill-color);\n",
              "      border-top-color: var(--fill-color);\n",
              "    }\n",
              "    30% {\n",
              "      border-color: transparent;\n",
              "      border-left-color: var(--fill-color);\n",
              "      border-top-color: var(--fill-color);\n",
              "      border-right-color: var(--fill-color);\n",
              "    }\n",
              "    40% {\n",
              "      border-color: transparent;\n",
              "      border-right-color: var(--fill-color);\n",
              "      border-top-color: var(--fill-color);\n",
              "    }\n",
              "    60% {\n",
              "      border-color: transparent;\n",
              "      border-right-color: var(--fill-color);\n",
              "    }\n",
              "    80% {\n",
              "      border-color: transparent;\n",
              "      border-right-color: var(--fill-color);\n",
              "      border-bottom-color: var(--fill-color);\n",
              "    }\n",
              "    90% {\n",
              "      border-color: transparent;\n",
              "      border-bottom-color: var(--fill-color);\n",
              "    }\n",
              "  }\n",
              "</style>\n",
              "\n",
              "      <script>\n",
              "        async function quickchart(key) {\n",
              "          const quickchartButtonEl =\n",
              "            document.querySelector('#' + key + ' button');\n",
              "          quickchartButtonEl.disabled = true;  // To prevent multiple clicks.\n",
              "          quickchartButtonEl.classList.add('colab-df-spinner');\n",
              "          try {\n",
              "            const charts = await google.colab.kernel.invokeFunction(\n",
              "                'suggestCharts', [key], {});\n",
              "          } catch (error) {\n",
              "            console.error('Error during call to suggestCharts:', error);\n",
              "          }\n",
              "          quickchartButtonEl.classList.remove('colab-df-spinner');\n",
              "          quickchartButtonEl.classList.add('colab-df-quickchart-complete');\n",
              "        }\n",
              "        (() => {\n",
              "          let quickchartButtonEl =\n",
              "            document.querySelector('#df-ecfff7a2-442f-4097-a77a-5ae3f548ead1 button');\n",
              "          quickchartButtonEl.style.display =\n",
              "            google.colab.kernel.accessAllowed ? 'block' : 'none';\n",
              "        })();\n",
              "      </script>\n",
              "    </div>\n",
              "\n",
              "    </div>\n",
              "  </div>\n"
            ],
            "application/vnd.google.colaboratory.intrinsic+json": {
              "type": "dataframe",
              "variable_name": "sms",
              "summary": "{\n  \"name\": \"sms\",\n  \"rows\": 5572,\n  \"fields\": [\n    {\n      \"column\": \"v1\",\n      \"properties\": {\n        \"dtype\": \"category\",\n        \"num_unique_values\": 2,\n        \"samples\": [\n          \"spam\",\n          \"ham\"\n        ],\n        \"semantic_type\": \"\",\n        \"description\": \"\"\n      }\n    },\n    {\n      \"column\": \"v2\",\n      \"properties\": {\n        \"dtype\": \"string\",\n        \"num_unique_values\": 5169,\n        \"samples\": [\n          \"Did u download the fring app?\",\n          \"Pass dis to all ur contacts n see wat u get! Red;i'm in luv wid u. Blue;u put a smile on my face. Purple;u r realy hot. Pink;u r so swt. Orange;i thnk i lyk u. Green;i realy wana go out wid u. Yelow;i wnt u bck. Black;i'm jealous of u. Brown;i miss you Nw plz giv me one color\"\n        ],\n        \"semantic_type\": \"\",\n        \"description\": \"\"\n      }\n    },\n    {\n      \"column\": \"Unnamed: 2\",\n      \"properties\": {\n        \"dtype\": \"category\",\n        \"num_unique_values\": 43,\n        \"samples\": [\n          \" GOD said\",\n          \" SHE SHUDVETOLD U. DID URGRAN KNOW?NEWAY\"\n        ],\n        \"semantic_type\": \"\",\n        \"description\": \"\"\n      }\n    },\n    {\n      \"column\": \"Unnamed: 3\",\n      \"properties\": {\n        \"dtype\": \"category\",\n        \"num_unique_values\": 10,\n        \"samples\": [\n          \" \\\\\\\"OH No! COMPETITION\\\\\\\". Who knew\",\n          \" why to miss them\"\n        ],\n        \"semantic_type\": \"\",\n        \"description\": \"\"\n      }\n    },\n    {\n      \"column\": \"Unnamed: 4\",\n      \"properties\": {\n        \"dtype\": \"category\",\n        \"num_unique_values\": 5,\n        \"samples\": [\n          \"GNT:-)\\\"\",\n          \" one day these two will become FREINDS FOREVER!\\\"\"\n        ],\n        \"semantic_type\": \"\",\n        \"description\": \"\"\n      }\n    }\n  ]\n}"
            }
          },
          "metadata": {},
          "execution_count": 14
        }
      ]
    },
    {
      "cell_type": "markdown",
      "metadata": {
        "id": "tXzHtRPPCkTS",
        "outputId": "b04aad4f-6908-4ff2-ec56-31df34527878"
      },
      "source": [
        "```\n",
        "sms.shape\n",
        "```"
      ]
    },
    {
      "cell_type": "code",
      "source": [
        "sms.shape"
      ],
      "metadata": {
        "id": "6Nmgv2SbXS24",
        "outputId": "4f8eb5cb-ef32-4dd0-a17f-43147329b98c",
        "colab": {
          "base_uri": "https://localhost:8080/"
        }
      },
      "execution_count": 15,
      "outputs": [
        {
          "output_type": "execute_result",
          "data": {
            "text/plain": [
              "(5572, 5)"
            ]
          },
          "metadata": {},
          "execution_count": 15
        }
      ]
    },
    {
      "cell_type": "markdown",
      "source": [
        "### Label Distribution"
      ],
      "metadata": {
        "id": "xXuZGQ6qhMXs"
      }
    },
    {
      "cell_type": "markdown",
      "metadata": {
        "id": "LEf4He3xTJ96",
        "outputId": "4731dd39-a31d-4ff4-f626-c1a6ec5efc9c"
      },
      "source": [
        "```\n",
        "sms.v1.value_counts()/sms.shape[0]\n",
        "```"
      ]
    },
    {
      "cell_type": "code",
      "source": [
        "sms.v1.value_counts()/sms.shape[0]"
      ],
      "metadata": {
        "id": "EXdJkMmgXUDW",
        "outputId": "38deeb3b-9025-4b47-ba26-abbee3726e8e",
        "colab": {
          "base_uri": "https://localhost:8080/",
          "height": 178
        }
      },
      "execution_count": 16,
      "outputs": [
        {
          "output_type": "execute_result",
          "data": {
            "text/plain": [
              "v1\n",
              "ham     0.865937\n",
              "spam    0.134063\n",
              "Name: count, dtype: float64"
            ],
            "text/html": [
              "<div>\n",
              "<style scoped>\n",
              "    .dataframe tbody tr th:only-of-type {\n",
              "        vertical-align: middle;\n",
              "    }\n",
              "\n",
              "    .dataframe tbody tr th {\n",
              "        vertical-align: top;\n",
              "    }\n",
              "\n",
              "    .dataframe thead th {\n",
              "        text-align: right;\n",
              "    }\n",
              "</style>\n",
              "<table border=\"1\" class=\"dataframe\">\n",
              "  <thead>\n",
              "    <tr style=\"text-align: right;\">\n",
              "      <th></th>\n",
              "      <th>count</th>\n",
              "    </tr>\n",
              "    <tr>\n",
              "      <th>v1</th>\n",
              "      <th></th>\n",
              "    </tr>\n",
              "  </thead>\n",
              "  <tbody>\n",
              "    <tr>\n",
              "      <th>ham</th>\n",
              "      <td>0.865937</td>\n",
              "    </tr>\n",
              "    <tr>\n",
              "      <th>spam</th>\n",
              "      <td>0.134063</td>\n",
              "    </tr>\n",
              "  </tbody>\n",
              "</table>\n",
              "</div><br><label><b>dtype:</b> float64</label>"
            ]
          },
          "metadata": {},
          "execution_count": 16
        }
      ]
    },
    {
      "cell_type": "markdown",
      "metadata": {
        "id": "44W9DK33Qxyv"
      },
      "source": [
        "## Create a tokenizer using spacy"
      ]
    },
    {
      "cell_type": "markdown",
      "metadata": {
        "id": "T1K-ol6-PjOc"
      },
      "source": [
        "```\n",
        "# Creating our tokenzer function\n",
        "def spacy_tokenizer(sentence):\n",
        "    \"\"\"This function will accepts a sentence as input and processes the sentence into tokens, performing lemmatization,\n",
        "    lowercasing, removing stop words and punctuations.\"\"\"\n",
        "\n",
        "    # Creating our token object which is used to create documents with linguistic annotations\n",
        "    doc = nlp(sentence)\n",
        "\n",
        "    # removing stop words and punctuations\n",
        "    mytokens = [word for word in doc if not word.is_stop and word.pos_ != 'PUNCT']\n",
        "\n",
        "    #lemmatizing each token and converting each token in lower case\n",
        "    mytokens = [word.lemma_.lower().strip() if word.pos_ != \"PRON\" else word.text.lower() for word in mytokens ]\n",
        "\n",
        "    # Return preprocessed list of tokens\n",
        "    return mytokens\n",
        "```"
      ]
    },
    {
      "cell_type": "code",
      "source": [
        "def spacy_tokenizer(sentence):\n",
        "    \"\"\"This function will accepts a sentence as input and processes the sentence into tokens, performing lemmatization,\n",
        "    lowercasing, removing stop words and punctuations.\"\"\"\n",
        "\n",
        "    # Creating our token object which is used to create documents with linguistic annotations\n",
        "    doc = nlp(sentence)\n",
        "\n",
        "    # removing stop words and punctuations\n",
        "    mytokens = [word for word in doc if not word.is_stop and word.pos_ != 'PUNCT']\n",
        "\n",
        "    #lemmatizing each token and converting each token in lower case\n",
        "    mytokens = [word.lemma_.lower().strip() if word.pos_ != \"PRON\" else word.text.lower() for word in mytokens ]\n",
        "\n",
        "    # Return preprocessed list of tokens\n",
        "    return mytokens"
      ],
      "metadata": {
        "id": "beUSbBMeXYF4"
      },
      "execution_count": 18,
      "outputs": []
    },
    {
      "cell_type": "markdown",
      "metadata": {
        "id": "93N8ejnJYg_e",
        "outputId": "02b56dc8-319f-4a42-f05c-dbaf33962ac5"
      },
      "source": [
        "```\n",
        "spacy_tokenizer(sms.loc[4].v2)\n",
        "```"
      ]
    },
    {
      "cell_type": "code",
      "source": [
        "spacy_tokenizer(sms.loc[4].v2)"
      ],
      "metadata": {
        "id": "MMFVfnZEXVnE",
        "outputId": "edc1a5a3-7cd5-4f48-e763-ba333e55db3b",
        "colab": {
          "base_uri": "https://localhost:8080/"
        }
      },
      "execution_count": 19,
      "outputs": [
        {
          "output_type": "execute_result",
          "data": {
            "text/plain": [
              "['nah', 'think', 'go', 'usf', 'live']"
            ]
          },
          "metadata": {},
          "execution_count": 19
        }
      ]
    },
    {
      "cell_type": "markdown",
      "metadata": {
        "id": "x-oYshUXcYvw"
      },
      "source": [
        "## Vectorization\n",
        "- We will convert labels to 1 or 0 such that spam=1 and ham=0\n",
        "- We are going to use Bag of Words(BoW) to convert text into numeric format.\n",
        "- BoW converts text into the matrix of occurrence of words within a given - document. It focuses on whether given word occurred or not in given document and generate the matrix called as BoW matrix/Document Term Matrix\n",
        "- We are going to use sklearn's CountVectorizer to generate BoW matrix.\n",
        "- In CountVectorizer we will use custom tokenizer 'spacy_tokenizer' and - ngram range to define the combination of adjacent words. So unigram means sequence of single word and bigrams means sequence of 2 continuous words.\n",
        "- Likewise, n means sequence of n continuous words.\n",
        "- In this example we are going to use unigram, so our lower and upper bound of ngram range will be (1,1)"
      ]
    },
    {
      "cell_type": "markdown",
      "metadata": {
        "id": "DZUbhmBcdbk3"
      },
      "source": [
        "```\n",
        "from sklearn.feature_extraction.text import CountVectorizer\n",
        "```"
      ]
    },
    {
      "cell_type": "code",
      "source": [
        "\n",
        "\n",
        "from sklearn.feature_extraction.text import CountVectorizer\n",
        "\n"
      ],
      "metadata": {
        "id": "rPAzPFMUXaAh"
      },
      "execution_count": 20,
      "outputs": []
    },
    {
      "cell_type": "markdown",
      "metadata": {
        "id": "IxcxZi6mYnL4"
      },
      "source": [
        "```\n",
        "bow_vector = CountVectorizer(tokenizer = spacy_tokenizer, ngram_range = (1,1))\n",
        "```"
      ]
    },
    {
      "cell_type": "code",
      "source": [
        "\n",
        "\n",
        "bow_vector = CountVectorizer(tokenizer = spacy_tokenizer, ngram_range = (1,1))\n",
        "\n"
      ],
      "metadata": {
        "id": "qFbe19caXb5P"
      },
      "execution_count": 22,
      "outputs": []
    },
    {
      "cell_type": "markdown",
      "metadata": {
        "id": "zmchG0zLdxpX",
        "outputId": "c2404b91-89a5-4f8a-98fe-62f9ced94f37"
      },
      "source": [
        "```\n",
        "# Convert all text into vectors\n",
        "X = bow_vector.fit_transform(sms.v2)\n",
        "```"
      ]
    },
    {
      "cell_type": "code",
      "source": [
        "X = bow_vector.fit_transform(sms.v2)"
      ],
      "metadata": {
        "id": "a3ajrbZ2XdOj",
        "outputId": "50668b4e-c1be-4fbf-cba4-15eafe8d9e73",
        "colab": {
          "base_uri": "https://localhost:8080/"
        }
      },
      "execution_count": 23,
      "outputs": [
        {
          "output_type": "stream",
          "name": "stderr",
          "text": [
            "/usr/local/lib/python3.11/dist-packages/sklearn/feature_extraction/text.py:517: UserWarning: The parameter 'token_pattern' will not be used since 'tokenizer' is not None'\n",
            "  warnings.warn(\n"
          ]
        }
      ]
    },
    {
      "cell_type": "markdown",
      "metadata": {
        "id": "bc0b10ktfa2R",
        "outputId": "d80e5d5e-6934-4dc2-8958-c55b40343b78"
      },
      "source": [
        "```\n",
        "X.shape\n",
        "```"
      ]
    },
    {
      "cell_type": "code",
      "source": [
        "X.shape"
      ],
      "metadata": {
        "id": "65FaKUOUXeaL",
        "outputId": "e104d7be-af34-4242-e8a8-b8de9fa3654e",
        "colab": {
          "base_uri": "https://localhost:8080/"
        }
      },
      "execution_count": 24,
      "outputs": [
        {
          "output_type": "execute_result",
          "data": {
            "text/plain": [
              "(5572, 8213)"
            ]
          },
          "metadata": {},
          "execution_count": 24
        }
      ]
    },
    {
      "cell_type": "markdown",
      "source": [
        "```\n",
        "X.todense()[:2]\n",
        "```"
      ],
      "metadata": {
        "id": "rtkKqYREiBUD",
        "outputId": "b7080c2d-a5bd-448e-d07f-27fa11004312"
      }
    },
    {
      "cell_type": "code",
      "source": [
        "X.todense()[:2]"
      ],
      "metadata": {
        "id": "IiByxsmFXf96",
        "outputId": "3d40f8ba-9aed-4099-b270-efc859ffeb14",
        "colab": {
          "base_uri": "https://localhost:8080/"
        }
      },
      "execution_count": 25,
      "outputs": [
        {
          "output_type": "execute_result",
          "data": {
            "text/plain": [
              "matrix([[0, 0, 0, ..., 0, 0, 0],\n",
              "        [0, 0, 0, ..., 0, 0, 0]])"
            ]
          },
          "metadata": {},
          "execution_count": 25
        }
      ]
    },
    {
      "cell_type": "markdown",
      "source": [
        "```\n",
        "bow_vector.vocabulary_\n",
        "```"
      ],
      "metadata": {
        "collapsed": true,
        "id": "oyZTfNZmihQp",
        "outputId": "196f09c2-a9a6-4a42-fb9b-af1f91c9ccbb"
      }
    },
    {
      "cell_type": "code",
      "source": [
        "bow_vector.vocabulary_"
      ],
      "metadata": {
        "id": "5_u5xWC6Xg46",
        "outputId": "d4e56017-15d2-4401-b880-014187b4ff9e",
        "colab": {
          "base_uri": "https://localhost:8080/"
        }
      },
      "execution_count": 26,
      "outputs": [
        {
          "output_type": "execute_result",
          "data": {
            "text/plain": [
              "{'jurong': 4185,\n",
              " 'point': 5660,\n",
              " 'crazy': 2336,\n",
              " 'available': 1436,\n",
              " 'bugis': 1831,\n",
              " 'n': 5007,\n",
              " 'great': 3495,\n",
              " 'world': 7905,\n",
              " 'la': 4322,\n",
              " 'e': 2795,\n",
              " 'buffet': 1829,\n",
              " 'cine': 2107,\n",
              " 'get': 3373,\n",
              " 'amore': 1242,\n",
              " 'wat': 7719,\n",
              " 'ok': 5286,\n",
              " 'lar': 4355,\n",
              " 'joke': 4152,\n",
              " 'wif': 7822,\n",
              " 'u': 7420,\n",
              " 'oni': 5315,\n",
              " 'free': 3237,\n",
              " 'entry': 2904,\n",
              " '2': 445,\n",
              " 'wkly': 7870,\n",
              " 'comp': 2205,\n",
              " 'win': 7835,\n",
              " 'fa': 3021,\n",
              " 'cup': 2387,\n",
              " 'final': 3115,\n",
              " 'tkts': 7232,\n",
              " '21st': 471,\n",
              " '2005': 462,\n",
              " 'text': 7102,\n",
              " '87121': 860,\n",
              " 'receive': 5998,\n",
              " 'question(std': 5903,\n",
              " 'txt': 7407,\n",
              " 'rate)t&c': 5952,\n",
              " 'apply': 1316,\n",
              " '08452810075over18': 120,\n",
              " 'dun': 2782,\n",
              " 'early': 2804,\n",
              " 'hor': 3763,\n",
              " 'c': 1873,\n",
              " 'nah': 5015,\n",
              " 'think': 7161,\n",
              " 'go': 3415,\n",
              " 'usf': 7551,\n",
              " 'live': 4472,\n",
              " 'freemsg': 3244,\n",
              " 'hey': 3680,\n",
              " 'darle': 2453,\n",
              " '3': 545,\n",
              " 'week': 7757,\n",
              " 'word': 7896,\n",
              " 'like': 4440,\n",
              " 'fun': 3293,\n",
              " 'tb': 7047,\n",
              " 'xxx': 8020,\n",
              " 'std': 6779,\n",
              " 'chgs': 2061,\n",
              " 'send': 6366,\n",
              " 'å£1.50': 8151,\n",
              " 'rcv': 5962,\n",
              " 'brother': 1805,\n",
              " 'speak': 6683,\n",
              " 'treat': 7346,\n",
              " 'aids': 1176,\n",
              " 'patent': 5483,\n",
              " 'request': 6087,\n",
              " 'melle': 4762,\n",
              " 'oru': 5369,\n",
              " 'minnaminunginte': 4822,\n",
              " 'nurungu': 5221,\n",
              " 'vettam': 7601,\n",
              " 'set': 6387,\n",
              " 'callertune': 1901,\n",
              " 'caller': 1900,\n",
              " 'press': 5768,\n",
              " '9': 890,\n",
              " 'copy': 2286,\n",
              " 'friend': 3259,\n",
              " 'winner': 7843,\n",
              " 'value': 7577,\n",
              " 'network': 5081,\n",
              " 'customer': 2400,\n",
              " 'select': 6354,\n",
              " 'receivea': 5999,\n",
              " 'å£900': 8199,\n",
              " 'prize': 5797,\n",
              " 'reward': 6132,\n",
              " 'claim': 2114,\n",
              " '09061701461': 263,\n",
              " 'code': 2165,\n",
              " 'kl341': 4288,\n",
              " 'valid': 7574,\n",
              " '12': 379,\n",
              " 'hour': 3776,\n",
              " 'mobile': 4873,\n",
              " '11': 368,\n",
              " 'month': 4905,\n",
              " 'r': 5913,\n",
              " 'entitle': 2901,\n",
              " 'update': 7515,\n",
              " 'late': 4362,\n",
              " 'colour': 2184,\n",
              " 'camera': 1912,\n",
              " 'co': 2153,\n",
              " '08002986030': 104,\n",
              " 'to': 7242,\n",
              " 'home': 3736,\n",
              " 'soon': 6646,\n",
              " 'want': 7704,\n",
              " 'talk': 7019,\n",
              " 'stuff': 6863,\n",
              " 'anymore': 1289,\n",
              " 'tonight': 7284,\n",
              " 'k': 4191,\n",
              " 'cry': 2364,\n",
              " 'today': 7249,\n",
              " 'chance': 2009,\n",
              " 'cash': 1964,\n",
              " '100': 354,\n",
              " '20,000': 457,\n",
              " 'pound': 5715,\n",
              " '>': 922,\n",
              " 'csh11': 2366,\n",
              " '87575': 865,\n",
              " 'cost': 2298,\n",
              " '150p': 403,\n",
              " '/': 46,\n",
              " 'day': 2467,\n",
              " '6days': 749,\n",
              " '16': 413,\n",
              " '+': 14,\n",
              " 'tsandcs': 7376,\n",
              " 'reply': 6079,\n",
              " 'hl': 3708,\n",
              " '4': 604,\n",
              " 'info': 3957,\n",
              " 'urgent': 7528,\n",
              " '1': 334,\n",
              " 'membership': 4767,\n",
              " 'å£100,000': 8160,\n",
              " 'jackpot': 4087,\n",
              " '81010': 812,\n",
              " 't&c': 6995,\n",
              " 'www.dbuk.net': 7963,\n",
              " 'lccltd': 4381,\n",
              " 'pobox': 5639,\n",
              " '4403ldnw1a7rw18': 632,\n",
              " 'search': 6335,\n",
              " 'right': 6143,\n",
              " 'thank': 7118,\n",
              " 'breather': 1778,\n",
              " 'promise': 5828,\n",
              " 'will': 7832,\n",
              " 'not': 5175,\n",
              " 'help': 3655,\n",
              " 'grant': 3484,\n",
              " 'fulfil': 3290,\n",
              " 'wonderful': 7887,\n",
              " 'blessing': 1667,\n",
              " 'time': 7210,\n",
              " 'date': 2462,\n",
              " 'sunday': 6917,\n",
              " 'xxxmobilemovieclub': 8022,\n",
              " 'use': 7547,\n",
              " 'credit': 2344,\n",
              " 'click': 2130,\n",
              " 'wap': 7707,\n",
              " 'link': 4456,\n",
              " 'message': 4785,\n",
              " 'http://wap': 3803,\n",
              " 'xxxmobilemovieclub.com?n=qjkgighjjgcbl': 8023,\n",
              " 'oh': 5280,\n",
              " '...': 38,\n",
              " \"i'm\": 3849,\n",
              " 'watch': 7721,\n",
              " 'eh': 2842,\n",
              " 'remember': 6060,\n",
              " 'spell': 6696,\n",
              " 'yes': 8064,\n",
              " 'v': 7564,\n",
              " 'naughty': 5044,\n",
              " 'wet': 7790,\n",
              " 'fine': 3121,\n",
              " 'thatåõs': 7134,\n",
              " 'way': 7732,\n",
              " 'feel': 3081,\n",
              " 'gota': 3461,\n",
              " 'b': 1463,\n",
              " 'england': 2887,\n",
              " 'macedonia': 4617,\n",
              " 'miss': 4838,\n",
              " 'goal': 3419,\n",
              " 'team': 7056,\n",
              " 'news': 5090,\n",
              " 'ur': 7525,\n",
              " 'national': 5038,\n",
              " '87077': 859,\n",
              " 'eg': 2838,\n",
              " 'try': 7371,\n",
              " 'wale': 7688,\n",
              " 'scotland': 6317,\n",
              " '4txt': 663,\n",
              " 'ì¼1.20': 8209,\n",
              " 'poboxox36504w45wq': 5651,\n",
              " 'seriously': 6382,\n",
              " 'i\\x89û÷m': 4075,\n",
              " 'ha': 3554,\n",
              " 'ì': 8207,\n",
              " '_': 1036,\n",
              " 'pay': 5494,\n",
              " 'da': 2417,\n",
              " 'stock': 6803,\n",
              " 'comin': 2196,\n",
              " 'aft': 1145,\n",
              " 'finish': 3126,\n",
              " 'lunch': 4582,\n",
              " 'str': 6828,\n",
              " 'lor': 4520,\n",
              " 'ard': 1338,\n",
              " 'smth': 6596,\n",
              " 'ffffffffff': 3096,\n",
              " 'alright': 1220,\n",
              " 'meet': 4752,\n",
              " 'force': 3195,\n",
              " 'eat': 2813,\n",
              " 'slice': 6556,\n",
              " 'hungry': 3827,\n",
              " 'tho': 7174,\n",
              " 'suck': 6888,\n",
              " 'mark': 4682,\n",
              " 'worried': 7909,\n",
              " 'know': 4295,\n",
              " 'sick': 6487,\n",
              " 'turn': 7394,\n",
              " 'pizza': 5598,\n",
              " 'lol': 4502,\n",
              " 'convincing': 2278,\n",
              " 'catch': 1972,\n",
              " 'bus': 1848,\n",
              " 'fry': 3279,\n",
              " 'egg': 2840,\n",
              " 'tea': 7053,\n",
              " 'mom': 4891,\n",
              " 'leave': 4392,\n",
              " 'dinner': 2627,\n",
              " 'love': 4538,\n",
              " '&': 9,\n",
              " 'amp': 1243,\n",
              " 'pack': 5419,\n",
              " 'car': 1935,\n",
              " 'let': 4412,\n",
              " 'room': 6177,\n",
              " 'ahhh': 1171,\n",
              " 'work': 7899,\n",
              " 'vaguely': 7571,\n",
              " 'wait': 7683,\n",
              " 'clear': 2127,\n",
              " 'sure': 6940,\n",
              " 'sarcastic': 6275,\n",
              " 'yeah': 8053,\n",
              " 'apologetic': 1305,\n",
              " 'fall': 3042,\n",
              " 'actin': 1098,\n",
              " 'spoilt': 6719,\n",
              " 'child': 2072,\n",
              " 'till': 7208,\n",
              " 'badly': 1489,\n",
              " 'cheer': 2043,\n",
              " 'tell': 7071,\n",
              " 'fear': 3073,\n",
              " 'faint': 3035,\n",
              " 'housework': 3782,\n",
              " 'quick': 5904,\n",
              " 'cuppa': 2389,\n",
              " 'subscription': 6880,\n",
              " 'ringtone': 6149,\n",
              " 'uk': 7444,\n",
              " 'charge': 2017,\n",
              " 'å£5': 8185,\n",
              " 'confirm': 2242,\n",
              " 'yup': 8123,\n",
              " 'look': 4512,\n",
              " 'timing': 7217,\n",
              " 'msg': 4943,\n",
              " 'xuhui': 8016,\n",
              " 'learn': 4390,\n",
              " '2nd': 526,\n",
              " 'lesson': 4411,\n",
              " '8': 789,\n",
              " 'oops': 5331,\n",
              " 'roommate': 6179,\n",
              " 'letter': 4414,\n",
              " 'decide': 2501,\n",
              " 'hello': 3648,\n",
              " 'saturday': 6290,\n",
              " 'texte': 7108,\n",
              " 'tomo': 7270,\n",
              " 'invite': 4014,\n",
              " 'pls': 5625,\n",
              " 'ahead': 1170,\n",
              " 'watt': 7730,\n",
              " 'weekend': 7762,\n",
              " 'abiola': 1054,\n",
              " 'forget': 3202,\n",
              " 'need': 5062,\n",
              " 'crave': 2335,\n",
              " 'sweet': 6971,\n",
              " 'arabian': 1335,\n",
              " 'steed': 6785,\n",
              " 'mmmmmm': 4864,\n",
              " 'yummy': 8118,\n",
              " '07732584351': 77,\n",
              " 'rodger': 6168,\n",
              " 'burn': 1845,\n",
              " '=': 921,\n",
              " 'sms': 6589,\n",
              " 'nokia': 5149,\n",
              " 'camcorder': 1911,\n",
              " '08000930705': 100,\n",
              " 'delivery': 2533,\n",
              " 'tomorrow': 7273,\n",
              " 'see': 6347,\n",
              " 'hope': 3759,\n",
              " 'man': 4660,\n",
              " 'endow': 2878,\n",
              " '': 0,\n",
              " 'lt;#&gt': 4561,\n",
              " 'inch': 3927,\n",
              " 'call': 1889,\n",
              " 'hep': 3666,\n",
              " 'immunisation': 3907,\n",
              " 'nigeria': 5108,\n",
              " 'fair': 3036,\n",
              " 'hopefully': 3761,\n",
              " 'tyler': 7416,\n",
              " 'maybe': 4723,\n",
              " 'ask': 1378,\n",
              " 'bit': 1647,\n",
              " 'stubborn': 6854,\n",
              " 'hospital': 3769,\n",
              " 'keep': 4252,\n",
              " 'weak': 7737,\n",
              " 'sucker': 6889,\n",
              " 'class': 2120,\n",
              " 'gram': 3478,\n",
              " 'usually': 7556,\n",
              " 'run': 6210,\n",
              " 'half': 3568,\n",
              " 'eighth': 2844,\n",
              " 'smart': 6574,\n",
              " 'second': 6339,\n",
              " 'fyi': 3306,\n",
              " 'ride': 6142,\n",
              " 'morning': 4916,\n",
              " 'crash': 2334,\n",
              " 'place': 5600,\n",
              " 'wow': 7921,\n",
              " 'realize': 5982,\n",
              " 'embarasse': 2862,\n",
              " 'accomodation': 1083,\n",
              " 'good': 3440,\n",
              " 'happy': 3593,\n",
              " '\\\\the': 1021,\n",
              " 'cave\\\\': 1975,\n",
              " 'sorry': 6657,\n",
              " 'offer': 5267,\n",
              " 'embarassing': 2863,\n",
              " 'ac': 1069,\n",
              " 'sptv': 6736,\n",
              " 'new': 5086,\n",
              " 'jersey': 4128,\n",
              " 'devil': 2581,\n",
              " 'detroit': 2576,\n",
              " 'red': 6017,\n",
              " 'wing': 7842,\n",
              " 'play': 5612,\n",
              " 'ice': 3865,\n",
              " 'hockey': 3723,\n",
              " 'correct': 2291,\n",
              " 'incorrect': 3936,\n",
              " 'end': 2875,\n",
              " 'mallika': 4659,\n",
              " 'sherawat': 6426,\n",
              " 'yesterday': 8077,\n",
              " 'find': 3120,\n",
              " '@': 924,\n",
              " 'lt;url&gt': 4566,\n",
              " 'congrat': 2247,\n",
              " 'year': 8054,\n",
              " 'special': 6685,\n",
              " 'cinema': 2108,\n",
              " 'pass': 5474,\n",
              " '09061209465': 258,\n",
              " 'suprman': 6938,\n",
              " 'matrix3': 4711,\n",
              " 'starwars3': 6771,\n",
              " 'etc': 2938,\n",
              " 'bx420': 1866,\n",
              " 'ip4': 4020,\n",
              " '-': 19,\n",
              " '5we': 707,\n",
              " '150pm': 404,\n",
              " 'later': 4367,\n",
              " 'meeting': 4755,\n",
              " 'reach': 5967,\n",
              " 'gauti': 3338,\n",
              " 'sehwag': 6353,\n",
              " 'odi': 5260,\n",
              " 'series': 6381,\n",
              " 'pick': 5575,\n",
              " '$': 6,\n",
              " 'burger': 1842,\n",
              " 'pain': 5424,\n",
              " 'kill': 4274,\n",
              " 'girl': 3393,\n",
              " 'situation': 6526,\n",
              " 'seeker': 6350,\n",
              " 'check': 2037,\n",
              " 'iq': 4025,\n",
              " 'take': 7015,\n",
              " 'forever': 3198,\n",
              " 'come': 2190,\n",
              " 'double': 2720,\n",
              " 'hair': 3563,\n",
              " 'dresser': 2745,\n",
              " 'say': 6295,\n",
              " 'wun': 7948,\n",
              " 'cut': 2403,\n",
              " 'short': 6459,\n",
              " 'nice': 5101,\n",
              " 'pleased': 5619,\n",
              " 'advise': 1131,\n",
              " 'follow': 3181,\n",
              " 'recent': 6001,\n",
              " 'review': 6130,\n",
              " 'mob': 4871,\n",
              " 'award': 1450,\n",
              " 'å£1500': 8168,\n",
              " 'bonus': 1705,\n",
              " '09066364589': 306,\n",
              " '\\\\song': 1015,\n",
              " 'dedicated': 2508,\n",
              " '\\\\': 929,\n",
              " 'song': 6642,\n",
              " 'dedicate': 2507,\n",
              " 'valuable': 7576,\n",
              " 'frnd': 3266,\n",
              " 'rply': 6190,\n",
              " 'complimentary': 2221,\n",
              " 'trip': 7353,\n",
              " 'eurodisinc': 2943,\n",
              " 'trav': 7341,\n",
              " 'aco&entry41': 1096,\n",
              " 'å£1000': 8161,\n",
              " 'dis': 2638,\n",
              " '18': 418,\n",
              " '6*å£1.50(morefrmmob': 712,\n",
              " 'shracomorsglsuplt)10': 6473,\n",
              " 'ls1': 4556,\n",
              " '3aj': 583,\n",
              " 'hear': 3630,\n",
              " '\\\\divorce': 966,\n",
              " 'barbie\\\\': 1517,\n",
              " 'ken': 4255,\n",
              " 'plane': 5605,\n",
              " 'wah': 7675,\n",
              " 'lucky': 4575,\n",
              " 'save': 6293,\n",
              " 'money': 4897,\n",
              " 'hee': 3642,\n",
              " 'hi': 3685,\n",
              " 'babe': 1474,\n",
              " 'm': 4600,\n",
              " 'wanna': 7702,\n",
              " 'xx': 8017,\n",
              " '..': 37,\n",
              " 'k:)where': 4220,\n",
              " 'you?how': 8099,\n",
              " 'perform': 5525,\n",
              " 'machan': 4619,\n",
              " 's': 6220,\n",
              " 'cool': 2281,\n",
              " 'gentleman': 3364,\n",
              " 'dignity': 2618,\n",
              " 'respect': 6103,\n",
              " 'people': 5519,\n",
              " 'shy': 6482,\n",
              " 'pa': 5416,\n",
              " 'operate': 5336,\n",
              " 'job': 4143,\n",
              " 'ta': 7002,\n",
              " 'earn': 2805,\n",
              " 'k.': 4192,\n",
              " 'ah': 1163,\n",
              " 'stop': 6810,\n",
              " 'urgnt': 7532,\n",
              " 'sm': 6571,\n",
              " 'real': 5977,\n",
              " 'yo': 8086,\n",
              " 'ticket': 7198,\n",
              " 'jacket': 4086,\n",
              " 'multis': 4976,\n",
              " 'start': 6766,\n",
              " 'bed': 1574,\n",
              " 'coin': 2170,\n",
              " 'factory': 3028,\n",
              " 'nitro': 5126,\n",
              " 'ela': 2848,\n",
              " 'kano': 4237,\n",
              " ',il': 18,\n",
              " 'download': 2726,\n",
              " 'wen': 7777,\n",
              " 'don\\x89û÷t': 2710,\n",
              " 'stand': 6759,\n",
              " 'close': 2135,\n",
              " 'tho-': 7175,\n",
              " 'you\\x89û÷ll': 8109,\n",
              " 'night': 5110,\n",
              " 'spend': 6698,\n",
              " 'afternoon': 1147,\n",
              " 'casualty': 1970,\n",
              " 'mean': 4740,\n",
              " 'y': 8033,\n",
              " 'stuff42moro': 6865,\n",
              " 'include': 3930,\n",
              " 'sheet': 6422,\n",
              " 'smile': 6581,\n",
              " 'pleasure': 5621,\n",
              " 'trouble': 7358,\n",
              " 'pour': 5716,\n",
              " 'rain': 5926,\n",
              " 'sum1': 6909,\n",
              " 'hurt': 3835,\n",
              " 'becoz': 1572,\n",
              " 'service': 6385,\n",
              " 'representative': 6085,\n",
              " '0800': 96,\n",
              " '169': 416,\n",
              " '6031': 720,\n",
              " '10am-9pm': 363,\n",
              " 'guaranteed': 3528,\n",
              " 'å£5000': 8188,\n",
              " 'plan': 5604,\n",
              " 'buy': 1858,\n",
              " 'lido': 4423,\n",
              " '530': 693,\n",
              " 'collect': 2179,\n",
              " 'simply': 6505,\n",
              " 'password': 5480,\n",
              " '\\\\mix\\\\': 998,\n",
              " '85069': 846,\n",
              " 'verify': 7598,\n",
              " 'usher': 7552,\n",
              " 'britney': 1795,\n",
              " 'fml': 3175,\n",
              " 'telugu': 7076,\n",
              " 'movie': 4930,\n",
              " 'abt': 1064,\n",
              " 'load': 4484,\n",
              " 'loan': 4485,\n",
              " 'wk': 7864,\n",
              " 'hol': 3727,\n",
              " 'hairdresser': 3565,\n",
              " 'appointment': 1318,\n",
              " 'shower': 6470,\n",
              " 'cause': 1974,\n",
              " 'prob': 5802,\n",
              " 'u?\\\\': 7432,\n",
              " 'ham': 3575,\n",
              " 'okay': 5291,\n",
              " 'price': 5781,\n",
              " 'long': 4509,\n",
              " 'legal': 4399,\n",
              " 'ave': 1441,\n",
              " 'ams': 1247,\n",
              " '4the': 661,\n",
              " 'drive': 2750,\n",
              " 'test': 7096,\n",
              " 'guess': 3534,\n",
              " 'give': 3398,\n",
              " 'boston': 1724,\n",
              " 'change': 2010,\n",
              " 'location': 4488,\n",
              " 'nyc': 5231,\n",
              " 'cuz': 2408,\n",
              " 'signin': 6495,\n",
              " 'page': 5422,\n",
              " 'umma': 7451,\n",
              " 'life': 4425,\n",
              " 'vava': 7585,\n",
              " 'lot': 4525,\n",
              " 'dear': 2488,\n",
              " 'wish': 7851,\n",
              " 'birthday': 1645,\n",
              " 'make': 4652,\n",
              " 'truly': 7367,\n",
              " 'memorable': 4769,\n",
              " 'aight': 1178,\n",
              " 'hit': 3702,\n",
              " 'ip': 4019,\n",
              " 'address': 1113,\n",
              " 'consider': 2256,\n",
              " 'computer': 2226,\n",
              " 'minecraft': 4816,\n",
              " 'server': 6384,\n",
              " 'grumpy': 3521,\n",
              " 'old': 5302,\n",
              " 'well': 7772,\n",
              " 'lie': 4424,\n",
              " 'worry': 7911,\n",
              " 'busy': 1853,\n",
              " 'plural': 5631,\n",
              " 'noun': 5185,\n",
              " 'research': 6090,\n",
              " 'dinner.msg': 2628,\n",
              " 'cos': 2296,\n",
              " 'thing': 7160,\n",
              " 'scare': 6303,\n",
              " 'mah': 4641,\n",
              " 'loud': 4533,\n",
              " 'gent': 3362,\n",
              " 'contact': 2261,\n",
              " 'draw': 2738,\n",
              " 'show': 6469,\n",
              " 'guarantee': 3527,\n",
              " '09064012160': 282,\n",
              " 'k52': 4207,\n",
              " '12hrs': 389,\n",
              " '150ppm': 406,\n",
              " 'wa': 7670,\n",
              " 'openin': 5334,\n",
              " 'sentence': 6374,\n",
              " 'formal': 3209,\n",
              " 'juz': 4190,\n",
              " 'tt': 7382,\n",
              " 'eatin': 2814,\n",
              " 'puttin': 5883,\n",
              " 'weight': 7765,\n",
              " 'haha': 3559,\n",
              " 'anythin': 1293,\n",
              " 'happen': 3588,\n",
              " 'enter': 2895,\n",
              " 'cabin': 1877,\n",
              " \"b'day\": 1464,\n",
              " 'boss': 1723,\n",
              " 'askd': 1380,\n",
              " 'apartment': 1299,\n",
              " 'specially': 6689,\n",
              " '*': 13,\n",
              " 'holiday': 3732,\n",
              " 'flights': 3156,\n",
              " 'inc': 3926,\n",
              " 'operator': 5337,\n",
              " '0871277810910p': 170,\n",
              " 'min': 4809,\n",
              " 'goodo': 3450,\n",
              " 'friday': 3256,\n",
              " 'potato': 5711,\n",
              " 'ratio': 5953,\n",
              " 'tortilla': 7304,\n",
              " 'hmm': 3713,\n",
              " 'uncle': 7459,\n",
              " 'inform': 3961,\n",
              " 'school': 6310,\n",
              " 'directly': 2634,\n",
              " 'food': 3187,\n",
              " 'private': 5794,\n",
              " '2004': 461,\n",
              " 'account': 1087,\n",
              " 'statement': 6774,\n",
              " '07742676969': 79,\n",
              " '786': 781,\n",
              " 'unredeemed': 7499,\n",
              " '08719180248': 215,\n",
              " 'identifier': 3876,\n",
              " '45239': 639,\n",
              " 'expire': 3000,\n",
              " '.': 36,\n",
              " 'å£2000': 8173,\n",
              " '5/9/03': 681,\n",
              " '!': 1,\n",
              " 'landline': 4344,\n",
              " '09064019788': 288,\n",
              " 'box42wr29c': 1746,\n",
              " '-apples&pairs&all': 25,\n",
              " 'malarky': 4656,\n",
              " 'todays': 7255,\n",
              " 'voda': 7642,\n",
              " 'number': 5216,\n",
              " '7548': 776,\n",
              " '350': 571,\n",
              " 'match': 4702,\n",
              " '08712300220': 152,\n",
              " 'quote': 5912,\n",
              " '4041': 619,\n",
              " 'standard': 6760,\n",
              " 'rate': 5951,\n",
              " 'app': 1309,\n",
              " 'sao': 6269,\n",
              " 'mu': 4963,\n",
              " 'ìï': 8211,\n",
              " 'predict': 5746,\n",
              " \"ì_'ll\": 8208,\n",
              " 'yetunde': 8079,\n",
              " 'bother': 1726,\n",
              " 'involve': 4017,\n",
              " 'impose': 3914,\n",
              " 'apologise': 1306,\n",
              " 'del': 2525,\n",
              " 'bak': 1496,\n",
              " 'sum': 6908,\n",
              " 'lucyxx': 4579,\n",
              " 'k:)how': 4214,\n",
              " 'tmorrow.pls': 7237,\n",
              " 'accomodate': 1082,\n",
              " 'answer': 1279,\n",
              " 'question': 5902,\n",
              " 'sunshine': 6924,\n",
              " 'quiz': 5909,\n",
              " 'q': 5888,\n",
              " 'sony': 6643,\n",
              " 'dvd': 2791,\n",
              " 'player': 5613,\n",
              " 'country': 2311,\n",
              " 'algarve': 1203,\n",
              " 'ansr': 1278,\n",
              " '82277': 818,\n",
              " 'sp': 6672,\n",
              " 'tyrone': 7419,\n",
              " 'lay': 4378,\n",
              " 'dog': 2686,\n",
              " 'direct': 2633,\n",
              " 'join': 4149,\n",
              " 'large': 4358,\n",
              " 'bt': 1819,\n",
              " 'txte': 7411,\n",
              " 'gravel': 3489,\n",
              " '69888': 744,\n",
              " 'nt': 5206,\n",
              " 'ec2a': 2816,\n",
              " '31p.msg@150p': 564,\n",
              " 'haf': 3558,\n",
              " 'msn': 4955,\n",
              " 'yijue@hotmail.com': 8083,\n",
              " 'befor': 1584,\n",
              " 'activity': 1103,\n",
              " 'chat': 2027,\n",
              " 'svc': 6956,\n",
              " 'hardcore': 3595,\n",
              " '69988': 748,\n",
              " 'age': 1153,\n",
              " 'yr': 8114,\n",
              " 'lazy': 4379,\n",
              " 'type': 7417,\n",
              " 'lect': 4393,\n",
              " 'pouch': 5714,\n",
              " 'sir': 6517,\n",
              " 'mail': 4646,\n",
              " 'swt': 6984,\n",
              " 'thought': 7178,\n",
              " '\\\\nver': 1001,\n",
              " 'tired': 7219,\n",
              " 'little': 4471,\n",
              " 'lovable': 4537,\n",
              " 'person': 5537,\n",
              " 'coz': 2322,\n",
              " 'somtime': 6639,\n",
              " 'occupy': 5254,\n",
              " 'd': 2413,\n",
              " 'big': 1630,\n",
              " 'heart': 3633,\n",
              " 'gud': 3530,\n",
              " 'ni8': 5096,\n",
              " 'open': 5332,\n",
              " 'ya': 8038,\n",
              " 'dot': 2719,\n",
              " 'staff': 6752,\n",
              " 'randy': 5944,\n",
              " 'sexy': 6395,\n",
              " 'female': 3088,\n",
              " 'local': 4487,\n",
              " 'luv': 4588,\n",
              " 'u.': 7426,\n",
              " 'netcollex': 5078,\n",
              " 'ltd': 4567,\n",
              " '08700621170150p': 122,\n",
              " 'ummma.will': 7453,\n",
              " 'in.our': 3924,\n",
              " 'begin': 1588,\n",
              " 'qatar': 5889,\n",
              " 'pray': 5741,\n",
              " 'hard': 3594,\n",
              " 'delete': 2528,\n",
              " 'sindu': 6509,\n",
              " 'birla': 1641,\n",
              " 'soft': 6617,\n",
              " 'wine': 7841,\n",
              " 'flow': 3167,\n",
              " 'nevere': 5083,\n",
              " 'thk': 7168,\n",
              " 'plaza': 5617,\n",
              " 'typical': 7418,\n",
              " 'dirt': 2636,\n",
              " 'floor': 3164,\n",
              " 'window': 7838,\n",
              " 'shirt': 6438,\n",
              " 'mouth': 4928,\n",
              " 'comes': 2193,\n",
              " 'dream': 2740,\n",
              " 'chore': 2096,\n",
              " 'joy': 4165,\n",
              " 'tv': 7396,\n",
              " 'i.ll': 3852,\n",
              " 'exist': 2989,\n",
              " 'hail': 3562,\n",
              " 'mist': 4847,\n",
              " 'aaooooright': 1044,\n",
              " 'house': 3778,\n",
              " 'interview': 4003,\n",
              " 'boy': 1751,\n",
              " 'me?are': 4736,\n",
              " 'annoncement': 1270,\n",
              " '07046744435': 71,\n",
              " 'arrange': 1357,\n",
              " '0871277810810': 169,\n",
              " 'safe': 6245,\n",
              " 'envy': 2908,\n",
              " 'parents.:)i': 5456,\n",
              " 'hand': 3578,\n",
              " 'excited': 2979,\n",
              " '-pls': 31,\n",
              " 'bootydelious': 1715,\n",
              " '32': 565,\n",
              " 'f': 3018,\n",
              " 'yes-434': 8066,\n",
              " 'no-434': 5132,\n",
              " 'www.sms.ac/u/bootydelious': 7983,\n",
              " '62468': 727,\n",
              " 'bangbabe': 1510,\n",
              " 'order': 5358,\n",
              " 'content': 2263,\n",
              " 'goto': 3464,\n",
              " 'bangb': 1509,\n",
              " 'internet': 4002,\n",
              " 'menu': 4777,\n",
              " 'culture': 2383,\n",
              " 'module': 4885,\n",
              " '09061701939': 265,\n",
              " 's89': 6229,\n",
              " 'avoid': 1447,\n",
              " 'missunderstde': 4845,\n",
              " 'wit': 7856,\n",
              " 'beloved': 1600,\n",
              " 'escape': 2928,\n",
              " 'fancy': 3048,\n",
              " 'bridge': 1782,\n",
              " 'lager': 4336,\n",
              " 'completely': 2218,\n",
              " 'form:)clark': 3208,\n",
              " 'utter': 7558,\n",
              " 'waste': 7718,\n",
              " 'axis': 1458,\n",
              " 'bank': 1512,\n",
              " 'hmmm': 3714,\n",
              " 'hop': 3758,\n",
              " 'muz': 4997,\n",
              " 'discuss': 2649,\n",
              " 'liao': 4418,\n",
              " 'bloody': 1678,\n",
              " 'hell': 3646,\n",
              " 'believe': 1592,\n",
              " 'surname': 6946,\n",
              " 'mr': 4934,\n",
              " 'ill': 3894,\n",
              " 'clue': 2145,\n",
              " 'spanish': 6678,\n",
              " 'bath': 1537,\n",
              " 'carlos': 1953,\n",
              " 'mall': 4658,\n",
              " 'stay': 6777,\n",
              " 'til': 7207,\n",
              " '~': 8142,\n",
              " 'smoke': 6586,\n",
              " 'worth': 7913,\n",
              " 'log': 4493,\n",
              " 'maneesha': 4669,\n",
              " 'v.': 7565,\n",
              " 'satisfied': 6287,\n",
              " 'experience': 2996,\n",
              " 'toll': 7266,\n",
              " 'lift': 4435,\n",
              " 'especially': 2932,\n",
              " 'approach': 1320,\n",
              " 'studying': 6861,\n",
              " 'anyways': 1296,\n",
              " 'gr8': 3471,\n",
              " 'trust': 7369,\n",
              " 'guy': 3545,\n",
              " 'great.bye': 3496,\n",
              " 'handsome': 3581,\n",
              " 'net': 5077,\n",
              " 'mummy': 4980,\n",
              " 'boytoy': 1755,\n",
              " 'awesome': 1452,\n",
              " 'minute': 4829,\n",
              " 'freephone': 3245,\n",
              " '0808': 108,\n",
              " '145': 399,\n",
              " '4742': 642,\n",
              " '9am-11pm': 906,\n",
              " 'xmas': 8013,\n",
              " 'radio': 5919,\n",
              " 'jus': 4186,\n",
              " 'bathe': 1538,\n",
              " 'sis': 6519,\n",
              " 'unique': 7485,\n",
              " '30th': 559,\n",
              " 'august': 1424,\n",
              " 'www.areyouunique.co.uk': 7954,\n",
              " 'league': 4388,\n",
              " 'touch': 7313,\n",
              " 'deal': 2484,\n",
              " 'personal': 5540,\n",
              " 'week.|': 7760,\n",
              " 'finally': 3117,\n",
              " 'complete': 2217,\n",
              " 'course': 2316,\n",
              " 'suggest': 6900,\n",
              " 'able': 1056,\n",
              " 'or': 5351,\n",
              " 'stool': 6809,\n",
              " 'settle': 6389,\n",
              " 'wishin': 7853,\n",
              " 'mrng': 4937,\n",
              " 'hav': 3609,\n",
              " 'story': 6826,\n",
              " 'hamster': 3577,\n",
              " 'dead': 2482,\n",
              " 'tmr': 7238,\n",
              " 'pm': 5635,\n",
              " 'orchard': 5357,\n",
              " 'mrt': 4940,\n",
              " 'kate': 4244,\n",
              " 'evening': 2949,\n",
              " 'babyjontet': 1479,\n",
              " 'enc': 2874,\n",
              " 'buck': 1822,\n",
              " 'darlin': 2454,\n",
              " 've': 7588,\n",
              " 'college': 2182,\n",
              " 'refill': 6030,\n",
              " 'successfully': 6887,\n",
              " 'inr': 3978,\n",
              " 'lt;decimal&gt': 4563,\n",
              " 'keralacircle': 4258,\n",
              " 'prepay': 5757,\n",
              " 'balance': 1499,\n",
              " 'rs': 6192,\n",
              " 'transaction': 7332,\n",
              " 'kr': 4310,\n",
              " 'goodmorning': 3446,\n",
              " 'sleep': 6550,\n",
              " 'ga': 3313,\n",
              " 'alter': 1225,\n",
              " 'dat': 2461,\n",
              " 'ericsson': 2916,\n",
              " 'oso': 5372,\n",
              " 'oredi': 5360,\n",
              " 'straight': 6830,\n",
              " 'dogg': 2688,\n",
              " 'connection': 2252,\n",
              " 'refund': 6035,\n",
              " 'bill': 1632,\n",
              " 'shoot': 6452,\n",
              " 'ready': 5975,\n",
              " 'bruv': 1814,\n",
              " 'break': 1771,\n",
              " 'rewarding': 6133,\n",
              " 'semester': 6362,\n",
              " 'k:)k:)good:)study': 4218,\n",
              " 'noe': 5144,\n",
              " 'leh': 4401,\n",
              " 'sound': 6664,\n",
              " 'head': 3620,\n",
              " 'prediction': 5748,\n",
              " 'past': 5481,\n",
              " 'easy': 2812,\n",
              " 'ah?sen': 1166,\n",
              " 'exam': 2976,\n",
              " 'march': 4679,\n",
              " 'gt': 3524,\n",
              " 'atm': 1404,\n",
              " 'register': 6040,\n",
              " 'os': 5370,\n",
              " 'ubandu': 7435,\n",
              " ...}"
            ]
          },
          "metadata": {},
          "execution_count": 26
        }
      ]
    },
    {
      "cell_type": "markdown",
      "metadata": {
        "id": "bjHiiS8-fqki",
        "outputId": "692fbf12-b34e-4605-d009-7f0cb6e003ef"
      },
      "source": [
        "```\n",
        "# Convert class label to numeric 1 or 0\n",
        "y = sms.v1.map({'spam':1, 'ham':0})\n",
        "y\n",
        "```"
      ]
    },
    {
      "cell_type": "code",
      "source": [
        "y = sms.v1.map({'spam':1, 'ham':0})\n",
        "y"
      ],
      "metadata": {
        "id": "apUlidtOXh4g",
        "outputId": "5abfd702-8d3d-4052-dfac-dcb3554e1de4",
        "colab": {
          "base_uri": "https://localhost:8080/",
          "height": 459
        }
      },
      "execution_count": 27,
      "outputs": [
        {
          "output_type": "execute_result",
          "data": {
            "text/plain": [
              "0       0\n",
              "1       0\n",
              "2       1\n",
              "3       0\n",
              "4       0\n",
              "       ..\n",
              "5567    1\n",
              "5568    0\n",
              "5569    0\n",
              "5570    0\n",
              "5571    0\n",
              "Name: v1, Length: 5572, dtype: int64"
            ],
            "text/html": [
              "<div>\n",
              "<style scoped>\n",
              "    .dataframe tbody tr th:only-of-type {\n",
              "        vertical-align: middle;\n",
              "    }\n",
              "\n",
              "    .dataframe tbody tr th {\n",
              "        vertical-align: top;\n",
              "    }\n",
              "\n",
              "    .dataframe thead th {\n",
              "        text-align: right;\n",
              "    }\n",
              "</style>\n",
              "<table border=\"1\" class=\"dataframe\">\n",
              "  <thead>\n",
              "    <tr style=\"text-align: right;\">\n",
              "      <th></th>\n",
              "      <th>v1</th>\n",
              "    </tr>\n",
              "  </thead>\n",
              "  <tbody>\n",
              "    <tr>\n",
              "      <th>0</th>\n",
              "      <td>0</td>\n",
              "    </tr>\n",
              "    <tr>\n",
              "      <th>1</th>\n",
              "      <td>0</td>\n",
              "    </tr>\n",
              "    <tr>\n",
              "      <th>2</th>\n",
              "      <td>1</td>\n",
              "    </tr>\n",
              "    <tr>\n",
              "      <th>3</th>\n",
              "      <td>0</td>\n",
              "    </tr>\n",
              "    <tr>\n",
              "      <th>4</th>\n",
              "      <td>0</td>\n",
              "    </tr>\n",
              "    <tr>\n",
              "      <th>...</th>\n",
              "      <td>...</td>\n",
              "    </tr>\n",
              "    <tr>\n",
              "      <th>5567</th>\n",
              "      <td>1</td>\n",
              "    </tr>\n",
              "    <tr>\n",
              "      <th>5568</th>\n",
              "      <td>0</td>\n",
              "    </tr>\n",
              "    <tr>\n",
              "      <th>5569</th>\n",
              "      <td>0</td>\n",
              "    </tr>\n",
              "    <tr>\n",
              "      <th>5570</th>\n",
              "      <td>0</td>\n",
              "    </tr>\n",
              "    <tr>\n",
              "      <th>5571</th>\n",
              "      <td>0</td>\n",
              "    </tr>\n",
              "  </tbody>\n",
              "</table>\n",
              "<p>5572 rows × 1 columns</p>\n",
              "</div><br><label><b>dtype:</b> int64</label>"
            ]
          },
          "metadata": {},
          "execution_count": 27
        }
      ]
    },
    {
      "cell_type": "markdown",
      "metadata": {
        "id": "9hiAn4jof_p9"
      },
      "source": [
        "## Split data into training and test sets\n",
        "- We will use sklearn train_test_split to create training and test sets\n",
        "- We will 80% of the data as training set and the rest 20% for test"
      ]
    },
    {
      "cell_type": "markdown",
      "metadata": {
        "id": "UJKghQJIf904"
      },
      "source": [
        "```\n",
        "from sklearn.model_selection import train_test_split\n",
        "X_train, X_test, y_train, y_test = train_test_split(X, y, stratify=y, test_size=0.2, random_state=42)\n",
        "```"
      ]
    },
    {
      "cell_type": "code",
      "source": [
        "\n",
        "\n",
        "from sklearn.model_selection import train_test_split\n",
        "X_train, X_test, y_train, y_test = train_test_split(X, y, stratify=y, test_size=0.2, random_state=42)\n",
        "\n"
      ],
      "metadata": {
        "id": "JyxdezIFXi-S"
      },
      "execution_count": 28,
      "outputs": []
    },
    {
      "cell_type": "markdown",
      "metadata": {
        "id": "L1lVdTEtly6F"
      },
      "source": [
        "## Let us build a Naive Bayes Classifier"
      ]
    },
    {
      "cell_type": "markdown",
      "metadata": {
        "id": "Iy24k3mcloOP"
      },
      "source": [
        "```\n",
        "from sklearn.naive_bayes import MultinomialNB\n",
        "from sklearn.model_selection import cross_val_score\n",
        "cls = MultinomialNB()\n",
        "```"
      ]
    },
    {
      "cell_type": "code",
      "source": [
        "\n",
        "\n",
        "from sklearn.naive_bayes import MultinomialNB\n",
        "from sklearn.model_selection import cross_val_score\n",
        "cls = MultinomialNB()\n",
        "\n"
      ],
      "metadata": {
        "id": "H9uI9HjxXjzy"
      },
      "execution_count": 29,
      "outputs": []
    },
    {
      "cell_type": "markdown",
      "metadata": {
        "id": "24V9bF6pmVXL",
        "outputId": "578069c3-8716-4613-a002-896ea9e72ac8"
      },
      "source": [
        "```\n",
        "scores = cross_val_score(cls, X_train, y_train, scoring='accuracy')\n",
        "scores\n",
        "```"
      ]
    },
    {
      "cell_type": "code",
      "source": [
        "\n",
        "\n",
        "scores = cross_val_score(cls, X_train, y_train, scoring='accuracy')\n",
        "scores\n",
        "\n"
      ],
      "metadata": {
        "id": "MUx_vdg5XktM",
        "outputId": "57ca7a3d-b24f-4f0b-aff6-4c2ed8c9dd77",
        "colab": {
          "base_uri": "https://localhost:8080/"
        }
      },
      "execution_count": 30,
      "outputs": [
        {
          "output_type": "execute_result",
          "data": {
            "text/plain": [
              "array([0.97869955, 0.98318386, 0.98316498, 0.97643098, 0.97979798])"
            ]
          },
          "metadata": {},
          "execution_count": 30
        }
      ]
    },
    {
      "cell_type": "markdown",
      "metadata": {
        "id": "EnBSyntMmk7b",
        "outputId": "af2264af-7a75-40c7-9397-a775a587398e"
      },
      "source": [
        "```\n",
        "np.mean(scores)\n",
        "```"
      ]
    },
    {
      "cell_type": "code",
      "source": [
        "np.mean(scores)"
      ],
      "metadata": {
        "id": "gHfpmO23XlrB",
        "outputId": "dfc1e079-835e-409c-8274-978ae55eec88",
        "colab": {
          "base_uri": "https://localhost:8080/"
        }
      },
      "execution_count": 31,
      "outputs": [
        {
          "output_type": "execute_result",
          "data": {
            "text/plain": [
              "np.float64(0.9802554694931377)"
            ]
          },
          "metadata": {},
          "execution_count": 31
        }
      ]
    },
    {
      "cell_type": "markdown",
      "metadata": {
        "id": "h0pCXmHlmoys"
      },
      "source": [
        "## Test the classifier"
      ]
    },
    {
      "cell_type": "markdown",
      "metadata": {
        "id": "lSErek6so8Yv",
        "outputId": "46eb21cd-d2b4-453b-bcf1-1d45e1e34e57"
      },
      "source": [
        "```\n",
        "cls.fit(X_train, y_train)\n",
        "```"
      ]
    },
    {
      "cell_type": "code",
      "source": [
        "cls.fit(X_train, y_train)"
      ],
      "metadata": {
        "id": "8N3Ay3Y1Xmog",
        "outputId": "4cee92d5-60cf-47f7-ffcf-6cdd22071784",
        "colab": {
          "base_uri": "https://localhost:8080/",
          "height": 81
        }
      },
      "execution_count": 32,
      "outputs": [
        {
          "output_type": "execute_result",
          "data": {
            "text/plain": [
              "MultinomialNB()"
            ],
            "text/html": [
              "<style>#sk-container-id-1 {\n",
              "  /* Definition of color scheme common for light and dark mode */\n",
              "  --sklearn-color-text: #000;\n",
              "  --sklearn-color-text-muted: #666;\n",
              "  --sklearn-color-line: gray;\n",
              "  /* Definition of color scheme for unfitted estimators */\n",
              "  --sklearn-color-unfitted-level-0: #fff5e6;\n",
              "  --sklearn-color-unfitted-level-1: #f6e4d2;\n",
              "  --sklearn-color-unfitted-level-2: #ffe0b3;\n",
              "  --sklearn-color-unfitted-level-3: chocolate;\n",
              "  /* Definition of color scheme for fitted estimators */\n",
              "  --sklearn-color-fitted-level-0: #f0f8ff;\n",
              "  --sklearn-color-fitted-level-1: #d4ebff;\n",
              "  --sklearn-color-fitted-level-2: #b3dbfd;\n",
              "  --sklearn-color-fitted-level-3: cornflowerblue;\n",
              "\n",
              "  /* Specific color for light theme */\n",
              "  --sklearn-color-text-on-default-background: var(--sg-text-color, var(--theme-code-foreground, var(--jp-content-font-color1, black)));\n",
              "  --sklearn-color-background: var(--sg-background-color, var(--theme-background, var(--jp-layout-color0, white)));\n",
              "  --sklearn-color-border-box: var(--sg-text-color, var(--theme-code-foreground, var(--jp-content-font-color1, black)));\n",
              "  --sklearn-color-icon: #696969;\n",
              "\n",
              "  @media (prefers-color-scheme: dark) {\n",
              "    /* Redefinition of color scheme for dark theme */\n",
              "    --sklearn-color-text-on-default-background: var(--sg-text-color, var(--theme-code-foreground, var(--jp-content-font-color1, white)));\n",
              "    --sklearn-color-background: var(--sg-background-color, var(--theme-background, var(--jp-layout-color0, #111)));\n",
              "    --sklearn-color-border-box: var(--sg-text-color, var(--theme-code-foreground, var(--jp-content-font-color1, white)));\n",
              "    --sklearn-color-icon: #878787;\n",
              "  }\n",
              "}\n",
              "\n",
              "#sk-container-id-1 {\n",
              "  color: var(--sklearn-color-text);\n",
              "}\n",
              "\n",
              "#sk-container-id-1 pre {\n",
              "  padding: 0;\n",
              "}\n",
              "\n",
              "#sk-container-id-1 input.sk-hidden--visually {\n",
              "  border: 0;\n",
              "  clip: rect(1px 1px 1px 1px);\n",
              "  clip: rect(1px, 1px, 1px, 1px);\n",
              "  height: 1px;\n",
              "  margin: -1px;\n",
              "  overflow: hidden;\n",
              "  padding: 0;\n",
              "  position: absolute;\n",
              "  width: 1px;\n",
              "}\n",
              "\n",
              "#sk-container-id-1 div.sk-dashed-wrapped {\n",
              "  border: 1px dashed var(--sklearn-color-line);\n",
              "  margin: 0 0.4em 0.5em 0.4em;\n",
              "  box-sizing: border-box;\n",
              "  padding-bottom: 0.4em;\n",
              "  background-color: var(--sklearn-color-background);\n",
              "}\n",
              "\n",
              "#sk-container-id-1 div.sk-container {\n",
              "  /* jupyter's `normalize.less` sets `[hidden] { display: none; }`\n",
              "     but bootstrap.min.css set `[hidden] { display: none !important; }`\n",
              "     so we also need the `!important` here to be able to override the\n",
              "     default hidden behavior on the sphinx rendered scikit-learn.org.\n",
              "     See: https://github.com/scikit-learn/scikit-learn/issues/21755 */\n",
              "  display: inline-block !important;\n",
              "  position: relative;\n",
              "}\n",
              "\n",
              "#sk-container-id-1 div.sk-text-repr-fallback {\n",
              "  display: none;\n",
              "}\n",
              "\n",
              "div.sk-parallel-item,\n",
              "div.sk-serial,\n",
              "div.sk-item {\n",
              "  /* draw centered vertical line to link estimators */\n",
              "  background-image: linear-gradient(var(--sklearn-color-text-on-default-background), var(--sklearn-color-text-on-default-background));\n",
              "  background-size: 2px 100%;\n",
              "  background-repeat: no-repeat;\n",
              "  background-position: center center;\n",
              "}\n",
              "\n",
              "/* Parallel-specific style estimator block */\n",
              "\n",
              "#sk-container-id-1 div.sk-parallel-item::after {\n",
              "  content: \"\";\n",
              "  width: 100%;\n",
              "  border-bottom: 2px solid var(--sklearn-color-text-on-default-background);\n",
              "  flex-grow: 1;\n",
              "}\n",
              "\n",
              "#sk-container-id-1 div.sk-parallel {\n",
              "  display: flex;\n",
              "  align-items: stretch;\n",
              "  justify-content: center;\n",
              "  background-color: var(--sklearn-color-background);\n",
              "  position: relative;\n",
              "}\n",
              "\n",
              "#sk-container-id-1 div.sk-parallel-item {\n",
              "  display: flex;\n",
              "  flex-direction: column;\n",
              "}\n",
              "\n",
              "#sk-container-id-1 div.sk-parallel-item:first-child::after {\n",
              "  align-self: flex-end;\n",
              "  width: 50%;\n",
              "}\n",
              "\n",
              "#sk-container-id-1 div.sk-parallel-item:last-child::after {\n",
              "  align-self: flex-start;\n",
              "  width: 50%;\n",
              "}\n",
              "\n",
              "#sk-container-id-1 div.sk-parallel-item:only-child::after {\n",
              "  width: 0;\n",
              "}\n",
              "\n",
              "/* Serial-specific style estimator block */\n",
              "\n",
              "#sk-container-id-1 div.sk-serial {\n",
              "  display: flex;\n",
              "  flex-direction: column;\n",
              "  align-items: center;\n",
              "  background-color: var(--sklearn-color-background);\n",
              "  padding-right: 1em;\n",
              "  padding-left: 1em;\n",
              "}\n",
              "\n",
              "\n",
              "/* Toggleable style: style used for estimator/Pipeline/ColumnTransformer box that is\n",
              "clickable and can be expanded/collapsed.\n",
              "- Pipeline and ColumnTransformer use this feature and define the default style\n",
              "- Estimators will overwrite some part of the style using the `sk-estimator` class\n",
              "*/\n",
              "\n",
              "/* Pipeline and ColumnTransformer style (default) */\n",
              "\n",
              "#sk-container-id-1 div.sk-toggleable {\n",
              "  /* Default theme specific background. It is overwritten whether we have a\n",
              "  specific estimator or a Pipeline/ColumnTransformer */\n",
              "  background-color: var(--sklearn-color-background);\n",
              "}\n",
              "\n",
              "/* Toggleable label */\n",
              "#sk-container-id-1 label.sk-toggleable__label {\n",
              "  cursor: pointer;\n",
              "  display: flex;\n",
              "  width: 100%;\n",
              "  margin-bottom: 0;\n",
              "  padding: 0.5em;\n",
              "  box-sizing: border-box;\n",
              "  text-align: center;\n",
              "  align-items: start;\n",
              "  justify-content: space-between;\n",
              "  gap: 0.5em;\n",
              "}\n",
              "\n",
              "#sk-container-id-1 label.sk-toggleable__label .caption {\n",
              "  font-size: 0.6rem;\n",
              "  font-weight: lighter;\n",
              "  color: var(--sklearn-color-text-muted);\n",
              "}\n",
              "\n",
              "#sk-container-id-1 label.sk-toggleable__label-arrow:before {\n",
              "  /* Arrow on the left of the label */\n",
              "  content: \"▸\";\n",
              "  float: left;\n",
              "  margin-right: 0.25em;\n",
              "  color: var(--sklearn-color-icon);\n",
              "}\n",
              "\n",
              "#sk-container-id-1 label.sk-toggleable__label-arrow:hover:before {\n",
              "  color: var(--sklearn-color-text);\n",
              "}\n",
              "\n",
              "/* Toggleable content - dropdown */\n",
              "\n",
              "#sk-container-id-1 div.sk-toggleable__content {\n",
              "  max-height: 0;\n",
              "  max-width: 0;\n",
              "  overflow: hidden;\n",
              "  text-align: left;\n",
              "  /* unfitted */\n",
              "  background-color: var(--sklearn-color-unfitted-level-0);\n",
              "}\n",
              "\n",
              "#sk-container-id-1 div.sk-toggleable__content.fitted {\n",
              "  /* fitted */\n",
              "  background-color: var(--sklearn-color-fitted-level-0);\n",
              "}\n",
              "\n",
              "#sk-container-id-1 div.sk-toggleable__content pre {\n",
              "  margin: 0.2em;\n",
              "  border-radius: 0.25em;\n",
              "  color: var(--sklearn-color-text);\n",
              "  /* unfitted */\n",
              "  background-color: var(--sklearn-color-unfitted-level-0);\n",
              "}\n",
              "\n",
              "#sk-container-id-1 div.sk-toggleable__content.fitted pre {\n",
              "  /* unfitted */\n",
              "  background-color: var(--sklearn-color-fitted-level-0);\n",
              "}\n",
              "\n",
              "#sk-container-id-1 input.sk-toggleable__control:checked~div.sk-toggleable__content {\n",
              "  /* Expand drop-down */\n",
              "  max-height: 200px;\n",
              "  max-width: 100%;\n",
              "  overflow: auto;\n",
              "}\n",
              "\n",
              "#sk-container-id-1 input.sk-toggleable__control:checked~label.sk-toggleable__label-arrow:before {\n",
              "  content: \"▾\";\n",
              "}\n",
              "\n",
              "/* Pipeline/ColumnTransformer-specific style */\n",
              "\n",
              "#sk-container-id-1 div.sk-label input.sk-toggleable__control:checked~label.sk-toggleable__label {\n",
              "  color: var(--sklearn-color-text);\n",
              "  background-color: var(--sklearn-color-unfitted-level-2);\n",
              "}\n",
              "\n",
              "#sk-container-id-1 div.sk-label.fitted input.sk-toggleable__control:checked~label.sk-toggleable__label {\n",
              "  background-color: var(--sklearn-color-fitted-level-2);\n",
              "}\n",
              "\n",
              "/* Estimator-specific style */\n",
              "\n",
              "/* Colorize estimator box */\n",
              "#sk-container-id-1 div.sk-estimator input.sk-toggleable__control:checked~label.sk-toggleable__label {\n",
              "  /* unfitted */\n",
              "  background-color: var(--sklearn-color-unfitted-level-2);\n",
              "}\n",
              "\n",
              "#sk-container-id-1 div.sk-estimator.fitted input.sk-toggleable__control:checked~label.sk-toggleable__label {\n",
              "  /* fitted */\n",
              "  background-color: var(--sklearn-color-fitted-level-2);\n",
              "}\n",
              "\n",
              "#sk-container-id-1 div.sk-label label.sk-toggleable__label,\n",
              "#sk-container-id-1 div.sk-label label {\n",
              "  /* The background is the default theme color */\n",
              "  color: var(--sklearn-color-text-on-default-background);\n",
              "}\n",
              "\n",
              "/* On hover, darken the color of the background */\n",
              "#sk-container-id-1 div.sk-label:hover label.sk-toggleable__label {\n",
              "  color: var(--sklearn-color-text);\n",
              "  background-color: var(--sklearn-color-unfitted-level-2);\n",
              "}\n",
              "\n",
              "/* Label box, darken color on hover, fitted */\n",
              "#sk-container-id-1 div.sk-label.fitted:hover label.sk-toggleable__label.fitted {\n",
              "  color: var(--sklearn-color-text);\n",
              "  background-color: var(--sklearn-color-fitted-level-2);\n",
              "}\n",
              "\n",
              "/* Estimator label */\n",
              "\n",
              "#sk-container-id-1 div.sk-label label {\n",
              "  font-family: monospace;\n",
              "  font-weight: bold;\n",
              "  display: inline-block;\n",
              "  line-height: 1.2em;\n",
              "}\n",
              "\n",
              "#sk-container-id-1 div.sk-label-container {\n",
              "  text-align: center;\n",
              "}\n",
              "\n",
              "/* Estimator-specific */\n",
              "#sk-container-id-1 div.sk-estimator {\n",
              "  font-family: monospace;\n",
              "  border: 1px dotted var(--sklearn-color-border-box);\n",
              "  border-radius: 0.25em;\n",
              "  box-sizing: border-box;\n",
              "  margin-bottom: 0.5em;\n",
              "  /* unfitted */\n",
              "  background-color: var(--sklearn-color-unfitted-level-0);\n",
              "}\n",
              "\n",
              "#sk-container-id-1 div.sk-estimator.fitted {\n",
              "  /* fitted */\n",
              "  background-color: var(--sklearn-color-fitted-level-0);\n",
              "}\n",
              "\n",
              "/* on hover */\n",
              "#sk-container-id-1 div.sk-estimator:hover {\n",
              "  /* unfitted */\n",
              "  background-color: var(--sklearn-color-unfitted-level-2);\n",
              "}\n",
              "\n",
              "#sk-container-id-1 div.sk-estimator.fitted:hover {\n",
              "  /* fitted */\n",
              "  background-color: var(--sklearn-color-fitted-level-2);\n",
              "}\n",
              "\n",
              "/* Specification for estimator info (e.g. \"i\" and \"?\") */\n",
              "\n",
              "/* Common style for \"i\" and \"?\" */\n",
              "\n",
              ".sk-estimator-doc-link,\n",
              "a:link.sk-estimator-doc-link,\n",
              "a:visited.sk-estimator-doc-link {\n",
              "  float: right;\n",
              "  font-size: smaller;\n",
              "  line-height: 1em;\n",
              "  font-family: monospace;\n",
              "  background-color: var(--sklearn-color-background);\n",
              "  border-radius: 1em;\n",
              "  height: 1em;\n",
              "  width: 1em;\n",
              "  text-decoration: none !important;\n",
              "  margin-left: 0.5em;\n",
              "  text-align: center;\n",
              "  /* unfitted */\n",
              "  border: var(--sklearn-color-unfitted-level-1) 1pt solid;\n",
              "  color: var(--sklearn-color-unfitted-level-1);\n",
              "}\n",
              "\n",
              ".sk-estimator-doc-link.fitted,\n",
              "a:link.sk-estimator-doc-link.fitted,\n",
              "a:visited.sk-estimator-doc-link.fitted {\n",
              "  /* fitted */\n",
              "  border: var(--sklearn-color-fitted-level-1) 1pt solid;\n",
              "  color: var(--sklearn-color-fitted-level-1);\n",
              "}\n",
              "\n",
              "/* On hover */\n",
              "div.sk-estimator:hover .sk-estimator-doc-link:hover,\n",
              ".sk-estimator-doc-link:hover,\n",
              "div.sk-label-container:hover .sk-estimator-doc-link:hover,\n",
              ".sk-estimator-doc-link:hover {\n",
              "  /* unfitted */\n",
              "  background-color: var(--sklearn-color-unfitted-level-3);\n",
              "  color: var(--sklearn-color-background);\n",
              "  text-decoration: none;\n",
              "}\n",
              "\n",
              "div.sk-estimator.fitted:hover .sk-estimator-doc-link.fitted:hover,\n",
              ".sk-estimator-doc-link.fitted:hover,\n",
              "div.sk-label-container:hover .sk-estimator-doc-link.fitted:hover,\n",
              ".sk-estimator-doc-link.fitted:hover {\n",
              "  /* fitted */\n",
              "  background-color: var(--sklearn-color-fitted-level-3);\n",
              "  color: var(--sklearn-color-background);\n",
              "  text-decoration: none;\n",
              "}\n",
              "\n",
              "/* Span, style for the box shown on hovering the info icon */\n",
              ".sk-estimator-doc-link span {\n",
              "  display: none;\n",
              "  z-index: 9999;\n",
              "  position: relative;\n",
              "  font-weight: normal;\n",
              "  right: .2ex;\n",
              "  padding: .5ex;\n",
              "  margin: .5ex;\n",
              "  width: min-content;\n",
              "  min-width: 20ex;\n",
              "  max-width: 50ex;\n",
              "  color: var(--sklearn-color-text);\n",
              "  box-shadow: 2pt 2pt 4pt #999;\n",
              "  /* unfitted */\n",
              "  background: var(--sklearn-color-unfitted-level-0);\n",
              "  border: .5pt solid var(--sklearn-color-unfitted-level-3);\n",
              "}\n",
              "\n",
              ".sk-estimator-doc-link.fitted span {\n",
              "  /* fitted */\n",
              "  background: var(--sklearn-color-fitted-level-0);\n",
              "  border: var(--sklearn-color-fitted-level-3);\n",
              "}\n",
              "\n",
              ".sk-estimator-doc-link:hover span {\n",
              "  display: block;\n",
              "}\n",
              "\n",
              "/* \"?\"-specific style due to the `<a>` HTML tag */\n",
              "\n",
              "#sk-container-id-1 a.estimator_doc_link {\n",
              "  float: right;\n",
              "  font-size: 1rem;\n",
              "  line-height: 1em;\n",
              "  font-family: monospace;\n",
              "  background-color: var(--sklearn-color-background);\n",
              "  border-radius: 1rem;\n",
              "  height: 1rem;\n",
              "  width: 1rem;\n",
              "  text-decoration: none;\n",
              "  /* unfitted */\n",
              "  color: var(--sklearn-color-unfitted-level-1);\n",
              "  border: var(--sklearn-color-unfitted-level-1) 1pt solid;\n",
              "}\n",
              "\n",
              "#sk-container-id-1 a.estimator_doc_link.fitted {\n",
              "  /* fitted */\n",
              "  border: var(--sklearn-color-fitted-level-1) 1pt solid;\n",
              "  color: var(--sklearn-color-fitted-level-1);\n",
              "}\n",
              "\n",
              "/* On hover */\n",
              "#sk-container-id-1 a.estimator_doc_link:hover {\n",
              "  /* unfitted */\n",
              "  background-color: var(--sklearn-color-unfitted-level-3);\n",
              "  color: var(--sklearn-color-background);\n",
              "  text-decoration: none;\n",
              "}\n",
              "\n",
              "#sk-container-id-1 a.estimator_doc_link.fitted:hover {\n",
              "  /* fitted */\n",
              "  background-color: var(--sklearn-color-fitted-level-3);\n",
              "}\n",
              "</style><div id=\"sk-container-id-1\" class=\"sk-top-container\"><div class=\"sk-text-repr-fallback\"><pre>MultinomialNB()</pre><b>In a Jupyter environment, please rerun this cell to show the HTML representation or trust the notebook. <br />On GitHub, the HTML representation is unable to render, please try loading this page with nbviewer.org.</b></div><div class=\"sk-container\" hidden><div class=\"sk-item\"><div class=\"sk-estimator fitted sk-toggleable\"><input class=\"sk-toggleable__control sk-hidden--visually\" id=\"sk-estimator-id-1\" type=\"checkbox\" checked><label for=\"sk-estimator-id-1\" class=\"sk-toggleable__label fitted sk-toggleable__label-arrow\"><div><div>MultinomialNB</div></div><div><a class=\"sk-estimator-doc-link fitted\" rel=\"noreferrer\" target=\"_blank\" href=\"https://scikit-learn.org/1.6/modules/generated/sklearn.naive_bayes.MultinomialNB.html\">?<span>Documentation for MultinomialNB</span></a><span class=\"sk-estimator-doc-link fitted\">i<span>Fitted</span></span></div></label><div class=\"sk-toggleable__content fitted\"><pre>MultinomialNB()</pre></div> </div></div></div></div>"
            ]
          },
          "metadata": {},
          "execution_count": 32
        }
      ]
    },
    {
      "cell_type": "markdown",
      "metadata": {
        "id": "HuQkjwuNmnYx",
        "outputId": "88c341c5-9c07-4ca9-9d3c-3da8913c46ae"
      },
      "source": [
        "```\n",
        "from sklearn.metrics import precision_score, recall_score, f1_score, accuracy_score\n",
        "preds = cls.predict(X_test)\n",
        "print(\"Precision: {}\".format(precision_score(preds, y_test)))\n",
        "print(\"Recall: {}\".format(recall_score(preds, y_test)))\n",
        "print(\"F1-Measure: {}\".format(f1_score(preds, y_test)))\n",
        "print(\"Accuracy: {}\".format(accuracy_score(preds, y_test)))\n",
        "```"
      ]
    },
    {
      "cell_type": "code",
      "source": [
        "\n",
        "\n",
        "from sklearn.metrics import precision_score, recall_score, f1_score, accuracy_score\n",
        "preds = cls.predict(X_test)\n",
        "print(\"Precision: {}\".format(precision_score(preds, y_test)))\n",
        "print(\"Recall: {}\".format(recall_score(preds, y_test)))\n",
        "print(\"F1-Measure: {}\".format(f1_score(preds, y_test)))\n",
        "print(\"Accuracy: {}\".format(accuracy_score(preds, y_test)))\n",
        "\n"
      ],
      "metadata": {
        "id": "26nyjYQwXn45",
        "outputId": "e67a7053-51d9-42d3-dc94-253d79d86c28",
        "colab": {
          "base_uri": "https://localhost:8080/"
        }
      },
      "execution_count": 33,
      "outputs": [
        {
          "output_type": "stream",
          "name": "stdout",
          "text": [
            "Precision: 0.9328859060402684\n",
            "Recall: 0.9144736842105263\n",
            "F1-Measure: 0.9235880398671097\n",
            "Accuracy: 0.979372197309417\n"
          ]
        }
      ]
    },
    {
      "cell_type": "markdown",
      "source": [
        "## Retrieval Practice"
      ],
      "metadata": {
        "id": "9OA0HotijfmV"
      }
    },
    {
      "cell_type": "markdown",
      "metadata": {
        "id": "G2qTZ4F2nJGU"
      },
      "source": [
        "```\n",
        "\n",
        "```"
      ]
    }
  ]
}