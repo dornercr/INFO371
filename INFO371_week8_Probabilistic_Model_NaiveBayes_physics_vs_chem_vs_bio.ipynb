{
  "nbformat": 4,
  "nbformat_minor": 0,
  "metadata": {
    "colab": {
      "provenance": [],
      "include_colab_link": true
    },
    "kernelspec": {
      "name": "python3",
      "display_name": "Python 3"
    },
    "language_info": {
      "name": "python"
    }
  },
  "cells": [
    {
      "cell_type": "markdown",
      "metadata": {
        "id": "view-in-github",
        "colab_type": "text"
      },
      "source": [
        "<a href=\"https://colab.research.google.com/github/dornercr/INFO371/blob/main/INFO371_week8_Probabilistic_Model_NaiveBayes_physics_vs_chem_vs_bio.ipynb\" target=\"_parent\"><img src=\"https://colab.research.google.com/assets/colab-badge.svg\" alt=\"Open In Colab\"/></a>"
      ]
    },
    {
      "cell_type": "markdown",
      "metadata": {
        "id": "KpAkZ28jzc9L"
      },
      "source": [
        "# INFO 371: Data Mining Applications\n",
        "\n",
        "## Week 8: Probabilitic Model and Naive Bayes\n",
        "### Prof. Charles Dorner, EdD (Candidate)\n",
        "### College of Computing and Informatics, Drexel University"
      ]
    },
    {
      "cell_type": "markdown",
      "source": [
        "# A probabilistic classifier:\n",
        "- Given an observation of an input\n",
        "- Predict a probability distribution over a set of classes\n",
        "- rather than only outputting the most likely class that the observation should belong to.\n",
        "\n",
        "## For example,\n",
        "- Given an Email as a text document:\n",
        " - $Pr(Spam|Email)$ = 0.7\n",
        " - $Pr(Not\\_Spam|Email)$| = 0.3\n"
      ],
      "metadata": {
        "id": "xvgOwOSMto9O"
      }
    },
    {
      "cell_type": "markdown",
      "source": [
        "# Bayes' Theorem in the Context of Data Mining\n",
        "\n",
        "\\begin{equation}\n",
        "P(H \\mid D) = \\frac{P(D \\mid H) P(H)}{P(D)}\n",
        "\\end{equation}\n",
        "\n",
        "- $P(H∣D)$: Posterior Probability: The probability of hypothesis\n",
        "$𝐻$ (e.g., a model or pattern being true) given the observed data $𝐷$.\n",
        "\n",
        "- $P(D∣H)$: Likelihood: The probability of the data occurring given that hypothesis $𝐻$. In data mining, this represents how well the data supports a specific model.\n",
        "\n",
        "- $P(H)$: Prior Probability: The initial belief about hypothesis\n",
        "$𝐻$ before observing the data. In data mining, this may come from domain knowledge or historical patterns.\n",
        "\n",
        "- $P(D)$: Evidence (Marginal Probability of Data): The overall probability of observing the data, regardless of which hypothesis is true. This acts as a normalizing factor.\n"
      ],
      "metadata": {
        "id": "UmAajeF7u150"
      }
    },
    {
      "cell_type": "markdown",
      "source": [
        "# Probability Rules for Two Events \\( A \\) and \\( B \\)\n",
        "\n",
        "## 1. Mutually Exclusive Events\n",
        "Two events \\( A \\) and \\( B \\) are **mutually exclusive** if they cannot occur together. That is:\n",
        "\n",
        "$$\n",
        "P(A \\cap B) = 0\n",
        "$$\n",
        "\n",
        "Using the addition rule:\n",
        "\n",
        "$$\n",
        "P(A \\cup B) = P(A) + P(B)\n",
        "$$\n",
        "\n",
        "## 2. Not Mutually Exclusive Events\n",
        "If \\( A \\) and \\( B \\) are **not mutually exclusive**, they can occur together. The general addition rule applies:\n",
        "\n",
        "$$\n",
        "P(A \\cup B) = P(A) + P(B) - P(A \\cap B)\n",
        "$$\n",
        "\n",
        "## 3. Independent Events\n",
        "Two events \\( A \\) and \\( B \\) are **independent** if the occurrence of one does not affect the probability of the other. This means:\n",
        "\n",
        "$$\n",
        "P(A \\cap B) = P(A) P(B)\n",
        "$$\n",
        "\n",
        "## 4. Dependent Events\n",
        "If \\( A \\) and \\( B \\) are **dependent**, the probability of one event depends on the occurrence of the other. The conditional probability rule applies:\n",
        "\n",
        "$$\n",
        "P(A \\cap B) = P(A \\mid B) P(B) = P(B \\mid A) P(A)\n",
        "$$\n"
      ],
      "metadata": {
        "id": "pIxEHfWbxV9G"
      }
    },
    {
      "cell_type": "code",
      "source": [
        "# === INFO 371 – Week 8: Probabilistic Model and Naive Bayes ===\n",
        "import pandas as pd\n",
        "import numpy as np\n",
        "import matplotlib.pyplot as plt\n",
        "import spacy\n",
        "from collections import Counter\n",
        "from nltk.stem import PorterStemmer\n",
        "from sklearn.feature_extraction.text import CountVectorizer\n",
        "from sklearn.model_selection import train_test_split, cross_val_score\n",
        "from sklearn.naive_bayes import MultinomialNB\n",
        "from sklearn.metrics import precision_score, recall_score, f1_score, accuracy_score\n",
        "\n",
        "print(\"🔹 Libraries loaded successfully.\")\n",
        "\n",
        "# Load SpaCy and stemmer\n",
        "nlp = spacy.load(\"en_core_web_sm\")\n",
        "stemmer = PorterStemmer()\n",
        "print(\"🔹 SpaCy and stemmer initialized.\")\n",
        "\n",
        "# === A. Naive Bayes Toy Example ===\n",
        "print(\"\\n=== A. Toy Example Sentiment Classification ===\")\n",
        "s = {\n",
        "    \"The author is making big money\": 1,\n",
        "    \"Irony but fascinating\": 1,\n",
        "    \"don’t waste money on it\": 0\n",
        "}\n",
        "\n",
        "word_freq_pos = Counter()\n",
        "word_freq_neg = Counter()\n",
        "\n",
        "for sentence in s:\n",
        "    doc = nlp(sentence.lower())\n",
        "    words = [stemmer.stem(token.lemma_.lower()) for token in doc if token.is_alpha]\n",
        "    if s[sentence] == 1:\n",
        "        word_freq_pos.update(words)\n",
        "    else:\n",
        "        word_freq_neg.update(words)\n",
        "\n",
        "print(\"✅ Word frequencies calculated for toy dataset.\")\n",
        "\n",
        "word_prob_pos = {word: c / sum(word_freq_pos.values()) for word, c in word_freq_pos.items()}\n",
        "word_prob_neg = {word: c / sum(word_freq_neg.values()) for word, c in word_freq_neg.items()}\n",
        "\n",
        "print(\"✅ Conditional probabilities computed.\")\n",
        "\n",
        "# Classify: \"money wasted, fascinated\"\n",
        "ss = \"money wasted, fascinated\"\n",
        "doc = nlp(ss.lower())\n",
        "words = [stemmer.stem(token.lemma_.lower()) for token in doc if token.is_alpha]\n",
        "\n",
        "Pr_1 = np.prod([word_prob_pos.get(w, 1e-6) for w in words])\n",
        "Pr_0 = np.prod([word_prob_neg.get(w, 1e-6) for w in words])\n",
        "Pr_1_norm = Pr_1 / (Pr_1 + Pr_0)\n",
        "Pr_0_norm = Pr_0 / (Pr_1 + Pr_0)\n",
        "\n",
        "print(\"🔍 Sentence classified using manual Naive Bayes:\")\n",
        "print(\"Sentence:\", ss)\n",
        "print(\"Pr(pos|s):\", round(Pr_1_norm, 4))\n",
        "print(\"Pr(neg|s):\", round(Pr_0_norm, 4))\n",
        "\n",
        "# === B. Full Naive Bayes Classifier Using CSV ===\n",
        "print(\"\\n=== B. Real Dataset Classifier from CSV ===\")\n",
        "df = pd.read_csv(\"train.csv\")\n",
        "print(f\"📂 Data loaded: {df.shape[0]} rows, {df.shape[1]} columns\")\n",
        "print(\"🧾 First few rows:\")\n",
        "print(df.head())\n",
        "\n",
        "# Preprocessing function\n",
        "def spacy_tokenizer(sentence):\n",
        "    doc = nlp(str(sentence))\n",
        "    tokens = [stemmer.stem(token.lemma_.lower().strip()) for token in doc if not token.is_stop and token.is_alpha]\n",
        "    return tokens\n",
        "\n",
        "print(\"🔧 Custom tokenizer ready.\")\n",
        "\n",
        "# Vectorization\n",
        "vectorizer = CountVectorizer(tokenizer=spacy_tokenizer, ngram_range=(1,1))\n",
        "X = vectorizer.fit_transform(df['Comment'])\n",
        "y = df['Topic'].astype('category').cat.codes\n",
        "print(f\"📊 Vectorization complete. Shape of X: {X.shape}\")\n",
        "\n",
        "# Train-test split\n",
        "X_train, X_test, y_train, y_test = train_test_split(X, y, stratify=y, test_size=0.2, random_state=42)\n",
        "print(\"🧪 Data split: 80% train, 20% test\")\n",
        "\n",
        "# Train Naive Bayes\n",
        "clf = MultinomialNB()\n",
        "clf.fit(X_train, y_train)\n",
        "print(\"✅ Model trained using Multinomial Naive Bayes\")\n",
        "\n",
        "# Cross-validation\n",
        "cv_scores = cross_val_score(clf, X_train, y_train, scoring='accuracy')\n",
        "print(\"\\n📈 Cross-Validation Scores:\", cv_scores)\n",
        "print(\"📊 Mean CV Accuracy:\", round(np.mean(cv_scores), 4))\n",
        "\n",
        "# Evaluate on test set\n",
        "preds = clf.predict(X_test)\n",
        "print(\"\\n🧾 Evaluation on Test Set\")\n",
        "print(\"Precision:\", round(precision_score(y_test, preds, average='weighted'), 4))\n",
        "print(\"Recall:\", round(recall_score(y_test, preds, average='weighted'), 4))\n",
        "print(\"F1 Score:\", round(f1_score(y_test, preds, average='weighted'), 4))\n",
        "print(\"Accuracy:\", round(accuracy_score(y_test, preds), 4))\n"
      ],
      "metadata": {
        "id": "xwN23NYgjowq",
        "outputId": "638b1179-9a4c-4f69-c8dc-31e6cf4a4de5",
        "colab": {
          "base_uri": "https://localhost:8080/"
        }
      },
      "execution_count": 2,
      "outputs": [
        {
          "output_type": "stream",
          "name": "stdout",
          "text": [
            "🔹 Libraries loaded successfully.\n",
            "🔹 SpaCy and stemmer initialized.\n",
            "\n",
            "=== A. Toy Example Sentiment Classification ===\n",
            "✅ Word frequencies calculated for toy dataset.\n",
            "✅ Conditional probabilities computed.\n",
            "🔍 Sentence classified using manual Naive Bayes:\n",
            "Sentence: money wasted, fascinated\n",
            "Pr(pos|s): 0.2358\n",
            "Pr(neg|s): 0.7642\n",
            "\n",
            "=== B. Real Dataset Classifier from CSV ===\n",
            "📂 Data loaded: 8695 rows, 3 columns\n",
            "🧾 First few rows:\n",
            "       Id                                            Comment      Topic\n",
            "0   0x840  A few things. You might have negative- frequen...    Biology\n",
            "1   0xbf0  Is it so hard to believe that there exist part...    Physics\n",
            "2  0x1dfc                                     There are bees    Biology\n",
            "3   0xc7e  I'm a medication technician. And that's alot o...    Biology\n",
            "4   0xbba                     Cesium is such a pretty metal.  Chemistry\n",
            "🔧 Custom tokenizer ready.\n"
          ]
        },
        {
          "output_type": "stream",
          "name": "stderr",
          "text": [
            "/usr/local/lib/python3.11/dist-packages/sklearn/feature_extraction/text.py:517: UserWarning: The parameter 'token_pattern' will not be used since 'tokenizer' is not None'\n",
            "  warnings.warn(\n"
          ]
        },
        {
          "output_type": "stream",
          "name": "stdout",
          "text": [
            "📊 Vectorization complete. Shape of X: (8695, 10350)\n",
            "🧪 Data split: 80% train, 20% test\n",
            "✅ Model trained using Multinomial Naive Bayes\n",
            "\n",
            "📈 Cross-Validation Scores: [0.72054598 0.69230769 0.71028037 0.73184759 0.70596693]\n",
            "📊 Mean CV Accuracy: 0.7122\n",
            "\n",
            "🧾 Evaluation on Test Set\n",
            "Precision: 0.7447\n",
            "Recall: 0.7424\n",
            "F1 Score: 0.7411\n",
            "Accuracy: 0.7424\n"
          ]
        }
      ]
    },
    {
      "cell_type": "code",
      "source": [
        "#confusion matrix\n",
        "from sklearn.metrics import confusion_matrix, ConfusionMatrixDisplay\n",
        "\n",
        "cm = confusion_matrix(y_test, preds)\n",
        "disp = ConfusionMatrixDisplay(confusion_matrix=cm, display_labels=clf.classes_)\n",
        "disp.plot(xticks_rotation=45)\n",
        "plt.title(\"Confusion Matrix\")\n",
        "plt.grid(False)\n",
        "plt.show()\n"
      ],
      "metadata": {
        "id": "SnCgwCSkk6Kk",
        "outputId": "e39105d0-723c-4ff1-b73f-1c73c7b18eb6",
        "colab": {
          "base_uri": "https://localhost:8080/",
          "height": 474
        }
      },
      "execution_count": 3,
      "outputs": [
        {
          "output_type": "display_data",
          "data": {
            "text/plain": [
              "<Figure size 640x480 with 2 Axes>"
            ],
            "image/png": "[encoded data removed]"
          },
          "metadata": {}
        }
      ]
    },
    {
      "cell_type": "code",
      "source": [
        "#classification report per class\n",
        "from sklearn.metrics import classification_report\n",
        "\n",
        "target_names = [str(cls) for cls in clf.classes_]\n",
        "\n",
        "print(\"=== Classification Report ===\")\n",
        "print(classification_report(y_test, preds, target_names=target_names))\n"
      ],
      "metadata": {
        "id": "uYMSQrGJk_kv",
        "outputId": "651d83ab-e60f-42c5-c292-9c2f119de478",
        "colab": {
          "base_uri": "https://localhost:8080/"
        }
      },
      "execution_count": 5,
      "outputs": [
        {
          "output_type": "stream",
          "name": "stdout",
          "text": [
            "=== Classification Report ===\n",
            "              precision    recall  f1-score   support\n",
            "\n",
            "           0       0.73      0.82      0.77       718\n",
            "           1       0.73      0.70      0.72       584\n",
            "           2       0.79      0.67      0.72       437\n",
            "\n",
            "    accuracy                           0.74      1739\n",
            "   macro avg       0.75      0.73      0.74      1739\n",
            "weighted avg       0.74      0.74      0.74      1739\n",
            "\n"
          ]
        }
      ]
    },
    {
      "cell_type": "code",
      "source": [
        "#top predictive words per class\n",
        "feature_names = vectorizer.get_feature_names_out()\n",
        "\n",
        "for i, class_label in enumerate(clf.classes_):\n",
        "    top10 = np.argsort(clf.feature_log_prob_[i])[-10:]\n",
        "    print(f\"\\n🔍 Top words for class '{class_label}':\")\n",
        "    for j in top10[::-1]:\n",
        "        print(f\"  {feature_names[j]:<15} -> log-prob: {clf.feature_log_prob_[i][j]:.4f}\")\n",
        "\n"
      ],
      "metadata": {
        "id": "S6_JfpiZlMuT",
        "outputId": "23718008-fce9-40ab-c55f-d80ed0a8942b",
        "colab": {
          "base_uri": "https://localhost:8080/"
        }
      },
      "execution_count": 8,
      "outputs": [
        {
          "output_type": "stream",
          "name": "stdout",
          "text": [
            "\n",
            "🔍 Top words for class '0':\n",
            "  like            -> log-prob: -4.6341\n",
            "  think           -> log-prob: -5.2242\n",
            "  know            -> log-prob: -5.2843\n",
            "  look            -> log-prob: -5.3819\n",
            "  peopl           -> log-prob: -5.3867\n",
            "  thing           -> log-prob: -5.5989\n",
            "  cell            -> log-prob: -5.6050\n",
            "  need            -> log-prob: -5.6744\n",
            "  get             -> log-prob: -5.7076\n",
            "  find            -> log-prob: -5.7350\n",
            "\n",
            "🔍 Top words for class '1':\n",
            "  like            -> log-prob: -4.7758\n",
            "  chemistri       -> log-prob: -5.2428\n",
            "  work            -> log-prob: -5.2928\n",
            "  think           -> log-prob: -5.3563\n",
            "  know            -> log-prob: -5.3618\n",
            "  good            -> log-prob: -5.3840\n",
            "  use             -> log-prob: -5.5159\n",
            "  acid            -> log-prob: -5.5552\n",
            "  need            -> log-prob: -5.6241\n",
            "  thank           -> log-prob: -5.6458\n",
            "\n",
            "🔍 Top words for class '2':\n",
            "  like            -> log-prob: -5.1295\n",
            "  time            -> log-prob: -5.1542\n",
            "  physic          -> log-prob: -5.1693\n",
            "  think           -> log-prob: -5.1693\n",
            "  energi          -> log-prob: -5.2707\n",
            "  forc            -> log-prob: -5.4967\n",
            "  know            -> log-prob: -5.5325\n",
            "  light           -> log-prob: -5.5622\n",
            "  way             -> log-prob: -5.7520\n",
            "  good            -> log-prob: -5.8275\n"
          ]
        }
      ]
    },
    {
      "cell_type": "code",
      "source": [
        "#analyze misclassified examples\n",
        "misclassified = df.iloc[y_test.index][preds != y_test]\n",
        "print(\"=== 🔎 Misclassified Examples ===\")\n",
        "print(misclassified[['Comment', 'Topic']].head(10))\n"
      ],
      "metadata": {
        "id": "AKn59ZJDlfpq"
      },
      "execution_count": null,
      "outputs": []
    },
    {
      "cell_type": "markdown",
      "source": [
        "# Use Scikit Learn Naive Bayes Classifier"
      ],
      "metadata": {
        "id": "xKm8BCxqg1R2"
      }
    },
    {
      "cell_type": "markdown",
      "metadata": {
        "id": "G2qTZ4F2nJGU"
      },
      "source": [
        "```\n",
        "\n",
        "```"
      ]
    }
  ]
}