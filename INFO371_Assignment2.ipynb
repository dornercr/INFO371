{
  "nbformat": 4,
  "nbformat_minor": 0,
  "metadata": {
    "kernelspec": {
      "display_name": "Python 3",
      "language": "python",
      "name": "python3"
    },
    "language_info": {
      "codemirror_mode": {
        "name": "ipython",
        "version": 3
      },
      "file_extension": ".py",
      "mimetype": "text/x-python",
      "name": "python",
      "nbconvert_exporter": "python",
      "pygments_lexer": "ipython3",
      "version": "3.7.6"
    },
    "colab": {
      "provenance": [],
      "include_colab_link": true
    }
  },
  "cells": [
    {
      "cell_type": "markdown",
      "metadata": {
        "id": "view-in-github",
        "colab_type": "text"
      },
      "source": [
        "<a href=\"https://colab.research.google.com/github/dornercr/INFO371/blob/main/INFO371_Assignment2.ipynb\" target=\"_parent\"><img src=\"https://colab.research.google.com/assets/colab-badge.svg\" alt=\"Open In Colab\"/></a>"
      ]
    },
    {
      "cell_type": "markdown",
      "metadata": {
        "id": "85Z_qr_HpWBn"
      },
      "source": [
        "# Drexel University\n",
        "## College of Computing and Informatics\n",
        "## INFO 371: Data Mining Applications\n",
        "## Assignment 2\n",
        "\n",
        "## Due Date: Sunday, April 27, 2025\n",
        "### This assignment counts for 15% of the final grade\n",
        "\n",
        "\n",
        "## **DON'T FORGET TO PUT YOUR NAME BELOW**\n",
        "\n",
        "## **NAME:**\n",
        "\n",
        "\n",
        "### A. What to Hand In\n",
        "\n",
        "1. A completed this Jupyter notebook.\n",
        "2. Any data sets used in the assignment.\n",
        "3. Any multimedia and images used in the assignment.\n",
        "\n",
        "### B. How to Hand In\n",
        "\n",
        "Submit your files through the course website in the Blackboard Learn system.\n",
        "\n",
        "### C. When to Hand In\n",
        "\n",
        "1. Submit your assignment no later than 11:59pm in the due date.\n",
        "2. There will be a 10% (absolute value) deduction for each day of lateness, to a maximum of 3 days; assignments will not be accepted beyond that point. Missing work will earn a zero grade.\n",
        "\n",
        "### D. Answer the following questions"
      ]
    },
    {
      "cell_type": "markdown",
      "metadata": {
        "id": "z5Fc-AXLpWBu"
      },
      "source": [
        "# Collecting the data\n",
        "The data you will be using in this assignment is the match history data for the NBA for the 2023-2024 season.\n",
        "\n",
        "The website [http://basketball-reference.com](http://basketball-reference.com) contains a significant number of resources\n",
        "and statistics collected from the NBA and other leagues.\n",
        "\n",
        "To download the dataset, perform the following steps:\n",
        "1. Navigate to [http://www.basketball-reference.com/leagues/NBA_2024_games.html](http://www.basketball-reference.com/leagues/NBA_2024_games.html) in your web browser.\n",
        "2. Click Share & Export.\n",
        "3. Click Get table as CSV (for Excel).\n",
        "4. Copy the data, including the heading, into a text file named nba_2024.csv.\n",
        "5. Repeat this process for the other months, except do not copy the heading.\n",
        "\n",
        "This will give you a CSV file containing the results from each game of this season of the NBA."
      ]
    },
    {
      "cell_type": "markdown",
      "source": [
        "# Note: In this assignment, ensure that you split the data into train and test sets before training, selecting, and evaluating models. All evaluation must be done on a separate test set."
      ],
      "metadata": {
        "id": "8j078ZyWTaej"
      }
    },
    {
      "cell_type": "markdown",
      "metadata": {
        "id": "R7kfzxz-kkFU"
      },
      "source": [
        "## Question 1 [5 points]: Load the data as a DataFrame and change the columns to\n",
        "```\n",
        "[\"Date\", \"Start (ET)\", \"Visitor Team\", \"VisitorPts\", \\\n",
        "\"Home Team\", \"HomePts\", \"Unnamed: 6\", \"Unnamed: 7\", \"Attend.\", \"LOG\", \"Arena\", \"Notes\"]\n",
        "```\n",
        "Also, parse the \"Date\" column as datetime type."
      ]
    },
    {
      "cell_type": "code",
      "source": [],
      "metadata": {
        "id": "NCa0gB3IaC8N"
      },
      "execution_count": null,
      "outputs": []
    },
    {
      "cell_type": "markdown",
      "metadata": {
        "id": "-nFqkJiglilk"
      },
      "source": [
        "## Question 2 [10 points]: Create a target column \"VisitorWin\": if the visitor team won the game, VisitorWin=True; otherwise, VisitorWin=False."
      ]
    },
    {
      "cell_type": "code",
      "source": [],
      "metadata": {
        "id": "uarV1iTXaDUY"
      },
      "execution_count": null,
      "outputs": []
    },
    {
      "cell_type": "markdown",
      "metadata": {
        "id": "azb4Qh1pmAab"
      },
      "source": [
        "## Question 3 [10 points]: Convert the Visitor Team names to one-hot vectors."
      ]
    },
    {
      "cell_type": "code",
      "source": [],
      "metadata": {
        "id": "3-2_sa8haDpv"
      },
      "execution_count": null,
      "outputs": []
    },
    {
      "cell_type": "markdown",
      "metadata": {
        "id": "OSu4Xm6Amfql"
      },
      "source": [
        "## Question 4 [15 points]: Create a Scikit-Learn decision tree classifier with default values. Apply 5-fold cross validation to fit the classifier on the one-hot vectors corresponding to the visitor team names and the target 'VisitorWin'. Use accuracy for scoring the model. Print out the average score of the cross validation."
      ]
    },
    {
      "cell_type": "code",
      "source": [],
      "metadata": {
        "id": "VJZCA_x6aEjp"
      },
      "execution_count": null,
      "outputs": []
    },
    {
      "cell_type": "markdown",
      "metadata": {
        "id": "7VxhzYeXrIYU"
      },
      "source": [
        "## Question 5 [20 points]: Create two new feature columns: HomeWonLast and VisitorWonLast: if the home team won the previous game, HomeWonLast=1 and VisitorWonLast=0; otherwise, HomeWonLast=0 and VisitorWonLast=1"
      ]
    },
    {
      "cell_type": "code",
      "source": [],
      "metadata": {
        "id": "4HUBLLsgaFJl"
      },
      "execution_count": null,
      "outputs": []
    },
    {
      "cell_type": "markdown",
      "metadata": {
        "id": "WZhyEcZarbbM"
      },
      "source": [
        "## Question 6 [10 points]: Apply 5-fold cross validation to fit a decision tree classifier on HomeWonLast and VisitorWonLast against the target VisitorWin. Print out the average accuracy score."
      ]
    },
    {
      "cell_type": "code",
      "source": [],
      "metadata": {
        "id": "Y0EQZwQpaFpp"
      },
      "execution_count": null,
      "outputs": []
    },
    {
      "cell_type": "markdown",
      "metadata": {
        "id": "QTGgqRIfrtl7"
      },
      "source": [
        "## Question 7 [10 points]: Apply 5-fold cross validation to fit a decision tree classifier on visitor team names (one-hot vectors), HomeWonLast, and VisitorWonLast against the target VisitorWin. Print out the average accuracy score. Does the preformance change?"
      ]
    },
    {
      "cell_type": "code",
      "source": [],
      "metadata": {
        "id": "9aEzVis-aGBZ"
      },
      "execution_count": null,
      "outputs": []
    },
    {
      "cell_type": "markdown",
      "metadata": {
        "id": "dirvxqVisADE"
      },
      "source": [
        "## Question 8 [10 points]: Create a Scikit-Learn random forest classifier with default values. Apply 5-fold cross validation to fit the random forest classifier on visitor team names (one-hot vectors), HomeWonLast, and VisitorWonLast against the target VisitorWin. Print out the average accuracy score. Does the performance change?\n",
        "\n"
      ]
    },
    {
      "cell_type": "code",
      "source": [],
      "metadata": {
        "id": "2LH2NnVRaGfl"
      },
      "execution_count": null,
      "outputs": []
    },
    {
      "cell_type": "markdown",
      "metadata": {
        "id": "N2BaStTJstCi"
      },
      "source": [
        "## Question 9 [10 points]: Conduct a grid search for selecting the best random forest model fitting on visitor team names (one-hot vectors), HomeWonLast, and VisitorWonLast against the target VisitorWin. In the grid search, change the following parameters with different values: \"max_features\", \"n_estimators\", and \"min_samples_leaf\". Print out the best model and the average score of the model. Is the performance of the best model better than the previous models?"
      ]
    },
    {
      "cell_type": "code",
      "metadata": {
        "id": "Yk7oMQL1pWB0"
      },
      "source": [],
      "execution_count": null,
      "outputs": []
    }
  ]
}