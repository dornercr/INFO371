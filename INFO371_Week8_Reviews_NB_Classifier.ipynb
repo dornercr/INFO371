{
  "nbformat": 4,
  "nbformat_minor": 0,
  "metadata": {
    "colab": {
      "provenance": [],
      "authorship_tag": "ABX9TyOK0Qz8Joq9HKBII7BVwhkk",
      "include_colab_link": true
    },
    "kernelspec": {
      "name": "python3",
      "display_name": "Python 3"
    },
    "language_info": {
      "name": "python"
    }
  },
  "cells": [
    {
      "cell_type": "markdown",
      "metadata": {
        "id": "view-in-github",
        "colab_type": "text"
      },
      "source": [
        "<a href=\"https://colab.research.google.com/github/dornercr/INFO371/blob/main/INFO371_Week8_Reviews_NB_Classifier.ipynb\" target=\"_parent\"><img src=\"https://colab.research.google.com/assets/colab-badge.svg\" alt=\"Open In Colab\"/></a>"
      ]
    },
    {
      "cell_type": "code",
      "execution_count": 2,
      "metadata": {
        "colab": {
          "base_uri": "https://localhost:8080/",
          "height": 1000
        },
        "id": "wq-xp0OrqVSA",
        "outputId": "ba8119c5-9f0a-4984-8e7c-c2863392e3b7"
      },
      "outputs": [
        {
          "output_type": "stream",
          "name": "stdout",
          "text": [
            "Collecting faker\n",
            "  Downloading faker-37.3.0-py3-none-any.whl.metadata (15 kB)\n",
            "Requirement already satisfied: tzdata in /usr/local/lib/python3.11/dist-packages (from faker) (2025.2)\n",
            "Downloading faker-37.3.0-py3-none-any.whl (1.9 MB)\n",
            "\u001b[2K   \u001b[90m━━━━━━━━━━━━━━━━━━━━━━━━━━━━━━━━━━━━━━━━\u001b[0m \u001b[32m1.9/1.9 MB\u001b[0m \u001b[31m31.9 MB/s\u001b[0m eta \u001b[36m0:00:00\u001b[0m\n",
            "\u001b[?25hInstalling collected packages: faker\n",
            "Successfully installed faker-37.3.0\n",
            "🔧 Initializing components...\n",
            "✅ SpaCy, Faker, and stemmer ready.\n",
            "📦 Generating 10,000 noisy comments...\n",
            "✅ Dataset created.\n",
            "🔠 Vectorizing text using CountVectorizer + custom tokenizer...\n"
          ]
        },
        {
          "output_type": "stream",
          "name": "stderr",
          "text": [
            "/usr/local/lib/python3.11/dist-packages/sklearn/feature_extraction/text.py:517: UserWarning: The parameter 'token_pattern' will not be used since 'tokenizer' is not None'\n",
            "  warnings.warn(\n"
          ]
        },
        {
          "output_type": "stream",
          "name": "stdout",
          "text": [
            "✅ Vectorization complete. Feature matrix shape: (10000, 756)\n",
            "📚 Splitting data: 80% train, 20% test...\n",
            "✅ Split complete.\n",
            "🧠 Training Naive Bayes model...\n",
            "✅ Model trained.\n",
            "🔁 Running cross-validation...\n",
            "\n",
            "📈 Cross-Validation Scores: [0.963125 0.9725   0.968125 0.978125 0.965625]\n",
            "📊 Mean CV Accuracy: 0.9695\n",
            "\n",
            "🔍 Predicting test set...\n",
            "✅ Prediction complete.\n",
            "\n",
            "🧾 Evaluation on Test Set:\n",
            "Precision: 0.9771\n",
            "Recall: 0.9765\n",
            "F1 Score: 0.9765\n",
            "Accuracy: 0.9765\n",
            "\n",
            "📊 Confusion Matrix:\n"
          ]
        },
        {
          "output_type": "display_data",
          "data": {
            "text/plain": [
              "<Figure size 640x480 with 2 Axes>"
            ],
            "image/png": "[encoded data removed]"
          },
          "metadata": {}
        },
        {
          "output_type": "stream",
          "name": "stdout",
          "text": [
            "\n",
            "📋 Classification Report:\n",
            "              precision    recall  f1-score   support\n",
            "\n",
            "           0       0.99      0.96      0.98      1000\n",
            "           1       0.96      0.99      0.98      1000\n",
            "\n",
            "    accuracy                           0.98      2000\n",
            "   macro avg       0.98      0.98      0.98      2000\n",
            "weighted avg       0.98      0.98      0.98      2000\n",
            "\n",
            "\n",
            "🔎 Top predictive words per class:\n",
            "\n",
            "Top words for class '0':\n",
            "  experi          -> log-prob: -3.5781\n",
            "  qualiti         -> log-prob: -3.5824\n",
            "  servic          -> log-prob: -3.5853\n",
            "  buy             -> log-prob: -3.6014\n",
            "  complet         -> log-prob: -3.6044\n",
            "  wast            -> log-prob: -3.6044\n",
            "  aw              -> log-prob: -3.6103\n",
            "  worth           -> log-prob: -3.6118\n",
            "  terribl         -> log-prob: -3.6178\n",
            "  horribl         -> log-prob: -3.6238\n",
            "\n",
            "Top words for class '1':\n",
            "  like            -> log-prob: -3.5308\n",
            "  work            -> log-prob: -3.5733\n",
            "  product         -> log-prob: -3.5953\n",
            "  charm           -> log-prob: -3.6121\n",
            "  fantast         -> log-prob: -3.6379\n",
            "  recommend       -> log-prob: -3.6422\n",
            "  highli          -> log-prob: -3.6422\n",
            "  total           -> log-prob: -3.6539\n",
            "  worth           -> log-prob: -3.6853\n",
            "  great           -> log-prob: -3.6945\n"
          ]
        }
      ],
      "source": [
        "!pip install faker\n",
        "\n",
        "import pandas as pd\n",
        "import numpy as np\n",
        "import random\n",
        "from faker import Faker\n",
        "import spacy\n",
        "from nltk.stem import PorterStemmer\n",
        "from sklearn.feature_extraction.text import CountVectorizer\n",
        "from sklearn.model_selection import train_test_split, cross_val_score\n",
        "from sklearn.naive_bayes import MultinomialNB\n",
        "from sklearn.metrics import (\n",
        "    precision_score, recall_score, f1_score, accuracy_score,\n",
        "    confusion_matrix, ConfusionMatrixDisplay, classification_report\n",
        ")\n",
        "import matplotlib.pyplot as plt\n",
        "\n",
        "# Setup\n",
        "print(\"🔧 Initializing components...\")\n",
        "fake = Faker()\n",
        "nlp = spacy.load(\"en_core_web_sm\")\n",
        "stemmer = PorterStemmer()\n",
        "random.seed(42)\n",
        "print(\"✅ SpaCy, Faker, and stemmer ready.\")\n",
        "\n",
        "# Generate synthetic dataset\n",
        "def generate_review(label):\n",
        "    pos = [\"Absolutely love\", \"Totally worth it\", \"Highly recommend\", \"Fantastic product\", \"Great\", \"Works like a charm\"]\n",
        "    neg = [\"Complete waste\", \"Terrible quality\", \"Would not buy again\", \"Awful experience\", \"Not worth it\", \"Horrible service\"]\n",
        "    emojis = [\"😍\", \"😡\", \"👍\", \"👎\", \"💯\", \"😤\", \"🔥\", \"💩\"]\n",
        "    noise = fake.sentence()\n",
        "    if label == 1:\n",
        "        return f\"{random.choice(pos)}! {random.choice(emojis)} {noise}\"\n",
        "    else:\n",
        "        return f\"{random.choice(neg)}! {random.choice(emojis)} {noise}\"\n",
        "\n",
        "print(\"📦 Generating 10,000 noisy comments...\")\n",
        "comments = [generate_review(1) for _ in range(5000)] + [generate_review(0) for _ in range(5000)]\n",
        "labels = [\"Positive\"] * 5000 + [\"Negative\"] * 5000\n",
        "df = pd.DataFrame({\"Comment\": comments, \"Topic\": labels})\n",
        "print(\"✅ Dataset created.\")\n",
        "\n",
        "# Tokenizer\n",
        "def spacy_tokenizer(sentence):\n",
        "    doc = nlp(str(sentence))\n",
        "    return [stemmer.stem(token.lemma_.lower().strip()) for token in doc if not token.is_stop and token.is_alpha]\n",
        "\n",
        "# Vectorize\n",
        "print(\"🔠 Vectorizing text using CountVectorizer + custom tokenizer...\")\n",
        "vectorizer = CountVectorizer(tokenizer=spacy_tokenizer, ngram_range=(1,1))\n",
        "X = vectorizer.fit_transform(df['Comment'])\n",
        "y = df['Topic'].astype('category').cat.codes\n",
        "print(f\"✅ Vectorization complete. Feature matrix shape: {X.shape}\")\n",
        "\n",
        "# Train-test split\n",
        "print(\"📚 Splitting data: 80% train, 20% test...\")\n",
        "X_train, X_test, y_train, y_test = train_test_split(X, y, stratify=y, test_size=0.2, random_state=42)\n",
        "print(\"✅ Split complete.\")\n",
        "\n",
        "# Train model\n",
        "print(\"🧠 Training Naive Bayes model...\")\n",
        "clf = MultinomialNB()\n",
        "clf.fit(X_train, y_train)\n",
        "print(\"✅ Model trained.\")\n",
        "\n",
        "# Cross-validation\n",
        "print(\"🔁 Running cross-validation...\")\n",
        "cv_scores = cross_val_score(clf, X_train, y_train, scoring='accuracy')\n",
        "print(\"\\n📈 Cross-Validation Scores:\", cv_scores)\n",
        "print(\"📊 Mean CV Accuracy:\", round(np.mean(cv_scores), 4))\n",
        "\n",
        "# Predict\n",
        "print(\"\\n🔍 Predicting test set...\")\n",
        "preds = clf.predict(X_test)\n",
        "print(\"✅ Prediction complete.\")\n",
        "\n",
        "# Evaluate\n",
        "print(\"\\n🧾 Evaluation on Test Set:\")\n",
        "print(\"Precision:\", round(precision_score(y_test, preds, average='weighted'), 4))\n",
        "print(\"Recall:\", round(recall_score(y_test, preds, average='weighted'), 4))\n",
        "print(\"F1 Score:\", round(f1_score(y_test, preds, average='weighted'), 4))\n",
        "print(\"Accuracy:\", round(accuracy_score(y_test, preds), 4))\n",
        "\n",
        "# Confusion matrix\n",
        "print(\"\\n📊 Confusion Matrix:\")\n",
        "cm = confusion_matrix(y_test, preds)\n",
        "disp = ConfusionMatrixDisplay(confusion_matrix=cm, display_labels=clf.classes_)\n",
        "disp.plot(xticks_rotation=45)\n",
        "plt.title(\"Confusion Matrix\")\n",
        "plt.grid(False)\n",
        "plt.show()\n",
        "\n",
        "# Classification report\n",
        "print(\"\\n📋 Classification Report:\")\n",
        "target_names = [str(cls) for cls in clf.classes_]\n",
        "print(classification_report(y_test, preds, target_names=target_names))\n",
        "\n",
        "# Top predictive words per class\n",
        "print(\"\\n🔎 Top predictive words per class:\")\n",
        "feature_names = vectorizer.get_feature_names_out()\n",
        "for i, class_label in enumerate(clf.classes_):\n",
        "    top10 = np.argsort(clf.feature_log_prob_[i])[-10:]\n",
        "    print(f\"\\nTop words for class '{class_label}':\")\n",
        "    for j in top10[::-1]:\n",
        "        print(f\"  {feature_names[j]:<15} -> log-prob: {clf.feature_log_prob_[i][j]:.4f}\")\n"
      ]
    }
  ]
}