{
  "nbformat": 4,
  "nbformat_minor": 0,
  "metadata": {
    "colab": {
      "provenance": [],
      "authorship_tag": "ABX9TyNUMig/uyhPJAtpsy61cvi8",
      "include_colab_link": true
    },
    "kernelspec": {
      "name": "python3",
      "display_name": "Python 3"
    },
    "language_info": {
      "name": "python"
    }
  },
  "cells": [
    {
      "cell_type": "markdown",
      "metadata": {
        "id": "view-in-github",
        "colab_type": "text"
      },
      "source": [
        "<a href=\"https://colab.research.google.com/github/dornercr/INFO371/blob/main/INFO371_week5_featureengineering_ensemblelearning_crossvalidation_healthcare.ipynb\" target=\"_parent\"><img src=\"https://colab.research.google.com/assets/colab-badge.svg\" alt=\"Open In Colab\"/></a>"
      ]
    },
    {
      "cell_type": "code",
      "execution_count": 1,
      "metadata": {
        "id": "DD7aeDrHA4oe"
      },
      "outputs": [],
      "source": [
        "# INFO 371: Week 5 Topics - Feature Engineering, Ensemble Learning, Cross Validation (Healthcare Version)\n",
        "\n",
        "# 0. Import Libraries\n",
        "import numpy as np\n",
        "import pandas as pd\n",
        "from sklearn.model_selection import train_test_split, cross_val_score, KFold, StratifiedKFold, GridSearchCV, LeaveOneOut\n",
        "from sklearn.ensemble import RandomForestClassifier\n",
        "from sklearn.neighbors import KNeighborsClassifier\n",
        "from sklearn.metrics import accuracy_score, confusion_matrix\n",
        "from sklearn.utils.class_weight import compute_class_weight\n",
        "import matplotlib.pyplot as plt\n",
        "import seaborn as sns"
      ]
    },
    {
      "cell_type": "code",
      "source": [
        "# 1. Generate a Realistic Healthcare Dataset\n",
        "np.random.seed(42)\n",
        "patients = ['Patient_' + str(i) for i in range(1, 201)]  # 200 patients\n",
        "data = []\n",
        "\n",
        "for date in pd.date_range(start='2023-01-01', periods=500):\n",
        "    patient_id = np.random.choice(patients)\n",
        "    systolic_bp = np.random.normal(120, 15)\n",
        "    diastolic_bp = np.random.normal(80, 10)\n",
        "    heart_rate = np.random.normal(75, 12)\n",
        "    prior_visits = np.random.poisson(2)\n",
        "    admitted = np.random.binomial(1, p=0.3 + 0.01 * (systolic_bp > 140))  # More likely if high BP\n",
        "    data.append([date, patient_id, systolic_bp, diastolic_bp, heart_rate, prior_visits, admitted])\n",
        "\n",
        "records = pd.DataFrame(data, columns=['Date', 'PatientID', 'SystolicBP', 'DiastolicBP', 'HeartRate', 'PriorVisits', 'Admitted'])\n",
        "records.sort_values('Date', inplace=True)"
      ],
      "metadata": {
        "id": "ijvUe4T1BhCH"
      },
      "execution_count": 2,
      "outputs": []
    },
    {
      "cell_type": "code",
      "source": [
        "# 2. Create Rolling Features (Mini Feature Engineering)\n",
        "records['AvgSystolicBP'] = records.groupby('PatientID')['SystolicBP'].transform(lambda x: x.rolling(5, min_periods=1).mean())\n",
        "records['AvgDiastolicBP'] = records.groupby('PatientID')['DiastolicBP'].transform(lambda x: x.rolling(5, min_periods=1).mean())\n",
        "records['AvgHeartRate'] = records.groupby('PatientID')['HeartRate'].transform(lambda x: x.rolling(5, min_periods=1).mean())\n",
        "records['VisitFrequency'] = records.groupby('PatientID').cumcount()\n"
      ],
      "metadata": {
        "id": "8R-hmrntBjnB"
      },
      "execution_count": 4,
      "outputs": []
    },
    {
      "cell_type": "code",
      "source": [
        "# 3. Feature and Label Selection\n",
        "features = records[['AvgSystolicBP', 'AvgDiastolicBP', 'AvgHeartRate', 'PriorVisits', 'VisitFrequency']]\n",
        "labels = records['Admitted']"
      ],
      "metadata": {
        "id": "B2wjsgVVBrj2"
      },
      "execution_count": 6,
      "outputs": []
    },
    {
      "cell_type": "code",
      "source": [
        "# 4. Class Weights to Balance\n",
        "class_weights = dict(zip(np.unique(labels), compute_class_weight(class_weight='balanced', classes=np.unique(labels), y=labels)))"
      ],
      "metadata": {
        "id": "h7tD-XEpBvcq"
      },
      "execution_count": 7,
      "outputs": []
    },
    {
      "cell_type": "code",
      "source": [
        "# 5. Train/Test Split\n",
        "X_train, X_test, y_train, y_test = train_test_split(features, labels, test_size=0.2, random_state=42)"
      ],
      "metadata": {
        "id": "64iyyHIuBxoX"
      },
      "execution_count": 8,
      "outputs": []
    },
    {
      "cell_type": "code",
      "source": [
        "# 6. Models\n",
        "# KNN\n",
        "knn = KNeighborsClassifier(n_neighbors=5)\n",
        "knn.fit(X_train, y_train)\n",
        "knn_preds = knn.predict(X_test)\n",
        "print(\"KNN Accuracy:\", accuracy_score(y_test, knn_preds))\n",
        "\n",
        "# Random Forest (Balanced)\n",
        "rf = RandomForestClassifier(n_estimators=100, max_features=2, random_state=42, class_weight=class_weights)\n",
        "rf.fit(X_train, y_train)\n",
        "rf_preds = rf.predict(X_test)\n",
        "print(\"Random Forest Accuracy:\", accuracy_score(y_test, rf_preds))"
      ],
      "metadata": {
        "colab": {
          "base_uri": "https://localhost:8080/"
        },
        "id": "PALaa5IjB08X",
        "outputId": "50d0c2d2-da37-42a8-e40d-bde457c9569d"
      },
      "execution_count": 10,
      "outputs": [
        {
          "output_type": "stream",
          "name": "stdout",
          "text": [
            "KNN Accuracy: 0.67\n",
            "Random Forest Accuracy: 0.66\n"
          ]
        }
      ]
    },
    {
      "cell_type": "code",
      "source": [
        "# 7. Bias-Variance Tradeoff Comment\n",
        "print(\"\"\"\n",
        "- KNN can have high variance if too sensitive to outliers.\n",
        "- Random Forest reduces variance by averaging trees.\n",
        "- Best models minimize both bias (wrong assumptions) and variance (overfitting).\n",
        "\"\"\")\n"
      ],
      "metadata": {
        "colab": {
          "base_uri": "https://localhost:8080/"
        },
        "id": "jnVO5IUMB3Kw",
        "outputId": "d1a87dbf-04bb-4a84-becf-e75c8bac1feb"
      },
      "execution_count": 11,
      "outputs": [
        {
          "output_type": "stream",
          "name": "stdout",
          "text": [
            "\n",
            "- KNN can have high variance if too sensitive to outliers.\n",
            "- Random Forest reduces variance by averaging trees.\n",
            "- Best models minimize both bias (wrong assumptions) and variance (overfitting).\n",
            "\n"
          ]
        }
      ]
    },
    {
      "cell_type": "code",
      "source": [
        "# 8. Cross-Validation\n",
        "kfold = KFold(n_splits=5, shuffle=True, random_state=42)\n",
        "rf_cv_scores = cross_val_score(rf, features, labels, cv=kfold)\n",
        "print(\"Random Forest KFold CV Accuracy:\", np.mean(rf_cv_scores))\n",
        "\n",
        "loo = LeaveOneOut()\n",
        "small_features = features.sample(50, random_state=42)\n",
        "small_labels = labels.loc[small_features.index]\n",
        "loo_scores = cross_val_score(knn, small_features, small_labels, cv=loo)\n",
        "print(\"KNN LOO CV Accuracy (subset):\", np.mean(loo_scores))\n",
        "\n",
        "skfold = StratifiedKFold(n_splits=5, shuffle=True, random_state=42)\n",
        "stratified_scores = cross_val_score(rf, features, labels, cv=skfold)\n",
        "print(\"Random Forest StratifiedKFold CV Accuracy:\", np.mean(stratified_scores))"
      ],
      "metadata": {
        "colab": {
          "base_uri": "https://localhost:8080/"
        },
        "id": "h7-rFEvAB7ud",
        "outputId": "72c96f52-5d9d-44ca-d911-bdd655045b78"
      },
      "execution_count": 12,
      "outputs": [
        {
          "output_type": "stream",
          "name": "stdout",
          "text": [
            "Random Forest KFold CV Accuracy: 0.698\n",
            "KNN LOO CV Accuracy (subset): 0.68\n",
            "Random Forest StratifiedKFold CV Accuracy: 0.7179999999999999\n"
          ]
        }
      ]
    },
    {
      "cell_type": "code",
      "source": [
        "# 9. Grid Search for Random Forest\n",
        "param_grid = {\n",
        "    'n_estimators': [50, 100, 150],\n",
        "    'max_features': [1, 2, 3]\n",
        "}\n",
        "\n",
        "grid_search = GridSearchCV(RandomForestClassifier(random_state=42, class_weight=class_weights), param_grid, cv=5, scoring='accuracy')\n",
        "grid_search.fit(X_train, y_train)\n",
        "\n",
        "print(\"Best Parameters from Grid Search:\", grid_search.best_params_)\n",
        "final_model = grid_search.best_estimator_\n",
        "final_preds = final_model.predict(X_test)\n",
        "print(\"Final Model Accuracy after Grid Search:\", accuracy_score(y_test, final_preds))"
      ],
      "metadata": {
        "colab": {
          "base_uri": "https://localhost:8080/"
        },
        "id": "EQ2QzeClB_On",
        "outputId": "34a8c169-51ba-494b-cc02-73126088c3b9"
      },
      "execution_count": 13,
      "outputs": [
        {
          "output_type": "stream",
          "name": "stdout",
          "text": [
            "Best Parameters from Grid Search: {'max_features': 1, 'n_estimators': 50}\n",
            "Final Model Accuracy after Grid Search: 0.68\n"
          ]
        }
      ]
    },
    {
      "cell_type": "code",
      "source": [
        "# 10. Confusion Matrix\n",
        "cm = confusion_matrix(y_test, final_preds)\n",
        "sns.heatmap(cm, annot=True, fmt='d', cmap='Blues')\n",
        "plt.title('Confusion Matrix (Healthcare Sector)')\n",
        "plt.xlabel('Predicted')\n",
        "plt.ylabel('Actual')\n",
        "plt.show()"
      ],
      "metadata": {
        "colab": {
          "base_uri": "https://localhost:8080/",
          "height": 472
        },
        "id": "cnZqy2vNCE0P",
        "outputId": "e4185683-aa93-4083-a4b9-d3cf58a8c1b3"
      },
      "execution_count": 14,
      "outputs": [
        {
          "output_type": "display_data",
          "data": {
            "text/plain": [
              "<Figure size 640x480 with 2 Axes>"
            ],
            "image/png": "[encoded data removed]"
          },
          "metadata": {}
        }
      ]
    },
    {
      "cell_type": "code",
      "source": [],
      "metadata": {
        "id": "hS2emCc1CH43"
      },
      "execution_count": null,
      "outputs": []
    }
  ]
}