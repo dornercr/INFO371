{
  "cells": [
    {
      "cell_type": "markdown",
      "metadata": {
        "id": "view-in-github",
        "colab_type": "text"
      },
      "source": [
        "<a href=\"https://colab.research.google.com/github/dornercr/INFO371/blob/main/INFO371_Project_Proposal.ipynb\" target=\"_parent\"><img src=\"https://colab.research.google.com/assets/colab-badge.svg\" alt=\"Open In Colab\"/></a>"
      ]
    },
    {
      "cell_type": "markdown",
      "metadata": {
        "id": "092TUML1DdkR"
      },
      "source": [
        "# College of Computing and Informatics, Drexel University\n",
        "## INFO 371: Data Mining Applications\n",
        "---\n",
        "\n",
        "## Project Proposal\n",
        "\n",
        "## Project Title:\n",
        "\n",
        "## Student(s):\n",
        "\n",
        "#### Date:\n",
        "---"
      ]
    },
    {
      "cell_type": "markdown",
      "metadata": {
        "id": "yZBbCHK0Ddkd"
      },
      "source": [
        "#### Purpose\n",
        "---\n",
        "This project proposal should list your team members, describe the problem, the data sets, and the goal(s) of the project. Use the Project Requirements at the end of this notebook for choosing and scoping your project. A good place to find datasets to work on is the Kaggle Website: https://www.kaggle.com/datasets\n",
        "\n",
        "## This proposal must be submitted by Sunday, May 24, 2025."
      ]
    },
    {
      "cell_type": "markdown",
      "metadata": {
        "id": "zun_rDCPxDuQ"
      },
      "source": [
        "## 0. Team Member List:\n",
        "### List the names and user accounts in Blackboard of all team members. Failure to list all members may cause missing grades for the non-listed students.\n",
        "\n",
        "Team members:\n",
        "1.\n",
        "2.\n",
        "3."
      ]
    },
    {
      "cell_type": "markdown",
      "metadata": {
        "id": "cKhYTK32Ddke"
      },
      "source": [
        "### 1. Introduction\n",
        "---\n",
        "*(Introduce the project and describe the objectives. This section will provide an overview of the entire project including the description of the data sets and the specific data analytics methods and techniques the team will use for analyzing the data to address the problem.)*"
      ]
    },
    {
      "cell_type": "markdown",
      "source": [],
      "metadata": {
        "id": "crrD6e3BPrLZ"
      }
    },
    {
      "cell_type": "markdown",
      "metadata": {
        "id": "CPBkr7gIDdkf"
      },
      "source": [
        "### 2. Problem Definition\n",
        "---\n",
        "*(Define the problem that will be solved in this data analytics project. Where does the problem come from? Who would be benefited from the solutions presented in this project? Use formal languages and notations to define the problem as much as possible.)*"
      ]
    },
    {
      "cell_type": "code",
      "execution_count": null,
      "metadata": {
        "id": "N5BAAHX2Ddkg"
      },
      "outputs": [],
      "source": []
    },
    {
      "cell_type": "markdown",
      "metadata": {
        "id": "iEnpTPoEDdkg"
      },
      "source": [
        "### 3. Data Sources\n",
        "---\n",
        "*(Describe the origin of the data sources. What is the format of the original data? How to access the data?)*"
      ]
    },
    {
      "cell_type": "code",
      "execution_count": null,
      "metadata": {
        "id": "nfGvu1-XDdkg"
      },
      "outputs": [],
      "source": []
    },
    {
      "cell_type": "markdown",
      "metadata": {
        "id": "tqEA5ODSDdkh"
      },
      "source": [
        "### 4. Other Things you Would Like to Describe\n",
        "---\n",
        "*(Is there anything you would like to describe as well? For example, preliminary analyses and results...)*"
      ]
    },
    {
      "cell_type": "code",
      "execution_count": null,
      "metadata": {
        "id": "CHH2xXQ2Ddkh"
      },
      "outputs": [],
      "source": []
    },
    {
      "cell_type": "markdown",
      "metadata": {
        "id": "HINuuxqMDdkh"
      },
      "source": [
        "### 5. References\n",
        "---\n",
        "*(list the references you will use in the project.)*"
      ]
    },
    {
      "cell_type": "code",
      "execution_count": null,
      "metadata": {
        "id": "oH8HF2fpDdkh"
      },
      "outputs": [],
      "source": []
    },
    {
      "cell_type": "markdown",
      "metadata": {
        "id": "x67epA-IDdki"
      },
      "source": [
        "---\n",
        "(*Use the following requirements for writing your reports. DO NOT DELETE THE CELLS BELLOW*)"
      ]
    },
    {
      "cell_type": "markdown",
      "source": [
        "# Project Requirements\n",
        "\n",
        "This final project examines the level of knowledge the students have learned from the course. The following course outcomes will be checked against the content of the report:\n",
        "\n",
        "Upon successful completion of this course, a student will be able to:\n",
        "* Describe major machine learning approaches to data processing and mining  \n",
        "* Apply machine learning theories and concepts in finding data mining solutions.  \n",
        "* Design automated systems to infer information and discover knowledge from data.\n",
        "* Evaluate data mining processes and technologies in domain applications.\n",
        "* Use or integrate machine learning tools to support data (pre-)processing, mining, and analysis.\n",
        "\n",
        "\n",
        "** Marking will be foucsed on both presentation and content.**\n",
        "\n",
        "## Written Presentation Requirements\n",
        "The report will be judged on the basis of visual appearance, grammatical correctness, and quality of writing, as well as its contents. Please make sure that the text of your report is well-structured, using paragraphs, full sentences, and other features of well-written presentation.\n",
        "\n",
        "## Technical Content:\n",
        "* Is the problem well defined and described thoroughly?\n",
        "* Is the size and complexity of the data set used in this project comparable to that of the example data sets used in the lectures and assignments?\n",
        "* Did the report describe the characteristics of the data?\n",
        "* Did the report describe the goals of the data miming?\n",
        "* Did the projet use feature engineering and feature selection methods?\n",
        "* Did the project build, compare, and evaluate multiple models?\n",
        "* Did the report discuss the results and findings?\n",
        "* Did the report include all related references?\n",
        "* Only those projects that exceed the sophistication of the data mining examples in the lectures and assignments can be marked as the highest level of grade.\n",
        "* Overall, what is the rating of this project?"
      ],
      "metadata": {
        "id": "xxIj4v4ikDqq"
      }
    },
    {
      "cell_type": "code",
      "execution_count": null,
      "metadata": {
        "id": "pD3VRNkgDdkj"
      },
      "outputs": [],
      "source": []
    }
  ],
  "metadata": {
    "colab": {
      "provenance": [],
      "include_colab_link": true
    },
    "kernelspec": {
      "display_name": "Python 3",
      "language": "python",
      "name": "python3"
    },
    "language_info": {
      "codemirror_mode": {
        "name": "ipython",
        "version": 3
      },
      "file_extension": ".py",
      "mimetype": "text/x-python",
      "name": "python",
      "nbconvert_exporter": "python",
      "pygments_lexer": "ipython3",
      "version": "3.7.6"
    }
  },
  "nbformat": 4,
  "nbformat_minor": 0
}