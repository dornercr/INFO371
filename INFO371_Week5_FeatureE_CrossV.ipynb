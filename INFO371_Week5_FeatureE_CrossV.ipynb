{
  "nbformat": 4,
  "nbformat_minor": 0,
  "metadata": {
    "kernelspec": {
      "display_name": "Python 3",
      "language": "python",
      "name": "python3"
    },
    "language_info": {
      "codemirror_mode": {
        "name": "ipython",
        "version": 3
      },
      "file_extension": ".py",
      "mimetype": "text/x-python",
      "name": "python",
      "nbconvert_exporter": "python",
      "pygments_lexer": "ipython3",
      "version": "3.7.6"
    },
    "colab": {
      "provenance": [],
      "include_colab_link": true
    }
  },
  "cells": [
    {
      "cell_type": "markdown",
      "metadata": {
        "id": "view-in-github",
        "colab_type": "text"
      },
      "source": [
        "<a href=\"https://colab.research.google.com/github/dornercr/INFO371/blob/main/INFO371_Week5_FeatureE_CrossV.ipynb\" target=\"_parent\"><img src=\"https://colab.research.google.com/assets/colab-badge.svg\" alt=\"Open In Colab\"/></a>"
      ]
    },
    {
      "cell_type": "markdown",
      "metadata": {
        "id": "sqzv7eVEY4ym"
      },
      "source": [
        "# INFO 371: Data Mining Applications\n",
        "\n",
        "## Week 5: Feature Engineering and Model Selection\n",
        "### Prof. Charles Dorner, EdD (Candidate)\n",
        "### College of Computing and Informatics, Drexel University"
      ]
    },
    {
      "cell_type": "code",
      "metadata": {
        "id": "DEUkURKRY4yn"
      },
      "source": [
        "import pandas as pd\n",
        "import numpy as np\n",
        "from google.colab import files\n",
        "import matplotlib.pyplot as plt"
      ],
      "execution_count": null,
      "outputs": []
    },
    {
      "cell_type": "markdown",
      "metadata": {
        "id": "FDQ5X_9E3WMB"
      },
      "source": [
        "## Collecting the data\n",
        "The data we will be using is the match history data for the NBA for the 2015-2016 season.\n",
        "\n",
        "The website [http://basketball-reference.com](http://basketball-reference.com) contains a significant number of resources\n",
        "and statistics collected from the NBA and other leagues.\n",
        "\n",
        "To download the dataset, perform the following steps:\n",
        "1. Navigate to [here](http://www.basketball-reference.com/leagues/NBA_2016_games.html) in your web browser.\n",
        "2. Click Share & Export.\n",
        "3. Click Get table as CSV (for Excel).\n",
        "4. Copy the data, including the heading, into a text file named basketball.csv.\n",
        "5. Repeat this process for the other months, except do not copy the heading.\n",
        "\n",
        "This will give you a CSV file containing the results from each game of this season of the NBA. (My file contains 1316 games and a total of 1317 lines in the file, including the header line.)"
      ]
    },
    {
      "cell_type": "code",
      "metadata": {
        "colab": {
          "base_uri": "https://localhost:8080/",
          "height": 1000
        },
        "id": "QlpMIMvwH23s",
        "outputId": "203e4252-3c42-4de1-d9a4-45cbd2c48e96",
        "collapsed": true
      },
      "source": [
        "# upload the NBA file\n",
        "from google.colab import files\n",
        "files.upload()"
      ],
      "execution_count": null,
      "outputs": [
        {
          "output_type": "display_data",
          "data": {
            "text/plain": [
              "<IPython.core.display.HTML object>"
            ],
            "text/html": [
              "\n",
              "     <input type=\"file\" id=\"files-053e4936-e244-49be-9376-46c079b3acda\" name=\"files[]\" multiple disabled\n",
              "        style=\"border:none\" />\n",
              "     <output id=\"result-053e4936-e244-49be-9376-46c079b3acda\">\n",
              "      Upload widget is only available when the cell has been executed in the\n",
              "      current browser session. Please rerun this cell to enable.\n",
              "      </output>\n",
              "      <script>// Copyright 2017 Google LLC\n",
              "//\n",
              "// Licensed under the Apache License, Version 2.0 (the \"License\");\n",
              "// you may not use this file except in compliance with the License.\n",
              "// You may obtain a copy of the License at\n",
              "//\n",
              "//      http://www.apache.org/licenses/LICENSE-2.0\n",
              "//\n",
              "// Unless required by applicable law or agreed to in writing, software\n",
              "// distributed under the License is distributed on an \"AS IS\" BASIS,\n",
              "// WITHOUT WARRANTIES OR CONDITIONS OF ANY KIND, either express or implied.\n",
              "// See the License for the specific language governing permissions and\n",
              "// limitations under the License.\n",
              "\n",
              "/**\n",
              " * @fileoverview Helpers for google.colab Python module.\n",
              " */\n",
              "(function(scope) {\n",
              "function span(text, styleAttributes = {}) {\n",
              "  const element = document.createElement('span');\n",
              "  element.textContent = text;\n",
              "  for (const key of Object.keys(styleAttributes)) {\n",
              "    element.style[key] = styleAttributes[key];\n",
              "  }\n",
              "  return element;\n",
              "}\n",
              "\n",
              "// Max number of bytes which will be uploaded at a time.\n",
              "const MAX_PAYLOAD_SIZE = 100 * 1024;\n",
              "\n",
              "function _uploadFiles(inputId, outputId) {\n",
              "  const steps = uploadFilesStep(inputId, outputId);\n",
              "  const outputElement = document.getElementById(outputId);\n",
              "  // Cache steps on the outputElement to make it available for the next call\n",
              "  // to uploadFilesContinue from Python.\n",
              "  outputElement.steps = steps;\n",
              "\n",
              "  return _uploadFilesContinue(outputId);\n",
              "}\n",
              "\n",
              "// This is roughly an async generator (not supported in the browser yet),\n",
              "// where there are multiple asynchronous steps and the Python side is going\n",
              "// to poll for completion of each step.\n",
              "// This uses a Promise to block the python side on completion of each step,\n",
              "// then passes the result of the previous step as the input to the next step.\n",
              "function _uploadFilesContinue(outputId) {\n",
              "  const outputElement = document.getElementById(outputId);\n",
              "  const steps = outputElement.steps;\n",
              "\n",
              "  const next = steps.next(outputElement.lastPromiseValue);\n",
              "  return Promise.resolve(next.value.promise).then((value) => {\n",
              "    // Cache the last promise value to make it available to the next\n",
              "    // step of the generator.\n",
              "    outputElement.lastPromiseValue = value;\n",
              "    return next.value.response;\n",
              "  });\n",
              "}\n",
              "\n",
              "/**\n",
              " * Generator function which is called between each async step of the upload\n",
              " * process.\n",
              " * @param {string} inputId Element ID of the input file picker element.\n",
              " * @param {string} outputId Element ID of the output display.\n",
              " * @return {!Iterable<!Object>} Iterable of next steps.\n",
              " */\n",
              "function* uploadFilesStep(inputId, outputId) {\n",
              "  const inputElement = document.getElementById(inputId);\n",
              "  inputElement.disabled = false;\n",
              "\n",
              "  const outputElement = document.getElementById(outputId);\n",
              "  outputElement.innerHTML = '';\n",
              "\n",
              "  const pickedPromise = new Promise((resolve) => {\n",
              "    inputElement.addEventListener('change', (e) => {\n",
              "      resolve(e.target.files);\n",
              "    });\n",
              "  });\n",
              "\n",
              "  const cancel = document.createElement('button');\n",
              "  inputElement.parentElement.appendChild(cancel);\n",
              "  cancel.textContent = 'Cancel upload';\n",
              "  const cancelPromise = new Promise((resolve) => {\n",
              "    cancel.onclick = () => {\n",
              "      resolve(null);\n",
              "    };\n",
              "  });\n",
              "\n",
              "  // Wait for the user to pick the files.\n",
              "  const files = yield {\n",
              "    promise: Promise.race([pickedPromise, cancelPromise]),\n",
              "    response: {\n",
              "      action: 'starting',\n",
              "    }\n",
              "  };\n",
              "\n",
              "  cancel.remove();\n",
              "\n",
              "  // Disable the input element since further picks are not allowed.\n",
              "  inputElement.disabled = true;\n",
              "\n",
              "  if (!files) {\n",
              "    return {\n",
              "      response: {\n",
              "        action: 'complete',\n",
              "      }\n",
              "    };\n",
              "  }\n",
              "\n",
              "  for (const file of files) {\n",
              "    const li = document.createElement('li');\n",
              "    li.append(span(file.name, {fontWeight: 'bold'}));\n",
              "    li.append(span(\n",
              "        `(${file.type || 'n/a'}) - ${file.size} bytes, ` +\n",
              "        `last modified: ${\n",
              "            file.lastModifiedDate ? file.lastModifiedDate.toLocaleDateString() :\n",
              "                                    'n/a'} - `));\n",
              "    const percent = span('0% done');\n",
              "    li.appendChild(percent);\n",
              "\n",
              "    outputElement.appendChild(li);\n",
              "\n",
              "    const fileDataPromise = new Promise((resolve) => {\n",
              "      const reader = new FileReader();\n",
              "      reader.onload = (e) => {\n",
              "        resolve(e.target.result);\n",
              "      };\n",
              "      reader.readAsArrayBuffer(file);\n",
              "    });\n",
              "    // Wait for the data to be ready.\n",
              "    let fileData = yield {\n",
              "      promise: fileDataPromise,\n",
              "      response: {\n",
              "        action: 'continue',\n",
              "      }\n",
              "    };\n",
              "\n",
              "    // Use a chunked sending to avoid message size limits. See b/62115660.\n",
              "    let position = 0;\n",
              "    do {\n",
              "      const length = Math.min(fileData.byteLength - position, MAX_PAYLOAD_SIZE);\n",
              "      const chunk = new Uint8Array(fileData, position, length);\n",
              "      position += length;\n",
              "\n",
              "      const base64 = btoa(String.fromCharCode.apply(null, chunk));\n",
              "      yield {\n",
              "        response: {\n",
              "          action: 'append',\n",
              "          file: file.name,\n",
              "          data: base64,\n",
              "        },\n",
              "      };\n",
              "\n",
              "      let percentDone = fileData.byteLength === 0 ?\n",
              "          100 :\n",
              "          Math.round((position / fileData.byteLength) * 100);\n",
              "      percent.textContent = `${percentDone}% done`;\n",
              "\n",
              "    } while (position < fileData.byteLength);\n",
              "  }\n",
              "\n",
              "  // All done.\n",
              "  yield {\n",
              "    response: {\n",
              "      action: 'complete',\n",
              "    }\n",
              "  };\n",
              "}\n",
              "\n",
              "scope.google = scope.google || {};\n",
              "scope.google.colab = scope.google.colab || {};\n",
              "scope.google.colab._files = {\n",
              "  _uploadFiles,\n",
              "  _uploadFilesContinue,\n",
              "};\n",
              "})(self);\n",
              "</script> "
            ]
          },
          "metadata": {}
        },
        {
          "output_type": "stream",
          "name": "stdout",
          "text": [
            "Saving nba-2016.csv to nba-2016.csv\n"
          ]
        },
        {
          "output_type": "execute_result",
          "data": {
            "text/plain": [
              "{'nba-2016.csv': b'Date,Start (ET),Visitor/Neutral,PTS,Home/Neutral,PTS,,,Attend.,Notes\\r\\nTue Oct 27 2015,8:00p,Cleveland Cavaliers,95,Chicago Bulls,97,Box Score,,21957,\\r\\nTue Oct 27 2015,8:00p,Detroit Pistons,106,Atlanta Hawks,94,Box Score,,19187,\\r\\nTue Oct 27 2015,10:30p,New Orleans Pelicans,95,Golden State Warriors,111,Box Score,,19596,\\r\\nWed Oct 28 2015,7:00p,Washington Wizards,88,Orlando Magic,87,Box Score,,18846,\\r\\nWed Oct 28 2015,7:30p,Philadelphia 76ers,95,Boston Celtics,112,Box Score,,18624,\\r\\nWed Oct 28 2015,7:30p,Chicago Bulls,115,Brooklyn Nets,100,Box Score,,17732,\\r\\nWed Oct 28 2015,7:30p,Utah Jazz,87,Detroit Pistons,92,Box Score,,18434,\\r\\nWed Oct 28 2015,7:30p,Indiana Pacers,99,Toronto Raptors,106,Box Score,,19800,\\r\\nWed Oct 28 2015,7:30p,Charlotte Hornets,94,Miami Heat,104,Box Score,,19724,\\r\\nWed Oct 28 2015,8:00p,New York Knicks,122,Milwaukee Bucks,97,Box Score,,18717,\\r\\nWed Oct 28 2015,8:00p,San Antonio Spurs,106,Oklahoma City Thunder,112,Box Score,,18203,\\r\\nWed Oct 28 2015,8:00p,Cleveland Cavaliers,106,Memphis Grizzlies,76,Box Score,,18119,\\r\\nWed Oct 28 2015,8:00p,Denver Nuggets,105,Houston Rockets,85,Box Score,,18240,\\r\\nWed Oct 28 2015,10:00p,Dallas Mavericks,111,Phoenix Suns,95,Box Score,,18055,\\r\\nWed Oct 28 2015,10:00p,New Orleans Pelicans,94,Portland Trail Blazers,112,Box Score,,19393,\\r\\nWed Oct 28 2015,10:00p,Los Angeles Clippers,111,Sacramento Kings,104,Box Score,,17458,\\r\\nWed Oct 28 2015,10:30p,Minnesota Timberwolves,112,Los Angeles Lakers,111,Box Score,,18997,\\r\\nThu Oct 29 2015,7:00p,Memphis Grizzlies,112,Indiana Pacers,103,Box Score,,18165,\\r\\nThu Oct 29 2015,8:00p,Atlanta Hawks,112,New York Knicks,101,Box Score,,19812,\\r\\nThu Oct 29 2015,10:30p,Dallas Mavericks,88,Los Angeles Clippers,104,Box Score,,19218,\\r\\nFri Oct 30 2015,7:00p,Miami Heat,92,Cleveland Cavaliers,102,Box Score,,20562,\\r\\nFri Oct 30 2015,7:00p,Utah Jazz,99,Philadelphia 76ers,71,Box Score,,17122,\\r\\nFri Oct 30 2015,7:00p,Oklahoma City Thunder,139,Orlando Magic,136,Box Score,2OT,18846,\\r\\nFri Oct 30 2015,7:30p,Toronto Raptors,113,Boston Celtics,103,Box Score,,16898,\\r\\nFri Oct 30 2015,7:30p,Chicago Bulls,94,Detroit Pistons,98,Box Score,OT,16035,\\r\\nFri Oct 30 2015,8:00p,Charlotte Hornets,94,Atlanta Hawks,97,Box Score,,17024,\\r\\nFri Oct 30 2015,8:00p,Washington Wizards,118,Milwaukee Bucks,113,Box Score,,13858,\\r\\nFri Oct 30 2015,8:30p,Brooklyn Nets,75,San Antonio Spurs,102,Box Score,,18418,\\r\\nFri Oct 30 2015,9:00p,Minnesota Timberwolves,95,Denver Nuggets,78,Box Score,,17660,\\r\\nFri Oct 30 2015,9:30p,Golden State Warriors,112,Houston Rockets,92,Box Score,,18142,\\r\\nFri Oct 30 2015,10:00p,Los Angeles Lakers,114,Sacramento Kings,132,Box Score,,17391,\\r\\nFri Oct 30 2015,10:30p,Portland Trail Blazers,92,Phoenix Suns,110,Box Score,,18055,\\r\\nSat Oct 31 2015,7:00p,Utah Jazz,97,Indiana Pacers,76,Box Score,,14412,\\r\\nSat Oct 31 2015,7:00p,New York Knicks,117,Washington Wizards,110,Box Score,,20356,\\r\\nSat Oct 31 2015,7:30p,Golden State Warriors,134,New Orleans Pelicans,120,Box Score,,18406,\\r\\nSat Oct 31 2015,8:00p,Brooklyn Nets,91,Memphis Grizzlies,101,Box Score,,16013,\\r\\nSat Oct 31 2015,10:00p,Phoenix Suns,101,Portland Trail Blazers,90,Box Score,,17906,\\r\\nSat Oct 31 2015,10:30p,Sacramento Kings,109,Los Angeles Clippers,114,Box Score,,19060,\\r\\nSun Nov 1 2015,2:00p,Atlanta Hawks,94,Charlotte Hornets,92,Box Score,,18691,\\r\\nSun Nov 1 2015,3:30p,San Antonio Spurs,95,Boston Celtics,87,Box Score,,17461,\\r\\nSun Nov 1 2015,6:00p,Houston Rockets,89,Miami Heat,109,Box Score,,19600,\\r\\nSun Nov 1 2015,6:00p,Milwaukee Bucks,87,Toronto Raptors,106,Box Score,,19800,\\r\\nSun Nov 1 2015,7:00p,Orlando Magic,87,Chicago Bulls,92,Box Score,,21585,\\r\\nSun Nov 1 2015,7:00p,Denver Nuggets,93,Oklahoma City Thunder,117,Box Score,,18203,\\r\\nSun Nov 1 2015,9:30p,Dallas Mavericks,103,Los Angeles Lakers,93,Box Score,,18997,\\r\\nMon Nov 2 2015,7:00p,Cleveland Cavaliers,107,Philadelphia 76ers,100,Box Score,,18094,\\r\\nMon Nov 2 2015,7:30p,Milwaukee Bucks,103,Brooklyn Nets,96,Box Score,,12576,\\r\\nMon Nov 2 2015,7:30p,San Antonio Spurs,94,New York Knicks,84,Box Score,,19812,\\r\\nMon Nov 2 2015,8:00p,Oklahoma City Thunder,105,Houston Rockets,110,Box Score,,17224,\\r\\nMon Nov 2 2015,8:00p,Portland Trail Blazers,106,Minnesota Timberwolves,101,Box Score,,18903,\\r\\nMon Nov 2 2015,10:30p,Memphis Grizzlies,69,Golden State Warriors,119,Box Score,,19596,\\r\\nMon Nov 2 2015,10:30p,Phoenix Suns,96,Los Angeles Clippers,102,Box Score,,19060,\\r\\nTue Nov 3 2015,7:00p,Chicago Bulls,105,Charlotte Hornets,130,Box Score,,15136,\\r\\nTue Nov 3 2015,7:30p,Indiana Pacers,94,Detroit Pistons,82,Box Score,,13325,\\r\\nTue Nov 3 2015,7:30p,Atlanta Hawks,98,Miami Heat,92,Box Score,,19600,\\r\\nTue Nov 3 2015,8:00p,Orlando Magic,103,New Orleans Pelicans,94,Box Score,,16876,\\r\\nTue Nov 3 2015,8:30p,Toronto Raptors,102,Dallas Mavericks,91,Box Score,,20034,\\r\\nTue Nov 3 2015,10:00p,Memphis Grizzlies,103,Sacramento Kings,89,Box Score,,17317,\\r\\nTue Nov 3 2015,10:30p,Denver Nuggets,120,Los Angeles Lakers,109,Box Score,,18997,\\r\\nWed Nov 4 2015,7:00p,Boston Celtics,98,Indiana Pacers,100,Box Score,,14022,\\r\\nWed Nov 4 2015,7:00p,San Antonio Spurs,99,Washington Wizards,102,Box Score,,17721,\\r\\nWed Nov 4 2015,8:00p,Brooklyn Nets,87,Atlanta Hawks,101,Box Score,,14044,\\r\\nWed Nov 4 2015,8:00p,New York Knicks,86,Cleveland Cavaliers,96,Box Score,,20562,\\r\\nWed Nov 4 2015,8:00p,Orlando Magic,114,Houston Rockets,119,Box Score,OT,16735,\\r\\nWed Nov 4 2015,8:00p,Philadelphia 76ers,87,Milwaukee Bucks,91,Box Score,,12437,\\r\\nWed Nov 4 2015,8:00p,Toronto Raptors,103,Oklahoma City Thunder,98,Box Score,,18203,\\r\\nWed Nov 4 2015,9:00p,Sacramento Kings,97,Phoenix Suns,118,Box Score,,16497,\\r\\nWed Nov 4 2015,9:00p,Portland Trail Blazers,108,Utah Jazz,92,Box Score,,19911,\\r\\nWed Nov 4 2015,10:30p,Los Angeles Clippers,108,Golden State Warriors,112,Box Score,,19596,\\r\\nThu Nov 5 2015,8:00p,Oklahoma City Thunder,98,Chicago Bulls,104,Box Score,,21861,\\r\\nThu Nov 5 2015,8:00p,Miami Heat,96,Minnesota Timberwolves,84,Box Score,,11794,\\r\\nThu Nov 5 2015,8:30p,Charlotte Hornets,108,Dallas Mavericks,94,Box Score,,19635,\\r\\nThu Nov 5 2015,9:00p,Utah Jazz,96,Denver Nuggets,84,Box Score,,9906,\\r\\nThu Nov 5 2015,10:30p,Memphis Grizzlies,96,Portland Trail Blazers,115,Box Score,,19393,\\r\\nFri Nov 6 2015,7:00p,Toronto Raptors,87,Orlando Magic,92,Box Score,,16578,\\r\\nFri Nov 6 2015,7:30p,Washington Wizards,98,Boston Celtics,118,Box Score,,18624,\\r\\nFri Nov 6 2015,7:30p,Los Angeles Lakers,104,Brooklyn Nets,98,Box Score,,17732,\\r\\nFri Nov 6 2015,7:30p,Philadelphia 76ers,102,Cleveland Cavaliers,108,Box Score,,20562,\\r\\nFri Nov 6 2015,7:30p,Milwaukee Bucks,99,New York Knicks,92,Box Score,,19812,\\r\\nFri Nov 6 2015,8:00p,Miami Heat,87,Indiana Pacers,90,Box Score,,16914,\\r\\nFri Nov 6 2015,8:00p,Atlanta Hawks,121,New Orleans Pelicans,115,Box Score,,16983,\\r\\nFri Nov 6 2015,9:30p,Detroit Pistons,100,Phoenix Suns,92,Box Score,,16676,\\r\\nFri Nov 6 2015,10:30p,Denver Nuggets,104,Golden State Warriors,119,Box Score,,19596,\\r\\nFri Nov 6 2015,10:30p,Houston Rockets,116,Sacramento Kings,110,Box Score,,16983,\\r\\nSat Nov 7 2015,6:00p,Minnesota Timberwolves,102,Chicago Bulls,93,Box Score,OT,21988,\\r\\nSat Nov 7 2015,7:00p,Orlando Magic,105,Philadelphia 76ers,97,Box Score,,15207,\\r\\nSat Nov 7 2015,7:30p,Washington Wizards,99,Atlanta Hawks,114,Box Score,,18047,\\r\\nSat Nov 7 2015,8:30p,New Orleans Pelicans,98,Dallas Mavericks,107,Box Score,,20454,\\r\\nSat Nov 7 2015,8:30p,Brooklyn Nets,86,Milwaukee Bucks,94,Box Score,,15228,\\r\\nSat Nov 7 2015,8:30p,Charlotte Hornets,94,San Antonio Spurs,114,Box Score,,18418,\\r\\nSat Nov 7 2015,9:00p,Memphis Grizzlies,79,Utah Jazz,89,Box Score,,19456,\\r\\nSat Nov 7 2015,10:00p,Golden State Warriors,103,Sacramento Kings,94,Box Score,,17317,\\r\\nSat Nov 7 2015,10:30p,Houston Rockets,109,Los Angeles Clippers,105,Box Score,,19361,\\r\\nSun Nov 8 2015,3:30p,Indiana Pacers,97,Cleveland Cavaliers,101,Box Score,,20562,\\r\\nSun Nov 8 2015,3:30p,Los Angeles Lakers,95,New York Knicks,99,Box Score,,19812,\\r\\nSun Nov 8 2015,6:00p,Toronto Raptors,76,Miami Heat,96,Box Score,,19600,\\r\\nSun Nov 8 2015,7:00p,Phoenix Suns,103,Oklahoma City Thunder,124,Box Score,,18203,\\r\\nSun Nov 8 2015,9:00p,Detroit Pistons,120,Portland Trail Blazers,103,Box Score,,19393,\\r\\nMon Nov 9 2015,7:00p,Orlando Magic,84,Indiana Pacers,97,Box Score,,13104,\\r\\nMon Nov 9 2015,7:00p,Chicago Bulls,111,Philadelphia 76ers,88,Box Score,,13879,\\r\\nMon Nov 9 2015,8:00p,Minnesota Timberwolves,117,Atlanta Hawks,107,Box Score,,12016,\\r\\nMon Nov 9 2015,9:00p,Portland Trail Blazers,104,Denver Nuggets,108,Box Score,,9153,\\r\\nMon Nov 9 2015,10:00p,San Antonio Spurs,106,Sacramento Kings,88,Box Score,,17317,\\r\\nMon Nov 9 2015,10:30p,Detroit Pistons,95,Golden State Warriors,109,Box Score,,19596,\\r\\nMon Nov 9 2015,10:30p,Memphis Grizzlies,92,Los Angeles Clippers,94,Box Score,,19060,\\r\\nTue Nov 10 2015,7:00p,Utah Jazz,114,Cleveland Cavaliers,118,Box Score,,20562,\\r\\nTue Nov 10 2015,7:00p,Oklahoma City Thunder,125,Washington Wizards,101,Box Score,,20356,\\r\\nTue Nov 10 2015,7:30p,Los Angeles Lakers,88,Miami Heat,101,Box Score,,19825,\\r\\nTue Nov 10 2015,7:30p,New York Knicks,111,Toronto Raptors,109,Box Score,,19800,\\r\\nTue Nov 10 2015,8:00p,Boston Celtics,99,Milwaukee Bucks,83,Box Score,,11822,\\r\\nTue Nov 10 2015,8:00p,Charlotte Hornets,104,Minnesota Timberwolves,95,Box Score,,14722,\\r\\nTue Nov 10 2015,8:00p,Dallas Mavericks,105,New Orleans Pelicans,120,Box Score,,17128,\\r\\nWed Nov 11 2015,7:00p,New York Knicks,93,Charlotte Hornets,95,Box Score,,16643,\\r\\nWed Nov 11 2015,7:00p,Los Angeles Lakers,99,Orlando Magic,101,Box Score,,18846,\\r\\nWed Nov 11 2015,7:00p,Toronto Raptors,119,Philadelphia 76ers,103,Box Score,,12744,\\r\\nWed Nov 11 2015,7:30p,Indiana Pacers,102,Boston Celtics,91,Box Score,,17879,\\r\\nWed Nov 11 2015,8:00p,New Orleans Pelicans,98,Atlanta Hawks,106,Box Score,,15597,\\r\\nWed Nov 11 2015,8:00p,Los Angeles Clippers,108,Dallas Mavericks,118,Box Score,,19805,\\r\\nWed Nov 11 2015,8:00p,Brooklyn Nets,106,Houston Rockets,98,Box Score,,18155,\\r\\nWed Nov 11 2015,8:00p,Golden State Warriors,100,Memphis Grizzlies,84,Box Score,,18119,\\r\\nWed Nov 11 2015,9:00p,Milwaukee Bucks,102,Denver Nuggets,103,Box Score,,9403,\\r\\nWed Nov 11 2015,10:00p,Detroit Pistons,92,Sacramento Kings,101,Box Score,,17317,\\r\\nWed Nov 11 2015,10:30p,San Antonio Spurs,113,Portland Trail Blazers,101,Box Score,,19393,\\r\\nThu Nov 12 2015,7:30p,Utah Jazz,91,Miami Heat,92,Box Score,,19600,\\r\\nThu Nov 12 2015,8:00p,Golden State Warriors,129,Minnesota Timberwolves,116,Box Score,,16130,\\r\\nThu Nov 12 2015,10:30p,Los Angeles Clippers,104,Phoenix Suns,118,Box Score,,17204,\\r\\nFri Nov 13 2015,7:00p,Minnesota Timberwolves,103,Indiana Pacers,107,Box Score,,16797,\\r\\nFri Nov 13 2015,7:00p,Utah Jazz,93,Orlando Magic,102,Box Score,,16709,\\r\\nFri Nov 13 2015,7:30p,Atlanta Hawks,93,Boston Celtics,106,Box Score,,17138,\\r\\nFri Nov 13 2015,7:30p,Cleveland Cavaliers,90,New York Knicks,84,Box Score,,19812,\\r\\nFri Nov 13 2015,7:30p,New Orleans Pelicans,81,Toronto Raptors,100,Box Score,,19800,\\r\\nFri Nov 13 2015,8:00p,Charlotte Hornets,97,Chicago Bulls,102,Box Score,,21749,\\r\\nFri Nov 13 2015,8:00p,Portland Trail Blazers,100,Memphis Grizzlies,101,Box Score,,16919,\\r\\nFri Nov 13 2015,8:00p,Philadelphia 76ers,85,Oklahoma City Thunder,102,Box Score,,18203,\\r\\nFri Nov 13 2015,8:30p,Los Angeles Lakers,82,Dallas Mavericks,90,Box Score,,20260,\\r\\nFri Nov 13 2015,9:00p,Houston Rockets,98,Denver Nuggets,107,Box Score,,16113,\\r\\nFri Nov 13 2015,10:00p,Brooklyn Nets,109,Sacramento Kings,111,Box Score,,17131,\\r\\nSat Nov 14 2015,3:30p,Detroit Pistons,96,Los Angeles Clippers,101,Box Score,,19060,\\r\\nSat Nov 14 2015,7:00p,Orlando Magic,99,Washington Wizards,108,Box Score,,18311,\\r\\nSat Nov 14 2015,8:00p,Dallas Mavericks,110,Houston Rockets,98,Box Score,,18231,\\r\\nSat Nov 14 2015,8:30p,Cleveland Cavaliers,105,Milwaukee Bucks,108,Box Score,2OT,18717,\\r\\nSat Nov 14 2015,8:30p,Philadelphia 76ers,83,San Antonio Spurs,92,Box Score,,18418,\\r\\nSat Nov 14 2015,9:00p,Denver Nuggets,81,Phoenix Suns,105,Box Score,,16722,\\r\\nSat Nov 14 2015,10:30p,Brooklyn Nets,99,Golden State Warriors,107,Box Score,OT,19596,\\r\\nSun Nov 15 2015,12:00p,New Orleans Pelicans,87,New York Knicks,95,Box Score,,19812,\\r\\nSun Nov 15 2015,3:30p,Memphis Grizzlies,114,Minnesota Timberwolves,106,Box Score,,12086,\\r\\nSun Nov 15 2015,5:00p,Portland Trail Blazers,94,Charlotte Hornets,106,Box Score,,15317,\\r\\nSun Nov 15 2015,6:00p,Utah Jazz,97,Atlanta Hawks,96,Box Score,,14436,\\r\\nSun Nov 15 2015,7:00p,Boston Celtics,100,Oklahoma City Thunder,85,Box Score,,18203,\\r\\nSun Nov 15 2015,9:00p,Toronto Raptors,101,Sacramento Kings,107,Box Score,,17006,\\r\\nSun Nov 15 2015,9:30p,Detroit Pistons,85,Los Angeles Lakers,97,Box Score,,18997,\\r\\nMon Nov 16 2015,7:00p,Dallas Mavericks,92,Philadelphia 76ers,86,Box Score,,11555,\\r\\nMon Nov 16 2015,8:00p,Indiana Pacers,95,Chicago Bulls,96,Box Score,,21660,\\r\\nMon Nov 16 2015,8:00p,Boston Celtics,111,Houston Rockets,95,Box Score,,17005,\\r\\nMon Nov 16 2015,8:00p,Oklahoma City Thunder,114,Memphis Grizzlies,122,Box Score,,17270,\\r\\nMon Nov 16 2015,8:30p,Portland Trail Blazers,80,San Antonio Spurs,93,Box Score,,18418,\\r\\nMon Nov 16 2015,9:00p,Los Angeles Lakers,101,Phoenix Suns,120,Box Score,,18055,\\r\\nTue Nov 17 2015,7:00p,Milwaukee Bucks,86,Washington Wizards,115,Box Score,,15485,\\r\\nTue Nov 17 2015,7:30p,Atlanta Hawks,88,Brooklyn Nets,90,Box Score,,12241,\\r\\nTue Nov 17 2015,7:30p,Cleveland Cavaliers,99,Detroit Pistons,104,Box Score,,18442,\\r\\nTue Nov 17 2015,7:30p,Minnesota Timberwolves,103,Miami Heat,91,Box Score,,19600,\\r\\nTue Nov 17 2015,7:30p,Charlotte Hornets,94,New York Knicks,102,Box Score,,19812,\\r\\nTue Nov 17 2015,8:00p,Denver Nuggets,115,New Orleans Pelicans,98,Box Score,,17269,\\r\\nTue Nov 17 2015,10:30p,Toronto Raptors,110,Golden State Warriors,115,Box Score,,19596,\\r\\nWed Nov 18 2015,7:00p,Brooklyn Nets,111,Charlotte Hornets,116,Box Score,,14040,\\r\\nWed Nov 18 2015,7:00p,Minnesota Timberwolves,101,Orlando Magic,104,Box Score,OT,16048,\\r\\nWed Nov 18 2015,7:00p,Indiana Pacers,112,Philadelphia 76ers,85,Box Score,,11080,\\r\\nWed Nov 18 2015,7:30p,Dallas Mavericks,106,Boston Celtics,102,Box Score,,17262,\\r\\nWed Nov 18 2015,8:00p,Sacramento Kings,97,Atlanta Hawks,103,Box Score,,13008,\\r\\nWed Nov 18 2015,8:00p,Portland Trail Blazers,103,Houston Rockets,108,Box Score,OT,17107,\\r\\nWed Nov 18 2015,8:00p,New Orleans Pelicans,103,Oklahoma City Thunder,110,Box Score,,18203,\\r\\nWed Nov 18 2015,8:30p,Denver Nuggets,98,San Antonio Spurs,109,Box Score,,18418,\\r\\nWed Nov 18 2015,9:00p,Toronto Raptors,89,Utah Jazz,93,Box Score,,18741,\\r\\nWed Nov 18 2015,10:30p,Chicago Bulls,103,Phoenix Suns,97,Box Score,,17377,\\r\\nThu Nov 19 2015,7:30p,Sacramento Kings,109,Miami Heat,116,Box Score,,19600,\\r\\nThu Nov 19 2015,8:00p,Milwaukee Bucks,100,Cleveland Cavaliers,115,Box Score,,20562,\\r\\nThu Nov 19 2015,10:30p,Golden State Warriors,124,Los Angeles Clippers,117,Box Score,,19528,\\r\\nFri Nov 20 2015,7:00p,Philadelphia 76ers,88,Charlotte Hornets,113,Box Score,,17926,\\r\\nFri Nov 20 2015,7:30p,Brooklyn Nets,95,Boston Celtics,120,Box Score,,18361,\\r\\nFri Nov 20 2015,8:00p,Houston Rockets,84,Memphis Grizzlies,96,Box Score,,17555,\\r\\nFri Nov 20 2015,8:00p,Detroit Pistons,96,Minnesota Timberwolves,86,Box Score,,13445,\\r\\nFri Nov 20 2015,8:00p,San Antonio Spurs,90,New Orleans Pelicans,104,Box Score,,16698,\\r\\nFri Nov 20 2015,8:00p,New York Knicks,93,Oklahoma City Thunder,90,Box Score,,18203,\\r\\nFri Nov 20 2015,8:30p,Utah Jazz,93,Dallas Mavericks,102,Box Score,,20028,\\r\\nFri Nov 20 2015,9:00p,Phoenix Suns,114,Denver Nuggets,107,Box Score,,12264,\\r\\nFri Nov 20 2015,10:00p,Los Angeles Clippers,91,Portland Trail Blazers,102,Box Score,,19393,\\r\\nFri Nov 20 2015,10:30p,Chicago Bulls,94,Golden State Warriors,106,Box Score,,19596,\\r\\nFri Nov 20 2015,10:30p,Toronto Raptors,102,Los Angeles Lakers,91,Box Score,,18997,\\r\\nSat Nov 21 2015,5:00p,Sacramento Kings,97,Orlando Magic,91,Box Score,,16104,\\r\\nSat Nov 21 2015,7:00p,Milwaukee Bucks,86,Indiana Pacers,123,Box Score,,17137,\\r\\nSat Nov 21 2015,7:30p,Atlanta Hawks,97,Cleveland Cavaliers,109,Box Score,,20562,\\r\\nSat Nov 21 2015,7:30p,Washington Wizards,97,Detroit Pistons,95,Box Score,,15890,\\r\\nSat Nov 21 2015,8:00p,New York Knicks,107,Houston Rockets,102,Box Score,,18226,\\r\\nSat Nov 21 2015,8:00p,Philadelphia 76ers,91,Miami Heat,96,Box Score,,19673,\\r\\nSat Nov 21 2015,8:30p,Memphis Grizzlies,82,San Antonio Spurs,92,Box Score,,18418,\\r\\nSun Nov 22 2015,3:30p,Toronto Raptors,91,Los Angeles Clippers,80,Box Score,,19060,\\r\\nSun Nov 22 2015,6:00p,Boston Celtics,101,Brooklyn Nets,111,Box Score,,14866,\\r\\nSun Nov 22 2015,6:00p,Phoenix Suns,116,New Orleans Pelicans,122,Box Score,,16680,\\r\\nSun Nov 22 2015,7:00p,Dallas Mavericks,114,Oklahoma City Thunder,117,Box Score,,18203,\\r\\nSun Nov 22 2015,8:00p,Golden State Warriors,118,Denver Nuggets,105,Box Score,,17689,\\r\\nSun Nov 22 2015,9:30p,Portland Trail Blazers,107,Los Angeles Lakers,93,Box Score,,18997,\\r\\nMon Nov 23 2015,7:00p,Sacramento Kings,122,Charlotte Hornets,127,Box Score,OT,14163,\\r\\nMon Nov 23 2015,7:00p,Orlando Magic,103,Cleveland Cavaliers,117,Box Score,,20562,\\r\\nMon Nov 23 2015,7:30p,New York Knicks,78,Miami Heat,95,Box Score,,19777,\\r\\nMon Nov 23 2015,8:00p,Detroit Pistons,88,Milwaukee Bucks,109,Box Score,,12319,\\r\\nMon Nov 23 2015,8:00p,Philadelphia 76ers,95,Minnesota Timberwolves,100,Box Score,,11382,\\r\\nMon Nov 23 2015,8:30p,Phoenix Suns,84,San Antonio Spurs,98,Box Score,,18418,\\r\\nMon Nov 23 2015,9:00p,Oklahoma City Thunder,111,Utah Jazz,89,Box Score,,19911,\\r\\nTue Nov 24 2015,7:00p,Indiana Pacers,123,Washington Wizards,106,Box Score,,15486,\\r\\nTue Nov 24 2015,8:00p,Boston Celtics,97,Atlanta Hawks,121,Box Score,,18968,\\r\\nTue Nov 24 2015,8:00p,Dallas Mavericks,96,Memphis Grizzlies,110,Box Score,,17381,\\r\\nTue Nov 24 2015,9:00p,Los Angeles Clippers,111,Denver Nuggets,94,Box Score,,13257,\\r\\nTue Nov 24 2015,10:00p,Chicago Bulls,93,Portland Trail Blazers,88,Box Score,,19393,\\r\\nTue Nov 24 2015,10:30p,Los Angeles Lakers,77,Golden State Warriors,111,Box Score,,19596,\\r\\nWed Nov 25 2015,7:00p,Washington Wizards,87,Charlotte Hornets,101,Box Score,,17064,\\r\\nWed Nov 25 2015,7:00p,New York Knicks,91,Orlando Magic,100,Box Score,,18846,\\r\\nWed Nov 25 2015,7:30p,Philadelphia 76ers,80,Boston Celtics,84,Box Score,,17588,\\r\\nWed Nov 25 2015,7:30p,Miami Heat,81,Detroit Pistons,104,Box Score,,15119,\\r\\nWed Nov 25 2015,7:30p,Cleveland Cavaliers,99,Toronto Raptors,103,Box Score,,20140,\\r\\nWed Nov 25 2015,8:00p,Memphis Grizzlies,102,Houston Rockets,93,Box Score,,18143,\\r\\nWed Nov 25 2015,8:00p,Sacramento Kings,129,Milwaukee Bucks,118,Box Score,,14120,\\r\\nWed Nov 25 2015,8:00p,Atlanta Hawks,95,Minnesota Timberwolves,99,Box Score,,14289,\\r\\nWed Nov 25 2015,8:00p,Brooklyn Nets,99,Oklahoma City Thunder,110,Box Score,,18203,\\r\\nWed Nov 25 2015,8:30p,Dallas Mavericks,83,San Antonio Spurs,88,Box Score,,18418,\\r\\nWed Nov 25 2015,9:00p,New Orleans Pelicans,120,Phoenix Suns,114,Box Score,,16338,\\r\\nWed Nov 25 2015,10:30p,Utah Jazz,102,Los Angeles Clippers,91,Box Score,,19060,\\r\\nFri Nov 27 2015,7:00p,Cleveland Cavaliers,95,Charlotte Hornets,90,Box Score,,19093,\\r\\nFri Nov 27 2015,7:00p,Milwaukee Bucks,90,Orlando Magic,114,Box Score,,16317,\\r\\nFri Nov 27 2015,7:30p,Washington Wizards,78,Boston Celtics,111,Box Score,,18624,\\r\\nFri Nov 27 2015,7:30p,Miami Heat,97,New York Knicks,78,Box Score,,19812,\\r\\nFri Nov 27 2015,8:00p,Philadelphia 76ers,114,Houston Rockets,116,Box Score,,17306,\\r\\nFri Nov 27 2015,8:00p,Chicago Bulls,92,Indiana Pacers,104,Box Score,,18165,\\r\\nFri Nov 27 2015,8:00p,Atlanta Hawks,116,Memphis Grizzlies,101,Box Score,,17684,\\r\\nFri Nov 27 2015,8:00p,Detroit Pistons,87,Oklahoma City Thunder,103,Box Score,,18203,\\r\\nFri Nov 27 2015,9:00p,San Antonio Spurs,91,Denver Nuggets,80,Box Score,,17121,\\r\\nFri Nov 27 2015,9:30p,Golden State Warriors,135,Phoenix Suns,116,Box Score,,18055,\\r\\nFri Nov 27 2015,10:00p,Minnesota Timberwolves,101,Sacramento Kings,91,Box Score,,17317,\\r\\nFri Nov 27 2015,10:30p,New Orleans Pelicans,90,Los Angeles Clippers,111,Box Score,,19162,\\r\\nSat Nov 28 2015,7:00p,Toronto Raptors,84,Washington Wizards,82,Box Score,,16841,\\r\\nSat Nov 28 2015,7:30p,Brooklyn Nets,88,Cleveland Cavaliers,90,Box Score,,20562,\\r\\nSat Nov 28 2015,8:30p,Denver Nuggets,81,Dallas Mavericks,92,Box Score,,20339,\\r\\nSat Nov 28 2015,8:30p,Atlanta Hawks,88,San Antonio Spurs,108,Box Score,,18418,\\r\\nSat Nov 28 2015,9:00p,New Orleans Pelicans,87,Utah Jazz,101,Box Score,,19911,\\r\\nSat Nov 28 2015,10:00p,Los Angeles Lakers,96,Portland Trail Blazers,108,Box Score,,20019,\\r\\nSat Nov 28 2015,10:30p,Sacramento Kings,101,Golden State Warriors,120,Box Score,,19596,\\r\\nSun Nov 29 2015,2:00p,Milwaukee Bucks,82,Charlotte Hornets,87,Box Score,,14224,\\r\\nSun Nov 29 2015,3:30p,Minnesota Timberwolves,99,Los Angeles Clippers,107,Box Score,,19060,\\r\\nSun Nov 29 2015,6:00p,Detroit Pistons,83,Brooklyn Nets,87,Box Score,,12823,\\r\\nSun Nov 29 2015,6:00p,Philadelphia 76ers,84,Memphis Grizzlies,92,Box Score,,15322,\\r\\nSun Nov 29 2015,6:00p,Boston Celtics,91,Orlando Magic,110,Box Score,,16209,\\r\\nSun Nov 29 2015,6:00p,Phoenix Suns,107,Toronto Raptors,102,Box Score,,19800,\\r\\nSun Nov 29 2015,7:30p,Houston Rockets,116,New York Knicks,111,Box Score,OT,19812,\\r\\nSun Nov 29 2015,9:30p,Indiana Pacers,107,Los Angeles Lakers,103,Box Score,,18997,\\r\\nMon Nov 30 2015,7:30p,Houston Rockets,105,Detroit Pistons,116,Box Score,,14818,\\r\\nMon Nov 30 2015,7:30p,Boston Celtics,105,Miami Heat,95,Box Score,,19600,\\r\\nMon Nov 30 2015,8:00p,Oklahoma City Thunder,100,Atlanta Hawks,106,Box Score,,17768,\\r\\nMon Nov 30 2015,8:00p,San Antonio Spurs,89,Chicago Bulls,92,Box Score,,21909,\\r\\nMon Nov 30 2015,8:00p,Denver Nuggets,74,Milwaukee Bucks,92,Box Score,,10187,\\r\\nMon Nov 30 2015,9:00p,Golden State Warriors,106,Utah Jazz,103,Box Score,,19911,\\r\\nMon Nov 30 2015,10:00p,Dallas Mavericks,98,Sacramento Kings,112,Box Score,,16937,\\r\\nMon Nov 30 2015,10:30p,Portland Trail Blazers,87,Los Angeles Clippers,102,Box Score,,19060,\\r\\nTue Dec 1 2015,7:00p,Washington Wizards,97,Cleveland Cavaliers,85,Box Score,,20562,\\r\\nTue Dec 1 2015,7:00p,Los Angeles Lakers,91,Philadelphia 76ers,103,Box Score,,20510,\\r\\nTue Dec 1 2015,7:30p,Phoenix Suns,91,Brooklyn Nets,94,Box Score,,12787,\\r\\nTue Dec 1 2015,8:00p,Orlando Magic,96,Minnesota Timberwolves,93,Box Score,,10694,\\r\\nTue Dec 1 2015,8:00p,Memphis Grizzlies,113,New Orleans Pelicans,104,Box Score,,16020,\\r\\nTue Dec 1 2015,10:00p,Dallas Mavericks,115,Portland Trail Blazers,112,Box Score,OT,19393,\\r\\nWed Dec 2 2015,7:00p,Golden State Warriors,116,Charlotte Hornets,99,Box Score,,19542,\\r\\nWed Dec 2 2015,7:00p,Los Angeles Lakers,108,Washington Wizards,104,Box Score,,20356,\\r\\nWed Dec 2 2015,7:30p,Phoenix Suns,122,Detroit Pistons,127,Box Score,OT,13985,\\r\\nWed Dec 2 2015,7:30p,Philadelphia 76ers,87,New York Knicks,99,Box Score,,19812,\\r\\nWed Dec 2 2015,8:00p,Toronto Raptors,96,Atlanta Hawks,86,Box Score,,12559,\\r\\nWed Dec 2 2015,8:00p,Denver Nuggets,90,Chicago Bulls,99,Box Score,,21349,\\r\\nWed Dec 2 2015,8:00p,New Orleans Pelicans,101,Houston Rockets,108,Box Score,,17339,\\r\\nWed Dec 2 2015,8:30p,Milwaukee Bucks,70,San Antonio Spurs,95,Box Score,,18418,\\r\\nWed Dec 2 2015,10:30p,Indiana Pacers,103,Los Angeles Clippers,91,Box Score,,19060,\\r\\nThu Dec 3 2015,7:00p,Oklahoma City Thunder,95,Miami Heat,97,Box Score,,19600,\\r\\nThu Dec 3 2015,7:30p,Denver Nuggets,106,Toronto Raptors,105,Box Score,,19800,\\r\\nThu Dec 3 2015,9:00p,Orlando Magic,103,Utah Jazz,94,Box Score,,19247,\\r\\nThu Dec 3 2015,9:30p,San Antonio Spurs,103,Memphis Grizzlies,83,Box Score,,17013,\\r\\nThu Dec 3 2015,10:00p,Indiana Pacers,111,Portland Trail Blazers,123,Box Score,,19206,\\r\\nThu Dec 3 2015,10:00p,Boston Celtics,114,Sacramento Kings,97,Box Score,,18660,at Mexico City Mexico\\r\\nFri Dec 4 2015,7:00p,Brooklyn Nets,91,New York Knicks,108,Box Score,,19812,\\r\\nFri Dec 4 2015,7:00p,Phoenix Suns,106,Washington Wizards,109,Box Score,,17255,\\r\\nFri Dec 4 2015,7:30p,Milwaukee Bucks,95,Detroit Pistons,102,Box Score,,16963,\\r\\nFri Dec 4 2015,8:00p,Los Angeles Lakers,87,Atlanta Hawks,100,Box Score,,19051,\\r\\nFri Dec 4 2015,8:30p,Houston Rockets,100,Dallas Mavericks,96,Box Score,,20339,\\r\\nFri Dec 4 2015,9:30p,Cleveland Cavaliers,108,New Orleans Pelicans,114,Box Score,OT,17906,\\r\\nSat Dec 5 2015,1:00p,Denver Nuggets,108,Philadelphia 76ers,105,Box Score,,15677,\\r\\nSat Dec 5 2015,5:00p,Golden State Warriors,112,Toronto Raptors,109,Box Score,,20160,\\r\\nSat Dec 5 2015,8:00p,Charlotte Hornets,102,Chicago Bulls,96,Box Score,,21770,\\r\\nSat Dec 5 2015,8:00p,Sacramento Kings,113,Houston Rockets,120,Box Score,,17318,\\r\\nSat Dec 5 2015,8:00p,Cleveland Cavaliers,84,Miami Heat,99,Box Score,,19600,\\r\\nSat Dec 5 2015,8:00p,Portland Trail Blazers,109,Minnesota Timberwolves,103,Box Score,,16203,\\r\\nSat Dec 5 2015,8:30p,New York Knicks,91,Milwaukee Bucks,106,Box Score,,16223,\\r\\nSat Dec 5 2015,8:30p,Boston Celtics,105,San Antonio Spurs,108,Box Score,,18418,\\r\\nSat Dec 5 2015,9:00p,Indiana Pacers,119,Utah Jazz,122,Box Score,OT,19500,\\r\\nSat Dec 5 2015,10:30p,Orlando Magic,101,Los Angeles Clippers,103,Box Score,,19146,\\r\\nSun Dec 6 2015,3:30p,Phoenix Suns,93,Memphis Grizzlies,95,Box Score,,16022,\\r\\nSun Dec 6 2015,6:00p,Golden State Warriors,114,Brooklyn Nets,98,Box Score,,17732,\\r\\nSun Dec 6 2015,6:00p,Los Angeles Lakers,91,Detroit Pistons,111,Box Score,,20228,\\r\\nSun Dec 6 2015,6:00p,Dallas Mavericks,116,Washington Wizards,104,Box Score,,16394,\\r\\nSun Dec 6 2015,7:00p,Sacramento Kings,95,Oklahoma City Thunder,98,Box Score,,18203,\\r\\nMon Dec 7 2015,7:00p,Detroit Pistons,84,Charlotte Hornets,104,Box Score,,15481,\\r\\nMon Dec 7 2015,7:00p,San Antonio Spurs,119,Philadelphia 76ers,68,Box Score,,14449,\\r\\nMon Dec 7 2015,7:30p,Washington Wizards,114,Miami Heat,103,Box Score,,19600,\\r\\nMon Dec 7 2015,7:30p,Dallas Mavericks,104,New York Knicks,97,Box Score,,19812,\\r\\nMon Dec 7 2015,7:30p,Los Angeles Lakers,93,Toronto Raptors,102,Box Score,,20163,\\r\\nMon Dec 7 2015,8:00p,Phoenix Suns,103,Chicago Bulls,101,Box Score,,21337,\\r\\nMon Dec 7 2015,8:00p,Portland Trail Blazers,88,Milwaukee Bucks,90,Box Score,,14389,\\r\\nMon Dec 7 2015,8:00p,Los Angeles Clippers,110,Minnesota Timberwolves,106,Box Score,,11467,\\r\\nMon Dec 7 2015,8:00p,Boston Celtics,111,New Orleans Pelicans,93,Box Score,,15715,\\r\\nTue Dec 8 2015,7:00p,Portland Trail Blazers,100,Cleveland Cavaliers,105,Box Score,,20562,\\r\\nTue Dec 8 2015,7:00p,Golden State Warriors,131,Indiana Pacers,123,Box Score,,18165,\\r\\nTue Dec 8 2015,7:30p,Houston Rockets,105,Brooklyn Nets,110,Box Score,,13319,\\r\\nTue Dec 8 2015,8:00p,Oklahoma City Thunder,125,Memphis Grizzlies,88,Box Score,,16415,\\r\\nTue Dec 8 2015,9:00p,Orlando Magic,85,Denver Nuggets,74,Box Score,,13925,\\r\\nTue Dec 8 2015,10:00p,Utah Jazz,106,Sacramento Kings,114,Box Score,,16505,\\r\\nWed Dec 9 2015,7:00p,Chicago Bulls,100,Boston Celtics,105,Box Score,,17318,\\r\\nWed Dec 9 2015,7:00p,Miami Heat,81,Charlotte Hornets,99,Box Score,,17404,\\r\\nWed Dec 9 2015,7:00p,Houston Rockets,109,Washington Wizards,103,Box Score,,16041,\\r\\nWed Dec 9 2015,7:30p,Memphis Grizzlies,93,Detroit Pistons,92,Box Score,,13411,\\r\\nWed Dec 9 2015,7:30p,San Antonio Spurs,94,Toronto Raptors,97,Box Score,,19800,\\r\\nWed Dec 9 2015,8:00p,Los Angeles Clippers,109,Milwaukee Bucks,95,Box Score,,14224,\\r\\nWed Dec 9 2015,8:00p,Los Angeles Lakers,122,Minnesota Timberwolves,123,Box Score,OT,18076,\\r\\nWed Dec 9 2015,9:00p,Orlando Magic,104,Phoenix Suns,107,Box Score,,17637,\\r\\nWed Dec 9 2015,9:00p,New York Knicks,85,Utah Jazz,106,Box Score,,18586,\\r\\nWed Dec 9 2015,9:30p,Atlanta Hawks,98,Dallas Mavericks,95,Box Score,,19936,\\r\\nThu Dec 10 2015,7:30p,Philadelphia 76ers,91,Brooklyn Nets,100,Box Score,,13266,\\r\\nThu Dec 10 2015,8:00p,Los Angeles Clippers,80,Chicago Bulls,83,Box Score,,21491,\\r\\nThu Dec 10 2015,8:00p,Atlanta Hawks,94,Oklahoma City Thunder,107,Box Score,,18203,\\r\\nThu Dec 10 2015,10:30p,New York Knicks,97,Sacramento Kings,99,Box Score,,17317,\\r\\nFri Dec 11 2015,7:00p,Miami Heat,83,Indiana Pacers,96,Box Score,,16184,\\r\\nFri Dec 11 2015,7:00p,Cleveland Cavaliers,111,Orlando Magic,76,Box Score,,17239,\\r\\nFri Dec 11 2015,7:00p,Detroit Pistons,107,Philadelphia 76ers,95,Box Score,,17239,\\r\\nFri Dec 11 2015,7:30p,Golden State Warriors,124,Boston Celtics,119,Box Score,2OT,18624,\\r\\nFri Dec 11 2015,7:30p,Milwaukee Bucks,83,Toronto Raptors,90,Box Score,,19800,\\r\\nFri Dec 11 2015,8:00p,Charlotte Hornets,123,Memphis Grizzlies,99,Box Score,,17111,\\r\\nFri Dec 11 2015,8:00p,Washington Wizards,105,New Orleans Pelicans,107,Box Score,,16875,\\r\\nFri Dec 11 2015,9:00p,Minnesota Timberwolves,108,Denver Nuggets,111,Box Score,OT,12533,\\r\\nFri Dec 11 2015,9:00p,Oklahoma City Thunder,94,Utah Jazz,90,Box Score,,19911,\\r\\nFri Dec 11 2015,9:30p,Portland Trail Blazers,106,Phoenix Suns,96,Box Score,,17028,\\r\\nFri Dec 11 2015,9:30p,Los Angeles Lakers,87,San Antonio Spurs,109,Box Score,,18418,\\r\\nSat Dec 12 2015,5:00p,Los Angeles Clippers,105,Brooklyn Nets,100,Box Score,,15689,\\r\\nSat Dec 12 2015,7:00p,Boston Celtics,98,Charlotte Hornets,93,Box Score,,18490,\\r\\nSat Dec 12 2015,7:30p,Indiana Pacers,96,Detroit Pistons,118,Box Score,,14858,\\r\\nSat Dec 12 2015,8:00p,San Antonio Spurs,103,Atlanta Hawks,78,Box Score,,17752,\\r\\nSat Dec 12 2015,8:00p,New Orleans Pelicans,94,Chicago Bulls,98,Box Score,,21605,\\r\\nSat Dec 12 2015,8:00p,Los Angeles Lakers,97,Houston Rockets,126,Box Score,,18456,\\r\\nSat Dec 12 2015,8:30p,Washington Wizards,114,Dallas Mavericks,111,Box Score,,20088,\\r\\nSat Dec 12 2015,8:30p,Golden State Warriors,95,Milwaukee Bucks,108,Box Score,,18717,\\r\\nSat Dec 12 2015,10:00p,New York Knicks,112,Portland Trail Blazers,110,Box Score,,19511,\\r\\nSun Dec 13 2015,3:30p,Minnesota Timberwolves,101,Phoenix Suns,108,Box Score,,16919,\\r\\nSun Dec 13 2015,6:00p,Memphis Grizzlies,97,Miami Heat,100,Box Score,,19813,\\r\\nSun Dec 13 2015,6:00p,Philadelphia 76ers,76,Toronto Raptors,96,Box Score,,19800,\\r\\nSun Dec 13 2015,7:00p,Utah Jazz,98,Oklahoma City Thunder,104,Box Score,OT,18203,\\r\\nMon Dec 14 2015,7:00p,Toronto Raptors,90,Indiana Pacers,106,Box Score,,16598,\\r\\nMon Dec 14 2015,7:30p,Orlando Magic,105,Brooklyn Nets,82,Box Score,,12946,\\r\\nMon Dec 14 2015,7:30p,Los Angeles Clippers,105,Detroit Pistons,103,Box Score,OT,13525,\\r\\nMon Dec 14 2015,8:00p,Miami Heat,100,Atlanta Hawks,88,Box Score,,15039,\\r\\nMon Dec 14 2015,8:00p,Philadelphia 76ers,96,Chicago Bulls,115,Box Score,,21166,\\r\\nMon Dec 14 2015,8:00p,Washington Wizards,95,Memphis Grizzlies,112,Box Score,,15397,\\r\\nMon Dec 14 2015,8:30p,Phoenix Suns,94,Dallas Mavericks,104,Box Score,,19822,\\r\\nMon Dec 14 2015,8:30p,Utah Jazz,81,San Antonio Spurs,118,Box Score,,18418,\\r\\nMon Dec 14 2015,9:00p,Houston Rockets,108,Denver Nuggets,114,Box Score,,12022,\\r\\nMon Dec 14 2015,10:00p,New Orleans Pelicans,101,Portland Trail Blazers,105,Box Score,,19231,\\r\\nTue Dec 15 2015,7:30p,Cleveland Cavaliers,89,Boston Celtics,77,Box Score,,18624,\\r\\nTue Dec 15 2015,8:00p,Denver Nuggets,112,Minnesota Timberwolves,100,Box Score,,11323,\\r\\nTue Dec 15 2015,10:00p,Houston Rockets,97,Sacramento Kings,107,Box Score,,17317,\\r\\nTue Dec 15 2015,10:30p,Milwaukee Bucks,95,Los Angeles Lakers,113,Box Score,,18997,\\r\\nWed Dec 16 2015,7:00p,Dallas Mavericks,81,Indiana Pacers,107,Box Score,,14824,\\r\\nWed Dec 16 2015,7:00p,Charlotte Hornets,98,Orlando Magic,113,Box Score,,16019,\\r\\nWed Dec 16 2015,7:30p,Miami Heat,104,Brooklyn Nets,98,Box Score,,15113,\\r\\nWed Dec 16 2015,7:30p,Boston Celtics,116,Detroit Pistons,119,Box Score,,13120,\\r\\nWed Dec 16 2015,7:30p,Minnesota Timberwolves,102,New York Knicks,107,Box Score,,19812,\\r\\nWed Dec 16 2015,8:00p,Philadelphia 76ers,106,Atlanta Hawks,127,Box Score,,14827,\\r\\nWed Dec 16 2015,8:00p,Memphis Grizzlies,85,Chicago Bulls,98,Box Score,,21032,\\r\\nWed Dec 16 2015,8:00p,Portland Trail Blazers,90,Oklahoma City Thunder,106,Box Score,,18203,\\r\\nWed Dec 16 2015,8:30p,Washington Wizards,95,San Antonio Spurs,114,Box Score,,18418,\\r\\nWed Dec 16 2015,9:00p,New Orleans Pelicans,104,Utah Jazz,94,Box Score,,17899,\\r\\nWed Dec 16 2015,10:30p,Phoenix Suns,103,Golden State Warriors,128,Box Score,,19596,\\r\\nWed Dec 16 2015,10:30p,Milwaukee Bucks,90,Los Angeles Clippers,103,Box Score,,19060,\\r\\nThu Dec 17 2015,7:00p,Toronto Raptors,99,Charlotte Hornets,109,Box Score,OT,15817,\\r\\nThu Dec 17 2015,8:00p,Oklahoma City Thunder,100,Cleveland Cavaliers,104,Box Score,,20562,\\r\\nThu Dec 17 2015,10:30p,Houston Rockets,107,Los Angeles Lakers,87,Box Score,,18997,\\r\\nFri Dec 18 2015,7:00p,Brooklyn Nets,97,Indiana Pacers,104,Box Score,,16548,\\r\\nFri Dec 18 2015,7:00p,Portland Trail Blazers,94,Orlando Magic,102,Box Score,,17156,\\r\\nFri Dec 18 2015,7:00p,New York Knicks,107,Philadelphia 76ers,97,Box Score,,17880,\\r\\nFri Dec 18 2015,7:30p,Atlanta Hawks,109,Boston Celtics,101,Box Score,,18624,\\r\\nFri Dec 18 2015,8:00p,Detroit Pistons,147,Chicago Bulls,144,Box Score,4OT,21534,\\r\\nFri Dec 18 2015,8:00p,Toronto Raptors,108,Miami Heat,94,Box Score,,19600,\\r\\nFri Dec 18 2015,8:00p,Sacramento Kings,95,Minnesota Timberwolves,99,Box Score,,12770,\\r\\nFri Dec 18 2015,8:00p,Los Angeles Clippers,107,San Antonio Spurs,115,Box Score,,18418,\\r\\nFri Dec 18 2015,8:30p,Memphis Grizzlies,88,Dallas Mavericks,97,Box Score,,20199,\\r\\nFri Dec 18 2015,9:00p,Denver Nuggets,88,Utah Jazz,97,Box Score,,19169,\\r\\nFri Dec 18 2015,10:30p,Milwaukee Bucks,112,Golden State Warriors,121,Box Score,,19596,\\r\\nFri Dec 18 2015,10:30p,New Orleans Pelicans,88,Phoenix Suns,104,Box Score,,17227,\\r\\nSat Dec 19 2015,5:00p,Los Angeles Lakers,78,Oklahoma City Thunder,118,Box Score,,18203,\\r\\nSat Dec 19 2015,7:00p,Charlotte Hornets,101,Washington Wizards,109,Box Score,,16987,\\r\\nSat Dec 19 2015,7:30p,Chicago Bulls,91,New York Knicks,107,Box Score,,19812,\\r\\nSat Dec 19 2015,8:00p,Los Angeles Clippers,97,Houston Rockets,107,Box Score,,18212,\\r\\nSat Dec 19 2015,8:00p,Indiana Pacers,84,Memphis Grizzlies,96,Box Score,,18119,\\r\\nSun Dec 20 2015,1:00p,Minnesota Timberwolves,100,Brooklyn Nets,85,Box Score,,14552,\\r\\nSun Dec 20 2015,1:00p,Portland Trail Blazers,109,Miami Heat,116,Box Score,,19600,\\r\\nSun Dec 20 2015,3:30p,Philadelphia 76ers,86,Cleveland Cavaliers,108,Box Score,,20562,\\r\\nSun Dec 20 2015,5:00p,Milwaukee Bucks,101,Phoenix Suns,95,Box Score,,16859,\\r\\nSun Dec 20 2015,6:00p,Atlanta Hawks,103,Orlando Magic,100,Box Score,,16982,\\r\\nSun Dec 20 2015,6:00p,Sacramento Kings,104,Toronto Raptors,94,Box Score,,19800,\\r\\nSun Dec 20 2015,8:00p,New Orleans Pelicans,130,Denver Nuggets,125,Box Score,,13857,\\r\\nMon Dec 21 2015,7:00p,Sacramento Kings,99,Washington Wizards,113,Box Score,,15124,\\r\\nMon Dec 21 2015,7:30p,Minnesota Timberwolves,99,Boston Celtics,113,Box Score,,18624,\\r\\nMon Dec 21 2015,7:30p,Orlando Magic,107,New York Knicks,99,Box Score,,19812,\\r\\nMon Dec 21 2015,8:00p,Portland Trail Blazers,97,Atlanta Hawks,106,Box Score,,18373,\\r\\nMon Dec 21 2015,8:00p,Brooklyn Nets,105,Chicago Bulls,102,Box Score,,21825,\\r\\nMon Dec 21 2015,8:00p,Charlotte Hornets,95,Houston Rockets,102,Box Score,,18236,\\r\\nMon Dec 21 2015,8:30p,Indiana Pacers,92,San Antonio Spurs,106,Box Score,,18418,\\r\\nMon Dec 21 2015,9:00p,Phoenix Suns,89,Utah Jazz,110,Box Score,,19911,\\r\\nMon Dec 21 2015,10:30p,Oklahoma City Thunder,100,Los Angeles Clippers,99,Box Score,,19415,\\r\\nTue Dec 22 2015,7:00p,Memphis Grizzlies,104,Philadelphia 76ers,90,Box Score,,15552,\\r\\nTue Dec 22 2015,7:30p,Detroit Pistons,93,Miami Heat,92,Box Score,,19901,\\r\\nTue Dec 22 2015,7:30p,Dallas Mavericks,99,Toronto Raptors,103,Box Score,,19800,\\r\\nTue Dec 22 2015,9:00p,Los Angeles Lakers,111,Denver Nuggets,107,Box Score,,19124,\\r\\nWed Dec 23 2015,7:00p,Boston Celtics,102,Charlotte Hornets,89,Box Score,,19082,\\r\\nWed Dec 23 2015,7:00p,New York Knicks,84,Cleveland Cavaliers,91,Box Score,,20562,\\r\\nWed Dec 23 2015,7:00p,Sacramento Kings,108,Indiana Pacers,106,Box Score,,18165,\\r\\nWed Dec 23 2015,7:00p,Houston Rockets,101,Orlando Magic,104,Box Score,,17061,\\r\\nWed Dec 23 2015,7:00p,Memphis Grizzlies,91,Washington Wizards,100,Box Score,,15879,\\r\\nWed Dec 23 2015,7:30p,Dallas Mavericks,119,Brooklyn Nets,118,Box Score,OT,15994,\\r\\nWed Dec 23 2015,8:00p,Detroit Pistons,100,Atlanta Hawks,107,Box Score,,17575,\\r\\nWed Dec 23 2015,8:00p,Philadelphia 76ers,100,Milwaukee Bucks,113,Box Score,,15754,\\r\\nWed Dec 23 2015,8:00p,San Antonio Spurs,108,Minnesota Timberwolves,83,Box Score,,16788,\\r\\nWed Dec 23 2015,8:00p,Portland Trail Blazers,89,New Orleans Pelicans,115,Box Score,,16686,\\r\\nWed Dec 23 2015,9:00p,Denver Nuggets,104,Phoenix Suns,96,Box Score,,17034,\\r\\nWed Dec 23 2015,10:30p,Utah Jazz,85,Golden State Warriors,103,Box Score,,19596,\\r\\nWed Dec 23 2015,10:30p,Oklahoma City Thunder,120,Los Angeles Lakers,85,Box Score,,18997,\\r\\nFri Dec 25 2015,12:00p,New Orleans Pelicans,88,Miami Heat,94,Box Score,OT,19845,\\r\\nFri Dec 25 2015,2:30p,Chicago Bulls,105,Oklahoma City Thunder,96,Box Score,,18203,\\r\\nFri Dec 25 2015,5:00p,Cleveland Cavaliers,83,Golden State Warriors,89,Box Score,,19596,\\r\\nFri Dec 25 2015,8:00p,San Antonio Spurs,84,Houston Rockets,88,Box Score,,18319,\\r\\nFri Dec 25 2015,10:30p,Los Angeles Clippers,94,Los Angeles Lakers,84,Box Score,,18997,\\r\\nSat Dec 26 2015,4:00p,Washington Wizards,111,Brooklyn Nets,96,Box Score,,17732,\\r\\nSat Dec 26 2015,5:00p,Toronto Raptors,111,Milwaukee Bucks,90,Box Score,,16329,\\r\\nSat Dec 26 2015,7:00p,Memphis Grizzlies,92,Charlotte Hornets,98,Box Score,,19091,\\r\\nSat Dec 26 2015,7:00p,Houston Rockets,108,New Orleans Pelicans,110,Box Score,,18248,\\r\\nSat Dec 26 2015,7:00p,Miami Heat,108,Orlando Magic,101,Box Score,,18846,\\r\\nSat Dec 26 2015,7:30p,New York Knicks,98,Atlanta Hawks,117,Box Score,,19015,\\r\\nSat Dec 26 2015,7:30p,Boston Celtics,99,Detroit Pistons,93,Box Score,,18288,\\r\\nSat Dec 26 2015,8:00p,Indiana Pacers,102,Minnesota Timberwolves,88,Box Score,,15076,\\r\\nSat Dec 26 2015,8:30p,Chicago Bulls,111,Dallas Mavericks,118,Box Score,,20392,\\r\\nSat Dec 26 2015,8:30p,Denver Nuggets,86,San Antonio Spurs,101,Box Score,,18420,\\r\\nSat Dec 26 2015,9:00p,Philadelphia 76ers,111,Phoenix Suns,104,Box Score,,17548,\\r\\nSat Dec 26 2015,9:00p,Los Angeles Clippers,109,Utah Jazz,104,Box Score,,19911,\\r\\nSat Dec 26 2015,10:00p,Cleveland Cavaliers,76,Portland Trail Blazers,105,Box Score,,19393,\\r\\nSun Dec 27 2015,6:00p,Los Angeles Lakers,96,Memphis Grizzlies,112,Box Score,,18119,\\r\\nSun Dec 27 2015,7:00p,New York Knicks,91,Boston Celtics,100,Box Score,,18624,\\r\\nSun Dec 27 2015,7:00p,Denver Nuggets,112,Oklahoma City Thunder,122,Box Score,,18203,\\r\\nSun Dec 27 2015,9:00p,Portland Trail Blazers,98,Sacramento Kings,94,Box Score,,17317,\\r\\nMon Dec 28 2015,7:00p,Los Angeles Lakers,98,Charlotte Hornets,108,Box Score,,19632,\\r\\nMon Dec 28 2015,7:00p,Atlanta Hawks,87,Indiana Pacers,93,Box Score,,18165,\\r\\nMon Dec 28 2015,7:00p,New Orleans Pelicans,89,Orlando Magic,104,Box Score,,17606,\\r\\nMon Dec 28 2015,7:00p,Los Angeles Clippers,108,Washington Wizards,91,Box Score,,20356,\\r\\nMon Dec 28 2015,7:30p,Brooklyn Nets,111,Miami Heat,105,Box Score,,19975,\\r\\nMon Dec 28 2015,8:00p,Toronto Raptors,97,Chicago Bulls,104,Box Score,,21898,\\r\\nMon Dec 28 2015,8:30p,Milwaukee Bucks,93,Dallas Mavericks,103,Box Score,,20300,\\r\\nMon Dec 28 2015,8:30p,Minnesota Timberwolves,95,San Antonio Spurs,101,Box Score,,18493,\\r\\nMon Dec 28 2015,9:00p,Cleveland Cavaliers,101,Phoenix Suns,97,Box Score,,18319,\\r\\nMon Dec 28 2015,9:00p,Philadelphia 76ers,91,Utah Jazz,95,Box Score,,19911,\\r\\nMon Dec 28 2015,10:30p,Sacramento Kings,103,Golden State Warriors,122,Box Score,,19596,\\r\\nTue Dec 29 2015,7:30p,Detroit Pistons,96,New York Knicks,108,Box Score,,19812,\\r\\nTue Dec 29 2015,8:00p,Atlanta Hawks,121,Houston Rockets,115,Box Score,,18211,\\r\\nTue Dec 29 2015,8:00p,Miami Heat,90,Memphis Grizzlies,99,Box Score,OT,18119,\\r\\nTue Dec 29 2015,8:00p,Milwaukee Bucks,123,Oklahoma City Thunder,131,Box Score,,18203,\\r\\nTue Dec 29 2015,9:00p,Cleveland Cavaliers,93,Denver Nuggets,87,Box Score,,17523,\\r\\nWed Dec 30 2015,7:00p,Los Angeles Clippers,122,Charlotte Hornets,117,Box Score,,19145,\\r\\nWed Dec 30 2015,7:00p,Brooklyn Nets,93,Orlando Magic,100,Box Score,,18397,\\r\\nWed Dec 30 2015,7:30p,Los Angeles Lakers,112,Boston Celtics,104,Box Score,,18624,\\r\\nWed Dec 30 2015,7:30p,Washington Wizards,91,Toronto Raptors,94,Box Score,,19800,\\r\\nWed Dec 30 2015,8:00p,Indiana Pacers,100,Chicago Bulls,102,Box Score,OT,22206,\\r\\nWed Dec 30 2015,8:00p,Utah Jazz,80,Minnesota Timberwolves,94,Box Score,,14326,\\r\\nWed Dec 30 2015,8:30p,Golden State Warriors,91,Dallas Mavericks,114,Box Score,,20494,\\r\\nWed Dec 30 2015,8:30p,Phoenix Suns,79,San Antonio Spurs,112,Box Score,,18418,\\r\\nWed Dec 30 2015,10:00p,Denver Nuggets,103,Portland Trail Blazers,110,Box Score,,19393,\\r\\nWed Dec 30 2015,10:00p,Philadelphia 76ers,110,Sacramento Kings,105,Box Score,,17317,\\r\\nThu Dec 31 2015,6:00p,Minnesota Timberwolves,90,Detroit Pistons,115,Box Score,,15475,\\r\\nThu Dec 31 2015,6:00p,Milwaukee Bucks,120,Indiana Pacers,116,Box Score,,16348,\\r\\nThu Dec 31 2015,7:00p,Golden State Warriors,114,Houston Rockets,110,Box Score,,18313,\\r\\nThu Dec 31 2015,8:00p,Los Angeles Clippers,95,New Orleans Pelicans,89,Box Score,,16920,\\r\\nThu Dec 31 2015,8:00p,Phoenix Suns,106,Oklahoma City Thunder,110,Box Score,,18203,\\r\\nThu Dec 31 2015,9:00p,Portland Trail Blazers,96,Utah Jazz,109,Box Score,,19380,\\r\\nFri Jan 1 2016,7:00p,Orlando Magic,91,Washington Wizards,103,Box Score,,16986,\\r\\nFri Jan 1 2016,7:30p,Dallas Mavericks,82,Miami Heat,106,Box Score,,19748,\\r\\nFri Jan 1 2016,7:30p,Charlotte Hornets,94,Toronto Raptors,104,Box Score,,19800,\\r\\nFri Jan 1 2016,8:00p,New York Knicks,81,Chicago Bulls,108,Box Score,,22443,\\r\\nFri Jan 1 2016,10:30p,Philadelphia 76ers,84,Los Angeles Lakers,93,Box Score,,18997,\\r\\nSat Jan 2 2016,3:00p,Brooklyn Nets,100,Boston Celtics,97,Box Score,,18624,\\r\\nSat Jan 2 2016,5:00p,Phoenix Suns,119,Sacramento Kings,142,Box Score,,17317,\\r\\nSat Jan 2 2016,7:00p,Oklahoma City Thunder,109,Charlotte Hornets,90,Box Score,,19387,\\r\\nSat Jan 2 2016,7:00p,Detroit Pistons,82,Indiana Pacers,94,Box Score,,18165,\\r\\nSat Jan 2 2016,7:30p,Orlando Magic,79,Cleveland Cavaliers,104,Box Score,,20562,\\r\\nSat Jan 2 2016,8:00p,Milwaukee Bucks,95,Minnesota Timberwolves,85,Box Score,,14107,\\r\\nSat Jan 2 2016,8:30p,New Orleans Pelicans,105,Dallas Mavericks,98,Box Score,,20152,\\r\\nSat Jan 2 2016,8:30p,Houston Rockets,103,San Antonio Spurs,121,Box Score,,18652,\\r\\nSat Jan 2 2016,9:00p,Memphis Grizzlies,87,Utah Jazz,92,Box Score,OT,18455,\\r\\nSat Jan 2 2016,10:30p,Denver Nuggets,108,Golden State Warriors,111,Box Score,OT,19596,\\r\\nSat Jan 2 2016,10:30p,Philadelphia 76ers,99,Los Angeles Clippers,130,Box Score,,19212,\\r\\nSun Jan 3 2016,3:30p,Atlanta Hawks,97,New York Knicks,111,Box Score,,19812,\\r\\nSun Jan 3 2016,3:30p,Chicago Bulls,115,Toronto Raptors,113,Box Score,,19800,\\r\\nSun Jan 3 2016,6:00p,Miami Heat,97,Washington Wizards,75,Box Score,,17793,\\r\\nSun Jan 3 2016,9:00p,Portland Trail Blazers,112,Denver Nuggets,106,Box Score,,11883,\\r\\nSun Jan 3 2016,9:30p,Phoenix Suns,77,Los Angeles Lakers,97,Box Score,,18997,\\r\\nMon Jan 4 2016,7:00p,Toronto Raptors,100,Cleveland Cavaliers,122,Box Score,,20562,\\r\\nMon Jan 4 2016,7:00p,Minnesota Timberwolves,99,Philadelphia 76ers,109,Box Score,,14013,\\r\\nMon Jan 4 2016,7:30p,Boston Celtics,103,Brooklyn Nets,94,Box Score,,15448,\\r\\nMon Jan 4 2016,7:30p,Orlando Magic,89,Detroit Pistons,115,Box Score,,14301,\\r\\nMon Jan 4 2016,7:30p,Indiana Pacers,100,Miami Heat,103,Box Score,OT,19874,\\r\\nMon Jan 4 2016,8:00p,San Antonio Spurs,123,Milwaukee Bucks,98,Box Score,,14718,\\r\\nMon Jan 4 2016,8:00p,Sacramento Kings,116,Oklahoma City Thunder,104,Box Score,,18203,\\r\\nMon Jan 4 2016,9:00p,Houston Rockets,93,Utah Jazz,91,Box Score,,17912,\\r\\nMon Jan 4 2016,10:00p,Memphis Grizzlies,91,Portland Trail Blazers,78,Box Score,,18832,\\r\\nMon Jan 4 2016,10:30p,Charlotte Hornets,101,Golden State Warriors,111,Box Score,,19596,\\r\\nTue Jan 5 2016,8:00p,New York Knicks,107,Atlanta Hawks,101,Box Score,,15082,\\r\\nTue Jan 5 2016,8:00p,Milwaukee Bucks,106,Chicago Bulls,117,Box Score,,21686,\\r\\nTue Jan 5 2016,8:30p,Sacramento Kings,116,Dallas Mavericks,117,Box Score,2OT,20059,\\r\\nTue Jan 5 2016,10:30p,Golden State Warriors,109,Los Angeles Lakers,88,Box Score,,18997,\\r\\nWed Jan 6 2016,7:00p,New York Knicks,98,Miami Heat,90,Box Score,,19987,\\r\\nWed Jan 6 2016,7:00p,Indiana Pacers,95,Orlando Magic,86,Box Score,,18846,\\r\\nWed Jan 6 2016,7:00p,Cleveland Cavaliers,121,Washington Wizards,115,Box Score,,20356,\\r\\nWed Jan 6 2016,7:30p,Detroit Pistons,99,Boston Celtics,94,Box Score,,18624,\\r\\nWed Jan 6 2016,7:30p,Toronto Raptors,91,Brooklyn Nets,74,Box Score,,14544,\\r\\nWed Jan 6 2016,8:00p,Denver Nuggets,78,Minnesota Timberwolves,74,Box Score,,12059,\\r\\nWed Jan 6 2016,8:00p,Dallas Mavericks,100,New Orleans Pelicans,91,Box Score,,15255,\\r\\nWed Jan 6 2016,8:30p,Utah Jazz,98,San Antonio Spurs,123,Box Score,,18418,\\r\\nWed Jan 6 2016,9:00p,Charlotte Hornets,102,Phoenix Suns,111,Box Score,,16910,\\r\\nWed Jan 6 2016,9:30p,Memphis Grizzlies,94,Oklahoma City Thunder,112,Box Score,,18203,\\r\\nWed Jan 6 2016,10:00p,Los Angeles Clippers,109,Portland Trail Blazers,98,Box Score,,18598,\\r\\nThu Jan 7 2016,7:00p,Atlanta Hawks,126,Philadelphia 76ers,98,Box Score,,12611,\\r\\nThu Jan 7 2016,8:00p,Boston Celtics,92,Chicago Bulls,101,Box Score,,21497,\\r\\nThu Jan 7 2016,8:00p,Utah Jazz,94,Houston Rockets,103,Box Score,,18155,\\r\\nThu Jan 7 2016,10:30p,Los Angeles Lakers,115,Sacramento Kings,118,Box Score,,17386,\\r\\nFri Jan 8 2016,7:00p,Toronto Raptors,97,Washington Wizards,88,Box Score,,17064,\\r\\nFri Jan 8 2016,7:30p,Orlando Magic,83,Brooklyn Nets,77,Box Score,,13907,\\r\\nFri Jan 8 2016,8:00p,Denver Nuggets,84,Memphis Grizzlies,91,Box Score,,17499,\\r\\nFri Jan 8 2016,8:00p,Dallas Mavericks,95,Milwaukee Bucks,96,Box Score,,16409,\\r\\nFri Jan 8 2016,8:00p,Cleveland Cavaliers,125,Minnesota Timberwolves,99,Box Score,,16768,\\r\\nFri Jan 8 2016,8:00p,Indiana Pacers,91,New Orleans Pelicans,86,Box Score,,16895,\\r\\nFri Jan 8 2016,8:30p,New York Knicks,99,San Antonio Spurs,100,Box Score,,18420,\\r\\nFri Jan 8 2016,9:30p,Miami Heat,103,Phoenix Suns,95,Box Score,,16866,\\r\\nFri Jan 8 2016,10:00p,Golden State Warriors,128,Portland Trail Blazers,108,Box Score,,20035,\\r\\nFri Jan 8 2016,10:30p,Oklahoma City Thunder,117,Los Angeles Lakers,113,Box Score,,18997,\\r\\nSat Jan 9 2016,3:30p,Charlotte Hornets,83,Los Angeles Clippers,97,Box Score,,19060,\\r\\nSat Jan 9 2016,5:00p,Chicago Bulls,105,Atlanta Hawks,120,Box Score,,19010,\\r\\nSat Jan 9 2016,7:00p,Washington Wizards,105,Orlando Magic,99,Box Score,,18058,\\r\\nSat Jan 9 2016,7:30p,Brooklyn Nets,89,Detroit Pistons,103,Box Score,,16406,\\r\\nSat Jan 9 2016,7:30p,Toronto Raptors,108,Philadelphia 76ers,95,Box Score,,14100,\\r\\nSat Jan 9 2016,9:00p,Miami Heat,83,Utah Jazz,98,Box Score,,19911,\\r\\nSat Jan 9 2016,10:00p,Golden State Warriors,128,Sacramento Kings,116,Box Score,,17317,\\r\\nSun Jan 10 2016,3:30p,New Orleans Pelicans,111,Los Angeles Clippers,114,Box Score,OT,19060,\\r\\nSun Jan 10 2016,5:00p,Dallas Mavericks,93,Minnesota Timberwolves,87,Box Score,,14363,\\r\\nSun Jan 10 2016,6:00p,Boston Celtics,98,Memphis Grizzlies,101,Box Score,,17112,\\r\\nSun Jan 10 2016,6:00p,Cleveland Cavaliers,95,Philadelphia 76ers,85,Box Score,,19226,\\r\\nSun Jan 10 2016,7:00p,Indiana Pacers,103,Houston Rockets,107,Box Score,OT,18133,\\r\\nSun Jan 10 2016,7:30p,Milwaukee Bucks,88,New York Knicks,100,Box Score,,19812,\\r\\nSun Jan 10 2016,8:00p,Charlotte Hornets,92,Denver Nuggets,95,Box Score,,11343,\\r\\nSun Jan 10 2016,9:00p,Oklahoma City Thunder,110,Portland Trail Blazers,115,Box Score,,19393,\\r\\nSun Jan 10 2016,9:30p,Utah Jazz,86,Los Angeles Lakers,74,Box Score,,18997,\\r\\nMon Jan 11 2016,7:30p,San Antonio Spurs,106,Brooklyn Nets,79,Box Score,,15214,\\r\\nMon Jan 11 2016,8:00p,Washington Wizards,114,Chicago Bulls,100,Box Score,,21409,\\r\\nMon Jan 11 2016,10:30p,Miami Heat,103,Golden State Warriors,111,Box Score,,19596,\\r\\nTue Jan 12 2016,7:00p,Phoenix Suns,97,Indiana Pacers,116,Box Score,,15284,\\r\\nTue Jan 12 2016,7:30p,San Antonio Spurs,109,Detroit Pistons,99,Box Score,,14273,\\r\\nTue Jan 12 2016,7:30p,Boston Celtics,114,New York Knicks,120,Box Score,,19812,\\r\\nTue Jan 12 2016,8:00p,Houston Rockets,107,Memphis Grizzlies,91,Box Score,,16044,\\r\\nTue Jan 12 2016,8:00p,Chicago Bulls,101,Milwaukee Bucks,106,Box Score,,16867,\\r\\nTue Jan 12 2016,8:00p,Oklahoma City Thunder,101,Minnesota Timberwolves,96,Box Score,,14791,\\r\\nTue Jan 12 2016,8:30p,Cleveland Cavaliers,110,Dallas Mavericks,107,Box Score,OT,20347,\\r\\nTue Jan 12 2016,10:30p,New Orleans Pelicans,91,Los Angeles Lakers,95,Box Score,,18997,\\r\\nWed Jan 13 2016,7:00p,Atlanta Hawks,84,Charlotte Hornets,107,Box Score,,15334,\\r\\nWed Jan 13 2016,7:00p,Milwaukee Bucks,101,Washington Wizards,106,Box Score,,16248,\\r\\nWed Jan 13 2016,7:30p,New York Knicks,104,Brooklyn Nets,110,Box Score,,17732,\\r\\nWed Jan 13 2016,8:00p,Indiana Pacers,94,Boston Celtics,103,Box Score,,18624,\\r\\nWed Jan 13 2016,8:00p,Minnesota Timberwolves,104,Houston Rockets,107,Box Score,,17115,\\r\\nWed Jan 13 2016,8:00p,Dallas Mavericks,89,Oklahoma City Thunder,108,Box Score,,18203,\\r\\nWed Jan 13 2016,9:00p,Golden State Warriors,110,Denver Nuggets,112,Box Score,,18004,\\r\\nWed Jan 13 2016,10:00p,Utah Jazz,85,Portland Trail Blazers,99,Box Score,,19393,\\r\\nWed Jan 13 2016,10:00p,New Orleans Pelicans,109,Sacramento Kings,97,Box Score,,17317,\\r\\nWed Jan 13 2016,10:30p,Miami Heat,90,Los Angeles Clippers,104,Box Score,,19194,\\r\\nThu Jan 14 2016,3:00p,Toronto Raptors,106,Orlando Magic,103,Box Score,OT,18689,at London England\\r\\nThu Jan 14 2016,7:00p,Chicago Bulls,115,Philadelphia 76ers,111,Box Score,OT,14063,\\r\\nThu Jan 14 2016,8:00p,Detroit Pistons,101,Memphis Grizzlies,103,Box Score,,15977,\\r\\nThu Jan 14 2016,8:00p,Cleveland Cavaliers,95,San Antonio Spurs,99,Box Score,,18418,\\r\\nThu Jan 14 2016,9:00p,Sacramento Kings,103,Utah Jazz,101,Box Score,,17894,\\r\\nThu Jan 14 2016,10:30p,Los Angeles Lakers,98,Golden State Warriors,116,Box Score,,19596,\\r\\nFri Jan 15 2016,7:00p,Washington Wizards,118,Indiana Pacers,104,Box Score,,18165,\\r\\nFri Jan 15 2016,7:00p,Minnesota Timberwolves,93,Oklahoma City Thunder,113,Box Score,,18203,\\r\\nFri Jan 15 2016,7:30p,Phoenix Suns,103,Boston Celtics,117,Box Score,,18624,\\r\\nFri Jan 15 2016,7:30p,Portland Trail Blazers,116,Brooklyn Nets,104,Box Score,,14749,\\r\\nFri Jan 15 2016,8:00p,Dallas Mavericks,83,Chicago Bulls,77,Box Score,,22056,\\r\\nFri Jan 15 2016,8:00p,Atlanta Hawks,101,Milwaukee Bucks,108,Box Score,OT,15144,\\r\\nFri Jan 15 2016,8:00p,Charlotte Hornets,107,New Orleans Pelicans,109,Box Score,,16876,\\r\\nFri Jan 15 2016,9:00p,Miami Heat,98,Denver Nuggets,95,Box Score,,15406,\\r\\nFri Jan 15 2016,9:30p,Cleveland Cavaliers,91,Houston Rockets,77,Box Score,,18320,\\r\\nSat Jan 16 2016,7:00p,Milwaukee Bucks,105,Charlotte Hornets,92,Box Score,,18288,\\r\\nSat Jan 16 2016,7:30p,Brooklyn Nets,86,Atlanta Hawks,114,Box Score,,17052,\\r\\nSat Jan 16 2016,7:30p,Golden State Warriors,95,Detroit Pistons,113,Box Score,,21584,\\r\\nSat Jan 16 2016,7:30p,Portland Trail Blazers,89,Philadelphia 76ers,114,Box Score,,15698,\\r\\nSat Jan 16 2016,7:30p,Boston Celtics,119,Washington Wizards,117,Box Score,,20356,\\r\\nSat Jan 16 2016,8:00p,New York Knicks,95,Memphis Grizzlies,103,Box Score,,18119,\\r\\nSat Jan 16 2016,9:00p,Los Angeles Lakers,82,Utah Jazz,109,Box Score,,19911,\\r\\nSat Jan 16 2016,10:30p,Sacramento Kings,110,Los Angeles Clippers,103,Box Score,,19191,\\r\\nSun Jan 17 2016,3:30p,Phoenix Suns,87,Minnesota Timberwolves,117,Box Score,,14330,\\r\\nSun Jan 17 2016,7:00p,Miami Heat,74,Oklahoma City Thunder,99,Box Score,,18203,\\r\\nSun Jan 17 2016,7:00p,Dallas Mavericks,83,San Antonio Spurs,112,Box Score,,18418,\\r\\nSun Jan 17 2016,8:00p,Indiana Pacers,126,Denver Nuggets,129,Box Score,,11104,\\r\\nSun Jan 17 2016,9:30p,Houston Rockets,112,Los Angeles Lakers,95,Box Score,,18997,\\r\\nMon Jan 18 2016,1:00p,Philadelphia 76ers,113,New York Knicks,119,Box Score,2OT,19812,\\r\\nMon Jan 18 2016,2:00p,Utah Jazz,119,Charlotte Hornets,124,Box Score,2OT,17459,\\r\\nMon Jan 18 2016,2:00p,Portland Trail Blazers,108,Washington Wizards,98,Box Score,,17236,\\r\\nMon Jan 18 2016,2:30p,New Orleans Pelicans,99,Memphis Grizzlies,101,Box Score,,18119,\\r\\nMon Jan 18 2016,3:30p,Chicago Bulls,111,Detroit Pistons,101,Box Score,,18935,\\r\\nMon Jan 18 2016,5:00p,Orlando Magic,81,Atlanta Hawks,98,Box Score,,17460,\\r\\nMon Jan 18 2016,7:30p,Brooklyn Nets,100,Toronto Raptors,112,Box Score,,19800,\\r\\nMon Jan 18 2016,8:00p,Golden State Warriors,132,Cleveland Cavaliers,98,Box Score,,20562,\\r\\nMon Jan 18 2016,8:30p,Boston Celtics,113,Dallas Mavericks,118,Box Score,OT,19866,\\r\\nMon Jan 18 2016,10:30p,Houston Rockets,132,Los Angeles Clippers,140,Box Score,OT,19060,\\r\\nTue Jan 19 2016,7:30p,Milwaukee Bucks,91,Miami Heat,79,Box Score,,19886,\\r\\nTue Jan 19 2016,8:00p,Minnesota Timberwolves,99,New Orleans Pelicans,114,Box Score,,14255,\\r\\nTue Jan 19 2016,9:00p,Oklahoma City Thunder,110,Denver Nuggets,104,Box Score,,12844,\\r\\nTue Jan 19 2016,9:00p,Indiana Pacers,97,Phoenix Suns,94,Box Score,,16802,\\r\\nWed Jan 20 2016,7:00p,Philadelphia 76ers,96,Orlando Magic,87,Box Score,,17746,\\r\\nWed Jan 20 2016,7:00p,Miami Heat,87,Washington Wizards,106,Box Score,,17008,\\r\\nWed Jan 20 2016,7:30p,Cleveland Cavaliers,91,Brooklyn Nets,78,Box Score,,17732,\\r\\nWed Jan 20 2016,7:30p,Utah Jazz,111,New York Knicks,118,Box Score,OT,19812,\\r\\nWed Jan 20 2016,7:30p,Boston Celtics,109,Toronto Raptors,115,Box Score,,19800,\\r\\nWed Jan 20 2016,8:00p,Golden State Warriors,125,Chicago Bulls,94,Box Score,,23152,\\r\\nWed Jan 20 2016,8:00p,Detroit Pistons,123,Houston Rockets,114,Box Score,,17203,\\r\\nWed Jan 20 2016,8:00p,Charlotte Hornets,95,Oklahoma City Thunder,109,Box Score,,18203,\\r\\nWed Jan 20 2016,8:30p,Minnesota Timberwolves,94,Dallas Mavericks,106,Box Score,OT,19621,\\r\\nWed Jan 20 2016,10:30p,Sacramento Kings,112,Los Angeles Lakers,93,Box Score,,18997,\\r\\nWed Jan 20 2016,10:30p,Atlanta Hawks,104,Portland Trail Blazers,98,Box Score,,18783,\\r\\nThu Jan 21 2016,8:00p,Los Angeles Clippers,102,Cleveland Cavaliers,115,Box Score,,20562,\\r\\nThu Jan 21 2016,8:00p,Detroit Pistons,99,New Orleans Pelicans,115,Box Score,,15281,\\r\\nThu Jan 21 2016,9:00p,Memphis Grizzlies,102,Denver Nuggets,101,Box Score,,16140,\\r\\nThu Jan 21 2016,10:00p,Atlanta Hawks,88,Sacramento Kings,91,Box Score,,17019,\\r\\nThu Jan 21 2016,10:30p,San Antonio Spurs,117,Phoenix Suns,89,Box Score,,16779,\\r\\nFri Jan 22 2016,7:00p,Charlotte Hornets,120,Orlando Magic,116,Box Score,OT,18083,\\r\\nFri Jan 22 2016,7:30p,Chicago Bulls,101,Boston Celtics,110,Box Score,,18624,\\r\\nFri Jan 22 2016,7:30p,Utah Jazz,108,Brooklyn Nets,86,Box Score,,12809,\\r\\nFri Jan 22 2016,7:30p,Los Angeles Clippers,116,New York Knicks,88,Box Score,,19812,\\r\\nFri Jan 22 2016,8:00p,Milwaukee Bucks,98,Houston Rockets,102,Box Score,,17196,\\r\\nFri Jan 22 2016,8:00p,Miami Heat,81,Toronto Raptors,101,Box Score,,19800,\\r\\nFri Jan 22 2016,8:30p,Oklahoma City Thunder,109,Dallas Mavericks,106,Box Score,,20284,\\r\\nFri Jan 22 2016,10:30p,Indiana Pacers,110,Golden State Warriors,122,Box Score,,19596,\\r\\nFri Jan 22 2016,10:30p,San Antonio Spurs,108,Los Angeles Lakers,95,Box Score,,18997,\\r\\nSat Jan 23 2016,7:00p,New York Knicks,84,Charlotte Hornets,97,Box Score,,17768,\\r\\nSat Jan 23 2016,7:00p,Milwaukee Bucks,99,New Orleans Pelicans,116,Box Score,,16980,\\r\\nSat Jan 23 2016,8:00p,Memphis Grizzlies,101,Minnesota Timberwolves,106,Box Score,,15608,\\r\\nSat Jan 23 2016,8:30p,Chicago Bulls,96,Cleveland Cavaliers,83,Box Score,,20562,\\r\\nSat Jan 23 2016,9:00p,Atlanta Hawks,95,Phoenix Suns,98,Box Score,,17034,\\r\\nSat Jan 23 2016,9:30p,Detroit Pistons,101,Denver Nuggets,104,Box Score,,14646,\\r\\nSat Jan 23 2016,10:30p,Los Angeles Lakers,103,Portland Trail Blazers,121,Box Score,,19728,\\r\\nSat Jan 23 2016,10:30p,Indiana Pacers,97,Sacramento Kings,108,Box Score,,17419,\\r\\nSun Jan 24 2016,3:30p,Dallas Mavericks,104,Houston Rockets,115,Box Score,,18142,\\r\\nSun Jan 24 2016,6:00p,Los Angeles Clippers,94,Toronto Raptors,112,Box Score,,19800,\\r\\nSun Jan 24 2016,7:00p,Boston Celtics,112,Philadelphia 76ers,92,Box Score,,9722,\\r\\nSun Jan 24 2016,7:30p,Oklahoma City Thunder,106,Brooklyn Nets,116,Box Score,,16019,\\r\\nMon Jan 25 2016,7:00p,Minnesota Timberwolves,107,Cleveland Cavaliers,114,Box Score,,20562,\\r\\nMon Jan 25 2016,7:00p,Boston Celtics,116,Washington Wizards,91,Box Score,,11753,\\r\\nMon Jan 25 2016,8:00p,Miami Heat,89,Chicago Bulls,84,Box Score,,21720,\\r\\nMon Jan 25 2016,8:00p,Orlando Magic,102,Memphis Grizzlies,108,Box Score,OT,15779,\\r\\nMon Jan 25 2016,8:00p,Houston Rockets,112,New Orleans Pelicans,111,Box Score,,15688,\\r\\nMon Jan 25 2016,9:00p,Atlanta Hawks,119,Denver Nuggets,105,Box Score,,10280,\\r\\nMon Jan 25 2016,9:00p,Detroit Pistons,95,Utah Jazz,92,Box Score,,18783,\\r\\nMon Jan 25 2016,10:00p,Charlotte Hornets,129,Sacramento Kings,128,Box Score,2OT,16991,\\r\\nMon Jan 25 2016,10:30p,San Antonio Spurs,90,Golden State Warriors,120,Box Score,,19596,\\r\\nTue Jan 26 2016,7:00p,Los Angeles Clippers,91,Indiana Pacers,89,Box Score,,15448,\\r\\nTue Jan 26 2016,7:00p,Phoenix Suns,103,Philadelphia 76ers,113,Box Score,,10851,\\r\\nTue Jan 26 2016,7:30p,Miami Heat,102,Brooklyn Nets,98,Box Score,,15267,\\r\\nTue Jan 26 2016,7:30p,Oklahoma City Thunder,128,New York Knicks,122,Box Score,OT,19812,\\r\\nTue Jan 26 2016,7:30p,Washington Wizards,89,Toronto Raptors,106,Box Score,,19800,\\r\\nTue Jan 26 2016,8:00p,Orlando Magic,100,Milwaukee Bucks,107,Box Score,,11884,\\r\\nTue Jan 26 2016,10:00p,Sacramento Kings,97,Portland Trail Blazers,112,Box Score,,19393,\\r\\nTue Jan 26 2016,10:30p,Dallas Mavericks,92,Los Angeles Lakers,90,Box Score,,18997,\\r\\nWed Jan 27 2016,7:00p,Phoenix Suns,93,Cleveland Cavaliers,115,Box Score,,20562,\\r\\nWed Jan 27 2016,7:30p,Denver Nuggets,103,Boston Celtics,111,Box Score,,18108,\\r\\nWed Jan 27 2016,7:30p,Philadelphia 76ers,97,Detroit Pistons,110,Box Score,,13712,\\r\\nWed Jan 27 2016,8:00p,Los Angeles Clippers,85,Atlanta Hawks,83,Box Score,,17664,\\r\\nWed Jan 27 2016,8:00p,Oklahoma City Thunder,126,Minnesota Timberwolves,123,Box Score,,13337,\\r\\nWed Jan 27 2016,8:00p,Houston Rockets,99,San Antonio Spurs,130,Box Score,,18418,\\r\\nWed Jan 27 2016,9:00p,Charlotte Hornets,73,Utah Jazz,102,Box Score,,16683,\\r\\nWed Jan 27 2016,10:30p,Dallas Mavericks,107,Golden State Warriors,127,Box Score,,19596,\\r\\nThu Jan 28 2016,7:00p,Atlanta Hawks,92,Indiana Pacers,111,Box Score,,15196,\\r\\nThu Jan 28 2016,7:00p,Denver Nuggets,117,Washington Wizards,113,Box Score,,15146,\\r\\nThu Jan 28 2016,8:00p,Milwaukee Bucks,83,Memphis Grizzlies,103,Box Score,,15244,\\r\\nThu Jan 28 2016,8:00p,Sacramento Kings,105,New Orleans Pelicans,114,Box Score,,15636,\\r\\nThu Jan 28 2016,8:00p,New York Knicks,93,Toronto Raptors,103,Box Score,,19800,\\r\\nThu Jan 28 2016,10:30p,Chicago Bulls,114,Los Angeles Lakers,91,Box Score,,18997,\\r\\nFri Jan 29 2016,7:30p,Orlando Magic,94,Boston Celtics,113,Box Score,,17729,\\r\\nFri Jan 29 2016,7:30p,Cleveland Cavaliers,114,Detroit Pistons,106,Box Score,,21012,\\r\\nFri Jan 29 2016,7:30p,Phoenix Suns,84,New York Knicks,102,Box Score,,19812,\\r\\nFri Jan 29 2016,8:00p,Miami Heat,107,Milwaukee Bucks,103,Box Score,,17846,\\r\\nFri Jan 29 2016,8:00p,Houston Rockets,108,Oklahoma City Thunder,116,Box Score,,18203,\\r\\nFri Jan 29 2016,8:30p,Brooklyn Nets,79,Dallas Mavericks,91,Box Score,,20409,\\r\\nFri Jan 29 2016,9:00p,Minnesota Timberwolves,90,Utah Jazz,103,Box Score,,18850,\\r\\nFri Jan 29 2016,10:00p,Charlotte Hornets,91,Portland Trail Blazers,109,Box Score,,19393,\\r\\nFri Jan 29 2016,10:30p,Los Angeles Lakers,93,Los Angeles Clippers,105,Box Score,,19495,\\r\\nSat Jan 30 2016,5:00p,Golden State Warriors,108,Philadelphia 76ers,105,Box Score,,20798,\\r\\nSat Jan 30 2016,6:30p,Detroit Pistons,107,Toronto Raptors,111,Box Score,,19800,\\r\\nSat Jan 30 2016,7:00p,Denver Nuggets,105,Indiana Pacers,109,Box Score,OT,18165,\\r\\nSat Jan 30 2016,7:00p,Brooklyn Nets,103,New Orleans Pelicans,105,Box Score,,18037,\\r\\nSat Jan 30 2016,8:00p,Washington Wizards,123,Houston Rockets,122,Box Score,,18320,\\r\\nSat Jan 30 2016,8:00p,Sacramento Kings,117,Memphis Grizzlies,121,Box Score,,18119,\\r\\nSat Jan 30 2016,8:30p,San Antonio Spurs,103,Cleveland Cavaliers,117,Box Score,,20562,\\r\\nSun Jan 31 2016,3:30p,Chicago Bulls,93,Los Angeles Clippers,120,Box Score,,19325,\\r\\nSun Jan 31 2016,6:00p,Atlanta Hawks,87,Miami Heat,105,Box Score,,19937,\\r\\nSun Jan 31 2016,6:00p,Boston Celtics,114,Orlando Magic,119,Box Score,,18846,\\r\\nSun Jan 31 2016,7:00p,Phoenix Suns,78,Dallas Mavericks,91,Box Score,,20137,\\r\\nSun Jan 31 2016,7:30p,Golden State Warriors,116,New York Knicks,95,Box Score,,19812,\\r\\nSun Jan 31 2016,9:00p,Minnesota Timberwolves,93,Portland Trail Blazers,96,Box Score,,19393,\\r\\nSun Jan 31 2016,9:30p,Charlotte Hornets,101,Los Angeles Lakers,82,Box Score,,18997,\\r\\nMon Feb 1 2016,7:00p,Cleveland Cavaliers,111,Indiana Pacers,106,Box Score,OT,17283,\\r\\nMon Feb 1 2016,7:30p,Detroit Pistons,105,Brooklyn Nets,100,Box Score,,13290,\\r\\nMon Feb 1 2016,8:00p,Dallas Mavericks,97,Atlanta Hawks,112,Box Score,,15455,\\r\\nMon Feb 1 2016,8:00p,Memphis Grizzlies,110,New Orleans Pelicans,95,Box Score,,15210,\\r\\nMon Feb 1 2016,8:00p,Washington Wizards,98,Oklahoma City Thunder,114,Box Score,,18203,\\r\\nMon Feb 1 2016,8:30p,Orlando Magic,92,San Antonio Spurs,107,Box Score,,18418,\\r\\nMon Feb 1 2016,9:00p,Toronto Raptors,93,Denver Nuggets,112,Box Score,,10007,\\r\\nMon Feb 1 2016,9:00p,Chicago Bulls,96,Utah Jazz,105,Box Score,OT,18811,\\r\\nMon Feb 1 2016,10:00p,Milwaukee Bucks,104,Sacramento Kings,111,Box Score,,16827,\\r\\nTue Feb 2 2016,7:30p,Boston Celtics,97,New York Knicks,89,Box Score,,19812,\\r\\nTue Feb 2 2016,8:00p,Miami Heat,102,Houston Rockets,115,Box Score,,18229,\\r\\nTue Feb 2 2016,9:00p,Toronto Raptors,104,Phoenix Suns,97,Box Score,,15897,\\r\\nTue Feb 2 2016,10:00p,Milwaukee Bucks,95,Portland Trail Blazers,107,Box Score,,18306,\\r\\nTue Feb 2 2016,10:30p,Minnesota Timberwolves,115,Los Angeles Lakers,119,Box Score,,18997,\\r\\nWed Feb 3 2016,7:00p,Cleveland Cavaliers,97,Charlotte Hornets,106,Box Score,,19189,\\r\\nWed Feb 3 2016,7:00p,Atlanta Hawks,124,Philadelphia 76ers,86,Box Score,,10429,\\r\\nWed Feb 3 2016,7:30p,Detroit Pistons,95,Boston Celtics,102,Box Score,,17297,\\r\\nWed Feb 3 2016,7:30p,Indiana Pacers,114,Brooklyn Nets,100,Box Score,,13311,\\r\\nWed Feb 3 2016,8:00p,Orlando Magic,114,Oklahoma City Thunder,117,Box Score,,18203,\\r\\nWed Feb 3 2016,8:00p,Golden State Warriors,134,Washington Wizards,121,Box Score,,20356,\\r\\nWed Feb 3 2016,8:30p,Miami Heat,93,Dallas Mavericks,90,Box Score,,20385,\\r\\nWed Feb 3 2016,8:30p,New Orleans Pelicans,97,San Antonio Spurs,110,Box Score,,18418,\\r\\nWed Feb 3 2016,9:00p,Denver Nuggets,81,Utah Jazz,85,Box Score,,19461,\\r\\nWed Feb 3 2016,10:00p,Chicago Bulls,107,Sacramento Kings,102,Box Score,,17317,\\r\\nWed Feb 3 2016,10:30p,Minnesota Timberwolves,108,Los Angeles Clippers,102,Box Score,,19060,\\r\\nThu Feb 4 2016,7:00p,New York Knicks,105,Detroit Pistons,111,Box Score,,17095,\\r\\nThu Feb 4 2016,9:00p,Houston Rockets,111,Phoenix Suns,105,Box Score,,15723,\\r\\nThu Feb 4 2016,9:30p,Los Angeles Lakers,99,New Orleans Pelicans,96,Box Score,,18420,\\r\\nThu Feb 4 2016,10:00p,Toronto Raptors,110,Portland Trail Blazers,103,Box Score,,19393,\\r\\nFri Feb 5 2016,7:00p,Indiana Pacers,96,Atlanta Hawks,102,Box Score,,17225,\\r\\nFri Feb 5 2016,7:00p,Miami Heat,98,Charlotte Hornets,95,Box Score,,19147,\\r\\nFri Feb 5 2016,7:00p,Los Angeles Clippers,107,Orlando Magic,93,Box Score,,16647,\\r\\nFri Feb 5 2016,7:00p,Philadelphia 76ers,94,Washington Wizards,106,Box Score,,17305,\\r\\nFri Feb 5 2016,7:30p,Sacramento Kings,119,Brooklyn Nets,128,Box Score,,14432,\\r\\nFri Feb 5 2016,7:30p,Boston Celtics,104,Cleveland Cavaliers,103,Box Score,,20562,\\r\\nFri Feb 5 2016,7:30p,Memphis Grizzlies,91,New York Knicks,85,Box Score,,19812,\\r\\nFri Feb 5 2016,9:00p,Chicago Bulls,110,Denver Nuggets,115,Box Score,,19155,\\r\\nFri Feb 5 2016,9:00p,Milwaukee Bucks,81,Utah Jazz,84,Box Score,,19911,\\r\\nFri Feb 5 2016,9:30p,San Antonio Spurs,116,Dallas Mavericks,90,Box Score,,20404,\\r\\nSat Feb 6 2016,5:00p,Portland Trail Blazers,96,Houston Rockets,79,Box Score,,18308,\\r\\nSat Feb 6 2016,7:00p,Washington Wizards,104,Charlotte Hornets,108,Box Score,,18450,\\r\\nSat Feb 6 2016,7:00p,Detroit Pistons,104,Indiana Pacers,112,Box Score,,18165,\\r\\nSat Feb 6 2016,7:30p,New Orleans Pelicans,84,Cleveland Cavaliers,99,Box Score,,20562,\\r\\nSat Feb 6 2016,7:30p,Brooklyn Nets,98,Philadelphia 76ers,103,Box Score,,18847,\\r\\nSat Feb 6 2016,8:00p,Dallas Mavericks,114,Memphis Grizzlies,110,Box Score,OT,18119,\\r\\nSat Feb 6 2016,8:00p,Chicago Bulls,105,Minnesota Timberwolves,112,Box Score,,17876,\\r\\nSat Feb 6 2016,8:30p,Los Angeles Lakers,102,San Antonio Spurs,106,Box Score,,18418,\\r\\nSat Feb 6 2016,9:00p,Oklahoma City Thunder,108,Golden State Warriors,116,Box Score,,19596,\\r\\nSat Feb 6 2016,9:00p,Utah Jazz,98,Phoenix Suns,89,Box Score,,16180,\\r\\nSun Feb 7 2016,1:00p,Sacramento Kings,119,Boston Celtics,128,Box Score,,18624,\\r\\nSun Feb 7 2016,1:00p,Denver Nuggets,101,New York Knicks,96,Box Score,,19812,\\r\\nSun Feb 7 2016,1:00p,Atlanta Hawks,94,Orlando Magic,96,Box Score,,16021,\\r\\nSun Feb 7 2016,2:00p,Los Angeles Clippers,100,Miami Heat,93,Box Score,,19624,\\r\\nMon Feb 8 2016,7:00p,Chicago Bulls,91,Charlotte Hornets,108,Box Score,,15886,\\r\\nMon Feb 8 2016,7:00p,Sacramento Kings,100,Cleveland Cavaliers,120,Box Score,,20562,\\r\\nMon Feb 8 2016,7:00p,Los Angeles Lakers,87,Indiana Pacers,89,Box Score,,18165,\\r\\nMon Feb 8 2016,7:00p,Los Angeles Clippers,98,Philadelphia 76ers,92,Box Score,OT,13310,\\r\\nMon Feb 8 2016,7:30p,Denver Nuggets,104,Brooklyn Nets,105,Box Score,,13043,\\r\\nMon Feb 8 2016,7:30p,Toronto Raptors,103,Detroit Pistons,89,Box Score,,14103,\\r\\nMon Feb 8 2016,8:00p,Orlando Magic,117,Atlanta Hawks,110,Box Score,OT,13057,\\r\\nMon Feb 8 2016,8:00p,Portland Trail Blazers,112,Memphis Grizzlies,106,Box Score,OT,15892,\\r\\nMon Feb 8 2016,8:00p,New Orleans Pelicans,116,Minnesota Timberwolves,102,Box Score,,11926,\\r\\nMon Feb 8 2016,9:00p,Oklahoma City Thunder,122,Phoenix Suns,106,Box Score,,16316,\\r\\nTue Feb 9 2016,8:00p,San Antonio Spurs,119,Miami Heat,101,Box Score,,19723,\\r\\nTue Feb 9 2016,8:00p,Boston Celtics,111,Milwaukee Bucks,112,Box Score,,13215,\\r\\nTue Feb 9 2016,8:00p,Washington Wizards,111,New York Knicks,108,Box Score,,19812,\\r\\nTue Feb 9 2016,8:30p,Utah Jazz,121,Dallas Mavericks,119,Box Score,OT,19394,\\r\\nTue Feb 9 2016,10:30p,Houston Rockets,110,Golden State Warriors,123,Box Score,,19596,\\r\\nWed Feb 10 2016,7:00p,Charlotte Hornets,117,Indiana Pacers,95,Box Score,,15653,\\r\\nWed Feb 10 2016,7:00p,San Antonio Spurs,98,Orlando Magic,96,Box Score,,17467,\\r\\nWed Feb 10 2016,7:00p,Sacramento Kings,114,Philadelphia 76ers,110,Box Score,,12501,\\r\\nWed Feb 10 2016,7:30p,Los Angeles Clippers,134,Boston Celtics,139,Box Score,OT,18186,\\r\\nWed Feb 10 2016,7:30p,Memphis Grizzlies,109,Brooklyn Nets,90,Box Score,,14262,\\r\\nWed Feb 10 2016,7:30p,Denver Nuggets,103,Detroit Pistons,92,Box Score,,19971,\\r\\nWed Feb 10 2016,8:00p,Atlanta Hawks,113,Chicago Bulls,90,Box Score,,21709,\\r\\nWed Feb 10 2016,8:00p,Los Angeles Lakers,111,Cleveland Cavaliers,120,Box Score,,20562,\\r\\nWed Feb 10 2016,8:00p,Toronto Raptors,112,Minnesota Timberwolves,117,Box Score,,11171,\\r\\nWed Feb 10 2016,8:00p,Utah Jazz,96,New Orleans Pelicans,100,Box Score,,15256,\\r\\nWed Feb 10 2016,9:00p,Golden State Warriors,112,Phoenix Suns,104,Box Score,,18055,\\r\\nWed Feb 10 2016,10:30p,Houston Rockets,103,Portland Trail Blazers,116,Box Score,,19393,\\r\\nThu Feb 11 2016,8:00p,Washington Wizards,92,Milwaukee Bucks,99,Box Score,,14172,\\r\\nThu Feb 11 2016,8:00p,New Orleans Pelicans,95,Oklahoma City Thunder,121,Box Score,,18203,\\r\\nThu Feb 18 2016,7:00p,Utah Jazz,89,Washington Wizards,103,Box Score,,12415,\\r\\nThu Feb 18 2016,8:00p,Chicago Bulls,95,Cleveland Cavaliers,106,Box Score,,20562,\\r\\nThu Feb 18 2016,10:30p,San Antonio Spurs,86,Los Angeles Clippers,105,Box Score,,19410,\\r\\nFri Feb 19 2016,7:00p,Dallas Mavericks,104,Orlando Magic,110,Box Score,OT,17764,\\r\\nFri Feb 19 2016,7:00p,Detroit Pistons,86,Washington Wizards,98,Box Score,,20356,\\r\\nFri Feb 19 2016,7:30p,New York Knicks,98,Brooklyn Nets,109,Box Score,,17732,\\r\\nFri Feb 19 2016,8:00p,Miami Heat,115,Atlanta Hawks,111,Box Score,,19043,\\r\\nFri Feb 19 2016,8:00p,Toronto Raptors,106,Chicago Bulls,116,Box Score,,21849,\\r\\nFri Feb 19 2016,8:00p,Minnesota Timberwolves,104,Memphis Grizzlies,109,Box Score,,18119,\\r\\nFri Feb 19 2016,8:00p,Charlotte Hornets,98,Milwaukee Bucks,95,Box Score,,16370,\\r\\nFri Feb 19 2016,8:00p,Philadelphia 76ers,114,New Orleans Pelicans,121,Box Score,,16953,\\r\\nFri Feb 19 2016,8:00p,Indiana Pacers,101,Oklahoma City Thunder,98,Box Score,,18203,\\r\\nFri Feb 19 2016,9:30p,Houston Rockets,116,Phoenix Suns,100,Box Score,,17102,\\r\\nFri Feb 19 2016,10:00p,Golden State Warriors,105,Portland Trail Blazers,137,Box Score,,20100,\\r\\nFri Feb 19 2016,10:00p,Denver Nuggets,110,Sacramento Kings,116,Box Score,,17317,\\r\\nFri Feb 19 2016,10:30p,San Antonio Spurs,119,Los Angeles Lakers,113,Box Score,,18997,\\r\\nFri Feb 19 2016,10:30p,Boston Celtics,93,Utah Jazz,111,Box Score,,19911,\\r\\nSat Feb 20 2016,7:30p,Milwaukee Bucks,117,Atlanta Hawks,109,Box Score,2OT,18653,\\r\\nSat Feb 20 2016,7:30p,Washington Wizards,94,Miami Heat,114,Box Score,,19710,\\r\\nSat Feb 20 2016,8:00p,New York Knicks,103,Minnesota Timberwolves,95,Box Score,,16663,\\r\\nSat Feb 20 2016,8:30p,Golden State Warriors,115,Los Angeles Clippers,112,Box Score,,19585,\\r\\nSun Feb 21 2016,3:30p,New Orleans Pelicans,111,Detroit Pistons,106,Box Score,,17886,\\r\\nSun Feb 21 2016,3:30p,Cleveland Cavaliers,115,Oklahoma City Thunder,92,Box Score,,18203,\\r\\nSun Feb 21 2016,5:00p,Boston Celtics,121,Denver Nuggets,101,Box Score,,16065,\\r\\nSun Feb 21 2016,5:00p,San Antonio Spurs,118,Phoenix Suns,111,Box Score,,16224,\\r\\nSun Feb 21 2016,6:00p,Charlotte Hornets,104,Brooklyn Nets,96,Box Score,,16155,\\r\\nSun Feb 21 2016,6:00p,Indiana Pacers,105,Orlando Magic,102,Box Score,,17242,\\r\\nSun Feb 21 2016,6:00p,Memphis Grizzlies,85,Toronto Raptors,98,Box Score,,19800,\\r\\nSun Feb 21 2016,7:00p,Philadelphia 76ers,103,Dallas Mavericks,129,Box Score,,20194,\\r\\nSun Feb 21 2016,8:00p,Los Angeles Lakers,115,Chicago Bulls,126,Box Score,,23143,\\r\\nSun Feb 21 2016,9:00p,Utah Jazz,111,Portland Trail Blazers,115,Box Score,,19470,\\r\\nMon Feb 22 2016,7:00p,Detroit Pistons,96,Cleveland Cavaliers,88,Box Score,,20562,\\r\\nMon Feb 22 2016,7:30p,Indiana Pacers,93,Miami Heat,101,Box Score,OT,19600,\\r\\nMon Feb 22 2016,7:30p,Toronto Raptors,122,New York Knicks,95,Box Score,,19812,\\r\\nMon Feb 22 2016,8:00p,Golden State Warriors,102,Atlanta Hawks,92,Box Score,,19330,\\r\\nMon Feb 22 2016,8:00p,Los Angeles Lakers,101,Milwaukee Bucks,108,Box Score,,18717,\\r\\nMon Feb 22 2016,8:00p,Boston Celtics,122,Minnesota Timberwolves,124,Box Score,,11639,\\r\\nMon Feb 22 2016,10:30p,Phoenix Suns,84,Los Angeles Clippers,124,Box Score,,19060,\\r\\nTue Feb 23 2016,7:00p,Orlando Magic,124,Philadelphia 76ers,115,Box Score,,13745,\\r\\nTue Feb 23 2016,7:00p,New Orleans Pelicans,89,Washington Wizards,109,Box Score,,15743,\\r\\nTue Feb 23 2016,9:00p,Sacramento Kings,114,Denver Nuggets,110,Box Score,,15721,\\r\\nTue Feb 23 2016,9:00p,Houston Rockets,114,Utah Jazz,117,Box Score,OT,18132,\\r\\nTue Feb 23 2016,10:00p,Brooklyn Nets,104,Portland Trail Blazers,112,Box Score,,19393,\\r\\nWed Feb 24 2016,7:00p,Charlotte Hornets,103,Cleveland Cavaliers,114,Box Score,,20562,\\r\\nWed Feb 24 2016,7:00p,New York Knicks,105,Indiana Pacers,108,Box Score,,16018,\\r\\nWed Feb 24 2016,7:30p,Philadelphia 76ers,91,Detroit Pistons,111,Box Score,,13429,\\r\\nWed Feb 24 2016,7:30p,Golden State Warriors,118,Miami Heat,112,Box Score,,19899,\\r\\nWed Feb 24 2016,7:30p,Minnesota Timberwolves,105,Toronto Raptors,114,Box Score,,19800,\\r\\nWed Feb 24 2016,8:00p,Washington Wizards,104,Chicago Bulls,109,Box Score,,21560,\\r\\nWed Feb 24 2016,8:00p,Los Angeles Lakers,119,Memphis Grizzlies,128,Box Score,,18119,\\r\\nWed Feb 24 2016,8:30p,Oklahoma City Thunder,116,Dallas Mavericks,103,Box Score,,19805,\\r\\nWed Feb 24 2016,10:30p,Denver Nuggets,87,Los Angeles Clippers,81,Box Score,,19060,\\r\\nWed Feb 24 2016,10:30p,San Antonio Spurs,108,Sacramento Kings,92,Box Score,,17317,\\r\\nThu Feb 25 2016,7:00p,Golden State Warriors,130,Orlando Magic,114,Box Score,,19189,\\r\\nThu Feb 25 2016,7:30p,Milwaukee Bucks,107,Boston Celtics,112,Box Score,,18157,\\r\\nThu Feb 25 2016,8:00p,Oklahoma City Thunder,119,New Orleans Pelicans,123,Box Score,,16974,\\r\\nThu Feb 25 2016,9:00p,Brooklyn Nets,116,Phoenix Suns,106,Box Score,,16145,\\r\\nThu Feb 25 2016,10:30p,Houston Rockets,119,Portland Trail Blazers,105,Box Score,,19393,\\r\\nThu Feb 25 2016,10:30p,San Antonio Spurs,96,Utah Jazz,78,Box Score,,19911,\\r\\nFri Feb 26 2016,7:00p,Charlotte Hornets,96,Indiana Pacers,95,Box Score,,18165,\\r\\nFri Feb 26 2016,7:00p,Washington Wizards,103,Philadelphia 76ers,94,Box Score,,16511,\\r\\nFri Feb 26 2016,7:30p,Orlando Magic,95,New York Knicks,108,Box Score,,19812,\\r\\nFri Feb 26 2016,7:30p,Cleveland Cavaliers,97,Toronto Raptors,99,Box Score,,19800,\\r\\nFri Feb 26 2016,8:00p,Chicago Bulls,88,Atlanta Hawks,103,Box Score,,18123,\\r\\nFri Feb 26 2016,8:30p,Denver Nuggets,116,Dallas Mavericks,122,Box Score,OT,20298,\\r\\nFri Feb 26 2016,10:00p,Los Angeles Clippers,117,Sacramento Kings,107,Box Score,,17317,\\r\\nFri Feb 26 2016,10:30p,Memphis Grizzlies,112,Los Angeles Lakers,95,Box Score,,18997,\\r\\nSat Feb 27 2016,3:00p,Miami Heat,89,Boston Celtics,101,Box Score,,18624,\\r\\nSat Feb 27 2016,7:00p,Minnesota Timberwolves,112,New Orleans Pelicans,110,Box Score,,17338,\\r\\nSat Feb 27 2016,8:00p,Portland Trail Blazers,103,Chicago Bulls,95,Box Score,,21962,\\r\\nSat Feb 27 2016,8:00p,San Antonio Spurs,104,Houston Rockets,94,Box Score,,18240,\\r\\nSat Feb 27 2016,8:30p,Detroit Pistons,102,Milwaukee Bucks,91,Box Score,,17165,\\r\\nSat Feb 27 2016,8:30p,Golden State Warriors,121,Oklahoma City Thunder,118,Box Score,OT,18203,\\r\\nSat Feb 27 2016,9:30p,Memphis Grizzlies,106,Phoenix Suns,111,Box Score,,17101,\\r\\nSat Feb 27 2016,9:30p,Brooklyn Nets,98,Utah Jazz,96,Box Score,,18863,\\r\\nSun Feb 28 2016,1:00p,Cleveland Cavaliers,99,Washington Wizards,113,Box Score,,20356,\\r\\nSun Feb 28 2016,3:30p,Charlotte Hornets,76,Atlanta Hawks,87,Box Score,,17156,\\r\\nSun Feb 28 2016,6:00p,Toronto Raptors,101,Detroit Pistons,114,Box Score,,17201,\\r\\nSun Feb 28 2016,6:00p,Portland Trail Blazers,111,Indiana Pacers,102,Box Score,,16662,\\r\\nSun Feb 28 2016,6:00p,Philadelphia 76ers,116,Orlando Magic,130,Box Score,,16168,\\r\\nSun Feb 28 2016,7:00p,Minnesota Timberwolves,101,Dallas Mavericks,128,Box Score,,20289,\\r\\nSun Feb 28 2016,7:30p,Miami Heat,98,New York Knicks,81,Box Score,,19812,\\r\\nMon Feb 29 2016,7:00p,Indiana Pacers,96,Cleveland Cavaliers,100,Box Score,,20562,\\r\\nMon Feb 29 2016,7:00p,Philadelphia 76ers,108,Washington Wizards,116,Box Score,,15096,\\r\\nMon Feb 29 2016,7:30p,Utah Jazz,95,Boston Celtics,100,Box Score,,17680,\\r\\nMon Feb 29 2016,8:00p,Houston Rockets,121,Milwaukee Bucks,128,Box Score,,13214,\\r\\nMon Feb 29 2016,9:00p,Memphis Grizzlies,103,Denver Nuggets,96,Box Score,,10324,\\r\\nMon Feb 29 2016,10:00p,Oklahoma City Thunder,131,Sacramento Kings,116,Box Score,,17317,\\r\\nMon Feb 29 2016,10:30p,Brooklyn Nets,95,Los Angeles Clippers,105,Box Score,,19060,\\r\\nTue Mar 1 2016,7:00p,Phoenix Suns,92,Charlotte Hornets,126,Box Score,,16849,\\r\\nTue Mar 1 2016,7:30p,Chicago Bulls,111,Miami Heat,129,Box Score,,19654,\\r\\nTue Mar 1 2016,7:30p,Portland Trail Blazers,104,New York Knicks,85,Box Score,,19812,\\r\\nTue Mar 1 2016,8:30p,Orlando Magic,108,Dallas Mavericks,121,Box Score,,19546,\\r\\nTue Mar 1 2016,10:30p,Atlanta Hawks,105,Golden State Warriors,109,Box Score,OT,19596,\\r\\nTue Mar 1 2016,10:30p,Brooklyn Nets,101,Los Angeles Lakers,107,Box Score,,18997,\\r\\nWed Mar 2 2016,7:00p,Chicago Bulls,89,Orlando Magic,102,Box Score,,16072,\\r\\nWed Mar 2 2016,7:00p,Charlotte Hornets,119,Philadelphia 76ers,99,Box Score,,11143,\\r\\nWed Mar 2 2016,7:30p,Portland Trail Blazers,93,Boston Celtics,116,Box Score,,18624,\\r\\nWed Mar 2 2016,7:30p,Utah Jazz,94,Toronto Raptors,104,Box Score,,19800,\\r\\nWed Mar 2 2016,8:00p,New Orleans Pelicans,95,Houston Rockets,100,Box Score,,18226,\\r\\nWed Mar 2 2016,8:00p,Sacramento Kings,98,Memphis Grizzlies,104,Box Score,,15310,\\r\\nWed Mar 2 2016,8:00p,Indiana Pacers,104,Milwaukee Bucks,99,Box Score,,14263,\\r\\nWed Mar 2 2016,8:00p,Washington Wizards,104,Minnesota Timberwolves,98,Box Score,,11307,\\r\\nWed Mar 2 2016,8:00p,Detroit Pistons,81,San Antonio Spurs,97,Box Score,,18418,\\r\\nWed Mar 2 2016,9:00p,Los Angeles Lakers,107,Denver Nuggets,117,Box Score,,20096,\\r\\nWed Mar 2 2016,10:30p,Oklahoma City Thunder,98,Los Angeles Clippers,103,Box Score,,19304,\\r\\nThu Mar 3 2016,7:30p,Phoenix Suns,92,Miami Heat,108,Box Score,,19600,\\r\\nThu Mar 3 2016,8:00p,San Antonio Spurs,94,New Orleans Pelicans,86,Box Score,,17781,\\r\\nThu Mar 3 2016,8:30p,Sacramento Kings,104,Dallas Mavericks,101,Box Score,,19910,\\r\\nThu Mar 3 2016,10:30p,Oklahoma City Thunder,106,Golden State Warriors,121,Box Score,,19596,\\r\\nFri Mar 4 2016,7:00p,Indiana Pacers,101,Charlotte Hornets,108,Box Score,,19099,\\r\\nFri Mar 4 2016,7:00p,Phoenix Suns,102,Orlando Magic,84,Box Score,,17546,\\r\\nFri Mar 4 2016,7:00p,Miami Heat,112,Philadelphia 76ers,102,Box Score,,17610,\\r\\nFri Mar 4 2016,7:30p,New York Knicks,104,Boston Celtics,105,Box Score,,18624,\\r\\nFri Mar 4 2016,7:30p,Portland Trail Blazers,115,Toronto Raptors,117,Box Score,,19800,\\r\\nFri Mar 4 2016,8:00p,Washington Wizards,83,Cleveland Cavaliers,108,Box Score,,20562,\\r\\nFri Mar 4 2016,8:00p,Utah Jazz,88,Memphis Grizzlies,94,Box Score,,17188,\\r\\nFri Mar 4 2016,8:00p,Minnesota Timberwolves,101,Milwaukee Bucks,116,Box Score,,16366,\\r\\nFri Mar 4 2016,9:00p,Brooklyn Nets,121,Denver Nuggets,120,Box Score,OT,14163,\\r\\nFri Mar 4 2016,10:30p,Atlanta Hawks,106,Los Angeles Lakers,77,Box Score,,18997,\\r\\nSat Mar 5 2016,7:00p,Boston Celtics,103,Cleveland Cavaliers,120,Box Score,,20562,\\r\\nSat Mar 5 2016,7:00p,Utah Jazz,106,New Orleans Pelicans,94,Box Score,,16680,\\r\\nSat Mar 5 2016,7:00p,Detroit Pistons,89,New York Knicks,102,Box Score,,19812,\\r\\nSat Mar 5 2016,7:00p,Indiana Pacers,100,Washington Wizards,99,Box Score,,20356,\\r\\nSat Mar 5 2016,8:00p,Brooklyn Nets,118,Minnesota Timberwolves,132,Box Score,,15987,\\r\\nSat Mar 5 2016,8:30p,Houston Rockets,100,Chicago Bulls,108,Box Score,,22203,\\r\\nSat Mar 5 2016,8:30p,Sacramento Kings,94,San Antonio Spurs,104,Box Score,,18418,\\r\\nSat Mar 5 2016,10:30p,Atlanta Hawks,107,Los Angeles Clippers,97,Box Score,,19236,\\r\\nSun Mar 6 2016,3:30p,Golden State Warriors,95,Los Angeles Lakers,112,Box Score,,18997,\\r\\nSun Mar 6 2016,3:30p,Oklahoma City Thunder,104,Milwaukee Bucks,96,Box Score,,16565,\\r\\nSun Mar 6 2016,4:00p,Phoenix Suns,109,Memphis Grizzlies,100,Box Score,,17291,\\r\\nSun Mar 6 2016,5:00p,Dallas Mavericks,114,Denver Nuggets,116,Box Score,OT,14802,\\r\\nSun Mar 6 2016,6:00p,Portland Trail Blazers,103,Detroit Pistons,123,Box Score,,18386,\\r\\nSun Mar 6 2016,6:00p,Philadelphia 76ers,98,Miami Heat,103,Box Score,,19820,\\r\\nSun Mar 6 2016,6:30p,Houston Rockets,113,Toronto Raptors,107,Box Score,,19800,\\r\\nMon Mar 7 2016,7:00p,Minnesota Timberwolves,103,Charlotte Hornets,108,Box Score,,15912,\\r\\nMon Mar 7 2016,7:00p,Memphis Grizzlies,106,Cleveland Cavaliers,103,Box Score,,20562,\\r\\nMon Mar 7 2016,7:00p,San Antonio Spurs,91,Indiana Pacers,99,Box Score,,16742,\\r\\nMon Mar 7 2016,8:00p,Milwaukee Bucks,90,Chicago Bulls,100,Box Score,,21672,\\r\\nMon Mar 7 2016,8:00p,Sacramento Kings,112,New Orleans Pelicans,115,Box Score,,16403,\\r\\nMon Mar 7 2016,8:30p,Los Angeles Clippers,109,Dallas Mavericks,90,Box Score,,20002,\\r\\nMon Mar 7 2016,10:30p,Orlando Magic,113,Golden State Warriors,119,Box Score,,19596,\\r\\nTue Mar 8 2016,7:30p,Brooklyn Nets,99,Toronto Raptors,104,Box Score,,19800,\\r\\nTue Mar 8 2016,8:00p,San Antonio Spurs,116,Minnesota Timberwolves,91,Box Score,,14093,\\r\\nTue Mar 8 2016,9:00p,New York Knicks,94,Denver Nuggets,110,Box Score,,13305,\\r\\nTue Mar 8 2016,9:00p,Atlanta Hawks,91,Utah Jazz,84,Box Score,,19282,\\r\\nTue Mar 8 2016,10:00p,Washington Wizards,109,Portland Trail Blazers,116,Box Score,OT,19393,\\r\\nTue Mar 8 2016,10:30p,Orlando Magic,98,Los Angeles Lakers,107,Box Score,,18997,\\r\\nWed Mar 9 2016,7:00p,Memphis Grizzlies,96,Boston Celtics,116,Box Score,,17790,\\r\\nWed Mar 9 2016,7:00p,New Orleans Pelicans,113,Charlotte Hornets,122,Box Score,,16335,\\r\\nWed Mar 9 2016,7:00p,Houston Rockets,118,Philadelphia 76ers,104,Box Score,,15237,\\r\\nWed Mar 9 2016,8:00p,Miami Heat,108,Milwaukee Bucks,114,Box Score,,15005,\\r\\nWed Mar 9 2016,8:30p,Detroit Pistons,102,Dallas Mavericks,96,Box Score,,20249,\\r\\nWed Mar 9 2016,9:00p,New York Knicks,128,Phoenix Suns,97,Box Score,,17105,\\r\\nWed Mar 9 2016,9:30p,Los Angeles Clippers,108,Oklahoma City Thunder,120,Box Score,,18203,\\r\\nWed Mar 9 2016,10:00p,Cleveland Cavaliers,120,Sacramento Kings,111,Box Score,,17317,\\r\\nWed Mar 9 2016,10:30p,Utah Jazz,94,Golden State Warriors,115,Box Score,,19596,\\r\\nThu Mar 10 2016,7:30p,Atlanta Hawks,96,Toronto Raptors,104,Box Score,,19800,\\r\\nThu Mar 10 2016,8:00p,Chicago Bulls,101,San Antonio Spurs,109,Box Score,,18418,\\r\\nThu Mar 10 2016,9:00p,Phoenix Suns,98,Denver Nuggets,116,Box Score,,11582,\\r\\nThu Mar 10 2016,10:30p,Cleveland Cavaliers,120,Los Angeles Lakers,108,Box Score,,18997,\\r\\nFri Mar 11 2016,7:00p,Detroit Pistons,103,Charlotte Hornets,118,Box Score,,18189,\\r\\nFri Mar 11 2016,7:00p,Brooklyn Nets,89,Philadelphia 76ers,95,Box Score,,14128,\\r\\nFri Mar 11 2016,7:30p,Houston Rockets,102,Boston Celtics,98,Box Score,,18624,\\r\\nFri Mar 11 2016,8:00p,Miami Heat,118,Chicago Bulls,96,Box Score,,22067,\\r\\nFri Mar 11 2016,8:00p,New Orleans Pelicans,114,Memphis Grizzlies,121,Box Score,OT,18119,\\r\\nFri Mar 11 2016,8:00p,Minnesota Timberwolves,99,Oklahoma City Thunder,96,Box Score,,18203,\\r\\nFri Mar 11 2016,9:00p,Washington Wizards,93,Utah Jazz,114,Box Score,,19911,\\r\\nFri Mar 11 2016,10:00p,Orlando Magic,107,Sacramento Kings,100,Box Score,,17081,\\r\\nFri Mar 11 2016,10:30p,Portland Trail Blazers,112,Golden State Warriors,128,Box Score,,19596,\\r\\nFri Mar 11 2016,10:30p,New York Knicks,94,Los Angeles Clippers,101,Box Score,,19175,\\r\\nSat Mar 12 2016,2:00p,Indiana Pacers,112,Dallas Mavericks,105,Box Score,,20459,\\r\\nSat Mar 12 2016,7:00p,Houston Rockets,109,Charlotte Hornets,125,Box Score,,19303,\\r\\nSat Mar 12 2016,7:00p,Detroit Pistons,125,Philadelphia 76ers,111,Box Score,,16087,\\r\\nSat Mar 12 2016,7:00p,Miami Heat,104,Toronto Raptors,112,Box Score,OT,19800,\\r\\nSat Mar 12 2016,7:30p,Memphis Grizzlies,83,Atlanta Hawks,95,Box Score,,17515,\\r\\nSat Mar 12 2016,7:30p,New Orleans Pelicans,92,Milwaukee Bucks,103,Box Score,,16518,\\r\\nSat Mar 12 2016,8:30p,Oklahoma City Thunder,85,San Antonio Spurs,93,Box Score,,18418,\\r\\nSat Mar 12 2016,9:30p,Washington Wizards,100,Denver Nuggets,116,Box Score,,13213,\\r\\nSat Mar 12 2016,10:30p,Phoenix Suns,116,Golden State Warriors,123,Box Score,,19596,\\r\\nSat Mar 12 2016,10:30p,Orlando Magic,84,Portland Trail Blazers,121,Box Score,,19452,\\r\\nSun Mar 13 2016,3:30p,Cleveland Cavaliers,114,Los Angeles Clippers,90,Box Score,,19342,\\r\\nSun Mar 13 2016,6:00p,Indiana Pacers,75,Atlanta Hawks,104,Box Score,,17066,\\r\\nSun Mar 13 2016,6:00p,Utah Jazz,108,Sacramento Kings,99,Box Score,,17023,\\r\\nSun Mar 13 2016,8:00p,Milwaukee Bucks,109,Brooklyn Nets,100,Box Score,,15241,\\r\\nSun Mar 13 2016,9:30p,New York Knicks,90,Los Angeles Lakers,87,Box Score,,18997,\\r\\nMon Mar 14 2016,7:00p,Dallas Mavericks,107,Charlotte Hornets,96,Box Score,,15686,\\r\\nMon Mar 14 2016,7:30p,Denver Nuggets,119,Miami Heat,124,Box Score,,19744,\\r\\nMon Mar 14 2016,7:30p,Chicago Bulls,109,Toronto Raptors,107,Box Score,,19800,\\r\\nMon Mar 14 2016,8:00p,Memphis Grizzlies,81,Houston Rockets,130,Box Score,,18226,\\r\\nMon Mar 14 2016,8:00p,Portland Trail Blazers,94,Oklahoma City Thunder,128,Box Score,,18203,\\r\\nMon Mar 14 2016,8:00p,Detroit Pistons,81,Washington Wizards,124,Box Score,,18042,\\r\\nMon Mar 14 2016,10:00p,Minnesota Timberwolves,104,Phoenix Suns,107,Box Score,,17480,\\r\\nMon Mar 14 2016,10:30p,New Orleans Pelicans,107,Golden State Warriors,125,Box Score,,19596,\\r\\nMon Mar 14 2016,10:30p,Cleveland Cavaliers,85,Utah Jazz,94,Box Score,,19911,\\r\\nTue Mar 15 2016,7:00p,Boston Celtics,98,Indiana Pacers,103,Box Score,,17118,\\r\\nTue Mar 15 2016,7:00p,Denver Nuggets,110,Orlando Magic,116,Box Score,,16988,\\r\\nTue Mar 15 2016,7:30p,Philadelphia 76ers,114,Brooklyn Nets,131,Box Score,,14560,\\r\\nTue Mar 15 2016,8:00p,Toronto Raptors,107,Milwaukee Bucks,89,Box Score,,13522,\\r\\nTue Mar 15 2016,8:30p,Los Angeles Clippers,87,San Antonio Spurs,108,Box Score,,18418,\\r\\nTue Mar 15 2016,10:30p,Sacramento Kings,106,Los Angeles Lakers,98,Box Score,,18997,\\r\\nWed Mar 16 2016,7:00p,Oklahoma City Thunder,130,Boston Celtics,109,Box Score,,18624,\\r\\nWed Mar 16 2016,7:00p,Orlando Magic,99,Charlotte Hornets,107,Box Score,,16148,\\r\\nWed Mar 16 2016,7:00p,Dallas Mavericks,98,Cleveland Cavaliers,99,Box Score,,20562,\\r\\nWed Mar 16 2016,7:00p,Chicago Bulls,96,Washington Wizards,117,Box Score,,19556,\\r\\nWed Mar 16 2016,7:30p,Atlanta Hawks,118,Detroit Pistons,114,Box Score,,14121,\\r\\nWed Mar 16 2016,8:00p,Minnesota Timberwolves,114,Memphis Grizzlies,108,Box Score,,16588,\\r\\nWed Mar 16 2016,9:30p,Los Angeles Clippers,122,Houston Rockets,106,Box Score,,18304,\\r\\nWed Mar 16 2016,10:00p,New Orleans Pelicans,123,Sacramento Kings,108,Box Score,,17086,\\r\\nWed Mar 16 2016,10:30p,New York Knicks,85,Golden State Warriors,121,Box Score,,19596,\\r\\nThu Mar 17 2016,7:00p,Toronto Raptors,101,Indiana Pacers,94,Box Score,OT,15104,\\r\\nThu Mar 17 2016,7:00p,Washington Wizards,99,Philadelphia 76ers,94,Box Score,,10521,\\r\\nThu Mar 17 2016,7:30p,Charlotte Hornets,109,Miami Heat,106,Box Score,,19848,\\r\\nThu Mar 17 2016,8:00p,Denver Nuggets,98,Atlanta Hawks,116,Box Score,,14383,\\r\\nThu Mar 17 2016,8:00p,Brooklyn Nets,102,Chicago Bulls,118,Box Score,,21513,\\r\\nThu Mar 17 2016,8:00p,Memphis Grizzlies,86,Milwaukee Bucks,96,Box Score,,11740,\\r\\nThu Mar 17 2016,8:30p,Portland Trail Blazers,110,San Antonio Spurs,118,Box Score,,18418,\\r\\nThu Mar 17 2016,9:00p,Phoenix Suns,69,Utah Jazz,103,Box Score,,18784,\\r\\nFri Mar 18 2016,7:00p,Cleveland Cavaliers,109,Orlando Magic,103,Box Score,,18046,\\r\\nFri Mar 18 2016,7:00p,Oklahoma City Thunder,111,Philadelphia 76ers,97,Box Score,,20388,\\r\\nFri Mar 18 2016,7:30p,Sacramento Kings,108,Detroit Pistons,115,Box Score,,15982,\\r\\nFri Mar 18 2016,7:30p,Boston Celtics,91,Toronto Raptors,105,Box Score,,19800,\\r\\nFri Mar 18 2016,8:00p,Minnesota Timberwolves,111,Houston Rockets,116,Box Score,,18142,\\r\\nFri Mar 18 2016,8:00p,Portland Trail Blazers,117,New Orleans Pelicans,112,Box Score,,17263,\\r\\nFri Mar 18 2016,8:30p,Golden State Warriors,130,Dallas Mavericks,112,Box Score,,20515,\\r\\nFri Mar 18 2016,10:30p,Phoenix Suns,95,Los Angeles Lakers,90,Box Score,,18997,\\r\\nSat Mar 19 2016,6:00p,Denver Nuggets,101,Charlotte Hornets,93,Box Score,,19271,\\r\\nSat Mar 19 2016,7:00p,Brooklyn Nets,103,Detroit Pistons,115,Box Score,,17559,\\r\\nSat Mar 19 2016,7:00p,Oklahoma City Thunder,115,Indiana Pacers,111,Box Score,,18165,\\r\\nSat Mar 19 2016,7:00p,New York Knicks,89,Washington Wizards,99,Box Score,,20356,\\r\\nSat Mar 19 2016,7:30p,Houston Rockets,97,Atlanta Hawks,109,Box Score,,18067,\\r\\nSat Mar 19 2016,7:30p,Cleveland Cavaliers,101,Miami Heat,122,Box Score,,19737,\\r\\nSat Mar 19 2016,8:00p,Utah Jazz,85,Chicago Bulls,92,Box Score,,21856,\\r\\nSat Mar 19 2016,8:00p,Los Angeles Clippers,102,Memphis Grizzlies,113,Box Score,,18119,\\r\\nSat Mar 19 2016,8:30p,Golden State Warriors,79,San Antonio Spurs,87,Box Score,,18825,\\r\\nSun Mar 20 2016,4:00p,Portland Trail Blazers,120,Dallas Mavericks,132,Box Score,OT,20351,\\r\\nSun Mar 20 2016,4:30p,Orlando Magic,100,Toronto Raptors,105,Box Score,,19800,\\r\\nSun Mar 20 2016,6:00p,Los Angeles Clippers,105,New Orleans Pelicans,109,Box Score,,17407,\\r\\nSun Mar 20 2016,6:00p,Boston Celtics,120,Philadelphia 76ers,105,Box Score,,15103,\\r\\nSun Mar 20 2016,7:00p,Utah Jazz,94,Milwaukee Bucks,85,Box Score,,14124,\\r\\nSun Mar 20 2016,7:30p,Sacramento Kings,88,New York Knicks,80,Box Score,,19812,\\r\\nMon Mar 21 2016,7:00p,San Antonio Spurs,88,Charlotte Hornets,91,Box Score,,18260,\\r\\nMon Mar 21 2016,7:00p,Denver Nuggets,91,Cleveland Cavaliers,124,Box Score,,20562,\\r\\nMon Mar 21 2016,7:00p,Philadelphia 76ers,75,Indiana Pacers,91,Box Score,,16155,\\r\\nMon Mar 21 2016,7:30p,Orlando Magic,96,Boston Celtics,107,Box Score,,18624,\\r\\nMon Mar 21 2016,7:30p,Milwaukee Bucks,91,Detroit Pistons,92,Box Score,,13577,\\r\\nMon Mar 21 2016,8:00p,Washington Wizards,117,Atlanta Hawks,102,Box Score,,15729,\\r\\nMon Mar 21 2016,8:00p,Sacramento Kings,102,Chicago Bulls,109,Box Score,,21531,\\r\\nMon Mar 21 2016,8:00p,Golden State Warriors,109,Minnesota Timberwolves,104,Box Score,,19452,\\r\\nMon Mar 21 2016,10:00p,Memphis Grizzlies,103,Phoenix Suns,97,Box Score,,15868,\\r\\nTue Mar 22 2016,7:30p,Charlotte Hornets,105,Brooklyn Nets,100,Box Score,,15739,\\r\\nTue Mar 22 2016,8:00p,Miami Heat,113,New Orleans Pelicans,99,Box Score,,16867,\\r\\nTue Mar 22 2016,8:00p,Houston Rockets,107,Oklahoma City Thunder,111,Box Score,,18203,\\r\\nTue Mar 22 2016,10:30p,Memphis Grizzlies,100,Los Angeles Lakers,107,Box Score,,18997,\\r\\nWed Mar 23 2016,7:00p,Milwaukee Bucks,104,Cleveland Cavaliers,113,Box Score,,20562,\\r\\nWed Mar 23 2016,7:00p,Atlanta Hawks,122,Washington Wizards,101,Box Score,,18807,\\r\\nWed Mar 23 2016,7:30p,Toronto Raptors,79,Boston Celtics,91,Box Score,,18624,\\r\\nWed Mar 23 2016,7:30p,Orlando Magic,102,Detroit Pistons,118,Box Score,,16609,\\r\\nWed Mar 23 2016,8:00p,New York Knicks,115,Chicago Bulls,107,Box Score,,21788,\\r\\nWed Mar 23 2016,8:00p,Utah Jazz,89,Houston Rockets,87,Box Score,,18151,\\r\\nWed Mar 23 2016,8:00p,Sacramento Kings,104,Minnesota Timberwolves,113,Box Score,,12151,\\r\\nWed Mar 23 2016,8:30p,Miami Heat,88,San Antonio Spurs,112,Box Score,,18418,\\r\\nWed Mar 23 2016,9:00p,Philadelphia 76ers,103,Denver Nuggets,104,Box Score,,10684,\\r\\nWed Mar 23 2016,10:00p,Los Angeles Lakers,107,Phoenix Suns,119,Box Score,,18191,\\r\\nWed Mar 23 2016,10:00p,Dallas Mavericks,103,Portland Trail Blazers,109,Box Score,,19819,\\r\\nWed Mar 23 2016,10:30p,Los Angeles Clippers,98,Golden State Warriors,114,Box Score,,19596,\\r\\nThu Mar 24 2016,7:00p,New Orleans Pelicans,84,Indiana Pacers,92,Box Score,,17517,\\r\\nThu Mar 24 2016,7:30p,Cleveland Cavaliers,95,Brooklyn Nets,104,Box Score,,17732,\\r\\nThu Mar 24 2016,7:30p,Chicago Bulls,94,New York Knicks,106,Box Score,,19812,\\r\\nThu Mar 24 2016,8:00p,Utah Jazz,91,Oklahoma City Thunder,113,Box Score,,18203,\\r\\nThu Mar 24 2016,10:30p,Portland Trail Blazers,94,Los Angeles Clippers,96,Box Score,,19359,\\r\\nFri Mar 25 2016,7:00p,Minnesota Timberwolves,132,Washington Wizards,129,Box Score,2OT,20356,\\r\\nFri Mar 25 2016,7:30p,Charlotte Hornets,105,Detroit Pistons,112,Box Score,,17209,\\r\\nFri Mar 25 2016,8:00p,Milwaukee Bucks,90,Atlanta Hawks,101,Box Score,,17070,\\r\\nFri Mar 25 2016,8:00p,Toronto Raptors,109,Houston Rockets,112,Box Score,,18230,\\r\\nFri Mar 25 2016,8:00p,Orlando Magic,97,Miami Heat,108,Box Score,,19918,\\r\\nFri Mar 25 2016,8:30p,Memphis Grizzlies,104,San Antonio Spurs,110,Box Score,,18418,\\r\\nFri Mar 25 2016,10:00p,Phoenix Suns,94,Sacramento Kings,116,Box Score,,17317,\\r\\nFri Mar 25 2016,10:30p,Dallas Mavericks,120,Golden State Warriors,128,Box Score,,19596,\\r\\nFri Mar 25 2016,10:30p,Denver Nuggets,116,Los Angeles Lakers,105,Box Score,,18997,\\r\\nSat Mar 26 2016,6:00p,Indiana Pacers,110,Brooklyn Nets,120,Box Score,,16625,\\r\\nSat Mar 26 2016,7:00p,Toronto Raptors,115,New Orleans Pelicans,91,Box Score,,17009,\\r\\nSat Mar 26 2016,7:00p,Chicago Bulls,89,Orlando Magic,111,Box Score,,18846,\\r\\nSat Mar 26 2016,7:30p,Atlanta Hawks,112,Detroit Pistons,95,Box Score,,17857,\\r\\nSat Mar 26 2016,7:30p,Cleveland Cavaliers,107,New York Knicks,93,Box Score,,19812,\\r\\nSat Mar 26 2016,8:00p,Utah Jazz,93,Minnesota Timberwolves,84,Box Score,,14694,\\r\\nSat Mar 26 2016,8:00p,San Antonio Spurs,92,Oklahoma City Thunder,111,Box Score,,18203,\\r\\nSat Mar 26 2016,8:30p,Charlotte Hornets,115,Milwaukee Bucks,91,Box Score,,15544,\\r\\nSat Mar 26 2016,10:00p,Boston Celtics,102,Phoenix Suns,99,Box Score,,18055,\\r\\nSat Mar 26 2016,10:00p,Philadelphia 76ers,105,Portland Trail Blazers,108,Box Score,,19506,\\r\\nSun Mar 27 2016,3:30p,Denver Nuggets,90,Los Angeles Clippers,105,Box Score,,19060,\\r\\nSun Mar 27 2016,6:00p,Houston Rockets,101,Indiana Pacers,104,Box Score,,17165,\\r\\nSun Mar 27 2016,6:00p,Dallas Mavericks,111,Sacramento Kings,133,Box Score,,17147,\\r\\nSun Mar 27 2016,8:00p,Philadelphia 76ers,105,Golden State Warriors,117,Box Score,,19596,\\r\\nSun Mar 27 2016,9:30p,Washington Wizards,101,Los Angeles Lakers,88,Box Score,,18997,\\r\\nMon Mar 28 2016,7:30p,Brooklyn Nets,99,Miami Heat,110,Box Score,,20003,\\r\\nMon Mar 28 2016,7:30p,Oklahoma City Thunder,119,Toronto Raptors,100,Box Score,,19800,\\r\\nMon Mar 28 2016,8:00p,Atlanta Hawks,102,Chicago Bulls,100,Box Score,,21761,\\r\\nMon Mar 28 2016,8:00p,San Antonio Spurs,101,Memphis Grizzlies,87,Box Score,,17133,\\r\\nMon Mar 28 2016,8:00p,Phoenix Suns,116,Minnesota Timberwolves,121,Box Score,,11141,\\r\\nMon Mar 28 2016,8:00p,New York Knicks,91,New Orleans Pelicans,99,Box Score,,17000,\\r\\nMon Mar 28 2016,9:00p,Dallas Mavericks,97,Denver Nuggets,88,Box Score,,14844,\\r\\nMon Mar 28 2016,9:00p,Los Angeles Lakers,75,Utah Jazz,123,Box Score,,19911,\\r\\nMon Mar 28 2016,10:00p,Sacramento Kings,93,Portland Trail Blazers,105,Box Score,,19393,\\r\\nMon Mar 28 2016,10:30p,Boston Celtics,90,Los Angeles Clippers,114,Box Score,,19258,\\r\\nTue Mar 29 2016,7:00p,Chicago Bulls,98,Indiana Pacers,96,Box Score,,17050,\\r\\nTue Mar 29 2016,7:00p,Brooklyn Nets,105,Orlando Magic,139,Box Score,,17536,\\r\\nTue Mar 29 2016,7:00p,Charlotte Hornets,100,Philadelphia 76ers,85,Box Score,,14486,\\r\\nTue Mar 29 2016,7:30p,Oklahoma City Thunder,82,Detroit Pistons,88,Box Score,,18201,\\r\\nTue Mar 29 2016,8:00p,Houston Rockets,106,Cleveland Cavaliers,100,Box Score,,20562,\\r\\nTue Mar 29 2016,10:30p,Washington Wizards,94,Golden State Warriors,102,Box Score,,19596,\\r\\nWed Mar 30 2016,7:30p,Atlanta Hawks,97,Toronto Raptors,105,Box Score,,19800,\\r\\nWed Mar 30 2016,8:00p,Denver Nuggets,109,Memphis Grizzlies,105,Box Score,,16401,\\r\\nWed Mar 30 2016,8:00p,Phoenix Suns,94,Milwaukee Bucks,105,Box Score,,15733,\\r\\nWed Mar 30 2016,8:00p,Los Angeles Clippers,99,Minnesota Timberwolves,79,Box Score,,12252,\\r\\nWed Mar 30 2016,8:30p,New York Knicks,89,Dallas Mavericks,91,Box Score,,20435,\\r\\nWed Mar 30 2016,8:30p,New Orleans Pelicans,92,San Antonio Spurs,100,Box Score,,18418,\\r\\nWed Mar 30 2016,9:00p,Golden State Warriors,103,Utah Jazz,96,Box Score,OT,19911,\\r\\nWed Mar 30 2016,10:00p,Washington Wizards,111,Sacramento Kings,120,Box Score,,17185,\\r\\nWed Mar 30 2016,10:30p,Miami Heat,100,Los Angeles Lakers,102,Box Score,OT,18997,\\r\\nThu Mar 31 2016,7:00p,Brooklyn Nets,87,Cleveland Cavaliers,107,Box Score,,20562,\\r\\nThu Mar 31 2016,7:00p,Chicago Bulls,103,Houston Rockets,100,Box Score,,18244,\\r\\nThu Mar 31 2016,7:00p,Orlando Magic,114,Indiana Pacers,94,Box Score,,17234,\\r\\nThu Mar 31 2016,8:00p,Denver Nuggets,95,New Orleans Pelicans,101,Box Score,,16269,\\r\\nThu Mar 31 2016,9:30p,Los Angeles Clippers,117,Oklahoma City Thunder,119,Box Score,,18203,\\r\\nThu Mar 31 2016,10:00p,Boston Celtics,109,Portland Trail Blazers,116,Box Score,,19393,\\r\\nFri Apr 1 2016,7:00p,Philadelphia 76ers,91,Charlotte Hornets,100,Box Score,,19244,\\r\\nFri Apr 1 2016,7:30p,Dallas Mavericks,98,Detroit Pistons,89,Box Score,,19031,\\r\\nFri Apr 1 2016,7:30p,Brooklyn Nets,91,New York Knicks,105,Box Score,,19812,\\r\\nFri Apr 1 2016,8:00p,Cleveland Cavaliers,110,Atlanta Hawks,108,Box Score,OT,19427,\\r\\nFri Apr 1 2016,8:00p,Toronto Raptors,99,Memphis Grizzlies,95,Box Score,,17077,\\r\\nFri Apr 1 2016,8:00p,Orlando Magic,110,Milwaukee Bucks,113,Box Score,,16268,\\r\\nFri Apr 1 2016,9:00p,Minnesota Timberwolves,85,Utah Jazz,98,Box Score,,19911,\\r\\nFri Apr 1 2016,10:00p,Miami Heat,112,Sacramento Kings,106,Box Score,,17317,\\r\\nFri Apr 1 2016,10:30p,Boston Celtics,109,Golden State Warriors,106,Box Score,,19596,\\r\\nFri Apr 1 2016,10:30p,Washington Wizards,106,Phoenix Suns,99,Box Score,,17345,\\r\\nSat Apr 2 2016,7:30p,Indiana Pacers,115,Philadelphia 76ers,102,Box Score,,19213,\\r\\nSat Apr 2 2016,8:00p,Detroit Pistons,94,Chicago Bulls,90,Box Score,,22197,\\r\\nSat Apr 2 2016,8:30p,Toronto Raptors,95,San Antonio Spurs,102,Box Score,,18418,\\r\\nSat Apr 2 2016,9:00p,Sacramento Kings,115,Denver Nuggets,106,Box Score,,15607,\\r\\nSat Apr 2 2016,10:00p,Miami Heat,93,Portland Trail Blazers,110,Box Score,,19633,\\r\\nSun Apr 3 2016,1:00p,New Orleans Pelicans,106,Brooklyn Nets,87,Box Score,,16329,\\r\\nSun Apr 3 2016,3:30p,Charlotte Hornets,103,Cleveland Cavaliers,112,Box Score,,20562,\\r\\nSun Apr 3 2016,3:30p,Oklahoma City Thunder,110,Houston Rockets,118,Box Score,,18462,\\r\\nSun Apr 3 2016,3:30p,Washington Wizards,109,Los Angeles Clippers,114,Box Score,,19060,\\r\\nSun Apr 3 2016,3:30p,Dallas Mavericks,88,Minnesota Timberwolves,78,Box Score,,16117,\\r\\nSun Apr 3 2016,6:00p,Memphis Grizzlies,107,Orlando Magic,119,Box Score,,17741,\\r\\nSun Apr 3 2016,6:00p,Utah Jazz,101,Phoenix Suns,86,Box Score,,17279,\\r\\nSun Apr 3 2016,7:00p,Chicago Bulls,102,Milwaukee Bucks,98,Box Score,,15768,\\r\\nSun Apr 3 2016,7:30p,Indiana Pacers,92,New York Knicks,87,Box Score,,19812,\\r\\nSun Apr 3 2016,8:00p,Portland Trail Blazers,111,Golden State Warriors,136,Box Score,,19596,\\r\\nSun Apr 3 2016,9:30p,Boston Celtics,107,Los Angeles Lakers,100,Box Score,,18997,\\r\\nTue Apr 5 2016,7:00p,New Orleans Pelicans,93,Philadelphia 76ers,107,Box Score,,10978,\\r\\nTue Apr 5 2016,7:30p,Charlotte Hornets,90,Toronto Raptors,96,Box Score,,19800,\\r\\nTue Apr 5 2016,8:00p,Phoenix Suns,90,Atlanta Hawks,103,Box Score,,15176,\\r\\nTue Apr 5 2016,8:00p,Chicago Bulls,92,Memphis Grizzlies,108,Box Score,,17591,\\r\\nTue Apr 5 2016,8:00p,Detroit Pistons,89,Miami Heat,107,Box Score,,19621,\\r\\nTue Apr 5 2016,8:00p,Cleveland Cavaliers,109,Milwaukee Bucks,80,Box Score,,15061,\\r\\nTue Apr 5 2016,9:00p,Oklahoma City Thunder,124,Denver Nuggets,102,Box Score,,12611,\\r\\nTue Apr 5 2016,9:00p,San Antonio Spurs,88,Utah Jazz,86,Box Score,,19381,\\r\\nTue Apr 5 2016,10:00p,Portland Trail Blazers,115,Sacramento Kings,107,Box Score,,17317,\\r\\nTue Apr 5 2016,10:30p,Minnesota Timberwolves,124,Golden State Warriors,117,Box Score,OT,19596,\\r\\nTue Apr 5 2016,10:30p,Los Angeles Lakers,81,Los Angeles Clippers,103,Box Score,,19537,\\r\\nWed Apr 6 2016,7:00p,Cleveland Cavaliers,109,Indiana Pacers,123,Box Score,,18165,\\r\\nWed Apr 6 2016,7:00p,Detroit Pistons,108,Orlando Magic,104,Box Score,,16553,\\r\\nWed Apr 6 2016,7:00p,Brooklyn Nets,103,Washington Wizards,121,Box Score,,16846,\\r\\nWed Apr 6 2016,7:30p,New Orleans Pelicans,97,Boston Celtics,104,Box Score,,18624,\\r\\nWed Apr 6 2016,7:30p,Charlotte Hornets,111,New York Knicks,97,Box Score,,19812,\\r\\nWed Apr 6 2016,9:30p,Houston Rockets,86,Dallas Mavericks,88,Box Score,,20108,\\r\\nWed Apr 6 2016,10:00p,Oklahoma City Thunder,115,Portland Trail Blazers,120,Box Score,,19393,\\r\\nWed Apr 6 2016,10:30p,Los Angeles Clippers,91,Los Angeles Lakers,81,Box Score,,18997,\\r\\nThu Apr 7 2016,8:00p,Toronto Raptors,87,Atlanta Hawks,95,Box Score,,17864,\\r\\nThu Apr 7 2016,8:00p,Phoenix Suns,124,Houston Rockets,115,Box Score,,18227,\\r\\nThu Apr 7 2016,8:00p,Chicago Bulls,98,Miami Heat,106,Box Score,,19771,\\r\\nThu Apr 7 2016,10:00p,Minnesota Timberwolves,105,Sacramento Kings,97,Box Score,,17317,\\r\\nThu Apr 7 2016,10:30p,San Antonio Spurs,101,Golden State Warriors,112,Box Score,,19596,\\r\\nFri Apr 8 2016,7:00p,Brooklyn Nets,99,Charlotte Hornets,113,Box Score,,18337,\\r\\nFri Apr 8 2016,7:00p,Miami Heat,109,Orlando Magic,112,Box Score,,18152,\\r\\nFri Apr 8 2016,7:00p,New York Knicks,109,Philadelphia 76ers,102,Box Score,,16076,\\r\\nFri Apr 8 2016,7:30p,Milwaukee Bucks,109,Boston Celtics,124,Box Score,,18624,\\r\\nFri Apr 8 2016,7:30p,Washington Wizards,99,Detroit Pistons,112,Box Score,,18207,\\r\\nFri Apr 8 2016,7:30p,Indiana Pacers,98,Toronto Raptors,111,Box Score,,19800,\\r\\nFri Apr 8 2016,8:00p,Los Angeles Lakers,102,New Orleans Pelicans,110,Box Score,,18607,\\r\\nFri Apr 8 2016,8:30p,Memphis Grizzlies,93,Dallas Mavericks,103,Box Score,,20211,\\r\\nFri Apr 8 2016,9:00p,San Antonio Spurs,98,Denver Nuggets,102,Box Score,,16347,\\r\\nFri Apr 8 2016,9:00p,Los Angeles Clippers,102,Utah Jazz,99,Box Score,OT,19911,\\r\\nSat Apr 9 2016,7:00p,Phoenix Suns,121,New Orleans Pelicans,100,Box Score,,16932,\\r\\nSat Apr 9 2016,7:30p,Boston Celtics,107,Atlanta Hawks,118,Box Score,,19257,\\r\\nSat Apr 9 2016,8:00p,Golden State Warriors,100,Memphis Grizzlies,99,Box Score,,18119,\\r\\nSat Apr 9 2016,8:30p,Cleveland Cavaliers,102,Chicago Bulls,105,Box Score,,22186,\\r\\nSat Apr 9 2016,10:30p,Minnesota Timberwolves,106,Portland Trail Blazers,105,Box Score,,19733,\\r\\nSat Apr 9 2016,10:30p,Oklahoma City Thunder,112,Sacramento Kings,114,Box Score,,17317,\\r\\nSun Apr 10 2016,12:00p,Charlotte Hornets,98,Washington Wizards,113,Box Score,,19187,\\r\\nSun Apr 10 2016,3:30p,Los Angeles Lakers,110,Houston Rockets,130,Box Score,,18442,\\r\\nSun Apr 10 2016,3:30p,Dallas Mavericks,91,Los Angeles Clippers,98,Box Score,,19170,\\r\\nSun Apr 10 2016,5:00p,Utah Jazz,100,Denver Nuggets,84,Box Score,,16172,\\r\\nSun Apr 10 2016,5:00p,Milwaukee Bucks,109,Philadelphia 76ers,108,Box Score,OT,16267,\\r\\nSun Apr 10 2016,6:00p,Brooklyn Nets,105,Indiana Pacers,129,Box Score,,18165,\\r\\nSun Apr 10 2016,6:00p,Orlando Magic,96,Miami Heat,118,Box Score,,19913,\\r\\nSun Apr 10 2016,7:00p,Golden State Warriors,92,San Antonio Spurs,86,Box Score,,18658,\\r\\nSun Apr 10 2016,7:30p,Toronto Raptors,93,New York Knicks,89,Box Score,,19812,\\r\\nMon Apr 11 2016,7:00p,Atlanta Hawks,94,Cleveland Cavaliers,109,Box Score,,20562,\\r\\nMon Apr 11 2016,7:00p,Milwaukee Bucks,98,Orlando Magic,107,Box Score,,18374,\\r\\nMon Apr 11 2016,7:30p,Charlotte Hornets,114,Boston Celtics,100,Box Score,,18624,\\r\\nMon Apr 11 2016,7:30p,Washington Wizards,120,Brooklyn Nets,111,Box Score,,14653,\\r\\nMon Apr 11 2016,8:00p,Houston Rockets,129,Minnesota Timberwolves,105,Box Score,,14983,\\r\\nMon Apr 11 2016,8:00p,Chicago Bulls,121,New Orleans Pelicans,116,Box Score,,16867,\\r\\nMon Apr 11 2016,8:00p,Los Angeles Lakers,79,Oklahoma City Thunder,112,Box Score,,18203,\\r\\nMon Apr 11 2016,9:00p,Dallas Mavericks,101,Utah Jazz,92,Box Score,,19911,\\r\\nMon Apr 11 2016,10:00p,Sacramento Kings,105,Phoenix Suns,101,Box Score,,17288,\\r\\nTue Apr 12 2016,7:00p,New York Knicks,90,Indiana Pacers,102,Box Score,,17906,\\r\\nTue Apr 12 2016,7:30p,Miami Heat,99,Detroit Pistons,93,Box Score,,18575,\\r\\nTue Apr 12 2016,7:30p,Philadelphia 76ers,98,Toronto Raptors,122,Box Score,,19800,\\r\\nTue Apr 12 2016,8:00p,Oklahoma City Thunder,98,San Antonio Spurs,102,Box Score,OT,18765,\\r\\nTue Apr 12 2016,10:30p,Memphis Grizzlies,84,Los Angeles Clippers,110,Box Score,,19147,\\r\\nWed Apr 13 2016,8:00p,Miami Heat,88,Boston Celtics,98,Box Score,,18624,\\r\\nWed Apr 13 2016,8:00p,Toronto Raptors,103,Brooklyn Nets,96,Box Score,,16517,\\r\\nWed Apr 13 2016,8:00p,Philadelphia 76ers,105,Chicago Bulls,115,Box Score,,21777,\\r\\nWed Apr 13 2016,8:00p,Orlando Magic,103,Charlotte Hornets,117,Box Score,,17372,\\r\\nWed Apr 13 2016,8:00p,Detroit Pistons,112,Cleveland Cavaliers,110,Box Score,OT,20562,\\r\\nWed Apr 13 2016,8:00p,San Antonio Spurs,96,Dallas Mavericks,91,Box Score,,20346,\\r\\nWed Apr 13 2016,8:00p,Sacramento Kings,81,Houston Rockets,116,Box Score,,18311,\\r\\nWed Apr 13 2016,8:00p,Indiana Pacers,97,Milwaukee Bucks,92,Box Score,,16569,\\r\\nWed Apr 13 2016,8:00p,New Orleans Pelicans,109,Minnesota Timberwolves,144,Box Score,,14889,\\r\\nWed Apr 13 2016,8:00p,Atlanta Hawks,98,Washington Wizards,109,Box Score,,17399,\\r\\nWed Apr 13 2016,10:30p,Memphis Grizzlies,104,Golden State Warriors,125,Box Score,,19596,\\r\\nWed Apr 13 2016,10:30p,Utah Jazz,96,Los Angeles Lakers,101,Box Score,,18997,\\r\\nWed Apr 13 2016,10:30p,Los Angeles Clippers,105,Phoenix Suns,114,Box Score,,18055,\\r\\nWed Apr 13 2016,10:30p,Denver Nuggets,99,Portland Trail Blazers,107,Box Score,,19571,\\r\\nSat Apr 16 2016,12:30p,Indiana Pacers,100,Toronto Raptors,90,Box Score,,19800,\\r\\nSat Apr 16 2016,3:30p,Houston Rockets,78,Golden State Warriors,104,Box Score,,19596,\\r\\nSat Apr 16 2016,7:00p,Boston Celtics,101,Atlanta Hawks,102,Box Score,,18980,\\r\\nSat Apr 16 2016,9:30p,Dallas Mavericks,70,Oklahoma City Thunder,108,Box Score,,18203,\\r\\nSun Apr 17 2016,3:00p,Detroit Pistons,101,Cleveland Cavaliers,106,Box Score,,20562,\\r\\nSun Apr 17 2016,5:30p,Charlotte Hornets,91,Miami Heat,123,Box Score,,19600,\\r\\nSun Apr 17 2016,8:00p,Memphis Grizzlies,74,San Antonio Spurs,106,Box Score,,18418,\\r\\nSun Apr 17 2016,10:30p,Portland Trail Blazers,95,Los Angeles Clippers,115,Box Score,,19122,\\r\\nMon Apr 18 2016,7:00p,Indiana Pacers,87,Toronto Raptors,98,Box Score,,19800,\\r\\nMon Apr 18 2016,8:00p,Dallas Mavericks,85,Oklahoma City Thunder,84,Box Score,,18203,\\r\\nMon Apr 18 2016,10:30p,Houston Rockets,106,Golden State Warriors,115,Box Score,,19596,\\r\\nTue Apr 19 2016,7:00p,Boston Celtics,72,Atlanta Hawks,89,Box Score,,18972,\\r\\nTue Apr 19 2016,9:30p,Memphis Grizzlies,68,San Antonio Spurs,94,Box Score,,18418,\\r\\nWed Apr 20 2016,7:00p,Charlotte Hornets,103,Miami Heat,115,Box Score,,19650,\\r\\nWed Apr 20 2016,8:00p,Detroit Pistons,90,Cleveland Cavaliers,107,Box Score,,20562,\\r\\nWed Apr 20 2016,10:30p,Portland Trail Blazers,81,Los Angeles Clippers,102,Box Score,,19127,\\r\\nThu Apr 21 2016,7:00p,Oklahoma City Thunder,131,Dallas Mavericks,102,Box Score,,20150,\\r\\nThu Apr 21 2016,7:30p,Toronto Raptors,101,Indiana Pacers,85,Box Score,,18165,\\r\\nThu Apr 21 2016,9:30p,Golden State Warriors,96,Houston Rockets,97,Box Score,,18200,\\r\\nFri Apr 22 2016,7:00p,Cleveland Cavaliers,101,Detroit Pistons,91,Box Score,,21584,\\r\\nFri Apr 22 2016,8:00p,Atlanta Hawks,103,Boston Celtics,111,Box Score,,18624,\\r\\nFri Apr 22 2016,9:30p,San Antonio Spurs,96,Memphis Grizzlies,87,Box Score,,18119,\\r\\nSat Apr 23 2016,3:00p,Toronto Raptors,83,Indiana Pacers,100,Box Score,,18165,\\r\\nSat Apr 23 2016,5:30p,Miami Heat,80,Charlotte Hornets,96,Box Score,,19604,\\r\\nSat Apr 23 2016,8:00p,Oklahoma City Thunder,119,Dallas Mavericks,108,Box Score,,20516,\\r\\nSat Apr 23 2016,10:30p,Los Angeles Clippers,88,Portland Trail Blazers,96,Box Score,,19761,\\r\\nSun Apr 24 2016,1:00p,San Antonio Spurs,116,Memphis Grizzlies,95,Box Score,,18119,\\r\\nSun Apr 24 2016,3:30p,Golden State Warriors,121,Houston Rockets,94,Box Score,,18200,\\r\\nSun Apr 24 2016,6:00p,Atlanta Hawks,95,Boston Celtics,104,Box Score,OT,18624,\\r\\nSun Apr 24 2016,8:30p,Cleveland Cavaliers,100,Detroit Pistons,98,Box Score,,21584,\\r\\nMon Apr 25 2016,7:00p,Miami Heat,85,Charlotte Hornets,89,Box Score,,19156,\\r\\nMon Apr 25 2016,8:00p,Dallas Mavericks,104,Oklahoma City Thunder,118,Box Score,,18203,\\r\\nMon Apr 25 2016,10:30p,Los Angeles Clippers,84,Portland Trail Blazers,98,Box Score,,19607,\\r\\nTue Apr 26 2016,6:00p,Indiana Pacers,99,Toronto Raptors,102,Box Score,,19800,\\r\\nTue Apr 26 2016,8:30p,Boston Celtics,83,Atlanta Hawks,110,Box Score,,18987,\\r\\nWed Apr 27 2016,8:00p,Charlotte Hornets,90,Miami Heat,88,Box Score,,19685,\\r\\nWed Apr 27 2016,10:00p,Portland Trail Blazers,108,Los Angeles Clippers,98,Box Score,,19060,\\r\\nWed Apr 27 2016,10:30p,Houston Rockets,81,Golden State Warriors,114,Box Score,,19596,\\r\\nThu Apr 28 2016,8:00p,Atlanta Hawks,104,Boston Celtics,92,Box Score,,18624,\\r\\nFri Apr 29 2016,7:30p,Toronto Raptors,83,Indiana Pacers,101,Box Score,,18165,\\r\\nFri Apr 29 2016,8:00p,Miami Heat,97,Charlotte Hornets,90,Box Score,,19636,\\r\\nFri Apr 29 2016,10:30p,Los Angeles Clippers,103,Portland Trail Blazers,106,Box Score,,19768,\\r\\nSat Apr 30 2016,8:30p,Oklahoma City Thunder,92,San Antonio Spurs,124,Box Score,,18418,\\r\\nSun May 1 2016,1:00p,Charlotte Hornets,73,Miami Heat,106,Box Score,,19868,\\r\\nSun May 1 2016,3:30p,Portland Trail Blazers,106,Golden State Warriors,118,Box Score,,19596,\\r\\nSun May 1 2016,8:00p,Indiana Pacers,84,Toronto Raptors,89,Box Score,,20669,\\r\\nMon May 2 2016,7:00p,Atlanta Hawks,93,Cleveland Cavaliers,104,Box Score,,20562,\\r\\nMon May 2 2016,9:30p,Oklahoma City Thunder,98,San Antonio Spurs,97,Box Score,,18418,\\r\\nTue May 3 2016,8:00p,Miami Heat,102,Toronto Raptors,96,Box Score,OT,19800,\\r\\nTue May 3 2016,10:30p,Portland Trail Blazers,99,Golden State Warriors,110,Box Score,,19596,\\r\\nWed May 4 2016,8:00p,Atlanta Hawks,98,Cleveland Cavaliers,123,Box Score,,20562,\\r\\nThu May 5 2016,8:00p,Miami Heat,92,Toronto Raptors,96,Box Score,OT,20906,\\r\\nFri May 6 2016,7:00p,Cleveland Cavaliers,121,Atlanta Hawks,108,Box Score,,19089,\\r\\nFri May 6 2016,9:30p,San Antonio Spurs,100,Oklahoma City Thunder,96,Box Score,,18203,\\r\\nSat May 7 2016,5:00p,Toronto Raptors,95,Miami Heat,91,Box Score,,19675,\\r\\nSat May 7 2016,8:30p,Golden State Warriors,108,Portland Trail Blazers,120,Box Score,,19673,\\r\\nSun May 8 2016,3:30p,Cleveland Cavaliers,100,Atlanta Hawks,99,Box Score,,19031,\\r\\nSun May 8 2016,8:00p,San Antonio Spurs,97,Oklahoma City Thunder,111,Box Score,,18203,\\r\\nMon May 9 2016,8:00p,Toronto Raptors,87,Miami Heat,94,Box Score,OT,19600,\\r\\nMon May 9 2016,10:30p,Golden State Warriors,132,Portland Trail Blazers,125,Box Score,OT,19583,\\r\\nTue May 10 2016,8:00p,Oklahoma City Thunder,95,San Antonio Spurs,91,Box Score,,18418,\\r\\nWed May 11 2016,8:00p,Miami Heat,91,Toronto Raptors,99,Box Score,,20155,\\r\\nWed May 11 2016,10:30p,Portland Trail Blazers,121,Golden State Warriors,125,Box Score,,19596,\\r\\nThu May 12 2016,8:30p,San Antonio Spurs,99,Oklahoma City Thunder,113,Box Score,,18203,\\r\\nFri May 13 2016,8:00p,Toronto Raptors,91,Miami Heat,103,Box Score,,19757,\\r\\nSun May 15 2016,3:30p,Miami Heat,89,Toronto Raptors,116,Box Score,,20257,\\r\\nMon May 16 2016,9:00p,Oklahoma City Thunder,108,Golden State Warriors,102,Box Score,,19596,\\r\\nTue May 17 2016,8:30p,Toronto Raptors,84,Cleveland Cavaliers,115,Box Score,,20562,\\r\\nWed May 18 2016,9:00p,Oklahoma City Thunder,91,Golden State Warriors,118,Box Score,,19596,\\r\\nThu May 19 2016,8:30p,Toronto Raptors,89,Cleveland Cavaliers,108,Box Score,,20562,\\r\\nSat May 21 2016,8:30p,Cleveland Cavaliers,84,Toronto Raptors,99,Box Score,,20207,\\r\\nSun May 22 2016,8:00p,Golden State Warriors,105,Oklahoma City Thunder,133,Box Score,,18203,\\r\\nMon May 23 2016,8:30p,Cleveland Cavaliers,99,Toronto Raptors,105,Box Score,,20367,\\r\\nTue May 24 2016,9:00p,Golden State Warriors,94,Oklahoma City Thunder,118,Box Score,,18203,\\r\\nWed May 25 2016,8:30p,Toronto Raptors,78,Cleveland Cavaliers,116,Box Score,,20562,\\r\\nThu May 26 2016,9:00p,Oklahoma City Thunder,111,Golden State Warriors,120,Box Score,,19596,\\r\\nFri May 27 2016,8:30p,Cleveland Cavaliers,113,Toronto Raptors,87,Box Score,,20605,\\r\\nSat May 28 2016,9:00p,Golden State Warriors,108,Oklahoma City Thunder,101,Box Score,,18203,\\r\\nMon May 30 2016,9:00p,Oklahoma City Thunder,88,Golden State Warriors,96,Box Score,,19596,\\r\\nThu Jun 2 2016,9:00p,Cleveland Cavaliers,89,Golden State Warriors,104,Box Score,,19596,\\r\\nSun Jun 5 2016,8:00p,Cleveland Cavaliers,77,Golden State Warriors,110,Box Score,,19596,\\r\\nWed Jun 8 2016,9:00p,Golden State Warriors,90,Cleveland Cavaliers,120,Box Score,,20562,\\r\\nFri Jun 10 2016,9:00p,Golden State Warriors,108,Cleveland Cavaliers,97,Box Score,,20562,\\r\\nMon Jun 13 2016,9:00p,Cleveland Cavaliers,112,Golden State Warriors,97,Box Score,,19596,\\r\\nThu Jun 16 2016,9:00p,Golden State Warriors,101,Cleveland Cavaliers,115,Box Score,,20562,\\r\\nSun Jun 19 2016,8:00p,Cleveland Cavaliers,93,Golden State Warriors,89,Box Score,,19596,\\r\\n'}"
            ]
          },
          "metadata": {},
          "execution_count": 3
        }
      ]
    },
    {
      "cell_type": "markdown",
      "source": [
        "```\n",
        "df = pd.read_csv('nba-2016.csv')\n",
        "df.head()\n",
        "```"
      ],
      "metadata": {
        "id": "nqdqzEkojyBp"
      }
    },
    {
      "cell_type": "code",
      "source": [],
      "metadata": {
        "id": "1m1iz_qIpUf7"
      },
      "execution_count": null,
      "outputs": []
    },
    {
      "cell_type": "markdown",
      "metadata": {
        "id": "XS1N7iHgOQSl"
      },
      "source": [
        "## Parse date when loading and clean the column names"
      ]
    },
    {
      "cell_type": "markdown",
      "source": [
        "```\n",
        "df = pd.read_csv('nba-2016.csv', parse_dates=[\"Date\"])\n",
        "df.columns = [\"Date\", \"Start (ET)\", \"Visitor Team\", \"VisitorPts\", \\\n",
        "\"Home Team\", \"HomePts\", \"OT?\", \"Score Type\", \"Attend.\", \"Notes\"]\n",
        "df.head()\n",
        "```"
      ],
      "metadata": {
        "id": "YNiezw_mj85d"
      }
    },
    {
      "cell_type": "code",
      "source": [],
      "metadata": {
        "id": "gRdM-EFjpVqm"
      },
      "execution_count": null,
      "outputs": []
    },
    {
      "cell_type": "markdown",
      "metadata": {
        "id": "bFfwirtiPe5M"
      },
      "source": [
        "## Add a target column\n",
        "\n",
        "```\n",
        "df[\"HomeWin\"] = df[\"VisitorPts\"] < df[\"HomePts\"]\n",
        "```"
      ]
    },
    {
      "cell_type": "code",
      "source": [],
      "metadata": {
        "id": "amPciOPEpW5f"
      },
      "execution_count": null,
      "outputs": []
    },
    {
      "cell_type": "markdown",
      "metadata": {
        "id": "xYJ2oPADP1v0"
      },
      "source": [
        "## Extract the target values\n",
        "\n",
        "```\n",
        "y_homewin = df[\"HomeWin\"].values\n",
        "y_homewin\n",
        "```"
      ]
    },
    {
      "cell_type": "code",
      "source": [],
      "metadata": {
        "id": "Lth2oBjEpYYB"
      },
      "execution_count": null,
      "outputs": []
    },
    {
      "cell_type": "markdown",
      "metadata": {
        "id": "qg5Lkz5FQCeD"
      },
      "source": [
        "## What is the home team advantage in this data set?\n",
        "```\n",
        "df.Homewin.mean()\n",
        "```"
      ]
    },
    {
      "cell_type": "code",
      "source": [],
      "metadata": {
        "id": "y4A4HR9Epe5x"
      },
      "execution_count": null,
      "outputs": []
    },
    {
      "cell_type": "markdown",
      "metadata": {
        "id": "CqcM5ef_kwfB"
      },
      "source": [
        "## Predict using team names\n",
        "```\n",
        "df['Home Team'].nunique()\n",
        "```"
      ]
    },
    {
      "cell_type": "code",
      "source": [],
      "metadata": {
        "id": "Njs5v_MipoXP"
      },
      "execution_count": null,
      "outputs": []
    },
    {
      "cell_type": "markdown",
      "source": [
        "Encode the team names into one-hot vectors:\n",
        "```\n",
        "from sklearn.preprocessing import OneHotEncoder\n",
        "\n",
        "onehot = OneHotEncoder()\n",
        "onehot.fit(df[[\"Home Team\"]])\n",
        "```"
      ],
      "metadata": {
        "id": "-fHjvO4Wpq9n"
      }
    },
    {
      "cell_type": "code",
      "source": [],
      "metadata": {
        "id": "2-Om2si7qDvi"
      },
      "execution_count": null,
      "outputs": []
    },
    {
      "cell_type": "markdown",
      "source": [
        "List the unique categories corresponding to the one hot values:\n",
        "\n",
        "```\n",
        "onehot.categories_\n",
        "```"
      ],
      "metadata": {
        "id": "uQp8SqL8p-Ir"
      }
    },
    {
      "cell_type": "code",
      "source": [],
      "metadata": {
        "id": "xdhGQIc9qBzE"
      },
      "execution_count": null,
      "outputs": []
    },
    {
      "cell_type": "markdown",
      "source": [
        "Transform the team names into one-hot values:\n",
        "```\n",
        "X = onehot.transform(df[[\"Home Team\"]]).toarray()\n",
        "```"
      ],
      "metadata": {
        "id": "6Z_HKFp9qHLV"
      }
    },
    {
      "cell_type": "code",
      "source": [],
      "metadata": {
        "id": "wFTZinW_qPoO"
      },
      "execution_count": null,
      "outputs": []
    },
    {
      "cell_type": "markdown",
      "source": [
        "Fit a decision tree on the team names:\n",
        "```\n",
        "from sklearn.tree import DecisionTreeClassifier\n",
        "dt_nba = DecisionTreeClassifier()\n",
        "\n",
        "dt_nba.fit(X, y_homewin)\n",
        "```"
      ],
      "metadata": {
        "id": "efXxoPLAqR6V"
      }
    },
    {
      "cell_type": "code",
      "source": [],
      "metadata": {
        "id": "5VLuLLydqt-8"
      },
      "execution_count": null,
      "outputs": []
    },
    {
      "cell_type": "markdown",
      "source": [
        "Print out the tree as text format:\n",
        "```\n",
        "from sklearn.tree import export_text\n",
        "\n",
        "print(export_text(dt_nba, feature_names=onehot.categories_[0]))\n",
        "```"
      ],
      "metadata": {
        "id": "MMvNKlEFqg_r"
      }
    },
    {
      "cell_type": "code",
      "source": [],
      "metadata": {
        "id": "VcXKJN1xqshv"
      },
      "execution_count": null,
      "outputs": []
    },
    {
      "cell_type": "markdown",
      "metadata": {
        "id": "7HYELi0tKd8k"
      },
      "source": [
        "## Visualize the Decision Tree\n",
        "\n",
        "\n",
        "```\n",
        "!pip install -q dtreeviz\n",
        "\n",
        "import dtreeviz\n",
        "\n",
        "viz = dtreeviz.model(dt_nba,\n",
        "               X,\n",
        "               y_homewin,\n",
        "               target_name='HomeWin',\n",
        "               feature_names=onehot.categories_[0],\n",
        "               class_names=[\"No\", \"Yes\"]\n",
        "               )\n",
        "\n",
        "viz.view(scale=1.5)\n",
        "\n",
        "```"
      ]
    },
    {
      "cell_type": "code",
      "source": [],
      "metadata": {
        "id": "3PwRtyuurHDI"
      },
      "execution_count": null,
      "outputs": []
    },
    {
      "cell_type": "code",
      "source": [],
      "metadata": {
        "id": "fYpBTWhwrG5Q"
      },
      "execution_count": null,
      "outputs": []
    },
    {
      "cell_type": "markdown",
      "metadata": {
        "id": "hpC0j6cVEF0L"
      },
      "source": [
        "## Evaluation\n",
        "Evaluation should be done on a separate test data. Scikit Learn provides a convenient method for splitting arrays or matrices into random train and test subsets.\n",
        "\n",
        "```\n",
        "from sklearn.model_selection import train_test_split\n",
        "\n",
        "# Split the given data set into train and test subsets\n",
        "X_train, X_test, y_train, y_test = train_test_split(X, y_homewin, test_size=0.2, random_state=42)\n",
        "\n",
        "```"
      ]
    },
    {
      "cell_type": "code",
      "source": [],
      "metadata": {
        "id": "esn8IWOOrc75"
      },
      "execution_count": null,
      "outputs": []
    },
    {
      "cell_type": "markdown",
      "source": [
        "List the shapes of training and test data sets\n",
        "```\n",
        "X_train.shape, X_test.shape, y_train.shape, y_test.shape\n",
        "```"
      ],
      "metadata": {
        "id": "gTY6e_3RrdyF"
      }
    },
    {
      "cell_type": "code",
      "source": [],
      "metadata": {
        "id": "HQGNSwYBrmHg"
      },
      "execution_count": null,
      "outputs": []
    },
    {
      "cell_type": "markdown",
      "source": [
        "Train a decision tree on training data:\n",
        "```\n",
        "dt_nba = DecisionTreeClassifier()\n",
        "dt_nba.fit(X_train, y_train)\n",
        "```"
      ],
      "metadata": {
        "id": "d764-uZurmaA"
      }
    },
    {
      "cell_type": "code",
      "source": [],
      "metadata": {
        "id": "oO78WbU7rrR-"
      },
      "execution_count": null,
      "outputs": []
    },
    {
      "cell_type": "markdown",
      "source": [
        "Predict homewin labels on test data:\n",
        "```\n",
        "y_pred = dt_nba.predict(X_test)\n",
        "```"
      ],
      "metadata": {
        "id": "MLBBQTrrrzsy"
      }
    },
    {
      "cell_type": "code",
      "source": [],
      "metadata": {
        "id": "fuiM72JQr-DQ"
      },
      "execution_count": null,
      "outputs": []
    },
    {
      "cell_type": "markdown",
      "source": [
        "Evaluate the performance of the decision tree using team names:\n",
        "```\n",
        "from sklearn.metrics import accuracy_score\n",
        "\n",
        "accuracy_score(y_test, y_pred)\n",
        "```"
      ],
      "metadata": {
        "id": "YAcL5ulVr9wg"
      }
    },
    {
      "cell_type": "code",
      "source": [],
      "metadata": {
        "id": "mTrKWlZYsGsJ"
      },
      "execution_count": null,
      "outputs": []
    },
    {
      "cell_type": "markdown",
      "metadata": {
        "id": "5pnt0mXZmss2"
      },
      "source": [
        "## Cross Validation\n",
        "A primary method to evaluate and select machine learning models on a limited data set. The K-Fold cross validation goes like:\n",
        "- Shuffle the dataset randomly.\n",
        "- Split the dataset into k groups\n",
        "- For each unique group:\n",
        " - Take the group as a hold out or test data set\n",
        " - Take the remaining groups as a training data set\n",
        " - Fit a model on the training set and evaluate it on the test set\n",
        "- Obtain the final score of the model using the scores on individual folds."
      ]
    },
    {
      "cell_type": "markdown",
      "metadata": {
        "id": "fX9pDexZOuSb"
      },
      "source": [
        "### Use the cross_val_score implemented in Scikit Learn\n",
        "\n",
        "```\n",
        "from sklearn.model_selection import cross_val_score\n",
        "\n",
        "dt_nba = DecisionTreeClassifier()\n",
        "\n",
        "scores= cross_val_score(dt_nba, X, y_homewin, cv=10, scoring='accuracy')\n",
        "\n",
        "```"
      ]
    },
    {
      "cell_type": "code",
      "source": [],
      "metadata": {
        "id": "WSaytafKseH4"
      },
      "execution_count": null,
      "outputs": []
    },
    {
      "cell_type": "markdown",
      "source": [
        "Print out the mean accuracy:\n",
        "```\n",
        "print(\"The accuracy of predicting on names: {}\".format(np.mean(scores)))\n",
        "```"
      ],
      "metadata": {
        "id": "R5BzrSnpseqg"
      }
    },
    {
      "cell_type": "code",
      "source": [],
      "metadata": {
        "id": "Yd8vRSYyszKi"
      },
      "execution_count": null,
      "outputs": []
    },
    {
      "cell_type": "markdown",
      "source": [
        "Compare to the home team advantage:\n",
        "```\n",
        "df[\"HomeWin\"].mean()\n",
        "```"
      ],
      "metadata": {
        "id": "X0ueHHDvssHu"
      }
    },
    {
      "cell_type": "code",
      "source": [],
      "metadata": {
        "id": "pqv2hixxsyzF"
      },
      "execution_count": null,
      "outputs": []
    },
    {
      "cell_type": "markdown",
      "metadata": {
        "id": "xXa7wgXLPEl-"
      },
      "source": [
        "## Create a new feature: who won the last game\n",
        "\n",
        "Initialize two new columns with False (0) values:\n",
        "```\n",
        "df['HomeWonLast'] = 0 # did the home team win its last game?\n",
        "df['VisitorWonLast'] = 0 # did the visitor team win its last game?\n",
        "```"
      ]
    },
    {
      "cell_type": "code",
      "source": [],
      "metadata": {
        "id": "1nzM0HRqth4T"
      },
      "execution_count": null,
      "outputs": []
    },
    {
      "cell_type": "markdown",
      "source": [
        "Use a dictionary to compute the correct values:\n",
        "\n",
        "```\n",
        "from collections import defaultdict\n",
        "won_last = defaultdict(int)\n",
        "```"
      ],
      "metadata": {
        "id": "9d9Tshwetjj2"
      }
    },
    {
      "cell_type": "code",
      "source": [],
      "metadata": {
        "id": "eKeekOZ0tv8z"
      },
      "execution_count": null,
      "outputs": []
    },
    {
      "cell_type": "markdown",
      "source": [
        "An algorithm for computing the value whether the home team won last game:\n",
        "```\n",
        "for index, row in df.sort_values(\"Date\").iterrows():\n",
        "    home_team = row['Home Team']\n",
        "    visitor_team = row['Visitor Team']\n",
        "    df.at[index, 'HomeWonLast'] = won_last[home_team]\n",
        "    df.at[index, 'VisitorWonLast'] = won_last[visitor_team]\n",
        "    won_last[home_team] = int(row['HomeWin'])\n",
        "    won_last[visitor_team] = 1- int(row['HomeWin'])\n",
        "```"
      ],
      "metadata": {
        "id": "5NuJwJx7twPz"
      }
    },
    {
      "cell_type": "code",
      "source": [],
      "metadata": {
        "id": "Kou12rYcuVX5"
      },
      "execution_count": null,
      "outputs": []
    },
    {
      "cell_type": "markdown",
      "metadata": {
        "id": "8nyjkeLvWqhw"
      },
      "source": [
        "### Predict using HomeWonLast and VisitorWonLast\n",
        "\n",
        "```\n",
        "X_lastWon = df[['HomeWonLast', 'VisitorWonLast']]\n",
        "\n",
        "dt_nba = DecisionTreeClassifier()\n",
        "\n",
        "scores = cross_val_score(dt_nba, X_lastWon, y_homewin, scoring='accuracy')\n",
        "\n",
        "print(\"The accuracy of predicting on who won last: {}\".format(np.mean(scores)))\n",
        "\n",
        "```"
      ]
    },
    {
      "cell_type": "code",
      "source": [],
      "metadata": {
        "id": "YV8nC_qxvMWG"
      },
      "execution_count": null,
      "outputs": []
    },
    {
      "cell_type": "markdown",
      "metadata": {
        "id": "0AZpbYYrYhqN"
      },
      "source": [
        "### Predict using names and previous won\n",
        "\n",
        "```\n",
        "name_oneHot = pd.get_dummies(df['Home Team'])\n",
        "\n",
        "X_nameOneHot_lastWon = pd.concat([name_oneHot, df[['HomeWonLast', 'VisitorWonLast']]], axis=1)\n",
        "X_nameOneHot_lastWon\n",
        "\n",
        "```"
      ]
    },
    {
      "cell_type": "code",
      "source": [],
      "metadata": {
        "id": "W2Zmzi-GvZNN"
      },
      "execution_count": null,
      "outputs": []
    },
    {
      "cell_type": "markdown",
      "source": [
        "Fit the evaluate the decision tree:\n",
        "```\n",
        "dt_nba = DecisionTreeClassifier()\n",
        "scores = cross_val_score(dt_nba, X_nameOneHot_lastWon, y_homewin, scoring='accuracy')\n",
        "print('The accuracy of predicting on names and last won: {}'.format(np.mean(scores)))\n",
        "```"
      ],
      "metadata": {
        "id": "OiMrAgEBva9u"
      }
    },
    {
      "cell_type": "code",
      "source": [],
      "metadata": {
        "id": "l1eWpIhAviFv"
      },
      "execution_count": null,
      "outputs": []
    },
    {
      "cell_type": "markdown",
      "metadata": {
        "id": "O5U8l1dNbcSN"
      },
      "source": [
        "## Random Forest\n",
        "An ensemble method consisting of a large number of individual decision trees.\n",
        "\n",
        "It uses bagging and feature randomness when building each individual tree to try to create an uncorrelated forest of trees.\n",
        "\n",
        "```\n",
        "from sklearn.ensemble import RandomForestClassifier\n",
        "\n",
        "\n",
        "randomForest = RandomForestClassifier(random_state=14)\n",
        "scores = cross_val_score(randomForest, X_nameOneHot_lastWon, y_homewin, scoring='accuracy')\n",
        "print(\"Accuracy: {0:.1f}%\".format(np.mean(scores) * 100))\n",
        "\n",
        "```"
      ]
    },
    {
      "cell_type": "code",
      "source": [],
      "metadata": {
        "id": "1w8mD3Ldv6T_"
      },
      "execution_count": null,
      "outputs": []
    },
    {
      "cell_type": "markdown",
      "metadata": {
        "id": "_nNwyPJhccAd"
      },
      "source": [
        "## Grid search for model selection\n",
        "- A tuning technique that attempts to compute the optimum values of hyperparameters.\n",
        "- An exhaustive search that is performed on a the specific parameter values of a model.\n",
        "\n",
        "```\n",
        "from sklearn.model_selection import GridSearchCV\n",
        "\n",
        "```"
      ]
    },
    {
      "cell_type": "code",
      "source": [],
      "metadata": {
        "id": "Bz9Wmqnnv3NV"
      },
      "execution_count": null,
      "outputs": []
    },
    {
      "cell_type": "markdown",
      "source": [
        "Define the grid of parameters for tuning:\n",
        "```\n",
        "parameter_space = {\n",
        "\"max_features\": [\"sqrt\", \"log2\", None],\n",
        "\"n_estimators\": [100, 200],\n",
        "\"criterion\": [\"gini\", \"entropy\"],\n",
        "\"min_samples_leaf\": [2, 4, 6],\n",
        "}\n",
        "\n",
        "```"
      ],
      "metadata": {
        "id": "nk-tDQjzv-z_"
      }
    },
    {
      "cell_type": "code",
      "source": [],
      "metadata": {
        "id": "ar3ztrvfwGkl"
      },
      "execution_count": null,
      "outputs": []
    },
    {
      "cell_type": "markdown",
      "source": [
        "Create a Random Forest and tune its parameters:\n",
        "```\n",
        "clf = RandomForestClassifier(random_state=14)\n",
        "\n",
        "grid = GridSearchCV(clf, parameter_space)\n",
        "\n",
        "grid.fit(X_nameOneHot_lastWon, y_homewin)\n",
        "print(\"Accuracy: {0:.1f}%\".format(grid.best_score_ * 100))\n",
        "```"
      ],
      "metadata": {
        "id": "isTtPkRUwG20"
      }
    },
    {
      "cell_type": "code",
      "source": [],
      "metadata": {
        "id": "bll98F-zwOz7"
      },
      "execution_count": null,
      "outputs": []
    },
    {
      "cell_type": "markdown",
      "source": [
        "Print out the best model:\n",
        "```\n",
        "print(grid.best_estimator_)\n",
        "```"
      ],
      "metadata": {
        "id": "P73GuuMawQxd"
      }
    },
    {
      "cell_type": "code",
      "source": [],
      "metadata": {
        "id": "ieZ7VylBwVtE"
      },
      "execution_count": null,
      "outputs": []
    },
    {
      "cell_type": "markdown",
      "metadata": {
        "id": "hiJA5oCjTjJT"
      },
      "source": [
        "## Predict Using the Final Model\n",
        "\n",
        "```\n",
        "final_model =  grid.best_estimator_\n",
        "\n",
        "y_pred = final_model.predict(X_nameOneHot_lastWon)\n",
        "\n",
        "accuracy_score(y_homewin, y_pred)\n",
        "\n",
        "```"
      ]
    },
    {
      "cell_type": "code",
      "metadata": {
        "id": "hNW9k9uKT-up"
      },
      "source": [],
      "execution_count": null,
      "outputs": []
    }
  ]
}