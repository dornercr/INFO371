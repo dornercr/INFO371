{
  "nbformat": 4,
  "nbformat_minor": 0,
  "metadata": {
    "colab": {
      "provenance": [],
      "include_colab_link": true
    },
    "kernelspec": {
      "name": "python3",
      "display_name": "Python 3"
    },
    "language_info": {
      "name": "python"
    }
  },
  "cells": [
    {
      "cell_type": "markdown",
      "metadata": {
        "id": "view-in-github",
        "colab_type": "text"
      },
      "source": [
        "<a href=\"https://colab.research.google.com/github/dornercr/INFO371/blob/main/INFO371_Week3_Decision_Tree.ipynb\" target=\"_parent\"><img src=\"https://colab.research.google.com/assets/colab-badge.svg\" alt=\"Open In Colab\"/></a>"
      ]
    },
    {
      "cell_type": "markdown",
      "metadata": {
        "id": "CmlIUJSlxmdM"
      },
      "source": [
        "# INFO 371: Data Mining Applications\n",
        "\n",
        "## Week 3: Decision Tree\n",
        "### Charles Dorner, EdD (Candidate)\n",
        "### College of Computing and Informatics, Drexel University"
      ]
    },
    {
      "cell_type": "markdown",
      "metadata": {
        "id": "63VdsMQ4HmmY"
      },
      "source": [
        "# Import packages"
      ]
    },
    {
      "cell_type": "code",
      "metadata": {
        "id": "D6nQT9eYxl6R"
      },
      "source": [
        "import numpy as np\n",
        "import pandas as pd\n",
        "from google.colab import files\n",
        "import matplotlib.pyplot as plt"
      ],
      "execution_count": null,
      "outputs": []
    },
    {
      "cell_type": "markdown",
      "metadata": {
        "id": "9B1sKmESbffT"
      },
      "source": [
        "# Predict play or not depending on the weather condition"
      ]
    },
    {
      "cell_type": "code",
      "metadata": {
        "colab": {
          "resources": {
            "http://localhost:8080/nbextensions/google.colab/files.js": {
              "data": "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",
              "ok": true,
              "headers": [
                [
                  "content-type",
                  "application/javascript"
                ]
              ],
              "status": 200,
              "status_text": ""
            }
          },
          "base_uri": "https://localhost:8080/",
          "height": 109
        },
        "id": "pMrfUI6rb13S",
        "outputId": "0a00bcd9-a684-4579-cf20-224f37f159f0"
      },
      "source": [
        "files.upload()"
      ],
      "execution_count": null,
      "outputs": [
        {
          "output_type": "display_data",
          "data": {
            "text/html": [
              "\n",
              "     <input type=\"file\" id=\"files-da1d2958-1e68-4f4f-b260-0f6964504a8a\" name=\"files[]\" multiple disabled\n",
              "        style=\"border:none\" />\n",
              "     <output id=\"result-da1d2958-1e68-4f4f-b260-0f6964504a8a\">\n",
              "      Upload widget is only available when the cell has been executed in the\n",
              "      current browser session. Please rerun this cell to enable.\n",
              "      </output>\n",
              "      <script src=\"/nbextensions/google.colab/files.js\"></script> "
            ],
            "text/plain": [
              "<IPython.core.display.HTML object>"
            ]
          },
          "metadata": {}
        },
        {
          "output_type": "stream",
          "text": [
            "Saving weather_nominal.csv to weather_nominal.csv\n"
          ],
          "name": "stdout"
        },
        {
          "output_type": "execute_result",
          "data": {
            "text/plain": [
              "{'weather_nominal.csv': b'outlook,temperature,humidity,windy,play\\nsunny,hot,high,FALSE,no\\nsunny,hot,high,TRUE,no\\novercast,hot,high,FALSE,yes\\nrainy,mild,high,FALSE,yes\\nrainy,cool,normal,FALSE,yes\\nrainy,cool,normal,TRUE,no\\novercast,cool,normal,TRUE,yes\\nsunny,mild,high,FALSE,no\\nsunny,cool,normal,FALSE,yes\\nrainy,mild,normal,FALSE,yes\\nsunny,mild,normal,TRUE,yes\\novercast,mild,high,TRUE,yes\\novercast,hot,normal,FALSE,yes\\nrainy,mild,high,TRUE,no\\n'}"
            ]
          },
          "metadata": {},
          "execution_count": 16
        }
      ]
    },
    {
      "cell_type": "code",
      "metadata": {
        "colab": {
          "base_uri": "https://localhost:8080/",
          "height": 483
        },
        "id": "4aClAWOGbtXE",
        "outputId": "856679d7-3ddd-463b-a228-c279f8b3bd74"
      },
      "source": [
        "play = pd.read_csv(\"weather_nominal.csv\")\n",
        "play"
      ],
      "execution_count": null,
      "outputs": [
        {
          "output_type": "execute_result",
          "data": {
            "text/html": [
              "<div>\n",
              "<style scoped>\n",
              "    .dataframe tbody tr th:only-of-type {\n",
              "        vertical-align: middle;\n",
              "    }\n",
              "\n",
              "    .dataframe tbody tr th {\n",
              "        vertical-align: top;\n",
              "    }\n",
              "\n",
              "    .dataframe thead th {\n",
              "        text-align: right;\n",
              "    }\n",
              "</style>\n",
              "<table border=\"1\" class=\"dataframe\">\n",
              "  <thead>\n",
              "    <tr style=\"text-align: right;\">\n",
              "      <th></th>\n",
              "      <th>outlook</th>\n",
              "      <th>temperature</th>\n",
              "      <th>humidity</th>\n",
              "      <th>windy</th>\n",
              "      <th>play</th>\n",
              "    </tr>\n",
              "  </thead>\n",
              "  <tbody>\n",
              "    <tr>\n",
              "      <th>0</th>\n",
              "      <td>sunny</td>\n",
              "      <td>hot</td>\n",
              "      <td>high</td>\n",
              "      <td>False</td>\n",
              "      <td>no</td>\n",
              "    </tr>\n",
              "    <tr>\n",
              "      <th>1</th>\n",
              "      <td>sunny</td>\n",
              "      <td>hot</td>\n",
              "      <td>high</td>\n",
              "      <td>True</td>\n",
              "      <td>no</td>\n",
              "    </tr>\n",
              "    <tr>\n",
              "      <th>2</th>\n",
              "      <td>overcast</td>\n",
              "      <td>hot</td>\n",
              "      <td>high</td>\n",
              "      <td>False</td>\n",
              "      <td>yes</td>\n",
              "    </tr>\n",
              "    <tr>\n",
              "      <th>3</th>\n",
              "      <td>rainy</td>\n",
              "      <td>mild</td>\n",
              "      <td>high</td>\n",
              "      <td>False</td>\n",
              "      <td>yes</td>\n",
              "    </tr>\n",
              "    <tr>\n",
              "      <th>4</th>\n",
              "      <td>rainy</td>\n",
              "      <td>cool</td>\n",
              "      <td>normal</td>\n",
              "      <td>False</td>\n",
              "      <td>yes</td>\n",
              "    </tr>\n",
              "    <tr>\n",
              "      <th>5</th>\n",
              "      <td>rainy</td>\n",
              "      <td>cool</td>\n",
              "      <td>normal</td>\n",
              "      <td>True</td>\n",
              "      <td>no</td>\n",
              "    </tr>\n",
              "    <tr>\n",
              "      <th>6</th>\n",
              "      <td>overcast</td>\n",
              "      <td>cool</td>\n",
              "      <td>normal</td>\n",
              "      <td>True</td>\n",
              "      <td>yes</td>\n",
              "    </tr>\n",
              "    <tr>\n",
              "      <th>7</th>\n",
              "      <td>sunny</td>\n",
              "      <td>mild</td>\n",
              "      <td>high</td>\n",
              "      <td>False</td>\n",
              "      <td>no</td>\n",
              "    </tr>\n",
              "    <tr>\n",
              "      <th>8</th>\n",
              "      <td>sunny</td>\n",
              "      <td>cool</td>\n",
              "      <td>normal</td>\n",
              "      <td>False</td>\n",
              "      <td>yes</td>\n",
              "    </tr>\n",
              "    <tr>\n",
              "      <th>9</th>\n",
              "      <td>rainy</td>\n",
              "      <td>mild</td>\n",
              "      <td>normal</td>\n",
              "      <td>False</td>\n",
              "      <td>yes</td>\n",
              "    </tr>\n",
              "    <tr>\n",
              "      <th>10</th>\n",
              "      <td>sunny</td>\n",
              "      <td>mild</td>\n",
              "      <td>normal</td>\n",
              "      <td>True</td>\n",
              "      <td>yes</td>\n",
              "    </tr>\n",
              "    <tr>\n",
              "      <th>11</th>\n",
              "      <td>overcast</td>\n",
              "      <td>mild</td>\n",
              "      <td>high</td>\n",
              "      <td>True</td>\n",
              "      <td>yes</td>\n",
              "    </tr>\n",
              "    <tr>\n",
              "      <th>12</th>\n",
              "      <td>overcast</td>\n",
              "      <td>hot</td>\n",
              "      <td>normal</td>\n",
              "      <td>False</td>\n",
              "      <td>yes</td>\n",
              "    </tr>\n",
              "    <tr>\n",
              "      <th>13</th>\n",
              "      <td>rainy</td>\n",
              "      <td>mild</td>\n",
              "      <td>high</td>\n",
              "      <td>True</td>\n",
              "      <td>no</td>\n",
              "    </tr>\n",
              "  </tbody>\n",
              "</table>\n",
              "</div>"
            ],
            "text/plain": [
              "     outlook temperature humidity  windy play\n",
              "0      sunny         hot     high  False   no\n",
              "1      sunny         hot     high   True   no\n",
              "2   overcast         hot     high  False  yes\n",
              "3      rainy        mild     high  False  yes\n",
              "4      rainy        cool   normal  False  yes\n",
              "5      rainy        cool   normal   True   no\n",
              "6   overcast        cool   normal   True  yes\n",
              "7      sunny        mild     high  False   no\n",
              "8      sunny        cool   normal  False  yes\n",
              "9      rainy        mild   normal  False  yes\n",
              "10     sunny        mild   normal   True  yes\n",
              "11  overcast        mild     high   True  yes\n",
              "12  overcast         hot   normal  False  yes\n",
              "13     rainy        mild     high   True   no"
            ]
          },
          "metadata": {},
          "execution_count": 17
        }
      ]
    },
    {
      "cell_type": "markdown",
      "metadata": {
        "id": "wMq22GFyck0R"
      },
      "source": [
        "# Extract training attributes X and target y"
      ]
    },
    {
      "cell_type": "code",
      "metadata": {
        "id": "ZJ9EoEaOckRy"
      },
      "source": [
        "X = play[['outlook', 'temperature', 'humidity', 'windy']]\n",
        "y = play['play']"
      ],
      "execution_count": null,
      "outputs": []
    },
    {
      "cell_type": "markdown",
      "metadata": {
        "id": "ijiEXOQ4c-wT"
      },
      "source": [
        "# Encode string values to numbers"
      ]
    },
    {
      "cell_type": "code",
      "metadata": {
        "id": "790jBZ7zdkXz"
      },
      "source": [
        "from sklearn.preprocessing import OrdinalEncoder"
      ],
      "execution_count": null,
      "outputs": []
    },
    {
      "cell_type": "code",
      "metadata": {
        "colab": {
          "base_uri": "https://localhost:8080/"
        },
        "id": "ec5GetcRdqfT",
        "outputId": "7ce98f23-fe7c-4487-e168-eabefbcf7618"
      },
      "source": [
        "encoder = OrdinalEncoder()\n",
        "X = encoder.fit_transform(X)\n",
        "X"
      ],
      "execution_count": null,
      "outputs": [
        {
          "output_type": "execute_result",
          "data": {
            "text/plain": [
              "array([[2., 1., 0., 0.],\n",
              "       [2., 1., 0., 1.],\n",
              "       [0., 1., 0., 0.],\n",
              "       [1., 2., 0., 0.],\n",
              "       [1., 0., 1., 0.],\n",
              "       [1., 0., 1., 1.],\n",
              "       [0., 0., 1., 1.],\n",
              "       [2., 2., 0., 0.],\n",
              "       [2., 0., 1., 0.],\n",
              "       [1., 2., 1., 0.],\n",
              "       [2., 2., 1., 1.],\n",
              "       [0., 2., 0., 1.],\n",
              "       [0., 1., 1., 0.],\n",
              "       [1., 2., 0., 1.]])"
            ]
          },
          "metadata": {},
          "execution_count": 26
        }
      ]
    },
    {
      "cell_type": "markdown",
      "metadata": {
        "id": "zipkOH2wcUmL"
      },
      "source": [
        "# import the DecisionTreeClassifier"
      ]
    },
    {
      "cell_type": "code",
      "metadata": {
        "id": "oHueOEhucY0j"
      },
      "source": [
        "from sklearn.tree import DecisionTreeClassifier"
      ],
      "execution_count": null,
      "outputs": []
    },
    {
      "cell_type": "markdown",
      "metadata": {
        "id": "B_wIawfpeEB7"
      },
      "source": [
        "# Fit a Decision Tree"
      ]
    },
    {
      "cell_type": "code",
      "metadata": {
        "id": "S2Uu-MLzcdC7"
      },
      "source": [
        "dt = DecisionTreeClassifier()"
      ],
      "execution_count": null,
      "outputs": []
    },
    {
      "cell_type": "code",
      "metadata": {
        "colab": {
          "base_uri": "https://localhost:8080/"
        },
        "id": "_aKeEViGcgxz",
        "outputId": "edebb271-1c9d-4f6a-d805-041044013667"
      },
      "source": [
        "dt.fit(X, y)"
      ],
      "execution_count": null,
      "outputs": [
        {
          "output_type": "execute_result",
          "data": {
            "text/plain": [
              "DecisionTreeClassifier(ccp_alpha=0.0, class_weight=None, criterion='gini',\n",
              "                       max_depth=None, max_features=None, max_leaf_nodes=None,\n",
              "                       min_impurity_decrease=0.0, min_impurity_split=None,\n",
              "                       min_samples_leaf=1, min_samples_split=2,\n",
              "                       min_weight_fraction_leaf=0.0, presort='deprecated',\n",
              "                       random_state=None, splitter='best')"
            ]
          },
          "metadata": {},
          "execution_count": 27
        }
      ]
    },
    {
      "cell_type": "markdown",
      "metadata": {
        "id": "EXADI6K0ff0y"
      },
      "source": [
        "# Visualize Decision Tree"
      ]
    },
    {
      "cell_type": "code",
      "metadata": {
        "colab": {
          "base_uri": "https://localhost:8080/"
        },
        "id": "_GkpguIUfA1F",
        "outputId": "8d7790c2-3f36-4143-d51f-1d5dda61faeb"
      },
      "source": [
        "from sklearn import tree\n",
        "text_representation = tree.export_text(dt)\n",
        "print(text_representation)"
      ],
      "execution_count": null,
      "outputs": [
        {
          "output_type": "stream",
          "text": [
            "|--- feature_0 <= 0.50\n",
            "|   |--- class: yes\n",
            "|--- feature_0 >  0.50\n",
            "|   |--- feature_2 <= 0.50\n",
            "|   |   |--- feature_0 <= 1.50\n",
            "|   |   |   |--- feature_3 <= 0.50\n",
            "|   |   |   |   |--- class: yes\n",
            "|   |   |   |--- feature_3 >  0.50\n",
            "|   |   |   |   |--- class: no\n",
            "|   |   |--- feature_0 >  1.50\n",
            "|   |   |   |--- class: no\n",
            "|   |--- feature_2 >  0.50\n",
            "|   |   |--- feature_3 <= 0.50\n",
            "|   |   |   |--- class: yes\n",
            "|   |   |--- feature_3 >  0.50\n",
            "|   |   |   |--- feature_1 <= 1.00\n",
            "|   |   |   |   |--- class: no\n",
            "|   |   |   |--- feature_1 >  1.00\n",
            "|   |   |   |   |--- class: yes\n",
            "\n"
          ],
          "name": "stdout"
        }
      ]
    },
    {
      "cell_type": "code",
      "metadata": {
        "colab": {
          "base_uri": "https://localhost:8080/",
          "height": 469
        },
        "id": "Qy0z6RnxeJHi",
        "outputId": "d41d1fbe-2c63-4970-d53a-606e82de4470"
      },
      "source": [
        "from sklearn import tree\n",
        "tree.plot_tree(dt)"
      ],
      "execution_count": null,
      "outputs": [
        {
          "output_type": "execute_result",
          "data": {
            "text/plain": [
              "[Text(133.92000000000002, 195.696, 'X[0] <= 0.5\\ngini = 0.459\\nsamples = 14\\nvalue = [5, 9]'),\n",
              " Text(100.44000000000001, 152.208, 'gini = 0.0\\nsamples = 4\\nvalue = [0, 4]'),\n",
              " Text(167.40000000000003, 152.208, 'X[2] <= 0.5\\ngini = 0.5\\nsamples = 10\\nvalue = [5, 5]'),\n",
              " Text(100.44000000000001, 108.72, 'X[0] <= 1.5\\ngini = 0.32\\nsamples = 5\\nvalue = [4, 1]'),\n",
              " Text(66.96000000000001, 65.232, 'X[3] <= 0.5\\ngini = 0.5\\nsamples = 2\\nvalue = [1, 1]'),\n",
              " Text(33.480000000000004, 21.744, 'gini = 0.0\\nsamples = 1\\nvalue = [0, 1]'),\n",
              " Text(100.44000000000001, 21.744, 'gini = 0.0\\nsamples = 1\\nvalue = [1, 0]'),\n",
              " Text(133.92000000000002, 65.232, 'gini = 0.0\\nsamples = 3\\nvalue = [3, 0]'),\n",
              " Text(234.36, 108.72, 'X[3] <= 0.5\\ngini = 0.32\\nsamples = 5\\nvalue = [1, 4]'),\n",
              " Text(200.88000000000002, 65.232, 'gini = 0.0\\nsamples = 3\\nvalue = [0, 3]'),\n",
              " Text(267.84000000000003, 65.232, 'X[1] <= 1.0\\ngini = 0.5\\nsamples = 2\\nvalue = [1, 1]'),\n",
              " Text(234.36, 21.744, 'gini = 0.0\\nsamples = 1\\nvalue = [1, 0]'),\n",
              " Text(301.32000000000005, 21.744, 'gini = 0.0\\nsamples = 1\\nvalue = [0, 1]')]"
            ]
          },
          "metadata": {},
          "execution_count": 30
        },
        {
          "output_type": "display_data",
          "data": {
            "image/png": "[encoded data removed]",
            "text/plain": [
              "<Figure size 432x288 with 1 Axes>"
            ]
          },
          "metadata": {
            "needs_background": "light"
          }
        }
      ]
    },
    {
      "cell_type": "markdown",
      "metadata": {
        "id": "KEV2yzlKT7Me"
      },
      "source": [
        "# Classification tree on iris data\n",
        "\n",
        "Let's see visualziations on the classic [iris multi-class dataset](https://archive.ics.uci.edu/ml/datasets/iris). It's required to pass the `class_names` argument for classification trees. This is required to match the legend lables with right category codes of class. The order of labels should be in sequence of class categories."
      ]
    },
    {
      "cell_type": "code",
      "metadata": {
        "id": "ey4oshwaUNmt"
      },
      "source": [
        "!pip install -q dtreeviz"
      ],
      "execution_count": null,
      "outputs": []
    },
    {
      "cell_type": "code",
      "metadata": {
        "id": "CreCFe2RUSa-"
      },
      "source": [
        "from sklearn.datasets import *\n",
        "from dtreeviz.trees import *"
      ],
      "execution_count": null,
      "outputs": []
    },
    {
      "cell_type": "code",
      "metadata": {
        "colab": {
          "base_uri": "https://localhost:8080/"
        },
        "id": "fvqN0_EuT-Cf",
        "outputId": "4ef88953-4a41-48a1-f67a-444393a5056c"
      },
      "source": [
        "clas = tree.DecisionTreeClassifier(max_depth=2)\n",
        "iris = load_iris()\n",
        "\n",
        "X_train = iris.data\n",
        "y_train = iris.target\n",
        "clas.fit(X_train, y_train)"
      ],
      "execution_count": null,
      "outputs": [
        {
          "output_type": "execute_result",
          "data": {
            "text/plain": [
              "DecisionTreeClassifier(ccp_alpha=0.0, class_weight=None, criterion='gini',\n",
              "                       max_depth=2, max_features=None, max_leaf_nodes=None,\n",
              "                       min_impurity_decrease=0.0, min_impurity_split=None,\n",
              "                       min_samples_leaf=1, min_samples_split=2,\n",
              "                       min_weight_fraction_leaf=0.0, presort='deprecated',\n",
              "                       random_state=None, splitter='best')"
            ]
          },
          "metadata": {},
          "execution_count": 6
        }
      ]
    },
    {
      "cell_type": "code",
      "metadata": {
        "colab": {
          "base_uri": "https://localhost:8080/",
          "height": 604
        },
        "id": "Nw2NbwJIUFue",
        "outputId": "8895ccf5-4e0d-4878-85d4-57c82be4dc15"
      },
      "source": [
        "viz = dtreeviz(clas,\n",
        "               X_train,\n",
        "               y_train,\n",
        "               target_name='flower',\n",
        "               feature_names=iris.feature_names,\n",
        "               class_names=[\"setosa\", \"versicolor\", \"virginica\"],\n",
        "               histtype= 'barstacked',\n",
        "               scale=1.5)  # barstackes is default\n",
        "viz"
      ],
      "execution_count": null,
      "outputs": [
        {
          "output_type": "stream",
          "name": "stderr",
          "text": [
            "findfont: Font family ['Arial'] not found. Falling back to DejaVu Sans.\n",
            "/usr/local/lib/python3.7/dist-packages/numpy/core/_asarray.py:83: VisibleDeprecationWarning: Creating an ndarray from ragged nested sequences (which is a list-or-tuple of lists-or-tuples-or ndarrays with different lengths or shapes) is deprecated. If you meant to do this, you must specify 'dtype=object' when creating the ndarray\n",
            "  return array(a, dtype, copy=False, order=order)\n",
            "findfont: Font family ['Arial'] not found. Falling back to DejaVu Sans.\n",
            "findfont: Font family ['Arial'] not found. Falling back to DejaVu Sans.\n",
            "findfont: Font family ['Arial'] not found. Falling back to DejaVu Sans.\n"
          ]
        },
        {
          "output_type": "execute_result",
          "data": {
            "text/plain": [
              "<dtreeviz.trees.DTreeViz at 0x7f1de4559f90>"
            ],
            "image/svg+xml": "<svg xmlns=\"http://www.w3.org/2000/svg\" xmlns:xlink=\"http://www.w3.org/1999/xlink\" height=\"460.5\" viewBox=\"0.0 0.0 394.5 460.5\" width=\"394.5\">\n<g class=\"graph\" id=\"graph0\" transform=\"scale(1.5 1.5) rotate(0) translate(4 303)\">\n<title>G</title>\n<polygon fill=\"#ffffff\" points=\"-4,4 -4,-303 259,-303 259,4 -4,4\" stroke=\"transparent\" />\n<g class=\"cluster\" id=\"clust3\">\n<title>cluster_legend</title>\n</g>\n\n<g class=\"node\" id=\"node1\">\n<title>node2</title>\n<svg height=\"45px\" preserveAspectRatio=\"xMinYMin meet\" version=\"1.1\" viewBox=\"0 0 201.32 59.281339\" width=\"151px\" x=\"78\" y=\"-157.5\">\n <defs>\n  <style type=\"text/css\">\n*{stroke-linecap:butt;stroke-linejoin:round;}\n  </style>\n </defs>\n <g id=\"figure_1\">\n  <g id=\"patch_1\">\n   <path d=\"M 0 59.281339  L 201.32 59.281339  L 201.32 0  L 0 0  z \" style=\"fill:#ffffff;\" />\n  </g>\n  <g id=\"axes_1\">\n   <g id=\"patch_2\">\n    <path d=\"M 17.18 28.925089  L 201.32 28.925089  L 201.32 1.745089  L 17.18 1.745089  z \" style=\"fill:#ffffff;\" />\n   </g>\n   <g id=\"patch_3\">\n    <path clip-path=\"url(#p3afb8dc46d)\" d=\"M 17.761571 28.925089  L 28.024593 28.925089  L 28.024593 28.925089  L 17.761571 28.925089  z \" style=\"fill:#fefebb;stroke:#444443;stroke-linejoin:miter;stroke-width:0.5;\" />\n   </g>\n   <g id=\"patch_4\">\n    <path clip-path=\"url(#p3afb8dc46d)\" d=\"M 28.024593 28.925089  L 38.287616 28.925089  L 38.287616 28.925089  L 28.024593 28.925089  z \" style=\"fill:#fefebb;stroke:#444443;stroke-linejoin:miter;stroke-width:0.5;\" />\n   </g>\n   <g id=\"patch_5\">\n    <path clip-path=\"url(#p3afb8dc46d)\" d=\"M 38.287616 28.925089  L 48.550638 28.925089  L 48.550638 28.925089  L 38.287616 28.925089  z \" style=\"fill:#fefebb;stroke:#444443;stroke-linejoin:miter;stroke-width:0.5;\" />\n   </g>\n   <g id=\"patch_6\">\n    <path clip-path=\"url(#p3afb8dc46d)\" d=\"M 48.550638 28.925089  L 58.81366 28.925089  L 58.81366 28.925089  L 48.550638 28.925089  z \" style=\"fill:#fefebb;stroke:#444443;stroke-linejoin:miter;stroke-width:0.5;\" />\n   </g>\n   <g id=\"patch_7\">\n    <path clip-path=\"url(#p3afb8dc46d)\" d=\"M 58.81366 28.925089  L 69.076682 28.925089  L 69.076682 28.925089  L 58.81366 28.925089  z \" style=\"fill:#fefebb;stroke:#444443;stroke-linejoin:miter;stroke-width:0.5;\" />\n   </g>\n   <g id=\"patch_8\">\n    <path clip-path=\"url(#p3afb8dc46d)\" d=\"M 69.076682 28.925089  L 79.339705 28.925089  L 79.339705 28.925089  L 69.076682 28.925089  z \" style=\"fill:#fefebb;stroke:#444443;stroke-linejoin:miter;stroke-width:0.5;\" />\n   </g>\n   <g id=\"patch_9\">\n    <path clip-path=\"url(#p3afb8dc46d)\" d=\"M 79.339705 28.925089  L 89.602727 28.925089  L 89.602727 28.925089  L 79.339705 28.925089  z \" style=\"fill:#fefebb;stroke:#444443;stroke-linejoin:miter;stroke-width:0.5;\" />\n   </g>\n   <g id=\"patch_10\">\n    <path clip-path=\"url(#p3afb8dc46d)\" d=\"M 89.602727 28.925089  L 99.865749 28.925089  L 99.865749 28.925089  L 89.602727 28.925089  z \" style=\"fill:#fefebb;stroke:#444443;stroke-linejoin:miter;stroke-width:0.5;\" />\n   </g>\n   <g id=\"patch_11\">\n    <path clip-path=\"url(#p3afb8dc46d)\" d=\"M 99.865749 28.925089  L 110.128771 28.925089  L 110.128771 28.925089  L 99.865749 28.925089  z \" style=\"fill:#fefebb;stroke:#444443;stroke-linejoin:miter;stroke-width:0.5;\" />\n   </g>\n   <g id=\"patch_12\">\n    <path clip-path=\"url(#p3afb8dc46d)\" d=\"M 110.128771 28.925089  L 120.391794 28.925089  L 120.391794 28.925089  L 110.128771 28.925089  z \" style=\"fill:#fefebb;stroke:#444443;stroke-linejoin:miter;stroke-width:0.5;\" />\n   </g>\n   <g id=\"patch_13\">\n    <path clip-path=\"url(#p3afb8dc46d)\" d=\"M 120.391794 28.925089  L 130.654816 28.925089  L 130.654816 28.925089  L 120.391794 28.925089  z \" style=\"fill:#fefebb;stroke:#444443;stroke-linejoin:miter;stroke-width:0.5;\" />\n   </g>\n   <g id=\"patch_14\">\n    <path clip-path=\"url(#p3afb8dc46d)\" d=\"M 130.654816 28.925089  L 140.917838 28.925089  L 140.917838 28.925089  L 130.654816 28.925089  z \" style=\"fill:#fefebb;stroke:#444443;stroke-linejoin:miter;stroke-width:0.5;\" />\n   </g>\n   <g id=\"patch_15\">\n    <path clip-path=\"url(#p3afb8dc46d)\" d=\"M 140.917838 28.925089  L 151.18086 28.925089  L 151.18086 28.925089  L 140.917838 28.925089  z \" style=\"fill:#fefebb;stroke:#444443;stroke-linejoin:miter;stroke-width:0.5;\" />\n   </g>\n   <g id=\"patch_16\">\n    <path clip-path=\"url(#p3afb8dc46d)\" d=\"M 151.18086 28.925089  L 161.443882 28.925089  L 161.443882 28.925089  L 151.18086 28.925089  z \" style=\"fill:#fefebb;stroke:#444443;stroke-linejoin:miter;stroke-width:0.5;\" />\n   </g>\n   <g id=\"patch_17\">\n    <path clip-path=\"url(#p3afb8dc46d)\" d=\"M 161.443882 28.925089  L 171.706905 28.925089  L 171.706905 28.925089  L 161.443882 28.925089  z \" style=\"fill:#fefebb;stroke:#444443;stroke-linejoin:miter;stroke-width:0.5;\" />\n   </g>\n   <g id=\"patch_18\">\n    <path clip-path=\"url(#p3afb8dc46d)\" d=\"M 171.706905 28.925089  L 181.969927 28.925089  L 181.969927 28.925089  L 171.706905 28.925089  z \" style=\"fill:#fefebb;stroke:#444443;stroke-linejoin:miter;stroke-width:0.5;\" />\n   </g>\n   <g id=\"patch_19\">\n    <path clip-path=\"url(#p3afb8dc46d)\" d=\"M 181.969927 28.925089  L 192.232949 28.925089  L 192.232949 28.925089  L 181.969927 28.925089  z \" style=\"fill:#fefebb;stroke:#444443;stroke-linejoin:miter;stroke-width:0.5;\" />\n   </g>\n   <g id=\"patch_20\">\n    <path clip-path=\"url(#p3afb8dc46d)\" d=\"M 17.761571 28.925089  L 28.024593 28.925089  L 28.024593 28.925089  L 17.761571 28.925089  z \" style=\"fill:#d9e6f5;stroke:#444443;stroke-linejoin:miter;stroke-width:0.5;\" />\n   </g>\n   <g id=\"patch_21\">\n    <path clip-path=\"url(#p3afb8dc46d)\" d=\"M 28.024593 28.925089  L 38.287616 28.925089  L 38.287616 28.925089  L 28.024593 28.925089  z \" style=\"fill:#d9e6f5;stroke:#444443;stroke-linejoin:miter;stroke-width:0.5;\" />\n   </g>\n   <g id=\"patch_22\">\n    <path clip-path=\"url(#p3afb8dc46d)\" d=\"M 38.287616 28.925089  L 48.550638 28.925089  L 48.550638 28.925089  L 38.287616 28.925089  z \" style=\"fill:#d9e6f5;stroke:#444443;stroke-linejoin:miter;stroke-width:0.5;\" />\n   </g>\n   <g id=\"patch_23\">\n    <path clip-path=\"url(#p3afb8dc46d)\" d=\"M 48.550638 28.925089  L 58.81366 28.925089  L 58.81366 28.925089  L 48.550638 28.925089  z \" style=\"fill:#d9e6f5;stroke:#444443;stroke-linejoin:miter;stroke-width:0.5;\" />\n   </g>\n   <g id=\"patch_24\">\n    <path clip-path=\"url(#p3afb8dc46d)\" d=\"M 58.81366 28.925089  L 69.076682 28.925089  L 69.076682 28.925089  L 58.81366 28.925089  z \" style=\"fill:#d9e6f5;stroke:#444443;stroke-linejoin:miter;stroke-width:0.5;\" />\n   </g>\n   <g id=\"patch_25\">\n    <path clip-path=\"url(#p3afb8dc46d)\" d=\"M 69.076682 28.925089  L 79.339705 28.925089  L 79.339705 28.925089  L 69.076682 28.925089  z \" style=\"fill:#d9e6f5;stroke:#444443;stroke-linejoin:miter;stroke-width:0.5;\" />\n   </g>\n   <g id=\"patch_26\">\n    <path clip-path=\"url(#p3afb8dc46d)\" d=\"M 79.339705 28.925089  L 89.602727 28.925089  L 89.602727 19.865089  L 79.339705 19.865089  z \" style=\"fill:#d9e6f5;stroke:#444443;stroke-linejoin:miter;stroke-width:0.5;\" />\n   </g>\n   <g id=\"patch_27\">\n    <path clip-path=\"url(#p3afb8dc46d)\" d=\"M 89.602727 28.925089  L 99.865749 28.925089  L 99.865749 18.570804  L 89.602727 18.570804  z \" style=\"fill:#d9e6f5;stroke:#444443;stroke-linejoin:miter;stroke-width:0.5;\" />\n   </g>\n   <g id=\"patch_28\">\n    <path clip-path=\"url(#p3afb8dc46d)\" d=\"M 99.865749 28.925089  L 110.128771 28.925089  L 110.128771 12.099375  L 99.865749 12.099375  z \" style=\"fill:#d9e6f5;stroke:#444443;stroke-linejoin:miter;stroke-width:0.5;\" />\n   </g>\n   <g id=\"patch_29\">\n    <path clip-path=\"url(#p3afb8dc46d)\" d=\"M 110.128771 28.925089  L 120.391794 28.925089  L 120.391794 6.922232  L 110.128771 6.922232  z \" style=\"fill:#d9e6f5;stroke:#444443;stroke-linejoin:miter;stroke-width:0.5;\" />\n   </g>\n   <g id=\"patch_30\">\n    <path clip-path=\"url(#p3afb8dc46d)\" d=\"M 120.391794 28.925089  L 130.654816 28.925089  L 130.654816 25.042232  L 120.391794 25.042232  z \" style=\"fill:#d9e6f5;stroke:#444443;stroke-linejoin:miter;stroke-width:0.5;\" />\n   </g>\n   <g id=\"patch_31\">\n    <path clip-path=\"url(#p3afb8dc46d)\" d=\"M 130.654816 28.925089  L 140.917838 28.925089  L 140.917838 27.630804  L 130.654816 27.630804  z \" style=\"fill:#d9e6f5;stroke:#444443;stroke-linejoin:miter;stroke-width:0.5;\" />\n   </g>\n   <g id=\"patch_32\">\n    <path clip-path=\"url(#p3afb8dc46d)\" d=\"M 140.917838 28.925089  L 151.18086 28.925089  L 151.18086 27.630804  L 140.917838 27.630804  z \" style=\"fill:#d9e6f5;stroke:#444443;stroke-linejoin:miter;stroke-width:0.5;\" />\n   </g>\n   <g id=\"patch_33\">\n    <path clip-path=\"url(#p3afb8dc46d)\" d=\"M 151.18086 28.925089  L 161.443882 28.925089  L 161.443882 28.925089  L 151.18086 28.925089  z \" style=\"fill:#d9e6f5;stroke:#444443;stroke-linejoin:miter;stroke-width:0.5;\" />\n   </g>\n   <g id=\"patch_34\">\n    <path clip-path=\"url(#p3afb8dc46d)\" d=\"M 161.443882 28.925089  L 171.706905 28.925089  L 171.706905 28.925089  L 161.443882 28.925089  z \" style=\"fill:#d9e6f5;stroke:#444443;stroke-linejoin:miter;stroke-width:0.5;\" />\n   </g>\n   <g id=\"patch_35\">\n    <path clip-path=\"url(#p3afb8dc46d)\" d=\"M 171.706905 28.925089  L 181.969927 28.925089  L 181.969927 28.925089  L 171.706905 28.925089  z \" style=\"fill:#d9e6f5;stroke:#444443;stroke-linejoin:miter;stroke-width:0.5;\" />\n   </g>\n   <g id=\"patch_36\">\n    <path clip-path=\"url(#p3afb8dc46d)\" d=\"M 181.969927 28.925089  L 192.232949 28.925089  L 192.232949 28.925089  L 181.969927 28.925089  z \" style=\"fill:#d9e6f5;stroke:#444443;stroke-linejoin:miter;stroke-width:0.5;\" />\n   </g>\n   <g id=\"patch_37\">\n    <path clip-path=\"url(#p3afb8dc46d)\" d=\"M 17.761571 28.925089  L 28.024593 28.925089  L 28.024593 28.925089  L 17.761571 28.925089  z \" style=\"fill:#a1dab4;stroke:#444443;stroke-linejoin:miter;stroke-width:0.5;\" />\n   </g>\n   <g id=\"patch_38\">\n    <path clip-path=\"url(#p3afb8dc46d)\" d=\"M 28.024593 28.925089  L 38.287616 28.925089  L 38.287616 28.925089  L 28.024593 28.925089  z \" style=\"fill:#a1dab4;stroke:#444443;stroke-linejoin:miter;stroke-width:0.5;\" />\n   </g>\n   <g id=\"patch_39\">\n    <path clip-path=\"url(#p3afb8dc46d)\" d=\"M 38.287616 28.925089  L 48.550638 28.925089  L 48.550638 28.925089  L 38.287616 28.925089  z \" style=\"fill:#a1dab4;stroke:#444443;stroke-linejoin:miter;stroke-width:0.5;\" />\n   </g>\n   <g id=\"patch_40\">\n    <path clip-path=\"url(#p3afb8dc46d)\" d=\"M 48.550638 28.925089  L 58.81366 28.925089  L 58.81366 28.925089  L 48.550638 28.925089  z \" style=\"fill:#a1dab4;stroke:#444443;stroke-linejoin:miter;stroke-width:0.5;\" />\n   </g>\n   <g id=\"patch_41\">\n    <path clip-path=\"url(#p3afb8dc46d)\" d=\"M 58.81366 28.925089  L 69.076682 28.925089  L 69.076682 28.925089  L 58.81366 28.925089  z \" style=\"fill:#a1dab4;stroke:#444443;stroke-linejoin:miter;stroke-width:0.5;\" />\n   </g>\n   <g id=\"patch_42\">\n    <path clip-path=\"url(#p3afb8dc46d)\" d=\"M 69.076682 28.925089  L 79.339705 28.925089  L 79.339705 28.925089  L 69.076682 28.925089  z \" style=\"fill:#a1dab4;stroke:#444443;stroke-linejoin:miter;stroke-width:0.5;\" />\n   </g>\n   <g id=\"patch_43\">\n    <path clip-path=\"url(#p3afb8dc46d)\" d=\"M 79.339705 19.865089  L 89.602727 19.865089  L 89.602727 19.865089  L 79.339705 19.865089  z \" style=\"fill:#a1dab4;stroke:#444443;stroke-linejoin:miter;stroke-width:0.5;\" />\n   </g>\n   <g id=\"patch_44\">\n    <path clip-path=\"url(#p3afb8dc46d)\" d=\"M 89.602727 18.570804  L 99.865749 18.570804  L 99.865749 18.570804  L 89.602727 18.570804  z \" style=\"fill:#a1dab4;stroke:#444443;stroke-linejoin:miter;stroke-width:0.5;\" />\n   </g>\n   <g id=\"patch_45\">\n    <path clip-path=\"url(#p3afb8dc46d)\" d=\"M 99.865749 12.099375  L 110.128771 12.099375  L 110.128771 12.099375  L 99.865749 12.099375  z \" style=\"fill:#a1dab4;stroke:#444443;stroke-linejoin:miter;stroke-width:0.5;\" />\n   </g>\n   <g id=\"patch_46\">\n    <path clip-path=\"url(#p3afb8dc46d)\" d=\"M 110.128771 6.922232  L 120.391794 6.922232  L 120.391794 3.039375  L 110.128771 3.039375  z \" style=\"fill:#a1dab4;stroke:#444443;stroke-linejoin:miter;stroke-width:0.5;\" />\n   </g>\n   <g id=\"patch_47\">\n    <path clip-path=\"url(#p3afb8dc46d)\" d=\"M 120.391794 25.042232  L 130.654816 25.042232  L 130.654816 23.747946  L 120.391794 23.747946  z \" style=\"fill:#a1dab4;stroke:#444443;stroke-linejoin:miter;stroke-width:0.5;\" />\n   </g>\n   <g id=\"patch_48\">\n    <path clip-path=\"url(#p3afb8dc46d)\" d=\"M 130.654816 27.630804  L 140.917838 27.630804  L 140.917838 26.336518  L 130.654816 26.336518  z \" style=\"fill:#a1dab4;stroke:#444443;stroke-linejoin:miter;stroke-width:0.5;\" />\n   </g>\n   <g id=\"patch_49\">\n    <path clip-path=\"url(#p3afb8dc46d)\" d=\"M 140.917838 27.630804  L 151.18086 27.630804  L 151.18086 6.922232  L 140.917838 6.922232  z \" style=\"fill:#a1dab4;stroke:#444443;stroke-linejoin:miter;stroke-width:0.5;\" />\n   </g>\n   <g id=\"patch_50\">\n    <path clip-path=\"url(#p3afb8dc46d)\" d=\"M 151.18086 28.925089  L 161.443882 28.925089  L 161.443882 21.159375  L 151.18086 21.159375  z \" style=\"fill:#a1dab4;stroke:#444443;stroke-linejoin:miter;stroke-width:0.5;\" />\n   </g>\n   <g id=\"patch_51\">\n    <path clip-path=\"url(#p3afb8dc46d)\" d=\"M 161.443882 28.925089  L 171.706905 28.925089  L 171.706905 17.276518  L 161.443882 17.276518  z \" style=\"fill:#a1dab4;stroke:#444443;stroke-linejoin:miter;stroke-width:0.5;\" />\n   </g>\n   <g id=\"patch_52\">\n    <path clip-path=\"url(#p3afb8dc46d)\" d=\"M 171.706905 28.925089  L 181.969927 28.925089  L 181.969927 18.570804  L 171.706905 18.570804  z \" style=\"fill:#a1dab4;stroke:#444443;stroke-linejoin:miter;stroke-width:0.5;\" />\n   </g>\n   <g id=\"patch_53\">\n    <path clip-path=\"url(#p3afb8dc46d)\" d=\"M 181.969927 28.925089  L 192.232949 28.925089  L 192.232949 21.159375  L 181.969927 21.159375  z \" style=\"fill:#a1dab4;stroke:#444443;stroke-linejoin:miter;stroke-width:0.5;\" />\n   </g>\n   <g id=\"patch_54\">\n    <path d=\"M 137.710644 29.740489  L 134.396124 37.079089  L 141.025164 37.079089  z \" style=\"fill:#444443;\" />\n   </g>\n   <g id=\"matplotlib.axis_1\">\n    <g id=\"xtick_1\">\n     <g id=\"line2d_1\">\n      <defs>\n       <path d=\"M 0 0  L 0 3.5  \" id=\"m342b32b045\" style=\"stroke:#000000;stroke-width:0.3;\" />\n      </defs>\n      <g>\n       <use style=\"stroke:#000000;stroke-width:0.3;\" x=\"17.761571\" y=\"28.925089\" xlink:href=\"#m342b32b045\" />\n      </g>\n     </g>\n     <g id=\"text_1\">\n      \n      <defs>\n       <path d=\"M 31.78125 66.40625  Q 24.171875 66.40625 20.328125 58.90625  Q 16.5 51.421875 16.5 36.375  Q 16.5 21.390625 20.328125 13.890625  Q 24.171875 6.390625 31.78125 6.390625  Q 39.453125 6.390625 43.28125 13.890625  Q 47.125 21.390625 47.125 36.375  Q 47.125 51.421875 43.28125 58.90625  Q 39.453125 66.40625 31.78125 66.40625  z M 31.78125 74.21875  Q 44.046875 74.21875 50.515625 64.515625  Q 56.984375 54.828125 56.984375 36.375  Q 56.984375 17.96875 50.515625 8.265625  Q 44.046875 -1.421875 31.78125 -1.421875  Q 19.53125 -1.421875 13.0625 8.265625  Q 6.59375 17.96875 6.59375 36.375  Q 6.59375 54.828125 13.0625 64.515625  Q 19.53125 74.21875 31.78125 74.21875  z \" id=\"DejaVuSans-48\" />\n       <path d=\"M 10.6875 12.40625  L 21 12.40625  L 21 0  L 10.6875 0  z \" id=\"DejaVuSans-46\" />\n       <path d=\"M 12.40625 8.296875  L 28.515625 8.296875  L 28.515625 63.921875  L 10.984375 60.40625  L 10.984375 69.390625  L 28.421875 72.90625  L 38.28125 72.90625  L 38.28125 8.296875  L 54.390625 8.296875  L 54.390625 0  L 12.40625 0  z \" id=\"DejaVuSans-49\" />\n      </defs>\n      <g style=\"fill:#444443;\" transform=\"translate(11.400321 42.003839)scale(0.08 -0.08)\">\n       <use xlink:href=\"#DejaVuSans-48\" />\n       <use x=\"63.623047\" xlink:href=\"#DejaVuSans-46\" />\n       <use x=\"95.410156\" xlink:href=\"#DejaVuSans-49\" />\n      </g>\n     </g>\n    </g>\n    <g id=\"xtick_2\">\n     <g id=\"line2d_2\">\n      <g>\n       <use style=\"stroke:#000000;stroke-width:0.3;\" x=\"192.232949\" y=\"28.925089\" xlink:href=\"#m342b32b045\" />\n      </g>\n     </g>\n     <g id=\"text_2\">\n      \n      <defs>\n       <path d=\"M 19.1875 8.296875  L 53.609375 8.296875  L 53.609375 0  L 7.328125 0  L 7.328125 8.296875  Q 12.9375 14.109375 22.625 23.890625  Q 32.328125 33.6875 34.8125 36.53125  Q 39.546875 41.84375 41.421875 45.53125  Q 43.3125 49.21875 43.3125 52.78125  Q 43.3125 58.59375 39.234375 62.25  Q 35.15625 65.921875 28.609375 65.921875  Q 23.96875 65.921875 18.8125 64.3125  Q 13.671875 62.703125 7.8125 59.421875  L 7.8125 69.390625  Q 13.765625 71.78125 18.9375 73  Q 24.125 74.21875 28.421875 74.21875  Q 39.75 74.21875 46.484375 68.546875  Q 53.21875 62.890625 53.21875 53.421875  Q 53.21875 48.921875 51.53125 44.890625  Q 49.859375 40.875 45.40625 35.40625  Q 44.1875 33.984375 37.640625 27.21875  Q 31.109375 20.453125 19.1875 8.296875  z \" id=\"DejaVuSans-50\" />\n       <path d=\"M 10.796875 72.90625  L 49.515625 72.90625  L 49.515625 64.59375  L 19.828125 64.59375  L 19.828125 46.734375  Q 21.96875 47.46875 24.109375 47.828125  Q 26.265625 48.1875 28.421875 48.1875  Q 40.625 48.1875 47.75 41.5  Q 54.890625 34.8125 54.890625 23.390625  Q 54.890625 11.625 47.5625 5.09375  Q 40.234375 -1.421875 26.90625 -1.421875  Q 22.3125 -1.421875 17.546875 -0.640625  Q 12.796875 0.140625 7.71875 1.703125  L 7.71875 11.625  Q 12.109375 9.234375 16.796875 8.0625  Q 21.484375 6.890625 26.703125 6.890625  Q 35.15625 6.890625 40.078125 11.328125  Q 45.015625 15.765625 45.015625 23.390625  Q 45.015625 31 40.078125 35.4375  Q 35.15625 39.890625 26.703125 39.890625  Q 22.75 39.890625 18.8125 39.015625  Q 14.890625 38.140625 10.796875 36.28125  z \" id=\"DejaVuSans-53\" />\n      </defs>\n      <g style=\"fill:#444443;\" transform=\"translate(185.871699 42.003839)scale(0.08 -0.08)\">\n       <use xlink:href=\"#DejaVuSans-50\" />\n       <use x=\"63.623047\" xlink:href=\"#DejaVuSans-46\" />\n       <use x=\"95.410156\" xlink:href=\"#DejaVuSans-53\" />\n      </g>\n     </g>\n    </g>\n    <g id=\"text_3\">\n     \n     <defs>\n      <path d=\"M 18.109375 8.203125  L 18.109375 -20.796875  L 9.078125 -20.796875  L 9.078125 54.6875  L 18.109375 54.6875  L 18.109375 46.390625  Q 20.953125 51.265625 25.265625 53.625  Q 29.59375 56 35.59375 56  Q 45.5625 56 51.78125 48.09375  Q 58.015625 40.1875 58.015625 27.296875  Q 58.015625 14.40625 51.78125 6.484375  Q 45.5625 -1.421875 35.59375 -1.421875  Q 29.59375 -1.421875 25.265625 0.953125  Q 20.953125 3.328125 18.109375 8.203125  z M 48.6875 27.296875  Q 48.6875 37.203125 44.609375 42.84375  Q 40.53125 48.484375 33.40625 48.484375  Q 26.265625 48.484375 22.1875 42.84375  Q 18.109375 37.203125 18.109375 27.296875  Q 18.109375 17.390625 22.1875 11.75  Q 26.265625 6.109375 33.40625 6.109375  Q 40.53125 6.109375 44.609375 11.75  Q 48.6875 17.390625 48.6875 27.296875  z \" id=\"DejaVuSans-112\" />\n      <path d=\"M 56.203125 29.59375  L 56.203125 25.203125  L 14.890625 25.203125  Q 15.484375 15.921875 20.484375 11.0625  Q 25.484375 6.203125 34.421875 6.203125  Q 39.59375 6.203125 44.453125 7.46875  Q 49.3125 8.734375 54.109375 11.28125  L 54.109375 2.78125  Q 49.265625 0.734375 44.1875 -0.34375  Q 39.109375 -1.421875 33.890625 -1.421875  Q 20.796875 -1.421875 13.15625 6.1875  Q 5.515625 13.8125 5.515625 26.8125  Q 5.515625 40.234375 12.765625 48.109375  Q 20.015625 56 32.328125 56  Q 43.359375 56 49.78125 48.890625  Q 56.203125 41.796875 56.203125 29.59375  z M 47.21875 32.234375  Q 47.125 39.59375 43.09375 43.984375  Q 39.0625 48.390625 32.421875 48.390625  Q 24.90625 48.390625 20.390625 44.140625  Q 15.875 39.890625 15.1875 32.171875  z \" id=\"DejaVuSans-101\" />\n      <path d=\"M 18.3125 70.21875  L 18.3125 54.6875  L 36.8125 54.6875  L 36.8125 47.703125  L 18.3125 47.703125  L 18.3125 18.015625  Q 18.3125 11.328125 20.140625 9.421875  Q 21.96875 7.515625 27.59375 7.515625  L 36.8125 7.515625  L 36.8125 0  L 27.59375 0  Q 17.1875 0 13.234375 3.875  Q 9.28125 7.765625 9.28125 18.015625  L 9.28125 47.703125  L 2.6875 47.703125  L 2.6875 54.6875  L 9.28125 54.6875  L 9.28125 70.21875  z \" id=\"DejaVuSans-116\" />\n      <path d=\"M 34.28125 27.484375  Q 23.390625 27.484375 19.1875 25  Q 14.984375 22.515625 14.984375 16.5  Q 14.984375 11.71875 18.140625 8.90625  Q 21.296875 6.109375 26.703125 6.109375  Q 34.1875 6.109375 38.703125 11.40625  Q 43.21875 16.703125 43.21875 25.484375  L 43.21875 27.484375  z M 52.203125 31.203125  L 52.203125 0  L 43.21875 0  L 43.21875 8.296875  Q 40.140625 3.328125 35.546875 0.953125  Q 30.953125 -1.421875 24.3125 -1.421875  Q 15.921875 -1.421875 10.953125 3.296875  Q 6 8.015625 6 15.921875  Q 6 25.140625 12.171875 29.828125  Q 18.359375 34.515625 30.609375 34.515625  L 43.21875 34.515625  L 43.21875 35.40625  Q 43.21875 41.609375 39.140625 45  Q 35.0625 48.390625 27.6875 48.390625  Q 23 48.390625 18.546875 47.265625  Q 14.109375 46.140625 10.015625 43.890625  L 10.015625 52.203125  Q 14.9375 54.109375 19.578125 55.046875  Q 24.21875 56 28.609375 56  Q 40.484375 56 46.34375 49.84375  Q 52.203125 43.703125 52.203125 31.203125  z \" id=\"DejaVuSans-97\" />\n      <path d=\"M 9.421875 75.984375  L 18.40625 75.984375  L 18.40625 0  L 9.421875 0  z \" id=\"DejaVuSans-108\" />\n      <path id=\"DejaVuSans-32\" />\n      <path d=\"M 4.203125 54.6875  L 13.1875 54.6875  L 24.421875 12.015625  L 35.59375 54.6875  L 46.1875 54.6875  L 57.421875 12.015625  L 68.609375 54.6875  L 77.59375 54.6875  L 63.28125 0  L 52.6875 0  L 40.921875 44.828125  L 29.109375 0  L 18.5 0  z \" id=\"DejaVuSans-119\" />\n      <path d=\"M 9.421875 54.6875  L 18.40625 54.6875  L 18.40625 0  L 9.421875 0  z M 9.421875 75.984375  L 18.40625 75.984375  L 18.40625 64.59375  L 9.421875 64.59375  z \" id=\"DejaVuSans-105\" />\n      <path d=\"M 45.40625 46.390625  L 45.40625 75.984375  L 54.390625 75.984375  L 54.390625 0  L 45.40625 0  L 45.40625 8.203125  Q 42.578125 3.328125 38.25 0.953125  Q 33.9375 -1.421875 27.875 -1.421875  Q 17.96875 -1.421875 11.734375 6.484375  Q 5.515625 14.40625 5.515625 27.296875  Q 5.515625 40.1875 11.734375 48.09375  Q 17.96875 56 27.875 56  Q 33.9375 56 38.25 53.625  Q 42.578125 51.265625 45.40625 46.390625  z M 14.796875 27.296875  Q 14.796875 17.390625 18.875 11.75  Q 22.953125 6.109375 30.078125 6.109375  Q 37.203125 6.109375 41.296875 11.75  Q 45.40625 17.390625 45.40625 27.296875  Q 45.40625 37.203125 41.296875 42.84375  Q 37.203125 48.484375 30.078125 48.484375  Q 22.953125 48.484375 18.875 42.84375  Q 14.796875 37.203125 14.796875 27.296875  z \" id=\"DejaVuSans-100\" />\n      <path d=\"M 54.890625 33.015625  L 54.890625 0  L 45.90625 0  L 45.90625 32.71875  Q 45.90625 40.484375 42.875 44.328125  Q 39.84375 48.1875 33.796875 48.1875  Q 26.515625 48.1875 22.3125 43.546875  Q 18.109375 38.921875 18.109375 30.90625  L 18.109375 0  L 9.078125 0  L 9.078125 75.984375  L 18.109375 75.984375  L 18.109375 46.1875  Q 21.34375 51.125 25.703125 53.5625  Q 30.078125 56 35.796875 56  Q 45.21875 56 50.046875 50.171875  Q 54.890625 44.34375 54.890625 33.015625  z \" id=\"DejaVuSans-104\" />\n      <path d=\"M 31 75.875  Q 24.46875 64.65625 21.28125 53.65625  Q 18.109375 42.671875 18.109375 31.390625  Q 18.109375 20.125 21.3125 9.0625  Q 24.515625 -2 31 -13.1875  L 23.1875 -13.1875  Q 15.875 -1.703125 12.234375 9.375  Q 8.59375 20.453125 8.59375 31.390625  Q 8.59375 42.28125 12.203125 53.3125  Q 15.828125 64.359375 23.1875 75.875  z \" id=\"DejaVuSans-40\" />\n      <path d=\"M 48.78125 52.59375  L 48.78125 44.1875  Q 44.96875 46.296875 41.140625 47.34375  Q 37.3125 48.390625 33.40625 48.390625  Q 24.65625 48.390625 19.8125 42.84375  Q 14.984375 37.3125 14.984375 27.296875  Q 14.984375 17.28125 19.8125 11.734375  Q 24.65625 6.203125 33.40625 6.203125  Q 37.3125 6.203125 41.140625 7.25  Q 44.96875 8.296875 48.78125 10.40625  L 48.78125 2.09375  Q 45.015625 0.34375 40.984375 -0.53125  Q 36.96875 -1.421875 32.421875 -1.421875  Q 20.0625 -1.421875 12.78125 6.34375  Q 5.515625 14.109375 5.515625 27.296875  Q 5.515625 40.671875 12.859375 48.328125  Q 20.21875 56 33.015625 56  Q 37.15625 56 41.109375 55.140625  Q 45.0625 54.296875 48.78125 52.59375  z \" id=\"DejaVuSans-99\" />\n      <path d=\"M 52 44.1875  Q 55.375 50.25 60.0625 53.125  Q 64.75 56 71.09375 56  Q 79.640625 56 84.28125 50.015625  Q 88.921875 44.046875 88.921875 33.015625  L 88.921875 0  L 79.890625 0  L 79.890625 32.71875  Q 79.890625 40.578125 77.09375 44.375  Q 74.3125 48.1875 68.609375 48.1875  Q 61.625 48.1875 57.5625 43.546875  Q 53.515625 38.921875 53.515625 30.90625  L 53.515625 0  L 44.484375 0  L 44.484375 32.71875  Q 44.484375 40.625 41.703125 44.40625  Q 38.921875 48.1875 33.109375 48.1875  Q 26.21875 48.1875 22.15625 43.53125  Q 18.109375 38.875 18.109375 30.90625  L 18.109375 0  L 9.078125 0  L 9.078125 54.6875  L 18.109375 54.6875  L 18.109375 46.1875  Q 21.1875 51.21875 25.484375 53.609375  Q 29.78125 56 35.6875 56  Q 41.65625 56 45.828125 52.96875  Q 50 49.953125 52 44.1875  z \" id=\"DejaVuSans-109\" />\n      <path d=\"M 8.015625 75.875  L 15.828125 75.875  Q 23.140625 64.359375 26.78125 53.3125  Q 30.421875 42.28125 30.421875 31.390625  Q 30.421875 20.453125 26.78125 9.375  Q 23.140625 -1.703125 15.828125 -13.1875  L 8.015625 -13.1875  Q 14.5 -2 17.703125 9.0625  Q 20.90625 20.125 20.90625 31.390625  Q 20.90625 42.671875 17.703125 53.65625  Q 14.5 64.65625 8.015625 75.875  z \" id=\"DejaVuSans-41\" />\n     </defs>\n     <g style=\"fill:#444443;\" transform=\"translate(59.876562 56.785714)scale(0.12 -0.12)\">\n      <use xlink:href=\"#DejaVuSans-112\" />\n      <use x=\"63.476562\" xlink:href=\"#DejaVuSans-101\" />\n      <use x=\"125\" xlink:href=\"#DejaVuSans-116\" />\n      <use x=\"164.208984\" xlink:href=\"#DejaVuSans-97\" />\n      <use x=\"225.488281\" xlink:href=\"#DejaVuSans-108\" />\n      <use x=\"253.271484\" xlink:href=\"#DejaVuSans-32\" />\n      <use x=\"285.058594\" xlink:href=\"#DejaVuSans-119\" />\n      <use x=\"366.845703\" xlink:href=\"#DejaVuSans-105\" />\n      <use x=\"394.628906\" xlink:href=\"#DejaVuSans-100\" />\n      <use x=\"458.105469\" xlink:href=\"#DejaVuSans-116\" />\n      <use x=\"497.314453\" xlink:href=\"#DejaVuSans-104\" />\n      <use x=\"560.693359\" xlink:href=\"#DejaVuSans-32\" />\n      <use x=\"592.480469\" xlink:href=\"#DejaVuSans-40\" />\n      <use x=\"631.494141\" xlink:href=\"#DejaVuSans-99\" />\n      <use x=\"686.474609\" xlink:href=\"#DejaVuSans-109\" />\n      <use x=\"783.886719\" xlink:href=\"#DejaVuSans-41\" />\n     </g>\n    </g>\n   </g>\n   <g id=\"matplotlib.axis_2\">\n    <g id=\"ytick_1\">\n     <g id=\"line2d_3\">\n      <defs>\n       <path d=\"M 0 0  L -3.5 0  \" id=\"m6bed6e8340\" style=\"stroke:#000000;stroke-width:0.3;\" />\n      </defs>\n      <g>\n       <use style=\"stroke:#000000;stroke-width:0.3;\" x=\"17.18\" y=\"28.925089\" xlink:href=\"#m6bed6e8340\" />\n      </g>\n     </g>\n     <g id=\"text_4\">\n      \n      <g style=\"fill:#444443;\" transform=\"translate(5.09 31.964464)scale(0.08 -0.08)\">\n       <use xlink:href=\"#DejaVuSans-48\" />\n      </g>\n     </g>\n    </g>\n    <g id=\"ytick_2\">\n     <g id=\"line2d_4\">\n      <g>\n       <use style=\"stroke:#000000;stroke-width:0.3;\" x=\"17.18\" y=\"3.039375\" xlink:href=\"#m6bed6e8340\" />\n      </g>\n     </g>\n     <g id=\"text_5\">\n      \n      <g style=\"fill:#444443;\" transform=\"translate(0 6.07875)scale(0.08 -0.08)\">\n       <use xlink:href=\"#DejaVuSans-50\" />\n       <use x=\"63.623047\" xlink:href=\"#DejaVuSans-48\" />\n      </g>\n     </g>\n    </g>\n   </g>\n   <g id=\"patch_55\">\n    <path d=\"M 17.18 28.925089  L 17.18 1.745089  \" style=\"fill:none;stroke:#000000;stroke-linecap:square;stroke-linejoin:miter;stroke-width:0.3;\" />\n   </g>\n   <g id=\"patch_56\">\n    <path d=\"M 17.18 28.925089  L 201.32 28.925089  \" style=\"fill:none;stroke:#000000;stroke-linecap:square;stroke-linejoin:miter;stroke-width:0.3;\" />\n   </g>\n   <g id=\"text_6\">\n    \n    <defs>\n     <path d=\"M 8.203125 72.90625  L 55.078125 72.90625  L 55.078125 68.703125  L 28.609375 0  L 18.3125 0  L 43.21875 64.59375  L 8.203125 64.59375  z \" id=\"DejaVuSans-55\" />\n    </defs>\n    <g style=\"fill:#444443;\" transform=\"translate(128.804394 45.233089)scale(0.08 -0.08)\">\n     <use xlink:href=\"#DejaVuSans-49\" />\n     <use x=\"63.623047\" xlink:href=\"#DejaVuSans-46\" />\n     <use x=\"95.410156\" xlink:href=\"#DejaVuSans-55\" />\n     <use x=\"159.033203\" xlink:href=\"#DejaVuSans-53\" />\n    </g>\n   </g>\n  </g>\n </g>\n <defs>\n  <clipPath id=\"p3afb8dc46d\">\n   <rect height=\"27.18\" width=\"184.14\" x=\"17.18\" y=\"1.745089\" />\n  </clipPath>\n </defs>\n</svg></g>\n\n<g class=\"node\" id=\"node3\">\n<title>leaf3</title>\n<polygon fill=\"none\" points=\"141,-80 77,-80 77,0 141,0 141,-80\" stroke=\"#444443\" stroke-width=\"0\" />\n<svg height=\"72px\" preserveAspectRatio=\"xMinYMin meet\" version=\"1.1\" viewBox=\"0 0 74.501799 96.300975\" width=\"56px\" x=\"81\" y=\"-76\">\n <defs>\n  <style type=\"text/css\">\n*{stroke-linecap:butt;stroke-linejoin:round;}\n  </style>\n </defs>\n <g id=\"figure_1\">\n  <g id=\"patch_1\">\n   <path d=\"M 0 96.300975  L 74.501799 96.300975  L 74.501799 -0  L 0 -0  z \" style=\"fill:#ffffff;\" />\n  </g>\n  <g id=\"axes_1\">\n   <g id=\"patch_2\">\n    <path d=\"M 74.501799 37.394951  C 74.501799 37.394951 74.501799 37.394951 74.501799 37.394951  L 37.355799 37.394951  L 74.501799 37.394951  z \" style=\"fill:#fefebb;stroke:#444443;stroke-linejoin:miter;stroke-width:0.5;\" />\n   </g>\n   <g id=\"patch_3\">\n    <path d=\"M 74.501799 37.394951  C 74.501799 32.971134 73.711533 28.582682 72.168308 24.436767  C 70.625083 20.290852 68.353572 16.453759 65.461012 13.106634  C 62.568451 9.759509 59.101086 6.955865 55.222608 4.828059  C 51.34413 2.700253 47.116546 1.282304 42.739438 0.641152  C 38.36233 -0 33.905677 0.145896 29.579874 1.071951  C 25.25407 1.998007 21.128277 3.689417 17.397268 6.066332  C 13.666259 8.443247 10.389685 11.467665 7.72223 14.996806  C 5.054775 18.525947 3.039086 22.503388 1.770321 26.741358  C 0.501556 30.979328 0 35.41007 0.289331 39.824415  C 0.578663 44.23876 1.654255 48.566131 3.465332 52.602237  C 5.276408 56.638344 7.794013 60.318657 10.899293 63.469433  C 14.004573 66.620209 17.647881 69.191074 21.65722 71.06066  C 25.66656 72.930246 29.97783 74.068662 34.3875 74.422164  C 38.79717 74.775667 43.234738 74.338605 47.490713 73.131611  C 51.746687 71.924617 55.753023 69.966988 59.320586 67.351143  C 62.888149 64.735298 65.959902 61.503057 68.390829 57.807012  L 37.355799 37.394951  L 74.501799 37.394951  z \" style=\"fill:#d9e6f5;stroke:#444443;stroke-linejoin:miter;stroke-width:0.5;\" />\n   </g>\n   <g id=\"patch_4\">\n    <path d=\"M 68.390829 57.807012  C 70.37352 54.792476 71.906458 51.505082 72.941277 48.048545  C 73.976096 44.592009 74.501799 41.003068 74.501799 37.394953  L 37.355799 37.394951  L 68.390829 57.807012  z \" style=\"fill:#a1dab4;stroke:#444443;stroke-linejoin:miter;stroke-width:0.5;\" />\n   </g>\n   <g id=\"text_1\">\n    \n    <defs>\n     <path d=\"M 54.890625 33.015625  L 54.890625 0  L 45.90625 0  L 45.90625 32.71875  Q 45.90625 40.484375 42.875 44.328125  Q 39.84375 48.1875 33.796875 48.1875  Q 26.515625 48.1875 22.3125 43.546875  Q 18.109375 38.921875 18.109375 30.90625  L 18.109375 0  L 9.078125 0  L 9.078125 54.6875  L 18.109375 54.6875  L 18.109375 46.1875  Q 21.34375 51.125 25.703125 53.5625  Q 30.078125 56 35.796875 56  Q 45.21875 56 50.046875 50.171875  Q 54.890625 44.34375 54.890625 33.015625  z \" id=\"DejaVuSans-110\" />\n     <path d=\"M 10.59375 45.40625  L 73.1875 45.40625  L 73.1875 37.203125  L 10.59375 37.203125  z M 10.59375 25.484375  L 73.1875 25.484375  L 73.1875 17.1875  L 10.59375 17.1875  z \" id=\"DejaVuSans-61\" />\n     <path d=\"M 10.796875 72.90625  L 49.515625 72.90625  L 49.515625 64.59375  L 19.828125 64.59375  L 19.828125 46.734375  Q 21.96875 47.46875 24.109375 47.828125  Q 26.265625 48.1875 28.421875 48.1875  Q 40.625 48.1875 47.75 41.5  Q 54.890625 34.8125 54.890625 23.390625  Q 54.890625 11.625 47.5625 5.09375  Q 40.234375 -1.421875 26.90625 -1.421875  Q 22.3125 -1.421875 17.546875 -0.640625  Q 12.796875 0.140625 7.71875 1.703125  L 7.71875 11.625  Q 12.109375 9.234375 16.796875 8.0625  Q 21.484375 6.890625 26.703125 6.890625  Q 35.15625 6.890625 40.078125 11.328125  Q 45.015625 15.765625 45.015625 23.390625  Q 45.015625 31 40.078125 35.4375  Q 35.15625 39.890625 26.703125 39.890625  Q 22.75 39.890625 18.8125 39.015625  Q 14.890625 38.140625 10.796875 36.28125  z \" id=\"DejaVuSans-53\" />\n     <path d=\"M 37.796875 64.3125  L 12.890625 25.390625  L 37.796875 25.390625  z M 35.203125 72.90625  L 47.609375 72.90625  L 47.609375 25.390625  L 58.015625 25.390625  L 58.015625 17.1875  L 47.609375 17.1875  L 47.609375 0  L 37.796875 0  L 37.796875 17.1875  L 4.890625 17.1875  L 4.890625 26.703125  z \" id=\"DejaVuSans-52\" />\n    </defs>\n    <g style=\"fill:#444443;\" transform=\"translate(25.006815 84.351225)scale(0.09 -0.09)\">\n     <use xlink:href=\"#DejaVuSans-110\" />\n     <use x=\"63.378906\" xlink:href=\"#DejaVuSans-61\" />\n     <use x=\"147.167969\" xlink:href=\"#DejaVuSans-53\" />\n     <use x=\"210.791016\" xlink:href=\"#DejaVuSans-52\" />\n    </g>\n    \n    <defs>\n     <path d=\"M 2.984375 54.6875  L 12.5 54.6875  L 29.59375 8.796875  L 46.6875 54.6875  L 56.203125 54.6875  L 35.6875 0  L 23.484375 0  z \" id=\"DejaVuSans-118\" />\n     <path d=\"M 56.203125 29.59375  L 56.203125 25.203125  L 14.890625 25.203125  Q 15.484375 15.921875 20.484375 11.0625  Q 25.484375 6.203125 34.421875 6.203125  Q 39.59375 6.203125 44.453125 7.46875  Q 49.3125 8.734375 54.109375 11.28125  L 54.109375 2.78125  Q 49.265625 0.734375 44.1875 -0.34375  Q 39.109375 -1.421875 33.890625 -1.421875  Q 20.796875 -1.421875 13.15625 6.1875  Q 5.515625 13.8125 5.515625 26.8125  Q 5.515625 40.234375 12.765625 48.109375  Q 20.015625 56 32.328125 56  Q 43.359375 56 49.78125 48.890625  Q 56.203125 41.796875 56.203125 29.59375  z M 47.21875 32.234375  Q 47.125 39.59375 43.09375 43.984375  Q 39.0625 48.390625 32.421875 48.390625  Q 24.90625 48.390625 20.390625 44.140625  Q 15.875 39.890625 15.1875 32.171875  z \" id=\"DejaVuSans-101\" />\n     <path d=\"M 41.109375 46.296875  Q 39.59375 47.171875 37.8125 47.578125  Q 36.03125 48 33.890625 48  Q 26.265625 48 22.1875 43.046875  Q 18.109375 38.09375 18.109375 28.8125  L 18.109375 0  L 9.078125 0  L 9.078125 54.6875  L 18.109375 54.6875  L 18.109375 46.1875  Q 20.953125 51.171875 25.484375 53.578125  Q 30.03125 56 36.53125 56  Q 37.453125 56 38.578125 55.875  Q 39.703125 55.765625 41.0625 55.515625  z \" id=\"DejaVuSans-114\" />\n     <path d=\"M 44.28125 53.078125  L 44.28125 44.578125  Q 40.484375 46.53125 36.375 47.5  Q 32.28125 48.484375 27.875 48.484375  Q 21.1875 48.484375 17.84375 46.4375  Q 14.5 44.390625 14.5 40.28125  Q 14.5 37.15625 16.890625 35.375  Q 19.28125 33.59375 26.515625 31.984375  L 29.59375 31.296875  Q 39.15625 29.25 43.1875 25.515625  Q 47.21875 21.78125 47.21875 15.09375  Q 47.21875 7.46875 41.1875 3.015625  Q 35.15625 -1.421875 24.609375 -1.421875  Q 20.21875 -1.421875 15.453125 -0.5625  Q 10.6875 0.296875 5.421875 2  L 5.421875 11.28125  Q 10.40625 8.6875 15.234375 7.390625  Q 20.0625 6.109375 24.8125 6.109375  Q 31.15625 6.109375 34.5625 8.28125  Q 37.984375 10.453125 37.984375 14.40625  Q 37.984375 18.0625 35.515625 20.015625  Q 33.0625 21.96875 24.703125 23.78125  L 21.578125 24.515625  Q 13.234375 26.265625 9.515625 29.90625  Q 5.8125 33.546875 5.8125 39.890625  Q 5.8125 47.609375 11.28125 51.796875  Q 16.75 56 26.8125 56  Q 31.78125 56 36.171875 55.265625  Q 40.578125 54.546875 44.28125 53.078125  z \" id=\"DejaVuSans-115\" />\n     <path d=\"M 9.421875 54.6875  L 18.40625 54.6875  L 18.40625 0  L 9.421875 0  z M 9.421875 75.984375  L 18.40625 75.984375  L 18.40625 64.59375  L 9.421875 64.59375  z \" id=\"DejaVuSans-105\" />\n     <path d=\"M 48.78125 52.59375  L 48.78125 44.1875  Q 44.96875 46.296875 41.140625 47.34375  Q 37.3125 48.390625 33.40625 48.390625  Q 24.65625 48.390625 19.8125 42.84375  Q 14.984375 37.3125 14.984375 27.296875  Q 14.984375 17.28125 19.8125 11.734375  Q 24.65625 6.203125 33.40625 6.203125  Q 37.3125 6.203125 41.140625 7.25  Q 44.96875 8.296875 48.78125 10.40625  L 48.78125 2.09375  Q 45.015625 0.34375 40.984375 -0.53125  Q 36.96875 -1.421875 32.421875 -1.421875  Q 20.0625 -1.421875 12.78125 6.34375  Q 5.515625 14.109375 5.515625 27.296875  Q 5.515625 40.671875 12.859375 48.328125  Q 20.21875 56 33.015625 56  Q 37.15625 56 41.109375 55.140625  Q 45.0625 54.296875 48.78125 52.59375  z \" id=\"DejaVuSans-99\" />\n     <path d=\"M 30.609375 48.390625  Q 23.390625 48.390625 19.1875 42.75  Q 14.984375 37.109375 14.984375 27.296875  Q 14.984375 17.484375 19.15625 11.84375  Q 23.34375 6.203125 30.609375 6.203125  Q 37.796875 6.203125 41.984375 11.859375  Q 46.1875 17.53125 46.1875 27.296875  Q 46.1875 37.015625 41.984375 42.703125  Q 37.796875 48.390625 30.609375 48.390625  z M 30.609375 56  Q 42.328125 56 49.015625 48.375  Q 55.71875 40.765625 55.71875 27.296875  Q 55.71875 13.875 49.015625 6.21875  Q 42.328125 -1.421875 30.609375 -1.421875  Q 18.84375 -1.421875 12.171875 6.21875  Q 5.515625 13.875 5.515625 27.296875  Q 5.515625 40.765625 12.171875 48.375  Q 18.84375 56 30.609375 56  z \" id=\"DejaVuSans-111\" />\n     <path d=\"M 9.421875 75.984375  L 18.40625 75.984375  L 18.40625 0  L 9.421875 0  z \" id=\"DejaVuSans-108\" />\n    </defs>\n    <g style=\"fill:#444443;\" transform=\"translate(15.397908 94.429256)scale(0.09 -0.09)\">\n     <use xlink:href=\"#DejaVuSans-118\" />\n     <use x=\"59.179688\" xlink:href=\"#DejaVuSans-101\" />\n     <use x=\"120.703125\" xlink:href=\"#DejaVuSans-114\" />\n     <use x=\"161.816406\" xlink:href=\"#DejaVuSans-115\" />\n     <use x=\"213.916016\" xlink:href=\"#DejaVuSans-105\" />\n     <use x=\"241.699219\" xlink:href=\"#DejaVuSans-99\" />\n     <use x=\"296.679688\" xlink:href=\"#DejaVuSans-111\" />\n     <use x=\"357.861328\" xlink:href=\"#DejaVuSans-108\" />\n     <use x=\"385.644531\" xlink:href=\"#DejaVuSans-111\" />\n     <use x=\"446.826172\" xlink:href=\"#DejaVuSans-114\" />\n    </g>\n   </g>\n  </g>\n </g>\n</svg></g>\n\n<g class=\"edge\" id=\"edge1\">\n<title>node2-&gt;leaf3</title>\n<path d=\"M140.7435,-108.8979C137.1391,-101.0746 133.0974,-92.3022 129.1367,-83.7059\" fill=\"none\" stroke=\"#444443\" stroke-width=\".3\" />\n<polygon fill=\"#444443\" points=\"130.3912,-83.0829 127.4458,-80.0358 127.8482,-84.2546 130.3912,-83.0829\" stroke=\"#444443\" stroke-width=\".3\" />\n</g>\n\n<g class=\"node\" id=\"node4\">\n<title>leaf4</title>\n<polygon fill=\"none\" points=\"211,-76.5 155,-76.5 155,-3.5 211,-3.5 211,-76.5\" stroke=\"#444443\" stroke-width=\"0\" />\n<svg height=\"65px\" preserveAspectRatio=\"xMinYMin meet\" version=\"1.1\" viewBox=\"0 0 64.835917 86.25651\" width=\"48px\" x=\"159\" y=\"-72\">\n <defs>\n  <style type=\"text/css\">\n*{stroke-linecap:butt;stroke-linejoin:round;}\n  </style>\n </defs>\n <g id=\"figure_1\">\n  <g id=\"patch_1\">\n   <path d=\"M 0 86.25651  L 64.835917 86.25651  L 64.835917 0  L 0 0  z \" style=\"fill:#ffffff;\" />\n  </g>\n  <g id=\"axes_1\">\n   <g id=\"patch_2\">\n    <path d=\"M 64.835917 32.569046  C 64.835917 32.569046 64.835917 32.569046 64.835917 32.569046  L 32.521917 32.569046  L 64.835917 32.569046  z \" style=\"fill:#fefebb;stroke:#444443;stroke-linejoin:miter;stroke-width:0.5;\" />\n   </g>\n   <g id=\"patch_3\">\n    <path d=\"M 64.835917 32.569046  C 64.835917 31.833341 64.810792 31.097851 64.760586 30.363861  C 64.710379 29.629871 64.635121 28.89781 64.534943 28.168957  L 32.521917 32.569046  L 64.835917 32.569046  z \" style=\"fill:#d9e6f5;stroke:#444443;stroke-linejoin:miter;stroke-width:0.5;\" />\n   </g>\n   <g id=\"patch_4\">\n    <path d=\"M 64.534943 28.168957  C 63.969767 24.056997 62.617598 20.092179 60.552525 16.491746  C 58.487453 12.891313 55.747896 9.722249 52.483962 7.158195  C 49.220027 4.594141 45.492439 2.682799 41.505441 1.528897  C 37.518444 0.374995 33.346211 0 29.217353 0.42446  C 25.088494 0.848919 21.079823 2.064936 17.410985 4.005882  C 13.742148 5.946828 10.481399 8.576593 7.807406 11.751085  C 5.133412 14.925576 3.09592 18.585736 1.806571 22.531014  C 0.517221 26.476292 0 30.633289 0.283248 34.774232  C 0.566497 38.915175 1.644945 42.963026 3.459501 46.695991  C 5.274057 50.428955 7.790963 53.777586 10.872311 56.558401  C 13.953659 59.339217 17.542123 61.500483 21.441081 62.923777  C 25.340039 64.347071 29.476954 65.005915 33.625154 64.864208  C 37.773353 64.722501 41.855663 63.78288 45.648403 62.096829  C 49.441142 60.410779 52.87375 58.009665 55.758145 55.025054  C 58.64254 52.040443 60.92506 48.527859 62.480639 44.679766  C 64.036219 40.831674 64.835917 36.719664 64.835917 32.569045  L 32.521917 32.569046  L 64.534943 28.168957  z \" style=\"fill:#a1dab4;stroke:#444443;stroke-linejoin:miter;stroke-width:0.5;\" />\n   </g>\n   <g id=\"text_1\">\n    \n    <defs>\n     <path d=\"M 54.890625 33.015625  L 54.890625 0  L 45.90625 0  L 45.90625 32.71875  Q 45.90625 40.484375 42.875 44.328125  Q 39.84375 48.1875 33.796875 48.1875  Q 26.515625 48.1875 22.3125 43.546875  Q 18.109375 38.921875 18.109375 30.90625  L 18.109375 0  L 9.078125 0  L 9.078125 54.6875  L 18.109375 54.6875  L 18.109375 46.1875  Q 21.34375 51.125 25.703125 53.5625  Q 30.078125 56 35.796875 56  Q 45.21875 56 50.046875 50.171875  Q 54.890625 44.34375 54.890625 33.015625  z \" id=\"DejaVuSans-110\" />\n     <path d=\"M 10.59375 45.40625  L 73.1875 45.40625  L 73.1875 37.203125  L 10.59375 37.203125  z M 10.59375 25.484375  L 73.1875 25.484375  L 73.1875 17.1875  L 10.59375 17.1875  z \" id=\"DejaVuSans-61\" />\n     <path d=\"M 37.796875 64.3125  L 12.890625 25.390625  L 37.796875 25.390625  z M 35.203125 72.90625  L 47.609375 72.90625  L 47.609375 25.390625  L 58.015625 25.390625  L 58.015625 17.1875  L 47.609375 17.1875  L 47.609375 0  L 37.796875 0  L 37.796875 17.1875  L 4.890625 17.1875  L 4.890625 26.703125  z \" id=\"DejaVuSans-52\" />\n     <path d=\"M 33.015625 40.375  Q 26.375 40.375 22.484375 35.828125  Q 18.609375 31.296875 18.609375 23.390625  Q 18.609375 15.53125 22.484375 10.953125  Q 26.375 6.390625 33.015625 6.390625  Q 39.65625 6.390625 43.53125 10.953125  Q 47.40625 15.53125 47.40625 23.390625  Q 47.40625 31.296875 43.53125 35.828125  Q 39.65625 40.375 33.015625 40.375  z M 52.59375 71.296875  L 52.59375 62.3125  Q 48.875 64.0625 45.09375 64.984375  Q 41.3125 65.921875 37.59375 65.921875  Q 27.828125 65.921875 22.671875 59.328125  Q 17.53125 52.734375 16.796875 39.40625  Q 19.671875 43.65625 24.015625 45.921875  Q 28.375 48.1875 33.59375 48.1875  Q 44.578125 48.1875 50.953125 41.515625  Q 57.328125 34.859375 57.328125 23.390625  Q 57.328125 12.15625 50.6875 5.359375  Q 44.046875 -1.421875 33.015625 -1.421875  Q 20.359375 -1.421875 13.671875 8.265625  Q 6.984375 17.96875 6.984375 36.375  Q 6.984375 53.65625 15.1875 63.9375  Q 23.390625 74.21875 37.203125 74.21875  Q 40.921875 74.21875 44.703125 73.484375  Q 48.484375 72.75 52.59375 71.296875  z \" id=\"DejaVuSans-54\" />\n    </defs>\n    <g style=\"fill:#444443;\" transform=\"translate(20.172933 74.30676)scale(0.09 -0.09)\">\n     <use xlink:href=\"#DejaVuSans-110\" />\n     <use x=\"63.378906\" xlink:href=\"#DejaVuSans-61\" />\n     <use x=\"147.167969\" xlink:href=\"#DejaVuSans-52\" />\n     <use x=\"210.791016\" xlink:href=\"#DejaVuSans-54\" />\n    </g>\n    \n    <defs>\n     <path d=\"M 2.984375 54.6875  L 12.5 54.6875  L 29.59375 8.796875  L 46.6875 54.6875  L 56.203125 54.6875  L 35.6875 0  L 23.484375 0  z \" id=\"DejaVuSans-118\" />\n     <path d=\"M 9.421875 54.6875  L 18.40625 54.6875  L 18.40625 0  L 9.421875 0  z M 9.421875 75.984375  L 18.40625 75.984375  L 18.40625 64.59375  L 9.421875 64.59375  z \" id=\"DejaVuSans-105\" />\n     <path d=\"M 41.109375 46.296875  Q 39.59375 47.171875 37.8125 47.578125  Q 36.03125 48 33.890625 48  Q 26.265625 48 22.1875 43.046875  Q 18.109375 38.09375 18.109375 28.8125  L 18.109375 0  L 9.078125 0  L 9.078125 54.6875  L 18.109375 54.6875  L 18.109375 46.1875  Q 20.953125 51.171875 25.484375 53.578125  Q 30.03125 56 36.53125 56  Q 37.453125 56 38.578125 55.875  Q 39.703125 55.765625 41.0625 55.515625  z \" id=\"DejaVuSans-114\" />\n     <path d=\"M 45.40625 27.984375  Q 45.40625 37.75 41.375 43.109375  Q 37.359375 48.484375 30.078125 48.484375  Q 22.859375 48.484375 18.828125 43.109375  Q 14.796875 37.75 14.796875 27.984375  Q 14.796875 18.265625 18.828125 12.890625  Q 22.859375 7.515625 30.078125 7.515625  Q 37.359375 7.515625 41.375 12.890625  Q 45.40625 18.265625 45.40625 27.984375  z M 54.390625 6.78125  Q 54.390625 -7.171875 48.1875 -13.984375  Q 42 -20.796875 29.203125 -20.796875  Q 24.46875 -20.796875 20.265625 -20.09375  Q 16.0625 -19.390625 12.109375 -17.921875  L 12.109375 -9.1875  Q 16.0625 -11.328125 19.921875 -12.34375  Q 23.78125 -13.375 27.78125 -13.375  Q 36.625 -13.375 41.015625 -8.765625  Q 45.40625 -4.15625 45.40625 5.171875  L 45.40625 9.625  Q 42.625 4.78125 38.28125 2.390625  Q 33.9375 0 27.875 0  Q 17.828125 0 11.671875 7.65625  Q 5.515625 15.328125 5.515625 27.984375  Q 5.515625 40.671875 11.671875 48.328125  Q 17.828125 56 27.875 56  Q 33.9375 56 38.28125 53.609375  Q 42.625 51.21875 45.40625 46.390625  L 45.40625 54.6875  L 54.390625 54.6875  z \" id=\"DejaVuSans-103\" />\n     <path d=\"M 48.78125 52.59375  L 48.78125 44.1875  Q 44.96875 46.296875 41.140625 47.34375  Q 37.3125 48.390625 33.40625 48.390625  Q 24.65625 48.390625 19.8125 42.84375  Q 14.984375 37.3125 14.984375 27.296875  Q 14.984375 17.28125 19.8125 11.734375  Q 24.65625 6.203125 33.40625 6.203125  Q 37.3125 6.203125 41.140625 7.25  Q 44.96875 8.296875 48.78125 10.40625  L 48.78125 2.09375  Q 45.015625 0.34375 40.984375 -0.53125  Q 36.96875 -1.421875 32.421875 -1.421875  Q 20.0625 -1.421875 12.78125 6.34375  Q 5.515625 14.109375 5.515625 27.296875  Q 5.515625 40.671875 12.859375 48.328125  Q 20.21875 56 33.015625 56  Q 37.15625 56 41.109375 55.140625  Q 45.0625 54.296875 48.78125 52.59375  z \" id=\"DejaVuSans-99\" />\n     <path d=\"M 34.28125 27.484375  Q 23.390625 27.484375 19.1875 25  Q 14.984375 22.515625 14.984375 16.5  Q 14.984375 11.71875 18.140625 8.90625  Q 21.296875 6.109375 26.703125 6.109375  Q 34.1875 6.109375 38.703125 11.40625  Q 43.21875 16.703125 43.21875 25.484375  L 43.21875 27.484375  z M 52.203125 31.203125  L 52.203125 0  L 43.21875 0  L 43.21875 8.296875  Q 40.140625 3.328125 35.546875 0.953125  Q 30.953125 -1.421875 24.3125 -1.421875  Q 15.921875 -1.421875 10.953125 3.296875  Q 6 8.015625 6 15.921875  Q 6 25.140625 12.171875 29.828125  Q 18.359375 34.515625 30.609375 34.515625  L 43.21875 34.515625  L 43.21875 35.40625  Q 43.21875 41.609375 39.140625 45  Q 35.0625 48.390625 27.6875 48.390625  Q 23 48.390625 18.546875 47.265625  Q 14.109375 46.140625 10.015625 43.890625  L 10.015625 52.203125  Q 14.9375 54.109375 19.578125 55.046875  Q 24.21875 56 28.609375 56  Q 40.484375 56 46.34375 49.84375  Q 52.203125 43.703125 52.203125 31.203125  z \" id=\"DejaVuSans-97\" />\n    </defs>\n    <g style=\"fill:#444443;\" transform=\"translate(13.396214 84.384791)scale(0.09 -0.09)\">\n     <use xlink:href=\"#DejaVuSans-118\" />\n     <use x=\"59.179688\" xlink:href=\"#DejaVuSans-105\" />\n     <use x=\"86.962891\" xlink:href=\"#DejaVuSans-114\" />\n     <use x=\"126.326172\" xlink:href=\"#DejaVuSans-103\" />\n     <use x=\"189.802734\" xlink:href=\"#DejaVuSans-105\" />\n     <use x=\"217.585938\" xlink:href=\"#DejaVuSans-110\" />\n     <use x=\"280.964844\" xlink:href=\"#DejaVuSans-105\" />\n     <use x=\"308.748047\" xlink:href=\"#DejaVuSans-99\" />\n     <use x=\"363.728516\" xlink:href=\"#DejaVuSans-97\" />\n    </g>\n   </g>\n  </g>\n </g>\n</svg></g>\n\n<g class=\"edge\" id=\"edge2\">\n<title>node2-&gt;leaf4</title>\n<path d=\"M161.3567,-108.8979C164.0873,-100.2054 167.186,-90.3411 170.168,-80.8485\" fill=\"none\" stroke=\"#444443\" stroke-width=\".3\" />\n<polygon fill=\"#444443\" points=\"171.5742,-81.0433 171.4374,-76.8075 168.9029,-80.2041 171.5742,-81.0433\" stroke=\"#444443\" stroke-width=\".3\" />\n</g>\n\n<g class=\"node\" id=\"node2\">\n<title>node0</title>\n<svg height=\"86px\" preserveAspectRatio=\"xMinYMin meet\" version=\"1.1\" viewBox=\"0 0 201.32 114.935625\" width=\"151px\" x=\"16\" y=\"-295\">\n <defs>\n  <style type=\"text/css\">\n*{stroke-linecap:butt;stroke-linejoin:round;}\n  </style>\n </defs>\n <g id=\"figure_1\">\n  <g id=\"patch_1\">\n   <path d=\"M 0 114.935625  L 201.32 114.935625  L 201.32 0  L 0 0  z \" style=\"fill:#ffffff;\" />\n  </g>\n  <g id=\"axes_1\">\n   <g id=\"patch_2\">\n    <path d=\"M 17.18 84.579375  L 201.32 84.579375  L 201.32 3.039375  L 17.18 3.039375  z \" style=\"fill:#ffffff;\" />\n   </g>\n   <g id=\"patch_3\">\n    <path clip-path=\"url(#p04cb7ff86c)\" d=\"M 17.761571 84.579375  L 28.024593 84.579375  L 28.024593 3.039375  L 17.761571 3.039375  z \" style=\"fill:#fefebb;stroke:#444443;stroke-linejoin:miter;stroke-width:0.5;\" />\n   </g>\n   <g id=\"patch_4\">\n    <path clip-path=\"url(#p04cb7ff86c)\" d=\"M 28.024593 84.579375  L 38.287616 84.579375  L 38.287616 67.791728  L 28.024593 67.791728  z \" style=\"fill:#fefebb;stroke:#444443;stroke-linejoin:miter;stroke-width:0.5;\" />\n   </g>\n   <g id=\"patch_5\">\n    <path clip-path=\"url(#p04cb7ff86c)\" d=\"M 38.287616 84.579375  L 48.550638 84.579375  L 48.550638 65.393493  L 38.287616 65.393493  z \" style=\"fill:#fefebb;stroke:#444443;stroke-linejoin:miter;stroke-width:0.5;\" />\n   </g>\n   <g id=\"patch_6\">\n    <path clip-path=\"url(#p04cb7ff86c)\" d=\"M 48.550638 84.579375  L 58.81366 84.579375  L 58.81366 82.18114  L 48.550638 82.18114  z \" style=\"fill:#fefebb;stroke:#444443;stroke-linejoin:miter;stroke-width:0.5;\" />\n   </g>\n   <g id=\"patch_7\">\n    <path clip-path=\"url(#p04cb7ff86c)\" d=\"M 58.81366 84.579375  L 69.076682 84.579375  L 69.076682 84.579375  L 58.81366 84.579375  z \" style=\"fill:#fefebb;stroke:#444443;stroke-linejoin:miter;stroke-width:0.5;\" />\n   </g>\n   <g id=\"patch_8\">\n    <path clip-path=\"url(#p04cb7ff86c)\" d=\"M 69.076682 84.579375  L 79.339705 84.579375  L 79.339705 84.579375  L 69.076682 84.579375  z \" style=\"fill:#fefebb;stroke:#444443;stroke-linejoin:miter;stroke-width:0.5;\" />\n   </g>\n   <g id=\"patch_9\">\n    <path clip-path=\"url(#p04cb7ff86c)\" d=\"M 79.339705 84.579375  L 89.602727 84.579375  L 89.602727 84.579375  L 79.339705 84.579375  z \" style=\"fill:#fefebb;stroke:#444443;stroke-linejoin:miter;stroke-width:0.5;\" />\n   </g>\n   <g id=\"patch_10\">\n    <path clip-path=\"url(#p04cb7ff86c)\" d=\"M 89.602727 84.579375  L 99.865749 84.579375  L 99.865749 84.579375  L 89.602727 84.579375  z \" style=\"fill:#fefebb;stroke:#444443;stroke-linejoin:miter;stroke-width:0.5;\" />\n   </g>\n   <g id=\"patch_11\">\n    <path clip-path=\"url(#p04cb7ff86c)\" d=\"M 99.865749 84.579375  L 110.128771 84.579375  L 110.128771 84.579375  L 99.865749 84.579375  z \" style=\"fill:#fefebb;stroke:#444443;stroke-linejoin:miter;stroke-width:0.5;\" />\n   </g>\n   <g id=\"patch_12\">\n    <path clip-path=\"url(#p04cb7ff86c)\" d=\"M 110.128771 84.579375  L 120.391794 84.579375  L 120.391794 84.579375  L 110.128771 84.579375  z \" style=\"fill:#fefebb;stroke:#444443;stroke-linejoin:miter;stroke-width:0.5;\" />\n   </g>\n   <g id=\"patch_13\">\n    <path clip-path=\"url(#p04cb7ff86c)\" d=\"M 120.391794 84.579375  L 130.654816 84.579375  L 130.654816 84.579375  L 120.391794 84.579375  z \" style=\"fill:#fefebb;stroke:#444443;stroke-linejoin:miter;stroke-width:0.5;\" />\n   </g>\n   <g id=\"patch_14\">\n    <path clip-path=\"url(#p04cb7ff86c)\" d=\"M 130.654816 84.579375  L 140.917838 84.579375  L 140.917838 84.579375  L 130.654816 84.579375  z \" style=\"fill:#fefebb;stroke:#444443;stroke-linejoin:miter;stroke-width:0.5;\" />\n   </g>\n   <g id=\"patch_15\">\n    <path clip-path=\"url(#p04cb7ff86c)\" d=\"M 140.917838 84.579375  L 151.18086 84.579375  L 151.18086 84.579375  L 140.917838 84.579375  z \" style=\"fill:#fefebb;stroke:#444443;stroke-linejoin:miter;stroke-width:0.5;\" />\n   </g>\n   <g id=\"patch_16\">\n    <path clip-path=\"url(#p04cb7ff86c)\" d=\"M 151.18086 84.579375  L 161.443882 84.579375  L 161.443882 84.579375  L 151.18086 84.579375  z \" style=\"fill:#fefebb;stroke:#444443;stroke-linejoin:miter;stroke-width:0.5;\" />\n   </g>\n   <g id=\"patch_17\">\n    <path clip-path=\"url(#p04cb7ff86c)\" d=\"M 161.443882 84.579375  L 171.706905 84.579375  L 171.706905 84.579375  L 161.443882 84.579375  z \" style=\"fill:#fefebb;stroke:#444443;stroke-linejoin:miter;stroke-width:0.5;\" />\n   </g>\n   <g id=\"patch_18\">\n    <path clip-path=\"url(#p04cb7ff86c)\" d=\"M 171.706905 84.579375  L 181.969927 84.579375  L 181.969927 84.579375  L 171.706905 84.579375  z \" style=\"fill:#fefebb;stroke:#444443;stroke-linejoin:miter;stroke-width:0.5;\" />\n   </g>\n   <g id=\"patch_19\">\n    <path clip-path=\"url(#p04cb7ff86c)\" d=\"M 181.969927 84.579375  L 192.232949 84.579375  L 192.232949 84.579375  L 181.969927 84.579375  z \" style=\"fill:#fefebb;stroke:#444443;stroke-linejoin:miter;stroke-width:0.5;\" />\n   </g>\n   <g id=\"patch_20\">\n    <path clip-path=\"url(#p04cb7ff86c)\" d=\"M 17.761571 3.039375  L 28.024593 3.039375  L 28.024593 3.039375  L 17.761571 3.039375  z \" style=\"fill:#d9e6f5;stroke:#444443;stroke-linejoin:miter;stroke-width:0.5;\" />\n   </g>\n   <g id=\"patch_21\">\n    <path clip-path=\"url(#p04cb7ff86c)\" d=\"M 28.024593 67.791728  L 38.287616 67.791728  L 38.287616 67.791728  L 28.024593 67.791728  z \" style=\"fill:#d9e6f5;stroke:#444443;stroke-linejoin:miter;stroke-width:0.5;\" />\n   </g>\n   <g id=\"patch_22\">\n    <path clip-path=\"url(#p04cb7ff86c)\" d=\"M 38.287616 65.393493  L 48.550638 65.393493  L 48.550638 65.393493  L 38.287616 65.393493  z \" style=\"fill:#d9e6f5;stroke:#444443;stroke-linejoin:miter;stroke-width:0.5;\" />\n   </g>\n   <g id=\"patch_23\">\n    <path clip-path=\"url(#p04cb7ff86c)\" d=\"M 48.550638 82.18114  L 58.81366 82.18114  L 58.81366 82.18114  L 48.550638 82.18114  z \" style=\"fill:#d9e6f5;stroke:#444443;stroke-linejoin:miter;stroke-width:0.5;\" />\n   </g>\n   <g id=\"patch_24\">\n    <path clip-path=\"url(#p04cb7ff86c)\" d=\"M 58.81366 84.579375  L 69.076682 84.579375  L 69.076682 84.579375  L 58.81366 84.579375  z \" style=\"fill:#d9e6f5;stroke:#444443;stroke-linejoin:miter;stroke-width:0.5;\" />\n   </g>\n   <g id=\"patch_25\">\n    <path clip-path=\"url(#p04cb7ff86c)\" d=\"M 69.076682 84.579375  L 79.339705 84.579375  L 79.339705 84.579375  L 69.076682 84.579375  z \" style=\"fill:#d9e6f5;stroke:#444443;stroke-linejoin:miter;stroke-width:0.5;\" />\n   </g>\n   <g id=\"patch_26\">\n    <path clip-path=\"url(#p04cb7ff86c)\" d=\"M 79.339705 84.579375  L 89.602727 84.579375  L 89.602727 67.791728  L 79.339705 67.791728  z \" style=\"fill:#d9e6f5;stroke:#444443;stroke-linejoin:miter;stroke-width:0.5;\" />\n   </g>\n   <g id=\"patch_27\">\n    <path clip-path=\"url(#p04cb7ff86c)\" d=\"M 89.602727 84.579375  L 99.865749 84.579375  L 99.865749 65.393493  L 89.602727 65.393493  z \" style=\"fill:#d9e6f5;stroke:#444443;stroke-linejoin:miter;stroke-width:0.5;\" />\n   </g>\n   <g id=\"patch_28\">\n    <path clip-path=\"url(#p04cb7ff86c)\" d=\"M 99.865749 84.579375  L 110.128771 84.579375  L 110.128771 53.402316  L 99.865749 53.402316  z \" style=\"fill:#d9e6f5;stroke:#444443;stroke-linejoin:miter;stroke-width:0.5;\" />\n   </g>\n   <g id=\"patch_29\">\n    <path clip-path=\"url(#p04cb7ff86c)\" d=\"M 110.128771 84.579375  L 120.391794 84.579375  L 120.391794 43.809375  L 110.128771 43.809375  z \" style=\"fill:#d9e6f5;stroke:#444443;stroke-linejoin:miter;stroke-width:0.5;\" />\n   </g>\n   <g id=\"patch_30\">\n    <path clip-path=\"url(#p04cb7ff86c)\" d=\"M 120.391794 84.579375  L 130.654816 84.579375  L 130.654816 77.384669  L 120.391794 77.384669  z \" style=\"fill:#d9e6f5;stroke:#444443;stroke-linejoin:miter;stroke-width:0.5;\" />\n   </g>\n   <g id=\"patch_31\">\n    <path clip-path=\"url(#p04cb7ff86c)\" d=\"M 130.654816 84.579375  L 140.917838 84.579375  L 140.917838 82.18114  L 130.654816 82.18114  z \" style=\"fill:#d9e6f5;stroke:#444443;stroke-linejoin:miter;stroke-width:0.5;\" />\n   </g>\n   <g id=\"patch_32\">\n    <path clip-path=\"url(#p04cb7ff86c)\" d=\"M 140.917838 84.579375  L 151.18086 84.579375  L 151.18086 82.18114  L 140.917838 82.18114  z \" style=\"fill:#d9e6f5;stroke:#444443;stroke-linejoin:miter;stroke-width:0.5;\" />\n   </g>\n   <g id=\"patch_33\">\n    <path clip-path=\"url(#p04cb7ff86c)\" d=\"M 151.18086 84.579375  L 161.443882 84.579375  L 161.443882 84.579375  L 151.18086 84.579375  z \" style=\"fill:#d9e6f5;stroke:#444443;stroke-linejoin:miter;stroke-width:0.5;\" />\n   </g>\n   <g id=\"patch_34\">\n    <path clip-path=\"url(#p04cb7ff86c)\" d=\"M 161.443882 84.579375  L 171.706905 84.579375  L 171.706905 84.579375  L 161.443882 84.579375  z \" style=\"fill:#d9e6f5;stroke:#444443;stroke-linejoin:miter;stroke-width:0.5;\" />\n   </g>\n   <g id=\"patch_35\">\n    <path clip-path=\"url(#p04cb7ff86c)\" d=\"M 171.706905 84.579375  L 181.969927 84.579375  L 181.969927 84.579375  L 171.706905 84.579375  z \" style=\"fill:#d9e6f5;stroke:#444443;stroke-linejoin:miter;stroke-width:0.5;\" />\n   </g>\n   <g id=\"patch_36\">\n    <path clip-path=\"url(#p04cb7ff86c)\" d=\"M 181.969927 84.579375  L 192.232949 84.579375  L 192.232949 84.579375  L 181.969927 84.579375  z \" style=\"fill:#d9e6f5;stroke:#444443;stroke-linejoin:miter;stroke-width:0.5;\" />\n   </g>\n   <g id=\"patch_37\">\n    <path clip-path=\"url(#p04cb7ff86c)\" d=\"M 17.761571 3.039375  L 28.024593 3.039375  L 28.024593 3.039375  L 17.761571 3.039375  z \" style=\"fill:#a1dab4;stroke:#444443;stroke-linejoin:miter;stroke-width:0.5;\" />\n   </g>\n   <g id=\"patch_38\">\n    <path clip-path=\"url(#p04cb7ff86c)\" d=\"M 28.024593 67.791728  L 38.287616 67.791728  L 38.287616 67.791728  L 28.024593 67.791728  z \" style=\"fill:#a1dab4;stroke:#444443;stroke-linejoin:miter;stroke-width:0.5;\" />\n   </g>\n   <g id=\"patch_39\">\n    <path clip-path=\"url(#p04cb7ff86c)\" d=\"M 38.287616 65.393493  L 48.550638 65.393493  L 48.550638 65.393493  L 38.287616 65.393493  z \" style=\"fill:#a1dab4;stroke:#444443;stroke-linejoin:miter;stroke-width:0.5;\" />\n   </g>\n   <g id=\"patch_40\">\n    <path clip-path=\"url(#p04cb7ff86c)\" d=\"M 48.550638 82.18114  L 58.81366 82.18114  L 58.81366 82.18114  L 48.550638 82.18114  z \" style=\"fill:#a1dab4;stroke:#444443;stroke-linejoin:miter;stroke-width:0.5;\" />\n   </g>\n   <g id=\"patch_41\">\n    <path clip-path=\"url(#p04cb7ff86c)\" d=\"M 58.81366 84.579375  L 69.076682 84.579375  L 69.076682 84.579375  L 58.81366 84.579375  z \" style=\"fill:#a1dab4;stroke:#444443;stroke-linejoin:miter;stroke-width:0.5;\" />\n   </g>\n   <g id=\"patch_42\">\n    <path clip-path=\"url(#p04cb7ff86c)\" d=\"M 69.076682 84.579375  L 79.339705 84.579375  L 79.339705 84.579375  L 69.076682 84.579375  z \" style=\"fill:#a1dab4;stroke:#444443;stroke-linejoin:miter;stroke-width:0.5;\" />\n   </g>\n   <g id=\"patch_43\">\n    <path clip-path=\"url(#p04cb7ff86c)\" d=\"M 79.339705 67.791728  L 89.602727 67.791728  L 89.602727 67.791728  L 79.339705 67.791728  z \" style=\"fill:#a1dab4;stroke:#444443;stroke-linejoin:miter;stroke-width:0.5;\" />\n   </g>\n   <g id=\"patch_44\">\n    <path clip-path=\"url(#p04cb7ff86c)\" d=\"M 89.602727 65.393493  L 99.865749 65.393493  L 99.865749 65.393493  L 89.602727 65.393493  z \" style=\"fill:#a1dab4;stroke:#444443;stroke-linejoin:miter;stroke-width:0.5;\" />\n   </g>\n   <g id=\"patch_45\">\n    <path clip-path=\"url(#p04cb7ff86c)\" d=\"M 99.865749 53.402316  L 110.128771 53.402316  L 110.128771 53.402316  L 99.865749 53.402316  z \" style=\"fill:#a1dab4;stroke:#444443;stroke-linejoin:miter;stroke-width:0.5;\" />\n   </g>\n   <g id=\"patch_46\">\n    <path clip-path=\"url(#p04cb7ff86c)\" d=\"M 110.128771 43.809375  L 120.391794 43.809375  L 120.391794 36.614669  L 110.128771 36.614669  z \" style=\"fill:#a1dab4;stroke:#444443;stroke-linejoin:miter;stroke-width:0.5;\" />\n   </g>\n   <g id=\"patch_47\">\n    <path clip-path=\"url(#p04cb7ff86c)\" d=\"M 120.391794 77.384669  L 130.654816 77.384669  L 130.654816 74.986434  L 120.391794 74.986434  z \" style=\"fill:#a1dab4;stroke:#444443;stroke-linejoin:miter;stroke-width:0.5;\" />\n   </g>\n   <g id=\"patch_48\">\n    <path clip-path=\"url(#p04cb7ff86c)\" d=\"M 130.654816 82.18114  L 140.917838 82.18114  L 140.917838 79.782904  L 130.654816 79.782904  z \" style=\"fill:#a1dab4;stroke:#444443;stroke-linejoin:miter;stroke-width:0.5;\" />\n   </g>\n   <g id=\"patch_49\">\n    <path clip-path=\"url(#p04cb7ff86c)\" d=\"M 140.917838 82.18114  L 151.18086 82.18114  L 151.18086 43.809375  L 140.917838 43.809375  z \" style=\"fill:#a1dab4;stroke:#444443;stroke-linejoin:miter;stroke-width:0.5;\" />\n   </g>\n   <g id=\"patch_50\">\n    <path clip-path=\"url(#p04cb7ff86c)\" d=\"M 151.18086 84.579375  L 161.443882 84.579375  L 161.443882 70.189963  L 151.18086 70.189963  z \" style=\"fill:#a1dab4;stroke:#444443;stroke-linejoin:miter;stroke-width:0.5;\" />\n   </g>\n   <g id=\"patch_51\">\n    <path clip-path=\"url(#p04cb7ff86c)\" d=\"M 161.443882 84.579375  L 171.706905 84.579375  L 171.706905 62.995257  L 161.443882 62.995257  z \" style=\"fill:#a1dab4;stroke:#444443;stroke-linejoin:miter;stroke-width:0.5;\" />\n   </g>\n   <g id=\"patch_52\">\n    <path clip-path=\"url(#p04cb7ff86c)\" d=\"M 171.706905 84.579375  L 181.969927 84.579375  L 181.969927 65.393493  L 171.706905 65.393493  z \" style=\"fill:#a1dab4;stroke:#444443;stroke-linejoin:miter;stroke-width:0.5;\" />\n   </g>\n   <g id=\"patch_53\">\n    <path clip-path=\"url(#p04cb7ff86c)\" d=\"M 181.969927 84.579375  L 192.232949 84.579375  L 192.232949 70.189963  L 181.969927 70.189963  z \" style=\"fill:#a1dab4;stroke:#444443;stroke-linejoin:miter;stroke-width:0.5;\" />\n   </g>\n   <g id=\"patch_54\">\n    <path d=\"M 68.649057 85.394775  L 65.334537 92.733375  L 71.963577 92.733375  z \" style=\"fill:#444443;\" />\n   </g>\n   <g id=\"matplotlib.axis_1\">\n    <g id=\"xtick_1\">\n     <g id=\"line2d_1\">\n      <defs>\n       <path d=\"M 0 0  L 0 3.5  \" id=\"m1709a30527\" style=\"stroke:#000000;stroke-width:0.3;\" />\n      </defs>\n      <g>\n       <use style=\"stroke:#000000;stroke-width:0.3;\" x=\"17.761571\" y=\"84.579375\" xlink:href=\"#m1709a30527\" />\n      </g>\n     </g>\n     <g id=\"text_1\">\n      \n      <defs>\n       <path d=\"M 31.78125 66.40625  Q 24.171875 66.40625 20.328125 58.90625  Q 16.5 51.421875 16.5 36.375  Q 16.5 21.390625 20.328125 13.890625  Q 24.171875 6.390625 31.78125 6.390625  Q 39.453125 6.390625 43.28125 13.890625  Q 47.125 21.390625 47.125 36.375  Q 47.125 51.421875 43.28125 58.90625  Q 39.453125 66.40625 31.78125 66.40625  z M 31.78125 74.21875  Q 44.046875 74.21875 50.515625 64.515625  Q 56.984375 54.828125 56.984375 36.375  Q 56.984375 17.96875 50.515625 8.265625  Q 44.046875 -1.421875 31.78125 -1.421875  Q 19.53125 -1.421875 13.0625 8.265625  Q 6.59375 17.96875 6.59375 36.375  Q 6.59375 54.828125 13.0625 64.515625  Q 19.53125 74.21875 31.78125 74.21875  z \" id=\"DejaVuSans-48\" />\n       <path d=\"M 10.6875 12.40625  L 21 12.40625  L 21 0  L 10.6875 0  z \" id=\"DejaVuSans-46\" />\n       <path d=\"M 12.40625 8.296875  L 28.515625 8.296875  L 28.515625 63.921875  L 10.984375 60.40625  L 10.984375 69.390625  L 28.421875 72.90625  L 38.28125 72.90625  L 38.28125 8.296875  L 54.390625 8.296875  L 54.390625 0  L 12.40625 0  z \" id=\"DejaVuSans-49\" />\n      </defs>\n      <g style=\"fill:#444443;\" transform=\"translate(11.400321 97.658125)scale(0.08 -0.08)\">\n       <use xlink:href=\"#DejaVuSans-48\" />\n       <use x=\"63.623047\" xlink:href=\"#DejaVuSans-46\" />\n       <use x=\"95.410156\" xlink:href=\"#DejaVuSans-49\" />\n      </g>\n     </g>\n    </g>\n    <g id=\"xtick_2\">\n     <g id=\"line2d_2\">\n      <g>\n       <use style=\"stroke:#000000;stroke-width:0.3;\" x=\"192.232949\" y=\"84.579375\" xlink:href=\"#m1709a30527\" />\n      </g>\n     </g>\n     <g id=\"text_2\">\n      \n      <defs>\n       <path d=\"M 19.1875 8.296875  L 53.609375 8.296875  L 53.609375 0  L 7.328125 0  L 7.328125 8.296875  Q 12.9375 14.109375 22.625 23.890625  Q 32.328125 33.6875 34.8125 36.53125  Q 39.546875 41.84375 41.421875 45.53125  Q 43.3125 49.21875 43.3125 52.78125  Q 43.3125 58.59375 39.234375 62.25  Q 35.15625 65.921875 28.609375 65.921875  Q 23.96875 65.921875 18.8125 64.3125  Q 13.671875 62.703125 7.8125 59.421875  L 7.8125 69.390625  Q 13.765625 71.78125 18.9375 73  Q 24.125 74.21875 28.421875 74.21875  Q 39.75 74.21875 46.484375 68.546875  Q 53.21875 62.890625 53.21875 53.421875  Q 53.21875 48.921875 51.53125 44.890625  Q 49.859375 40.875 45.40625 35.40625  Q 44.1875 33.984375 37.640625 27.21875  Q 31.109375 20.453125 19.1875 8.296875  z \" id=\"DejaVuSans-50\" />\n       <path d=\"M 10.796875 72.90625  L 49.515625 72.90625  L 49.515625 64.59375  L 19.828125 64.59375  L 19.828125 46.734375  Q 21.96875 47.46875 24.109375 47.828125  Q 26.265625 48.1875 28.421875 48.1875  Q 40.625 48.1875 47.75 41.5  Q 54.890625 34.8125 54.890625 23.390625  Q 54.890625 11.625 47.5625 5.09375  Q 40.234375 -1.421875 26.90625 -1.421875  Q 22.3125 -1.421875 17.546875 -0.640625  Q 12.796875 0.140625 7.71875 1.703125  L 7.71875 11.625  Q 12.109375 9.234375 16.796875 8.0625  Q 21.484375 6.890625 26.703125 6.890625  Q 35.15625 6.890625 40.078125 11.328125  Q 45.015625 15.765625 45.015625 23.390625  Q 45.015625 31 40.078125 35.4375  Q 35.15625 39.890625 26.703125 39.890625  Q 22.75 39.890625 18.8125 39.015625  Q 14.890625 38.140625 10.796875 36.28125  z \" id=\"DejaVuSans-53\" />\n      </defs>\n      <g style=\"fill:#444443;\" transform=\"translate(185.871699 97.658125)scale(0.08 -0.08)\">\n       <use xlink:href=\"#DejaVuSans-50\" />\n       <use x=\"63.623047\" xlink:href=\"#DejaVuSans-46\" />\n       <use x=\"95.410156\" xlink:href=\"#DejaVuSans-53\" />\n      </g>\n     </g>\n    </g>\n    <g id=\"text_3\">\n     \n     <defs>\n      <path d=\"M 18.109375 8.203125  L 18.109375 -20.796875  L 9.078125 -20.796875  L 9.078125 54.6875  L 18.109375 54.6875  L 18.109375 46.390625  Q 20.953125 51.265625 25.265625 53.625  Q 29.59375 56 35.59375 56  Q 45.5625 56 51.78125 48.09375  Q 58.015625 40.1875 58.015625 27.296875  Q 58.015625 14.40625 51.78125 6.484375  Q 45.5625 -1.421875 35.59375 -1.421875  Q 29.59375 -1.421875 25.265625 0.953125  Q 20.953125 3.328125 18.109375 8.203125  z M 48.6875 27.296875  Q 48.6875 37.203125 44.609375 42.84375  Q 40.53125 48.484375 33.40625 48.484375  Q 26.265625 48.484375 22.1875 42.84375  Q 18.109375 37.203125 18.109375 27.296875  Q 18.109375 17.390625 22.1875 11.75  Q 26.265625 6.109375 33.40625 6.109375  Q 40.53125 6.109375 44.609375 11.75  Q 48.6875 17.390625 48.6875 27.296875  z \" id=\"DejaVuSans-112\" />\n      <path d=\"M 56.203125 29.59375  L 56.203125 25.203125  L 14.890625 25.203125  Q 15.484375 15.921875 20.484375 11.0625  Q 25.484375 6.203125 34.421875 6.203125  Q 39.59375 6.203125 44.453125 7.46875  Q 49.3125 8.734375 54.109375 11.28125  L 54.109375 2.78125  Q 49.265625 0.734375 44.1875 -0.34375  Q 39.109375 -1.421875 33.890625 -1.421875  Q 20.796875 -1.421875 13.15625 6.1875  Q 5.515625 13.8125 5.515625 26.8125  Q 5.515625 40.234375 12.765625 48.109375  Q 20.015625 56 32.328125 56  Q 43.359375 56 49.78125 48.890625  Q 56.203125 41.796875 56.203125 29.59375  z M 47.21875 32.234375  Q 47.125 39.59375 43.09375 43.984375  Q 39.0625 48.390625 32.421875 48.390625  Q 24.90625 48.390625 20.390625 44.140625  Q 15.875 39.890625 15.1875 32.171875  z \" id=\"DejaVuSans-101\" />\n      <path d=\"M 18.3125 70.21875  L 18.3125 54.6875  L 36.8125 54.6875  L 36.8125 47.703125  L 18.3125 47.703125  L 18.3125 18.015625  Q 18.3125 11.328125 20.140625 9.421875  Q 21.96875 7.515625 27.59375 7.515625  L 36.8125 7.515625  L 36.8125 0  L 27.59375 0  Q 17.1875 0 13.234375 3.875  Q 9.28125 7.765625 9.28125 18.015625  L 9.28125 47.703125  L 2.6875 47.703125  L 2.6875 54.6875  L 9.28125 54.6875  L 9.28125 70.21875  z \" id=\"DejaVuSans-116\" />\n      <path d=\"M 34.28125 27.484375  Q 23.390625 27.484375 19.1875 25  Q 14.984375 22.515625 14.984375 16.5  Q 14.984375 11.71875 18.140625 8.90625  Q 21.296875 6.109375 26.703125 6.109375  Q 34.1875 6.109375 38.703125 11.40625  Q 43.21875 16.703125 43.21875 25.484375  L 43.21875 27.484375  z M 52.203125 31.203125  L 52.203125 0  L 43.21875 0  L 43.21875 8.296875  Q 40.140625 3.328125 35.546875 0.953125  Q 30.953125 -1.421875 24.3125 -1.421875  Q 15.921875 -1.421875 10.953125 3.296875  Q 6 8.015625 6 15.921875  Q 6 25.140625 12.171875 29.828125  Q 18.359375 34.515625 30.609375 34.515625  L 43.21875 34.515625  L 43.21875 35.40625  Q 43.21875 41.609375 39.140625 45  Q 35.0625 48.390625 27.6875 48.390625  Q 23 48.390625 18.546875 47.265625  Q 14.109375 46.140625 10.015625 43.890625  L 10.015625 52.203125  Q 14.9375 54.109375 19.578125 55.046875  Q 24.21875 56 28.609375 56  Q 40.484375 56 46.34375 49.84375  Q 52.203125 43.703125 52.203125 31.203125  z \" id=\"DejaVuSans-97\" />\n      <path d=\"M 9.421875 75.984375  L 18.40625 75.984375  L 18.40625 0  L 9.421875 0  z \" id=\"DejaVuSans-108\" />\n      <path id=\"DejaVuSans-32\" />\n      <path d=\"M 4.203125 54.6875  L 13.1875 54.6875  L 24.421875 12.015625  L 35.59375 54.6875  L 46.1875 54.6875  L 57.421875 12.015625  L 68.609375 54.6875  L 77.59375 54.6875  L 63.28125 0  L 52.6875 0  L 40.921875 44.828125  L 29.109375 0  L 18.5 0  z \" id=\"DejaVuSans-119\" />\n      <path d=\"M 9.421875 54.6875  L 18.40625 54.6875  L 18.40625 0  L 9.421875 0  z M 9.421875 75.984375  L 18.40625 75.984375  L 18.40625 64.59375  L 9.421875 64.59375  z \" id=\"DejaVuSans-105\" />\n      <path d=\"M 45.40625 46.390625  L 45.40625 75.984375  L 54.390625 75.984375  L 54.390625 0  L 45.40625 0  L 45.40625 8.203125  Q 42.578125 3.328125 38.25 0.953125  Q 33.9375 -1.421875 27.875 -1.421875  Q 17.96875 -1.421875 11.734375 6.484375  Q 5.515625 14.40625 5.515625 27.296875  Q 5.515625 40.1875 11.734375 48.09375  Q 17.96875 56 27.875 56  Q 33.9375 56 38.25 53.625  Q 42.578125 51.265625 45.40625 46.390625  z M 14.796875 27.296875  Q 14.796875 17.390625 18.875 11.75  Q 22.953125 6.109375 30.078125 6.109375  Q 37.203125 6.109375 41.296875 11.75  Q 45.40625 17.390625 45.40625 27.296875  Q 45.40625 37.203125 41.296875 42.84375  Q 37.203125 48.484375 30.078125 48.484375  Q 22.953125 48.484375 18.875 42.84375  Q 14.796875 37.203125 14.796875 27.296875  z \" id=\"DejaVuSans-100\" />\n      <path d=\"M 54.890625 33.015625  L 54.890625 0  L 45.90625 0  L 45.90625 32.71875  Q 45.90625 40.484375 42.875 44.328125  Q 39.84375 48.1875 33.796875 48.1875  Q 26.515625 48.1875 22.3125 43.546875  Q 18.109375 38.921875 18.109375 30.90625  L 18.109375 0  L 9.078125 0  L 9.078125 75.984375  L 18.109375 75.984375  L 18.109375 46.1875  Q 21.34375 51.125 25.703125 53.5625  Q 30.078125 56 35.796875 56  Q 45.21875 56 50.046875 50.171875  Q 54.890625 44.34375 54.890625 33.015625  z \" id=\"DejaVuSans-104\" />\n      <path d=\"M 31 75.875  Q 24.46875 64.65625 21.28125 53.65625  Q 18.109375 42.671875 18.109375 31.390625  Q 18.109375 20.125 21.3125 9.0625  Q 24.515625 -2 31 -13.1875  L 23.1875 -13.1875  Q 15.875 -1.703125 12.234375 9.375  Q 8.59375 20.453125 8.59375 31.390625  Q 8.59375 42.28125 12.203125 53.3125  Q 15.828125 64.359375 23.1875 75.875  z \" id=\"DejaVuSans-40\" />\n      <path d=\"M 48.78125 52.59375  L 48.78125 44.1875  Q 44.96875 46.296875 41.140625 47.34375  Q 37.3125 48.390625 33.40625 48.390625  Q 24.65625 48.390625 19.8125 42.84375  Q 14.984375 37.3125 14.984375 27.296875  Q 14.984375 17.28125 19.8125 11.734375  Q 24.65625 6.203125 33.40625 6.203125  Q 37.3125 6.203125 41.140625 7.25  Q 44.96875 8.296875 48.78125 10.40625  L 48.78125 2.09375  Q 45.015625 0.34375 40.984375 -0.53125  Q 36.96875 -1.421875 32.421875 -1.421875  Q 20.0625 -1.421875 12.78125 6.34375  Q 5.515625 14.109375 5.515625 27.296875  Q 5.515625 40.671875 12.859375 48.328125  Q 20.21875 56 33.015625 56  Q 37.15625 56 41.109375 55.140625  Q 45.0625 54.296875 48.78125 52.59375  z \" id=\"DejaVuSans-99\" />\n      <path d=\"M 52 44.1875  Q 55.375 50.25 60.0625 53.125  Q 64.75 56 71.09375 56  Q 79.640625 56 84.28125 50.015625  Q 88.921875 44.046875 88.921875 33.015625  L 88.921875 0  L 79.890625 0  L 79.890625 32.71875  Q 79.890625 40.578125 77.09375 44.375  Q 74.3125 48.1875 68.609375 48.1875  Q 61.625 48.1875 57.5625 43.546875  Q 53.515625 38.921875 53.515625 30.90625  L 53.515625 0  L 44.484375 0  L 44.484375 32.71875  Q 44.484375 40.625 41.703125 44.40625  Q 38.921875 48.1875 33.109375 48.1875  Q 26.21875 48.1875 22.15625 43.53125  Q 18.109375 38.875 18.109375 30.90625  L 18.109375 0  L 9.078125 0  L 9.078125 54.6875  L 18.109375 54.6875  L 18.109375 46.1875  Q 21.1875 51.21875 25.484375 53.609375  Q 29.78125 56 35.6875 56  Q 41.65625 56 45.828125 52.96875  Q 50 49.953125 52 44.1875  z \" id=\"DejaVuSans-109\" />\n      <path d=\"M 8.015625 75.875  L 15.828125 75.875  Q 23.140625 64.359375 26.78125 53.3125  Q 30.421875 42.28125 30.421875 31.390625  Q 30.421875 20.453125 26.78125 9.375  Q 23.140625 -1.703125 15.828125 -13.1875  L 8.015625 -13.1875  Q 14.5 -2 17.703125 9.0625  Q 20.90625 20.125 20.90625 31.390625  Q 20.90625 42.671875 17.703125 53.65625  Q 14.5 64.65625 8.015625 75.875  z \" id=\"DejaVuSans-41\" />\n     </defs>\n     <g style=\"fill:#444443;\" transform=\"translate(59.876562 112.44)scale(0.12 -0.12)\">\n      <use xlink:href=\"#DejaVuSans-112\" />\n      <use x=\"63.476562\" xlink:href=\"#DejaVuSans-101\" />\n      <use x=\"125\" xlink:href=\"#DejaVuSans-116\" />\n      <use x=\"164.208984\" xlink:href=\"#DejaVuSans-97\" />\n      <use x=\"225.488281\" xlink:href=\"#DejaVuSans-108\" />\n      <use x=\"253.271484\" xlink:href=\"#DejaVuSans-32\" />\n      <use x=\"285.058594\" xlink:href=\"#DejaVuSans-119\" />\n      <use x=\"366.845703\" xlink:href=\"#DejaVuSans-105\" />\n      <use x=\"394.628906\" xlink:href=\"#DejaVuSans-100\" />\n      <use x=\"458.105469\" xlink:href=\"#DejaVuSans-116\" />\n      <use x=\"497.314453\" xlink:href=\"#DejaVuSans-104\" />\n      <use x=\"560.693359\" xlink:href=\"#DejaVuSans-32\" />\n      <use x=\"592.480469\" xlink:href=\"#DejaVuSans-40\" />\n      <use x=\"631.494141\" xlink:href=\"#DejaVuSans-99\" />\n      <use x=\"686.474609\" xlink:href=\"#DejaVuSans-109\" />\n      <use x=\"783.886719\" xlink:href=\"#DejaVuSans-41\" />\n     </g>\n    </g>\n   </g>\n   <g id=\"matplotlib.axis_2\">\n    <g id=\"ytick_1\">\n     <g id=\"line2d_3\">\n      <defs>\n       <path d=\"M 0 0  L -3.5 0  \" id=\"m7c425b8284\" style=\"stroke:#000000;stroke-width:0.3;\" />\n      </defs>\n      <g>\n       <use style=\"stroke:#000000;stroke-width:0.3;\" x=\"17.18\" y=\"84.579375\" xlink:href=\"#m7c425b8284\" />\n      </g>\n     </g>\n     <g id=\"text_4\">\n      \n      <g style=\"fill:#444443;\" transform=\"translate(5.09 87.61875)scale(0.08 -0.08)\">\n       <use xlink:href=\"#DejaVuSans-48\" />\n      </g>\n     </g>\n    </g>\n    <g id=\"ytick_2\">\n     <g id=\"line2d_4\">\n      <g>\n       <use style=\"stroke:#000000;stroke-width:0.3;\" x=\"17.18\" y=\"3.039375\" xlink:href=\"#m7c425b8284\" />\n      </g>\n     </g>\n     <g id=\"text_5\">\n      \n      <defs>\n       <path d=\"M 40.578125 39.3125  Q 47.65625 37.796875 51.625 33  Q 55.609375 28.21875 55.609375 21.1875  Q 55.609375 10.40625 48.1875 4.484375  Q 40.765625 -1.421875 27.09375 -1.421875  Q 22.515625 -1.421875 17.65625 -0.515625  Q 12.796875 0.390625 7.625 2.203125  L 7.625 11.71875  Q 11.71875 9.328125 16.59375 8.109375  Q 21.484375 6.890625 26.8125 6.890625  Q 36.078125 6.890625 40.9375 10.546875  Q 45.796875 14.203125 45.796875 21.1875  Q 45.796875 27.640625 41.28125 31.265625  Q 36.765625 34.90625 28.71875 34.90625  L 20.21875 34.90625  L 20.21875 43.015625  L 29.109375 43.015625  Q 36.375 43.015625 40.234375 45.921875  Q 44.09375 48.828125 44.09375 54.296875  Q 44.09375 59.90625 40.109375 62.90625  Q 36.140625 65.921875 28.71875 65.921875  Q 24.65625 65.921875 20.015625 65.03125  Q 15.375 64.15625 9.8125 62.3125  L 9.8125 71.09375  Q 15.4375 72.65625 20.34375 73.4375  Q 25.25 74.21875 29.59375 74.21875  Q 40.828125 74.21875 47.359375 69.109375  Q 53.90625 64.015625 53.90625 55.328125  Q 53.90625 49.265625 50.4375 45.09375  Q 46.96875 40.921875 40.578125 39.3125  z \" id=\"DejaVuSans-51\" />\n       <path d=\"M 37.796875 64.3125  L 12.890625 25.390625  L 37.796875 25.390625  z M 35.203125 72.90625  L 47.609375 72.90625  L 47.609375 25.390625  L 58.015625 25.390625  L 58.015625 17.1875  L 47.609375 17.1875  L 47.609375 0  L 37.796875 0  L 37.796875 17.1875  L 4.890625 17.1875  L 4.890625 26.703125  z \" id=\"DejaVuSans-52\" />\n      </defs>\n      <g style=\"fill:#444443;\" transform=\"translate(0 6.07875)scale(0.08 -0.08)\">\n       <use xlink:href=\"#DejaVuSans-51\" />\n       <use x=\"63.623047\" xlink:href=\"#DejaVuSans-52\" />\n      </g>\n     </g>\n    </g>\n   </g>\n   <g id=\"patch_55\">\n    <path d=\"M 17.18 84.579375  L 17.18 3.039375  \" style=\"fill:none;stroke:#000000;stroke-linecap:square;stroke-linejoin:miter;stroke-width:0.3;\" />\n   </g>\n   <g id=\"patch_56\">\n    <path d=\"M 17.18 84.579375  L 201.32 84.579375  \" style=\"fill:none;stroke:#000000;stroke-linecap:square;stroke-linejoin:miter;stroke-width:0.3;\" />\n   </g>\n   <g id=\"text_6\">\n    \n    <defs>\n     <path d=\"M 31.78125 34.625  Q 24.75 34.625 20.71875 30.859375  Q 16.703125 27.09375 16.703125 20.515625  Q 16.703125 13.921875 20.71875 10.15625  Q 24.75 6.390625 31.78125 6.390625  Q 38.8125 6.390625 42.859375 10.171875  Q 46.921875 13.96875 46.921875 20.515625  Q 46.921875 27.09375 42.890625 30.859375  Q 38.875 34.625 31.78125 34.625  z M 21.921875 38.8125  Q 15.578125 40.375 12.03125 44.71875  Q 8.5 49.078125 8.5 55.328125  Q 8.5 64.0625 14.71875 69.140625  Q 20.953125 74.21875 31.78125 74.21875  Q 42.671875 74.21875 48.875 69.140625  Q 55.078125 64.0625 55.078125 55.328125  Q 55.078125 49.078125 51.53125 44.71875  Q 48 40.375 41.703125 38.8125  Q 48.828125 37.15625 52.796875 32.3125  Q 56.78125 27.484375 56.78125 20.515625  Q 56.78125 9.90625 50.3125 4.234375  Q 43.84375 -1.421875 31.78125 -1.421875  Q 19.734375 -1.421875 13.25 4.234375  Q 6.78125 9.90625 6.78125 20.515625  Q 6.78125 27.484375 10.78125 32.3125  Q 14.796875 37.15625 21.921875 38.8125  z M 18.3125 54.390625  Q 18.3125 48.734375 21.84375 45.5625  Q 25.390625 42.390625 31.78125 42.390625  Q 38.140625 42.390625 41.71875 45.5625  Q 45.3125 48.734375 45.3125 54.390625  Q 45.3125 60.0625 41.71875 63.234375  Q 38.140625 66.40625 31.78125 66.40625  Q 25.390625 66.40625 21.84375 63.234375  Q 18.3125 60.0625 18.3125 54.390625  z \" id=\"DejaVuSans-56\" />\n    </defs>\n    <g style=\"fill:#444443;\" transform=\"translate(59.742807 100.887375)scale(0.08 -0.08)\">\n     <use xlink:href=\"#DejaVuSans-48\" />\n     <use x=\"63.623047\" xlink:href=\"#DejaVuSans-46\" />\n     <use x=\"95.410156\" xlink:href=\"#DejaVuSans-56\" />\n     <use x=\"159.033203\" xlink:href=\"#DejaVuSans-48\" />\n    </g>\n   </g>\n  </g>\n </g>\n <defs>\n  <clipPath id=\"p04cb7ff86c\">\n   <rect height=\"81.54\" width=\"184.14\" x=\"17.18\" y=\"3.039375\" />\n  </clipPath>\n </defs>\n</svg></g>\n\n<g class=\"edge\" id=\"edge5\">\n<title>node0-&gt;node2</title>\n<path d=\"M116.0391,-204.9508C123.0442,-191.7879 130.4714,-177.832 136.816,-165.9103\" fill=\"none\" stroke=\"#444443\" stroke-width=\".3\" />\n<polygon fill=\"#444443\" points=\"138.1052,-166.4677 138.7486,-162.2789 135.6335,-165.1522 138.1052,-166.4677\" stroke=\"#444443\" stroke-width=\".3\" />\n<text fill=\"#000000\" font-family=\"Times,serif\" font-size=\"14.00\" text-anchor=\"start\" x=\"128\" y=\"-185.8\">&gt;</text>\n</g>\n\n<g class=\"node\" id=\"node5\">\n<title>leaf1</title>\n<polygon fill=\"none\" points=\"60,-174 0,-174 0,-97 60,-97 60,-174\" stroke=\"#444443\" stroke-width=\"0\" />\n<svg height=\"69px\" preserveAspectRatio=\"xMinYMin meet\" version=\"1.1\" viewBox=\"0 0 69.46 91.026744\" width=\"52px\" x=\"4\" y=\"-169.5\">\n <defs>\n  <style type=\"text/css\">\n*{stroke-linecap:butt;stroke-linejoin:round;}\n  </style>\n </defs>\n <g id=\"figure_1\">\n  <g id=\"patch_1\">\n   <path d=\"M -0 91.026744  L 69.46 91.026744  L 69.46 0  L -0 0  z \" style=\"fill:#ffffff;\" />\n  </g>\n  <g id=\"axes_1\">\n   <g id=\"patch_2\">\n    <path d=\"M 69.46 34.73  C 69.46 30.169298 68.561641 25.652943 66.816336 21.439404  C 65.071031 17.225865 62.512722 13.397085 59.287819 10.172181  C 56.062915 6.947278 52.234135 4.388969 48.020596 2.643664  C 43.807057 0.898359 39.290702 -0 34.73 -0  C 30.169298 -0 25.652943 0.898359 21.439404 2.643664  C 17.225865 4.388969 13.397085 6.947278 10.172181 10.172181  C 6.947278 13.397085 4.388969 17.225865 2.643664 21.439404  C 0.898359 25.652943 0 30.169298 0 34.73  C 0 39.290702 0.898359 43.807057 2.643664 48.020596  C 4.388969 52.234135 6.947278 56.062915 10.172181 59.287819  C 13.397085 62.512722 17.225865 65.071031 21.439404 66.816336  C 25.652943 68.561641 30.169298 69.46 34.73 69.46  C 39.290702 69.46 43.807057 68.561641 48.020596 66.816336  C 52.234135 65.071031 56.062915 62.512722 59.287819 59.287819  C 62.512722 56.062915 65.071031 52.234135 66.816336 48.020596  C 68.561641 43.807057 69.46 39.290702 69.46 34.73  M 34.73 34.73  M 69.46 34.73  z \" style=\"fill:#fefebb;stroke:#444443;stroke-linejoin:miter;stroke-width:0.5;\" />\n   </g>\n   <g id=\"text_1\">\n    \n    <defs>\n     <path d=\"M 54.890625 33.015625  L 54.890625 0  L 45.90625 0  L 45.90625 32.71875  Q 45.90625 40.484375 42.875 44.328125  Q 39.84375 48.1875 33.796875 48.1875  Q 26.515625 48.1875 22.3125 43.546875  Q 18.109375 38.921875 18.109375 30.90625  L 18.109375 0  L 9.078125 0  L 9.078125 54.6875  L 18.109375 54.6875  L 18.109375 46.1875  Q 21.34375 51.125 25.703125 53.5625  Q 30.078125 56 35.796875 56  Q 45.21875 56 50.046875 50.171875  Q 54.890625 44.34375 54.890625 33.015625  z \" id=\"DejaVuSans-110\" />\n     <path d=\"M 10.59375 45.40625  L 73.1875 45.40625  L 73.1875 37.203125  L 10.59375 37.203125  z M 10.59375 25.484375  L 73.1875 25.484375  L 73.1875 17.1875  L 10.59375 17.1875  z \" id=\"DejaVuSans-61\" />\n     <path d=\"M 10.796875 72.90625  L 49.515625 72.90625  L 49.515625 64.59375  L 19.828125 64.59375  L 19.828125 46.734375  Q 21.96875 47.46875 24.109375 47.828125  Q 26.265625 48.1875 28.421875 48.1875  Q 40.625 48.1875 47.75 41.5  Q 54.890625 34.8125 54.890625 23.390625  Q 54.890625 11.625 47.5625 5.09375  Q 40.234375 -1.421875 26.90625 -1.421875  Q 22.3125 -1.421875 17.546875 -0.640625  Q 12.796875 0.140625 7.71875 1.703125  L 7.71875 11.625  Q 12.109375 9.234375 16.796875 8.0625  Q 21.484375 6.890625 26.703125 6.890625  Q 35.15625 6.890625 40.078125 11.328125  Q 45.015625 15.765625 45.015625 23.390625  Q 45.015625 31 40.078125 35.4375  Q 35.15625 39.890625 26.703125 39.890625  Q 22.75 39.890625 18.8125 39.015625  Q 14.890625 38.140625 10.796875 36.28125  z \" id=\"DejaVuSans-53\" />\n     <path d=\"M 31.78125 66.40625  Q 24.171875 66.40625 20.328125 58.90625  Q 16.5 51.421875 16.5 36.375  Q 16.5 21.390625 20.328125 13.890625  Q 24.171875 6.390625 31.78125 6.390625  Q 39.453125 6.390625 43.28125 13.890625  Q 47.125 21.390625 47.125 36.375  Q 47.125 51.421875 43.28125 58.90625  Q 39.453125 66.40625 31.78125 66.40625  z M 31.78125 74.21875  Q 44.046875 74.21875 50.515625 64.515625  Q 56.984375 54.828125 56.984375 36.375  Q 56.984375 17.96875 50.515625 8.265625  Q 44.046875 -1.421875 31.78125 -1.421875  Q 19.53125 -1.421875 13.0625 8.265625  Q 6.59375 17.96875 6.59375 36.375  Q 6.59375 54.828125 13.0625 64.515625  Q 19.53125 74.21875 31.78125 74.21875  z \" id=\"DejaVuSans-48\" />\n    </defs>\n    <g style=\"fill:#444443;\" transform=\"translate(22.381016 79.076994)scale(0.09 -0.09)\">\n     <use xlink:href=\"#DejaVuSans-110\" />\n     <use x=\"63.378906\" xlink:href=\"#DejaVuSans-61\" />\n     <use x=\"147.167969\" xlink:href=\"#DejaVuSans-53\" />\n     <use x=\"210.791016\" xlink:href=\"#DejaVuSans-48\" />\n    </g>\n    \n    <defs>\n     <path d=\"M 44.28125 53.078125  L 44.28125 44.578125  Q 40.484375 46.53125 36.375 47.5  Q 32.28125 48.484375 27.875 48.484375  Q 21.1875 48.484375 17.84375 46.4375  Q 14.5 44.390625 14.5 40.28125  Q 14.5 37.15625 16.890625 35.375  Q 19.28125 33.59375 26.515625 31.984375  L 29.59375 31.296875  Q 39.15625 29.25 43.1875 25.515625  Q 47.21875 21.78125 47.21875 15.09375  Q 47.21875 7.46875 41.1875 3.015625  Q 35.15625 -1.421875 24.609375 -1.421875  Q 20.21875 -1.421875 15.453125 -0.5625  Q 10.6875 0.296875 5.421875 2  L 5.421875 11.28125  Q 10.40625 8.6875 15.234375 7.390625  Q 20.0625 6.109375 24.8125 6.109375  Q 31.15625 6.109375 34.5625 8.28125  Q 37.984375 10.453125 37.984375 14.40625  Q 37.984375 18.0625 35.515625 20.015625  Q 33.0625 21.96875 24.703125 23.78125  L 21.578125 24.515625  Q 13.234375 26.265625 9.515625 29.90625  Q 5.8125 33.546875 5.8125 39.890625  Q 5.8125 47.609375 11.28125 51.796875  Q 16.75 56 26.8125 56  Q 31.78125 56 36.171875 55.265625  Q 40.578125 54.546875 44.28125 53.078125  z \" id=\"DejaVuSans-115\" />\n     <path d=\"M 56.203125 29.59375  L 56.203125 25.203125  L 14.890625 25.203125  Q 15.484375 15.921875 20.484375 11.0625  Q 25.484375 6.203125 34.421875 6.203125  Q 39.59375 6.203125 44.453125 7.46875  Q 49.3125 8.734375 54.109375 11.28125  L 54.109375 2.78125  Q 49.265625 0.734375 44.1875 -0.34375  Q 39.109375 -1.421875 33.890625 -1.421875  Q 20.796875 -1.421875 13.15625 6.1875  Q 5.515625 13.8125 5.515625 26.8125  Q 5.515625 40.234375 12.765625 48.109375  Q 20.015625 56 32.328125 56  Q 43.359375 56 49.78125 48.890625  Q 56.203125 41.796875 56.203125 29.59375  z M 47.21875 32.234375  Q 47.125 39.59375 43.09375 43.984375  Q 39.0625 48.390625 32.421875 48.390625  Q 24.90625 48.390625 20.390625 44.140625  Q 15.875 39.890625 15.1875 32.171875  z \" id=\"DejaVuSans-101\" />\n     <path d=\"M 18.3125 70.21875  L 18.3125 54.6875  L 36.8125 54.6875  L 36.8125 47.703125  L 18.3125 47.703125  L 18.3125 18.015625  Q 18.3125 11.328125 20.140625 9.421875  Q 21.96875 7.515625 27.59375 7.515625  L 36.8125 7.515625  L 36.8125 0  L 27.59375 0  Q 17.1875 0 13.234375 3.875  Q 9.28125 7.765625 9.28125 18.015625  L 9.28125 47.703125  L 2.6875 47.703125  L 2.6875 54.6875  L 9.28125 54.6875  L 9.28125 70.21875  z \" id=\"DejaVuSans-116\" />\n     <path d=\"M 30.609375 48.390625  Q 23.390625 48.390625 19.1875 42.75  Q 14.984375 37.109375 14.984375 27.296875  Q 14.984375 17.484375 19.15625 11.84375  Q 23.34375 6.203125 30.609375 6.203125  Q 37.796875 6.203125 41.984375 11.859375  Q 46.1875 17.53125 46.1875 27.296875  Q 46.1875 37.015625 41.984375 42.703125  Q 37.796875 48.390625 30.609375 48.390625  z M 30.609375 56  Q 42.328125 56 49.015625 48.375  Q 55.71875 40.765625 55.71875 27.296875  Q 55.71875 13.875 49.015625 6.21875  Q 42.328125 -1.421875 30.609375 -1.421875  Q 18.84375 -1.421875 12.171875 6.21875  Q 5.515625 13.875 5.515625 27.296875  Q 5.515625 40.765625 12.171875 48.375  Q 18.84375 56 30.609375 56  z \" id=\"DejaVuSans-111\" />\n     <path d=\"M 34.28125 27.484375  Q 23.390625 27.484375 19.1875 25  Q 14.984375 22.515625 14.984375 16.5  Q 14.984375 11.71875 18.140625 8.90625  Q 21.296875 6.109375 26.703125 6.109375  Q 34.1875 6.109375 38.703125 11.40625  Q 43.21875 16.703125 43.21875 25.484375  L 43.21875 27.484375  z M 52.203125 31.203125  L 52.203125 0  L 43.21875 0  L 43.21875 8.296875  Q 40.140625 3.328125 35.546875 0.953125  Q 30.953125 -1.421875 24.3125 -1.421875  Q 15.921875 -1.421875 10.953125 3.296875  Q 6 8.015625 6 15.921875  Q 6 25.140625 12.171875 29.828125  Q 18.359375 34.515625 30.609375 34.515625  L 43.21875 34.515625  L 43.21875 35.40625  Q 43.21875 41.609375 39.140625 45  Q 35.0625 48.390625 27.6875 48.390625  Q 23 48.390625 18.546875 47.265625  Q 14.109375 46.140625 10.015625 43.890625  L 10.015625 52.203125  Q 14.9375 54.109375 19.578125 55.046875  Q 24.21875 56 28.609375 56  Q 40.484375 56 46.34375 49.84375  Q 52.203125 43.703125 52.203125 31.203125  z \" id=\"DejaVuSans-97\" />\n    </defs>\n    <g style=\"fill:#444443;\" transform=\"translate(19.997422 89.155025)scale(0.09 -0.09)\">\n     <use xlink:href=\"#DejaVuSans-115\" />\n     <use x=\"52.099609\" xlink:href=\"#DejaVuSans-101\" />\n     <use x=\"113.623047\" xlink:href=\"#DejaVuSans-116\" />\n     <use x=\"152.832031\" xlink:href=\"#DejaVuSans-111\" />\n     <use x=\"214.013672\" xlink:href=\"#DejaVuSans-115\" />\n     <use x=\"266.113281\" xlink:href=\"#DejaVuSans-97\" />\n    </g>\n   </g>\n  </g>\n </g>\n</svg></g>\n\n<g class=\"edge\" id=\"edge4\">\n<title>node0-&gt;leaf1</title>\n<path d=\"M66.3648,-204.9508C61.6777,-195.9992 56.7986,-186.6809 52.193,-177.885\" fill=\"none\" stroke=\"#444443\" stroke-width=\".3\" />\n<polygon fill=\"#444443\" points=\"53.3331,-177.0442 50.2373,-174.1499 50.8526,-178.343 53.3331,-177.0442\" stroke=\"#444443\" stroke-width=\".3\" />\n<text fill=\"#000000\" font-family=\"Times,serif\" font-size=\"14.00\" text-anchor=\"start\" x=\"61\" y=\"-185.8\">&#8804;</text>\n</g>\n\n\n\n<g class=\"node\" id=\"node6\">\n<title>legend</title>\n<polygon fill=\"none\" points=\"247,-280 177,-280 177,-224 247,-224 247,-280\" stroke=\"#000000\" stroke-width=\"0\" />\n<svg height=\"52px\" preserveAspectRatio=\"xMinYMin meet\" version=\"1.1\" viewBox=\"0 0 88.295312 69.7125\" width=\"66px\" x=\"179\" y=\"-278\">\n <defs>\n  <style type=\"text/css\">\n*{stroke-linecap:butt;stroke-linejoin:round;}\n  </style>\n </defs>\n <g id=\"figure_1\">\n  <g id=\"patch_1\">\n   <path d=\"M 0 69.7125  L 88.295312 69.7125  L 88.295312 0  L 0 0  z \" style=\"fill:#ffffff;\" />\n  </g>\n  <g id=\"axes_1\">\n   <g id=\"legend_1\">\n    <g id=\"patch_2\">\n     <path d=\"M 2 69.7125  L 86.295312 69.7125  Q 88.295312 69.7125 88.295312 67.7125  L 88.295312 2  Q 88.295312 -0 86.295312 -0  L 2 -0  Q -0 -0 -0 2  L -0 67.7125  Q -0 69.7125 2 69.7125  z \" style=\"fill:#ffffff;opacity:0.8;stroke:#444443;stroke-linejoin:miter;stroke-width:0.5;\" />\n    </g>\n    <g id=\"text_1\">\n     \n     <defs>\n      <path d=\"M 44.390625 75.984375  L 44.390625 64.5  L 34.71875 64.5  Q 31 64.5 29.53125 63.15625  Q 28.078125 61.8125 28.078125 58.5  L 28.078125 54.6875  L 43.015625 54.6875  L 43.015625 42.1875  L 28.078125 42.1875  L 28.078125 0  L 10.59375 0  L 10.59375 42.1875  L 1.90625 42.1875  L 1.90625 54.6875  L 10.59375 54.6875  L 10.59375 58.5  Q 10.59375 67.4375 15.578125 71.703125  Q 20.5625 75.984375 31 75.984375  z \" id=\"DejaVuSans-Bold-102\" />\n      <path d=\"M 8.40625 75.984375  L 25.875 75.984375  L 25.875 0  L 8.40625 0  z \" id=\"DejaVuSans-Bold-108\" />\n      <path d=\"M 34.421875 43.5  Q 28.609375 43.5 25.5625 39.328125  Q 22.515625 35.15625 22.515625 27.296875  Q 22.515625 19.4375 25.5625 15.25  Q 28.609375 11.078125 34.421875 11.078125  Q 40.140625 11.078125 43.15625 15.25  Q 46.1875 19.4375 46.1875 27.296875  Q 46.1875 35.15625 43.15625 39.328125  Q 40.140625 43.5 34.421875 43.5  z M 34.421875 56  Q 48.53125 56 56.46875 48.375  Q 64.40625 40.765625 64.40625 27.296875  Q 64.40625 13.8125 56.46875 6.1875  Q 48.53125 -1.421875 34.421875 -1.421875  Q 20.265625 -1.421875 12.28125 6.1875  Q 4.296875 13.8125 4.296875 27.296875  Q 4.296875 40.765625 12.28125 48.375  Q 20.265625 56 34.421875 56  z \" id=\"DejaVuSans-Bold-111\" />\n      <path d=\"M 3.515625 54.6875  L 20.515625 54.6875  L 29.6875 17  L 38.921875 54.6875  L 53.515625 54.6875  L 62.703125 17.390625  L 71.921875 54.6875  L 88.921875 54.6875  L 74.515625 0  L 55.421875 0  L 46.1875 37.59375  L 37.015625 0  L 17.921875 0  z \" id=\"DejaVuSans-Bold-119\" />\n      <path d=\"M 62.984375 27.484375  L 62.984375 22.515625  L 22.125 22.515625  Q 22.75 16.359375 26.5625 13.28125  Q 30.375 10.203125 37.203125 10.203125  Q 42.71875 10.203125 48.5 11.84375  Q 54.296875 13.484375 60.40625 16.796875  L 60.40625 3.328125  Q 54.203125 0.984375 48 -0.21875  Q 41.796875 -1.421875 35.59375 -1.421875  Q 20.75 -1.421875 12.515625 6.125  Q 4.296875 13.671875 4.296875 27.296875  Q 4.296875 40.671875 12.375 48.328125  Q 20.453125 56 34.625 56  Q 47.515625 56 55.25 48.234375  Q 62.984375 40.484375 62.984375 27.484375  z M 45.015625 33.296875  Q 45.015625 38.28125 42.109375 41.328125  Q 39.203125 44.390625 34.515625 44.390625  Q 29.4375 44.390625 26.265625 41.53125  Q 23.09375 38.671875 22.3125 33.296875  z \" id=\"DejaVuSans-Bold-101\" />\n      <path d=\"M 49.03125 39.796875  Q 46.734375 40.875 44.453125 41.375  Q 42.1875 41.890625 39.890625 41.890625  Q 33.15625 41.890625 29.515625 37.5625  Q 25.875 33.25 25.875 25.203125  L 25.875 0  L 8.40625 0  L 8.40625 54.6875  L 25.875 54.6875  L 25.875 45.703125  Q 29.25 51.078125 33.609375 53.53125  Q 37.984375 56 44.09375 56  Q 44.96875 56 45.984375 55.921875  Q 47.015625 55.859375 48.96875 55.609375  z \" id=\"DejaVuSans-Bold-114\" />\n     </defs>\n     <g style=\"fill:#444443;\" transform=\"translate(26.346875 15.598437)scale(0.1 -0.1)\">\n      <use xlink:href=\"#DejaVuSans-Bold-102\" />\n      <use x=\"43.505859\" xlink:href=\"#DejaVuSans-Bold-108\" />\n      <use x=\"77.783203\" xlink:href=\"#DejaVuSans-Bold-111\" />\n      <use x=\"146.484375\" xlink:href=\"#DejaVuSans-Bold-119\" />\n      <use x=\"238.867188\" xlink:href=\"#DejaVuSans-Bold-101\" />\n      <use x=\"306.689453\" xlink:href=\"#DejaVuSans-Bold-114\" />\n     </g>\n    </g>\n    <g id=\"patch_3\">\n     <path d=\"M 8 30.276562  L 28 30.276562  L 28 23.276562  L 8 23.276562  z \" style=\"fill:#fefebb;stroke:#444443;stroke-linejoin:miter;stroke-width:0.4;\" />\n    </g>\n    <g id=\"text_2\">\n     \n     <defs>\n      <path d=\"M 44.28125 53.078125  L 44.28125 44.578125  Q 40.484375 46.53125 36.375 47.5  Q 32.28125 48.484375 27.875 48.484375  Q 21.1875 48.484375 17.84375 46.4375  Q 14.5 44.390625 14.5 40.28125  Q 14.5 37.15625 16.890625 35.375  Q 19.28125 33.59375 26.515625 31.984375  L 29.59375 31.296875  Q 39.15625 29.25 43.1875 25.515625  Q 47.21875 21.78125 47.21875 15.09375  Q 47.21875 7.46875 41.1875 3.015625  Q 35.15625 -1.421875 24.609375 -1.421875  Q 20.21875 -1.421875 15.453125 -0.5625  Q 10.6875 0.296875 5.421875 2  L 5.421875 11.28125  Q 10.40625 8.6875 15.234375 7.390625  Q 20.0625 6.109375 24.8125 6.109375  Q 31.15625 6.109375 34.5625 8.28125  Q 37.984375 10.453125 37.984375 14.40625  Q 37.984375 18.0625 35.515625 20.015625  Q 33.0625 21.96875 24.703125 23.78125  L 21.578125 24.515625  Q 13.234375 26.265625 9.515625 29.90625  Q 5.8125 33.546875 5.8125 39.890625  Q 5.8125 47.609375 11.28125 51.796875  Q 16.75 56 26.8125 56  Q 31.78125 56 36.171875 55.265625  Q 40.578125 54.546875 44.28125 53.078125  z \" id=\"DejaVuSans-115\" />\n      <path d=\"M 56.203125 29.59375  L 56.203125 25.203125  L 14.890625 25.203125  Q 15.484375 15.921875 20.484375 11.0625  Q 25.484375 6.203125 34.421875 6.203125  Q 39.59375 6.203125 44.453125 7.46875  Q 49.3125 8.734375 54.109375 11.28125  L 54.109375 2.78125  Q 49.265625 0.734375 44.1875 -0.34375  Q 39.109375 -1.421875 33.890625 -1.421875  Q 20.796875 -1.421875 13.15625 6.1875  Q 5.515625 13.8125 5.515625 26.8125  Q 5.515625 40.234375 12.765625 48.109375  Q 20.015625 56 32.328125 56  Q 43.359375 56 49.78125 48.890625  Q 56.203125 41.796875 56.203125 29.59375  z M 47.21875 32.234375  Q 47.125 39.59375 43.09375 43.984375  Q 39.0625 48.390625 32.421875 48.390625  Q 24.90625 48.390625 20.390625 44.140625  Q 15.875 39.890625 15.1875 32.171875  z \" id=\"DejaVuSans-101\" />\n      <path d=\"M 18.3125 70.21875  L 18.3125 54.6875  L 36.8125 54.6875  L 36.8125 47.703125  L 18.3125 47.703125  L 18.3125 18.015625  Q 18.3125 11.328125 20.140625 9.421875  Q 21.96875 7.515625 27.59375 7.515625  L 36.8125 7.515625  L 36.8125 0  L 27.59375 0  Q 17.1875 0 13.234375 3.875  Q 9.28125 7.765625 9.28125 18.015625  L 9.28125 47.703125  L 2.6875 47.703125  L 2.6875 54.6875  L 9.28125 54.6875  L 9.28125 70.21875  z \" id=\"DejaVuSans-116\" />\n      <path d=\"M 30.609375 48.390625  Q 23.390625 48.390625 19.1875 42.75  Q 14.984375 37.109375 14.984375 27.296875  Q 14.984375 17.484375 19.15625 11.84375  Q 23.34375 6.203125 30.609375 6.203125  Q 37.796875 6.203125 41.984375 11.859375  Q 46.1875 17.53125 46.1875 27.296875  Q 46.1875 37.015625 41.984375 42.703125  Q 37.796875 48.390625 30.609375 48.390625  z M 30.609375 56  Q 42.328125 56 49.015625 48.375  Q 55.71875 40.765625 55.71875 27.296875  Q 55.71875 13.875 49.015625 6.21875  Q 42.328125 -1.421875 30.609375 -1.421875  Q 18.84375 -1.421875 12.171875 6.21875  Q 5.515625 13.875 5.515625 27.296875  Q 5.515625 40.765625 12.171875 48.375  Q 18.84375 56 30.609375 56  z \" id=\"DejaVuSans-111\" />\n      <path d=\"M 34.28125 27.484375  Q 23.390625 27.484375 19.1875 25  Q 14.984375 22.515625 14.984375 16.5  Q 14.984375 11.71875 18.140625 8.90625  Q 21.296875 6.109375 26.703125 6.109375  Q 34.1875 6.109375 38.703125 11.40625  Q 43.21875 16.703125 43.21875 25.484375  L 43.21875 27.484375  z M 52.203125 31.203125  L 52.203125 0  L 43.21875 0  L 43.21875 8.296875  Q 40.140625 3.328125 35.546875 0.953125  Q 30.953125 -1.421875 24.3125 -1.421875  Q 15.921875 -1.421875 10.953125 3.296875  Q 6 8.015625 6 15.921875  Q 6 25.140625 12.171875 29.828125  Q 18.359375 34.515625 30.609375 34.515625  L 43.21875 34.515625  L 43.21875 35.40625  Q 43.21875 41.609375 39.140625 45  Q 35.0625 48.390625 27.6875 48.390625  Q 23 48.390625 18.546875 47.265625  Q 14.109375 46.140625 10.015625 43.890625  L 10.015625 52.203125  Q 14.9375 54.109375 19.578125 55.046875  Q 24.21875 56 28.609375 56  Q 40.484375 56 46.34375 49.84375  Q 52.203125 43.703125 52.203125 31.203125  z \" id=\"DejaVuSans-97\" />\n     </defs>\n     <g style=\"fill:#444443;\" transform=\"translate(31.5 30.276562)scale(0.1 -0.1)\">\n      <use xlink:href=\"#DejaVuSans-115\" />\n      <use x=\"52.099609\" xlink:href=\"#DejaVuSans-101\" />\n      <use x=\"113.623047\" xlink:href=\"#DejaVuSans-116\" />\n      <use x=\"152.832031\" xlink:href=\"#DejaVuSans-111\" />\n      <use x=\"214.013672\" xlink:href=\"#DejaVuSans-115\" />\n      <use x=\"266.113281\" xlink:href=\"#DejaVuSans-97\" />\n     </g>\n    </g>\n    <g id=\"patch_4\">\n     <path d=\"M 8 44.954687  L 28 44.954687  L 28 37.954687  L 8 37.954687  z \" style=\"fill:#d9e6f5;stroke:#444443;stroke-linejoin:miter;stroke-width:0.4;\" />\n    </g>\n    <g id=\"text_3\">\n     \n     <defs>\n      <path d=\"M 2.984375 54.6875  L 12.5 54.6875  L 29.59375 8.796875  L 46.6875 54.6875  L 56.203125 54.6875  L 35.6875 0  L 23.484375 0  z \" id=\"DejaVuSans-118\" />\n      <path d=\"M 41.109375 46.296875  Q 39.59375 47.171875 37.8125 47.578125  Q 36.03125 48 33.890625 48  Q 26.265625 48 22.1875 43.046875  Q 18.109375 38.09375 18.109375 28.8125  L 18.109375 0  L 9.078125 0  L 9.078125 54.6875  L 18.109375 54.6875  L 18.109375 46.1875  Q 20.953125 51.171875 25.484375 53.578125  Q 30.03125 56 36.53125 56  Q 37.453125 56 38.578125 55.875  Q 39.703125 55.765625 41.0625 55.515625  z \" id=\"DejaVuSans-114\" />\n      <path d=\"M 9.421875 54.6875  L 18.40625 54.6875  L 18.40625 0  L 9.421875 0  z M 9.421875 75.984375  L 18.40625 75.984375  L 18.40625 64.59375  L 9.421875 64.59375  z \" id=\"DejaVuSans-105\" />\n      <path d=\"M 48.78125 52.59375  L 48.78125 44.1875  Q 44.96875 46.296875 41.140625 47.34375  Q 37.3125 48.390625 33.40625 48.390625  Q 24.65625 48.390625 19.8125 42.84375  Q 14.984375 37.3125 14.984375 27.296875  Q 14.984375 17.28125 19.8125 11.734375  Q 24.65625 6.203125 33.40625 6.203125  Q 37.3125 6.203125 41.140625 7.25  Q 44.96875 8.296875 48.78125 10.40625  L 48.78125 2.09375  Q 45.015625 0.34375 40.984375 -0.53125  Q 36.96875 -1.421875 32.421875 -1.421875  Q 20.0625 -1.421875 12.78125 6.34375  Q 5.515625 14.109375 5.515625 27.296875  Q 5.515625 40.671875 12.859375 48.328125  Q 20.21875 56 33.015625 56  Q 37.15625 56 41.109375 55.140625  Q 45.0625 54.296875 48.78125 52.59375  z \" id=\"DejaVuSans-99\" />\n      <path d=\"M 9.421875 75.984375  L 18.40625 75.984375  L 18.40625 0  L 9.421875 0  z \" id=\"DejaVuSans-108\" />\n     </defs>\n     <g style=\"fill:#444443;\" transform=\"translate(31.5 44.954687)scale(0.1 -0.1)\">\n      <use xlink:href=\"#DejaVuSans-118\" />\n      <use x=\"59.179688\" xlink:href=\"#DejaVuSans-101\" />\n      <use x=\"120.703125\" xlink:href=\"#DejaVuSans-114\" />\n      <use x=\"161.816406\" xlink:href=\"#DejaVuSans-115\" />\n      <use x=\"213.916016\" xlink:href=\"#DejaVuSans-105\" />\n      <use x=\"241.699219\" xlink:href=\"#DejaVuSans-99\" />\n      <use x=\"296.679688\" xlink:href=\"#DejaVuSans-111\" />\n      <use x=\"357.861328\" xlink:href=\"#DejaVuSans-108\" />\n      <use x=\"385.644531\" xlink:href=\"#DejaVuSans-111\" />\n      <use x=\"446.826172\" xlink:href=\"#DejaVuSans-114\" />\n     </g>\n    </g>\n    <g id=\"patch_5\">\n     <path d=\"M 8 59.632812  L 28 59.632812  L 28 52.632812  L 8 52.632812  z \" style=\"fill:#a1dab4;stroke:#444443;stroke-linejoin:miter;stroke-width:0.4;\" />\n    </g>\n    <g id=\"text_4\">\n     \n     <defs>\n      <path d=\"M 45.40625 27.984375  Q 45.40625 37.75 41.375 43.109375  Q 37.359375 48.484375 30.078125 48.484375  Q 22.859375 48.484375 18.828125 43.109375  Q 14.796875 37.75 14.796875 27.984375  Q 14.796875 18.265625 18.828125 12.890625  Q 22.859375 7.515625 30.078125 7.515625  Q 37.359375 7.515625 41.375 12.890625  Q 45.40625 18.265625 45.40625 27.984375  z M 54.390625 6.78125  Q 54.390625 -7.171875 48.1875 -13.984375  Q 42 -20.796875 29.203125 -20.796875  Q 24.46875 -20.796875 20.265625 -20.09375  Q 16.0625 -19.390625 12.109375 -17.921875  L 12.109375 -9.1875  Q 16.0625 -11.328125 19.921875 -12.34375  Q 23.78125 -13.375 27.78125 -13.375  Q 36.625 -13.375 41.015625 -8.765625  Q 45.40625 -4.15625 45.40625 5.171875  L 45.40625 9.625  Q 42.625 4.78125 38.28125 2.390625  Q 33.9375 0 27.875 0  Q 17.828125 0 11.671875 7.65625  Q 5.515625 15.328125 5.515625 27.984375  Q 5.515625 40.671875 11.671875 48.328125  Q 17.828125 56 27.875 56  Q 33.9375 56 38.28125 53.609375  Q 42.625 51.21875 45.40625 46.390625  L 45.40625 54.6875  L 54.390625 54.6875  z \" id=\"DejaVuSans-103\" />\n      <path d=\"M 54.890625 33.015625  L 54.890625 0  L 45.90625 0  L 45.90625 32.71875  Q 45.90625 40.484375 42.875 44.328125  Q 39.84375 48.1875 33.796875 48.1875  Q 26.515625 48.1875 22.3125 43.546875  Q 18.109375 38.921875 18.109375 30.90625  L 18.109375 0  L 9.078125 0  L 9.078125 54.6875  L 18.109375 54.6875  L 18.109375 46.1875  Q 21.34375 51.125 25.703125 53.5625  Q 30.078125 56 35.796875 56  Q 45.21875 56 50.046875 50.171875  Q 54.890625 44.34375 54.890625 33.015625  z \" id=\"DejaVuSans-110\" />\n     </defs>\n     <g style=\"fill:#444443;\" transform=\"translate(31.5 59.632812)scale(0.1 -0.1)\">\n      <use xlink:href=\"#DejaVuSans-118\" />\n      <use x=\"59.179688\" xlink:href=\"#DejaVuSans-105\" />\n      <use x=\"86.962891\" xlink:href=\"#DejaVuSans-114\" />\n      <use x=\"126.326172\" xlink:href=\"#DejaVuSans-103\" />\n      <use x=\"189.802734\" xlink:href=\"#DejaVuSans-105\" />\n      <use x=\"217.585938\" xlink:href=\"#DejaVuSans-110\" />\n      <use x=\"280.964844\" xlink:href=\"#DejaVuSans-105\" />\n      <use x=\"308.748047\" xlink:href=\"#DejaVuSans-99\" />\n      <use x=\"363.728516\" xlink:href=\"#DejaVuSans-97\" />\n     </g>\n    </g>\n   </g>\n  </g>\n </g>\n</svg></g>\n</g>\n</svg>"
          },
          "metadata": {},
          "execution_count": 7
        }
      ]
    },
    {
      "cell_type": "markdown",
      "metadata": {
        "id": "jzXAyv66fp1q"
      },
      "source": [
        "# Evaluate the performance"
      ]
    },
    {
      "cell_type": "code",
      "metadata": {
        "colab": {
          "base_uri": "https://localhost:8080/"
        },
        "id": "4whoEL6JfsVE",
        "outputId": "502a381e-5515-4ed9-8dfc-d4b66e0135f0"
      },
      "source": [
        "from sklearn.metrics import accuracy_score\n",
        "preds = dt.predict(X)\n",
        "preds"
      ],
      "execution_count": null,
      "outputs": [
        {
          "output_type": "execute_result",
          "data": {
            "text/plain": [
              "array(['no', 'no', 'yes', 'yes', 'yes', 'no', 'yes', 'no', 'yes', 'yes',\n",
              "       'yes', 'yes', 'yes', 'no'], dtype=object)"
            ]
          },
          "metadata": {},
          "execution_count": 33
        }
      ]
    },
    {
      "cell_type": "code",
      "metadata": {
        "colab": {
          "base_uri": "https://localhost:8080/"
        },
        "id": "HCfVBeKtgAnC",
        "outputId": "2c6bdbb6-e9e2-4b80-d049-3efd5e61edd8"
      },
      "source": [
        "y"
      ],
      "execution_count": null,
      "outputs": [
        {
          "output_type": "execute_result",
          "data": {
            "text/plain": [
              "0      no\n",
              "1      no\n",
              "2     yes\n",
              "3     yes\n",
              "4     yes\n",
              "5      no\n",
              "6     yes\n",
              "7      no\n",
              "8     yes\n",
              "9     yes\n",
              "10    yes\n",
              "11    yes\n",
              "12    yes\n",
              "13     no\n",
              "Name: play, dtype: object"
            ]
          },
          "metadata": {},
          "execution_count": 35
        }
      ]
    },
    {
      "cell_type": "code",
      "metadata": {
        "colab": {
          "base_uri": "https://localhost:8080/"
        },
        "id": "kVS72cgZf5vS",
        "outputId": "47de08d4-3798-4c04-a0b8-1492ec25e162"
      },
      "source": [
        "accuracy_score(y, preds)"
      ],
      "execution_count": null,
      "outputs": [
        {
          "output_type": "execute_result",
          "data": {
            "text/plain": [
              "1.0"
            ]
          },
          "metadata": {},
          "execution_count": 57
        }
      ]
    },
    {
      "cell_type": "markdown",
      "metadata": {
        "id": "FDQ5X_9E3WMB"
      },
      "source": [
        "# Collecting the data\n",
        "The data we will be using is the match history data for the NBA for the 2015-2016 season.\n",
        "\n",
        "The website [http://basketball-reference.com](http://basketball-reference.com) contains a significant number of resources\n",
        "and statistics collected from the NBA and other leagues.\n",
        "\n",
        "To download the dataset, perform the following steps:\n",
        "1. Navigate to [here](http://www.basketball-reference.com/leagues/NBA_2016_games.html) in your web browser.\n",
        "2. Click Share & Export.\n",
        "3. Click Get table as CSV (for Excel).\n",
        "4. Copy the data, including the heading, into a text file named basketball.csv.\n",
        "5. Repeat this process for the other months, except do not copy the heading.\n",
        "\n",
        "This will give you a CSV file containing the results from each game of this season of the NBA. Your file should contain 1316 games and a total of 1317 lines in the file, including the header line."
      ]
    },
    {
      "cell_type": "code",
      "metadata": {
        "colab": {
          "resources": {
            "http://localhost:8080/nbextensions/google.colab/files.js": {
              "data": "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",
              "ok": true,
              "headers": [
                [
                  "content-type",
                  "application/javascript"
                ]
              ],
              "status": 200,
              "status_text": ""
            }
          },
          "base_uri": "https://localhost:8080/",
          "height": 109
        },
        "id": "QlpMIMvwH23s",
        "outputId": "926a696f-ace5-4241-e657-c80c1f79357e"
      },
      "source": [
        "# upload the NBA file\n",
        "from google.colab import files\n",
        "files.upload()"
      ],
      "execution_count": null,
      "outputs": [
        {
          "output_type": "display_data",
          "data": {
            "text/html": [
              "\n",
              "     <input type=\"file\" id=\"files-21008c19-6657-47e8-9f5f-b592ee96b95e\" name=\"files[]\" multiple disabled\n",
              "        style=\"border:none\" />\n",
              "     <output id=\"result-21008c19-6657-47e8-9f5f-b592ee96b95e\">\n",
              "      Upload widget is only available when the cell has been executed in the\n",
              "      current browser session. Please rerun this cell to enable.\n",
              "      </output>\n",
              "      <script src=\"/nbextensions/google.colab/files.js\"></script> "
            ],
            "text/plain": [
              "<IPython.core.display.HTML object>"
            ]
          },
          "metadata": {}
        },
        {
          "output_type": "stream",
          "text": [
            "Saving nba-2016.csv to nba-2016.csv\n"
          ],
          "name": "stdout"
        },
        {
          "output_type": "execute_result",
          "data": {
            "text/plain": [
              "{'nba-2016.csv': b'Date,Start (ET),Visitor/Neutral,PTS,Home/Neutral,PTS,,,Attend.,Notes\\r\\nTue Oct 27 2015,8:00p,Cleveland Cavaliers,95,Chicago Bulls,97,Box Score,,21957,\\r\\nTue Oct 27 2015,8:00p,Detroit Pistons,106,Atlanta Hawks,94,Box Score,,19187,\\r\\nTue Oct 27 2015,10:30p,New Orleans Pelicans,95,Golden State Warriors,111,Box Score,,19596,\\r\\nWed Oct 28 2015,7:00p,Washington Wizards,88,Orlando Magic,87,Box Score,,18846,\\r\\nWed Oct 28 2015,7:30p,Philadelphia 76ers,95,Boston Celtics,112,Box Score,,18624,\\r\\nWed Oct 28 2015,7:30p,Chicago Bulls,115,Brooklyn Nets,100,Box Score,,17732,\\r\\nWed Oct 28 2015,7:30p,Utah Jazz,87,Detroit Pistons,92,Box Score,,18434,\\r\\nWed Oct 28 2015,7:30p,Indiana Pacers,99,Toronto Raptors,106,Box Score,,19800,\\r\\nWed Oct 28 2015,7:30p,Charlotte Hornets,94,Miami Heat,104,Box Score,,19724,\\r\\nWed Oct 28 2015,8:00p,New York Knicks,122,Milwaukee Bucks,97,Box Score,,18717,\\r\\nWed Oct 28 2015,8:00p,San Antonio Spurs,106,Oklahoma City Thunder,112,Box Score,,18203,\\r\\nWed Oct 28 2015,8:00p,Cleveland Cavaliers,106,Memphis Grizzlies,76,Box Score,,18119,\\r\\nWed Oct 28 2015,8:00p,Denver Nuggets,105,Houston Rockets,85,Box Score,,18240,\\r\\nWed Oct 28 2015,10:00p,Dallas Mavericks,111,Phoenix Suns,95,Box Score,,18055,\\r\\nWed Oct 28 2015,10:00p,New Orleans Pelicans,94,Portland Trail Blazers,112,Box Score,,19393,\\r\\nWed Oct 28 2015,10:00p,Los Angeles Clippers,111,Sacramento Kings,104,Box Score,,17458,\\r\\nWed Oct 28 2015,10:30p,Minnesota Timberwolves,112,Los Angeles Lakers,111,Box Score,,18997,\\r\\nThu Oct 29 2015,7:00p,Memphis Grizzlies,112,Indiana Pacers,103,Box Score,,18165,\\r\\nThu Oct 29 2015,8:00p,Atlanta Hawks,112,New York Knicks,101,Box Score,,19812,\\r\\nThu Oct 29 2015,10:30p,Dallas Mavericks,88,Los Angeles Clippers,104,Box Score,,19218,\\r\\nFri Oct 30 2015,7:00p,Miami Heat,92,Cleveland Cavaliers,102,Box Score,,20562,\\r\\nFri Oct 30 2015,7:00p,Utah Jazz,99,Philadelphia 76ers,71,Box Score,,17122,\\r\\nFri Oct 30 2015,7:00p,Oklahoma City Thunder,139,Orlando Magic,136,Box Score,2OT,18846,\\r\\nFri Oct 30 2015,7:30p,Toronto Raptors,113,Boston Celtics,103,Box Score,,16898,\\r\\nFri Oct 30 2015,7:30p,Chicago Bulls,94,Detroit Pistons,98,Box Score,OT,16035,\\r\\nFri Oct 30 2015,8:00p,Charlotte Hornets,94,Atlanta Hawks,97,Box Score,,17024,\\r\\nFri Oct 30 2015,8:00p,Washington Wizards,118,Milwaukee Bucks,113,Box Score,,13858,\\r\\nFri Oct 30 2015,8:30p,Brooklyn Nets,75,San Antonio Spurs,102,Box Score,,18418,\\r\\nFri Oct 30 2015,9:00p,Minnesota Timberwolves,95,Denver Nuggets,78,Box Score,,17660,\\r\\nFri Oct 30 2015,9:30p,Golden State Warriors,112,Houston Rockets,92,Box Score,,18142,\\r\\nFri Oct 30 2015,10:00p,Los Angeles Lakers,114,Sacramento Kings,132,Box Score,,17391,\\r\\nFri Oct 30 2015,10:30p,Portland Trail Blazers,92,Phoenix Suns,110,Box Score,,18055,\\r\\nSat Oct 31 2015,7:00p,Utah Jazz,97,Indiana Pacers,76,Box Score,,14412,\\r\\nSat Oct 31 2015,7:00p,New York Knicks,117,Washington Wizards,110,Box Score,,20356,\\r\\nSat Oct 31 2015,7:30p,Golden State Warriors,134,New Orleans Pelicans,120,Box Score,,18406,\\r\\nSat Oct 31 2015,8:00p,Brooklyn Nets,91,Memphis Grizzlies,101,Box Score,,16013,\\r\\nSat Oct 31 2015,10:00p,Phoenix Suns,101,Portland Trail Blazers,90,Box Score,,17906,\\r\\nSat Oct 31 2015,10:30p,Sacramento Kings,109,Los Angeles Clippers,114,Box Score,,19060,\\r\\nSun Nov 1 2015,2:00p,Atlanta Hawks,94,Charlotte Hornets,92,Box Score,,18691,\\r\\nSun Nov 1 2015,3:30p,San Antonio Spurs,95,Boston Celtics,87,Box Score,,17461,\\r\\nSun Nov 1 2015,6:00p,Houston Rockets,89,Miami Heat,109,Box Score,,19600,\\r\\nSun Nov 1 2015,6:00p,Milwaukee Bucks,87,Toronto Raptors,106,Box Score,,19800,\\r\\nSun Nov 1 2015,7:00p,Orlando Magic,87,Chicago Bulls,92,Box Score,,21585,\\r\\nSun Nov 1 2015,7:00p,Denver Nuggets,93,Oklahoma City Thunder,117,Box Score,,18203,\\r\\nSun Nov 1 2015,9:30p,Dallas Mavericks,103,Los Angeles Lakers,93,Box Score,,18997,\\r\\nMon Nov 2 2015,7:00p,Cleveland Cavaliers,107,Philadelphia 76ers,100,Box Score,,18094,\\r\\nMon Nov 2 2015,7:30p,Milwaukee Bucks,103,Brooklyn Nets,96,Box Score,,12576,\\r\\nMon Nov 2 2015,7:30p,San Antonio Spurs,94,New York Knicks,84,Box Score,,19812,\\r\\nMon Nov 2 2015,8:00p,Oklahoma City Thunder,105,Houston Rockets,110,Box Score,,17224,\\r\\nMon Nov 2 2015,8:00p,Portland Trail Blazers,106,Minnesota Timberwolves,101,Box Score,,18903,\\r\\nMon Nov 2 2015,10:30p,Memphis Grizzlies,69,Golden State Warriors,119,Box Score,,19596,\\r\\nMon Nov 2 2015,10:30p,Phoenix Suns,96,Los Angeles Clippers,102,Box Score,,19060,\\r\\nTue Nov 3 2015,7:00p,Chicago Bulls,105,Charlotte Hornets,130,Box Score,,15136,\\r\\nTue Nov 3 2015,7:30p,Indiana Pacers,94,Detroit Pistons,82,Box Score,,13325,\\r\\nTue Nov 3 2015,7:30p,Atlanta Hawks,98,Miami Heat,92,Box Score,,19600,\\r\\nTue Nov 3 2015,8:00p,Orlando Magic,103,New Orleans Pelicans,94,Box Score,,16876,\\r\\nTue Nov 3 2015,8:30p,Toronto Raptors,102,Dallas Mavericks,91,Box Score,,20034,\\r\\nTue Nov 3 2015,10:00p,Memphis Grizzlies,103,Sacramento Kings,89,Box Score,,17317,\\r\\nTue Nov 3 2015,10:30p,Denver Nuggets,120,Los Angeles Lakers,109,Box Score,,18997,\\r\\nWed Nov 4 2015,7:00p,Boston Celtics,98,Indiana Pacers,100,Box Score,,14022,\\r\\nWed Nov 4 2015,7:00p,San Antonio Spurs,99,Washington Wizards,102,Box Score,,17721,\\r\\nWed Nov 4 2015,8:00p,Brooklyn Nets,87,Atlanta Hawks,101,Box Score,,14044,\\r\\nWed Nov 4 2015,8:00p,New York Knicks,86,Cleveland Cavaliers,96,Box Score,,20562,\\r\\nWed Nov 4 2015,8:00p,Orlando Magic,114,Houston Rockets,119,Box Score,OT,16735,\\r\\nWed Nov 4 2015,8:00p,Philadelphia 76ers,87,Milwaukee Bucks,91,Box Score,,12437,\\r\\nWed Nov 4 2015,8:00p,Toronto Raptors,103,Oklahoma City Thunder,98,Box Score,,18203,\\r\\nWed Nov 4 2015,9:00p,Sacramento Kings,97,Phoenix Suns,118,Box Score,,16497,\\r\\nWed Nov 4 2015,9:00p,Portland Trail Blazers,108,Utah Jazz,92,Box Score,,19911,\\r\\nWed Nov 4 2015,10:30p,Los Angeles Clippers,108,Golden State Warriors,112,Box Score,,19596,\\r\\nThu Nov 5 2015,8:00p,Oklahoma City Thunder,98,Chicago Bulls,104,Box Score,,21861,\\r\\nThu Nov 5 2015,8:00p,Miami Heat,96,Minnesota Timberwolves,84,Box Score,,11794,\\r\\nThu Nov 5 2015,8:30p,Charlotte Hornets,108,Dallas Mavericks,94,Box Score,,19635,\\r\\nThu Nov 5 2015,9:00p,Utah Jazz,96,Denver Nuggets,84,Box Score,,9906,\\r\\nThu Nov 5 2015,10:30p,Memphis Grizzlies,96,Portland Trail Blazers,115,Box Score,,19393,\\r\\nFri Nov 6 2015,7:00p,Toronto Raptors,87,Orlando Magic,92,Box Score,,16578,\\r\\nFri Nov 6 2015,7:30p,Washington Wizards,98,Boston Celtics,118,Box Score,,18624,\\r\\nFri Nov 6 2015,7:30p,Los Angeles Lakers,104,Brooklyn Nets,98,Box Score,,17732,\\r\\nFri Nov 6 2015,7:30p,Philadelphia 76ers,102,Cleveland Cavaliers,108,Box Score,,20562,\\r\\nFri Nov 6 2015,7:30p,Milwaukee Bucks,99,New York Knicks,92,Box Score,,19812,\\r\\nFri Nov 6 2015,8:00p,Miami Heat,87,Indiana Pacers,90,Box Score,,16914,\\r\\nFri Nov 6 2015,8:00p,Atlanta Hawks,121,New Orleans Pelicans,115,Box Score,,16983,\\r\\nFri Nov 6 2015,9:30p,Detroit Pistons,100,Phoenix Suns,92,Box Score,,16676,\\r\\nFri Nov 6 2015,10:30p,Denver Nuggets,104,Golden State Warriors,119,Box Score,,19596,\\r\\nFri Nov 6 2015,10:30p,Houston Rockets,116,Sacramento Kings,110,Box Score,,16983,\\r\\nSat Nov 7 2015,6:00p,Minnesota Timberwolves,102,Chicago Bulls,93,Box Score,OT,21988,\\r\\nSat Nov 7 2015,7:00p,Orlando Magic,105,Philadelphia 76ers,97,Box Score,,15207,\\r\\nSat Nov 7 2015,7:30p,Washington Wizards,99,Atlanta Hawks,114,Box Score,,18047,\\r\\nSat Nov 7 2015,8:30p,New Orleans Pelicans,98,Dallas Mavericks,107,Box Score,,20454,\\r\\nSat Nov 7 2015,8:30p,Brooklyn Nets,86,Milwaukee Bucks,94,Box Score,,15228,\\r\\nSat Nov 7 2015,8:30p,Charlotte Hornets,94,San Antonio Spurs,114,Box Score,,18418,\\r\\nSat Nov 7 2015,9:00p,Memphis Grizzlies,79,Utah Jazz,89,Box Score,,19456,\\r\\nSat Nov 7 2015,10:00p,Golden State Warriors,103,Sacramento Kings,94,Box Score,,17317,\\r\\nSat Nov 7 2015,10:30p,Houston Rockets,109,Los Angeles Clippers,105,Box Score,,19361,\\r\\nSun Nov 8 2015,3:30p,Indiana Pacers,97,Cleveland Cavaliers,101,Box Score,,20562,\\r\\nSun Nov 8 2015,3:30p,Los Angeles Lakers,95,New York Knicks,99,Box Score,,19812,\\r\\nSun Nov 8 2015,6:00p,Toronto Raptors,76,Miami Heat,96,Box Score,,19600,\\r\\nSun Nov 8 2015,7:00p,Phoenix Suns,103,Oklahoma City Thunder,124,Box Score,,18203,\\r\\nSun Nov 8 2015,9:00p,Detroit Pistons,120,Portland Trail Blazers,103,Box Score,,19393,\\r\\nMon Nov 9 2015,7:00p,Orlando Magic,84,Indiana Pacers,97,Box Score,,13104,\\r\\nMon Nov 9 2015,7:00p,Chicago Bulls,111,Philadelphia 76ers,88,Box Score,,13879,\\r\\nMon Nov 9 2015,8:00p,Minnesota Timberwolves,117,Atlanta Hawks,107,Box Score,,12016,\\r\\nMon Nov 9 2015,9:00p,Portland Trail Blazers,104,Denver Nuggets,108,Box Score,,9153,\\r\\nMon Nov 9 2015,10:00p,San Antonio Spurs,106,Sacramento Kings,88,Box Score,,17317,\\r\\nMon Nov 9 2015,10:30p,Detroit Pistons,95,Golden State Warriors,109,Box Score,,19596,\\r\\nMon Nov 9 2015,10:30p,Memphis Grizzlies,92,Los Angeles Clippers,94,Box Score,,19060,\\r\\nTue Nov 10 2015,7:00p,Utah Jazz,114,Cleveland Cavaliers,118,Box Score,,20562,\\r\\nTue Nov 10 2015,7:00p,Oklahoma City Thunder,125,Washington Wizards,101,Box Score,,20356,\\r\\nTue Nov 10 2015,7:30p,Los Angeles Lakers,88,Miami Heat,101,Box Score,,19825,\\r\\nTue Nov 10 2015,7:30p,New York Knicks,111,Toronto Raptors,109,Box Score,,19800,\\r\\nTue Nov 10 2015,8:00p,Boston Celtics,99,Milwaukee Bucks,83,Box Score,,11822,\\r\\nTue Nov 10 2015,8:00p,Charlotte Hornets,104,Minnesota Timberwolves,95,Box Score,,14722,\\r\\nTue Nov 10 2015,8:00p,Dallas Mavericks,105,New Orleans Pelicans,120,Box Score,,17128,\\r\\nWed Nov 11 2015,7:00p,New York Knicks,93,Charlotte Hornets,95,Box Score,,16643,\\r\\nWed Nov 11 2015,7:00p,Los Angeles Lakers,99,Orlando Magic,101,Box Score,,18846,\\r\\nWed Nov 11 2015,7:00p,Toronto Raptors,119,Philadelphia 76ers,103,Box Score,,12744,\\r\\nWed Nov 11 2015,7:30p,Indiana Pacers,102,Boston Celtics,91,Box Score,,17879,\\r\\nWed Nov 11 2015,8:00p,New Orleans Pelicans,98,Atlanta Hawks,106,Box Score,,15597,\\r\\nWed Nov 11 2015,8:00p,Los Angeles Clippers,108,Dallas Mavericks,118,Box Score,,19805,\\r\\nWed Nov 11 2015,8:00p,Brooklyn Nets,106,Houston Rockets,98,Box Score,,18155,\\r\\nWed Nov 11 2015,8:00p,Golden State Warriors,100,Memphis Grizzlies,84,Box Score,,18119,\\r\\nWed Nov 11 2015,9:00p,Milwaukee Bucks,102,Denver Nuggets,103,Box Score,,9403,\\r\\nWed Nov 11 2015,10:00p,Detroit Pistons,92,Sacramento Kings,101,Box Score,,17317,\\r\\nWed Nov 11 2015,10:30p,San Antonio Spurs,113,Portland Trail Blazers,101,Box Score,,19393,\\r\\nThu Nov 12 2015,7:30p,Utah Jazz,91,Miami Heat,92,Box Score,,19600,\\r\\nThu Nov 12 2015,8:00p,Golden State Warriors,129,Minnesota Timberwolves,116,Box Score,,16130,\\r\\nThu Nov 12 2015,10:30p,Los Angeles Clippers,104,Phoenix Suns,118,Box Score,,17204,\\r\\nFri Nov 13 2015,7:00p,Minnesota Timberwolves,103,Indiana Pacers,107,Box Score,,16797,\\r\\nFri Nov 13 2015,7:00p,Utah Jazz,93,Orlando Magic,102,Box Score,,16709,\\r\\nFri Nov 13 2015,7:30p,Atlanta Hawks,93,Boston Celtics,106,Box Score,,17138,\\r\\nFri Nov 13 2015,7:30p,Cleveland Cavaliers,90,New York Knicks,84,Box Score,,19812,\\r\\nFri Nov 13 2015,7:30p,New Orleans Pelicans,81,Toronto Raptors,100,Box Score,,19800,\\r\\nFri Nov 13 2015,8:00p,Charlotte Hornets,97,Chicago Bulls,102,Box Score,,21749,\\r\\nFri Nov 13 2015,8:00p,Portland Trail Blazers,100,Memphis Grizzlies,101,Box Score,,16919,\\r\\nFri Nov 13 2015,8:00p,Philadelphia 76ers,85,Oklahoma City Thunder,102,Box Score,,18203,\\r\\nFri Nov 13 2015,8:30p,Los Angeles Lakers,82,Dallas Mavericks,90,Box Score,,20260,\\r\\nFri Nov 13 2015,9:00p,Houston Rockets,98,Denver Nuggets,107,Box Score,,16113,\\r\\nFri Nov 13 2015,10:00p,Brooklyn Nets,109,Sacramento Kings,111,Box Score,,17131,\\r\\nSat Nov 14 2015,3:30p,Detroit Pistons,96,Los Angeles Clippers,101,Box Score,,19060,\\r\\nSat Nov 14 2015,7:00p,Orlando Magic,99,Washington Wizards,108,Box Score,,18311,\\r\\nSat Nov 14 2015,8:00p,Dallas Mavericks,110,Houston Rockets,98,Box Score,,18231,\\r\\nSat Nov 14 2015,8:30p,Cleveland Cavaliers,105,Milwaukee Bucks,108,Box Score,2OT,18717,\\r\\nSat Nov 14 2015,8:30p,Philadelphia 76ers,83,San Antonio Spurs,92,Box Score,,18418,\\r\\nSat Nov 14 2015,9:00p,Denver Nuggets,81,Phoenix Suns,105,Box Score,,16722,\\r\\nSat Nov 14 2015,10:30p,Brooklyn Nets,99,Golden State Warriors,107,Box Score,OT,19596,\\r\\nSun Nov 15 2015,12:00p,New Orleans Pelicans,87,New York Knicks,95,Box Score,,19812,\\r\\nSun Nov 15 2015,3:30p,Memphis Grizzlies,114,Minnesota Timberwolves,106,Box Score,,12086,\\r\\nSun Nov 15 2015,5:00p,Portland Trail Blazers,94,Charlotte Hornets,106,Box Score,,15317,\\r\\nSun Nov 15 2015,6:00p,Utah Jazz,97,Atlanta Hawks,96,Box Score,,14436,\\r\\nSun Nov 15 2015,7:00p,Boston Celtics,100,Oklahoma City Thunder,85,Box Score,,18203,\\r\\nSun Nov 15 2015,9:00p,Toronto Raptors,101,Sacramento Kings,107,Box Score,,17006,\\r\\nSun Nov 15 2015,9:30p,Detroit Pistons,85,Los Angeles Lakers,97,Box Score,,18997,\\r\\nMon Nov 16 2015,7:00p,Dallas Mavericks,92,Philadelphia 76ers,86,Box Score,,11555,\\r\\nMon Nov 16 2015,8:00p,Indiana Pacers,95,Chicago Bulls,96,Box Score,,21660,\\r\\nMon Nov 16 2015,8:00p,Boston Celtics,111,Houston Rockets,95,Box Score,,17005,\\r\\nMon Nov 16 2015,8:00p,Oklahoma City Thunder,114,Memphis Grizzlies,122,Box Score,,17270,\\r\\nMon Nov 16 2015,8:30p,Portland Trail Blazers,80,San Antonio Spurs,93,Box Score,,18418,\\r\\nMon Nov 16 2015,9:00p,Los Angeles Lakers,101,Phoenix Suns,120,Box Score,,18055,\\r\\nTue Nov 17 2015,7:00p,Milwaukee Bucks,86,Washington Wizards,115,Box Score,,15485,\\r\\nTue Nov 17 2015,7:30p,Atlanta Hawks,88,Brooklyn Nets,90,Box Score,,12241,\\r\\nTue Nov 17 2015,7:30p,Cleveland Cavaliers,99,Detroit Pistons,104,Box Score,,18442,\\r\\nTue Nov 17 2015,7:30p,Minnesota Timberwolves,103,Miami Heat,91,Box Score,,19600,\\r\\nTue Nov 17 2015,7:30p,Charlotte Hornets,94,New York Knicks,102,Box Score,,19812,\\r\\nTue Nov 17 2015,8:00p,Denver Nuggets,115,New Orleans Pelicans,98,Box Score,,17269,\\r\\nTue Nov 17 2015,10:30p,Toronto Raptors,110,Golden State Warriors,115,Box Score,,19596,\\r\\nWed Nov 18 2015,7:00p,Brooklyn Nets,111,Charlotte Hornets,116,Box Score,,14040,\\r\\nWed Nov 18 2015,7:00p,Minnesota Timberwolves,101,Orlando Magic,104,Box Score,OT,16048,\\r\\nWed Nov 18 2015,7:00p,Indiana Pacers,112,Philadelphia 76ers,85,Box Score,,11080,\\r\\nWed Nov 18 2015,7:30p,Dallas Mavericks,106,Boston Celtics,102,Box Score,,17262,\\r\\nWed Nov 18 2015,8:00p,Sacramento Kings,97,Atlanta Hawks,103,Box Score,,13008,\\r\\nWed Nov 18 2015,8:00p,Portland Trail Blazers,103,Houston Rockets,108,Box Score,OT,17107,\\r\\nWed Nov 18 2015,8:00p,New Orleans Pelicans,103,Oklahoma City Thunder,110,Box Score,,18203,\\r\\nWed Nov 18 2015,8:30p,Denver Nuggets,98,San Antonio Spurs,109,Box Score,,18418,\\r\\nWed Nov 18 2015,9:00p,Toronto Raptors,89,Utah Jazz,93,Box Score,,18741,\\r\\nWed Nov 18 2015,10:30p,Chicago Bulls,103,Phoenix Suns,97,Box Score,,17377,\\r\\nThu Nov 19 2015,7:30p,Sacramento Kings,109,Miami Heat,116,Box Score,,19600,\\r\\nThu Nov 19 2015,8:00p,Milwaukee Bucks,100,Cleveland Cavaliers,115,Box Score,,20562,\\r\\nThu Nov 19 2015,10:30p,Golden State Warriors,124,Los Angeles Clippers,117,Box Score,,19528,\\r\\nFri Nov 20 2015,7:00p,Philadelphia 76ers,88,Charlotte Hornets,113,Box Score,,17926,\\r\\nFri Nov 20 2015,7:30p,Brooklyn Nets,95,Boston Celtics,120,Box Score,,18361,\\r\\nFri Nov 20 2015,8:00p,Houston Rockets,84,Memphis Grizzlies,96,Box Score,,17555,\\r\\nFri Nov 20 2015,8:00p,Detroit Pistons,96,Minnesota Timberwolves,86,Box Score,,13445,\\r\\nFri Nov 20 2015,8:00p,San Antonio Spurs,90,New Orleans Pelicans,104,Box Score,,16698,\\r\\nFri Nov 20 2015,8:00p,New York Knicks,93,Oklahoma City Thunder,90,Box Score,,18203,\\r\\nFri Nov 20 2015,8:30p,Utah Jazz,93,Dallas Mavericks,102,Box Score,,20028,\\r\\nFri Nov 20 2015,9:00p,Phoenix Suns,114,Denver Nuggets,107,Box Score,,12264,\\r\\nFri Nov 20 2015,10:00p,Los Angeles Clippers,91,Portland Trail Blazers,102,Box Score,,19393,\\r\\nFri Nov 20 2015,10:30p,Chicago Bulls,94,Golden State Warriors,106,Box Score,,19596,\\r\\nFri Nov 20 2015,10:30p,Toronto Raptors,102,Los Angeles Lakers,91,Box Score,,18997,\\r\\nSat Nov 21 2015,5:00p,Sacramento Kings,97,Orlando Magic,91,Box Score,,16104,\\r\\nSat Nov 21 2015,7:00p,Milwaukee Bucks,86,Indiana Pacers,123,Box Score,,17137,\\r\\nSat Nov 21 2015,7:30p,Atlanta Hawks,97,Cleveland Cavaliers,109,Box Score,,20562,\\r\\nSat Nov 21 2015,7:30p,Washington Wizards,97,Detroit Pistons,95,Box Score,,15890,\\r\\nSat Nov 21 2015,8:00p,New York Knicks,107,Houston Rockets,102,Box Score,,18226,\\r\\nSat Nov 21 2015,8:00p,Philadelphia 76ers,91,Miami Heat,96,Box Score,,19673,\\r\\nSat Nov 21 2015,8:30p,Memphis Grizzlies,82,San Antonio Spurs,92,Box Score,,18418,\\r\\nSun Nov 22 2015,3:30p,Toronto Raptors,91,Los Angeles Clippers,80,Box Score,,19060,\\r\\nSun Nov 22 2015,6:00p,Boston Celtics,101,Brooklyn Nets,111,Box Score,,14866,\\r\\nSun Nov 22 2015,6:00p,Phoenix Suns,116,New Orleans Pelicans,122,Box Score,,16680,\\r\\nSun Nov 22 2015,7:00p,Dallas Mavericks,114,Oklahoma City Thunder,117,Box Score,,18203,\\r\\nSun Nov 22 2015,8:00p,Golden State Warriors,118,Denver Nuggets,105,Box Score,,17689,\\r\\nSun Nov 22 2015,9:30p,Portland Trail Blazers,107,Los Angeles Lakers,93,Box Score,,18997,\\r\\nMon Nov 23 2015,7:00p,Sacramento Kings,122,Charlotte Hornets,127,Box Score,OT,14163,\\r\\nMon Nov 23 2015,7:00p,Orlando Magic,103,Cleveland Cavaliers,117,Box Score,,20562,\\r\\nMon Nov 23 2015,7:30p,New York Knicks,78,Miami Heat,95,Box Score,,19777,\\r\\nMon Nov 23 2015,8:00p,Detroit Pistons,88,Milwaukee Bucks,109,Box Score,,12319,\\r\\nMon Nov 23 2015,8:00p,Philadelphia 76ers,95,Minnesota Timberwolves,100,Box Score,,11382,\\r\\nMon Nov 23 2015,8:30p,Phoenix Suns,84,San Antonio Spurs,98,Box Score,,18418,\\r\\nMon Nov 23 2015,9:00p,Oklahoma City Thunder,111,Utah Jazz,89,Box Score,,19911,\\r\\nTue Nov 24 2015,7:00p,Indiana Pacers,123,Washington Wizards,106,Box Score,,15486,\\r\\nTue Nov 24 2015,8:00p,Boston Celtics,97,Atlanta Hawks,121,Box Score,,18968,\\r\\nTue Nov 24 2015,8:00p,Dallas Mavericks,96,Memphis Grizzlies,110,Box Score,,17381,\\r\\nTue Nov 24 2015,9:00p,Los Angeles Clippers,111,Denver Nuggets,94,Box Score,,13257,\\r\\nTue Nov 24 2015,10:00p,Chicago Bulls,93,Portland Trail Blazers,88,Box Score,,19393,\\r\\nTue Nov 24 2015,10:30p,Los Angeles Lakers,77,Golden State Warriors,111,Box Score,,19596,\\r\\nWed Nov 25 2015,7:00p,Washington Wizards,87,Charlotte Hornets,101,Box Score,,17064,\\r\\nWed Nov 25 2015,7:00p,New York Knicks,91,Orlando Magic,100,Box Score,,18846,\\r\\nWed Nov 25 2015,7:30p,Philadelphia 76ers,80,Boston Celtics,84,Box Score,,17588,\\r\\nWed Nov 25 2015,7:30p,Miami Heat,81,Detroit Pistons,104,Box Score,,15119,\\r\\nWed Nov 25 2015,7:30p,Cleveland Cavaliers,99,Toronto Raptors,103,Box Score,,20140,\\r\\nWed Nov 25 2015,8:00p,Memphis Grizzlies,102,Houston Rockets,93,Box Score,,18143,\\r\\nWed Nov 25 2015,8:00p,Sacramento Kings,129,Milwaukee Bucks,118,Box Score,,14120,\\r\\nWed Nov 25 2015,8:00p,Atlanta Hawks,95,Minnesota Timberwolves,99,Box Score,,14289,\\r\\nWed Nov 25 2015,8:00p,Brooklyn Nets,99,Oklahoma City Thunder,110,Box Score,,18203,\\r\\nWed Nov 25 2015,8:30p,Dallas Mavericks,83,San Antonio Spurs,88,Box Score,,18418,\\r\\nWed Nov 25 2015,9:00p,New Orleans Pelicans,120,Phoenix Suns,114,Box Score,,16338,\\r\\nWed Nov 25 2015,10:30p,Utah Jazz,102,Los Angeles Clippers,91,Box Score,,19060,\\r\\nFri Nov 27 2015,7:00p,Cleveland Cavaliers,95,Charlotte Hornets,90,Box Score,,19093,\\r\\nFri Nov 27 2015,7:00p,Milwaukee Bucks,90,Orlando Magic,114,Box Score,,16317,\\r\\nFri Nov 27 2015,7:30p,Washington Wizards,78,Boston Celtics,111,Box Score,,18624,\\r\\nFri Nov 27 2015,7:30p,Miami Heat,97,New York Knicks,78,Box Score,,19812,\\r\\nFri Nov 27 2015,8:00p,Philadelphia 76ers,114,Houston Rockets,116,Box Score,,17306,\\r\\nFri Nov 27 2015,8:00p,Chicago Bulls,92,Indiana Pacers,104,Box Score,,18165,\\r\\nFri Nov 27 2015,8:00p,Atlanta Hawks,116,Memphis Grizzlies,101,Box Score,,17684,\\r\\nFri Nov 27 2015,8:00p,Detroit Pistons,87,Oklahoma City Thunder,103,Box Score,,18203,\\r\\nFri Nov 27 2015,9:00p,San Antonio Spurs,91,Denver Nuggets,80,Box Score,,17121,\\r\\nFri Nov 27 2015,9:30p,Golden State Warriors,135,Phoenix Suns,116,Box Score,,18055,\\r\\nFri Nov 27 2015,10:00p,Minnesota Timberwolves,101,Sacramento Kings,91,Box Score,,17317,\\r\\nFri Nov 27 2015,10:30p,New Orleans Pelicans,90,Los Angeles Clippers,111,Box Score,,19162,\\r\\nSat Nov 28 2015,7:00p,Toronto Raptors,84,Washington Wizards,82,Box Score,,16841,\\r\\nSat Nov 28 2015,7:30p,Brooklyn Nets,88,Cleveland Cavaliers,90,Box Score,,20562,\\r\\nSat Nov 28 2015,8:30p,Denver Nuggets,81,Dallas Mavericks,92,Box Score,,20339,\\r\\nSat Nov 28 2015,8:30p,Atlanta Hawks,88,San Antonio Spurs,108,Box Score,,18418,\\r\\nSat Nov 28 2015,9:00p,New Orleans Pelicans,87,Utah Jazz,101,Box Score,,19911,\\r\\nSat Nov 28 2015,10:00p,Los Angeles Lakers,96,Portland Trail Blazers,108,Box Score,,20019,\\r\\nSat Nov 28 2015,10:30p,Sacramento Kings,101,Golden State Warriors,120,Box Score,,19596,\\r\\nSun Nov 29 2015,2:00p,Milwaukee Bucks,82,Charlotte Hornets,87,Box Score,,14224,\\r\\nSun Nov 29 2015,3:30p,Minnesota Timberwolves,99,Los Angeles Clippers,107,Box Score,,19060,\\r\\nSun Nov 29 2015,6:00p,Detroit Pistons,83,Brooklyn Nets,87,Box Score,,12823,\\r\\nSun Nov 29 2015,6:00p,Philadelphia 76ers,84,Memphis Grizzlies,92,Box Score,,15322,\\r\\nSun Nov 29 2015,6:00p,Boston Celtics,91,Orlando Magic,110,Box Score,,16209,\\r\\nSun Nov 29 2015,6:00p,Phoenix Suns,107,Toronto Raptors,102,Box Score,,19800,\\r\\nSun Nov 29 2015,7:30p,Houston Rockets,116,New York Knicks,111,Box Score,OT,19812,\\r\\nSun Nov 29 2015,9:30p,Indiana Pacers,107,Los Angeles Lakers,103,Box Score,,18997,\\r\\nMon Nov 30 2015,7:30p,Houston Rockets,105,Detroit Pistons,116,Box Score,,14818,\\r\\nMon Nov 30 2015,7:30p,Boston Celtics,105,Miami Heat,95,Box Score,,19600,\\r\\nMon Nov 30 2015,8:00p,Oklahoma City Thunder,100,Atlanta Hawks,106,Box Score,,17768,\\r\\nMon Nov 30 2015,8:00p,San Antonio Spurs,89,Chicago Bulls,92,Box Score,,21909,\\r\\nMon Nov 30 2015,8:00p,Denver Nuggets,74,Milwaukee Bucks,92,Box Score,,10187,\\r\\nMon Nov 30 2015,9:00p,Golden State Warriors,106,Utah Jazz,103,Box Score,,19911,\\r\\nMon Nov 30 2015,10:00p,Dallas Mavericks,98,Sacramento Kings,112,Box Score,,16937,\\r\\nMon Nov 30 2015,10:30p,Portland Trail Blazers,87,Los Angeles Clippers,102,Box Score,,19060,\\r\\nTue Dec 1 2015,7:00p,Washington Wizards,97,Cleveland Cavaliers,85,Box Score,,20562,\\r\\nTue Dec 1 2015,7:00p,Los Angeles Lakers,91,Philadelphia 76ers,103,Box Score,,20510,\\r\\nTue Dec 1 2015,7:30p,Phoenix Suns,91,Brooklyn Nets,94,Box Score,,12787,\\r\\nTue Dec 1 2015,8:00p,Orlando Magic,96,Minnesota Timberwolves,93,Box Score,,10694,\\r\\nTue Dec 1 2015,8:00p,Memphis Grizzlies,113,New Orleans Pelicans,104,Box Score,,16020,\\r\\nTue Dec 1 2015,10:00p,Dallas Mavericks,115,Portland Trail Blazers,112,Box Score,OT,19393,\\r\\nWed Dec 2 2015,7:00p,Golden State Warriors,116,Charlotte Hornets,99,Box Score,,19542,\\r\\nWed Dec 2 2015,7:00p,Los Angeles Lakers,108,Washington Wizards,104,Box Score,,20356,\\r\\nWed Dec 2 2015,7:30p,Phoenix Suns,122,Detroit Pistons,127,Box Score,OT,13985,\\r\\nWed Dec 2 2015,7:30p,Philadelphia 76ers,87,New York Knicks,99,Box Score,,19812,\\r\\nWed Dec 2 2015,8:00p,Toronto Raptors,96,Atlanta Hawks,86,Box Score,,12559,\\r\\nWed Dec 2 2015,8:00p,Denver Nuggets,90,Chicago Bulls,99,Box Score,,21349,\\r\\nWed Dec 2 2015,8:00p,New Orleans Pelicans,101,Houston Rockets,108,Box Score,,17339,\\r\\nWed Dec 2 2015,8:30p,Milwaukee Bucks,70,San Antonio Spurs,95,Box Score,,18418,\\r\\nWed Dec 2 2015,10:30p,Indiana Pacers,103,Los Angeles Clippers,91,Box Score,,19060,\\r\\nThu Dec 3 2015,7:00p,Oklahoma City Thunder,95,Miami Heat,97,Box Score,,19600,\\r\\nThu Dec 3 2015,7:30p,Denver Nuggets,106,Toronto Raptors,105,Box Score,,19800,\\r\\nThu Dec 3 2015,9:00p,Orlando Magic,103,Utah Jazz,94,Box Score,,19247,\\r\\nThu Dec 3 2015,9:30p,San Antonio Spurs,103,Memphis Grizzlies,83,Box Score,,17013,\\r\\nThu Dec 3 2015,10:00p,Indiana Pacers,111,Portland Trail Blazers,123,Box Score,,19206,\\r\\nThu Dec 3 2015,10:00p,Boston Celtics,114,Sacramento Kings,97,Box Score,,18660,at Mexico City Mexico\\r\\nFri Dec 4 2015,7:00p,Brooklyn Nets,91,New York Knicks,108,Box Score,,19812,\\r\\nFri Dec 4 2015,7:00p,Phoenix Suns,106,Washington Wizards,109,Box Score,,17255,\\r\\nFri Dec 4 2015,7:30p,Milwaukee Bucks,95,Detroit Pistons,102,Box Score,,16963,\\r\\nFri Dec 4 2015,8:00p,Los Angeles Lakers,87,Atlanta Hawks,100,Box Score,,19051,\\r\\nFri Dec 4 2015,8:30p,Houston Rockets,100,Dallas Mavericks,96,Box Score,,20339,\\r\\nFri Dec 4 2015,9:30p,Cleveland Cavaliers,108,New Orleans Pelicans,114,Box Score,OT,17906,\\r\\nSat Dec 5 2015,1:00p,Denver Nuggets,108,Philadelphia 76ers,105,Box Score,,15677,\\r\\nSat Dec 5 2015,5:00p,Golden State Warriors,112,Toronto Raptors,109,Box Score,,20160,\\r\\nSat Dec 5 2015,8:00p,Charlotte Hornets,102,Chicago Bulls,96,Box Score,,21770,\\r\\nSat Dec 5 2015,8:00p,Sacramento Kings,113,Houston Rockets,120,Box Score,,17318,\\r\\nSat Dec 5 2015,8:00p,Cleveland Cavaliers,84,Miami Heat,99,Box Score,,19600,\\r\\nSat Dec 5 2015,8:00p,Portland Trail Blazers,109,Minnesota Timberwolves,103,Box Score,,16203,\\r\\nSat Dec 5 2015,8:30p,New York Knicks,91,Milwaukee Bucks,106,Box Score,,16223,\\r\\nSat Dec 5 2015,8:30p,Boston Celtics,105,San Antonio Spurs,108,Box Score,,18418,\\r\\nSat Dec 5 2015,9:00p,Indiana Pacers,119,Utah Jazz,122,Box Score,OT,19500,\\r\\nSat Dec 5 2015,10:30p,Orlando Magic,101,Los Angeles Clippers,103,Box Score,,19146,\\r\\nSun Dec 6 2015,3:30p,Phoenix Suns,93,Memphis Grizzlies,95,Box Score,,16022,\\r\\nSun Dec 6 2015,6:00p,Golden State Warriors,114,Brooklyn Nets,98,Box Score,,17732,\\r\\nSun Dec 6 2015,6:00p,Los Angeles Lakers,91,Detroit Pistons,111,Box Score,,20228,\\r\\nSun Dec 6 2015,6:00p,Dallas Mavericks,116,Washington Wizards,104,Box Score,,16394,\\r\\nSun Dec 6 2015,7:00p,Sacramento Kings,95,Oklahoma City Thunder,98,Box Score,,18203,\\r\\nMon Dec 7 2015,7:00p,Detroit Pistons,84,Charlotte Hornets,104,Box Score,,15481,\\r\\nMon Dec 7 2015,7:00p,San Antonio Spurs,119,Philadelphia 76ers,68,Box Score,,14449,\\r\\nMon Dec 7 2015,7:30p,Washington Wizards,114,Miami Heat,103,Box Score,,19600,\\r\\nMon Dec 7 2015,7:30p,Dallas Mavericks,104,New York Knicks,97,Box Score,,19812,\\r\\nMon Dec 7 2015,7:30p,Los Angeles Lakers,93,Toronto Raptors,102,Box Score,,20163,\\r\\nMon Dec 7 2015,8:00p,Phoenix Suns,103,Chicago Bulls,101,Box Score,,21337,\\r\\nMon Dec 7 2015,8:00p,Portland Trail Blazers,88,Milwaukee Bucks,90,Box Score,,14389,\\r\\nMon Dec 7 2015,8:00p,Los Angeles Clippers,110,Minnesota Timberwolves,106,Box Score,,11467,\\r\\nMon Dec 7 2015,8:00p,Boston Celtics,111,New Orleans Pelicans,93,Box Score,,15715,\\r\\nTue Dec 8 2015,7:00p,Portland Trail Blazers,100,Cleveland Cavaliers,105,Box Score,,20562,\\r\\nTue Dec 8 2015,7:00p,Golden State Warriors,131,Indiana Pacers,123,Box Score,,18165,\\r\\nTue Dec 8 2015,7:30p,Houston Rockets,105,Brooklyn Nets,110,Box Score,,13319,\\r\\nTue Dec 8 2015,8:00p,Oklahoma City Thunder,125,Memphis Grizzlies,88,Box Score,,16415,\\r\\nTue Dec 8 2015,9:00p,Orlando Magic,85,Denver Nuggets,74,Box Score,,13925,\\r\\nTue Dec 8 2015,10:00p,Utah Jazz,106,Sacramento Kings,114,Box Score,,16505,\\r\\nWed Dec 9 2015,7:00p,Chicago Bulls,100,Boston Celtics,105,Box Score,,17318,\\r\\nWed Dec 9 2015,7:00p,Miami Heat,81,Charlotte Hornets,99,Box Score,,17404,\\r\\nWed Dec 9 2015,7:00p,Houston Rockets,109,Washington Wizards,103,Box Score,,16041,\\r\\nWed Dec 9 2015,7:30p,Memphis Grizzlies,93,Detroit Pistons,92,Box Score,,13411,\\r\\nWed Dec 9 2015,7:30p,San Antonio Spurs,94,Toronto Raptors,97,Box Score,,19800,\\r\\nWed Dec 9 2015,8:00p,Los Angeles Clippers,109,Milwaukee Bucks,95,Box Score,,14224,\\r\\nWed Dec 9 2015,8:00p,Los Angeles Lakers,122,Minnesota Timberwolves,123,Box Score,OT,18076,\\r\\nWed Dec 9 2015,9:00p,Orlando Magic,104,Phoenix Suns,107,Box Score,,17637,\\r\\nWed Dec 9 2015,9:00p,New York Knicks,85,Utah Jazz,106,Box Score,,18586,\\r\\nWed Dec 9 2015,9:30p,Atlanta Hawks,98,Dallas Mavericks,95,Box Score,,19936,\\r\\nThu Dec 10 2015,7:30p,Philadelphia 76ers,91,Brooklyn Nets,100,Box Score,,13266,\\r\\nThu Dec 10 2015,8:00p,Los Angeles Clippers,80,Chicago Bulls,83,Box Score,,21491,\\r\\nThu Dec 10 2015,8:00p,Atlanta Hawks,94,Oklahoma City Thunder,107,Box Score,,18203,\\r\\nThu Dec 10 2015,10:30p,New York Knicks,97,Sacramento Kings,99,Box Score,,17317,\\r\\nFri Dec 11 2015,7:00p,Miami Heat,83,Indiana Pacers,96,Box Score,,16184,\\r\\nFri Dec 11 2015,7:00p,Cleveland Cavaliers,111,Orlando Magic,76,Box Score,,17239,\\r\\nFri Dec 11 2015,7:00p,Detroit Pistons,107,Philadelphia 76ers,95,Box Score,,17239,\\r\\nFri Dec 11 2015,7:30p,Golden State Warriors,124,Boston Celtics,119,Box Score,2OT,18624,\\r\\nFri Dec 11 2015,7:30p,Milwaukee Bucks,83,Toronto Raptors,90,Box Score,,19800,\\r\\nFri Dec 11 2015,8:00p,Charlotte Hornets,123,Memphis Grizzlies,99,Box Score,,17111,\\r\\nFri Dec 11 2015,8:00p,Washington Wizards,105,New Orleans Pelicans,107,Box Score,,16875,\\r\\nFri Dec 11 2015,9:00p,Minnesota Timberwolves,108,Denver Nuggets,111,Box Score,OT,12533,\\r\\nFri Dec 11 2015,9:00p,Oklahoma City Thunder,94,Utah Jazz,90,Box Score,,19911,\\r\\nFri Dec 11 2015,9:30p,Portland Trail Blazers,106,Phoenix Suns,96,Box Score,,17028,\\r\\nFri Dec 11 2015,9:30p,Los Angeles Lakers,87,San Antonio Spurs,109,Box Score,,18418,\\r\\nSat Dec 12 2015,5:00p,Los Angeles Clippers,105,Brooklyn Nets,100,Box Score,,15689,\\r\\nSat Dec 12 2015,7:00p,Boston Celtics,98,Charlotte Hornets,93,Box Score,,18490,\\r\\nSat Dec 12 2015,7:30p,Indiana Pacers,96,Detroit Pistons,118,Box Score,,14858,\\r\\nSat Dec 12 2015,8:00p,San Antonio Spurs,103,Atlanta Hawks,78,Box Score,,17752,\\r\\nSat Dec 12 2015,8:00p,New Orleans Pelicans,94,Chicago Bulls,98,Box Score,,21605,\\r\\nSat Dec 12 2015,8:00p,Los Angeles Lakers,97,Houston Rockets,126,Box Score,,18456,\\r\\nSat Dec 12 2015,8:30p,Washington Wizards,114,Dallas Mavericks,111,Box Score,,20088,\\r\\nSat Dec 12 2015,8:30p,Golden State Warriors,95,Milwaukee Bucks,108,Box Score,,18717,\\r\\nSat Dec 12 2015,10:00p,New York Knicks,112,Portland Trail Blazers,110,Box Score,,19511,\\r\\nSun Dec 13 2015,3:30p,Minnesota Timberwolves,101,Phoenix Suns,108,Box Score,,16919,\\r\\nSun Dec 13 2015,6:00p,Memphis Grizzlies,97,Miami Heat,100,Box Score,,19813,\\r\\nSun Dec 13 2015,6:00p,Philadelphia 76ers,76,Toronto Raptors,96,Box Score,,19800,\\r\\nSun Dec 13 2015,7:00p,Utah Jazz,98,Oklahoma City Thunder,104,Box Score,OT,18203,\\r\\nMon Dec 14 2015,7:00p,Toronto Raptors,90,Indiana Pacers,106,Box Score,,16598,\\r\\nMon Dec 14 2015,7:30p,Orlando Magic,105,Brooklyn Nets,82,Box Score,,12946,\\r\\nMon Dec 14 2015,7:30p,Los Angeles Clippers,105,Detroit Pistons,103,Box Score,OT,13525,\\r\\nMon Dec 14 2015,8:00p,Miami Heat,100,Atlanta Hawks,88,Box Score,,15039,\\r\\nMon Dec 14 2015,8:00p,Philadelphia 76ers,96,Chicago Bulls,115,Box Score,,21166,\\r\\nMon Dec 14 2015,8:00p,Washington Wizards,95,Memphis Grizzlies,112,Box Score,,15397,\\r\\nMon Dec 14 2015,8:30p,Phoenix Suns,94,Dallas Mavericks,104,Box Score,,19822,\\r\\nMon Dec 14 2015,8:30p,Utah Jazz,81,San Antonio Spurs,118,Box Score,,18418,\\r\\nMon Dec 14 2015,9:00p,Houston Rockets,108,Denver Nuggets,114,Box Score,,12022,\\r\\nMon Dec 14 2015,10:00p,New Orleans Pelicans,101,Portland Trail Blazers,105,Box Score,,19231,\\r\\nTue Dec 15 2015,7:30p,Cleveland Cavaliers,89,Boston Celtics,77,Box Score,,18624,\\r\\nTue Dec 15 2015,8:00p,Denver Nuggets,112,Minnesota Timberwolves,100,Box Score,,11323,\\r\\nTue Dec 15 2015,10:00p,Houston Rockets,97,Sacramento Kings,107,Box Score,,17317,\\r\\nTue Dec 15 2015,10:30p,Milwaukee Bucks,95,Los Angeles Lakers,113,Box Score,,18997,\\r\\nWed Dec 16 2015,7:00p,Dallas Mavericks,81,Indiana Pacers,107,Box Score,,14824,\\r\\nWed Dec 16 2015,7:00p,Charlotte Hornets,98,Orlando Magic,113,Box Score,,16019,\\r\\nWed Dec 16 2015,7:30p,Miami Heat,104,Brooklyn Nets,98,Box Score,,15113,\\r\\nWed Dec 16 2015,7:30p,Boston Celtics,116,Detroit Pistons,119,Box Score,,13120,\\r\\nWed Dec 16 2015,7:30p,Minnesota Timberwolves,102,New York Knicks,107,Box Score,,19812,\\r\\nWed Dec 16 2015,8:00p,Philadelphia 76ers,106,Atlanta Hawks,127,Box Score,,14827,\\r\\nWed Dec 16 2015,8:00p,Memphis Grizzlies,85,Chicago Bulls,98,Box Score,,21032,\\r\\nWed Dec 16 2015,8:00p,Portland Trail Blazers,90,Oklahoma City Thunder,106,Box Score,,18203,\\r\\nWed Dec 16 2015,8:30p,Washington Wizards,95,San Antonio Spurs,114,Box Score,,18418,\\r\\nWed Dec 16 2015,9:00p,New Orleans Pelicans,104,Utah Jazz,94,Box Score,,17899,\\r\\nWed Dec 16 2015,10:30p,Phoenix Suns,103,Golden State Warriors,128,Box Score,,19596,\\r\\nWed Dec 16 2015,10:30p,Milwaukee Bucks,90,Los Angeles Clippers,103,Box Score,,19060,\\r\\nThu Dec 17 2015,7:00p,Toronto Raptors,99,Charlotte Hornets,109,Box Score,OT,15817,\\r\\nThu Dec 17 2015,8:00p,Oklahoma City Thunder,100,Cleveland Cavaliers,104,Box Score,,20562,\\r\\nThu Dec 17 2015,10:30p,Houston Rockets,107,Los Angeles Lakers,87,Box Score,,18997,\\r\\nFri Dec 18 2015,7:00p,Brooklyn Nets,97,Indiana Pacers,104,Box Score,,16548,\\r\\nFri Dec 18 2015,7:00p,Portland Trail Blazers,94,Orlando Magic,102,Box Score,,17156,\\r\\nFri Dec 18 2015,7:00p,New York Knicks,107,Philadelphia 76ers,97,Box Score,,17880,\\r\\nFri Dec 18 2015,7:30p,Atlanta Hawks,109,Boston Celtics,101,Box Score,,18624,\\r\\nFri Dec 18 2015,8:00p,Detroit Pistons,147,Chicago Bulls,144,Box Score,4OT,21534,\\r\\nFri Dec 18 2015,8:00p,Toronto Raptors,108,Miami Heat,94,Box Score,,19600,\\r\\nFri Dec 18 2015,8:00p,Sacramento Kings,95,Minnesota Timberwolves,99,Box Score,,12770,\\r\\nFri Dec 18 2015,8:00p,Los Angeles Clippers,107,San Antonio Spurs,115,Box Score,,18418,\\r\\nFri Dec 18 2015,8:30p,Memphis Grizzlies,88,Dallas Mavericks,97,Box Score,,20199,\\r\\nFri Dec 18 2015,9:00p,Denver Nuggets,88,Utah Jazz,97,Box Score,,19169,\\r\\nFri Dec 18 2015,10:30p,Milwaukee Bucks,112,Golden State Warriors,121,Box Score,,19596,\\r\\nFri Dec 18 2015,10:30p,New Orleans Pelicans,88,Phoenix Suns,104,Box Score,,17227,\\r\\nSat Dec 19 2015,5:00p,Los Angeles Lakers,78,Oklahoma City Thunder,118,Box Score,,18203,\\r\\nSat Dec 19 2015,7:00p,Charlotte Hornets,101,Washington Wizards,109,Box Score,,16987,\\r\\nSat Dec 19 2015,7:30p,Chicago Bulls,91,New York Knicks,107,Box Score,,19812,\\r\\nSat Dec 19 2015,8:00p,Los Angeles Clippers,97,Houston Rockets,107,Box Score,,18212,\\r\\nSat Dec 19 2015,8:00p,Indiana Pacers,84,Memphis Grizzlies,96,Box Score,,18119,\\r\\nSun Dec 20 2015,1:00p,Minnesota Timberwolves,100,Brooklyn Nets,85,Box Score,,14552,\\r\\nSun Dec 20 2015,1:00p,Portland Trail Blazers,109,Miami Heat,116,Box Score,,19600,\\r\\nSun Dec 20 2015,3:30p,Philadelphia 76ers,86,Cleveland Cavaliers,108,Box Score,,20562,\\r\\nSun Dec 20 2015,5:00p,Milwaukee Bucks,101,Phoenix Suns,95,Box Score,,16859,\\r\\nSun Dec 20 2015,6:00p,Atlanta Hawks,103,Orlando Magic,100,Box Score,,16982,\\r\\nSun Dec 20 2015,6:00p,Sacramento Kings,104,Toronto Raptors,94,Box Score,,19800,\\r\\nSun Dec 20 2015,8:00p,New Orleans Pelicans,130,Denver Nuggets,125,Box Score,,13857,\\r\\nMon Dec 21 2015,7:00p,Sacramento Kings,99,Washington Wizards,113,Box Score,,15124,\\r\\nMon Dec 21 2015,7:30p,Minnesota Timberwolves,99,Boston Celtics,113,Box Score,,18624,\\r\\nMon Dec 21 2015,7:30p,Orlando Magic,107,New York Knicks,99,Box Score,,19812,\\r\\nMon Dec 21 2015,8:00p,Portland Trail Blazers,97,Atlanta Hawks,106,Box Score,,18373,\\r\\nMon Dec 21 2015,8:00p,Brooklyn Nets,105,Chicago Bulls,102,Box Score,,21825,\\r\\nMon Dec 21 2015,8:00p,Charlotte Hornets,95,Houston Rockets,102,Box Score,,18236,\\r\\nMon Dec 21 2015,8:30p,Indiana Pacers,92,San Antonio Spurs,106,Box Score,,18418,\\r\\nMon Dec 21 2015,9:00p,Phoenix Suns,89,Utah Jazz,110,Box Score,,19911,\\r\\nMon Dec 21 2015,10:30p,Oklahoma City Thunder,100,Los Angeles Clippers,99,Box Score,,19415,\\r\\nTue Dec 22 2015,7:00p,Memphis Grizzlies,104,Philadelphia 76ers,90,Box Score,,15552,\\r\\nTue Dec 22 2015,7:30p,Detroit Pistons,93,Miami Heat,92,Box Score,,19901,\\r\\nTue Dec 22 2015,7:30p,Dallas Mavericks,99,Toronto Raptors,103,Box Score,,19800,\\r\\nTue Dec 22 2015,9:00p,Los Angeles Lakers,111,Denver Nuggets,107,Box Score,,19124,\\r\\nWed Dec 23 2015,7:00p,Boston Celtics,102,Charlotte Hornets,89,Box Score,,19082,\\r\\nWed Dec 23 2015,7:00p,New York Knicks,84,Cleveland Cavaliers,91,Box Score,,20562,\\r\\nWed Dec 23 2015,7:00p,Sacramento Kings,108,Indiana Pacers,106,Box Score,,18165,\\r\\nWed Dec 23 2015,7:00p,Houston Rockets,101,Orlando Magic,104,Box Score,,17061,\\r\\nWed Dec 23 2015,7:00p,Memphis Grizzlies,91,Washington Wizards,100,Box Score,,15879,\\r\\nWed Dec 23 2015,7:30p,Dallas Mavericks,119,Brooklyn Nets,118,Box Score,OT,15994,\\r\\nWed Dec 23 2015,8:00p,Detroit Pistons,100,Atlanta Hawks,107,Box Score,,17575,\\r\\nWed Dec 23 2015,8:00p,Philadelphia 76ers,100,Milwaukee Bucks,113,Box Score,,15754,\\r\\nWed Dec 23 2015,8:00p,San Antonio Spurs,108,Minnesota Timberwolves,83,Box Score,,16788,\\r\\nWed Dec 23 2015,8:00p,Portland Trail Blazers,89,New Orleans Pelicans,115,Box Score,,16686,\\r\\nWed Dec 23 2015,9:00p,Denver Nuggets,104,Phoenix Suns,96,Box Score,,17034,\\r\\nWed Dec 23 2015,10:30p,Utah Jazz,85,Golden State Warriors,103,Box Score,,19596,\\r\\nWed Dec 23 2015,10:30p,Oklahoma City Thunder,120,Los Angeles Lakers,85,Box Score,,18997,\\r\\nFri Dec 25 2015,12:00p,New Orleans Pelicans,88,Miami Heat,94,Box Score,OT,19845,\\r\\nFri Dec 25 2015,2:30p,Chicago Bulls,105,Oklahoma City Thunder,96,Box Score,,18203,\\r\\nFri Dec 25 2015,5:00p,Cleveland Cavaliers,83,Golden State Warriors,89,Box Score,,19596,\\r\\nFri Dec 25 2015,8:00p,San Antonio Spurs,84,Houston Rockets,88,Box Score,,18319,\\r\\nFri Dec 25 2015,10:30p,Los Angeles Clippers,94,Los Angeles Lakers,84,Box Score,,18997,\\r\\nSat Dec 26 2015,4:00p,Washington Wizards,111,Brooklyn Nets,96,Box Score,,17732,\\r\\nSat Dec 26 2015,5:00p,Toronto Raptors,111,Milwaukee Bucks,90,Box Score,,16329,\\r\\nSat Dec 26 2015,7:00p,Memphis Grizzlies,92,Charlotte Hornets,98,Box Score,,19091,\\r\\nSat Dec 26 2015,7:00p,Houston Rockets,108,New Orleans Pelicans,110,Box Score,,18248,\\r\\nSat Dec 26 2015,7:00p,Miami Heat,108,Orlando Magic,101,Box Score,,18846,\\r\\nSat Dec 26 2015,7:30p,New York Knicks,98,Atlanta Hawks,117,Box Score,,19015,\\r\\nSat Dec 26 2015,7:30p,Boston Celtics,99,Detroit Pistons,93,Box Score,,18288,\\r\\nSat Dec 26 2015,8:00p,Indiana Pacers,102,Minnesota Timberwolves,88,Box Score,,15076,\\r\\nSat Dec 26 2015,8:30p,Chicago Bulls,111,Dallas Mavericks,118,Box Score,,20392,\\r\\nSat Dec 26 2015,8:30p,Denver Nuggets,86,San Antonio Spurs,101,Box Score,,18420,\\r\\nSat Dec 26 2015,9:00p,Philadelphia 76ers,111,Phoenix Suns,104,Box Score,,17548,\\r\\nSat Dec 26 2015,9:00p,Los Angeles Clippers,109,Utah Jazz,104,Box Score,,19911,\\r\\nSat Dec 26 2015,10:00p,Cleveland Cavaliers,76,Portland Trail Blazers,105,Box Score,,19393,\\r\\nSun Dec 27 2015,6:00p,Los Angeles Lakers,96,Memphis Grizzlies,112,Box Score,,18119,\\r\\nSun Dec 27 2015,7:00p,New York Knicks,91,Boston Celtics,100,Box Score,,18624,\\r\\nSun Dec 27 2015,7:00p,Denver Nuggets,112,Oklahoma City Thunder,122,Box Score,,18203,\\r\\nSun Dec 27 2015,9:00p,Portland Trail Blazers,98,Sacramento Kings,94,Box Score,,17317,\\r\\nMon Dec 28 2015,7:00p,Los Angeles Lakers,98,Charlotte Hornets,108,Box Score,,19632,\\r\\nMon Dec 28 2015,7:00p,Atlanta Hawks,87,Indiana Pacers,93,Box Score,,18165,\\r\\nMon Dec 28 2015,7:00p,New Orleans Pelicans,89,Orlando Magic,104,Box Score,,17606,\\r\\nMon Dec 28 2015,7:00p,Los Angeles Clippers,108,Washington Wizards,91,Box Score,,20356,\\r\\nMon Dec 28 2015,7:30p,Brooklyn Nets,111,Miami Heat,105,Box Score,,19975,\\r\\nMon Dec 28 2015,8:00p,Toronto Raptors,97,Chicago Bulls,104,Box Score,,21898,\\r\\nMon Dec 28 2015,8:30p,Milwaukee Bucks,93,Dallas Mavericks,103,Box Score,,20300,\\r\\nMon Dec 28 2015,8:30p,Minnesota Timberwolves,95,San Antonio Spurs,101,Box Score,,18493,\\r\\nMon Dec 28 2015,9:00p,Cleveland Cavaliers,101,Phoenix Suns,97,Box Score,,18319,\\r\\nMon Dec 28 2015,9:00p,Philadelphia 76ers,91,Utah Jazz,95,Box Score,,19911,\\r\\nMon Dec 28 2015,10:30p,Sacramento Kings,103,Golden State Warriors,122,Box Score,,19596,\\r\\nTue Dec 29 2015,7:30p,Detroit Pistons,96,New York Knicks,108,Box Score,,19812,\\r\\nTue Dec 29 2015,8:00p,Atlanta Hawks,121,Houston Rockets,115,Box Score,,18211,\\r\\nTue Dec 29 2015,8:00p,Miami Heat,90,Memphis Grizzlies,99,Box Score,OT,18119,\\r\\nTue Dec 29 2015,8:00p,Milwaukee Bucks,123,Oklahoma City Thunder,131,Box Score,,18203,\\r\\nTue Dec 29 2015,9:00p,Cleveland Cavaliers,93,Denver Nuggets,87,Box Score,,17523,\\r\\nWed Dec 30 2015,7:00p,Los Angeles Clippers,122,Charlotte Hornets,117,Box Score,,19145,\\r\\nWed Dec 30 2015,7:00p,Brooklyn Nets,93,Orlando Magic,100,Box Score,,18397,\\r\\nWed Dec 30 2015,7:30p,Los Angeles Lakers,112,Boston Celtics,104,Box Score,,18624,\\r\\nWed Dec 30 2015,7:30p,Washington Wizards,91,Toronto Raptors,94,Box Score,,19800,\\r\\nWed Dec 30 2015,8:00p,Indiana Pacers,100,Chicago Bulls,102,Box Score,OT,22206,\\r\\nWed Dec 30 2015,8:00p,Utah Jazz,80,Minnesota Timberwolves,94,Box Score,,14326,\\r\\nWed Dec 30 2015,8:30p,Golden State Warriors,91,Dallas Mavericks,114,Box Score,,20494,\\r\\nWed Dec 30 2015,8:30p,Phoenix Suns,79,San Antonio Spurs,112,Box Score,,18418,\\r\\nWed Dec 30 2015,10:00p,Denver Nuggets,103,Portland Trail Blazers,110,Box Score,,19393,\\r\\nWed Dec 30 2015,10:00p,Philadelphia 76ers,110,Sacramento Kings,105,Box Score,,17317,\\r\\nThu Dec 31 2015,6:00p,Minnesota Timberwolves,90,Detroit Pistons,115,Box Score,,15475,\\r\\nThu Dec 31 2015,6:00p,Milwaukee Bucks,120,Indiana Pacers,116,Box Score,,16348,\\r\\nThu Dec 31 2015,7:00p,Golden State Warriors,114,Houston Rockets,110,Box Score,,18313,\\r\\nThu Dec 31 2015,8:00p,Los Angeles Clippers,95,New Orleans Pelicans,89,Box Score,,16920,\\r\\nThu Dec 31 2015,8:00p,Phoenix Suns,106,Oklahoma City Thunder,110,Box Score,,18203,\\r\\nThu Dec 31 2015,9:00p,Portland Trail Blazers,96,Utah Jazz,109,Box Score,,19380,\\r\\nFri Jan 1 2016,7:00p,Orlando Magic,91,Washington Wizards,103,Box Score,,16986,\\r\\nFri Jan 1 2016,7:30p,Dallas Mavericks,82,Miami Heat,106,Box Score,,19748,\\r\\nFri Jan 1 2016,7:30p,Charlotte Hornets,94,Toronto Raptors,104,Box Score,,19800,\\r\\nFri Jan 1 2016,8:00p,New York Knicks,81,Chicago Bulls,108,Box Score,,22443,\\r\\nFri Jan 1 2016,10:30p,Philadelphia 76ers,84,Los Angeles Lakers,93,Box Score,,18997,\\r\\nSat Jan 2 2016,3:00p,Brooklyn Nets,100,Boston Celtics,97,Box Score,,18624,\\r\\nSat Jan 2 2016,5:00p,Phoenix Suns,119,Sacramento Kings,142,Box Score,,17317,\\r\\nSat Jan 2 2016,7:00p,Oklahoma City Thunder,109,Charlotte Hornets,90,Box Score,,19387,\\r\\nSat Jan 2 2016,7:00p,Detroit Pistons,82,Indiana Pacers,94,Box Score,,18165,\\r\\nSat Jan 2 2016,7:30p,Orlando Magic,79,Cleveland Cavaliers,104,Box Score,,20562,\\r\\nSat Jan 2 2016,8:00p,Milwaukee Bucks,95,Minnesota Timberwolves,85,Box Score,,14107,\\r\\nSat Jan 2 2016,8:30p,New Orleans Pelicans,105,Dallas Mavericks,98,Box Score,,20152,\\r\\nSat Jan 2 2016,8:30p,Houston Rockets,103,San Antonio Spurs,121,Box Score,,18652,\\r\\nSat Jan 2 2016,9:00p,Memphis Grizzlies,87,Utah Jazz,92,Box Score,OT,18455,\\r\\nSat Jan 2 2016,10:30p,Denver Nuggets,108,Golden State Warriors,111,Box Score,OT,19596,\\r\\nSat Jan 2 2016,10:30p,Philadelphia 76ers,99,Los Angeles Clippers,130,Box Score,,19212,\\r\\nSun Jan 3 2016,3:30p,Atlanta Hawks,97,New York Knicks,111,Box Score,,19812,\\r\\nSun Jan 3 2016,3:30p,Chicago Bulls,115,Toronto Raptors,113,Box Score,,19800,\\r\\nSun Jan 3 2016,6:00p,Miami Heat,97,Washington Wizards,75,Box Score,,17793,\\r\\nSun Jan 3 2016,9:00p,Portland Trail Blazers,112,Denver Nuggets,106,Box Score,,11883,\\r\\nSun Jan 3 2016,9:30p,Phoenix Suns,77,Los Angeles Lakers,97,Box Score,,18997,\\r\\nMon Jan 4 2016,7:00p,Toronto Raptors,100,Cleveland Cavaliers,122,Box Score,,20562,\\r\\nMon Jan 4 2016,7:00p,Minnesota Timberwolves,99,Philadelphia 76ers,109,Box Score,,14013,\\r\\nMon Jan 4 2016,7:30p,Boston Celtics,103,Brooklyn Nets,94,Box Score,,15448,\\r\\nMon Jan 4 2016,7:30p,Orlando Magic,89,Detroit Pistons,115,Box Score,,14301,\\r\\nMon Jan 4 2016,7:30p,Indiana Pacers,100,Miami Heat,103,Box Score,OT,19874,\\r\\nMon Jan 4 2016,8:00p,San Antonio Spurs,123,Milwaukee Bucks,98,Box Score,,14718,\\r\\nMon Jan 4 2016,8:00p,Sacramento Kings,116,Oklahoma City Thunder,104,Box Score,,18203,\\r\\nMon Jan 4 2016,9:00p,Houston Rockets,93,Utah Jazz,91,Box Score,,17912,\\r\\nMon Jan 4 2016,10:00p,Memphis Grizzlies,91,Portland Trail Blazers,78,Box Score,,18832,\\r\\nMon Jan 4 2016,10:30p,Charlotte Hornets,101,Golden State Warriors,111,Box Score,,19596,\\r\\nTue Jan 5 2016,8:00p,New York Knicks,107,Atlanta Hawks,101,Box Score,,15082,\\r\\nTue Jan 5 2016,8:00p,Milwaukee Bucks,106,Chicago Bulls,117,Box Score,,21686,\\r\\nTue Jan 5 2016,8:30p,Sacramento Kings,116,Dallas Mavericks,117,Box Score,2OT,20059,\\r\\nTue Jan 5 2016,10:30p,Golden State Warriors,109,Los Angeles Lakers,88,Box Score,,18997,\\r\\nWed Jan 6 2016,7:00p,New York Knicks,98,Miami Heat,90,Box Score,,19987,\\r\\nWed Jan 6 2016,7:00p,Indiana Pacers,95,Orlando Magic,86,Box Score,,18846,\\r\\nWed Jan 6 2016,7:00p,Cleveland Cavaliers,121,Washington Wizards,115,Box Score,,20356,\\r\\nWed Jan 6 2016,7:30p,Detroit Pistons,99,Boston Celtics,94,Box Score,,18624,\\r\\nWed Jan 6 2016,7:30p,Toronto Raptors,91,Brooklyn Nets,74,Box Score,,14544,\\r\\nWed Jan 6 2016,8:00p,Denver Nuggets,78,Minnesota Timberwolves,74,Box Score,,12059,\\r\\nWed Jan 6 2016,8:00p,Dallas Mavericks,100,New Orleans Pelicans,91,Box Score,,15255,\\r\\nWed Jan 6 2016,8:30p,Utah Jazz,98,San Antonio Spurs,123,Box Score,,18418,\\r\\nWed Jan 6 2016,9:00p,Charlotte Hornets,102,Phoenix Suns,111,Box Score,,16910,\\r\\nWed Jan 6 2016,9:30p,Memphis Grizzlies,94,Oklahoma City Thunder,112,Box Score,,18203,\\r\\nWed Jan 6 2016,10:00p,Los Angeles Clippers,109,Portland Trail Blazers,98,Box Score,,18598,\\r\\nThu Jan 7 2016,7:00p,Atlanta Hawks,126,Philadelphia 76ers,98,Box Score,,12611,\\r\\nThu Jan 7 2016,8:00p,Boston Celtics,92,Chicago Bulls,101,Box Score,,21497,\\r\\nThu Jan 7 2016,8:00p,Utah Jazz,94,Houston Rockets,103,Box Score,,18155,\\r\\nThu Jan 7 2016,10:30p,Los Angeles Lakers,115,Sacramento Kings,118,Box Score,,17386,\\r\\nFri Jan 8 2016,7:00p,Toronto Raptors,97,Washington Wizards,88,Box Score,,17064,\\r\\nFri Jan 8 2016,7:30p,Orlando Magic,83,Brooklyn Nets,77,Box Score,,13907,\\r\\nFri Jan 8 2016,8:00p,Denver Nuggets,84,Memphis Grizzlies,91,Box Score,,17499,\\r\\nFri Jan 8 2016,8:00p,Dallas Mavericks,95,Milwaukee Bucks,96,Box Score,,16409,\\r\\nFri Jan 8 2016,8:00p,Cleveland Cavaliers,125,Minnesota Timberwolves,99,Box Score,,16768,\\r\\nFri Jan 8 2016,8:00p,Indiana Pacers,91,New Orleans Pelicans,86,Box Score,,16895,\\r\\nFri Jan 8 2016,8:30p,New York Knicks,99,San Antonio Spurs,100,Box Score,,18420,\\r\\nFri Jan 8 2016,9:30p,Miami Heat,103,Phoenix Suns,95,Box Score,,16866,\\r\\nFri Jan 8 2016,10:00p,Golden State Warriors,128,Portland Trail Blazers,108,Box Score,,20035,\\r\\nFri Jan 8 2016,10:30p,Oklahoma City Thunder,117,Los Angeles Lakers,113,Box Score,,18997,\\r\\nSat Jan 9 2016,3:30p,Charlotte Hornets,83,Los Angeles Clippers,97,Box Score,,19060,\\r\\nSat Jan 9 2016,5:00p,Chicago Bulls,105,Atlanta Hawks,120,Box Score,,19010,\\r\\nSat Jan 9 2016,7:00p,Washington Wizards,105,Orlando Magic,99,Box Score,,18058,\\r\\nSat Jan 9 2016,7:30p,Brooklyn Nets,89,Detroit Pistons,103,Box Score,,16406,\\r\\nSat Jan 9 2016,7:30p,Toronto Raptors,108,Philadelphia 76ers,95,Box Score,,14100,\\r\\nSat Jan 9 2016,9:00p,Miami Heat,83,Utah Jazz,98,Box Score,,19911,\\r\\nSat Jan 9 2016,10:00p,Golden State Warriors,128,Sacramento Kings,116,Box Score,,17317,\\r\\nSun Jan 10 2016,3:30p,New Orleans Pelicans,111,Los Angeles Clippers,114,Box Score,OT,19060,\\r\\nSun Jan 10 2016,5:00p,Dallas Mavericks,93,Minnesota Timberwolves,87,Box Score,,14363,\\r\\nSun Jan 10 2016,6:00p,Boston Celtics,98,Memphis Grizzlies,101,Box Score,,17112,\\r\\nSun Jan 10 2016,6:00p,Cleveland Cavaliers,95,Philadelphia 76ers,85,Box Score,,19226,\\r\\nSun Jan 10 2016,7:00p,Indiana Pacers,103,Houston Rockets,107,Box Score,OT,18133,\\r\\nSun Jan 10 2016,7:30p,Milwaukee Bucks,88,New York Knicks,100,Box Score,,19812,\\r\\nSun Jan 10 2016,8:00p,Charlotte Hornets,92,Denver Nuggets,95,Box Score,,11343,\\r\\nSun Jan 10 2016,9:00p,Oklahoma City Thunder,110,Portland Trail Blazers,115,Box Score,,19393,\\r\\nSun Jan 10 2016,9:30p,Utah Jazz,86,Los Angeles Lakers,74,Box Score,,18997,\\r\\nMon Jan 11 2016,7:30p,San Antonio Spurs,106,Brooklyn Nets,79,Box Score,,15214,\\r\\nMon Jan 11 2016,8:00p,Washington Wizards,114,Chicago Bulls,100,Box Score,,21409,\\r\\nMon Jan 11 2016,10:30p,Miami Heat,103,Golden State Warriors,111,Box Score,,19596,\\r\\nTue Jan 12 2016,7:00p,Phoenix Suns,97,Indiana Pacers,116,Box Score,,15284,\\r\\nTue Jan 12 2016,7:30p,San Antonio Spurs,109,Detroit Pistons,99,Box Score,,14273,\\r\\nTue Jan 12 2016,7:30p,Boston Celtics,114,New York Knicks,120,Box Score,,19812,\\r\\nTue Jan 12 2016,8:00p,Houston Rockets,107,Memphis Grizzlies,91,Box Score,,16044,\\r\\nTue Jan 12 2016,8:00p,Chicago Bulls,101,Milwaukee Bucks,106,Box Score,,16867,\\r\\nTue Jan 12 2016,8:00p,Oklahoma City Thunder,101,Minnesota Timberwolves,96,Box Score,,14791,\\r\\nTue Jan 12 2016,8:30p,Cleveland Cavaliers,110,Dallas Mavericks,107,Box Score,OT,20347,\\r\\nTue Jan 12 2016,10:30p,New Orleans Pelicans,91,Los Angeles Lakers,95,Box Score,,18997,\\r\\nWed Jan 13 2016,7:00p,Atlanta Hawks,84,Charlotte Hornets,107,Box Score,,15334,\\r\\nWed Jan 13 2016,7:00p,Milwaukee Bucks,101,Washington Wizards,106,Box Score,,16248,\\r\\nWed Jan 13 2016,7:30p,New York Knicks,104,Brooklyn Nets,110,Box Score,,17732,\\r\\nWed Jan 13 2016,8:00p,Indiana Pacers,94,Boston Celtics,103,Box Score,,18624,\\r\\nWed Jan 13 2016,8:00p,Minnesota Timberwolves,104,Houston Rockets,107,Box Score,,17115,\\r\\nWed Jan 13 2016,8:00p,Dallas Mavericks,89,Oklahoma City Thunder,108,Box Score,,18203,\\r\\nWed Jan 13 2016,9:00p,Golden State Warriors,110,Denver Nuggets,112,Box Score,,18004,\\r\\nWed Jan 13 2016,10:00p,Utah Jazz,85,Portland Trail Blazers,99,Box Score,,19393,\\r\\nWed Jan 13 2016,10:00p,New Orleans Pelicans,109,Sacramento Kings,97,Box Score,,17317,\\r\\nWed Jan 13 2016,10:30p,Miami Heat,90,Los Angeles Clippers,104,Box Score,,19194,\\r\\nThu Jan 14 2016,3:00p,Toronto Raptors,106,Orlando Magic,103,Box Score,OT,18689,at London England\\r\\nThu Jan 14 2016,7:00p,Chicago Bulls,115,Philadelphia 76ers,111,Box Score,OT,14063,\\r\\nThu Jan 14 2016,8:00p,Detroit Pistons,101,Memphis Grizzlies,103,Box Score,,15977,\\r\\nThu Jan 14 2016,8:00p,Cleveland Cavaliers,95,San Antonio Spurs,99,Box Score,,18418,\\r\\nThu Jan 14 2016,9:00p,Sacramento Kings,103,Utah Jazz,101,Box Score,,17894,\\r\\nThu Jan 14 2016,10:30p,Los Angeles Lakers,98,Golden State Warriors,116,Box Score,,19596,\\r\\nFri Jan 15 2016,7:00p,Washington Wizards,118,Indiana Pacers,104,Box Score,,18165,\\r\\nFri Jan 15 2016,7:00p,Minnesota Timberwolves,93,Oklahoma City Thunder,113,Box Score,,18203,\\r\\nFri Jan 15 2016,7:30p,Phoenix Suns,103,Boston Celtics,117,Box Score,,18624,\\r\\nFri Jan 15 2016,7:30p,Portland Trail Blazers,116,Brooklyn Nets,104,Box Score,,14749,\\r\\nFri Jan 15 2016,8:00p,Dallas Mavericks,83,Chicago Bulls,77,Box Score,,22056,\\r\\nFri Jan 15 2016,8:00p,Atlanta Hawks,101,Milwaukee Bucks,108,Box Score,OT,15144,\\r\\nFri Jan 15 2016,8:00p,Charlotte Hornets,107,New Orleans Pelicans,109,Box Score,,16876,\\r\\nFri Jan 15 2016,9:00p,Miami Heat,98,Denver Nuggets,95,Box Score,,15406,\\r\\nFri Jan 15 2016,9:30p,Cleveland Cavaliers,91,Houston Rockets,77,Box Score,,18320,\\r\\nSat Jan 16 2016,7:00p,Milwaukee Bucks,105,Charlotte Hornets,92,Box Score,,18288,\\r\\nSat Jan 16 2016,7:30p,Brooklyn Nets,86,Atlanta Hawks,114,Box Score,,17052,\\r\\nSat Jan 16 2016,7:30p,Golden State Warriors,95,Detroit Pistons,113,Box Score,,21584,\\r\\nSat Jan 16 2016,7:30p,Portland Trail Blazers,89,Philadelphia 76ers,114,Box Score,,15698,\\r\\nSat Jan 16 2016,7:30p,Boston Celtics,119,Washington Wizards,117,Box Score,,20356,\\r\\nSat Jan 16 2016,8:00p,New York Knicks,95,Memphis Grizzlies,103,Box Score,,18119,\\r\\nSat Jan 16 2016,9:00p,Los Angeles Lakers,82,Utah Jazz,109,Box Score,,19911,\\r\\nSat Jan 16 2016,10:30p,Sacramento Kings,110,Los Angeles Clippers,103,Box Score,,19191,\\r\\nSun Jan 17 2016,3:30p,Phoenix Suns,87,Minnesota Timberwolves,117,Box Score,,14330,\\r\\nSun Jan 17 2016,7:00p,Miami Heat,74,Oklahoma City Thunder,99,Box Score,,18203,\\r\\nSun Jan 17 2016,7:00p,Dallas Mavericks,83,San Antonio Spurs,112,Box Score,,18418,\\r\\nSun Jan 17 2016,8:00p,Indiana Pacers,126,Denver Nuggets,129,Box Score,,11104,\\r\\nSun Jan 17 2016,9:30p,Houston Rockets,112,Los Angeles Lakers,95,Box Score,,18997,\\r\\nMon Jan 18 2016,1:00p,Philadelphia 76ers,113,New York Knicks,119,Box Score,2OT,19812,\\r\\nMon Jan 18 2016,2:00p,Utah Jazz,119,Charlotte Hornets,124,Box Score,2OT,17459,\\r\\nMon Jan 18 2016,2:00p,Portland Trail Blazers,108,Washington Wizards,98,Box Score,,17236,\\r\\nMon Jan 18 2016,2:30p,New Orleans Pelicans,99,Memphis Grizzlies,101,Box Score,,18119,\\r\\nMon Jan 18 2016,3:30p,Chicago Bulls,111,Detroit Pistons,101,Box Score,,18935,\\r\\nMon Jan 18 2016,5:00p,Orlando Magic,81,Atlanta Hawks,98,Box Score,,17460,\\r\\nMon Jan 18 2016,7:30p,Brooklyn Nets,100,Toronto Raptors,112,Box Score,,19800,\\r\\nMon Jan 18 2016,8:00p,Golden State Warriors,132,Cleveland Cavaliers,98,Box Score,,20562,\\r\\nMon Jan 18 2016,8:30p,Boston Celtics,113,Dallas Mavericks,118,Box Score,OT,19866,\\r\\nMon Jan 18 2016,10:30p,Houston Rockets,132,Los Angeles Clippers,140,Box Score,OT,19060,\\r\\nTue Jan 19 2016,7:30p,Milwaukee Bucks,91,Miami Heat,79,Box Score,,19886,\\r\\nTue Jan 19 2016,8:00p,Minnesota Timberwolves,99,New Orleans Pelicans,114,Box Score,,14255,\\r\\nTue Jan 19 2016,9:00p,Oklahoma City Thunder,110,Denver Nuggets,104,Box Score,,12844,\\r\\nTue Jan 19 2016,9:00p,Indiana Pacers,97,Phoenix Suns,94,Box Score,,16802,\\r\\nWed Jan 20 2016,7:00p,Philadelphia 76ers,96,Orlando Magic,87,Box Score,,17746,\\r\\nWed Jan 20 2016,7:00p,Miami Heat,87,Washington Wizards,106,Box Score,,17008,\\r\\nWed Jan 20 2016,7:30p,Cleveland Cavaliers,91,Brooklyn Nets,78,Box Score,,17732,\\r\\nWed Jan 20 2016,7:30p,Utah Jazz,111,New York Knicks,118,Box Score,OT,19812,\\r\\nWed Jan 20 2016,7:30p,Boston Celtics,109,Toronto Raptors,115,Box Score,,19800,\\r\\nWed Jan 20 2016,8:00p,Golden State Warriors,125,Chicago Bulls,94,Box Score,,23152,\\r\\nWed Jan 20 2016,8:00p,Detroit Pistons,123,Houston Rockets,114,Box Score,,17203,\\r\\nWed Jan 20 2016,8:00p,Charlotte Hornets,95,Oklahoma City Thunder,109,Box Score,,18203,\\r\\nWed Jan 20 2016,8:30p,Minnesota Timberwolves,94,Dallas Mavericks,106,Box Score,OT,19621,\\r\\nWed Jan 20 2016,10:30p,Sacramento Kings,112,Los Angeles Lakers,93,Box Score,,18997,\\r\\nWed Jan 20 2016,10:30p,Atlanta Hawks,104,Portland Trail Blazers,98,Box Score,,18783,\\r\\nThu Jan 21 2016,8:00p,Los Angeles Clippers,102,Cleveland Cavaliers,115,Box Score,,20562,\\r\\nThu Jan 21 2016,8:00p,Detroit Pistons,99,New Orleans Pelicans,115,Box Score,,15281,\\r\\nThu Jan 21 2016,9:00p,Memphis Grizzlies,102,Denver Nuggets,101,Box Score,,16140,\\r\\nThu Jan 21 2016,10:00p,Atlanta Hawks,88,Sacramento Kings,91,Box Score,,17019,\\r\\nThu Jan 21 2016,10:30p,San Antonio Spurs,117,Phoenix Suns,89,Box Score,,16779,\\r\\nFri Jan 22 2016,7:00p,Charlotte Hornets,120,Orlando Magic,116,Box Score,OT,18083,\\r\\nFri Jan 22 2016,7:30p,Chicago Bulls,101,Boston Celtics,110,Box Score,,18624,\\r\\nFri Jan 22 2016,7:30p,Utah Jazz,108,Brooklyn Nets,86,Box Score,,12809,\\r\\nFri Jan 22 2016,7:30p,Los Angeles Clippers,116,New York Knicks,88,Box Score,,19812,\\r\\nFri Jan 22 2016,8:00p,Milwaukee Bucks,98,Houston Rockets,102,Box Score,,17196,\\r\\nFri Jan 22 2016,8:00p,Miami Heat,81,Toronto Raptors,101,Box Score,,19800,\\r\\nFri Jan 22 2016,8:30p,Oklahoma City Thunder,109,Dallas Mavericks,106,Box Score,,20284,\\r\\nFri Jan 22 2016,10:30p,Indiana Pacers,110,Golden State Warriors,122,Box Score,,19596,\\r\\nFri Jan 22 2016,10:30p,San Antonio Spurs,108,Los Angeles Lakers,95,Box Score,,18997,\\r\\nSat Jan 23 2016,7:00p,New York Knicks,84,Charlotte Hornets,97,Box Score,,17768,\\r\\nSat Jan 23 2016,7:00p,Milwaukee Bucks,99,New Orleans Pelicans,116,Box Score,,16980,\\r\\nSat Jan 23 2016,8:00p,Memphis Grizzlies,101,Minnesota Timberwolves,106,Box Score,,15608,\\r\\nSat Jan 23 2016,8:30p,Chicago Bulls,96,Cleveland Cavaliers,83,Box Score,,20562,\\r\\nSat Jan 23 2016,9:00p,Atlanta Hawks,95,Phoenix Suns,98,Box Score,,17034,\\r\\nSat Jan 23 2016,9:30p,Detroit Pistons,101,Denver Nuggets,104,Box Score,,14646,\\r\\nSat Jan 23 2016,10:30p,Los Angeles Lakers,103,Portland Trail Blazers,121,Box Score,,19728,\\r\\nSat Jan 23 2016,10:30p,Indiana Pacers,97,Sacramento Kings,108,Box Score,,17419,\\r\\nSun Jan 24 2016,3:30p,Dallas Mavericks,104,Houston Rockets,115,Box Score,,18142,\\r\\nSun Jan 24 2016,6:00p,Los Angeles Clippers,94,Toronto Raptors,112,Box Score,,19800,\\r\\nSun Jan 24 2016,7:00p,Boston Celtics,112,Philadelphia 76ers,92,Box Score,,9722,\\r\\nSun Jan 24 2016,7:30p,Oklahoma City Thunder,106,Brooklyn Nets,116,Box Score,,16019,\\r\\nMon Jan 25 2016,7:00p,Minnesota Timberwolves,107,Cleveland Cavaliers,114,Box Score,,20562,\\r\\nMon Jan 25 2016,7:00p,Boston Celtics,116,Washington Wizards,91,Box Score,,11753,\\r\\nMon Jan 25 2016,8:00p,Miami Heat,89,Chicago Bulls,84,Box Score,,21720,\\r\\nMon Jan 25 2016,8:00p,Orlando Magic,102,Memphis Grizzlies,108,Box Score,OT,15779,\\r\\nMon Jan 25 2016,8:00p,Houston Rockets,112,New Orleans Pelicans,111,Box Score,,15688,\\r\\nMon Jan 25 2016,9:00p,Atlanta Hawks,119,Denver Nuggets,105,Box Score,,10280,\\r\\nMon Jan 25 2016,9:00p,Detroit Pistons,95,Utah Jazz,92,Box Score,,18783,\\r\\nMon Jan 25 2016,10:00p,Charlotte Hornets,129,Sacramento Kings,128,Box Score,2OT,16991,\\r\\nMon Jan 25 2016,10:30p,San Antonio Spurs,90,Golden State Warriors,120,Box Score,,19596,\\r\\nTue Jan 26 2016,7:00p,Los Angeles Clippers,91,Indiana Pacers,89,Box Score,,15448,\\r\\nTue Jan 26 2016,7:00p,Phoenix Suns,103,Philadelphia 76ers,113,Box Score,,10851,\\r\\nTue Jan 26 2016,7:30p,Miami Heat,102,Brooklyn Nets,98,Box Score,,15267,\\r\\nTue Jan 26 2016,7:30p,Oklahoma City Thunder,128,New York Knicks,122,Box Score,OT,19812,\\r\\nTue Jan 26 2016,7:30p,Washington Wizards,89,Toronto Raptors,106,Box Score,,19800,\\r\\nTue Jan 26 2016,8:00p,Orlando Magic,100,Milwaukee Bucks,107,Box Score,,11884,\\r\\nTue Jan 26 2016,10:00p,Sacramento Kings,97,Portland Trail Blazers,112,Box Score,,19393,\\r\\nTue Jan 26 2016,10:30p,Dallas Mavericks,92,Los Angeles Lakers,90,Box Score,,18997,\\r\\nWed Jan 27 2016,7:00p,Phoenix Suns,93,Cleveland Cavaliers,115,Box Score,,20562,\\r\\nWed Jan 27 2016,7:30p,Denver Nuggets,103,Boston Celtics,111,Box Score,,18108,\\r\\nWed Jan 27 2016,7:30p,Philadelphia 76ers,97,Detroit Pistons,110,Box Score,,13712,\\r\\nWed Jan 27 2016,8:00p,Los Angeles Clippers,85,Atlanta Hawks,83,Box Score,,17664,\\r\\nWed Jan 27 2016,8:00p,Oklahoma City Thunder,126,Minnesota Timberwolves,123,Box Score,,13337,\\r\\nWed Jan 27 2016,8:00p,Houston Rockets,99,San Antonio Spurs,130,Box Score,,18418,\\r\\nWed Jan 27 2016,9:00p,Charlotte Hornets,73,Utah Jazz,102,Box Score,,16683,\\r\\nWed Jan 27 2016,10:30p,Dallas Mavericks,107,Golden State Warriors,127,Box Score,,19596,\\r\\nThu Jan 28 2016,7:00p,Atlanta Hawks,92,Indiana Pacers,111,Box Score,,15196,\\r\\nThu Jan 28 2016,7:00p,Denver Nuggets,117,Washington Wizards,113,Box Score,,15146,\\r\\nThu Jan 28 2016,8:00p,Milwaukee Bucks,83,Memphis Grizzlies,103,Box Score,,15244,\\r\\nThu Jan 28 2016,8:00p,Sacramento Kings,105,New Orleans Pelicans,114,Box Score,,15636,\\r\\nThu Jan 28 2016,8:00p,New York Knicks,93,Toronto Raptors,103,Box Score,,19800,\\r\\nThu Jan 28 2016,10:30p,Chicago Bulls,114,Los Angeles Lakers,91,Box Score,,18997,\\r\\nFri Jan 29 2016,7:30p,Orlando Magic,94,Boston Celtics,113,Box Score,,17729,\\r\\nFri Jan 29 2016,7:30p,Cleveland Cavaliers,114,Detroit Pistons,106,Box Score,,21012,\\r\\nFri Jan 29 2016,7:30p,Phoenix Suns,84,New York Knicks,102,Box Score,,19812,\\r\\nFri Jan 29 2016,8:00p,Miami Heat,107,Milwaukee Bucks,103,Box Score,,17846,\\r\\nFri Jan 29 2016,8:00p,Houston Rockets,108,Oklahoma City Thunder,116,Box Score,,18203,\\r\\nFri Jan 29 2016,8:30p,Brooklyn Nets,79,Dallas Mavericks,91,Box Score,,20409,\\r\\nFri Jan 29 2016,9:00p,Minnesota Timberwolves,90,Utah Jazz,103,Box Score,,18850,\\r\\nFri Jan 29 2016,10:00p,Charlotte Hornets,91,Portland Trail Blazers,109,Box Score,,19393,\\r\\nFri Jan 29 2016,10:30p,Los Angeles Lakers,93,Los Angeles Clippers,105,Box Score,,19495,\\r\\nSat Jan 30 2016,5:00p,Golden State Warriors,108,Philadelphia 76ers,105,Box Score,,20798,\\r\\nSat Jan 30 2016,6:30p,Detroit Pistons,107,Toronto Raptors,111,Box Score,,19800,\\r\\nSat Jan 30 2016,7:00p,Denver Nuggets,105,Indiana Pacers,109,Box Score,OT,18165,\\r\\nSat Jan 30 2016,7:00p,Brooklyn Nets,103,New Orleans Pelicans,105,Box Score,,18037,\\r\\nSat Jan 30 2016,8:00p,Washington Wizards,123,Houston Rockets,122,Box Score,,18320,\\r\\nSat Jan 30 2016,8:00p,Sacramento Kings,117,Memphis Grizzlies,121,Box Score,,18119,\\r\\nSat Jan 30 2016,8:30p,San Antonio Spurs,103,Cleveland Cavaliers,117,Box Score,,20562,\\r\\nSun Jan 31 2016,3:30p,Chicago Bulls,93,Los Angeles Clippers,120,Box Score,,19325,\\r\\nSun Jan 31 2016,6:00p,Atlanta Hawks,87,Miami Heat,105,Box Score,,19937,\\r\\nSun Jan 31 2016,6:00p,Boston Celtics,114,Orlando Magic,119,Box Score,,18846,\\r\\nSun Jan 31 2016,7:00p,Phoenix Suns,78,Dallas Mavericks,91,Box Score,,20137,\\r\\nSun Jan 31 2016,7:30p,Golden State Warriors,116,New York Knicks,95,Box Score,,19812,\\r\\nSun Jan 31 2016,9:00p,Minnesota Timberwolves,93,Portland Trail Blazers,96,Box Score,,19393,\\r\\nSun Jan 31 2016,9:30p,Charlotte Hornets,101,Los Angeles Lakers,82,Box Score,,18997,\\r\\nMon Feb 1 2016,7:00p,Cleveland Cavaliers,111,Indiana Pacers,106,Box Score,OT,17283,\\r\\nMon Feb 1 2016,7:30p,Detroit Pistons,105,Brooklyn Nets,100,Box Score,,13290,\\r\\nMon Feb 1 2016,8:00p,Dallas Mavericks,97,Atlanta Hawks,112,Box Score,,15455,\\r\\nMon Feb 1 2016,8:00p,Memphis Grizzlies,110,New Orleans Pelicans,95,Box Score,,15210,\\r\\nMon Feb 1 2016,8:00p,Washington Wizards,98,Oklahoma City Thunder,114,Box Score,,18203,\\r\\nMon Feb 1 2016,8:30p,Orlando Magic,92,San Antonio Spurs,107,Box Score,,18418,\\r\\nMon Feb 1 2016,9:00p,Toronto Raptors,93,Denver Nuggets,112,Box Score,,10007,\\r\\nMon Feb 1 2016,9:00p,Chicago Bulls,96,Utah Jazz,105,Box Score,OT,18811,\\r\\nMon Feb 1 2016,10:00p,Milwaukee Bucks,104,Sacramento Kings,111,Box Score,,16827,\\r\\nTue Feb 2 2016,7:30p,Boston Celtics,97,New York Knicks,89,Box Score,,19812,\\r\\nTue Feb 2 2016,8:00p,Miami Heat,102,Houston Rockets,115,Box Score,,18229,\\r\\nTue Feb 2 2016,9:00p,Toronto Raptors,104,Phoenix Suns,97,Box Score,,15897,\\r\\nTue Feb 2 2016,10:00p,Milwaukee Bucks,95,Portland Trail Blazers,107,Box Score,,18306,\\r\\nTue Feb 2 2016,10:30p,Minnesota Timberwolves,115,Los Angeles Lakers,119,Box Score,,18997,\\r\\nWed Feb 3 2016,7:00p,Cleveland Cavaliers,97,Charlotte Hornets,106,Box Score,,19189,\\r\\nWed Feb 3 2016,7:00p,Atlanta Hawks,124,Philadelphia 76ers,86,Box Score,,10429,\\r\\nWed Feb 3 2016,7:30p,Detroit Pistons,95,Boston Celtics,102,Box Score,,17297,\\r\\nWed Feb 3 2016,7:30p,Indiana Pacers,114,Brooklyn Nets,100,Box Score,,13311,\\r\\nWed Feb 3 2016,8:00p,Orlando Magic,114,Oklahoma City Thunder,117,Box Score,,18203,\\r\\nWed Feb 3 2016,8:00p,Golden State Warriors,134,Washington Wizards,121,Box Score,,20356,\\r\\nWed Feb 3 2016,8:30p,Miami Heat,93,Dallas Mavericks,90,Box Score,,20385,\\r\\nWed Feb 3 2016,8:30p,New Orleans Pelicans,97,San Antonio Spurs,110,Box Score,,18418,\\r\\nWed Feb 3 2016,9:00p,Denver Nuggets,81,Utah Jazz,85,Box Score,,19461,\\r\\nWed Feb 3 2016,10:00p,Chicago Bulls,107,Sacramento Kings,102,Box Score,,17317,\\r\\nWed Feb 3 2016,10:30p,Minnesota Timberwolves,108,Los Angeles Clippers,102,Box Score,,19060,\\r\\nThu Feb 4 2016,7:00p,New York Knicks,105,Detroit Pistons,111,Box Score,,17095,\\r\\nThu Feb 4 2016,9:00p,Houston Rockets,111,Phoenix Suns,105,Box Score,,15723,\\r\\nThu Feb 4 2016,9:30p,Los Angeles Lakers,99,New Orleans Pelicans,96,Box Score,,18420,\\r\\nThu Feb 4 2016,10:00p,Toronto Raptors,110,Portland Trail Blazers,103,Box Score,,19393,\\r\\nFri Feb 5 2016,7:00p,Indiana Pacers,96,Atlanta Hawks,102,Box Score,,17225,\\r\\nFri Feb 5 2016,7:00p,Miami Heat,98,Charlotte Hornets,95,Box Score,,19147,\\r\\nFri Feb 5 2016,7:00p,Los Angeles Clippers,107,Orlando Magic,93,Box Score,,16647,\\r\\nFri Feb 5 2016,7:00p,Philadelphia 76ers,94,Washington Wizards,106,Box Score,,17305,\\r\\nFri Feb 5 2016,7:30p,Sacramento Kings,119,Brooklyn Nets,128,Box Score,,14432,\\r\\nFri Feb 5 2016,7:30p,Boston Celtics,104,Cleveland Cavaliers,103,Box Score,,20562,\\r\\nFri Feb 5 2016,7:30p,Memphis Grizzlies,91,New York Knicks,85,Box Score,,19812,\\r\\nFri Feb 5 2016,9:00p,Chicago Bulls,110,Denver Nuggets,115,Box Score,,19155,\\r\\nFri Feb 5 2016,9:00p,Milwaukee Bucks,81,Utah Jazz,84,Box Score,,19911,\\r\\nFri Feb 5 2016,9:30p,San Antonio Spurs,116,Dallas Mavericks,90,Box Score,,20404,\\r\\nSat Feb 6 2016,5:00p,Portland Trail Blazers,96,Houston Rockets,79,Box Score,,18308,\\r\\nSat Feb 6 2016,7:00p,Washington Wizards,104,Charlotte Hornets,108,Box Score,,18450,\\r\\nSat Feb 6 2016,7:00p,Detroit Pistons,104,Indiana Pacers,112,Box Score,,18165,\\r\\nSat Feb 6 2016,7:30p,New Orleans Pelicans,84,Cleveland Cavaliers,99,Box Score,,20562,\\r\\nSat Feb 6 2016,7:30p,Brooklyn Nets,98,Philadelphia 76ers,103,Box Score,,18847,\\r\\nSat Feb 6 2016,8:00p,Dallas Mavericks,114,Memphis Grizzlies,110,Box Score,OT,18119,\\r\\nSat Feb 6 2016,8:00p,Chicago Bulls,105,Minnesota Timberwolves,112,Box Score,,17876,\\r\\nSat Feb 6 2016,8:30p,Los Angeles Lakers,102,San Antonio Spurs,106,Box Score,,18418,\\r\\nSat Feb 6 2016,9:00p,Oklahoma City Thunder,108,Golden State Warriors,116,Box Score,,19596,\\r\\nSat Feb 6 2016,9:00p,Utah Jazz,98,Phoenix Suns,89,Box Score,,16180,\\r\\nSun Feb 7 2016,1:00p,Sacramento Kings,119,Boston Celtics,128,Box Score,,18624,\\r\\nSun Feb 7 2016,1:00p,Denver Nuggets,101,New York Knicks,96,Box Score,,19812,\\r\\nSun Feb 7 2016,1:00p,Atlanta Hawks,94,Orlando Magic,96,Box Score,,16021,\\r\\nSun Feb 7 2016,2:00p,Los Angeles Clippers,100,Miami Heat,93,Box Score,,19624,\\r\\nMon Feb 8 2016,7:00p,Chicago Bulls,91,Charlotte Hornets,108,Box Score,,15886,\\r\\nMon Feb 8 2016,7:00p,Sacramento Kings,100,Cleveland Cavaliers,120,Box Score,,20562,\\r\\nMon Feb 8 2016,7:00p,Los Angeles Lakers,87,Indiana Pacers,89,Box Score,,18165,\\r\\nMon Feb 8 2016,7:00p,Los Angeles Clippers,98,Philadelphia 76ers,92,Box Score,OT,13310,\\r\\nMon Feb 8 2016,7:30p,Denver Nuggets,104,Brooklyn Nets,105,Box Score,,13043,\\r\\nMon Feb 8 2016,7:30p,Toronto Raptors,103,Detroit Pistons,89,Box Score,,14103,\\r\\nMon Feb 8 2016,8:00p,Orlando Magic,117,Atlanta Hawks,110,Box Score,OT,13057,\\r\\nMon Feb 8 2016,8:00p,Portland Trail Blazers,112,Memphis Grizzlies,106,Box Score,OT,15892,\\r\\nMon Feb 8 2016,8:00p,New Orleans Pelicans,116,Minnesota Timberwolves,102,Box Score,,11926,\\r\\nMon Feb 8 2016,9:00p,Oklahoma City Thunder,122,Phoenix Suns,106,Box Score,,16316,\\r\\nTue Feb 9 2016,8:00p,San Antonio Spurs,119,Miami Heat,101,Box Score,,19723,\\r\\nTue Feb 9 2016,8:00p,Boston Celtics,111,Milwaukee Bucks,112,Box Score,,13215,\\r\\nTue Feb 9 2016,8:00p,Washington Wizards,111,New York Knicks,108,Box Score,,19812,\\r\\nTue Feb 9 2016,8:30p,Utah Jazz,121,Dallas Mavericks,119,Box Score,OT,19394,\\r\\nTue Feb 9 2016,10:30p,Houston Rockets,110,Golden State Warriors,123,Box Score,,19596,\\r\\nWed Feb 10 2016,7:00p,Charlotte Hornets,117,Indiana Pacers,95,Box Score,,15653,\\r\\nWed Feb 10 2016,7:00p,San Antonio Spurs,98,Orlando Magic,96,Box Score,,17467,\\r\\nWed Feb 10 2016,7:00p,Sacramento Kings,114,Philadelphia 76ers,110,Box Score,,12501,\\r\\nWed Feb 10 2016,7:30p,Los Angeles Clippers,134,Boston Celtics,139,Box Score,OT,18186,\\r\\nWed Feb 10 2016,7:30p,Memphis Grizzlies,109,Brooklyn Nets,90,Box Score,,14262,\\r\\nWed Feb 10 2016,7:30p,Denver Nuggets,103,Detroit Pistons,92,Box Score,,19971,\\r\\nWed Feb 10 2016,8:00p,Atlanta Hawks,113,Chicago Bulls,90,Box Score,,21709,\\r\\nWed Feb 10 2016,8:00p,Los Angeles Lakers,111,Cleveland Cavaliers,120,Box Score,,20562,\\r\\nWed Feb 10 2016,8:00p,Toronto Raptors,112,Minnesota Timberwolves,117,Box Score,,11171,\\r\\nWed Feb 10 2016,8:00p,Utah Jazz,96,New Orleans Pelicans,100,Box Score,,15256,\\r\\nWed Feb 10 2016,9:00p,Golden State Warriors,112,Phoenix Suns,104,Box Score,,18055,\\r\\nWed Feb 10 2016,10:30p,Houston Rockets,103,Portland Trail Blazers,116,Box Score,,19393,\\r\\nThu Feb 11 2016,8:00p,Washington Wizards,92,Milwaukee Bucks,99,Box Score,,14172,\\r\\nThu Feb 11 2016,8:00p,New Orleans Pelicans,95,Oklahoma City Thunder,121,Box Score,,18203,\\r\\nThu Feb 18 2016,7:00p,Utah Jazz,89,Washington Wizards,103,Box Score,,12415,\\r\\nThu Feb 18 2016,8:00p,Chicago Bulls,95,Cleveland Cavaliers,106,Box Score,,20562,\\r\\nThu Feb 18 2016,10:30p,San Antonio Spurs,86,Los Angeles Clippers,105,Box Score,,19410,\\r\\nFri Feb 19 2016,7:00p,Dallas Mavericks,104,Orlando Magic,110,Box Score,OT,17764,\\r\\nFri Feb 19 2016,7:00p,Detroit Pistons,86,Washington Wizards,98,Box Score,,20356,\\r\\nFri Feb 19 2016,7:30p,New York Knicks,98,Brooklyn Nets,109,Box Score,,17732,\\r\\nFri Feb 19 2016,8:00p,Miami Heat,115,Atlanta Hawks,111,Box Score,,19043,\\r\\nFri Feb 19 2016,8:00p,Toronto Raptors,106,Chicago Bulls,116,Box Score,,21849,\\r\\nFri Feb 19 2016,8:00p,Minnesota Timberwolves,104,Memphis Grizzlies,109,Box Score,,18119,\\r\\nFri Feb 19 2016,8:00p,Charlotte Hornets,98,Milwaukee Bucks,95,Box Score,,16370,\\r\\nFri Feb 19 2016,8:00p,Philadelphia 76ers,114,New Orleans Pelicans,121,Box Score,,16953,\\r\\nFri Feb 19 2016,8:00p,Indiana Pacers,101,Oklahoma City Thunder,98,Box Score,,18203,\\r\\nFri Feb 19 2016,9:30p,Houston Rockets,116,Phoenix Suns,100,Box Score,,17102,\\r\\nFri Feb 19 2016,10:00p,Golden State Warriors,105,Portland Trail Blazers,137,Box Score,,20100,\\r\\nFri Feb 19 2016,10:00p,Denver Nuggets,110,Sacramento Kings,116,Box Score,,17317,\\r\\nFri Feb 19 2016,10:30p,San Antonio Spurs,119,Los Angeles Lakers,113,Box Score,,18997,\\r\\nFri Feb 19 2016,10:30p,Boston Celtics,93,Utah Jazz,111,Box Score,,19911,\\r\\nSat Feb 20 2016,7:30p,Milwaukee Bucks,117,Atlanta Hawks,109,Box Score,2OT,18653,\\r\\nSat Feb 20 2016,7:30p,Washington Wizards,94,Miami Heat,114,Box Score,,19710,\\r\\nSat Feb 20 2016,8:00p,New York Knicks,103,Minnesota Timberwolves,95,Box Score,,16663,\\r\\nSat Feb 20 2016,8:30p,Golden State Warriors,115,Los Angeles Clippers,112,Box Score,,19585,\\r\\nSun Feb 21 2016,3:30p,New Orleans Pelicans,111,Detroit Pistons,106,Box Score,,17886,\\r\\nSun Feb 21 2016,3:30p,Cleveland Cavaliers,115,Oklahoma City Thunder,92,Box Score,,18203,\\r\\nSun Feb 21 2016,5:00p,Boston Celtics,121,Denver Nuggets,101,Box Score,,16065,\\r\\nSun Feb 21 2016,5:00p,San Antonio Spurs,118,Phoenix Suns,111,Box Score,,16224,\\r\\nSun Feb 21 2016,6:00p,Charlotte Hornets,104,Brooklyn Nets,96,Box Score,,16155,\\r\\nSun Feb 21 2016,6:00p,Indiana Pacers,105,Orlando Magic,102,Box Score,,17242,\\r\\nSun Feb 21 2016,6:00p,Memphis Grizzlies,85,Toronto Raptors,98,Box Score,,19800,\\r\\nSun Feb 21 2016,7:00p,Philadelphia 76ers,103,Dallas Mavericks,129,Box Score,,20194,\\r\\nSun Feb 21 2016,8:00p,Los Angeles Lakers,115,Chicago Bulls,126,Box Score,,23143,\\r\\nSun Feb 21 2016,9:00p,Utah Jazz,111,Portland Trail Blazers,115,Box Score,,19470,\\r\\nMon Feb 22 2016,7:00p,Detroit Pistons,96,Cleveland Cavaliers,88,Box Score,,20562,\\r\\nMon Feb 22 2016,7:30p,Indiana Pacers,93,Miami Heat,101,Box Score,OT,19600,\\r\\nMon Feb 22 2016,7:30p,Toronto Raptors,122,New York Knicks,95,Box Score,,19812,\\r\\nMon Feb 22 2016,8:00p,Golden State Warriors,102,Atlanta Hawks,92,Box Score,,19330,\\r\\nMon Feb 22 2016,8:00p,Los Angeles Lakers,101,Milwaukee Bucks,108,Box Score,,18717,\\r\\nMon Feb 22 2016,8:00p,Boston Celtics,122,Minnesota Timberwolves,124,Box Score,,11639,\\r\\nMon Feb 22 2016,10:30p,Phoenix Suns,84,Los Angeles Clippers,124,Box Score,,19060,\\r\\nTue Feb 23 2016,7:00p,Orlando Magic,124,Philadelphia 76ers,115,Box Score,,13745,\\r\\nTue Feb 23 2016,7:00p,New Orleans Pelicans,89,Washington Wizards,109,Box Score,,15743,\\r\\nTue Feb 23 2016,9:00p,Sacramento Kings,114,Denver Nuggets,110,Box Score,,15721,\\r\\nTue Feb 23 2016,9:00p,Houston Rockets,114,Utah Jazz,117,Box Score,OT,18132,\\r\\nTue Feb 23 2016,10:00p,Brooklyn Nets,104,Portland Trail Blazers,112,Box Score,,19393,\\r\\nWed Feb 24 2016,7:00p,Charlotte Hornets,103,Cleveland Cavaliers,114,Box Score,,20562,\\r\\nWed Feb 24 2016,7:00p,New York Knicks,105,Indiana Pacers,108,Box Score,,16018,\\r\\nWed Feb 24 2016,7:30p,Philadelphia 76ers,91,Detroit Pistons,111,Box Score,,13429,\\r\\nWed Feb 24 2016,7:30p,Golden State Warriors,118,Miami Heat,112,Box Score,,19899,\\r\\nWed Feb 24 2016,7:30p,Minnesota Timberwolves,105,Toronto Raptors,114,Box Score,,19800,\\r\\nWed Feb 24 2016,8:00p,Washington Wizards,104,Chicago Bulls,109,Box Score,,21560,\\r\\nWed Feb 24 2016,8:00p,Los Angeles Lakers,119,Memphis Grizzlies,128,Box Score,,18119,\\r\\nWed Feb 24 2016,8:30p,Oklahoma City Thunder,116,Dallas Mavericks,103,Box Score,,19805,\\r\\nWed Feb 24 2016,10:30p,Denver Nuggets,87,Los Angeles Clippers,81,Box Score,,19060,\\r\\nWed Feb 24 2016,10:30p,San Antonio Spurs,108,Sacramento Kings,92,Box Score,,17317,\\r\\nThu Feb 25 2016,7:00p,Golden State Warriors,130,Orlando Magic,114,Box Score,,19189,\\r\\nThu Feb 25 2016,7:30p,Milwaukee Bucks,107,Boston Celtics,112,Box Score,,18157,\\r\\nThu Feb 25 2016,8:00p,Oklahoma City Thunder,119,New Orleans Pelicans,123,Box Score,,16974,\\r\\nThu Feb 25 2016,9:00p,Brooklyn Nets,116,Phoenix Suns,106,Box Score,,16145,\\r\\nThu Feb 25 2016,10:30p,Houston Rockets,119,Portland Trail Blazers,105,Box Score,,19393,\\r\\nThu Feb 25 2016,10:30p,San Antonio Spurs,96,Utah Jazz,78,Box Score,,19911,\\r\\nFri Feb 26 2016,7:00p,Charlotte Hornets,96,Indiana Pacers,95,Box Score,,18165,\\r\\nFri Feb 26 2016,7:00p,Washington Wizards,103,Philadelphia 76ers,94,Box Score,,16511,\\r\\nFri Feb 26 2016,7:30p,Orlando Magic,95,New York Knicks,108,Box Score,,19812,\\r\\nFri Feb 26 2016,7:30p,Cleveland Cavaliers,97,Toronto Raptors,99,Box Score,,19800,\\r\\nFri Feb 26 2016,8:00p,Chicago Bulls,88,Atlanta Hawks,103,Box Score,,18123,\\r\\nFri Feb 26 2016,8:30p,Denver Nuggets,116,Dallas Mavericks,122,Box Score,OT,20298,\\r\\nFri Feb 26 2016,10:00p,Los Angeles Clippers,117,Sacramento Kings,107,Box Score,,17317,\\r\\nFri Feb 26 2016,10:30p,Memphis Grizzlies,112,Los Angeles Lakers,95,Box Score,,18997,\\r\\nSat Feb 27 2016,3:00p,Miami Heat,89,Boston Celtics,101,Box Score,,18624,\\r\\nSat Feb 27 2016,7:00p,Minnesota Timberwolves,112,New Orleans Pelicans,110,Box Score,,17338,\\r\\nSat Feb 27 2016,8:00p,Portland Trail Blazers,103,Chicago Bulls,95,Box Score,,21962,\\r\\nSat Feb 27 2016,8:00p,San Antonio Spurs,104,Houston Rockets,94,Box Score,,18240,\\r\\nSat Feb 27 2016,8:30p,Detroit Pistons,102,Milwaukee Bucks,91,Box Score,,17165,\\r\\nSat Feb 27 2016,8:30p,Golden State Warriors,121,Oklahoma City Thunder,118,Box Score,OT,18203,\\r\\nSat Feb 27 2016,9:30p,Memphis Grizzlies,106,Phoenix Suns,111,Box Score,,17101,\\r\\nSat Feb 27 2016,9:30p,Brooklyn Nets,98,Utah Jazz,96,Box Score,,18863,\\r\\nSun Feb 28 2016,1:00p,Cleveland Cavaliers,99,Washington Wizards,113,Box Score,,20356,\\r\\nSun Feb 28 2016,3:30p,Charlotte Hornets,76,Atlanta Hawks,87,Box Score,,17156,\\r\\nSun Feb 28 2016,6:00p,Toronto Raptors,101,Detroit Pistons,114,Box Score,,17201,\\r\\nSun Feb 28 2016,6:00p,Portland Trail Blazers,111,Indiana Pacers,102,Box Score,,16662,\\r\\nSun Feb 28 2016,6:00p,Philadelphia 76ers,116,Orlando Magic,130,Box Score,,16168,\\r\\nSun Feb 28 2016,7:00p,Minnesota Timberwolves,101,Dallas Mavericks,128,Box Score,,20289,\\r\\nSun Feb 28 2016,7:30p,Miami Heat,98,New York Knicks,81,Box Score,,19812,\\r\\nMon Feb 29 2016,7:00p,Indiana Pacers,96,Cleveland Cavaliers,100,Box Score,,20562,\\r\\nMon Feb 29 2016,7:00p,Philadelphia 76ers,108,Washington Wizards,116,Box Score,,15096,\\r\\nMon Feb 29 2016,7:30p,Utah Jazz,95,Boston Celtics,100,Box Score,,17680,\\r\\nMon Feb 29 2016,8:00p,Houston Rockets,121,Milwaukee Bucks,128,Box Score,,13214,\\r\\nMon Feb 29 2016,9:00p,Memphis Grizzlies,103,Denver Nuggets,96,Box Score,,10324,\\r\\nMon Feb 29 2016,10:00p,Oklahoma City Thunder,131,Sacramento Kings,116,Box Score,,17317,\\r\\nMon Feb 29 2016,10:30p,Brooklyn Nets,95,Los Angeles Clippers,105,Box Score,,19060,\\r\\nTue Mar 1 2016,7:00p,Phoenix Suns,92,Charlotte Hornets,126,Box Score,,16849,\\r\\nTue Mar 1 2016,7:30p,Chicago Bulls,111,Miami Heat,129,Box Score,,19654,\\r\\nTue Mar 1 2016,7:30p,Portland Trail Blazers,104,New York Knicks,85,Box Score,,19812,\\r\\nTue Mar 1 2016,8:30p,Orlando Magic,108,Dallas Mavericks,121,Box Score,,19546,\\r\\nTue Mar 1 2016,10:30p,Atlanta Hawks,105,Golden State Warriors,109,Box Score,OT,19596,\\r\\nTue Mar 1 2016,10:30p,Brooklyn Nets,101,Los Angeles Lakers,107,Box Score,,18997,\\r\\nWed Mar 2 2016,7:00p,Chicago Bulls,89,Orlando Magic,102,Box Score,,16072,\\r\\nWed Mar 2 2016,7:00p,Charlotte Hornets,119,Philadelphia 76ers,99,Box Score,,11143,\\r\\nWed Mar 2 2016,7:30p,Portland Trail Blazers,93,Boston Celtics,116,Box Score,,18624,\\r\\nWed Mar 2 2016,7:30p,Utah Jazz,94,Toronto Raptors,104,Box Score,,19800,\\r\\nWed Mar 2 2016,8:00p,New Orleans Pelicans,95,Houston Rockets,100,Box Score,,18226,\\r\\nWed Mar 2 2016,8:00p,Sacramento Kings,98,Memphis Grizzlies,104,Box Score,,15310,\\r\\nWed Mar 2 2016,8:00p,Indiana Pacers,104,Milwaukee Bucks,99,Box Score,,14263,\\r\\nWed Mar 2 2016,8:00p,Washington Wizards,104,Minnesota Timberwolves,98,Box Score,,11307,\\r\\nWed Mar 2 2016,8:00p,Detroit Pistons,81,San Antonio Spurs,97,Box Score,,18418,\\r\\nWed Mar 2 2016,9:00p,Los Angeles Lakers,107,Denver Nuggets,117,Box Score,,20096,\\r\\nWed Mar 2 2016,10:30p,Oklahoma City Thunder,98,Los Angeles Clippers,103,Box Score,,19304,\\r\\nThu Mar 3 2016,7:30p,Phoenix Suns,92,Miami Heat,108,Box Score,,19600,\\r\\nThu Mar 3 2016,8:00p,San Antonio Spurs,94,New Orleans Pelicans,86,Box Score,,17781,\\r\\nThu Mar 3 2016,8:30p,Sacramento Kings,104,Dallas Mavericks,101,Box Score,,19910,\\r\\nThu Mar 3 2016,10:30p,Oklahoma City Thunder,106,Golden State Warriors,121,Box Score,,19596,\\r\\nFri Mar 4 2016,7:00p,Indiana Pacers,101,Charlotte Hornets,108,Box Score,,19099,\\r\\nFri Mar 4 2016,7:00p,Phoenix Suns,102,Orlando Magic,84,Box Score,,17546,\\r\\nFri Mar 4 2016,7:00p,Miami Heat,112,Philadelphia 76ers,102,Box Score,,17610,\\r\\nFri Mar 4 2016,7:30p,New York Knicks,104,Boston Celtics,105,Box Score,,18624,\\r\\nFri Mar 4 2016,7:30p,Portland Trail Blazers,115,Toronto Raptors,117,Box Score,,19800,\\r\\nFri Mar 4 2016,8:00p,Washington Wizards,83,Cleveland Cavaliers,108,Box Score,,20562,\\r\\nFri Mar 4 2016,8:00p,Utah Jazz,88,Memphis Grizzlies,94,Box Score,,17188,\\r\\nFri Mar 4 2016,8:00p,Minnesota Timberwolves,101,Milwaukee Bucks,116,Box Score,,16366,\\r\\nFri Mar 4 2016,9:00p,Brooklyn Nets,121,Denver Nuggets,120,Box Score,OT,14163,\\r\\nFri Mar 4 2016,10:30p,Atlanta Hawks,106,Los Angeles Lakers,77,Box Score,,18997,\\r\\nSat Mar 5 2016,7:00p,Boston Celtics,103,Cleveland Cavaliers,120,Box Score,,20562,\\r\\nSat Mar 5 2016,7:00p,Utah Jazz,106,New Orleans Pelicans,94,Box Score,,16680,\\r\\nSat Mar 5 2016,7:00p,Detroit Pistons,89,New York Knicks,102,Box Score,,19812,\\r\\nSat Mar 5 2016,7:00p,Indiana Pacers,100,Washington Wizards,99,Box Score,,20356,\\r\\nSat Mar 5 2016,8:00p,Brooklyn Nets,118,Minnesota Timberwolves,132,Box Score,,15987,\\r\\nSat Mar 5 2016,8:30p,Houston Rockets,100,Chicago Bulls,108,Box Score,,22203,\\r\\nSat Mar 5 2016,8:30p,Sacramento Kings,94,San Antonio Spurs,104,Box Score,,18418,\\r\\nSat Mar 5 2016,10:30p,Atlanta Hawks,107,Los Angeles Clippers,97,Box Score,,19236,\\r\\nSun Mar 6 2016,3:30p,Golden State Warriors,95,Los Angeles Lakers,112,Box Score,,18997,\\r\\nSun Mar 6 2016,3:30p,Oklahoma City Thunder,104,Milwaukee Bucks,96,Box Score,,16565,\\r\\nSun Mar 6 2016,4:00p,Phoenix Suns,109,Memphis Grizzlies,100,Box Score,,17291,\\r\\nSun Mar 6 2016,5:00p,Dallas Mavericks,114,Denver Nuggets,116,Box Score,OT,14802,\\r\\nSun Mar 6 2016,6:00p,Portland Trail Blazers,103,Detroit Pistons,123,Box Score,,18386,\\r\\nSun Mar 6 2016,6:00p,Philadelphia 76ers,98,Miami Heat,103,Box Score,,19820,\\r\\nSun Mar 6 2016,6:30p,Houston Rockets,113,Toronto Raptors,107,Box Score,,19800,\\r\\nMon Mar 7 2016,7:00p,Minnesota Timberwolves,103,Charlotte Hornets,108,Box Score,,15912,\\r\\nMon Mar 7 2016,7:00p,Memphis Grizzlies,106,Cleveland Cavaliers,103,Box Score,,20562,\\r\\nMon Mar 7 2016,7:00p,San Antonio Spurs,91,Indiana Pacers,99,Box Score,,16742,\\r\\nMon Mar 7 2016,8:00p,Milwaukee Bucks,90,Chicago Bulls,100,Box Score,,21672,\\r\\nMon Mar 7 2016,8:00p,Sacramento Kings,112,New Orleans Pelicans,115,Box Score,,16403,\\r\\nMon Mar 7 2016,8:30p,Los Angeles Clippers,109,Dallas Mavericks,90,Box Score,,20002,\\r\\nMon Mar 7 2016,10:30p,Orlando Magic,113,Golden State Warriors,119,Box Score,,19596,\\r\\nTue Mar 8 2016,7:30p,Brooklyn Nets,99,Toronto Raptors,104,Box Score,,19800,\\r\\nTue Mar 8 2016,8:00p,San Antonio Spurs,116,Minnesota Timberwolves,91,Box Score,,14093,\\r\\nTue Mar 8 2016,9:00p,New York Knicks,94,Denver Nuggets,110,Box Score,,13305,\\r\\nTue Mar 8 2016,9:00p,Atlanta Hawks,91,Utah Jazz,84,Box Score,,19282,\\r\\nTue Mar 8 2016,10:00p,Washington Wizards,109,Portland Trail Blazers,116,Box Score,OT,19393,\\r\\nTue Mar 8 2016,10:30p,Orlando Magic,98,Los Angeles Lakers,107,Box Score,,18997,\\r\\nWed Mar 9 2016,7:00p,Memphis Grizzlies,96,Boston Celtics,116,Box Score,,17790,\\r\\nWed Mar 9 2016,7:00p,New Orleans Pelicans,113,Charlotte Hornets,122,Box Score,,16335,\\r\\nWed Mar 9 2016,7:00p,Houston Rockets,118,Philadelphia 76ers,104,Box Score,,15237,\\r\\nWed Mar 9 2016,8:00p,Miami Heat,108,Milwaukee Bucks,114,Box Score,,15005,\\r\\nWed Mar 9 2016,8:30p,Detroit Pistons,102,Dallas Mavericks,96,Box Score,,20249,\\r\\nWed Mar 9 2016,9:00p,New York Knicks,128,Phoenix Suns,97,Box Score,,17105,\\r\\nWed Mar 9 2016,9:30p,Los Angeles Clippers,108,Oklahoma City Thunder,120,Box Score,,18203,\\r\\nWed Mar 9 2016,10:00p,Cleveland Cavaliers,120,Sacramento Kings,111,Box Score,,17317,\\r\\nWed Mar 9 2016,10:30p,Utah Jazz,94,Golden State Warriors,115,Box Score,,19596,\\r\\nThu Mar 10 2016,7:30p,Atlanta Hawks,96,Toronto Raptors,104,Box Score,,19800,\\r\\nThu Mar 10 2016,8:00p,Chicago Bulls,101,San Antonio Spurs,109,Box Score,,18418,\\r\\nThu Mar 10 2016,9:00p,Phoenix Suns,98,Denver Nuggets,116,Box Score,,11582,\\r\\nThu Mar 10 2016,10:30p,Cleveland Cavaliers,120,Los Angeles Lakers,108,Box Score,,18997,\\r\\nFri Mar 11 2016,7:00p,Detroit Pistons,103,Charlotte Hornets,118,Box Score,,18189,\\r\\nFri Mar 11 2016,7:00p,Brooklyn Nets,89,Philadelphia 76ers,95,Box Score,,14128,\\r\\nFri Mar 11 2016,7:30p,Houston Rockets,102,Boston Celtics,98,Box Score,,18624,\\r\\nFri Mar 11 2016,8:00p,Miami Heat,118,Chicago Bulls,96,Box Score,,22067,\\r\\nFri Mar 11 2016,8:00p,New Orleans Pelicans,114,Memphis Grizzlies,121,Box Score,OT,18119,\\r\\nFri Mar 11 2016,8:00p,Minnesota Timberwolves,99,Oklahoma City Thunder,96,Box Score,,18203,\\r\\nFri Mar 11 2016,9:00p,Washington Wizards,93,Utah Jazz,114,Box Score,,19911,\\r\\nFri Mar 11 2016,10:00p,Orlando Magic,107,Sacramento Kings,100,Box Score,,17081,\\r\\nFri Mar 11 2016,10:30p,Portland Trail Blazers,112,Golden State Warriors,128,Box Score,,19596,\\r\\nFri Mar 11 2016,10:30p,New York Knicks,94,Los Angeles Clippers,101,Box Score,,19175,\\r\\nSat Mar 12 2016,2:00p,Indiana Pacers,112,Dallas Mavericks,105,Box Score,,20459,\\r\\nSat Mar 12 2016,7:00p,Houston Rockets,109,Charlotte Hornets,125,Box Score,,19303,\\r\\nSat Mar 12 2016,7:00p,Detroit Pistons,125,Philadelphia 76ers,111,Box Score,,16087,\\r\\nSat Mar 12 2016,7:00p,Miami Heat,104,Toronto Raptors,112,Box Score,OT,19800,\\r\\nSat Mar 12 2016,7:30p,Memphis Grizzlies,83,Atlanta Hawks,95,Box Score,,17515,\\r\\nSat Mar 12 2016,7:30p,New Orleans Pelicans,92,Milwaukee Bucks,103,Box Score,,16518,\\r\\nSat Mar 12 2016,8:30p,Oklahoma City Thunder,85,San Antonio Spurs,93,Box Score,,18418,\\r\\nSat Mar 12 2016,9:30p,Washington Wizards,100,Denver Nuggets,116,Box Score,,13213,\\r\\nSat Mar 12 2016,10:30p,Phoenix Suns,116,Golden State Warriors,123,Box Score,,19596,\\r\\nSat Mar 12 2016,10:30p,Orlando Magic,84,Portland Trail Blazers,121,Box Score,,19452,\\r\\nSun Mar 13 2016,3:30p,Cleveland Cavaliers,114,Los Angeles Clippers,90,Box Score,,19342,\\r\\nSun Mar 13 2016,6:00p,Indiana Pacers,75,Atlanta Hawks,104,Box Score,,17066,\\r\\nSun Mar 13 2016,6:00p,Utah Jazz,108,Sacramento Kings,99,Box Score,,17023,\\r\\nSun Mar 13 2016,8:00p,Milwaukee Bucks,109,Brooklyn Nets,100,Box Score,,15241,\\r\\nSun Mar 13 2016,9:30p,New York Knicks,90,Los Angeles Lakers,87,Box Score,,18997,\\r\\nMon Mar 14 2016,7:00p,Dallas Mavericks,107,Charlotte Hornets,96,Box Score,,15686,\\r\\nMon Mar 14 2016,7:30p,Denver Nuggets,119,Miami Heat,124,Box Score,,19744,\\r\\nMon Mar 14 2016,7:30p,Chicago Bulls,109,Toronto Raptors,107,Box Score,,19800,\\r\\nMon Mar 14 2016,8:00p,Memphis Grizzlies,81,Houston Rockets,130,Box Score,,18226,\\r\\nMon Mar 14 2016,8:00p,Portland Trail Blazers,94,Oklahoma City Thunder,128,Box Score,,18203,\\r\\nMon Mar 14 2016,8:00p,Detroit Pistons,81,Washington Wizards,124,Box Score,,18042,\\r\\nMon Mar 14 2016,10:00p,Minnesota Timberwolves,104,Phoenix Suns,107,Box Score,,17480,\\r\\nMon Mar 14 2016,10:30p,New Orleans Pelicans,107,Golden State Warriors,125,Box Score,,19596,\\r\\nMon Mar 14 2016,10:30p,Cleveland Cavaliers,85,Utah Jazz,94,Box Score,,19911,\\r\\nTue Mar 15 2016,7:00p,Boston Celtics,98,Indiana Pacers,103,Box Score,,17118,\\r\\nTue Mar 15 2016,7:00p,Denver Nuggets,110,Orlando Magic,116,Box Score,,16988,\\r\\nTue Mar 15 2016,7:30p,Philadelphia 76ers,114,Brooklyn Nets,131,Box Score,,14560,\\r\\nTue Mar 15 2016,8:00p,Toronto Raptors,107,Milwaukee Bucks,89,Box Score,,13522,\\r\\nTue Mar 15 2016,8:30p,Los Angeles Clippers,87,San Antonio Spurs,108,Box Score,,18418,\\r\\nTue Mar 15 2016,10:30p,Sacramento Kings,106,Los Angeles Lakers,98,Box Score,,18997,\\r\\nWed Mar 16 2016,7:00p,Oklahoma City Thunder,130,Boston Celtics,109,Box Score,,18624,\\r\\nWed Mar 16 2016,7:00p,Orlando Magic,99,Charlotte Hornets,107,Box Score,,16148,\\r\\nWed Mar 16 2016,7:00p,Dallas Mavericks,98,Cleveland Cavaliers,99,Box Score,,20562,\\r\\nWed Mar 16 2016,7:00p,Chicago Bulls,96,Washington Wizards,117,Box Score,,19556,\\r\\nWed Mar 16 2016,7:30p,Atlanta Hawks,118,Detroit Pistons,114,Box Score,,14121,\\r\\nWed Mar 16 2016,8:00p,Minnesota Timberwolves,114,Memphis Grizzlies,108,Box Score,,16588,\\r\\nWed Mar 16 2016,9:30p,Los Angeles Clippers,122,Houston Rockets,106,Box Score,,18304,\\r\\nWed Mar 16 2016,10:00p,New Orleans Pelicans,123,Sacramento Kings,108,Box Score,,17086,\\r\\nWed Mar 16 2016,10:30p,New York Knicks,85,Golden State Warriors,121,Box Score,,19596,\\r\\nThu Mar 17 2016,7:00p,Toronto Raptors,101,Indiana Pacers,94,Box Score,OT,15104,\\r\\nThu Mar 17 2016,7:00p,Washington Wizards,99,Philadelphia 76ers,94,Box Score,,10521,\\r\\nThu Mar 17 2016,7:30p,Charlotte Hornets,109,Miami Heat,106,Box Score,,19848,\\r\\nThu Mar 17 2016,8:00p,Denver Nuggets,98,Atlanta Hawks,116,Box Score,,14383,\\r\\nThu Mar 17 2016,8:00p,Brooklyn Nets,102,Chicago Bulls,118,Box Score,,21513,\\r\\nThu Mar 17 2016,8:00p,Memphis Grizzlies,86,Milwaukee Bucks,96,Box Score,,11740,\\r\\nThu Mar 17 2016,8:30p,Portland Trail Blazers,110,San Antonio Spurs,118,Box Score,,18418,\\r\\nThu Mar 17 2016,9:00p,Phoenix Suns,69,Utah Jazz,103,Box Score,,18784,\\r\\nFri Mar 18 2016,7:00p,Cleveland Cavaliers,109,Orlando Magic,103,Box Score,,18046,\\r\\nFri Mar 18 2016,7:00p,Oklahoma City Thunder,111,Philadelphia 76ers,97,Box Score,,20388,\\r\\nFri Mar 18 2016,7:30p,Sacramento Kings,108,Detroit Pistons,115,Box Score,,15982,\\r\\nFri Mar 18 2016,7:30p,Boston Celtics,91,Toronto Raptors,105,Box Score,,19800,\\r\\nFri Mar 18 2016,8:00p,Minnesota Timberwolves,111,Houston Rockets,116,Box Score,,18142,\\r\\nFri Mar 18 2016,8:00p,Portland Trail Blazers,117,New Orleans Pelicans,112,Box Score,,17263,\\r\\nFri Mar 18 2016,8:30p,Golden State Warriors,130,Dallas Mavericks,112,Box Score,,20515,\\r\\nFri Mar 18 2016,10:30p,Phoenix Suns,95,Los Angeles Lakers,90,Box Score,,18997,\\r\\nSat Mar 19 2016,6:00p,Denver Nuggets,101,Charlotte Hornets,93,Box Score,,19271,\\r\\nSat Mar 19 2016,7:00p,Brooklyn Nets,103,Detroit Pistons,115,Box Score,,17559,\\r\\nSat Mar 19 2016,7:00p,Oklahoma City Thunder,115,Indiana Pacers,111,Box Score,,18165,\\r\\nSat Mar 19 2016,7:00p,New York Knicks,89,Washington Wizards,99,Box Score,,20356,\\r\\nSat Mar 19 2016,7:30p,Houston Rockets,97,Atlanta Hawks,109,Box Score,,18067,\\r\\nSat Mar 19 2016,7:30p,Cleveland Cavaliers,101,Miami Heat,122,Box Score,,19737,\\r\\nSat Mar 19 2016,8:00p,Utah Jazz,85,Chicago Bulls,92,Box Score,,21856,\\r\\nSat Mar 19 2016,8:00p,Los Angeles Clippers,102,Memphis Grizzlies,113,Box Score,,18119,\\r\\nSat Mar 19 2016,8:30p,Golden State Warriors,79,San Antonio Spurs,87,Box Score,,18825,\\r\\nSun Mar 20 2016,4:00p,Portland Trail Blazers,120,Dallas Mavericks,132,Box Score,OT,20351,\\r\\nSun Mar 20 2016,4:30p,Orlando Magic,100,Toronto Raptors,105,Box Score,,19800,\\r\\nSun Mar 20 2016,6:00p,Los Angeles Clippers,105,New Orleans Pelicans,109,Box Score,,17407,\\r\\nSun Mar 20 2016,6:00p,Boston Celtics,120,Philadelphia 76ers,105,Box Score,,15103,\\r\\nSun Mar 20 2016,7:00p,Utah Jazz,94,Milwaukee Bucks,85,Box Score,,14124,\\r\\nSun Mar 20 2016,7:30p,Sacramento Kings,88,New York Knicks,80,Box Score,,19812,\\r\\nMon Mar 21 2016,7:00p,San Antonio Spurs,88,Charlotte Hornets,91,Box Score,,18260,\\r\\nMon Mar 21 2016,7:00p,Denver Nuggets,91,Cleveland Cavaliers,124,Box Score,,20562,\\r\\nMon Mar 21 2016,7:00p,Philadelphia 76ers,75,Indiana Pacers,91,Box Score,,16155,\\r\\nMon Mar 21 2016,7:30p,Orlando Magic,96,Boston Celtics,107,Box Score,,18624,\\r\\nMon Mar 21 2016,7:30p,Milwaukee Bucks,91,Detroit Pistons,92,Box Score,,13577,\\r\\nMon Mar 21 2016,8:00p,Washington Wizards,117,Atlanta Hawks,102,Box Score,,15729,\\r\\nMon Mar 21 2016,8:00p,Sacramento Kings,102,Chicago Bulls,109,Box Score,,21531,\\r\\nMon Mar 21 2016,8:00p,Golden State Warriors,109,Minnesota Timberwolves,104,Box Score,,19452,\\r\\nMon Mar 21 2016,10:00p,Memphis Grizzlies,103,Phoenix Suns,97,Box Score,,15868,\\r\\nTue Mar 22 2016,7:30p,Charlotte Hornets,105,Brooklyn Nets,100,Box Score,,15739,\\r\\nTue Mar 22 2016,8:00p,Miami Heat,113,New Orleans Pelicans,99,Box Score,,16867,\\r\\nTue Mar 22 2016,8:00p,Houston Rockets,107,Oklahoma City Thunder,111,Box Score,,18203,\\r\\nTue Mar 22 2016,10:30p,Memphis Grizzlies,100,Los Angeles Lakers,107,Box Score,,18997,\\r\\nWed Mar 23 2016,7:00p,Milwaukee Bucks,104,Cleveland Cavaliers,113,Box Score,,20562,\\r\\nWed Mar 23 2016,7:00p,Atlanta Hawks,122,Washington Wizards,101,Box Score,,18807,\\r\\nWed Mar 23 2016,7:30p,Toronto Raptors,79,Boston Celtics,91,Box Score,,18624,\\r\\nWed Mar 23 2016,7:30p,Orlando Magic,102,Detroit Pistons,118,Box Score,,16609,\\r\\nWed Mar 23 2016,8:00p,New York Knicks,115,Chicago Bulls,107,Box Score,,21788,\\r\\nWed Mar 23 2016,8:00p,Utah Jazz,89,Houston Rockets,87,Box Score,,18151,\\r\\nWed Mar 23 2016,8:00p,Sacramento Kings,104,Minnesota Timberwolves,113,Box Score,,12151,\\r\\nWed Mar 23 2016,8:30p,Miami Heat,88,San Antonio Spurs,112,Box Score,,18418,\\r\\nWed Mar 23 2016,9:00p,Philadelphia 76ers,103,Denver Nuggets,104,Box Score,,10684,\\r\\nWed Mar 23 2016,10:00p,Los Angeles Lakers,107,Phoenix Suns,119,Box Score,,18191,\\r\\nWed Mar 23 2016,10:00p,Dallas Mavericks,103,Portland Trail Blazers,109,Box Score,,19819,\\r\\nWed Mar 23 2016,10:30p,Los Angeles Clippers,98,Golden State Warriors,114,Box Score,,19596,\\r\\nThu Mar 24 2016,7:00p,New Orleans Pelicans,84,Indiana Pacers,92,Box Score,,17517,\\r\\nThu Mar 24 2016,7:30p,Cleveland Cavaliers,95,Brooklyn Nets,104,Box Score,,17732,\\r\\nThu Mar 24 2016,7:30p,Chicago Bulls,94,New York Knicks,106,Box Score,,19812,\\r\\nThu Mar 24 2016,8:00p,Utah Jazz,91,Oklahoma City Thunder,113,Box Score,,18203,\\r\\nThu Mar 24 2016,10:30p,Portland Trail Blazers,94,Los Angeles Clippers,96,Box Score,,19359,\\r\\nFri Mar 25 2016,7:00p,Minnesota Timberwolves,132,Washington Wizards,129,Box Score,2OT,20356,\\r\\nFri Mar 25 2016,7:30p,Charlotte Hornets,105,Detroit Pistons,112,Box Score,,17209,\\r\\nFri Mar 25 2016,8:00p,Milwaukee Bucks,90,Atlanta Hawks,101,Box Score,,17070,\\r\\nFri Mar 25 2016,8:00p,Toronto Raptors,109,Houston Rockets,112,Box Score,,18230,\\r\\nFri Mar 25 2016,8:00p,Orlando Magic,97,Miami Heat,108,Box Score,,19918,\\r\\nFri Mar 25 2016,8:30p,Memphis Grizzlies,104,San Antonio Spurs,110,Box Score,,18418,\\r\\nFri Mar 25 2016,10:00p,Phoenix Suns,94,Sacramento Kings,116,Box Score,,17317,\\r\\nFri Mar 25 2016,10:30p,Dallas Mavericks,120,Golden State Warriors,128,Box Score,,19596,\\r\\nFri Mar 25 2016,10:30p,Denver Nuggets,116,Los Angeles Lakers,105,Box Score,,18997,\\r\\nSat Mar 26 2016,6:00p,Indiana Pacers,110,Brooklyn Nets,120,Box Score,,16625,\\r\\nSat Mar 26 2016,7:00p,Toronto Raptors,115,New Orleans Pelicans,91,Box Score,,17009,\\r\\nSat Mar 26 2016,7:00p,Chicago Bulls,89,Orlando Magic,111,Box Score,,18846,\\r\\nSat Mar 26 2016,7:30p,Atlanta Hawks,112,Detroit Pistons,95,Box Score,,17857,\\r\\nSat Mar 26 2016,7:30p,Cleveland Cavaliers,107,New York Knicks,93,Box Score,,19812,\\r\\nSat Mar 26 2016,8:00p,Utah Jazz,93,Minnesota Timberwolves,84,Box Score,,14694,\\r\\nSat Mar 26 2016,8:00p,San Antonio Spurs,92,Oklahoma City Thunder,111,Box Score,,18203,\\r\\nSat Mar 26 2016,8:30p,Charlotte Hornets,115,Milwaukee Bucks,91,Box Score,,15544,\\r\\nSat Mar 26 2016,10:00p,Boston Celtics,102,Phoenix Suns,99,Box Score,,18055,\\r\\nSat Mar 26 2016,10:00p,Philadelphia 76ers,105,Portland Trail Blazers,108,Box Score,,19506,\\r\\nSun Mar 27 2016,3:30p,Denver Nuggets,90,Los Angeles Clippers,105,Box Score,,19060,\\r\\nSun Mar 27 2016,6:00p,Houston Rockets,101,Indiana Pacers,104,Box Score,,17165,\\r\\nSun Mar 27 2016,6:00p,Dallas Mavericks,111,Sacramento Kings,133,Box Score,,17147,\\r\\nSun Mar 27 2016,8:00p,Philadelphia 76ers,105,Golden State Warriors,117,Box Score,,19596,\\r\\nSun Mar 27 2016,9:30p,Washington Wizards,101,Los Angeles Lakers,88,Box Score,,18997,\\r\\nMon Mar 28 2016,7:30p,Brooklyn Nets,99,Miami Heat,110,Box Score,,20003,\\r\\nMon Mar 28 2016,7:30p,Oklahoma City Thunder,119,Toronto Raptors,100,Box Score,,19800,\\r\\nMon Mar 28 2016,8:00p,Atlanta Hawks,102,Chicago Bulls,100,Box Score,,21761,\\r\\nMon Mar 28 2016,8:00p,San Antonio Spurs,101,Memphis Grizzlies,87,Box Score,,17133,\\r\\nMon Mar 28 2016,8:00p,Phoenix Suns,116,Minnesota Timberwolves,121,Box Score,,11141,\\r\\nMon Mar 28 2016,8:00p,New York Knicks,91,New Orleans Pelicans,99,Box Score,,17000,\\r\\nMon Mar 28 2016,9:00p,Dallas Mavericks,97,Denver Nuggets,88,Box Score,,14844,\\r\\nMon Mar 28 2016,9:00p,Los Angeles Lakers,75,Utah Jazz,123,Box Score,,19911,\\r\\nMon Mar 28 2016,10:00p,Sacramento Kings,93,Portland Trail Blazers,105,Box Score,,19393,\\r\\nMon Mar 28 2016,10:30p,Boston Celtics,90,Los Angeles Clippers,114,Box Score,,19258,\\r\\nTue Mar 29 2016,7:00p,Chicago Bulls,98,Indiana Pacers,96,Box Score,,17050,\\r\\nTue Mar 29 2016,7:00p,Brooklyn Nets,105,Orlando Magic,139,Box Score,,17536,\\r\\nTue Mar 29 2016,7:00p,Charlotte Hornets,100,Philadelphia 76ers,85,Box Score,,14486,\\r\\nTue Mar 29 2016,7:30p,Oklahoma City Thunder,82,Detroit Pistons,88,Box Score,,18201,\\r\\nTue Mar 29 2016,8:00p,Houston Rockets,106,Cleveland Cavaliers,100,Box Score,,20562,\\r\\nTue Mar 29 2016,10:30p,Washington Wizards,94,Golden State Warriors,102,Box Score,,19596,\\r\\nWed Mar 30 2016,7:30p,Atlanta Hawks,97,Toronto Raptors,105,Box Score,,19800,\\r\\nWed Mar 30 2016,8:00p,Denver Nuggets,109,Memphis Grizzlies,105,Box Score,,16401,\\r\\nWed Mar 30 2016,8:00p,Phoenix Suns,94,Milwaukee Bucks,105,Box Score,,15733,\\r\\nWed Mar 30 2016,8:00p,Los Angeles Clippers,99,Minnesota Timberwolves,79,Box Score,,12252,\\r\\nWed Mar 30 2016,8:30p,New York Knicks,89,Dallas Mavericks,91,Box Score,,20435,\\r\\nWed Mar 30 2016,8:30p,New Orleans Pelicans,92,San Antonio Spurs,100,Box Score,,18418,\\r\\nWed Mar 30 2016,9:00p,Golden State Warriors,103,Utah Jazz,96,Box Score,OT,19911,\\r\\nWed Mar 30 2016,10:00p,Washington Wizards,111,Sacramento Kings,120,Box Score,,17185,\\r\\nWed Mar 30 2016,10:30p,Miami Heat,100,Los Angeles Lakers,102,Box Score,OT,18997,\\r\\nThu Mar 31 2016,7:00p,Brooklyn Nets,87,Cleveland Cavaliers,107,Box Score,,20562,\\r\\nThu Mar 31 2016,7:00p,Chicago Bulls,103,Houston Rockets,100,Box Score,,18244,\\r\\nThu Mar 31 2016,7:00p,Orlando Magic,114,Indiana Pacers,94,Box Score,,17234,\\r\\nThu Mar 31 2016,8:00p,Denver Nuggets,95,New Orleans Pelicans,101,Box Score,,16269,\\r\\nThu Mar 31 2016,9:30p,Los Angeles Clippers,117,Oklahoma City Thunder,119,Box Score,,18203,\\r\\nThu Mar 31 2016,10:00p,Boston Celtics,109,Portland Trail Blazers,116,Box Score,,19393,\\r\\nFri Apr 1 2016,7:00p,Philadelphia 76ers,91,Charlotte Hornets,100,Box Score,,19244,\\r\\nFri Apr 1 2016,7:30p,Dallas Mavericks,98,Detroit Pistons,89,Box Score,,19031,\\r\\nFri Apr 1 2016,7:30p,Brooklyn Nets,91,New York Knicks,105,Box Score,,19812,\\r\\nFri Apr 1 2016,8:00p,Cleveland Cavaliers,110,Atlanta Hawks,108,Box Score,OT,19427,\\r\\nFri Apr 1 2016,8:00p,Toronto Raptors,99,Memphis Grizzlies,95,Box Score,,17077,\\r\\nFri Apr 1 2016,8:00p,Orlando Magic,110,Milwaukee Bucks,113,Box Score,,16268,\\r\\nFri Apr 1 2016,9:00p,Minnesota Timberwolves,85,Utah Jazz,98,Box Score,,19911,\\r\\nFri Apr 1 2016,10:00p,Miami Heat,112,Sacramento Kings,106,Box Score,,17317,\\r\\nFri Apr 1 2016,10:30p,Boston Celtics,109,Golden State Warriors,106,Box Score,,19596,\\r\\nFri Apr 1 2016,10:30p,Washington Wizards,106,Phoenix Suns,99,Box Score,,17345,\\r\\nSat Apr 2 2016,7:30p,Indiana Pacers,115,Philadelphia 76ers,102,Box Score,,19213,\\r\\nSat Apr 2 2016,8:00p,Detroit Pistons,94,Chicago Bulls,90,Box Score,,22197,\\r\\nSat Apr 2 2016,8:30p,Toronto Raptors,95,San Antonio Spurs,102,Box Score,,18418,\\r\\nSat Apr 2 2016,9:00p,Sacramento Kings,115,Denver Nuggets,106,Box Score,,15607,\\r\\nSat Apr 2 2016,10:00p,Miami Heat,93,Portland Trail Blazers,110,Box Score,,19633,\\r\\nSun Apr 3 2016,1:00p,New Orleans Pelicans,106,Brooklyn Nets,87,Box Score,,16329,\\r\\nSun Apr 3 2016,3:30p,Charlotte Hornets,103,Cleveland Cavaliers,112,Box Score,,20562,\\r\\nSun Apr 3 2016,3:30p,Oklahoma City Thunder,110,Houston Rockets,118,Box Score,,18462,\\r\\nSun Apr 3 2016,3:30p,Washington Wizards,109,Los Angeles Clippers,114,Box Score,,19060,\\r\\nSun Apr 3 2016,3:30p,Dallas Mavericks,88,Minnesota Timberwolves,78,Box Score,,16117,\\r\\nSun Apr 3 2016,6:00p,Memphis Grizzlies,107,Orlando Magic,119,Box Score,,17741,\\r\\nSun Apr 3 2016,6:00p,Utah Jazz,101,Phoenix Suns,86,Box Score,,17279,\\r\\nSun Apr 3 2016,7:00p,Chicago Bulls,102,Milwaukee Bucks,98,Box Score,,15768,\\r\\nSun Apr 3 2016,7:30p,Indiana Pacers,92,New York Knicks,87,Box Score,,19812,\\r\\nSun Apr 3 2016,8:00p,Portland Trail Blazers,111,Golden State Warriors,136,Box Score,,19596,\\r\\nSun Apr 3 2016,9:30p,Boston Celtics,107,Los Angeles Lakers,100,Box Score,,18997,\\r\\nTue Apr 5 2016,7:00p,New Orleans Pelicans,93,Philadelphia 76ers,107,Box Score,,10978,\\r\\nTue Apr 5 2016,7:30p,Charlotte Hornets,90,Toronto Raptors,96,Box Score,,19800,\\r\\nTue Apr 5 2016,8:00p,Phoenix Suns,90,Atlanta Hawks,103,Box Score,,15176,\\r\\nTue Apr 5 2016,8:00p,Chicago Bulls,92,Memphis Grizzlies,108,Box Score,,17591,\\r\\nTue Apr 5 2016,8:00p,Detroit Pistons,89,Miami Heat,107,Box Score,,19621,\\r\\nTue Apr 5 2016,8:00p,Cleveland Cavaliers,109,Milwaukee Bucks,80,Box Score,,15061,\\r\\nTue Apr 5 2016,9:00p,Oklahoma City Thunder,124,Denver Nuggets,102,Box Score,,12611,\\r\\nTue Apr 5 2016,9:00p,San Antonio Spurs,88,Utah Jazz,86,Box Score,,19381,\\r\\nTue Apr 5 2016,10:00p,Portland Trail Blazers,115,Sacramento Kings,107,Box Score,,17317,\\r\\nTue Apr 5 2016,10:30p,Minnesota Timberwolves,124,Golden State Warriors,117,Box Score,OT,19596,\\r\\nTue Apr 5 2016,10:30p,Los Angeles Lakers,81,Los Angeles Clippers,103,Box Score,,19537,\\r\\nWed Apr 6 2016,7:00p,Cleveland Cavaliers,109,Indiana Pacers,123,Box Score,,18165,\\r\\nWed Apr 6 2016,7:00p,Detroit Pistons,108,Orlando Magic,104,Box Score,,16553,\\r\\nWed Apr 6 2016,7:00p,Brooklyn Nets,103,Washington Wizards,121,Box Score,,16846,\\r\\nWed Apr 6 2016,7:30p,New Orleans Pelicans,97,Boston Celtics,104,Box Score,,18624,\\r\\nWed Apr 6 2016,7:30p,Charlotte Hornets,111,New York Knicks,97,Box Score,,19812,\\r\\nWed Apr 6 2016,9:30p,Houston Rockets,86,Dallas Mavericks,88,Box Score,,20108,\\r\\nWed Apr 6 2016,10:00p,Oklahoma City Thunder,115,Portland Trail Blazers,120,Box Score,,19393,\\r\\nWed Apr 6 2016,10:30p,Los Angeles Clippers,91,Los Angeles Lakers,81,Box Score,,18997,\\r\\nThu Apr 7 2016,8:00p,Toronto Raptors,87,Atlanta Hawks,95,Box Score,,17864,\\r\\nThu Apr 7 2016,8:00p,Phoenix Suns,124,Houston Rockets,115,Box Score,,18227,\\r\\nThu Apr 7 2016,8:00p,Chicago Bulls,98,Miami Heat,106,Box Score,,19771,\\r\\nThu Apr 7 2016,10:00p,Minnesota Timberwolves,105,Sacramento Kings,97,Box Score,,17317,\\r\\nThu Apr 7 2016,10:30p,San Antonio Spurs,101,Golden State Warriors,112,Box Score,,19596,\\r\\nFri Apr 8 2016,7:00p,Brooklyn Nets,99,Charlotte Hornets,113,Box Score,,18337,\\r\\nFri Apr 8 2016,7:00p,Miami Heat,109,Orlando Magic,112,Box Score,,18152,\\r\\nFri Apr 8 2016,7:00p,New York Knicks,109,Philadelphia 76ers,102,Box Score,,16076,\\r\\nFri Apr 8 2016,7:30p,Milwaukee Bucks,109,Boston Celtics,124,Box Score,,18624,\\r\\nFri Apr 8 2016,7:30p,Washington Wizards,99,Detroit Pistons,112,Box Score,,18207,\\r\\nFri Apr 8 2016,7:30p,Indiana Pacers,98,Toronto Raptors,111,Box Score,,19800,\\r\\nFri Apr 8 2016,8:00p,Los Angeles Lakers,102,New Orleans Pelicans,110,Box Score,,18607,\\r\\nFri Apr 8 2016,8:30p,Memphis Grizzlies,93,Dallas Mavericks,103,Box Score,,20211,\\r\\nFri Apr 8 2016,9:00p,San Antonio Spurs,98,Denver Nuggets,102,Box Score,,16347,\\r\\nFri Apr 8 2016,9:00p,Los Angeles Clippers,102,Utah Jazz,99,Box Score,OT,19911,\\r\\nSat Apr 9 2016,7:00p,Phoenix Suns,121,New Orleans Pelicans,100,Box Score,,16932,\\r\\nSat Apr 9 2016,7:30p,Boston Celtics,107,Atlanta Hawks,118,Box Score,,19257,\\r\\nSat Apr 9 2016,8:00p,Golden State Warriors,100,Memphis Grizzlies,99,Box Score,,18119,\\r\\nSat Apr 9 2016,8:30p,Cleveland Cavaliers,102,Chicago Bulls,105,Box Score,,22186,\\r\\nSat Apr 9 2016,10:30p,Minnesota Timberwolves,106,Portland Trail Blazers,105,Box Score,,19733,\\r\\nSat Apr 9 2016,10:30p,Oklahoma City Thunder,112,Sacramento Kings,114,Box Score,,17317,\\r\\nSun Apr 10 2016,12:00p,Charlotte Hornets,98,Washington Wizards,113,Box Score,,19187,\\r\\nSun Apr 10 2016,3:30p,Los Angeles Lakers,110,Houston Rockets,130,Box Score,,18442,\\r\\nSun Apr 10 2016,3:30p,Dallas Mavericks,91,Los Angeles Clippers,98,Box Score,,19170,\\r\\nSun Apr 10 2016,5:00p,Utah Jazz,100,Denver Nuggets,84,Box Score,,16172,\\r\\nSun Apr 10 2016,5:00p,Milwaukee Bucks,109,Philadelphia 76ers,108,Box Score,OT,16267,\\r\\nSun Apr 10 2016,6:00p,Brooklyn Nets,105,Indiana Pacers,129,Box Score,,18165,\\r\\nSun Apr 10 2016,6:00p,Orlando Magic,96,Miami Heat,118,Box Score,,19913,\\r\\nSun Apr 10 2016,7:00p,Golden State Warriors,92,San Antonio Spurs,86,Box Score,,18658,\\r\\nSun Apr 10 2016,7:30p,Toronto Raptors,93,New York Knicks,89,Box Score,,19812,\\r\\nMon Apr 11 2016,7:00p,Atlanta Hawks,94,Cleveland Cavaliers,109,Box Score,,20562,\\r\\nMon Apr 11 2016,7:00p,Milwaukee Bucks,98,Orlando Magic,107,Box Score,,18374,\\r\\nMon Apr 11 2016,7:30p,Charlotte Hornets,114,Boston Celtics,100,Box Score,,18624,\\r\\nMon Apr 11 2016,7:30p,Washington Wizards,120,Brooklyn Nets,111,Box Score,,14653,\\r\\nMon Apr 11 2016,8:00p,Houston Rockets,129,Minnesota Timberwolves,105,Box Score,,14983,\\r\\nMon Apr 11 2016,8:00p,Chicago Bulls,121,New Orleans Pelicans,116,Box Score,,16867,\\r\\nMon Apr 11 2016,8:00p,Los Angeles Lakers,79,Oklahoma City Thunder,112,Box Score,,18203,\\r\\nMon Apr 11 2016,9:00p,Dallas Mavericks,101,Utah Jazz,92,Box Score,,19911,\\r\\nMon Apr 11 2016,10:00p,Sacramento Kings,105,Phoenix Suns,101,Box Score,,17288,\\r\\nTue Apr 12 2016,7:00p,New York Knicks,90,Indiana Pacers,102,Box Score,,17906,\\r\\nTue Apr 12 2016,7:30p,Miami Heat,99,Detroit Pistons,93,Box Score,,18575,\\r\\nTue Apr 12 2016,7:30p,Philadelphia 76ers,98,Toronto Raptors,122,Box Score,,19800,\\r\\nTue Apr 12 2016,8:00p,Oklahoma City Thunder,98,San Antonio Spurs,102,Box Score,OT,18765,\\r\\nTue Apr 12 2016,10:30p,Memphis Grizzlies,84,Los Angeles Clippers,110,Box Score,,19147,\\r\\nWed Apr 13 2016,8:00p,Miami Heat,88,Boston Celtics,98,Box Score,,18624,\\r\\nWed Apr 13 2016,8:00p,Toronto Raptors,103,Brooklyn Nets,96,Box Score,,16517,\\r\\nWed Apr 13 2016,8:00p,Philadelphia 76ers,105,Chicago Bulls,115,Box Score,,21777,\\r\\nWed Apr 13 2016,8:00p,Orlando Magic,103,Charlotte Hornets,117,Box Score,,17372,\\r\\nWed Apr 13 2016,8:00p,Detroit Pistons,112,Cleveland Cavaliers,110,Box Score,OT,20562,\\r\\nWed Apr 13 2016,8:00p,San Antonio Spurs,96,Dallas Mavericks,91,Box Score,,20346,\\r\\nWed Apr 13 2016,8:00p,Sacramento Kings,81,Houston Rockets,116,Box Score,,18311,\\r\\nWed Apr 13 2016,8:00p,Indiana Pacers,97,Milwaukee Bucks,92,Box Score,,16569,\\r\\nWed Apr 13 2016,8:00p,New Orleans Pelicans,109,Minnesota Timberwolves,144,Box Score,,14889,\\r\\nWed Apr 13 2016,8:00p,Atlanta Hawks,98,Washington Wizards,109,Box Score,,17399,\\r\\nWed Apr 13 2016,10:30p,Memphis Grizzlies,104,Golden State Warriors,125,Box Score,,19596,\\r\\nWed Apr 13 2016,10:30p,Utah Jazz,96,Los Angeles Lakers,101,Box Score,,18997,\\r\\nWed Apr 13 2016,10:30p,Los Angeles Clippers,105,Phoenix Suns,114,Box Score,,18055,\\r\\nWed Apr 13 2016,10:30p,Denver Nuggets,99,Portland Trail Blazers,107,Box Score,,19571,\\r\\nSat Apr 16 2016,12:30p,Indiana Pacers,100,Toronto Raptors,90,Box Score,,19800,\\r\\nSat Apr 16 2016,3:30p,Houston Rockets,78,Golden State Warriors,104,Box Score,,19596,\\r\\nSat Apr 16 2016,7:00p,Boston Celtics,101,Atlanta Hawks,102,Box Score,,18980,\\r\\nSat Apr 16 2016,9:30p,Dallas Mavericks,70,Oklahoma City Thunder,108,Box Score,,18203,\\r\\nSun Apr 17 2016,3:00p,Detroit Pistons,101,Cleveland Cavaliers,106,Box Score,,20562,\\r\\nSun Apr 17 2016,5:30p,Charlotte Hornets,91,Miami Heat,123,Box Score,,19600,\\r\\nSun Apr 17 2016,8:00p,Memphis Grizzlies,74,San Antonio Spurs,106,Box Score,,18418,\\r\\nSun Apr 17 2016,10:30p,Portland Trail Blazers,95,Los Angeles Clippers,115,Box Score,,19122,\\r\\nMon Apr 18 2016,7:00p,Indiana Pacers,87,Toronto Raptors,98,Box Score,,19800,\\r\\nMon Apr 18 2016,8:00p,Dallas Mavericks,85,Oklahoma City Thunder,84,Box Score,,18203,\\r\\nMon Apr 18 2016,10:30p,Houston Rockets,106,Golden State Warriors,115,Box Score,,19596,\\r\\nTue Apr 19 2016,7:00p,Boston Celtics,72,Atlanta Hawks,89,Box Score,,18972,\\r\\nTue Apr 19 2016,9:30p,Memphis Grizzlies,68,San Antonio Spurs,94,Box Score,,18418,\\r\\nWed Apr 20 2016,7:00p,Charlotte Hornets,103,Miami Heat,115,Box Score,,19650,\\r\\nWed Apr 20 2016,8:00p,Detroit Pistons,90,Cleveland Cavaliers,107,Box Score,,20562,\\r\\nWed Apr 20 2016,10:30p,Portland Trail Blazers,81,Los Angeles Clippers,102,Box Score,,19127,\\r\\nThu Apr 21 2016,7:00p,Oklahoma City Thunder,131,Dallas Mavericks,102,Box Score,,20150,\\r\\nThu Apr 21 2016,7:30p,Toronto Raptors,101,Indiana Pacers,85,Box Score,,18165,\\r\\nThu Apr 21 2016,9:30p,Golden State Warriors,96,Houston Rockets,97,Box Score,,18200,\\r\\nFri Apr 22 2016,7:00p,Cleveland Cavaliers,101,Detroit Pistons,91,Box Score,,21584,\\r\\nFri Apr 22 2016,8:00p,Atlanta Hawks,103,Boston Celtics,111,Box Score,,18624,\\r\\nFri Apr 22 2016,9:30p,San Antonio Spurs,96,Memphis Grizzlies,87,Box Score,,18119,\\r\\nSat Apr 23 2016,3:00p,Toronto Raptors,83,Indiana Pacers,100,Box Score,,18165,\\r\\nSat Apr 23 2016,5:30p,Miami Heat,80,Charlotte Hornets,96,Box Score,,19604,\\r\\nSat Apr 23 2016,8:00p,Oklahoma City Thunder,119,Dallas Mavericks,108,Box Score,,20516,\\r\\nSat Apr 23 2016,10:30p,Los Angeles Clippers,88,Portland Trail Blazers,96,Box Score,,19761,\\r\\nSun Apr 24 2016,1:00p,San Antonio Spurs,116,Memphis Grizzlies,95,Box Score,,18119,\\r\\nSun Apr 24 2016,3:30p,Golden State Warriors,121,Houston Rockets,94,Box Score,,18200,\\r\\nSun Apr 24 2016,6:00p,Atlanta Hawks,95,Boston Celtics,104,Box Score,OT,18624,\\r\\nSun Apr 24 2016,8:30p,Cleveland Cavaliers,100,Detroit Pistons,98,Box Score,,21584,\\r\\nMon Apr 25 2016,7:00p,Miami Heat,85,Charlotte Hornets,89,Box Score,,19156,\\r\\nMon Apr 25 2016,8:00p,Dallas Mavericks,104,Oklahoma City Thunder,118,Box Score,,18203,\\r\\nMon Apr 25 2016,10:30p,Los Angeles Clippers,84,Portland Trail Blazers,98,Box Score,,19607,\\r\\nTue Apr 26 2016,6:00p,Indiana Pacers,99,Toronto Raptors,102,Box Score,,19800,\\r\\nTue Apr 26 2016,8:30p,Boston Celtics,83,Atlanta Hawks,110,Box Score,,18987,\\r\\nWed Apr 27 2016,8:00p,Charlotte Hornets,90,Miami Heat,88,Box Score,,19685,\\r\\nWed Apr 27 2016,10:00p,Portland Trail Blazers,108,Los Angeles Clippers,98,Box Score,,19060,\\r\\nWed Apr 27 2016,10:30p,Houston Rockets,81,Golden State Warriors,114,Box Score,,19596,\\r\\nThu Apr 28 2016,8:00p,Atlanta Hawks,104,Boston Celtics,92,Box Score,,18624,\\r\\nFri Apr 29 2016,7:30p,Toronto Raptors,83,Indiana Pacers,101,Box Score,,18165,\\r\\nFri Apr 29 2016,8:00p,Miami Heat,97,Charlotte Hornets,90,Box Score,,19636,\\r\\nFri Apr 29 2016,10:30p,Los Angeles Clippers,103,Portland Trail Blazers,106,Box Score,,19768,\\r\\nSat Apr 30 2016,8:30p,Oklahoma City Thunder,92,San Antonio Spurs,124,Box Score,,18418,\\r\\nSun May 1 2016,1:00p,Charlotte Hornets,73,Miami Heat,106,Box Score,,19868,\\r\\nSun May 1 2016,3:30p,Portland Trail Blazers,106,Golden State Warriors,118,Box Score,,19596,\\r\\nSun May 1 2016,8:00p,Indiana Pacers,84,Toronto Raptors,89,Box Score,,20669,\\r\\nMon May 2 2016,7:00p,Atlanta Hawks,93,Cleveland Cavaliers,104,Box Score,,20562,\\r\\nMon May 2 2016,9:30p,Oklahoma City Thunder,98,San Antonio Spurs,97,Box Score,,18418,\\r\\nTue May 3 2016,8:00p,Miami Heat,102,Toronto Raptors,96,Box Score,OT,19800,\\r\\nTue May 3 2016,10:30p,Portland Trail Blazers,99,Golden State Warriors,110,Box Score,,19596,\\r\\nWed May 4 2016,8:00p,Atlanta Hawks,98,Cleveland Cavaliers,123,Box Score,,20562,\\r\\nThu May 5 2016,8:00p,Miami Heat,92,Toronto Raptors,96,Box Score,OT,20906,\\r\\nFri May 6 2016,7:00p,Cleveland Cavaliers,121,Atlanta Hawks,108,Box Score,,19089,\\r\\nFri May 6 2016,9:30p,San Antonio Spurs,100,Oklahoma City Thunder,96,Box Score,,18203,\\r\\nSat May 7 2016,5:00p,Toronto Raptors,95,Miami Heat,91,Box Score,,19675,\\r\\nSat May 7 2016,8:30p,Golden State Warriors,108,Portland Trail Blazers,120,Box Score,,19673,\\r\\nSun May 8 2016,3:30p,Cleveland Cavaliers,100,Atlanta Hawks,99,Box Score,,19031,\\r\\nSun May 8 2016,8:00p,San Antonio Spurs,97,Oklahoma City Thunder,111,Box Score,,18203,\\r\\nMon May 9 2016,8:00p,Toronto Raptors,87,Miami Heat,94,Box Score,OT,19600,\\r\\nMon May 9 2016,10:30p,Golden State Warriors,132,Portland Trail Blazers,125,Box Score,OT,19583,\\r\\nTue May 10 2016,8:00p,Oklahoma City Thunder,95,San Antonio Spurs,91,Box Score,,18418,\\r\\nWed May 11 2016,8:00p,Miami Heat,91,Toronto Raptors,99,Box Score,,20155,\\r\\nWed May 11 2016,10:30p,Portland Trail Blazers,121,Golden State Warriors,125,Box Score,,19596,\\r\\nThu May 12 2016,8:30p,San Antonio Spurs,99,Oklahoma City Thunder,113,Box Score,,18203,\\r\\nFri May 13 2016,8:00p,Toronto Raptors,91,Miami Heat,103,Box Score,,19757,\\r\\nSun May 15 2016,3:30p,Miami Heat,89,Toronto Raptors,116,Box Score,,20257,\\r\\nMon May 16 2016,9:00p,Oklahoma City Thunder,108,Golden State Warriors,102,Box Score,,19596,\\r\\nTue May 17 2016,8:30p,Toronto Raptors,84,Cleveland Cavaliers,115,Box Score,,20562,\\r\\nWed May 18 2016,9:00p,Oklahoma City Thunder,91,Golden State Warriors,118,Box Score,,19596,\\r\\nThu May 19 2016,8:30p,Toronto Raptors,89,Cleveland Cavaliers,108,Box Score,,20562,\\r\\nSat May 21 2016,8:30p,Cleveland Cavaliers,84,Toronto Raptors,99,Box Score,,20207,\\r\\nSun May 22 2016,8:00p,Golden State Warriors,105,Oklahoma City Thunder,133,Box Score,,18203,\\r\\nMon May 23 2016,8:30p,Cleveland Cavaliers,99,Toronto Raptors,105,Box Score,,20367,\\r\\nTue May 24 2016,9:00p,Golden State Warriors,94,Oklahoma City Thunder,118,Box Score,,18203,\\r\\nWed May 25 2016,8:30p,Toronto Raptors,78,Cleveland Cavaliers,116,Box Score,,20562,\\r\\nThu May 26 2016,9:00p,Oklahoma City Thunder,111,Golden State Warriors,120,Box Score,,19596,\\r\\nFri May 27 2016,8:30p,Cleveland Cavaliers,113,Toronto Raptors,87,Box Score,,20605,\\r\\nSat May 28 2016,9:00p,Golden State Warriors,108,Oklahoma City Thunder,101,Box Score,,18203,\\r\\nMon May 30 2016,9:00p,Oklahoma City Thunder,88,Golden State Warriors,96,Box Score,,19596,\\r\\nThu Jun 2 2016,9:00p,Cleveland Cavaliers,89,Golden State Warriors,104,Box Score,,19596,\\r\\nSun Jun 5 2016,8:00p,Cleveland Cavaliers,77,Golden State Warriors,110,Box Score,,19596,\\r\\nWed Jun 8 2016,9:00p,Golden State Warriors,90,Cleveland Cavaliers,120,Box Score,,20562,\\r\\nFri Jun 10 2016,9:00p,Golden State Warriors,108,Cleveland Cavaliers,97,Box Score,,20562,\\r\\nMon Jun 13 2016,9:00p,Cleveland Cavaliers,112,Golden State Warriors,97,Box Score,,19596,\\r\\nThu Jun 16 2016,9:00p,Golden State Warriors,101,Cleveland Cavaliers,115,Box Score,,20562,\\r\\nSun Jun 19 2016,8:00p,Cleveland Cavaliers,93,Golden State Warriors,89,Box Score,,19596,\\r\\n'}"
            ]
          },
          "metadata": {},
          "execution_count": 2
        }
      ]
    },
    {
      "cell_type": "code",
      "metadata": {
        "colab": {
          "base_uri": "https://localhost:8080/",
          "height": 204
        },
        "id": "Cll7tvXsHt0F",
        "outputId": "24b73985-aa92-4d44-97af-399d1612a0c8"
      },
      "source": [
        "df = pd.read_csv('nba-2016.csv')\n",
        "df.head()"
      ],
      "execution_count": null,
      "outputs": [
        {
          "output_type": "execute_result",
          "data": {
            "text/html": [
              "<div>\n",
              "<style scoped>\n",
              "    .dataframe tbody tr th:only-of-type {\n",
              "        vertical-align: middle;\n",
              "    }\n",
              "\n",
              "    .dataframe tbody tr th {\n",
              "        vertical-align: top;\n",
              "    }\n",
              "\n",
              "    .dataframe thead th {\n",
              "        text-align: right;\n",
              "    }\n",
              "</style>\n",
              "<table border=\"1\" class=\"dataframe\">\n",
              "  <thead>\n",
              "    <tr style=\"text-align: right;\">\n",
              "      <th></th>\n",
              "      <th>Date</th>\n",
              "      <th>Start (ET)</th>\n",
              "      <th>Visitor/Neutral</th>\n",
              "      <th>PTS</th>\n",
              "      <th>Home/Neutral</th>\n",
              "      <th>PTS.1</th>\n",
              "      <th>Unnamed: 6</th>\n",
              "      <th>Unnamed: 7</th>\n",
              "      <th>Attend.</th>\n",
              "      <th>Notes</th>\n",
              "    </tr>\n",
              "  </thead>\n",
              "  <tbody>\n",
              "    <tr>\n",
              "      <th>0</th>\n",
              "      <td>Tue Oct 27 2015</td>\n",
              "      <td>8:00p</td>\n",
              "      <td>Cleveland Cavaliers</td>\n",
              "      <td>95</td>\n",
              "      <td>Chicago Bulls</td>\n",
              "      <td>97</td>\n",
              "      <td>Box Score</td>\n",
              "      <td>NaN</td>\n",
              "      <td>21957</td>\n",
              "      <td>NaN</td>\n",
              "    </tr>\n",
              "    <tr>\n",
              "      <th>1</th>\n",
              "      <td>Tue Oct 27 2015</td>\n",
              "      <td>8:00p</td>\n",
              "      <td>Detroit Pistons</td>\n",
              "      <td>106</td>\n",
              "      <td>Atlanta Hawks</td>\n",
              "      <td>94</td>\n",
              "      <td>Box Score</td>\n",
              "      <td>NaN</td>\n",
              "      <td>19187</td>\n",
              "      <td>NaN</td>\n",
              "    </tr>\n",
              "    <tr>\n",
              "      <th>2</th>\n",
              "      <td>Tue Oct 27 2015</td>\n",
              "      <td>10:30p</td>\n",
              "      <td>New Orleans Pelicans</td>\n",
              "      <td>95</td>\n",
              "      <td>Golden State Warriors</td>\n",
              "      <td>111</td>\n",
              "      <td>Box Score</td>\n",
              "      <td>NaN</td>\n",
              "      <td>19596</td>\n",
              "      <td>NaN</td>\n",
              "    </tr>\n",
              "    <tr>\n",
              "      <th>3</th>\n",
              "      <td>Wed Oct 28 2015</td>\n",
              "      <td>7:00p</td>\n",
              "      <td>Washington Wizards</td>\n",
              "      <td>88</td>\n",
              "      <td>Orlando Magic</td>\n",
              "      <td>87</td>\n",
              "      <td>Box Score</td>\n",
              "      <td>NaN</td>\n",
              "      <td>18846</td>\n",
              "      <td>NaN</td>\n",
              "    </tr>\n",
              "    <tr>\n",
              "      <th>4</th>\n",
              "      <td>Wed Oct 28 2015</td>\n",
              "      <td>7:30p</td>\n",
              "      <td>Philadelphia 76ers</td>\n",
              "      <td>95</td>\n",
              "      <td>Boston Celtics</td>\n",
              "      <td>112</td>\n",
              "      <td>Box Score</td>\n",
              "      <td>NaN</td>\n",
              "      <td>18624</td>\n",
              "      <td>NaN</td>\n",
              "    </tr>\n",
              "  </tbody>\n",
              "</table>\n",
              "</div>"
            ],
            "text/plain": [
              "              Date Start (ET)       Visitor/Neutral  ...  Unnamed: 7 Attend.  Notes\n",
              "0  Tue Oct 27 2015      8:00p   Cleveland Cavaliers  ...         NaN   21957    NaN\n",
              "1  Tue Oct 27 2015      8:00p       Detroit Pistons  ...         NaN   19187    NaN\n",
              "2  Tue Oct 27 2015     10:30p  New Orleans Pelicans  ...         NaN   19596    NaN\n",
              "3  Wed Oct 28 2015      7:00p    Washington Wizards  ...         NaN   18846    NaN\n",
              "4  Wed Oct 28 2015      7:30p    Philadelphia 76ers  ...         NaN   18624    NaN\n",
              "\n",
              "[5 rows x 10 columns]"
            ]
          },
          "metadata": {},
          "execution_count": 5
        }
      ]
    },
    {
      "cell_type": "code",
      "metadata": {
        "colab": {
          "base_uri": "https://localhost:8080/"
        },
        "id": "Kumtal3UIC8m",
        "outputId": "55c729b8-52d6-46fe-f7b3-e93698644026"
      },
      "source": [
        "df.shape"
      ],
      "execution_count": null,
      "outputs": [
        {
          "output_type": "execute_result",
          "data": {
            "text/plain": [
              "(1316, 10)"
            ]
          },
          "metadata": {},
          "execution_count": 6
        }
      ]
    },
    {
      "cell_type": "markdown",
      "metadata": {
        "id": "XS1N7iHgOQSl"
      },
      "source": [
        "# Parse date when loading and clean the column names"
      ]
    },
    {
      "cell_type": "code",
      "metadata": {
        "colab": {
          "base_uri": "https://localhost:8080/",
          "height": 204
        },
        "id": "mRN3r28gIIZp",
        "outputId": "9048179d-f64d-4b0f-9163-45d5b4d36b23"
      },
      "source": [
        "df = pd.read_csv('nba-2016.csv', parse_dates=[\"Date\"])\n",
        "df.columns = [\"Date\", \"Start (ET)\", \"Visitor Team\", \"VisitorPts\", \\\n",
        "\"Home Team\", \"HomePts\", \"OT?\", \"Score Type\", \"Attend.\", \"Notes\"]\n",
        "df.head()"
      ],
      "execution_count": null,
      "outputs": [
        {
          "output_type": "execute_result",
          "data": {
            "text/html": [
              "<div>\n",
              "<style scoped>\n",
              "    .dataframe tbody tr th:only-of-type {\n",
              "        vertical-align: middle;\n",
              "    }\n",
              "\n",
              "    .dataframe tbody tr th {\n",
              "        vertical-align: top;\n",
              "    }\n",
              "\n",
              "    .dataframe thead th {\n",
              "        text-align: right;\n",
              "    }\n",
              "</style>\n",
              "<table border=\"1\" class=\"dataframe\">\n",
              "  <thead>\n",
              "    <tr style=\"text-align: right;\">\n",
              "      <th></th>\n",
              "      <th>Date</th>\n",
              "      <th>Start (ET)</th>\n",
              "      <th>Visitor Team</th>\n",
              "      <th>VisitorPts</th>\n",
              "      <th>Home Team</th>\n",
              "      <th>HomePts</th>\n",
              "      <th>OT?</th>\n",
              "      <th>Score Type</th>\n",
              "      <th>Attend.</th>\n",
              "      <th>Notes</th>\n",
              "    </tr>\n",
              "  </thead>\n",
              "  <tbody>\n",
              "    <tr>\n",
              "      <th>0</th>\n",
              "      <td>2015-10-27</td>\n",
              "      <td>8:00p</td>\n",
              "      <td>Cleveland Cavaliers</td>\n",
              "      <td>95</td>\n",
              "      <td>Chicago Bulls</td>\n",
              "      <td>97</td>\n",
              "      <td>Box Score</td>\n",
              "      <td>NaN</td>\n",
              "      <td>21957</td>\n",
              "      <td>NaN</td>\n",
              "    </tr>\n",
              "    <tr>\n",
              "      <th>1</th>\n",
              "      <td>2015-10-27</td>\n",
              "      <td>8:00p</td>\n",
              "      <td>Detroit Pistons</td>\n",
              "      <td>106</td>\n",
              "      <td>Atlanta Hawks</td>\n",
              "      <td>94</td>\n",
              "      <td>Box Score</td>\n",
              "      <td>NaN</td>\n",
              "      <td>19187</td>\n",
              "      <td>NaN</td>\n",
              "    </tr>\n",
              "    <tr>\n",
              "      <th>2</th>\n",
              "      <td>2015-10-27</td>\n",
              "      <td>10:30p</td>\n",
              "      <td>New Orleans Pelicans</td>\n",
              "      <td>95</td>\n",
              "      <td>Golden State Warriors</td>\n",
              "      <td>111</td>\n",
              "      <td>Box Score</td>\n",
              "      <td>NaN</td>\n",
              "      <td>19596</td>\n",
              "      <td>NaN</td>\n",
              "    </tr>\n",
              "    <tr>\n",
              "      <th>3</th>\n",
              "      <td>2015-10-28</td>\n",
              "      <td>7:00p</td>\n",
              "      <td>Washington Wizards</td>\n",
              "      <td>88</td>\n",
              "      <td>Orlando Magic</td>\n",
              "      <td>87</td>\n",
              "      <td>Box Score</td>\n",
              "      <td>NaN</td>\n",
              "      <td>18846</td>\n",
              "      <td>NaN</td>\n",
              "    </tr>\n",
              "    <tr>\n",
              "      <th>4</th>\n",
              "      <td>2015-10-28</td>\n",
              "      <td>7:30p</td>\n",
              "      <td>Philadelphia 76ers</td>\n",
              "      <td>95</td>\n",
              "      <td>Boston Celtics</td>\n",
              "      <td>112</td>\n",
              "      <td>Box Score</td>\n",
              "      <td>NaN</td>\n",
              "      <td>18624</td>\n",
              "      <td>NaN</td>\n",
              "    </tr>\n",
              "  </tbody>\n",
              "</table>\n",
              "</div>"
            ],
            "text/plain": [
              "        Date Start (ET)          Visitor Team  ...  Score Type Attend.  Notes\n",
              "0 2015-10-27      8:00p   Cleveland Cavaliers  ...         NaN   21957    NaN\n",
              "1 2015-10-27      8:00p       Detroit Pistons  ...         NaN   19187    NaN\n",
              "2 2015-10-27     10:30p  New Orleans Pelicans  ...         NaN   19596    NaN\n",
              "3 2015-10-28      7:00p    Washington Wizards  ...         NaN   18846    NaN\n",
              "4 2015-10-28      7:30p    Philadelphia 76ers  ...         NaN   18624    NaN\n",
              "\n",
              "[5 rows x 10 columns]"
            ]
          },
          "metadata": {},
          "execution_count": 9
        }
      ]
    },
    {
      "cell_type": "code",
      "metadata": {
        "colab": {
          "base_uri": "https://localhost:8080/"
        },
        "id": "AqZXXS0sOefr",
        "outputId": "d98c2d73-8e11-4810-d3aa-f06901da2b7b"
      },
      "source": [
        "print(df.dtypes)"
      ],
      "execution_count": null,
      "outputs": [
        {
          "output_type": "stream",
          "text": [
            "Date            datetime64[ns]\n",
            "Start (ET)              object\n",
            "Visitor Team            object\n",
            "VisitorPts               int64\n",
            "Home Team               object\n",
            "HomePts                  int64\n",
            "OT?                     object\n",
            "Score Type              object\n",
            "Attend.                  int64\n",
            "Notes                   object\n",
            "dtype: object\n"
          ],
          "name": "stdout"
        }
      ]
    },
    {
      "cell_type": "markdown",
      "metadata": {
        "id": "bFfwirtiPe5M"
      },
      "source": [
        "# Add a target column"
      ]
    },
    {
      "cell_type": "code",
      "metadata": {
        "colab": {
          "base_uri": "https://localhost:8080/",
          "height": 204
        },
        "id": "T-2P3434O-rA",
        "outputId": "aba9876c-244c-4c12-f86d-e9330b9b347f"
      },
      "source": [
        "df[\"HomeWin\"] = df[\"VisitorPts\"] < df[\"HomePts\"]\n",
        "df.head()"
      ],
      "execution_count": null,
      "outputs": [
        {
          "output_type": "execute_result",
          "data": {
            "text/html": [
              "<div>\n",
              "<style scoped>\n",
              "    .dataframe tbody tr th:only-of-type {\n",
              "        vertical-align: middle;\n",
              "    }\n",
              "\n",
              "    .dataframe tbody tr th {\n",
              "        vertical-align: top;\n",
              "    }\n",
              "\n",
              "    .dataframe thead th {\n",
              "        text-align: right;\n",
              "    }\n",
              "</style>\n",
              "<table border=\"1\" class=\"dataframe\">\n",
              "  <thead>\n",
              "    <tr style=\"text-align: right;\">\n",
              "      <th></th>\n",
              "      <th>Date</th>\n",
              "      <th>Start (ET)</th>\n",
              "      <th>Visitor Team</th>\n",
              "      <th>VisitorPts</th>\n",
              "      <th>Home Team</th>\n",
              "      <th>HomePts</th>\n",
              "      <th>OT?</th>\n",
              "      <th>Score Type</th>\n",
              "      <th>Attend.</th>\n",
              "      <th>Notes</th>\n",
              "      <th>HomeWin</th>\n",
              "    </tr>\n",
              "  </thead>\n",
              "  <tbody>\n",
              "    <tr>\n",
              "      <th>0</th>\n",
              "      <td>2015-10-27</td>\n",
              "      <td>8:00p</td>\n",
              "      <td>Cleveland Cavaliers</td>\n",
              "      <td>95</td>\n",
              "      <td>Chicago Bulls</td>\n",
              "      <td>97</td>\n",
              "      <td>Box Score</td>\n",
              "      <td>NaN</td>\n",
              "      <td>21957</td>\n",
              "      <td>NaN</td>\n",
              "      <td>True</td>\n",
              "    </tr>\n",
              "    <tr>\n",
              "      <th>1</th>\n",
              "      <td>2015-10-27</td>\n",
              "      <td>8:00p</td>\n",
              "      <td>Detroit Pistons</td>\n",
              "      <td>106</td>\n",
              "      <td>Atlanta Hawks</td>\n",
              "      <td>94</td>\n",
              "      <td>Box Score</td>\n",
              "      <td>NaN</td>\n",
              "      <td>19187</td>\n",
              "      <td>NaN</td>\n",
              "      <td>False</td>\n",
              "    </tr>\n",
              "    <tr>\n",
              "      <th>2</th>\n",
              "      <td>2015-10-27</td>\n",
              "      <td>10:30p</td>\n",
              "      <td>New Orleans Pelicans</td>\n",
              "      <td>95</td>\n",
              "      <td>Golden State Warriors</td>\n",
              "      <td>111</td>\n",
              "      <td>Box Score</td>\n",
              "      <td>NaN</td>\n",
              "      <td>19596</td>\n",
              "      <td>NaN</td>\n",
              "      <td>True</td>\n",
              "    </tr>\n",
              "    <tr>\n",
              "      <th>3</th>\n",
              "      <td>2015-10-28</td>\n",
              "      <td>7:00p</td>\n",
              "      <td>Washington Wizards</td>\n",
              "      <td>88</td>\n",
              "      <td>Orlando Magic</td>\n",
              "      <td>87</td>\n",
              "      <td>Box Score</td>\n",
              "      <td>NaN</td>\n",
              "      <td>18846</td>\n",
              "      <td>NaN</td>\n",
              "      <td>False</td>\n",
              "    </tr>\n",
              "    <tr>\n",
              "      <th>4</th>\n",
              "      <td>2015-10-28</td>\n",
              "      <td>7:30p</td>\n",
              "      <td>Philadelphia 76ers</td>\n",
              "      <td>95</td>\n",
              "      <td>Boston Celtics</td>\n",
              "      <td>112</td>\n",
              "      <td>Box Score</td>\n",
              "      <td>NaN</td>\n",
              "      <td>18624</td>\n",
              "      <td>NaN</td>\n",
              "      <td>True</td>\n",
              "    </tr>\n",
              "  </tbody>\n",
              "</table>\n",
              "</div>"
            ],
            "text/plain": [
              "        Date Start (ET)          Visitor Team  ...  Attend. Notes  HomeWin\n",
              "0 2015-10-27      8:00p   Cleveland Cavaliers  ...    21957   NaN     True\n",
              "1 2015-10-27      8:00p       Detroit Pistons  ...    19187   NaN    False\n",
              "2 2015-10-27     10:30p  New Orleans Pelicans  ...    19596   NaN     True\n",
              "3 2015-10-28      7:00p    Washington Wizards  ...    18846   NaN    False\n",
              "4 2015-10-28      7:30p    Philadelphia 76ers  ...    18624   NaN     True\n",
              "\n",
              "[5 rows x 11 columns]"
            ]
          },
          "metadata": {},
          "execution_count": 12
        }
      ]
    },
    {
      "cell_type": "markdown",
      "metadata": {
        "id": "xYJ2oPADP1v0"
      },
      "source": [
        "# Extract the target values"
      ]
    },
    {
      "cell_type": "code",
      "metadata": {
        "colab": {
          "base_uri": "https://localhost:8080/"
        },
        "id": "luj34GDpPmTQ",
        "outputId": "341aab93-39b2-4f88-b6e1-93310192c0f9"
      },
      "source": [
        "y_true = df['HomeWin'].values\n",
        "y_true"
      ],
      "execution_count": null,
      "outputs": [
        {
          "output_type": "execute_result",
          "data": {
            "text/plain": [
              "array([ True, False,  True, ..., False,  True, False])"
            ]
          },
          "metadata": {},
          "execution_count": 13
        }
      ]
    },
    {
      "cell_type": "markdown",
      "metadata": {
        "id": "qg5Lkz5FQCeD"
      },
      "source": [
        "# What is the home team advantage in this data set?"
      ]
    },
    {
      "cell_type": "code",
      "metadata": {
        "colab": {
          "base_uri": "https://localhost:8080/"
        },
        "id": "FuJk37fXP7qr",
        "outputId": "b30d68f9-b964-4f27-ad62-746492f95922"
      },
      "source": [
        "df.HomeWin.mean()"
      ],
      "execution_count": null,
      "outputs": [
        {
          "output_type": "execute_result",
          "data": {
            "text/plain": [
              "0.5942249240121581"
            ]
          },
          "metadata": {},
          "execution_count": 14
        }
      ]
    },
    {
      "cell_type": "markdown",
      "metadata": {
        "id": "CqcM5ef_kwfB"
      },
      "source": [
        "# Predict using team names"
      ]
    },
    {
      "cell_type": "code",
      "metadata": {
        "colab": {
          "base_uri": "https://localhost:8080/"
        },
        "id": "vjrNCo8elV19",
        "outputId": "dfc63b9a-c069-4705-d118-de9658de2621"
      },
      "source": [
        "df['Home Team'].nunique()"
      ],
      "execution_count": null,
      "outputs": [
        {
          "output_type": "execute_result",
          "data": {
            "text/plain": [
              "30"
            ]
          },
          "metadata": {},
          "execution_count": 41
        }
      ]
    },
    {
      "cell_type": "code",
      "metadata": {
        "id": "alElviuXQLWb"
      },
      "source": [
        "from sklearn.preprocessing import OneHotEncoder"
      ],
      "execution_count": null,
      "outputs": []
    },
    {
      "cell_type": "code",
      "metadata": {
        "colab": {
          "base_uri": "https://localhost:8080/"
        },
        "id": "vZk8VHsDk5Kp",
        "outputId": "5bd928e5-dd2d-4878-d37f-746f23547add"
      },
      "source": [
        "onehot = OneHotEncoder()\n",
        "X = onehot.fit_transform(df[['Home Team']]).todense()\n",
        "X"
      ],
      "execution_count": null,
      "outputs": [
        {
          "output_type": "execute_result",
          "data": {
            "text/plain": [
              "matrix([[0., 0., 0., ..., 0., 0., 0.],\n",
              "        [1., 0., 0., ..., 0., 0., 0.],\n",
              "        [0., 0., 0., ..., 0., 0., 0.],\n",
              "        ...,\n",
              "        [0., 0., 0., ..., 0., 0., 0.],\n",
              "        [0., 0., 0., ..., 0., 0., 0.],\n",
              "        [0., 0., 0., ..., 0., 0., 0.]])"
            ]
          },
          "metadata": {},
          "execution_count": 47
        }
      ]
    },
    {
      "cell_type": "code",
      "metadata": {
        "id": "tBuvTQdtlIUJ"
      },
      "source": [
        "dt_nba = DecisionTreeClassifier()"
      ],
      "execution_count": null,
      "outputs": []
    },
    {
      "cell_type": "markdown",
      "metadata": {
        "id": "5pnt0mXZmss2"
      },
      "source": [
        "# Cross Validation Score"
      ]
    },
    {
      "cell_type": "code",
      "metadata": {
        "id": "iNxd-WRBmra6"
      },
      "source": [
        "from sklearn.model_selection import cross_val_score"
      ],
      "execution_count": null,
      "outputs": []
    },
    {
      "cell_type": "code",
      "metadata": {
        "id": "dThTT2SPmzTH"
      },
      "source": [
        "scores= cross_val_score(dt_nba, X, y_true, scoring='accuracy')"
      ],
      "execution_count": null,
      "outputs": []
    },
    {
      "cell_type": "code",
      "metadata": {
        "colab": {
          "base_uri": "https://localhost:8080/"
        },
        "id": "AVhAEk3Cm9Y7",
        "outputId": "d6f3246d-fb1e-4eba-e449-e31b903396a9"
      },
      "source": [
        "scores"
      ],
      "execution_count": null,
      "outputs": [
        {
          "output_type": "execute_result",
          "data": {
            "text/plain": [
              "array([0.67045455, 0.63878327, 0.64638783, 0.63117871, 0.66920152])"
            ]
          },
          "metadata": {},
          "execution_count": 51
        }
      ]
    },
    {
      "cell_type": "code",
      "metadata": {
        "colab": {
          "base_uri": "https://localhost:8080/"
        },
        "id": "LxjutjLTm983",
        "outputId": "971c55eb-1819-451c-af53-c46599097e51"
      },
      "source": [
        "print(\"The accuracy of predicting on names: {}\".format(np.mean(scores)))"
      ],
      "execution_count": null,
      "outputs": [
        {
          "output_type": "stream",
          "text": [
            "The accuracy of predicting on names: 0.6512011752506048\n"
          ],
          "name": "stdout"
        }
      ]
    },
    {
      "cell_type": "code",
      "metadata": {
        "id": "2cMEctJNnL8p"
      },
      "source": [],
      "execution_count": null,
      "outputs": []
    }
  ]
}