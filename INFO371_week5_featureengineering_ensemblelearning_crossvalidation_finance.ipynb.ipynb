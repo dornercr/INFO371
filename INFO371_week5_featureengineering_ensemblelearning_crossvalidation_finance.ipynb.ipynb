{
  "nbformat": 4,
  "nbformat_minor": 0,
  "metadata": {
    "colab": {
      "provenance": [],
      "authorship_tag": "ABX9TyMYe2TrGt3YzRfRLqgvv3KW",
      "include_colab_link": true
    },
    "kernelspec": {
      "name": "python3",
      "display_name": "Python 3"
    },
    "language_info": {
      "name": "python"
    }
  },
  "cells": [
    {
      "cell_type": "markdown",
      "metadata": {
        "id": "view-in-github",
        "colab_type": "text"
      },
      "source": [
        "<a href=\"https://colab.research.google.com/github/dornercr/INFO371/blob/main/INFO371_week5_featureengineering_ensemblelearning_crossvalidation_finance.ipynb.ipynb\" target=\"_parent\"><img src=\"https://colab.research.google.com/assets/colab-badge.svg\" alt=\"Open In Colab\"/></a>"
      ]
    },
    {
      "cell_type": "code",
      "source": [
        "# 0. Import Libraries\n",
        "import numpy as np\n",
        "import pandas as pd\n",
        "from sklearn.model_selection import train_test_split, cross_val_score, KFold, StratifiedKFold, GridSearchCV, LeaveOneOut\n",
        "from sklearn.ensemble import RandomForestClassifier\n",
        "from sklearn.neighbors import KNeighborsClassifier\n",
        "from sklearn.metrics import accuracy_score, confusion_matrix\n",
        "from sklearn.utils.class_weight import compute_class_weight\n",
        "from imblearn.over_sampling import SMOTE\n",
        "import matplotlib.pyplot as plt\n",
        "import seaborn as sns\n",
        "\n",
        "# 1. Generate a Realistic Finance Dataset\n",
        "np.random.seed(42)\n",
        "dates = pd.date_range(start='2023-01-01', periods=1000)\n",
        "data = []\n",
        "\n",
        "for date in dates:\n",
        "    open_price = np.random.uniform(100, 200)\n",
        "    close_price = open_price + np.random.choice([-5, -2, 0, 2, 5, 10], p=[0.05, 0.1, 0.5, 0.2, 0.1, 0.05])\n",
        "    volume = np.random.randint(10000, 1000000)\n",
        "    volatility = np.random.uniform(1, 5)\n",
        "    news_sentiment = np.random.choice([-1, 0, 1], p=[0.2, 0.6, 0.2])  # Negative, Neutral, Positive\n",
        "    up = int(close_price > open_price)\n",
        "    data.append([date, open_price, close_price, volume, volatility, news_sentiment, up])\n",
        "\n",
        "stocks = pd.DataFrame(data, columns=['Date', 'Open', 'Close', 'Volume', 'Volatility', 'NewsSentiment', 'Up'])\n",
        "stocks.sort_values('Date', inplace=True)\n",
        "\n",
        "# 2. Create Rolling Features\n",
        "stocks['AvgVolume5'] = stocks['Volume'].rolling(5, min_periods=1).mean()\n",
        "stocks['AvgVolatility5'] = stocks['Volatility'].rolling(5, min_periods=1).mean()\n",
        "\n",
        "# 3. Feature and Label Selection\n",
        "features = stocks[['Open', 'Volume', 'Volatility', 'NewsSentiment', 'AvgVolume5', 'AvgVolatility5']]\n",
        "labels = stocks['Up']\n",
        "\n",
        "# Fill NaN values from rolling\n",
        "features = features.fillna(0)\n",
        "\n",
        "# 4. Train/Test Split\n",
        "X_train, X_test, y_train, y_test = train_test_split(features, labels, test_size=0.2, random_state=42)\n",
        "\n",
        "# 5. SMOTE Oversampling (to balance the training set)\n",
        "sm = SMOTE(random_state=42)\n",
        "X_train_resampled, y_train_resampled = sm.fit_resample(X_train, y_train)\n",
        "\n",
        "# 6. Class Weights\n",
        "class_weights = dict(zip(np.unique(y_train_resampled), compute_class_weight(class_weight='balanced', classes=np.unique(y_train_resampled), y=y_train_resampled)))\n",
        "\n",
        "# 7. Models\n",
        "# KNN\n",
        "knn = KNeighborsClassifier(n_neighbors=5)\n",
        "knn.fit(X_train_resampled, y_train_resampled)\n",
        "knn_preds = knn.predict(X_test)\n",
        "print(\"KNN Accuracy:\", accuracy_score(y_test, knn_preds))\n",
        "\n",
        "# Random Forest\n",
        "rf = RandomForestClassifier(n_estimators=100, max_features=3, random_state=42, class_weight=class_weights)\n",
        "rf.fit(X_train_resampled, y_train_resampled)\n",
        "rf_preds = rf.predict(X_test)\n",
        "print(\"Random Forest Accuracy:\", accuracy_score(y_test, rf_preds))\n",
        "\n",
        "# 8. Bias-Variance Tradeoff\n",
        "print(\"\"\"\n",
        "- KNN can overfit if neighbors are too few.\n",
        "- Random Forest reduces variance by averaging trees.\n",
        "- Best models balance bias and variance to generalize well.\n",
        "\"\"\")\n",
        "\n",
        "# 9. Cross-Validation\n",
        "kfold = KFold(n_splits=5, shuffle=True, random_state=42)\n",
        "rf_cv_scores = cross_val_score(rf, X_train_resampled, y_train_resampled, cv=kfold)\n",
        "print(\"Random Forest KFold CV Accuracy:\", np.mean(rf_cv_scores))\n",
        "\n",
        "loo = LeaveOneOut()\n",
        "small_features = X_train_resampled.sample(50, random_state=42)\n",
        "small_labels = y_train_resampled.loc[small_features.index]\n",
        "loo_scores = cross_val_score(knn, small_features, small_labels, cv=loo)\n",
        "print(\"KNN LOO CV Accuracy (subset):\", np.mean(loo_scores))\n",
        "\n",
        "skfold = StratifiedKFold(n_splits=5, shuffle=True, random_state=42)\n",
        "stratified_scores = cross_val_score(rf, X_train_resampled, y_train_resampled, cv=skfold)\n",
        "print(\"Random Forest StratifiedKFold CV Accuracy:\", np.mean(stratified_scores))\n",
        "\n",
        "# 10. Grid Search\n",
        "param_grid = {\n",
        "    'n_estimators': [50, 100, 150],\n",
        "    'max_features': [2, 3, 4]\n",
        "}\n",
        "\n",
        "grid_search = GridSearchCV(RandomForestClassifier(random_state=42, class_weight=class_weights), param_grid, cv=5, scoring='accuracy')\n",
        "grid_search.fit(X_train_resampled, y_train_resampled)\n",
        "\n",
        "print(\"Best Parameters from Grid Search:\", grid_search.best_params_)\n",
        "final_model = grid_search.best_estimator_\n",
        "final_preds = final_model.predict(X_test)\n",
        "print(\"Final Model Accuracy after Grid Search:\", accuracy_score(y_test, final_preds))\n",
        "\n",
        "# 11. Confusion Matrix\n",
        "cm = confusion_matrix(y_test, final_preds)\n",
        "sns.heatmap(cm, annot=True, fmt='d', cmap='YlGnBu')\n",
        "plt.title('Confusion Matrix (Finance Sector)')\n",
        "plt.xlabel('Predicted')\n",
        "plt.ylabel('Actual')\n",
        "plt.show()\n"
      ],
      "metadata": {
        "colab": {
          "base_uri": "https://localhost:8080/",
          "height": 680
        },
        "id": "vE328XzMOMp2",
        "outputId": "13c791cd-0000-460f-f445-828a8d574f73"
      },
      "execution_count": 2,
      "outputs": [
        {
          "output_type": "stream",
          "name": "stdout",
          "text": [
            "KNN Accuracy: 0.505\n",
            "Random Forest Accuracy: 0.555\n",
            "\n",
            "- KNN can overfit if neighbors are too few.\n",
            "- Random Forest reduces variance by averaging trees.\n",
            "- Best models balance bias and variance to generalize well.\n",
            "\n",
            "Random Forest KFold CV Accuracy: 0.6315027069209385\n",
            "KNN LOO CV Accuracy (subset): 0.48\n",
            "Random Forest StratifiedKFold CV Accuracy: 0.6502316734136467\n",
            "Best Parameters from Grid Search: {'max_features': 3, 'n_estimators': 100}\n",
            "Final Model Accuracy after Grid Search: 0.555\n"
          ]
        },
        {
          "output_type": "display_data",
          "data": {
            "text/plain": [
              "<Figure size 640x480 with 2 Axes>"
            ],
            "image/png": "[encoded data removed]"
          },
          "metadata": {}
        }
      ]
    }
  ]
}