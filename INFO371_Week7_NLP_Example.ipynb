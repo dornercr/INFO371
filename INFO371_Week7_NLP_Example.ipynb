{
  "nbformat": 4,
  "nbformat_minor": 0,
  "metadata": {
    "colab": {
      "provenance": [],
      "authorship_tag": "ABX9TyMPDr0X2RTuVWkqC4tFPaP6",
      "include_colab_link": true
    },
    "kernelspec": {
      "name": "python3",
      "display_name": "Python 3"
    },
    "language_info": {
      "name": "python"
    }
  },
  "cells": [
    {
      "cell_type": "markdown",
      "metadata": {
        "id": "view-in-github",
        "colab_type": "text"
      },
      "source": [
        "<a href=\"https://colab.research.google.com/github/dornercr/INFO371/blob/main/INFO371_Week7_NLP_Example.ipynb\" target=\"_parent\"><img src=\"https://colab.research.google.com/assets/colab-badge.svg\" alt=\"Open In Colab\"/></a>"
      ]
    },
    {
      "cell_type": "code",
      "execution_count": 3,
      "metadata": {
        "colab": {
          "base_uri": "https://localhost:8080/",
          "height": 1000
        },
        "id": "QSXxTwxJv4RW",
        "outputId": "667376c9-1709-4a95-9d5e-9b094d6524bf"
      },
      "outputs": [
        {
          "output_type": "stream",
          "name": "stdout",
          "text": [
            "Original Text:\n",
            "The boy's cars are different colors. He is driving automatically to the U.S.A. on 7/30.\n",
            "\n",
            "Normalized Text:\n",
            "the boys cars are different colors he is driving automatically to the usa on 7/30\n",
            "\n",
            "Tokens:\n",
            "['the', 'boys', 'cars', 'are', 'different', 'colors', 'he', 'is', 'driving', 'automatically', 'to', 'the', 'usa', 'on', '7/30']\n",
            "\n",
            "Filtered Tokens (Stopwords Removed):\n",
            "['boys', 'cars', 'different', 'colors', 'driving', 'automatically', 'usa', '7/30']\n",
            "\n",
            "Stemmed Tokens:\n",
            "['boy', 'car', 'different', 'color', 'driv', 'automatical', 'usa', '7/30']\n",
            "\n",
            "Lemmatized Tokens:\n",
            "['boy', 'car', 'different', 'color', 'drive', 'automatic', 'usa', '7/30']\n",
            "\n",
            "Soundex for 'Automobile': A351\n",
            "\n",
            "DataFrame Showing All Processing Steps:\n",
            "\n",
            "   Original Token       Filtered      Stemmed Lemmatized\n",
            "0             the           boys          boy        boy\n",
            "1            boys           cars          car        car\n",
            "2            cars      different    different  different\n",
            "3             are         colors        color      color\n",
            "4       different        driving         driv      drive\n",
            "5          colors  automatically  automatical  automatic\n",
            "6              he            usa          usa        usa\n",
            "7              is           7/30         7/30       7/30\n",
            "8         driving                                       \n",
            "9   automatically                                       \n",
            "10             to                                       \n",
            "11            the                                       \n",
            "12            usa                                       \n",
            "13             on                                       \n",
            "14           7/30                                       \n"
          ]
        },
        {
          "output_type": "display_data",
          "data": {
            "text/plain": [
              "<Figure size 800x500 with 1 Axes>"
            ],
            "image/png": "[encoded data removed]"
          },
          "metadata": {}
        }
      ],
      "source": [
        "import pandas as pd\n",
        "import re\n",
        "import matplotlib.pyplot as plt\n",
        "\n",
        "# Sample input\n",
        "text = \"The boy's cars are different colors. He is driving automatically to the U.S.A. on 7/30.\"\n",
        "print(f\"Original Text:\\n{text}\\n\")\n",
        "\n",
        "# Normalization (lowercase, remove punctuation except slashes)\n",
        "normalized = re.sub(r\"[^\\w\\s/]\", \"\", text.lower())\n",
        "print(f\"Normalized Text:\\n{normalized}\\n\")\n",
        "\n",
        "# Tokenization\n",
        "tokens = normalized.split()\n",
        "print(f\"Tokens:\\n{tokens}\\n\")\n",
        "\n",
        "# Stop word filtering\n",
        "custom_stopwords = {'the', 'is', 'are', 'to', 'on', 'he', 'a', 'an'}\n",
        "filtered_tokens = [word for word in tokens if word not in custom_stopwords]\n",
        "print(f\"Filtered Tokens (Stopwords Removed):\\n{filtered_tokens}\\n\")\n",
        "\n",
        "# Stemming\n",
        "def crude_stem(word):\n",
        "    suffixes = ['ing', 'ly', 'ed', 's']\n",
        "    for suffix in suffixes:\n",
        "        if word.endswith(suffix) and len(word) > len(suffix) + 2:\n",
        "            return word[:-len(suffix)]\n",
        "    return word\n",
        "\n",
        "stemmed = [crude_stem(word) for word in filtered_tokens]\n",
        "print(f\"Stemmed Tokens:\\n{stemmed}\\n\")\n",
        "\n",
        "# Lemmatization\n",
        "lemm_dict = {\n",
        "    \"cars\": \"car\",\n",
        "    \"colors\": \"color\",\n",
        "    \"driving\": \"drive\",\n",
        "    \"automatically\": \"automatic\",\n",
        "    \"boys\": \"boy\"\n",
        "}\n",
        "lemmatized = [lemm_dict.get(word, word) for word in filtered_tokens]\n",
        "print(f\"Lemmatized Tokens:\\n{lemmatized}\\n\")\n",
        "\n",
        "# Soundex\n",
        "def soundex(name):\n",
        "    name = name.upper()\n",
        "    soundex_codes = {'BFPV': '1', 'CGJKQSXZ': '2', 'DT': '3', 'L': '4', 'MN': '5', 'R': '6'}\n",
        "    translation = ''\n",
        "    for char in name[1:]:\n",
        "        for key in soundex_codes:\n",
        "            if char in key:\n",
        "                code = soundex_codes[key]\n",
        "                if code != translation[-1:] or not translation:\n",
        "                    translation += code\n",
        "                break\n",
        "    translation = name[0] + translation + '000'\n",
        "    return translation[:4]\n",
        "\n",
        "soundex_result = soundex(\"Automobile\")\n",
        "print(f\"Soundex for 'Automobile': {soundex_result}\\n\")\n",
        "\n",
        "# DataFrame\n",
        "full_processing_df = pd.DataFrame({\n",
        "    'Original Token': tokens,\n",
        "    'Filtered': filtered_tokens + [''] * (len(tokens) - len(filtered_tokens)),\n",
        "    'Stemmed': stemmed + [''] * (len(tokens) - len(stemmed)),\n",
        "    'Lemmatized': lemmatized + [''] * (len(tokens) - len(lemmatized))\n",
        "})\n",
        "print(\"DataFrame Showing All Processing Steps:\\n\")\n",
        "print(full_processing_df)\n",
        "\n",
        "# Bar chart visualization\n",
        "stages = ['Original', 'Filtered', 'Stemmed', 'Lemmatized']\n",
        "counts = [len(tokens), len(filtered_tokens), len(stemmed), len(lemmatized)]\n",
        "\n",
        "plt.figure(figsize=(8, 5))\n",
        "plt.bar(stages, counts)\n",
        "plt.title('Token Count After Each Processing Step')\n",
        "plt.ylabel('Number of Tokens')\n",
        "plt.grid(axis='y')\n",
        "plt.tight_layout()\n",
        "plt.show()\n"
      ]
    }
  ]
}