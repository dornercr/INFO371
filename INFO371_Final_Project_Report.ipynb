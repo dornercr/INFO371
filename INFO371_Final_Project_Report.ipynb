{
  "nbformat": 4,
  "nbformat_minor": 0,
  "metadata": {
    "kernelspec": {
      "display_name": "Python 3",
      "language": "python",
      "name": "python3"
    },
    "language_info": {
      "codemirror_mode": {
        "name": "ipython",
        "version": 3
      },
      "file_extension": ".py",
      "mimetype": "text/x-python",
      "name": "python",
      "nbconvert_exporter": "python",
      "pygments_lexer": "ipython3",
      "version": "3.7.6"
    },
    "colab": {
      "provenance": [],
      "include_colab_link": true
    }
  },
  "cells": [
    {
      "cell_type": "markdown",
      "metadata": {
        "id": "view-in-github",
        "colab_type": "text"
      },
      "source": [
        "<a href=\"https://colab.research.google.com/github/dornercr/INFO371/blob/main/INFO371_Final_Project_Report.ipynb\" target=\"_parent\"><img src=\"https://colab.research.google.com/assets/colab-badge.svg\" alt=\"Open In Colab\"/></a>"
      ]
    },
    {
      "cell_type": "markdown",
      "metadata": {
        "id": "JGGCTP1aOPdp"
      },
      "source": [
        "# College of Computing and Informatics, Drexel University\n",
        "## INFO 371: Data Mining Applications\n",
        "### Due: Friday, June 6, 2025\n",
        "---\n",
        "\n",
        "## Final Project Report\n",
        "\n",
        "## Project Title:\n",
        "\n",
        "## Student(s):\n",
        "\n",
        "#### Date:\n",
        "---"
      ]
    },
    {
      "cell_type": "markdown",
      "source": [
        "# Requirements:\n",
        "1. **Formatting and Structure**:\n",
        "The report must follow a clear, logical structure (use headings, subheadings, markdown cells, and code cells for organization).\n",
        "2. **Code and Results**:\n",
        "Include all code in code cells. Ensure the code is clean, readable, and uses proper commenting where necessary.\n",
        "3. **Explanations**: Use markdown cells to clearly explain each step of the analysis, modeling, and evaluation process. Provide context for the code being executed. Interpret the results (e.g., what do the visualizations show? What models do you choose? How do you evaluate the results? What insights can be drawn?).\n",
        "4. **Reproducibility**:\n",
        "Provide all code and commands necessary for reproducing your analysis. Ensure all data imports, transformations, and analyses run correctly in sequence.\n",
        "\n",
        "# Marking Scheme:\n",
        "- **Organization and Formatting (10 points)**: Is the notebook well-structured and visually clean?\n",
        "- **Reproducibility (10 points)**: Can the entire analysis be reproduced seamlessly?\n",
        "- **Code Quality (20 points)**: Is the code clear, concise, and well-documented?\n",
        "- **Explanations and Insights (20 points)**: Are steps and results well-explained and insightful?\n",
        "- **Data Visualization and Presentation (20 points)**: Are plots and tables effective and well-labeled?\n",
        "- **Technical Content (20 points)**:\n",
        " * Is the problem well defined and described thoroughly?\n",
        " * Is the size and complexity of the data set used in this project comparable to that of the example data sets used in the lectures and assignments?\n",
        " * Did the report describe the characteristics of the data?\n",
        " * Did the report describe the goals of the data miming?\n",
        " * Did the projet use feature engineering and feature selection methods?\n",
        " * Did the project build, compare, and evaluate multiple models?\n",
        " * Did the report discuss the results and findings?\n",
        " * Did the report include all related references?\n",
        "- **Only those projects that exceed the sophistication of the data mining examples in the lectures and assignments can be marked as the highest level of grade**.\n",
        "- **Overall, what is the rating of this project?**"
      ],
      "metadata": {
        "id": "ot8eSKj1ghkp"
      }
    },
    {
      "cell_type": "markdown",
      "source": [
        "# YOUR REPORT GOES HERE"
      ],
      "metadata": {
        "id": "DxpCcZ16hk5z"
      }
    },
    {
      "cell_type": "markdown",
      "metadata": {
        "id": "xDPpOzQVOPdx"
      },
      "source": [
        "# 1. Introduction\n",
        "---\n",
        "- Introduce the project and describe the objectives.\n",
        "- State the main questions or problems you aim to address with your project.\n",
        "- Provide a summary of the entire project, including the data, analytics methods, machine learning techniques, and key findings."
      ]
    },
    {
      "cell_type": "markdown",
      "source": [],
      "metadata": {
        "id": "pFf-uHrKeD2y"
      }
    },
    {
      "cell_type": "markdown",
      "source": [
        "# 2. Data Description\n",
        "---\n",
        "- Data Source: Describe the origin of your dataset. Provide a link if applicable.\n",
        "- Data Loading: Present the code and methods for acquiring the data. Load the data into appropriate format for analysis.\n",
        "- Dataset Analysis: Analyze the key attributes and features of your dataset (e.g., number of rows, columns, types of data).\n",
        "- Data Cleaning: Clean and preprocess the data, including handling missing values or duplicates."
      ],
      "metadata": {
        "id": "JWpT3rjjX8mD"
      }
    },
    {
      "cell_type": "markdown",
      "source": [],
      "metadata": {
        "id": "jZB_UDYDYhoh"
      }
    },
    {
      "cell_type": "code",
      "source": [],
      "metadata": {
        "id": "IEA97JmvYgHR"
      },
      "execution_count": null,
      "outputs": []
    },
    {
      "cell_type": "markdown",
      "source": [],
      "metadata": {
        "id": "6jC_56NabO3k"
      }
    },
    {
      "cell_type": "markdown",
      "metadata": {
        "id": "_nfIkIyaOPdy"
      },
      "source": [
        "# 3. Exploratory Data Analysis\n",
        "---\n",
        "\n",
        "The analysis should be guided by the problem defined earlier. Show your code and explain the process and results.\n",
        "\n",
        "- Exploratory Analysis:\n",
        " * Use visualizations and summary statistics to understand the data.\n",
        " * Include plots such as histograms, scatter plots, box plots, correlation matrices, etc.\n",
        " * Explain key trends and relationships observed in the data.\n",
        "- Insights: Provide interpretations of patterns, distributions, and anomalies in the data.\n",
        "- Feature Engineering and Selection:\n",
        " * Extract or construct new features relevant to the problem.\n",
        " * Highlight the features that will be used in your model and justify their selection (e.g., based on correlation or domain knowledge).\n"
      ]
    },
    {
      "cell_type": "markdown",
      "source": [],
      "metadata": {
        "id": "7bDez8TycTTy"
      }
    },
    {
      "cell_type": "code",
      "execution_count": null,
      "metadata": {
        "id": "W8fqg8ukOPdy"
      },
      "outputs": [],
      "source": []
    },
    {
      "cell_type": "markdown",
      "source": [
        "# 4. Model Building and Evaluation\n",
        "---\n",
        "- Model Selection: Describe the machine learning or data mining techniques used (e.g., regression, classification, clustering, association rules, etc.) and justify your choice.\n",
        "\n",
        "- Model Implementation: Present and explain the code for implementing the chosen models.\n",
        " * Describe the architecture of your solution (e.g., train-test split, cross-validation, data pipelines).\n",
        " * Discuss any hyperparameter tuning strategies (e.g., grid search) and the range of parameters explored.\n",
        "\n",
        "- Model Evaluation:\n",
        " * Define the metrics used to evaluate the model's performance.\n",
        " * Compare the results of different models and approaches\n",
        " * Use tables or plots (e.g., confusion matrix, precision-recall curves, ROC curves, or feature importance plots) to illustrate performance.\n",
        " * Report training vs. testing performance to highlight potential overfitting or underfitting issues.\n",
        "- Model Interpretation:\n",
        " * Explain the results of the model in the context of your original problem or question.\n",
        " * Identify which features contributed most to the model's predictions and provide explanations.\n"
      ],
      "metadata": {
        "id": "F1PkcP0ip5hE"
      }
    },
    {
      "cell_type": "code",
      "source": [],
      "metadata": {
        "id": "CGJh1DK0p6Wj"
      },
      "execution_count": null,
      "outputs": []
    },
    {
      "cell_type": "markdown",
      "metadata": {
        "id": "6G_ssZiKOPd1"
      },
      "source": [
        "# 5. Challenges and Limitations\n",
        "---\n",
        "- Discuss any challenges encountered during the project, such as:\n",
        " * Issues with data quality or availability.\n",
        " * Computational or tool constraints.\n",
        " * Model-related challenges like overfitting, underfitting, or feature importance.\n",
        "- Highlight limitations in your analysis or models and how they might affect your conclusions."
      ]
    },
    {
      "cell_type": "markdown",
      "source": [],
      "metadata": {
        "id": "jXZb-1nkcUJi"
      }
    },
    {
      "cell_type": "code",
      "execution_count": null,
      "metadata": {
        "id": "H4Z9mg52OPd2"
      },
      "outputs": [],
      "source": []
    },
    {
      "cell_type": "markdown",
      "metadata": {
        "id": "rN7BgXluOPd2"
      },
      "source": [
        "# 6. Conclusion and Future Direction\n",
        "---\n",
        "- Conclusions: Summarize your main findings in relation to your project objectives.\n",
        "- Recommendation and Future Direction:\n",
        " - Propose actions based on your findings.\n",
        " - Suggest next steps for further analysis or research."
      ]
    },
    {
      "cell_type": "code",
      "execution_count": null,
      "metadata": {
        "id": "QIZPOVFHOPd2"
      },
      "outputs": [],
      "source": []
    },
    {
      "cell_type": "markdown",
      "metadata": {
        "id": "mkdAHqj1OPd2"
      },
      "source": [
        "# 7. References\n",
        "---\n",
        "- List all references for datasets, tools, and external sources used in the project."
      ]
    },
    {
      "cell_type": "markdown",
      "source": [],
      "metadata": {
        "id": "t3z7iCWPdioI"
      }
    },
    {
      "cell_type": "code",
      "execution_count": null,
      "metadata": {
        "id": "lTKpFlztmVzq"
      },
      "outputs": [],
      "source": []
    }
  ]
}