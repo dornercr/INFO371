{
  "nbformat": 4,
  "nbformat_minor": 0,
  "metadata": {
    "colab": {
      "provenance": [],
      "include_colab_link": true
    },
    "kernelspec": {
      "name": "python3",
      "display_name": "Python 3"
    },
    "language_info": {
      "name": "python"
    }
  },
  "cells": [
    {
      "cell_type": "markdown",
      "metadata": {
        "id": "view-in-github",
        "colab_type": "text"
      },
      "source": [
        "<a href=\"https://colab.research.google.com/github/dornercr/INFO371/blob/main/INFO371_week8_NN_image_classification_allMarkdown.ipynb\" target=\"_parent\"><img src=\"https://colab.research.google.com/assets/colab-badge.svg\" alt=\"Open In Colab\"/></a>"
      ]
    },
    {
      "cell_type": "markdown",
      "metadata": {
        "id": "ADxFD_qNz_6L"
      },
      "source": [
        "# INFO 371: Data Mining Applications\n",
        "\n",
        "## Week 8: Neural Networks for Image Classification with Keras, Tensorflow, and PyTorch\n",
        "### Charles Dorner, EdD (Candidate)\n",
        "### College of Computing and Informatics, Drexel University"
      ]
    },
    {
      "cell_type": "markdown",
      "source": [
        "```\n",
        "import pandas as pd\n",
        "import numpy as np\n",
        "import matplotlib.pyplot as plt\n",
        "\n",
        "import keras\n",
        "```"
      ],
      "metadata": {
        "id": "CohBXWZAFr7F"
      }
    },
    {
      "cell_type": "code",
      "source": [
        "import pandas as pd\n",
        "import numpy as np\n",
        "import matplotlib.pyplot as plt\n",
        "\n",
        "import keras"
      ],
      "metadata": {
        "id": "z41jNZPyoA_4"
      },
      "execution_count": 1,
      "outputs": []
    },
    {
      "cell_type": "markdown",
      "source": [
        "# Image Classification\n",
        "- Image classification is a fundamental task in computer vision where an algorithm assigns labels to images based on their content.\n",
        "- Automatically categorize images into predefined classes (e.g., \"cat,\" \"dog,\" \"car\")."
      ],
      "metadata": {
        "id": "d4m_N_Q4EVUS"
      }
    },
    {
      "cell_type": "markdown",
      "source": [
        "## Image Data as a Multi-Dimensional Array\n",
        "Images are typically represented as multi-dimensional arrays (tensors). The structure of these arrays depends on the image type and color format.\n",
        "\n",
        "- Grayscale Image (2D Array): A grayscale image has only one channel (intensity values).\n",
        "- Shape: (height, width)"
      ],
      "metadata": {
        "id": "axH6LhhjFV2e"
      }
    },
    {
      "cell_type": "markdown",
      "source": [
        "```\n",
        "# load the keras CIFAR dataset of 50,000 32x32 color training images and 10,000 test images, labeled over 10 categories.\n",
        "(X_train, y_train), (X_test, y_test) = keras.datasets.cifar10.load_data()\n",
        "```"
      ],
      "metadata": {
        "id": "ZDcT2_sjH5jz"
      }
    },
    {
      "cell_type": "code",
      "source": [
        "# load the keras CIFAR dataset of 50,000 32x32 color training images and 10,000 test images, labeled over 10 categories.\n",
        "(X_train, y_train), (X_test, y_test) = keras.datasets.cifar10.load_data()"
      ],
      "metadata": {
        "id": "CZhN-obboPb8",
        "outputId": "765f2e6f-d345-4d74-f847-ba3d5a1aabf9",
        "colab": {
          "base_uri": "https://localhost:8080/"
        }
      },
      "execution_count": 2,
      "outputs": [
        {
          "output_type": "stream",
          "name": "stdout",
          "text": [
            "Downloading data from https://www.cs.toronto.edu/~kriz/cifar-10-python.tar.gz\n",
            "\u001b[1m170498071/170498071\u001b[0m \u001b[32m━━━━━━━━━━━━━━━━━━━━\u001b[0m\u001b[37m\u001b[0m \u001b[1m3s\u001b[0m 0us/step\n"
          ]
        }
      ]
    },
    {
      "cell_type": "markdown",
      "source": [
        "```\n",
        "# Retriev an image\n",
        "aimage = X_train[100]\n",
        "aimage.shape\n",
        "```"
      ],
      "metadata": {
        "id": "exF29Zr6Fk8A",
        "outputId": "78e3397c-744c-4742-85a8-d4b2031ac863"
      }
    },
    {
      "cell_type": "code",
      "source": [
        "aimage = X_train[100]\n",
        "aimage.shape"
      ],
      "metadata": {
        "id": "lKAAlXLboV3C",
        "outputId": "fe12d372-7e5f-4801-cd10-539336dc080e",
        "colab": {
          "base_uri": "https://localhost:8080/"
        }
      },
      "execution_count": 3,
      "outputs": [
        {
          "output_type": "execute_result",
          "data": {
            "text/plain": [
              "(32, 32, 3)"
            ]
          },
          "metadata": {},
          "execution_count": 3
        }
      ]
    },
    {
      "cell_type": "markdown",
      "source": [
        "```\n",
        "# View the original image 32x32x3\n",
        "plt.figure(figsize=(1,1))\n",
        "plt.imshow(aimage)\n",
        "plt.show()\n",
        "```"
      ],
      "metadata": {
        "id": "T4hy_7MaLT4P",
        "outputId": "4be43243-cae3-4985-b274-90109da334b4"
      }
    },
    {
      "cell_type": "code",
      "source": [
        "plt.figure(figsize=(1,1))\n",
        "plt.imshow(aimage)\n",
        "plt.show()"
      ],
      "metadata": {
        "id": "WBarq_9loYAr",
        "outputId": "d47da8ed-5417-433d-8f7c-8bd7ad6bcd74",
        "colab": {
          "base_uri": "https://localhost:8080/",
          "height": 142
        }
      },
      "execution_count": 4,
      "outputs": [
        {
          "output_type": "display_data",
          "data": {
            "text/plain": [
              "<Figure size 100x100 with 1 Axes>"
            ],
            "image/png": "[encoded data removed]"
          },
          "metadata": {}
        }
      ]
    },
    {
      "cell_type": "markdown",
      "source": [
        "```\n",
        "# Retrieve only one channel 32x32\n",
        "gray_image = aimage[:,:, 0]\n",
        "gray_image.shape\n",
        "```"
      ],
      "metadata": {
        "id": "8476L0I8MsuS",
        "outputId": "ccfe0e26-bc3a-47ce-8d16-83ff268c2aa8"
      }
    },
    {
      "cell_type": "code",
      "source": [
        "gray_image = aimage[:,:, 0]\n",
        "gray_image.shape"
      ],
      "metadata": {
        "id": "m2oGBoFNobTV",
        "outputId": "d83fdfe6-d399-4f8b-d620-c5a1877727e0",
        "colab": {
          "base_uri": "https://localhost:8080/"
        }
      },
      "execution_count": 5,
      "outputs": [
        {
          "output_type": "execute_result",
          "data": {
            "text/plain": [
              "(32, 32)"
            ]
          },
          "metadata": {},
          "execution_count": 5
        }
      ]
    },
    {
      "cell_type": "markdown",
      "source": [
        "```\n",
        "gray_image\n",
        "```"
      ],
      "metadata": {
        "id": "5lWxtKjdM_oM",
        "outputId": "a8c1ed47-a534-4fe6-9e3c-f48dc80f9098"
      }
    },
    {
      "cell_type": "code",
      "source": [
        "gray_image"
      ],
      "metadata": {
        "id": "jx1e3CMJodJv",
        "outputId": "3c0872a2-a45c-44f9-a91c-31451179a40b",
        "colab": {
          "base_uri": "https://localhost:8080/",
          "height": 73
        }
      },
      "execution_count": 6,
      "outputs": [
        {
          "output_type": "execute_result",
          "data": {
            "text/plain": [
              "array([[213, 211, 211, ..., 151, 151, 149],\n",
              "       [214, 212, 212, ..., 152, 152, 151],\n",
              "       [216, 214, 213, ..., 153, 153, 151],\n",
              "       ...,\n",
              "       [145, 136, 143, ..., 216, 196, 183],\n",
              "       [139, 129, 129, ..., 227, 223, 209],\n",
              "       [137, 143, 136, ..., 209, 217, 228]], dtype=uint8)"
            ],
            "text/html": [
              "<style>\n",
              "      .ndarray_repr .ndarray_raw_data {\n",
              "        display: none;\n",
              "      }\n",
              "      .ndarray_repr.show_array .ndarray_raw_data {\n",
              "        display: block;\n",
              "      }\n",
              "      .ndarray_repr.show_array .ndarray_image_preview {\n",
              "        display: none;\n",
              "      }\n",
              "      </style>\n",
              "      <div id=\"id-cf591287-a55a-4ce1-82b2-04318255cf6e\" class=\"ndarray_repr\"><pre>ndarray (32, 32) <button style=\"padding: 0 2px;\">show data</button></pre><img src=\"data:image/png;base64,iVBORw0KGgoAAAANSUhEUgAAACAAAAAgCAAAAABWESUoAAACi0lEQVR4nD2SW2tddRTEZ+a/9rk0SZv0SFJMmkYjiuDlTfBz+CX9Gj6KWApaLJgIEhpMMU3I/ey91xofjvR9Lr+B4etCjlXDkFU1jEXbfTrtgokKEqQskoIaWa6GKsgGoRAs2ZJhCBALDWi2CoQDIFVaCRosWAaMDJeNIK0SUzAaSwBNqmVzkaUQVmFCK1MmAJOUaZkOyiWblFGQScDmB1+AtGwAJK1ajbJgA0UEDJAkCRQhgAQIGjDocAIAGuABqjaCcMFVdpEI0AAgVlEWXPq/D5DBIAiQBgGhLKNJNFhmVQsQAFbktlxo1UpmpZFuIZZBwQAjktEXm02LCQBBIQHKhm/PB0yxnorRKqjECpIrjIKOf1n2w7df51qiOGSjWSFQgIuEd17ovI83nwVY2YQs8QMkxX76xcavk1s/hbg6A6qCaSRAu9799nDSPjn9XtlcXRZMIrJQFkYzF2gbi/50mwRUKNq2Es6xLOjJxfbmAf85+vFq7Jf3/ZiJGhwPsJBjq7/f3fQ16tnefJIel1PTlhwvM7sp1+SXry539o4W+4cHZ0suFQIGGPF+HsGDzdnx5uHF459Pxh+23pz1uOvQksl0DMPWdKe7usbnu5cX331zOdu8v0Uq3VsjR4fOr4+nHzXMIkftt8j+45Mprnr3LQfS4adDei7l7bDMvjna5LAf0wOZHqPiNrjJ1s+6JmYRubyJWb9d1x3BIYd4WLTZ3vSPt/NFxx6lMJdW23yobvHMZxk79/pq//rR3dGfsbXmRx1z/nBfV9vr6893J/XvdfTL5avXihdf3vz+18W06+aTSZdq+/vPn8y4nF5FPV6e3t10P026yW7f1qPqiv39pxd33Yby/WzxH88RqGmVbwR+AAAAAElFTkSuQmCC\" class=\"ndarray_image_preview\" /><pre class=\"ndarray_raw_data\">array([[213, 211, 211, ..., 151, 151, 149],\n",
              "       [214, 212, 212, ..., 152, 152, 151],\n",
              "       [216, 214, 213, ..., 153, 153, 151],\n",
              "       ...,\n",
              "       [145, 136, 143, ..., 216, 196, 183],\n",
              "       [139, 129, 129, ..., 227, 223, 209],\n",
              "       [137, 143, 136, ..., 209, 217, 228]], dtype=uint8)</pre></div><script>\n",
              "      (() => {\n",
              "      const titles = ['show data', 'hide data'];\n",
              "      let index = 0\n",
              "      document.querySelector('#id-cf591287-a55a-4ce1-82b2-04318255cf6e button').onclick = (e) => {\n",
              "        document.querySelector('#id-cf591287-a55a-4ce1-82b2-04318255cf6e').classList.toggle('show_array');\n",
              "        index = (++index) % 2;\n",
              "        document.querySelector('#id-cf591287-a55a-4ce1-82b2-04318255cf6e button').textContent = titles[index];\n",
              "        e.preventDefault();\n",
              "        e.stopPropagation();\n",
              "      }\n",
              "      })();\n",
              "    </script>"
            ]
          },
          "metadata": {},
          "execution_count": 6
        }
      ]
    },
    {
      "cell_type": "markdown",
      "source": [
        "```\n",
        "# plot the one channel image\n",
        "plt.imshow(gray_image, cmap='gray')\n",
        "plt.show()\n",
        "```"
      ],
      "metadata": {
        "id": "AICYHshEI6N1",
        "outputId": "c5ddc946-8026-4313-be83-8f7b4d7f61aa"
      }
    },
    {
      "cell_type": "code",
      "source": [
        "plt.imshow(gray_image, cmap='gray')\n",
        "plt.show()"
      ],
      "metadata": {
        "id": "lP2Gc776oe3z",
        "outputId": "771802ca-3912-47be-81ac-1bbdbcae9943",
        "colab": {
          "base_uri": "https://localhost:8080/",
          "height": 430
        }
      },
      "execution_count": 7,
      "outputs": [
        {
          "output_type": "display_data",
          "data": {
            "text/plain": [
              "<Figure size 640x480 with 1 Axes>"
            ],
            "image/png": "[encoded data removed]"
          },
          "metadata": {}
        }
      ]
    },
    {
      "cell_type": "markdown",
      "source": [
        "- RGB Image (3D Array): A color image has three channels: Red, Green, and Blue (RGB).\n",
        "- Shape: (height, width, 3)"
      ],
      "metadata": {
        "id": "kFMWk_DUGOOA"
      }
    },
    {
      "cell_type": "markdown",
      "source": [
        "```\n",
        "# show the 32x32x3 data\n",
        "aimage\n",
        "```"
      ],
      "metadata": {
        "id": "_GiGf8_zGa5h",
        "outputId": "86f832ee-df2c-40b3-fea7-7ae2ea03a12d"
      }
    },
    {
      "cell_type": "code",
      "source": [
        "aimage"
      ],
      "metadata": {
        "id": "0_qMms1jogrg",
        "outputId": "2ec3d7e2-97c9-40c0-aa50-102ef0bb47ce",
        "colab": {
          "base_uri": "https://localhost:8080/",
          "height": 73
        }
      },
      "execution_count": 8,
      "outputs": [
        {
          "output_type": "execute_result",
          "data": {
            "text/plain": [
              "array([[[213, 229, 242],\n",
              "        [211, 227, 240],\n",
              "        [211, 227, 240],\n",
              "        ...,\n",
              "        [151, 174, 206],\n",
              "        [151, 174, 206],\n",
              "        [149, 172, 204]],\n",
              "\n",
              "       [[214, 229, 241],\n",
              "        [212, 227, 239],\n",
              "        [212, 227, 239],\n",
              "        ...,\n",
              "        [152, 175, 207],\n",
              "        [152, 175, 207],\n",
              "        [151, 174, 205]],\n",
              "\n",
              "       [[216, 229, 239],\n",
              "        [214, 227, 237],\n",
              "        [213, 227, 237],\n",
              "        ...,\n",
              "        [153, 176, 206],\n",
              "        [153, 176, 206],\n",
              "        [151, 174, 204]],\n",
              "\n",
              "       ...,\n",
              "\n",
              "       [[145, 159, 165],\n",
              "        [136, 148, 154],\n",
              "        [143, 152, 158],\n",
              "        ...,\n",
              "        [216, 217, 206],\n",
              "        [196, 197, 191],\n",
              "        [183, 183, 182]],\n",
              "\n",
              "       [[139, 153, 159],\n",
              "        [129, 142, 148],\n",
              "        [129, 139, 145],\n",
              "        ...,\n",
              "        [227, 228, 219],\n",
              "        [223, 224, 219],\n",
              "        [209, 209, 209]],\n",
              "\n",
              "       [[137, 152, 157],\n",
              "        [143, 155, 161],\n",
              "        [136, 145, 152],\n",
              "        ...,\n",
              "        [209, 209, 203],\n",
              "        [217, 217, 213],\n",
              "        [228, 228, 226]]], dtype=uint8)"
            ],
            "text/html": [
              "<style>\n",
              "      .ndarray_repr .ndarray_raw_data {\n",
              "        display: none;\n",
              "      }\n",
              "      .ndarray_repr.show_array .ndarray_raw_data {\n",
              "        display: block;\n",
              "      }\n",
              "      .ndarray_repr.show_array .ndarray_image_preview {\n",
              "        display: none;\n",
              "      }\n",
              "      </style>\n",
              "      <div id=\"id-8d208d6d-420a-4631-84e8-4179ed2be80f\" class=\"ndarray_repr\"><pre>ndarray (32, 32, 3) <button style=\"padding: 0 2px;\">show data</button></pre><img src=\"data:image/png;base64,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\" class=\"ndarray_image_preview\" /><pre class=\"ndarray_raw_data\">array([[[213, 229, 242],\n",
              "        [211, 227, 240],\n",
              "        [211, 227, 240],\n",
              "        ...,\n",
              "        [151, 174, 206],\n",
              "        [151, 174, 206],\n",
              "        [149, 172, 204]],\n",
              "\n",
              "       [[214, 229, 241],\n",
              "        [212, 227, 239],\n",
              "        [212, 227, 239],\n",
              "        ...,\n",
              "        [152, 175, 207],\n",
              "        [152, 175, 207],\n",
              "        [151, 174, 205]],\n",
              "\n",
              "       [[216, 229, 239],\n",
              "        [214, 227, 237],\n",
              "        [213, 227, 237],\n",
              "        ...,\n",
              "        [153, 176, 206],\n",
              "        [153, 176, 206],\n",
              "        [151, 174, 204]],\n",
              "\n",
              "       ...,\n",
              "\n",
              "       [[145, 159, 165],\n",
              "        [136, 148, 154],\n",
              "        [143, 152, 158],\n",
              "        ...,\n",
              "        [216, 217, 206],\n",
              "        [196, 197, 191],\n",
              "        [183, 183, 182]],\n",
              "\n",
              "       [[139, 153, 159],\n",
              "        [129, 142, 148],\n",
              "        [129, 139, 145],\n",
              "        ...,\n",
              "        [227, 228, 219],\n",
              "        [223, 224, 219],\n",
              "        [209, 209, 209]],\n",
              "\n",
              "       [[137, 152, 157],\n",
              "        [143, 155, 161],\n",
              "        [136, 145, 152],\n",
              "        ...,\n",
              "        [209, 209, 203],\n",
              "        [217, 217, 213],\n",
              "        [228, 228, 226]]], dtype=uint8)</pre></div><script>\n",
              "      (() => {\n",
              "      const titles = ['show data', 'hide data'];\n",
              "      let index = 0\n",
              "      document.querySelector('#id-8d208d6d-420a-4631-84e8-4179ed2be80f button').onclick = (e) => {\n",
              "        document.querySelector('#id-8d208d6d-420a-4631-84e8-4179ed2be80f').classList.toggle('show_array');\n",
              "        index = (++index) % 2;\n",
              "        document.querySelector('#id-8d208d6d-420a-4631-84e8-4179ed2be80f button').textContent = titles[index];\n",
              "        e.preventDefault();\n",
              "        e.stopPropagation();\n",
              "      }\n",
              "      })();\n",
              "    </script>"
            ]
          },
          "metadata": {},
          "execution_count": 8
        }
      ]
    },
    {
      "cell_type": "markdown",
      "source": [
        "```\n",
        "plt.imshow(aimage)\n",
        "plt.show()\n",
        "```"
      ],
      "metadata": {
        "id": "y83Xdj_6Njch",
        "outputId": "57f2ed16-d32e-42a6-8d61-dc44dfa91955"
      }
    },
    {
      "cell_type": "code",
      "source": [
        "plt.imshow(aimage)\n",
        "plt.show()"
      ],
      "metadata": {
        "id": "ck1ns1Neoh-p",
        "outputId": "a78adc79-b7ba-4c54-ff69-70d81d6de890",
        "colab": {
          "base_uri": "https://localhost:8080/",
          "height": 430
        }
      },
      "execution_count": 9,
      "outputs": [
        {
          "output_type": "display_data",
          "data": {
            "text/plain": [
              "<Figure size 640x480 with 1 Axes>"
            ],
            "image/png": "[encoded data removed]"
          },
          "metadata": {}
        }
      ]
    },
    {
      "cell_type": "markdown",
      "source": [
        "- Batch of Images (4D Tensor): When processing multiple images in deep learning, they are stored in batch form.\n",
        "- Shape: (batch_size, height, width, channels)\n"
      ],
      "metadata": {
        "id": "G8t7anuSGpWp"
      }
    },
    {
      "cell_type": "markdown",
      "source": [
        "```\n",
        "X_train.shape\n",
        "```"
      ],
      "metadata": {
        "id": "_XMPiJUhGwW5",
        "outputId": "cbeb8d5e-8e7e-43c7-9ee7-8b4db16384a4"
      }
    },
    {
      "cell_type": "code",
      "source": [
        "X_train.shape"
      ],
      "metadata": {
        "id": "3P_-B3obojgy",
        "outputId": "3317056e-be04-4adf-8965-66b666674931",
        "colab": {
          "base_uri": "https://localhost:8080/"
        }
      },
      "execution_count": 10,
      "outputs": [
        {
          "output_type": "execute_result",
          "data": {
            "text/plain": [
              "(50000, 32, 32, 3)"
            ]
          },
          "metadata": {},
          "execution_count": 10
        }
      ]
    },
    {
      "cell_type": "markdown",
      "source": [
        "## Image Classification by Logistic Regression\n",
        "- Let us consider a binary classification problem.\n",
        "- To classify an image into (yes, no) labels.\n",
        "- A (height, width, channels) image is flatten to a 1-D vector.\n",
        "- A linear combination of the pixels followed by the logistic function gives rise to the classification.\n",
        "\n",
        "![](https://i.imgur.com/3dfiaKI.png)\n",
        "\n",
        "\n",
        "\n"
      ],
      "metadata": {
        "id": "_FVMI-YkN2-l"
      }
    },
    {
      "cell_type": "markdown",
      "source": [
        "# Introduction to Artificial Neural Network\n",
        "\n",
        "- An Artificial Neural Network (ANN) is a computational model inspired by the structure and function of the human brain.\n",
        "- It consists of layers of interconnected artificial neurons that process and learn from data to recognize patterns, make predictions, and solve complex problems.\n",
        "- Each neuron is just an extension of logistic regression.\n",
        "\n",
        "![](https://i.imgur.com/7yrbeiU.png)\n",
        "\n",
        "## Key Components of ANN:\n",
        "- Neurons (Nodes): Basic units that receive input, process it, and pass output.\n",
        "- Layers:\n",
        " - Input Layer: Takes raw data as input.\n",
        " - Hidden Layers: Perform computations and extract patterns.\n",
        " - Output Layer: Produces the final result or prediction.\n",
        " - Weights & Biases: Parameters that adjust during training to improve accuracy.\n",
        " - Activation Functions: Determine the output of a neuron (e.g., Sigmoid, ReLU, Tanh).\n",
        " - Learning Process: Uses algorithms like Backpropagation and Gradient Descent to update weights based on errors.\n",
        "\n",
        "\n",
        " ![](https://i.imgur.com/MZ75NgI.png)"
      ],
      "metadata": {
        "id": "FvZqjxNePLvP"
      }
    },
    {
      "cell_type": "markdown",
      "source": [
        "# A Single Neuron and Logistic Regression\n",
        "\n",
        "- A single neuron is just an extension of logistic regression, which itself is just an extension of linear regression.\n",
        "- If the inputs are represented by the variables $x_1, x_2, ..., x_i$, and the weights controlling the influence of these inputs is represented by $w_1, w_2, ..., w_i$ then the equation for linear regression is:\n",
        "\n",
        "$$y=w_1x_1 + w_2x_2 + ... + w_ix_i$$\n",
        "\n",
        "- For logistic regression, we can modify this one step further, by passing the entire output through the logistic function $f(z)=\\frac{1}{1+e^{-z}}$.\n",
        "- As a result, the output is between 0 and 1 as computed by the following equation:\n",
        "\n",
        "$$y=f(w_1x_1 + w_2x_2 + ... + w_ix_i)$$\n",
        "\n",
        "- For example, the following neuron shows:\n",
        " * three inputs ($x_1, x_2, x_3$)\n",
        " * three weights ($w_1, w_2, w_3$)\n",
        " * an output: $y=f(w_1x_1 + w_2x_2 + w_3x_3)$\n",
        "\n",
        " ![logistic regression](https://i.imgur.com/uCB4OcQ.png)\n",
        "\n"
      ],
      "metadata": {
        "id": "z0uMYUndXpQ5"
      }
    },
    {
      "cell_type": "markdown",
      "source": [
        "## Activation Function\n",
        "- Activation functions are simply a function that is applied to the weighed sum of a neuron.\n",
        "- A list of some common activation functions and their graphs can be seen below.\n",
        "\n",
        " - Relu (Rectified Linear Unit):\n",
        "\n",
        "  ![](https://yashuseth.files.wordpress.com/2018/02/relu-function.png?w=309&h=274)\n",
        " - Tanh (Hyperbolic Tangent):\n",
        "\n",
        " ![](http://mathworld.wolfram.com/images/interactive/TanhReal.gif)\n",
        " - Sigmoid:\n",
        "\n",
        " ![](https://miro.medium.com/max/970/1*Xu7B5y9gp0iL5ooBj7LtWw.png)\n",
        "\n"
      ],
      "metadata": {
        "id": "cTY-NUyXfkjN"
      }
    },
    {
      "cell_type": "markdown",
      "source": [
        "## Retrieval Practice"
      ],
      "metadata": {
        "id": "0SNvYPgK2nR4"
      }
    },
    {
      "cell_type": "markdown",
      "source": [
        "## Loss/Cost Function\n",
        "- A loss/cost function is responsible for determining how well the network preformed.\n",
        "- Some common loss/cost functions include.\n",
        " - Mean Squared Error:\n",
        " $$\n",
        "\\text{MSE} = \\frac{1}{n} \\sum_{i=1}^{n} (y_i - \\hat{y}_i)^2\n",
        "$$\n",
        "where $ y_i $ is the actual value, $ \\hat{y}_i $ is the predicted value, and $ n $ is the number of data points.\n",
        "\n",
        " - Mean Absolute Error:\n",
        "$$\n",
        "\\text{MAE} = \\frac{1}{n} \\sum_{i=1}^{n} |y_i - \\hat{y}_i|\n",
        "$$\n",
        "where $ y_i $ is the actual value, $ \\hat{y}_i $ are as above.\n",
        " - Hinge Loss:\n",
        "$$\n",
        "\\text{Hinge Loss} = \\frac{1}{n} \\sum_{i=1}^{n} \\max(0, 1 - y_i\\cdot \\hat{y}_i)\n",
        "$$\n",
        "where $ y_i $ is the true label $(\\pm 1$) and $ \\hat{y}_i $ is the predicted score.\n",
        " - Binary Cross-Entropy (Log Loss)}:\n",
        " For binary classification, where $ y \\in \\{0,1\\} $, the loss function is given by:\n",
        "$$\n",
        "\\text{Log Loss} = - \\frac{1}{n} \\sum_{i=1}^{n} \\left[ y_i \\log \\hat{y}_i + (1 - y_i) \\log (1 - \\hat{y}_i) \\right]\n",
        "$$\n",
        "where: $ y_i $ is the true label (0 or 1), $ \\hat{y}_i $ is the predicted probability for class 1, $ n $ is the number of samples.\n",
        "\n",
        "  - Categorical Cross-Entropy: For multi-class classification with $ C $ classes, the cross-entropy loss is:\n",
        "$$\n",
        "\\text{Categorical Log Loss} = - \\frac{1}{n} \\sum_{i=1}^{n} \\sum_{j=1}^{C} y_{i,j} \\log \\hat{y}_{i,j}\n",
        "$$\n",
        "where: $ y_{i,j} $ is 1 if the true class of sample $ i $ is $ j $, otherwise 0, $\\hat{y}_{i,j}$ is the predicted probability for class $ j $, $ C $ is the total number of classes."
      ],
      "metadata": {
        "id": "ijHI4R3xglCV"
      }
    },
    {
      "cell_type": "markdown",
      "source": [
        "## Training a Neural Network\n",
        "- Typically, gradient descent is applied to learning the weights and biases of a neural network:\n",
        " 1. Randomly initialize the weights of the neurons to small values.\n",
        " 2. Choose a loss function (some measure of how poorly our model is predicting the training data)\n",
        " 3. Calculate the model's loss on the training data\n",
        " 4. Update the weights in the direction that reduces loss (using calculus)\n",
        " 5. Repeat steps 3 and 4 until we're happy with the network's performance\n",
        "\n"
      ],
      "metadata": {
        "id": "kZ2MQ11yaRLD"
      }
    },
    {
      "cell_type": "markdown",
      "source": [
        "## Gradient Descent for Log Loss $L$\n",
        "\n",
        "Let the predicted probability be:\n",
        "$$\n",
        "\\hat{y}_i = \\sigma (w^T x_i) = \\frac{1}{1 + e^{-w^T x_i}}\n",
        "$$\n",
        "where $ \\sigma(z) $ is the sigmoid function.\n",
        "\n",
        "The gradient of the loss function with respect to the weights $ w $ is:\n",
        "$$\n",
        "\\frac{\\partial L}{\\partial w} = \\frac{1}{n} \\sum_{i=1}^{n} (\\hat{y}_i - y_i) x_i\n",
        "$$\n",
        "\n",
        "## Gradient Descent Update Rule\n",
        "Using the gradient descent algorithm, the weights are updated as:\n",
        "$$\n",
        "w := w - \\alpha \\frac{\\partial L}{\\partial w}\n",
        "$$\n",
        "where $ \\alpha $ is the learning rate.\n",
        "\n",
        "Expanding the update rule:\n",
        "$$\n",
        "w := w - \\alpha \\frac{1}{n} \\sum_{i=1}^{n} (\\hat{y}_i - y_i) x_i\n",
        "$$\n",
        "\n",
        "![](https://cdn-images-1.medium.com/max/1000/1*iU1QCnSTKrDjIPjSAENLuQ.png)\n"
      ],
      "metadata": {
        "id": "U9vzwyjs98y0"
      }
    },
    {
      "cell_type": "markdown",
      "source": [
        "## Backpropagation\n",
        "- An algorithm which is used to train artificial neural networks by adjusting the weights to minimize the error.\n",
        "- It works by propagating the error backward from the output layer to the input layer, updating weights using gradient descent."
      ],
      "metadata": {
        "id": "cUD-_TmZ5W-5"
      }
    },
    {
      "cell_type": "markdown",
      "source": [
        "## Retrieval Practice"
      ],
      "metadata": {
        "id": "L66-rFkx2rwL"
      }
    },
    {
      "cell_type": "markdown",
      "source": [
        "## Use Keras for Classification"
      ],
      "metadata": {
        "id": "MdVH2XSIINzx"
      }
    },
    {
      "cell_type": "markdown",
      "metadata": {
        "id": "VhFSpp2Iz_Pm"
      },
      "source": [
        "```\n",
        "import numpy as np\n",
        "import keras\n",
        "import matplotlib.pyplot as plt\n",
        "```"
      ]
    },
    {
      "cell_type": "code",
      "source": [
        "import numpy as np\n",
        "import keras\n",
        "import matplotlib.pyplot as plt"
      ],
      "metadata": {
        "id": "TE6u5CrJoncM"
      },
      "execution_count": 11,
      "outputs": []
    },
    {
      "cell_type": "markdown",
      "source": [
        "```\n",
        " # Load the data and split it between train and test sets\n",
        "(X_train, y_train), (X_test, y_test) = keras.datasets.mnist.load_data()\n",
        "```"
      ],
      "metadata": {
        "id": "tpqxa9fnIeLI"
      }
    },
    {
      "cell_type": "code",
      "source": [
        "(X_train, y_train), (X_test, y_test) = keras.datasets.mnist.load_data()"
      ],
      "metadata": {
        "id": "bR6xV2OjopP1",
        "outputId": "a1a8732d-e666-4261-c1f0-14a3df0885d1",
        "colab": {
          "base_uri": "https://localhost:8080/"
        }
      },
      "execution_count": 12,
      "outputs": [
        {
          "output_type": "stream",
          "name": "stdout",
          "text": [
            "Downloading data from https://storage.googleapis.com/tensorflow/tf-keras-datasets/mnist.npz\n",
            "\u001b[1m11490434/11490434\u001b[0m \u001b[32m━━━━━━━━━━━━━━━━━━━━\u001b[0m\u001b[37m\u001b[0m \u001b[1m0s\u001b[0m 0us/step\n"
          ]
        }
      ]
    },
    {
      "cell_type": "markdown",
      "source": [
        "```\n",
        "X_train.shape\n",
        "```"
      ],
      "metadata": {
        "id": "N374Suv_Io-F",
        "outputId": "7946e3d8-3ab5-4f26-f0ed-1c50980cdbaf"
      }
    },
    {
      "cell_type": "code",
      "source": [
        "X_train.shape"
      ],
      "metadata": {
        "id": "ztFwKuPuorHN",
        "outputId": "e1c8194c-f355-4d3c-dcc8-bedd37e9d3ca",
        "colab": {
          "base_uri": "https://localhost:8080/"
        }
      },
      "execution_count": 13,
      "outputs": [
        {
          "output_type": "execute_result",
          "data": {
            "text/plain": [
              "(60000, 28, 28)"
            ]
          },
          "metadata": {},
          "execution_count": 13
        }
      ]
    },
    {
      "cell_type": "markdown",
      "source": [
        "```\n",
        "X_train[0].min(), X_train[0].max()\n",
        "```"
      ],
      "metadata": {
        "id": "M9qZ1sSqLJXC",
        "outputId": "b24364eb-0628-46b5-83ed-de98aeebc122"
      }
    },
    {
      "cell_type": "code",
      "source": [
        "X_train[0].min(), X_train[0].max()"
      ],
      "metadata": {
        "id": "HTjAGolCosOc",
        "outputId": "99825e62-8d0e-477b-ed15-e7d4a2760e21",
        "colab": {
          "base_uri": "https://localhost:8080/"
        }
      },
      "execution_count": 14,
      "outputs": [
        {
          "output_type": "execute_result",
          "data": {
            "text/plain": [
              "(np.uint8(0), np.uint8(255))"
            ]
          },
          "metadata": {},
          "execution_count": 14
        }
      ]
    },
    {
      "cell_type": "markdown",
      "source": [
        "```\n",
        "# Scale images to the [0, 1] range\n",
        "X_train = X_train.astype(\"float32\") / 255\n",
        "X_test = X_test.astype(\"float32\") / 255\n",
        "```"
      ],
      "metadata": {
        "id": "3MGZDKNXLlZV"
      }
    },
    {
      "cell_type": "code",
      "source": [
        "X_train = X_train.astype(\"float32\") / 255\n",
        "X_test = X_test.astype(\"float32\") / 255"
      ],
      "metadata": {
        "id": "aWKlS3PHotb3"
      },
      "execution_count": 15,
      "outputs": []
    },
    {
      "cell_type": "markdown",
      "source": [
        "```\n",
        "X_train[0].min(), X_train[0].max()\n",
        "```"
      ],
      "metadata": {
        "id": "XJELo3QcLyzk",
        "outputId": "dcb77557-b2b8-485d-d5a9-c1fba4e5af85"
      }
    },
    {
      "cell_type": "code",
      "source": [
        "\n",
        "\n",
        "X_train[0].min(), X_train[0].max()\n",
        "\n"
      ],
      "metadata": {
        "id": "Q_SIFrMEovRv",
        "outputId": "69dc8c3f-45e2-4c0d-d6db-8553351e87cd",
        "colab": {
          "base_uri": "https://localhost:8080/"
        }
      },
      "execution_count": 16,
      "outputs": [
        {
          "output_type": "execute_result",
          "data": {
            "text/plain": [
              "(np.float32(0.0), np.float32(1.0))"
            ]
          },
          "metadata": {},
          "execution_count": 16
        }
      ]
    },
    {
      "cell_type": "markdown",
      "source": [
        "```\n",
        "# Plot random 4x4 MNIST images\n",
        "grid_size=(4, 4)\n",
        "fig, axes = plt.subplots(grid_size[0], grid_size[1], figsize=(8, 8))\n",
        "indices = np.random.choice(X_train.shape[0], grid_size[0] * grid_size[1], replace=False)\n",
        "\n",
        "for ax, idx in zip(axes.flat, indices):\n",
        "    ax.imshow(X_train[idx], cmap='gray')\n",
        "    ax.set_xticks([])  # Remove x ticks\n",
        "    ax.set_yticks([])  # Remove y ticks\n",
        "    ax.set_xlabel(f\"Label: {y_train[idx]}\", fontsize=10)  # Show label below image\n",
        "\n",
        "\n",
        "plt.tight_layout()\n",
        "plt.show()\n",
        "```"
      ],
      "metadata": {
        "id": "jfl1HR0dJ8TI",
        "outputId": "5ff16870-c7d2-49df-fbf7-6414258b7494"
      }
    },
    {
      "cell_type": "code",
      "source": [
        "grid_size=(4, 4)\n",
        "fig, axes = plt.subplots(grid_size[0], grid_size[1], figsize=(8, 8))\n",
        "indices = np.random.choice(X_train.shape[0], grid_size[0] * grid_size[1], replace=False)\n",
        "\n",
        "for ax, idx in zip(axes.flat, indices):\n",
        "    ax.imshow(X_train[idx], cmap='gray')\n",
        "    ax.set_xticks([])  # Remove x ticks\n",
        "    ax.set_yticks([])  # Remove y ticks\n",
        "    ax.set_xlabel(f\"Label: {y_train[idx]}\", fontsize=10)  # Show label below image\n",
        "\n",
        "\n",
        "plt.tight_layout()\n",
        "plt.show()"
      ],
      "metadata": {
        "id": "w4Hm5_TLow3x",
        "outputId": "c9bbe838-b77e-437f-b45a-eda96e675768",
        "colab": {
          "base_uri": "https://localhost:8080/",
          "height": 807
        }
      },
      "execution_count": 17,
      "outputs": [
        {
          "output_type": "display_data",
          "data": {
            "text/plain": [
              "<Figure size 800x800 with 16 Axes>"
            ],
            "image/png": "[encoded data removed]"
          },
          "metadata": {}
        }
      ]
    },
    {
      "cell_type": "markdown",
      "source": [
        "```\n",
        "# Make sure images have shape (28, 28, 1)\n",
        "X_train = np.expand_dims(X_train, -1)\n",
        "X_test = np.expand_dims(X_test, -1)\n",
        "print(\"X_train shape:\", X_train.shape)\n",
        "print(\"y_train shape:\", y_train.shape)\n",
        "print(X_train.shape[0], \"train samples\")\n",
        "print(X_test.shape[0], \"test samples\")\n",
        "```"
      ],
      "metadata": {
        "id": "_5tasJnMKfEn",
        "outputId": "4810c6d0-40ba-4f16-ac27-ced3b4056e24"
      }
    },
    {
      "cell_type": "code",
      "source": [
        "X_train = np.expand_dims(X_train, -1)\n",
        "X_test = np.expand_dims(X_test, -1)\n",
        "print(\"X_train shape:\", X_train.shape)\n",
        "print(\"y_train shape:\", y_train.shape)\n",
        "print(X_train.shape[0], \"train samples\")\n",
        "print(X_test.shape[0], \"test samples\")"
      ],
      "metadata": {
        "id": "ykbIzNFzozI0",
        "outputId": "cd374353-ab8b-4c98-bf3b-a2e7c73f9f85",
        "colab": {
          "base_uri": "https://localhost:8080/"
        }
      },
      "execution_count": 19,
      "outputs": [
        {
          "output_type": "stream",
          "name": "stdout",
          "text": [
            "X_train shape: (60000, 28, 28, 1)\n",
            "y_train shape: (60000,)\n",
            "60000 train samples\n",
            "10000 test samples\n"
          ]
        }
      ]
    },
    {
      "cell_type": "markdown",
      "source": [
        "```\n",
        "# Model parameters\n",
        "num_classes = 10\n",
        "input_shape = (28, 28, 1)\n",
        "\n",
        "model = keras.Sequential([\n",
        "    keras.layers.Input(shape=input_shape),\n",
        "    keras.layers.Flatten(),  # Flatten the 28x28 image into a 1D vector\n",
        "    keras.layers.Dense(512, activation=\"relu\"),\n",
        "    keras.layers.Dense(256, activation=\"relu\"),\n",
        "    keras.layers.Dense(128, activation=\"relu\"),\n",
        "    keras.layers.Dropout(0.5),  # Regularization to prevent overfitting\n",
        "    keras.layers.Dense(num_classes, activation=\"softmax\")  # Output layer for classification\n",
        "])\n",
        "\n",
        "# Print model summary\n",
        "model.summary()\n",
        "```"
      ],
      "metadata": {
        "id": "NoF7OFMlNUzZ",
        "outputId": "fa86aedf-a428-49c8-a38d-423241271b73"
      }
    },
    {
      "cell_type": "code",
      "source": [
        "num_classes = 10\n",
        "input_shape = (28, 28, 1)\n",
        "\n",
        "model = keras.Sequential([\n",
        "    keras.layers.Input(shape=input_shape),\n",
        "    keras.layers.Flatten(),  # Flatten the 28x28 image into a 1D vector\n",
        "    keras.layers.Dense(512, activation=\"relu\"),\n",
        "    keras.layers.Dense(256, activation=\"relu\"),\n",
        "    keras.layers.Dense(128, activation=\"relu\"),\n",
        "    keras.layers.Dropout(0.5),  # Regularization to prevent overfitting\n",
        "    keras.layers.Dense(num_classes, activation=\"softmax\")  # Output layer for classification\n",
        "])\n",
        "\n",
        "# Print model summary\n",
        "model.summary()"
      ],
      "metadata": {
        "id": "PFpGjwzuo8Dm",
        "outputId": "a36341f0-b093-4597-bd5a-c2ac91110541",
        "colab": {
          "base_uri": "https://localhost:8080/",
          "height": 342
        }
      },
      "execution_count": 20,
      "outputs": [
        {
          "output_type": "display_data",
          "data": {
            "text/plain": [
              "\u001b[1mModel: \"sequential\"\u001b[0m\n"
            ],
            "text/html": [
              "<pre style=\"white-space:pre;overflow-x:auto;line-height:normal;font-family:Menlo,'DejaVu Sans Mono',consolas,'Courier New',monospace\"><span style=\"font-weight: bold\">Model: \"sequential\"</span>\n",
              "</pre>\n"
            ]
          },
          "metadata": {}
        },
        {
          "output_type": "display_data",
          "data": {
            "text/plain": [
              "┏━━━━━━━━━━━━━━━━━━━━━━━━━━━━━━━━━┳━━━━━━━━━━━━━━━━━━━━━━━━┳━━━━━━━━━━━━━━━┓\n",
              "┃\u001b[1m \u001b[0m\u001b[1mLayer (type)                   \u001b[0m\u001b[1m \u001b[0m┃\u001b[1m \u001b[0m\u001b[1mOutput Shape          \u001b[0m\u001b[1m \u001b[0m┃\u001b[1m \u001b[0m\u001b[1m      Param #\u001b[0m\u001b[1m \u001b[0m┃\n",
              "┡━━━━━━━━━━━━━━━━━━━━━━━━━━━━━━━━━╇━━━━━━━━━━━━━━━━━━━━━━━━╇━━━━━━━━━━━━━━━┩\n",
              "│ flatten (\u001b[38;5;33mFlatten\u001b[0m)               │ (\u001b[38;5;45mNone\u001b[0m, \u001b[38;5;34m784\u001b[0m)            │             \u001b[38;5;34m0\u001b[0m │\n",
              "├─────────────────────────────────┼────────────────────────┼───────────────┤\n",
              "│ dense (\u001b[38;5;33mDense\u001b[0m)                   │ (\u001b[38;5;45mNone\u001b[0m, \u001b[38;5;34m512\u001b[0m)            │       \u001b[38;5;34m401,920\u001b[0m │\n",
              "├─────────────────────────────────┼────────────────────────┼───────────────┤\n",
              "│ dense_1 (\u001b[38;5;33mDense\u001b[0m)                 │ (\u001b[38;5;45mNone\u001b[0m, \u001b[38;5;34m256\u001b[0m)            │       \u001b[38;5;34m131,328\u001b[0m │\n",
              "├─────────────────────────────────┼────────────────────────┼───────────────┤\n",
              "│ dense_2 (\u001b[38;5;33mDense\u001b[0m)                 │ (\u001b[38;5;45mNone\u001b[0m, \u001b[38;5;34m128\u001b[0m)            │        \u001b[38;5;34m32,896\u001b[0m │\n",
              "├─────────────────────────────────┼────────────────────────┼───────────────┤\n",
              "│ dropout (\u001b[38;5;33mDropout\u001b[0m)               │ (\u001b[38;5;45mNone\u001b[0m, \u001b[38;5;34m128\u001b[0m)            │             \u001b[38;5;34m0\u001b[0m │\n",
              "├─────────────────────────────────┼────────────────────────┼───────────────┤\n",
              "│ dense_3 (\u001b[38;5;33mDense\u001b[0m)                 │ (\u001b[38;5;45mNone\u001b[0m, \u001b[38;5;34m10\u001b[0m)             │         \u001b[38;5;34m1,290\u001b[0m │\n",
              "└─────────────────────────────────┴────────────────────────┴───────────────┘\n"
            ],
            "text/html": [
              "<pre style=\"white-space:pre;overflow-x:auto;line-height:normal;font-family:Menlo,'DejaVu Sans Mono',consolas,'Courier New',monospace\">┏━━━━━━━━━━━━━━━━━━━━━━━━━━━━━━━━━┳━━━━━━━━━━━━━━━━━━━━━━━━┳━━━━━━━━━━━━━━━┓\n",
              "┃<span style=\"font-weight: bold\"> Layer (type)                    </span>┃<span style=\"font-weight: bold\"> Output Shape           </span>┃<span style=\"font-weight: bold\">       Param # </span>┃\n",
              "┡━━━━━━━━━━━━━━━━━━━━━━━━━━━━━━━━━╇━━━━━━━━━━━━━━━━━━━━━━━━╇━━━━━━━━━━━━━━━┩\n",
              "│ flatten (<span style=\"color: #0087ff; text-decoration-color: #0087ff\">Flatten</span>)               │ (<span style=\"color: #00d7ff; text-decoration-color: #00d7ff\">None</span>, <span style=\"color: #00af00; text-decoration-color: #00af00\">784</span>)            │             <span style=\"color: #00af00; text-decoration-color: #00af00\">0</span> │\n",
              "├─────────────────────────────────┼────────────────────────┼───────────────┤\n",
              "│ dense (<span style=\"color: #0087ff; text-decoration-color: #0087ff\">Dense</span>)                   │ (<span style=\"color: #00d7ff; text-decoration-color: #00d7ff\">None</span>, <span style=\"color: #00af00; text-decoration-color: #00af00\">512</span>)            │       <span style=\"color: #00af00; text-decoration-color: #00af00\">401,920</span> │\n",
              "├─────────────────────────────────┼────────────────────────┼───────────────┤\n",
              "│ dense_1 (<span style=\"color: #0087ff; text-decoration-color: #0087ff\">Dense</span>)                 │ (<span style=\"color: #00d7ff; text-decoration-color: #00d7ff\">None</span>, <span style=\"color: #00af00; text-decoration-color: #00af00\">256</span>)            │       <span style=\"color: #00af00; text-decoration-color: #00af00\">131,328</span> │\n",
              "├─────────────────────────────────┼────────────────────────┼───────────────┤\n",
              "│ dense_2 (<span style=\"color: #0087ff; text-decoration-color: #0087ff\">Dense</span>)                 │ (<span style=\"color: #00d7ff; text-decoration-color: #00d7ff\">None</span>, <span style=\"color: #00af00; text-decoration-color: #00af00\">128</span>)            │        <span style=\"color: #00af00; text-decoration-color: #00af00\">32,896</span> │\n",
              "├─────────────────────────────────┼────────────────────────┼───────────────┤\n",
              "│ dropout (<span style=\"color: #0087ff; text-decoration-color: #0087ff\">Dropout</span>)               │ (<span style=\"color: #00d7ff; text-decoration-color: #00d7ff\">None</span>, <span style=\"color: #00af00; text-decoration-color: #00af00\">128</span>)            │             <span style=\"color: #00af00; text-decoration-color: #00af00\">0</span> │\n",
              "├─────────────────────────────────┼────────────────────────┼───────────────┤\n",
              "│ dense_3 (<span style=\"color: #0087ff; text-decoration-color: #0087ff\">Dense</span>)                 │ (<span style=\"color: #00d7ff; text-decoration-color: #00d7ff\">None</span>, <span style=\"color: #00af00; text-decoration-color: #00af00\">10</span>)             │         <span style=\"color: #00af00; text-decoration-color: #00af00\">1,290</span> │\n",
              "└─────────────────────────────────┴────────────────────────┴───────────────┘\n",
              "</pre>\n"
            ]
          },
          "metadata": {}
        },
        {
          "output_type": "display_data",
          "data": {
            "text/plain": [
              "\u001b[1m Total params: \u001b[0m\u001b[38;5;34m567,434\u001b[0m (2.16 MB)\n"
            ],
            "text/html": [
              "<pre style=\"white-space:pre;overflow-x:auto;line-height:normal;font-family:Menlo,'DejaVu Sans Mono',consolas,'Courier New',monospace\"><span style=\"font-weight: bold\"> Total params: </span><span style=\"color: #00af00; text-decoration-color: #00af00\">567,434</span> (2.16 MB)\n",
              "</pre>\n"
            ]
          },
          "metadata": {}
        },
        {
          "output_type": "display_data",
          "data": {
            "text/plain": [
              "\u001b[1m Trainable params: \u001b[0m\u001b[38;5;34m567,434\u001b[0m (2.16 MB)\n"
            ],
            "text/html": [
              "<pre style=\"white-space:pre;overflow-x:auto;line-height:normal;font-family:Menlo,'DejaVu Sans Mono',consolas,'Courier New',monospace\"><span style=\"font-weight: bold\"> Trainable params: </span><span style=\"color: #00af00; text-decoration-color: #00af00\">567,434</span> (2.16 MB)\n",
              "</pre>\n"
            ]
          },
          "metadata": {}
        },
        {
          "output_type": "display_data",
          "data": {
            "text/plain": [
              "\u001b[1m Non-trainable params: \u001b[0m\u001b[38;5;34m0\u001b[0m (0.00 B)\n"
            ],
            "text/html": [
              "<pre style=\"white-space:pre;overflow-x:auto;line-height:normal;font-family:Menlo,'DejaVu Sans Mono',consolas,'Courier New',monospace\"><span style=\"font-weight: bold\"> Non-trainable params: </span><span style=\"color: #00af00; text-decoration-color: #00af00\">0</span> (0.00 B)\n",
              "</pre>\n"
            ]
          },
          "metadata": {}
        }
      ]
    },
    {
      "cell_type": "markdown",
      "source": [
        "```\n",
        "# Compile the NN\n",
        "model.compile(\n",
        "    loss=keras.losses.SparseCategoricalCrossentropy(),\n",
        "    optimizer=keras.optimizers.Adam(learning_rate=1e-3),\n",
        "    metrics=[\n",
        "        keras.metrics.SparseCategoricalAccuracy(name=\"acc\"),\n",
        "    ],\n",
        ")\n",
        "```"
      ],
      "metadata": {
        "id": "g90FLogMNmn3"
      }
    },
    {
      "cell_type": "code",
      "source": [
        "model.compile(\n",
        "    loss=keras.losses.SparseCategoricalCrossentropy(),\n",
        "    optimizer=keras.optimizers.Adam(learning_rate=1e-3),\n",
        "    metrics=[\n",
        "        keras.metrics.SparseCategoricalAccuracy(name=\"acc\"),\n",
        "    ],\n",
        ")"
      ],
      "metadata": {
        "id": "Hbez8lSCo9uV"
      },
      "execution_count": 21,
      "outputs": []
    },
    {
      "cell_type": "markdown",
      "source": [
        "```\n",
        "batch_size = 128\n",
        "epochs = 5\n",
        "\n",
        "model.fit(\n",
        "    X_train,\n",
        "    y_train,\n",
        "    batch_size=batch_size,\n",
        "    epochs=epochs,\n",
        "    validation_split=0.15\n",
        ")\n",
        "score = model.evaluate(X_test, y_test, verbose=0)\n",
        "```"
      ],
      "metadata": {
        "id": "TjAhm9MsNyEb",
        "outputId": "6e7e010e-a375-4d89-811a-da1366d2b982"
      }
    },
    {
      "cell_type": "code",
      "source": [
        "\n",
        "\n",
        "batch_size = 128\n",
        "epochs = 5\n",
        "\n",
        "model.fit(\n",
        "    X_train,\n",
        "    y_train,\n",
        "    batch_size=batch_size,\n",
        "    epochs=epochs,\n",
        "    validation_split=0.15\n",
        ")\n",
        "score = model.evaluate(X_test, y_test, verbose=0)\n",
        "\n"
      ],
      "metadata": {
        "id": "z1nSjSfro-_2",
        "outputId": "ec89fe7d-fd8d-4369-d82b-0656ce984e43",
        "colab": {
          "base_uri": "https://localhost:8080/"
        }
      },
      "execution_count": 22,
      "outputs": [
        {
          "output_type": "stream",
          "name": "stdout",
          "text": [
            "Epoch 1/5\n",
            "\u001b[1m399/399\u001b[0m \u001b[32m━━━━━━━━━━━━━━━━━━━━\u001b[0m\u001b[37m\u001b[0m \u001b[1m18s\u001b[0m 35ms/step - acc: 0.8169 - loss: 0.5934 - val_acc: 0.9647 - val_loss: 0.1119\n",
            "Epoch 2/5\n",
            "\u001b[1m399/399\u001b[0m \u001b[32m━━━━━━━━━━━━━━━━━━━━\u001b[0m\u001b[37m\u001b[0m \u001b[1m6s\u001b[0m 16ms/step - acc: 0.9637 - loss: 0.1287 - val_acc: 0.9740 - val_loss: 0.0863\n",
            "Epoch 3/5\n",
            "\u001b[1m399/399\u001b[0m \u001b[32m━━━━━━━━━━━━━━━━━━━━\u001b[0m\u001b[37m\u001b[0m \u001b[1m11s\u001b[0m 17ms/step - acc: 0.9761 - loss: 0.0815 - val_acc: 0.9731 - val_loss: 0.0886\n",
            "Epoch 4/5\n",
            "\u001b[1m399/399\u001b[0m \u001b[32m━━━━━━━━━━━━━━━━━━━━\u001b[0m\u001b[37m\u001b[0m \u001b[1m15s\u001b[0m 30ms/step - acc: 0.9827 - loss: 0.0621 - val_acc: 0.9783 - val_loss: 0.0830\n",
            "Epoch 5/5\n",
            "\u001b[1m399/399\u001b[0m \u001b[32m━━━━━━━━━━━━━━━━━━━━\u001b[0m\u001b[37m\u001b[0m \u001b[1m16s\u001b[0m 39ms/step - acc: 0.9884 - loss: 0.0391 - val_acc: 0.9807 - val_loss: 0.0750\n"
          ]
        }
      ]
    },
    {
      "cell_type": "markdown",
      "source": [
        "```\n",
        "score\n",
        "```"
      ],
      "metadata": {
        "id": "aUsBVV1SORwX",
        "outputId": "4edeace2-b010-4aa9-f950-c03a10d5075a"
      }
    },
    {
      "cell_type": "code",
      "source": [
        "score"
      ],
      "metadata": {
        "id": "2JJpfCCApCek",
        "outputId": "f55dc541-1eb3-4272-f63f-a5598763d62b",
        "colab": {
          "base_uri": "https://localhost:8080/"
        }
      },
      "execution_count": 23,
      "outputs": [
        {
          "output_type": "execute_result",
          "data": {
            "text/plain": [
              "[0.07661537826061249, 0.9776999950408936]"
            ]
          },
          "metadata": {},
          "execution_count": 23
        }
      ]
    },
    {
      "cell_type": "markdown",
      "source": [
        "```\n",
        "predictions = model.predict(X_test)\n",
        "```"
      ],
      "metadata": {
        "id": "hGi2JveDOrM-",
        "outputId": "4e29985d-d023-453d-a1f5-f9237fac5727"
      }
    },
    {
      "cell_type": "code",
      "source": [
        "predictions = model.predict(X_test)"
      ],
      "metadata": {
        "id": "LnlAQBHMpHaK",
        "outputId": "6d0a72a5-3818-42a5-952d-2d272c124c60",
        "colab": {
          "base_uri": "https://localhost:8080/"
        }
      },
      "execution_count": 24,
      "outputs": [
        {
          "output_type": "stream",
          "name": "stdout",
          "text": [
            "\u001b[1m313/313\u001b[0m \u001b[32m━━━━━━━━━━━━━━━━━━━━\u001b[0m\u001b[37m\u001b[0m \u001b[1m1s\u001b[0m 3ms/step\n"
          ]
        }
      ]
    },
    {
      "cell_type": "markdown",
      "source": [
        "```\n",
        "from sklearn.metrics import accuracy_score, precision_recall_fscore_support\n",
        "accuracy_score(y_test, predictions.argmax(axis=1))\n",
        "```"
      ],
      "metadata": {
        "id": "yclKAhgTOtm3",
        "outputId": "7ff2194d-049a-49e5-8136-11c5d8064d9f"
      }
    },
    {
      "cell_type": "code",
      "source": [
        "\n",
        "\n",
        "from sklearn.metrics import accuracy_score, precision_recall_fscore_support\n",
        "accuracy_score(y_test, predictions.argmax(axis=1))\n",
        "\n"
      ],
      "metadata": {
        "id": "HcKViX5dpJC3",
        "outputId": "0a36a55c-fe3c-4ab1-da64-f0b5c92b15ac",
        "colab": {
          "base_uri": "https://localhost:8080/"
        }
      },
      "execution_count": 25,
      "outputs": [
        {
          "output_type": "execute_result",
          "data": {
            "text/plain": [
              "0.9777"
            ]
          },
          "metadata": {},
          "execution_count": 25
        }
      ]
    },
    {
      "cell_type": "markdown",
      "source": [
        "```\n",
        "precision_recall_fscore_support(y_test, predictions.argmax(axis=1))\n",
        "```"
      ],
      "metadata": {
        "id": "CJQhNdJSO9_p",
        "outputId": "c8764e04-a4ce-4017-d060-7985a9468b30"
      }
    },
    {
      "cell_type": "code",
      "source": [
        "\n",
        "\n",
        "precision_recall_fscore_support(y_test, predictions.argmax(axis=1))\n",
        "\n"
      ],
      "metadata": {
        "id": "LNlpxMUtpKEe",
        "outputId": "7ba86e36-d48e-440b-f033-7ef155041ea5",
        "colab": {
          "base_uri": "https://localhost:8080/"
        }
      },
      "execution_count": 26,
      "outputs": [
        {
          "output_type": "execute_result",
          "data": {
            "text/plain": [
              "(array([0.98868313, 0.99204947, 0.97866149, 0.97532083, 0.96865521,\n",
              "        0.98183882, 0.97122302, 0.98609732, 0.96741344, 0.96568627]),\n",
              " array([0.98061224, 0.98942731, 0.97771318, 0.97821782, 0.97556008,\n",
              "        0.96973094, 0.98643006, 0.96595331, 0.97535934, 0.97621407]),\n",
              " array([0.98463115, 0.99073666, 0.97818711, 0.97676718, 0.97209538,\n",
              "        0.97574732, 0.97876748, 0.97592138, 0.97137014, 0.97092164]),\n",
              " array([ 980, 1135, 1032, 1010,  982,  892,  958, 1028,  974, 1009]))"
            ]
          },
          "metadata": {},
          "execution_count": 26
        }
      ]
    },
    {
      "cell_type": "markdown",
      "source": [
        "## Retrieval Practice"
      ],
      "metadata": {
        "id": "zcA9mYUn2wab"
      }
    },
    {
      "cell_type": "markdown",
      "source": [
        "## Convoluational Neural Network\n",
        "- Uses convolutional layers to extract spatial features, followed by pooling layers to reduce dimensions.\n",
        "- Designed for 2D/3D structured data like images, videos, or volumetric data.\n",
        "- Automatically extracts spatial and hierarchical features using filters/kernels.\n",
        "- Preserves local spatial structures using convolution operations."
      ],
      "metadata": {
        "id": "GQOkPvMDPR-6"
      }
    },
    {
      "cell_type": "markdown",
      "source": [
        "```\n",
        "import matplotlib.animation as animation\n",
        "from scipy.signal import convolve2d\n",
        "\n",
        "# Create a 6×6 input image (example)\n",
        "image = np.random.rand(6, 6)\n",
        "\n",
        "#image = np.array([\n",
        "#    [1, 1, 1, 1, 1, 0],\n",
        "#    [0, 0, 0, 0, 1, 0],\n",
        "#    [0, 0, 1, 1, 1, 0],\n",
        "#    [0, 0, 0, 0, 1, 0],\n",
        "#    [0, 0, 0, 0, 1, 0],\n",
        "#    [1, 1, 1, 1, 1, 0],\n",
        "#])\n",
        "\n",
        "# Define a 3×3 filter (edge detection example)\n",
        "kernel = np.array([\n",
        "    [1,  0, -1],\n",
        "    [1,  0, -1],\n",
        "    [1,  0, -1]\n",
        "])\n",
        "\n",
        "# Perform 2D convolution\n",
        "feature_map = convolve2d(image, kernel, mode=\"valid\")\n",
        "\n",
        "feature_map\n",
        "```"
      ],
      "metadata": {
        "id": "S-WY3AOarZuY",
        "outputId": "e3c999e0-667a-4f49-d0a7-fc3dccc0943f"
      }
    },
    {
      "cell_type": "code",
      "source": [
        "\n",
        "\n",
        "import matplotlib.animation as animation\n",
        "from scipy.signal import convolve2d\n",
        "\n",
        "# Create a 6×6 input image (example)\n",
        "image = np.random.rand(6, 6)\n",
        "\n",
        "# image = np.array([\n",
        "#    [1, 1, 1, 1, 1, 0],\n",
        "#    [0, 0, 0, 0, 1, 0],\n",
        "#    [0, 0, 1, 1, 1, 0],\n",
        "#    [0, 0, 0, 0, 1, 0],\n",
        "#    [0, 0, 0, 0, 1, 0],\n",
        "#    [1, 1, 1, 1, 1, 0],\n",
        "# ])\n",
        "\n",
        "# Define a 3×3 filter (edge detection example)\n",
        "kernel = np.array([\n",
        "    [1,  0, -1],\n",
        "    [1,  0, -1],\n",
        "    [1,  0, -1]\n",
        "])\n",
        "\n",
        "# Perform 2D convolution\n",
        "feature_map = convolve2d(image, kernel, mode=\"valid\")\n",
        "\n",
        "feature_map\n",
        "\n"
      ],
      "metadata": {
        "id": "KexA4st7pLfv",
        "outputId": "6f3ab221-9743-4500-ca24-0c7ad2b5eae0",
        "colab": {
          "base_uri": "https://localhost:8080/"
        }
      },
      "execution_count": 27,
      "outputs": [
        {
          "output_type": "execute_result",
          "data": {
            "text/plain": [
              "array([[ 0.37335817,  1.34299221,  0.69945437, -0.68607223],\n",
              "       [-0.07429823,  0.84922963,  0.2184171 , -0.47748364],\n",
              "       [ 0.17259983,  0.21695716,  0.20573246, -0.28258731],\n",
              "       [ 0.22742789, -0.76114152, -0.73007217,  0.15019771]])"
            ]
          },
          "metadata": {},
          "execution_count": 27
        }
      ]
    },
    {
      "cell_type": "markdown",
      "source": [
        "```\n",
        "# Animation setup\n",
        "fig, axes = plt.subplots(1, 2, figsize=(8, 4))\n",
        "\n",
        "# Initialize images\n",
        "ax1, ax2 = axes\n",
        "img1 = ax1.imshow(image, cmap=\"gray\", interpolation=\"none\")\n",
        "img2 = ax2.imshow(feature_map, cmap=\"gray\", interpolation=\"none\")\n",
        "\n",
        "ax1.set_title(\"Original Image\")\n",
        "ax2.set_title(\"Feature Map\")\n",
        "\n",
        "# Disable axis ticks\n",
        "ax1.set_xticks([])\n",
        "ax1.set_yticks([])\n",
        "ax2.set_xticks([])\n",
        "ax2.set_yticks([])\n",
        "\n",
        "# Highlight the sliding filter (kernel) position\n",
        "kernel_size = 2\n",
        "rect = plt.Rectangle((0, 0), kernel_size, kernel_size, edgecolor=\"red\", facecolor=\"none\", linewidth=2)\n",
        "ax1.add_patch(rect)\n",
        "\n",
        "# Update function for animation\n",
        "def update(frame):\n",
        "    row = frame // (image.shape[1] - kernel_size)\n",
        "    col = frame % (image.shape[1] - kernel_size)\n",
        "\n",
        "    # Update rectangle position\n",
        "    rect.set_xy((col, row))\n",
        "\n",
        "    return img1, img2, rect\n",
        "\n",
        "# Number of steps in the convolution (valid mode: 4x4 output feature map)\n",
        "num_steps = feature_map.shape[0] * feature_map.shape[1]\n",
        "\n",
        "# Create animation\n",
        "ani = animation.FuncAnimation(fig, update, frames=num_steps, interval=500, blit=False)\n",
        "\n",
        "# Save animation\n",
        "animation_path = \"convolution_animation.gif\"\n",
        "ani.save(animation_path, writer=\"pillow\", fps=2)\n",
        "\n",
        "```"
      ],
      "metadata": {
        "id": "4LbANnutsCtn",
        "outputId": "8311e771-9143-4fd9-b602-7f6c2d40cd24"
      }
    },
    {
      "cell_type": "code",
      "source": [
        "# Animation setup\n",
        "fig, axes = plt.subplots(1, 2, figsize=(8, 4))\n",
        "\n",
        "# Initialize images\n",
        "ax1, ax2 = axes\n",
        "img1 = ax1.imshow(image, cmap=\"gray\", interpolation=\"none\")\n",
        "img2 = ax2.imshow(feature_map, cmap=\"gray\", interpolation=\"none\")\n",
        "\n",
        "ax1.set_title(\"Original Image\")\n",
        "ax2.set_title(\"Feature Map\")\n",
        "\n",
        "# Disable axis ticks\n",
        "ax1.set_xticks([])\n",
        "ax1.set_yticks([])\n",
        "ax2.set_xticks([])\n",
        "ax2.set_yticks([])\n",
        "\n",
        "# Highlight the sliding filter (kernel) position\n",
        "kernel_size = 2\n",
        "rect = plt.Rectangle((0, 0), kernel_size, kernel_size, edgecolor=\"red\", facecolor=\"none\", linewidth=2)\n",
        "ax1.add_patch(rect)\n",
        "\n",
        "# Update function for animation\n",
        "def update(frame):\n",
        "    row = frame // (image.shape[1] - kernel_size)\n",
        "    col = frame % (image.shape[1] - kernel_size)\n",
        "\n",
        "    # Update rectangle position\n",
        "    rect.set_xy((col, row))\n",
        "\n",
        "    return img1, img2, rect\n",
        "\n",
        "# Number of steps in the convolution (valid mode: 4x4 output feature map)\n",
        "num_steps = feature_map.shape[0] * feature_map.shape[1]\n",
        "\n",
        "# Create animation\n",
        "ani = animation.FuncAnimation(fig, update, frames=num_steps, interval=500, blit=False)\n",
        "\n",
        "# Save animation\n",
        "animation_path = \"convolution_animation.gif\"\n",
        "ani.save(animation_path, writer=\"pillow\", fps=2)"
      ],
      "metadata": {
        "id": "HQicr75zpNRD",
        "outputId": "066e5e4d-811d-4a66-b3c9-89e963ca2e5a",
        "colab": {
          "base_uri": "https://localhost:8080/",
          "height": 341
        }
      },
      "execution_count": 28,
      "outputs": [
        {
          "output_type": "display_data",
          "data": {
            "text/plain": [
              "<Figure size 800x400 with 2 Axes>"
            ],
            "image/png": "[encoded data removed]"
          },
          "metadata": {}
        }
      ]
    },
    {
      "cell_type": "markdown",
      "source": [
        "```\n",
        "# Model parameters\n",
        "num_classes = 10\n",
        "input_shape = (28, 28, 1)\n",
        "\n",
        "model_cnn = keras.Sequential(\n",
        "    [\n",
        "        keras.layers.Input(shape=input_shape),\n",
        "        keras.layers.Conv2D(64, kernel_size=(3, 3), activation=\"relu\"),\n",
        "        keras.layers.Conv2D(64, kernel_size=(3, 3), activation=\"relu\"),\n",
        "        keras.layers.MaxPooling2D(pool_size=(2, 2)),\n",
        "        keras.layers.Conv2D(128, kernel_size=(3, 3), activation=\"relu\"),\n",
        "        keras.layers.Conv2D(128, kernel_size=(3, 3), activation=\"relu\"),\n",
        "        keras.layers.GlobalAveragePooling2D(),\n",
        "        keras.layers.Dropout(0.5),\n",
        "        keras.layers.Dense(num_classes, activation=\"softmax\"),\n",
        "    ]\n",
        ")\n",
        "```"
      ],
      "metadata": {
        "id": "qm74KU90MloI"
      }
    },
    {
      "cell_type": "code",
      "source": [
        "\n",
        "\n",
        "# Model parameters\n",
        "num_classes = 10\n",
        "input_shape = (28, 28, 1)\n",
        "\n",
        "model_cnn = keras.Sequential(\n",
        "    [\n",
        "        keras.layers.Input(shape=input_shape),\n",
        "        keras.layers.Conv2D(64, kernel_size=(3, 3), activation=\"relu\"),\n",
        "        keras.layers.Conv2D(64, kernel_size=(3, 3), activation=\"relu\"),\n",
        "        keras.layers.MaxPooling2D(pool_size=(2, 2)),\n",
        "        keras.layers.Conv2D(128, kernel_size=(3, 3), activation=\"relu\"),\n",
        "        keras.layers.Conv2D(128, kernel_size=(3, 3), activation=\"relu\"),\n",
        "        keras.layers.GlobalAveragePooling2D(),\n",
        "        keras.layers.Dropout(0.5),\n",
        "        keras.layers.Dense(num_classes, activation=\"softmax\"),\n",
        "    ]\n",
        ")\n",
        "\n"
      ],
      "metadata": {
        "id": "UxR5SXsPpO88"
      },
      "execution_count": 29,
      "outputs": []
    },
    {
      "cell_type": "markdown",
      "source": [
        "```\n",
        "# Compile the CNN\n",
        "model_cnn.compile(\n",
        "    loss=keras.losses.SparseCategoricalCrossentropy(),\n",
        "    optimizer=keras.optimizers.Adam(learning_rate=1e-3),\n",
        "    metrics=[\n",
        "        keras.metrics.SparseCategoricalAccuracy(name=\"acc\"),\n",
        "    ],\n",
        ")\n",
        "```"
      ],
      "metadata": {
        "id": "YzqdM8cMPjtx"
      }
    },
    {
      "cell_type": "code",
      "source": [
        "\n",
        "\n",
        "# Compile the CNN\n",
        "model_cnn.compile(\n",
        "    loss=keras.losses.SparseCategoricalCrossentropy(),\n",
        "    optimizer=keras.optimizers.Adam(learning_rate=1e-3),\n",
        "    metrics=[\n",
        "        keras.metrics.SparseCategoricalAccuracy(name=\"acc\"),\n",
        "    ],\n",
        ")\n",
        "\n"
      ],
      "metadata": {
        "id": "ib8QYRVUpP_g"
      },
      "execution_count": 30,
      "outputs": []
    },
    {
      "cell_type": "markdown",
      "source": [
        "```\n",
        "batch_size = 128\n",
        "epochs = 1\n",
        "\n",
        "model_cnn.fit(\n",
        "    X_train,\n",
        "    y_train,\n",
        "    batch_size=batch_size,\n",
        "    epochs=epochs,\n",
        "    validation_split=0.15\n",
        ")\n",
        "```"
      ],
      "metadata": {
        "id": "yrYQI-7kPaI9",
        "outputId": "7afd1669-0d9f-4b69-9c41-4c79ef19798e"
      }
    },
    {
      "cell_type": "code",
      "source": [
        "\n",
        "\n",
        "batch_size = 128\n",
        "epochs = 1\n",
        "\n",
        "model_cnn.fit(\n",
        "    X_train,\n",
        "    y_train,\n",
        "    batch_size=batch_size,\n",
        "    epochs=epochs,\n",
        "    validation_split=0.15\n",
        ")\n",
        "\n"
      ],
      "metadata": {
        "id": "3Nl4tHO0pQ6-",
        "outputId": "f7ceee33-b754-4f53-8d38-44040bbaf55f",
        "colab": {
          "base_uri": "https://localhost:8080/"
        }
      },
      "execution_count": 31,
      "outputs": [
        {
          "output_type": "stream",
          "name": "stdout",
          "text": [
            "\u001b[1m399/399\u001b[0m \u001b[32m━━━━━━━━━━━━━━━━━━━━\u001b[0m\u001b[37m\u001b[0m \u001b[1m338s\u001b[0m 842ms/step - acc: 0.5672 - loss: 1.2230 - val_acc: 0.9646 - val_loss: 0.1236\n"
          ]
        },
        {
          "output_type": "execute_result",
          "data": {
            "text/plain": [
              "<keras.src.callbacks.history.History at 0x781fd99265d0>"
            ]
          },
          "metadata": {},
          "execution_count": 31
        }
      ]
    },
    {
      "cell_type": "markdown",
      "source": [
        "```\n",
        "predictions_cnn = model_cnn.predict(X_test)\n",
        "```"
      ],
      "metadata": {
        "id": "GNTKhQGGPf5f",
        "outputId": "bdc3181b-a546-43a0-e0ed-302f6019af32"
      }
    },
    {
      "cell_type": "code",
      "source": [
        "predictions_cnn = model_cnn.predict(X_test)"
      ],
      "metadata": {
        "id": "AHx6LKF6pRwz",
        "outputId": "bbcfa9e0-13b2-48f5-9460-da71852f6803",
        "colab": {
          "base_uri": "https://localhost:8080/"
        }
      },
      "execution_count": 32,
      "outputs": [
        {
          "output_type": "stream",
          "name": "stdout",
          "text": [
            "\u001b[1m313/313\u001b[0m \u001b[32m━━━━━━━━━━━━━━━━━━━━\u001b[0m\u001b[37m\u001b[0m \u001b[1m17s\u001b[0m 54ms/step\n"
          ]
        }
      ]
    },
    {
      "cell_type": "markdown",
      "source": [
        "```\n",
        "precision_recall_fscore_support(y_test, predictions_cnn.argmax(axis=1))\n",
        "```"
      ],
      "metadata": {
        "id": "jPc2y-_EP9LZ",
        "outputId": "640e26c7-f8b6-4449-d839-7acafc852ea6"
      }
    },
    {
      "cell_type": "code",
      "source": [
        "\n",
        "\n",
        "precision_recall_fscore_support(y_test, predictions_cnn.argmax(axis=1))\n",
        "\n"
      ],
      "metadata": {
        "id": "TGnLc-ntpSgo",
        "outputId": "e4ab477b-9978-49e5-dfbd-ce87054c45e2",
        "colab": {
          "base_uri": "https://localhost:8080/"
        }
      },
      "execution_count": 33,
      "outputs": [
        {
          "output_type": "execute_result",
          "data": {
            "text/plain": [
              "(array([0.97931748, 0.99377224, 0.91415525, 0.96278159, 0.98659794,\n",
              "        0.968     , 0.97584034, 0.96042471, 0.98297872, 0.95098039]),\n",
              " array([0.96632653, 0.98414097, 0.96996124, 0.97326733, 0.97454175,\n",
              "        0.94955157, 0.9697286 , 0.96789883, 0.9486653 , 0.96134787]),\n",
              " array([0.97277863, 0.98893316, 0.94123178, 0.96799606, 0.98053279,\n",
              "        0.95868704, 0.97277487, 0.96414729, 0.96551724, 0.95613603]),\n",
              " array([ 980, 1135, 1032, 1010,  982,  892,  958, 1028,  974, 1009]))"
            ]
          },
          "metadata": {},
          "execution_count": 33
        }
      ]
    },
    {
      "cell_type": "markdown",
      "source": [
        "## Retrieval Practice"
      ],
      "metadata": {
        "id": "hTFAUe_721c5"
      }
    },
    {
      "cell_type": "markdown",
      "source": [
        "## Challenges and Factors in Neural Network Applications"
      ],
      "metadata": {
        "id": "ehibvL4VQo2s"
      }
    },
    {
      "cell_type": "markdown",
      "metadata": {
        "id": "-IGvtAIojUFm"
      },
      "source": [
        "### Number of Hidden Layers\n",
        "\n",
        "- For many problems, you can begin with a single hidden layer and get reasonable results.\n",
        "- An MLP with just one hidden layer can theoretically model even the most complex functions, provided it has enough neurons.\n",
        "- For complex problems, deep networks have a much higher parameter efficiency than shallow ones: they can model complex functions using exponentially fewer neurons than shallow nets, allowing them to reach much better performance with the same amount of training data.\n",
        "\n",
        "To understand why, suppose you are asked to draw a forest using some drawing software, but you are forbidden to copy and paste anything. It would take an enormous amount of time: you would have to draw each tree individually, branch by branch, leaf by leaf. If you could instead draw one leaf, copy and paste it to draw a branch, then copy and paste that branch to create a tree, and finally copy and paste this tree to make a forest, you would be finished in no time. Real-world data is often structured in such a hierarchical way, and deep neural networks automatically take advantage of this fact: lower hidden layers model low-level structures (e.g., line segments of various shapes and orientations), intermediate hidden layers combine these low-level structures to model intermediate-level structures (e.g., squares, circles), and the highest hidden layers and the output layer combine these intermediate structures to model high-level structures (e.g., faces).\n",
        "\n",
        "Not only does this hierarchical architecture help DNNs converge faster to a good solution, but it also improves their ability to generalize to new datasets. For example, if you have already trained a model to recognize faces in pictures and you now want to train a new neural network to recognize hairstyles, you can kickstart the training by reusing the lower layers of the first network. Instead of randomly initializing the weights and biases of the first few layers of the new neural network, you can initialize them to the values of the weights and biases of the lower layers of the first network. This way the network will not have to learn from scratch all the low-level structures that occur in most pictures; it will only have to learn the higher-level structures (e.g., hairstyles). This is called *transfer learning*.\n",
        "\n",
        "In summary, for many problems you can start with just one or two hidden layers and the neural network will work just fine. For instance, you can easily reach above 97% accuracy on the MNIST dataset using just one hidden layer with a few hundred neurons, and above 98% accuracy using two hidden layers with the same total number of neurons, in roughly the same amount of training time. For more complex problems, you can ramp up the number of hidden layers until you start overfitting the training set. Very complex tasks, such as large image classification or speech recognition, typically require networks with dozens of layers (or even hundreds, but not fully connected ones), and they need a huge amount of training data. You will rarely have to train such networks from scratch: it is much more common to reuse parts of a pretrained state-of-the-art network that performs a similar task. Training will then be a lot faster and require much less data.\n"
      ]
    },
    {
      "cell_type": "markdown",
      "metadata": {
        "id": "7M8ZkVTfjUFm"
      },
      "source": [
        "### Number of Neurons per Hidden Layer\n",
        "\n",
        "- The number of neurons in the input and output layers is determined by the type of input and output your task requires. - For example, the MNIST task requires 28 × 28 = 784 input neurons and 10 output neurons.\n",
        "\n",
        "As for the hidden layers, it used to be common to size them to form a pyramid, with fewer and fewer neurons at each layer—the rationale being that many low-level features can coalesce into far fewer high-level features. A typical neural network for MNIST might have 3 hidden layers, the first with 300 neurons, the second with 200, and the third with 100. However, this practice has been largely abandoned because it seems that using the same number of neurons in all hidden layers performs just as well in most cases, or even better; plus, there is only one hyperparameter to tune, instead of one per layer. That said, depending on the dataset, it can sometimes help to make the first hidden layer bigger than the others.\n",
        "\n",
        "Just like the number of layers, you can try increasing the number of neurons gradually until the network starts overfitting. But in practice, it’s often simpler and more efficient to pick a model with more layers and neurons than you actually need, then use early stopping and other regularization techniques to prevent it from overfitting.\n",
        "\n",
        "Vincent Vanhoucke, a scientist at Google, has dubbed this the “stretch pants” approach: instead of wasting time looking for pants that perfectly match your size, just use large stretch pants that will shrink down to the right size. With this approach, you avoid bottleneck layers that could ruin your model. On the flip side, if a layer has too few neurons, it will not have enough representational power to preserve all the useful information from the inputs (e.g., a layer with two neurons can only output 2D data, so if it processes 3D data, some information will be lost). No matter how big and powerful the rest of the network is, that information will never be recovered."
      ]
    },
    {
      "cell_type": "markdown",
      "metadata": {
        "id": "Eho-mmFQjUFn"
      },
      "source": [
        "### Learning Rate, Batch Size, and Other Hyperparameters\n",
        "\n",
        "- The numbers of hidden layers and neurons are not the only hyperparameters you can tweak in an MLP. Here are some of the most important ones, as well as tips on how to set them:\n",
        "\n",
        "\n",
        "* **Learning rate**    \n",
        "The learning rate is arguably the most important hyperparameter. In general, the optimal learning rate is about half of the maximum learning rate (i.e., the learning rate above which the training algorithm diverges). One way to find a good learning rate is to train the model for a few hundred iterations, starting with a very low learning rate (e.g., $10^{-5}$) and gradually increasing it up to a very large value (e.g., $10$). This is done by multiplying the learning rate by a constant factor at each iteration to go from $10^{-5}$ to $10$ in $500$ iterations). If you plot the loss as a function of the learning rate (using a log scale for the learning rate), you should see it dropping at first. But after a while, the learning rate will be too large, so the loss will shoot back up: the optimal learning rate will be a bit lower than the point at which the loss starts to climb (typically about $10$ times lower than the turning point). You can then reinitialize your model and train it normally using this good learning rate.\n",
        "        \n",
        "            \n",
        "\n",
        "* **Optimizer**    \n",
        "Choosing a better optimizer than plain old Mini-batch Gradient Descent (and tuning its hyperparameters) is also quite important.\n",
        "\n",
        "    \n",
        "* **Batch size**    \n",
        "The batch size can have a significant impact on your model’s performance and training time. The main benefit of using large batch sizes is that hardware accelerators like GPUs can process them efficiently, so the training algorithm will see more instances per second. Therefore, many researchers and practitioners recommend using the largest batch size that can fit in GPU RAM. There’s a catch, though: in practice, large batch sizes often lead to training instabilities, especially at the beginning of training, and the resulting model may not generalize as well as a model trained with a smaller batch size. One strategy is to try to use a large batch size, using learning rate warmup, and if training is unstable or the final performance is disappointing, then try using a small batch size instead.\n",
        "    \n",
        "    \n",
        "* **Activation function**    \n",
        "In general, the `ReLU` activation function will be a good default for all hidden layers. For the output layer, it really depends on your task.\n",
        "\n",
        "    \n",
        "* **Number of iterations**    \n",
        "In most cases, the number of training iterations does not actually need to be tweaked: just use early stopping instead.\n",
        "\n",
        "For more best practices regarding tuning neural network hyperparameters, check out the excellent [2018 paper](https://arxiv.org/abs/1803.09820) by Leslie Smith."
      ]
    },
    {
      "cell_type": "markdown",
      "source": [
        "## Retrieval Practice"
      ],
      "metadata": {
        "id": "JI-CCBZS24ct"
      }
    },
    {
      "cell_type": "markdown",
      "source": [
        "```\n",
        "\n",
        "```"
      ],
      "metadata": {
        "id": "8lb4LyuGSll8"
      }
    }
  ]
}