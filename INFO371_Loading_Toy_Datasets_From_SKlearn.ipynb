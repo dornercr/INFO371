{
  "nbformat": 4,
  "nbformat_minor": 0,
  "metadata": {
    "colab": {
      "provenance": [],
      "authorship_tag": "ABX9TyPLAnbuho2XaYXAYvQ9xyey",
      "include_colab_link": true
    },
    "kernelspec": {
      "name": "python3",
      "display_name": "Python 3"
    },
    "language_info": {
      "name": "python"
    }
  },
  "cells": [
    {
      "cell_type": "markdown",
      "metadata": {
        "id": "view-in-github",
        "colab_type": "text"
      },
      "source": [
        "<a href=\"https://colab.research.google.com/github/dornercr/INFO371/blob/main/INFO371_Loading_Toy_Datasets_From_SKlearn.ipynb\" target=\"_parent\"><img src=\"https://colab.research.google.com/assets/colab-badge.svg\" alt=\"Open In Colab\"/></a>"
      ]
    },
    {
      "cell_type": "markdown",
      "source": [
        "### 🔹 Listing Toy Datasets in scikit-learn\n",
        "\n",
        "This code lists all functions in `sklearn.datasets` that begin with `load_`. These represent built-in toy datasets such as iris, wine, and digits, which can be used for quick machine learning practice.\n"
      ],
      "metadata": {
        "id": "dQirKvd33i7L"
      }
    },
    {
      "cell_type": "code",
      "source": [
        "import sklearn.datasets as ds\n",
        "\n",
        "# List all built-in loader functions\n",
        "print([fn for fn in dir(ds) if fn.startswith(\"load_\")])\n"
      ],
      "metadata": {
        "colab": {
          "base_uri": "https://localhost:8080/"
        },
        "id": "6HzfWBlM3nLV",
        "outputId": "eb04f99c-a94e-4a24-9bae-e002a43813ff"
      },
      "execution_count": 1,
      "outputs": [
        {
          "output_type": "stream",
          "name": "stdout",
          "text": [
            "['load_breast_cancer', 'load_diabetes', 'load_digits', 'load_files', 'load_iris', 'load_linnerud', 'load_sample_image', 'load_sample_images', 'load_svmlight_file', 'load_svmlight_files', 'load_wine']\n"
          ]
        }
      ]
    },
    {
      "cell_type": "markdown",
      "source": [
        "### 🔹 Loading the Iris Dataset\n",
        "\n",
        "This code demonstrates how to load the Iris flower dataset. It shows the feature names (input variables), target names (class labels), and the shape of the data and target arrays. The last two lines preview the first five samples and their corresponding class labels.\n",
        "\n"
      ],
      "metadata": {
        "id": "90C-QfYP3tyB"
      }
    },
    {
      "cell_type": "code",
      "source": [
        "#load the toy data set\n",
        "from sklearn.datasets import load_iris\n",
        "\n",
        "# Load\n",
        "iris = load_iris()\n",
        "\n",
        "# Inspect\n",
        "print(\"Feature names:\", iris.feature_names)\n",
        "print(\"Target names:\", iris.target_names)\n",
        "print(\"Data shape:\", iris.data.shape)\n",
        "print(\"Target shape:\", iris.target.shape)\n",
        "print(\"First 5 samples:\\n\", iris.data[:5])\n",
        "print(\"First 5 targets:\", iris.target[:5])\n"
      ],
      "metadata": {
        "colab": {
          "base_uri": "https://localhost:8080/"
        },
        "id": "yszLHVDO3t8m",
        "outputId": "3152ddac-8e87-445b-ae4c-befc77bfc7ab"
      },
      "execution_count": 2,
      "outputs": [
        {
          "output_type": "stream",
          "name": "stdout",
          "text": [
            "Feature names: ['sepal length (cm)', 'sepal width (cm)', 'petal length (cm)', 'petal width (cm)']\n",
            "Target names: ['setosa' 'versicolor' 'virginica']\n",
            "Data shape: (150, 4)\n",
            "Target shape: (150,)\n",
            "First 5 samples:\n",
            " [[5.1 3.5 1.4 0.2]\n",
            " [4.9 3.  1.4 0.2]\n",
            " [4.7 3.2 1.3 0.2]\n",
            " [4.6 3.1 1.5 0.2]\n",
            " [5.  3.6 1.4 0.2]]\n",
            "First 5 targets: [0 0 0 0 0]\n"
          ]
        }
      ]
    },
    {
      "cell_type": "markdown",
      "source": [
        "### 🔹 General Structure to Load Any Dataset\n",
        "\n",
        "This code serves as a template to load and inspect any scikit-learn toy dataset. Replace `<dataset>` with names like `iris`, `wine`, `digits`, `diabetes`, or `breast_cancer`.\n"
      ],
      "metadata": {
        "id": "ufYzs48T3oNT"
      }
    },
    {
      "cell_type": "code",
      "source": [
        "from sklearn.datasets import (\n",
        "    load_iris, load_wine, load_breast_cancer,\n",
        "    load_digits, load_diabetes, load_linnerud\n",
        ")\n",
        "\n",
        "datasets = {\n",
        "    \"Iris\": load_iris(),\n",
        "    \"Wine\": load_wine(),\n",
        "    \"Breast Cancer\": load_breast_cancer(),\n",
        "    \"Digits\": load_digits(),\n",
        "    \"Diabetes\": load_diabetes(),\n",
        "    \"Linnerud\": load_linnerud()\n",
        "}\n",
        "\n",
        "for name, data in datasets.items():\n",
        "    print(f\"\\n=== {name} Dataset ===\")\n",
        "    print(\"Short Description:\", data['DESCR'].split('\\n')[0])\n",
        "    print(\"Feature Names:\", data.feature_names if 'feature_names' in data else 'Not available')\n",
        "    print(\"Data Shape:\", data.data.shape)\n",
        "    print(\"Target Shape:\", data.target.shape)\n",
        "    print(\"Target Classes:\", data.target_names if 'target_names' in data else 'Regression values')\n"
      ],
      "metadata": {
        "colab": {
          "base_uri": "https://localhost:8080/"
        },
        "id": "HlpQOpjj3Ijc",
        "outputId": "a9c70d87-01c9-4003-ad8e-19be9376821a"
      },
      "execution_count": 3,
      "outputs": [
        {
          "output_type": "stream",
          "name": "stdout",
          "text": [
            "\n",
            "=== Iris Dataset ===\n",
            "Short Description: .. _iris_dataset:\n",
            "Feature Names: ['sepal length (cm)', 'sepal width (cm)', 'petal length (cm)', 'petal width (cm)']\n",
            "Data Shape: (150, 4)\n",
            "Target Shape: (150,)\n",
            "Target Classes: ['setosa' 'versicolor' 'virginica']\n",
            "\n",
            "=== Wine Dataset ===\n",
            "Short Description: .. _wine_dataset:\n",
            "Feature Names: ['alcohol', 'malic_acid', 'ash', 'alcalinity_of_ash', 'magnesium', 'total_phenols', 'flavanoids', 'nonflavanoid_phenols', 'proanthocyanins', 'color_intensity', 'hue', 'od280/od315_of_diluted_wines', 'proline']\n",
            "Data Shape: (178, 13)\n",
            "Target Shape: (178,)\n",
            "Target Classes: ['class_0' 'class_1' 'class_2']\n",
            "\n",
            "=== Breast Cancer Dataset ===\n",
            "Short Description: .. _breast_cancer_dataset:\n",
            "Feature Names: ['mean radius' 'mean texture' 'mean perimeter' 'mean area'\n",
            " 'mean smoothness' 'mean compactness' 'mean concavity'\n",
            " 'mean concave points' 'mean symmetry' 'mean fractal dimension'\n",
            " 'radius error' 'texture error' 'perimeter error' 'area error'\n",
            " 'smoothness error' 'compactness error' 'concavity error'\n",
            " 'concave points error' 'symmetry error' 'fractal dimension error'\n",
            " 'worst radius' 'worst texture' 'worst perimeter' 'worst area'\n",
            " 'worst smoothness' 'worst compactness' 'worst concavity'\n",
            " 'worst concave points' 'worst symmetry' 'worst fractal dimension']\n",
            "Data Shape: (569, 30)\n",
            "Target Shape: (569,)\n",
            "Target Classes: ['malignant' 'benign']\n",
            "\n",
            "=== Digits Dataset ===\n",
            "Short Description: .. _digits_dataset:\n",
            "Feature Names: ['pixel_0_0', 'pixel_0_1', 'pixel_0_2', 'pixel_0_3', 'pixel_0_4', 'pixel_0_5', 'pixel_0_6', 'pixel_0_7', 'pixel_1_0', 'pixel_1_1', 'pixel_1_2', 'pixel_1_3', 'pixel_1_4', 'pixel_1_5', 'pixel_1_6', 'pixel_1_7', 'pixel_2_0', 'pixel_2_1', 'pixel_2_2', 'pixel_2_3', 'pixel_2_4', 'pixel_2_5', 'pixel_2_6', 'pixel_2_7', 'pixel_3_0', 'pixel_3_1', 'pixel_3_2', 'pixel_3_3', 'pixel_3_4', 'pixel_3_5', 'pixel_3_6', 'pixel_3_7', 'pixel_4_0', 'pixel_4_1', 'pixel_4_2', 'pixel_4_3', 'pixel_4_4', 'pixel_4_5', 'pixel_4_6', 'pixel_4_7', 'pixel_5_0', 'pixel_5_1', 'pixel_5_2', 'pixel_5_3', 'pixel_5_4', 'pixel_5_5', 'pixel_5_6', 'pixel_5_7', 'pixel_6_0', 'pixel_6_1', 'pixel_6_2', 'pixel_6_3', 'pixel_6_4', 'pixel_6_5', 'pixel_6_6', 'pixel_6_7', 'pixel_7_0', 'pixel_7_1', 'pixel_7_2', 'pixel_7_3', 'pixel_7_4', 'pixel_7_5', 'pixel_7_6', 'pixel_7_7']\n",
            "Data Shape: (1797, 64)\n",
            "Target Shape: (1797,)\n",
            "Target Classes: [0 1 2 3 4 5 6 7 8 9]\n",
            "\n",
            "=== Diabetes Dataset ===\n",
            "Short Description: .. _diabetes_dataset:\n",
            "Feature Names: ['age', 'sex', 'bmi', 'bp', 's1', 's2', 's3', 's4', 's5', 's6']\n",
            "Data Shape: (442, 10)\n",
            "Target Shape: (442,)\n",
            "Target Classes: Regression values\n",
            "\n",
            "=== Linnerud Dataset ===\n",
            "Short Description: .. _linnerrud_dataset:\n",
            "Feature Names: ['Chins', 'Situps', 'Jumps']\n",
            "Data Shape: (20, 3)\n",
            "Target Shape: (20, 3)\n",
            "Target Classes: ['Weight', 'Waist', 'Pulse']\n"
          ]
        }
      ]
    }
  ]
}